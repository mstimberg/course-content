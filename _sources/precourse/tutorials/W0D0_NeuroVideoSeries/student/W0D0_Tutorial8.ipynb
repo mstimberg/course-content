{
 "cells": [
  {
   "cell_type": "markdown",
   "metadata": {
    "colab_type": "text",
    "execution": {},
    "id": "view-in-github"
   },
   "source": [
    "<a href=\"https://colab.research.google.com/github/NeuromatchAcademy/precourse/blob/main/tutorials/W0D0_NeuroVideoSeries/student/W0D0_Tutorial8.ipynb\" target=\"_blank\"><img alt=\"Open In Colab\" src=\"https://colab.research.google.com/assets/colab-badge.svg\"/></a>   <a href=\"https://kaggle.com/kernels/welcome?src=https://raw.githubusercontent.com/NeuromatchAcademy/precourse/main/tutorials/W0D0_NeuroVideoSeries/student/W0D0_Tutorial8.ipynb\" target=\"_blank\"><img alt=\"Open in Kaggle\" src=\"https://kaggle.com/static/images/open-in-kaggle.svg\"/></a>"
   ]
  },
  {
   "cell_type": "markdown",
   "metadata": {
    "execution": {},
    "pycharm": {
     "name": "#%% md\n"
    }
   },
   "source": [
    "# Brain Signals: fMRI\n",
    "**Neuro Video Series**\n",
    "\n",
    "**By Neuromatch Academy**\n",
    "\n",
    "**Content creator**: Pedro Valdes-Sosa, Benjamin Becker, Carlos Lopez\n",
    "\n",
    "**Content reviewers**: Ella Batty, Arvind Kumar, Tara van Viegen\n",
    "\n",
    "**Video editors, captioners, and translators**: Manisha Sinha, Tara van Viegen, Andrew Sun, Luis Alvarez, Shuze Liu"
   ]
  },
  {
   "cell_type": "markdown",
   "metadata": {
    "execution": {}
   },
   "source": [
    "<p align='center'><img src='https://github.com/NeuromatchAcademy/widgets/blob/master/sponsors.png?raw=True'/></p>"
   ]
  },
  {
   "cell_type": "markdown",
   "metadata": {
    "execution": {},
    "pycharm": {
     "name": "#%% md\n"
    }
   },
   "source": [
    "## Video"
   ]
  },
  {
   "cell_type": "markdown",
   "metadata": {},
   "source": [
    "\n"
   ]
  },
  {
   "cell_type": "code",
   "execution_count": 1,
   "metadata": {
    "cellView": "form",
    "execution": {
     "iopub.execute_input": "2023-04-17T16:37:46.213467Z",
     "iopub.status.busy": "2023-04-17T16:37:46.213077Z",
     "iopub.status.idle": "2023-04-17T16:37:46.322747Z",
     "shell.execute_reply": "2023-04-17T16:37:46.322018Z"
    },
    "pycharm": {
     "name": "#%%\n"
    },
    "tags": [
     "remove-input"
    ]
   },
   "outputs": [
    {
     "data": {
      "application/vnd.jupyter.widget-view+json": {
       "model_id": "80d051ffe8f94b01a0a2993cd69197d2",
       "version_major": 2,
       "version_minor": 0
      },
      "text/plain": [
       "Tab(children=(Output(), Output()), selected_index=0, titles=('Youtube', 'Bilibili'))"
      ]
     },
     "metadata": {},
     "output_type": "display_data"
    }
   ],
   "source": [
    "# @markdown\n",
    "from ipywidgets import widgets\n",
    "\n",
    "out2 = widgets.Output()\n",
    "with out2:\n",
    "  from IPython.display import IFrame\n",
    "  class BiliVideo(IFrame):\n",
    "      def __init__(self, id, page=1, width=400, height=300, **kwargs):\n",
    "          self.id=id\n",
    "          src = \"https://player.bilibili.com/player.html?bvid={0}&page={1}\".format(id, page)\n",
    "          super(BiliVideo, self).__init__(src, width, height, **kwargs)\n",
    "\n",
    "  video = BiliVideo(id=\"BV1wU4y1V776\", width=730, height=410, fs=1)\n",
    "  print(\"Video available at https://www.bilibili.com/video/{0}\".format(video.id))\n",
    "  display(video)\n",
    "\n",
    "out1 = widgets.Output()\n",
    "with out1:\n",
    "  from IPython.display import YouTubeVideo\n",
    "  video = YouTubeVideo(id=\"8hhQGHYsXOY\", width=730, height=410, fs=1, rel=0)\n",
    "  print(\"Video available at https://youtube.com/watch?v=\" + video.id)\n",
    "  display(video)\n",
    "\n",
    "out = widgets.Tab([out1, out2])\n",
    "out.set_title(0, 'Youtube')\n",
    "out.set_title(1, 'Bilibili')\n",
    "\n",
    "display(out)"
   ]
  },
  {
   "cell_type": "markdown",
   "metadata": {
    "execution": {}
   },
   "source": [
    "## Slides"
   ]
  },
  {
   "cell_type": "markdown",
   "metadata": {},
   "source": [
    "\n"
   ]
  },
  {
   "cell_type": "code",
   "execution_count": 2,
   "metadata": {
    "cellView": "form",
    "execution": {
     "iopub.execute_input": "2023-04-17T16:37:46.334162Z",
     "iopub.status.busy": "2023-04-17T16:37:46.333699Z",
     "iopub.status.idle": "2023-04-17T16:37:46.342372Z",
     "shell.execute_reply": "2023-04-17T16:37:46.341734Z"
    },
    "tags": [
     "remove-input"
    ]
   },
   "outputs": [
    {
     "data": {
      "application/vnd.jupyter.widget-view+json": {
       "model_id": "e933c96e9bb94db881a7f7583e198a2d",
       "version_major": 2,
       "version_minor": 0
      },
      "text/plain": [
       "Output()"
      ]
     },
     "metadata": {},
     "output_type": "display_data"
    }
   ],
   "source": [
    "# @markdown\n",
    "from IPython.display import IFrame\n",
    "from ipywidgets import widgets\n",
    "out = widgets.Output()\n",
    "with out:\n",
    "    display(IFrame(src=f\"https://mfr.ca-1.osf.io/render?url=https://osf.io/tjv6f/?direct%26mode=render%26action=download%26mode=rende\", width=730, height=410))\n",
    "display(out)"
   ]
  }
 ],
 "metadata": {
  "colab": {
   "collapsed_sections": [],
   "include_colab_link": true,
   "name": "W0D0_Tutorial8",
   "provenance": [],
   "toc_visible": true
  },
  "kernel": {
   "display_name": "Python 3",
   "language": "python",
   "name": "python3"
  },
  "kernelspec": {
   "display_name": "Python 3",
   "name": "python3"
  },
  "language_info": {
   "codemirror_mode": {
    "name": "ipython",
    "version": 3
   },
   "file_extension": ".py",
   "mimetype": "text/x-python",
   "name": "python",
   "nbconvert_exporter": "python",
   "pygments_lexer": "ipython3",
   "version": "3.11.3"
  },
  "widgets": {
   "application/vnd.jupyter.widget-state+json": {
    "state": {
     "21e68dcbbb4649389e3a4c605a507f67": {
      "model_module": "@jupyter-widgets/base",
      "model_module_version": "2.0.0",
      "model_name": "LayoutModel",
      "state": {
       "_model_module": "@jupyter-widgets/base",
       "_model_module_version": "2.0.0",
       "_model_name": "LayoutModel",
       "_view_count": null,
       "_view_module": "@jupyter-widgets/base",
       "_view_module_version": "2.0.0",
       "_view_name": "LayoutView",
       "align_content": null,
       "align_items": null,
       "align_self": null,
       "border_bottom": null,
       "border_left": null,
       "border_right": null,
       "border_top": null,
       "bottom": null,
       "display": null,
       "flex": null,
       "flex_flow": null,
       "grid_area": null,
       "grid_auto_columns": null,
       "grid_auto_flow": null,
       "grid_auto_rows": null,
       "grid_column": null,
       "grid_gap": null,
       "grid_row": null,
       "grid_template_areas": null,
       "grid_template_columns": null,
       "grid_template_rows": null,
       "height": null,
       "justify_content": null,
       "justify_items": null,
       "left": null,
       "margin": null,
       "max_height": null,
       "max_width": null,
       "min_height": null,
       "min_width": null,
       "object_fit": null,
       "object_position": null,
       "order": null,
       "overflow": null,
       "padding": null,
       "right": null,
       "top": null,
       "visibility": null,
       "width": null
      }
     },
     "3d3820b3b13140cea4dc40d293425a6c": {
      "model_module": "@jupyter-widgets/base",
      "model_module_version": "2.0.0",
      "model_name": "LayoutModel",
      "state": {
       "_model_module": "@jupyter-widgets/base",
       "_model_module_version": "2.0.0",
       "_model_name": "LayoutModel",
       "_view_count": null,
       "_view_module": "@jupyter-widgets/base",
       "_view_module_version": "2.0.0",
       "_view_name": "LayoutView",
       "align_content": null,
       "align_items": null,
       "align_self": null,
       "border_bottom": null,
       "border_left": null,
       "border_right": null,
       "border_top": null,
       "bottom": null,
       "display": null,
       "flex": null,
       "flex_flow": null,
       "grid_area": null,
       "grid_auto_columns": null,
       "grid_auto_flow": null,
       "grid_auto_rows": null,
       "grid_column": null,
       "grid_gap": null,
       "grid_row": null,
       "grid_template_areas": null,
       "grid_template_columns": null,
       "grid_template_rows": null,
       "height": null,
       "justify_content": null,
       "justify_items": null,
       "left": null,
       "margin": null,
       "max_height": null,
       "max_width": null,
       "min_height": null,
       "min_width": null,
       "object_fit": null,
       "object_position": null,
       "order": null,
       "overflow": null,
       "padding": null,
       "right": null,
       "top": null,
       "visibility": null,
       "width": null
      }
     },
     "7af4301bbd8048d7ab09297b63b88379": {
      "model_module": "@jupyter-widgets/base",
      "model_module_version": "2.0.0",
      "model_name": "LayoutModel",
      "state": {
       "_model_module": "@jupyter-widgets/base",
       "_model_module_version": "2.0.0",
       "_model_name": "LayoutModel",
       "_view_count": null,
       "_view_module": "@jupyter-widgets/base",
       "_view_module_version": "2.0.0",
       "_view_name": "LayoutView",
       "align_content": null,
       "align_items": null,
       "align_self": null,
       "border_bottom": null,
       "border_left": null,
       "border_right": null,
       "border_top": null,
       "bottom": null,
       "display": null,
       "flex": null,
       "flex_flow": null,
       "grid_area": null,
       "grid_auto_columns": null,
       "grid_auto_flow": null,
       "grid_auto_rows": null,
       "grid_column": null,
       "grid_gap": null,
       "grid_row": null,
       "grid_template_areas": null,
       "grid_template_columns": null,
       "grid_template_rows": null,
       "height": null,
       "justify_content": null,
       "justify_items": null,
       "left": null,
       "margin": null,
       "max_height": null,
       "max_width": null,
       "min_height": null,
       "min_width": null,
       "object_fit": null,
       "object_position": null,
       "order": null,
       "overflow": null,
       "padding": null,
       "right": null,
       "top": null,
       "visibility": null,
       "width": null
      }
     },
     "80378a8a83734d52bff43ed94abb4381": {
      "model_module": "@jupyter-widgets/base",
      "model_module_version": "2.0.0",
      "model_name": "LayoutModel",
      "state": {
       "_model_module": "@jupyter-widgets/base",
       "_model_module_version": "2.0.0",
       "_model_name": "LayoutModel",
       "_view_count": null,
       "_view_module": "@jupyter-widgets/base",
       "_view_module_version": "2.0.0",
       "_view_name": "LayoutView",
       "align_content": null,
       "align_items": null,
       "align_self": null,
       "border_bottom": null,
       "border_left": null,
       "border_right": null,
       "border_top": null,
       "bottom": null,
       "display": null,
       "flex": null,
       "flex_flow": null,
       "grid_area": null,
       "grid_auto_columns": null,
       "grid_auto_flow": null,
       "grid_auto_rows": null,
       "grid_column": null,
       "grid_gap": null,
       "grid_row": null,
       "grid_template_areas": null,
       "grid_template_columns": null,
       "grid_template_rows": null,
       "height": null,
       "justify_content": null,
       "justify_items": null,
       "left": null,
       "margin": null,
       "max_height": null,
       "max_width": null,
       "min_height": null,
       "min_width": null,
       "object_fit": null,
       "object_position": null,
       "order": null,
       "overflow": null,
       "padding": null,
       "right": null,
       "top": null,
       "visibility": null,
       "width": null
      }
     },
     "80d051ffe8f94b01a0a2993cd69197d2": {
      "model_module": "@jupyter-widgets/controls",
      "model_module_version": "2.0.0",
      "model_name": "TabModel",
      "state": {
       "_dom_classes": [],
       "_model_module": "@jupyter-widgets/controls",
       "_model_module_version": "2.0.0",
       "_model_name": "TabModel",
       "_view_count": null,
       "_view_module": "@jupyter-widgets/controls",
       "_view_module_version": "2.0.0",
       "_view_name": "TabView",
       "box_style": "",
       "children": [
        "IPY_MODEL_95424832e54c4302be9aa746d4d33aa8",
        "IPY_MODEL_e74b78aaa53c4fe48e53376e1a511c24"
       ],
       "layout": "IPY_MODEL_80378a8a83734d52bff43ed94abb4381",
       "selected_index": 0,
       "tabbable": null,
       "titles": [
        "Youtube",
        "Bilibili"
       ],
       "tooltip": null
      }
     },
     "95424832e54c4302be9aa746d4d33aa8": {
      "model_module": "@jupyter-widgets/output",
      "model_module_version": "1.0.0",
      "model_name": "OutputModel",
      "state": {
       "_dom_classes": [],
       "_model_module": "@jupyter-widgets/output",
       "_model_module_version": "1.0.0",
       "_model_name": "OutputModel",
       "_view_count": null,
       "_view_module": "@jupyter-widgets/output",
       "_view_module_version": "1.0.0",
       "_view_name": "OutputView",
       "layout": "IPY_MODEL_21e68dcbbb4649389e3a4c605a507f67",
       "msg_id": "",
       "outputs": [
        {
         "name": "stdout",
         "output_type": "stream",
         "text": "Video available at https://youtube.com/watch?v=8hhQGHYsXOY\n"
        },
        {
         "data": {
          "image/jpeg": "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\n",
          "text/html": "\n        <iframe\n            width=\"730\"\n            height=\"410\"\n            src=\"https://www.youtube.com/embed/8hhQGHYsXOY?fs=1&rel=0\"\n            frameborder=\"0\"\n            allowfullscreen\n            \n        ></iframe>\n        ",
          "text/plain": "<IPython.lib.display.YouTubeVideo at 0x7f70c83b7150>"
         },
         "metadata": {},
         "output_type": "display_data"
        }
       ],
       "tabbable": null,
       "tooltip": null
      }
     },
     "e74b78aaa53c4fe48e53376e1a511c24": {
      "model_module": "@jupyter-widgets/output",
      "model_module_version": "1.0.0",
      "model_name": "OutputModel",
      "state": {
       "_dom_classes": [],
       "_model_module": "@jupyter-widgets/output",
       "_model_module_version": "1.0.0",
       "_model_name": "OutputModel",
       "_view_count": null,
       "_view_module": "@jupyter-widgets/output",
       "_view_module_version": "1.0.0",
       "_view_name": "OutputView",
       "layout": "IPY_MODEL_7af4301bbd8048d7ab09297b63b88379",
       "msg_id": "",
       "outputs": [
        {
         "name": "stdout",
         "output_type": "stream",
         "text": "Video available at https://www.bilibili.com/video/BV1wU4y1V776\n"
        },
        {
         "data": {
          "text/html": "\n        <iframe\n            width=\"730\"\n            height=\"410\"\n            src=\"https://player.bilibili.com/player.html?bvid=BV1wU4y1V776&page=1?fs=1\"\n            frameborder=\"0\"\n            allowfullscreen\n            \n        ></iframe>\n        ",
          "text/plain": "<__main__.BiliVideo at 0x7f70ca4a1c50>"
         },
         "metadata": {},
         "output_type": "display_data"
        }
       ],
       "tabbable": null,
       "tooltip": null
      }
     },
     "e933c96e9bb94db881a7f7583e198a2d": {
      "model_module": "@jupyter-widgets/output",
      "model_module_version": "1.0.0",
      "model_name": "OutputModel",
      "state": {
       "_dom_classes": [],
       "_model_module": "@jupyter-widgets/output",
       "_model_module_version": "1.0.0",
       "_model_name": "OutputModel",
       "_view_count": null,
       "_view_module": "@jupyter-widgets/output",
       "_view_module_version": "1.0.0",
       "_view_name": "OutputView",
       "layout": "IPY_MODEL_3d3820b3b13140cea4dc40d293425a6c",
       "msg_id": "",
       "outputs": [
        {
         "data": {
          "text/html": "\n        <iframe\n            width=\"730\"\n            height=\"410\"\n            src=\"https://mfr.ca-1.osf.io/render?url=https://osf.io/tjv6f/?direct%26mode=render%26action=download%26mode=rende\"\n            frameborder=\"0\"\n            allowfullscreen\n            \n        ></iframe>\n        ",
          "text/plain": "<IPython.lib.display.IFrame at 0x7f70ca48e3d0>"
         },
         "metadata": {},
         "output_type": "display_data"
        }
       ],
       "tabbable": null,
       "tooltip": null
      }
     }
    },
    "version_major": 2,
    "version_minor": 0
   }
  }
 },
 "nbformat": 4,
 "nbformat_minor": 0
}
