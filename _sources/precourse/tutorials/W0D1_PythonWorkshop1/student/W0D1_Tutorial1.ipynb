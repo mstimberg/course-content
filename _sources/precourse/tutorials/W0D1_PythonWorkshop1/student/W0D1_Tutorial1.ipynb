{
 "cells": [
  {
   "cell_type": "markdown",
   "metadata": {
    "colab_type": "text",
    "execution": {},
    "id": "view-in-github"
   },
   "source": [
    "<a href=\"https://colab.research.google.com/github/NeuromatchAcademy/precourse/blob/main/tutorials/W0D1_PythonWorkshop1/student/W0D1_Tutorial1.ipynb\" target=\"_blank\"><img alt=\"Open In Colab\" src=\"https://colab.research.google.com/assets/colab-badge.svg\"/></a>   <a href=\"https://kaggle.com/kernels/welcome?src=https://raw.githubusercontent.com/NeuromatchAcademy/precourse/main/tutorials/W0D1_PythonWorkshop1/student/W0D1_Tutorial1.ipynb\" target=\"_blank\"><img alt=\"Open in Kaggle\" src=\"https://kaggle.com/static/images/open-in-kaggle.svg\"/></a>"
   ]
  },
  {
   "cell_type": "markdown",
   "metadata": {
    "execution": {}
   },
   "source": [
    "# Tutorial: LIF Neuron Part I\n",
    "**Week 0, Day 1: Python Workshop 1**\n",
    "\n",
    "**By Neuromatch Academy**\n",
    "\n",
    "__Content creators:__ Marco Brigham and the [CCNSS](https://www.ccnss.org/) team\n",
    "\n",
    "__Content reviewers:__ Michael Waskom, Karolina Stosio, Spiros Chavlis\n",
    "\n",
    "__Production Editor:__ Ella Batty\n"
   ]
  },
  {
   "cell_type": "markdown",
   "metadata": {
    "execution": {}
   },
   "source": [
    "<p align='center'><img src='https://github.com/NeuromatchAcademy/widgets/blob/master/sponsors.png?raw=True'/></p>"
   ]
  },
  {
   "cell_type": "markdown",
   "metadata": {
    "execution": {}
   },
   "source": [
    "---\n",
    "# Tutorial objectives\n",
    "\n",
    "During NMA, you will be using code to learn computational neuroscience in an interactive (and hopefully fun) way. This tutorial and the next are to help you get up to speed on Python before the course, so that during the course you can focus on the computational neuroscience concepts.\n",
    "\n",
    "\n",
    "In this notebook, we'll practice basic operations with Python variables, control flow, plotting, and take a sneak peek at `np.array`, the workhorse of scientific computation in Python.\n",
    "\n",
    "Each new concept in Python will unlock a different aspect of our implementation of a **Leaky Integrate-and-Fire (LIF)** neuron. And as if it couldn't get any better, we'll visualize the evolution of its membrane potential in time, and extract its statistical properties!\n"
   ]
  },
  {
   "cell_type": "markdown",
   "metadata": {
    "execution": {}
   },
   "source": [
    "---\n",
    "# Setup\n",
    "Please execute the cell(s) below to initialize the notebook environment."
   ]
  },
  {
   "cell_type": "code",
   "execution_count": 1,
   "metadata": {
    "cellView": "both",
    "execution": {
     "iopub.execute_input": "2023-04-17T16:37:52.460340Z",
     "iopub.status.busy": "2023-04-17T16:37:52.460138Z",
     "iopub.status.idle": "2023-04-17T16:37:53.252714Z",
     "shell.execute_reply": "2023-04-17T16:37:53.251342Z"
    }
   },
   "outputs": [],
   "source": [
    "# Imports\n",
    "import numpy as np\n",
    "import matplotlib.pyplot as plt"
   ]
  },
  {
   "cell_type": "markdown",
   "metadata": {},
   "source": [
    "##  Figure settings\n"
   ]
  },
  {
   "cell_type": "code",
   "execution_count": 2,
   "metadata": {
    "cellView": "form",
    "execution": {
     "iopub.execute_input": "2023-04-17T16:37:53.257025Z",
     "iopub.status.busy": "2023-04-17T16:37:53.256715Z",
     "iopub.status.idle": "2023-04-17T16:37:53.500596Z",
     "shell.execute_reply": "2023-04-17T16:37:53.499710Z"
    },
    "tags": [
     "hide-input"
    ]
   },
   "outputs": [],
   "source": [
    "# @title Figure settings\n",
    "import ipywidgets as widgets  # interactive display\n",
    "%config InlineBackend.figure_format = 'retina'\n",
    "plt.style.use(\"https://raw.githubusercontent.com/NeuromatchAcademy/course-content/master/nma.mplstyle\")"
   ]
  },
  {
   "cell_type": "markdown",
   "metadata": {
    "execution": {}
   },
   "source": [
    "---\n",
    "# Section 1: Python basics & the LIF model"
   ]
  },
  {
   "cell_type": "markdown",
   "metadata": {},
   "source": [
    "##  Video 1: Python basics & the LIF model\n"
   ]
  },
  {
   "cell_type": "code",
   "execution_count": 3,
   "metadata": {
    "cellView": "form",
    "execution": {
     "iopub.execute_input": "2023-04-17T16:37:53.505264Z",
     "iopub.status.busy": "2023-04-17T16:37:53.504780Z",
     "iopub.status.idle": "2023-04-17T16:37:53.547640Z",
     "shell.execute_reply": "2023-04-17T16:37:53.546814Z"
    },
    "tags": [
     "remove-input"
    ]
   },
   "outputs": [
    {
     "data": {
      "application/vnd.jupyter.widget-view+json": {
       "model_id": "f61f4215c54b4d1e94bfd21455dfa8ff",
       "version_major": 2,
       "version_minor": 0
      },
      "text/plain": [
       "Tab(children=(Output(), Output()), selected_index=0, titles=('Youtube', 'Bilibili'))"
      ]
     },
     "metadata": {},
     "output_type": "display_data"
    }
   ],
   "source": [
    "# @title Video 1: Python basics & the LIF model\n",
    "from ipywidgets import widgets\n",
    "\n",
    "out2 = widgets.Output()\n",
    "with out2:\n",
    "  from IPython.display import IFrame\n",
    "  class BiliVideo(IFrame):\n",
    "      def __init__(self, id, page=1, width=400, height=300, **kwargs):\n",
    "          self.id=id\n",
    "          src = 'https://player.bilibili.com/player.html?bvid={0}&page={1}'.format(id, page)\n",
    "          super(BiliVideo, self).__init__(src, width, height, **kwargs)\n",
    "\n",
    "  video = BiliVideo(id=\"BV1vV41167T1\", width=730, height=410, fs=1)\n",
    "  print('Video available at https://www.bilibili.com/video/{0}'.format(video.id))\n",
    "  display(video)\n",
    "\n",
    "out1 = widgets.Output()\n",
    "with out1:\n",
    "  from IPython.display import YouTubeVideo\n",
    "  video = YouTubeVideo(id=\"Bwm6rjRpVw8\", width=730, height=410, fs=1, rel=0)\n",
    "  print('Video available at https://youtube.com/watch?v=' + video.id)\n",
    "  display(video)\n",
    "\n",
    "out = widgets.Tab([out1, out2])\n",
    "out.set_title(0, 'Youtube')\n",
    "out.set_title(1, 'Bilibili')\n",
    "\n",
    "display(out)"
   ]
  },
  {
   "cell_type": "markdown",
   "metadata": {
    "execution": {}
   },
   "source": [
    "## Section 1.1: The LIF Model"
   ]
  },
  {
   "cell_type": "markdown",
   "metadata": {
    "execution": {}
   },
   "source": [
    "A *membrane equation* and a *reset condition* define our *leaky-integrate-and-fire (LIF)* neuron:\n",
    "\n",
    "\\begin{align}\n",
    "\\tau_m\\,\\frac{d}{dt}\\,V(t) &= E_{L} - V(t) + R\\,I(t) &\\text{if }\\quad V(t) \\leq V_{th} \\\\ \\\\\n",
    "V(t) &= V_{reset} &\\text{otherwise}\n",
    "\\end{align}\n",
    "\n",
    "<br>\n",
    "where $V(t)$ is the membrane potential, $\\tau_m$ is the membrane time constant, $E_{L}$ is the leak potential, $R$ is the membrane resistance, $I(t)$ is the synaptic input current, $V_{th}$ is the firing threshold, and $V_{reset}$ is the reset voltage. We can also write $V_m$ for membrane potential, which is more convenient for plot labels.\n",
    "\n",
    "The membrane equation describes the time evolution of membrane potential $V(t)$ in response to synaptic input and leaking of charge across the cell membrane. This is an *ordinary differential equation (ODE)*, a concept we will learn more about in future days.\n",
    "\n",
    "**Note that, in this tutorial the neuron model will not implement a spiking mechanism.**"
   ]
  },
  {
   "cell_type": "markdown",
   "metadata": {
    "execution": {}
   },
   "source": [
    "## Section 1.2: Comments in code"
   ]
  },
  {
   "cell_type": "markdown",
   "metadata": {},
   "source": [
    "###  Video 2: Nano recap of comments and strings\n"
   ]
  },
  {
   "cell_type": "code",
   "execution_count": 4,
   "metadata": {
    "cellView": "form",
    "execution": {
     "iopub.execute_input": "2023-04-17T16:37:53.557858Z",
     "iopub.status.busy": "2023-04-17T16:37:53.557438Z",
     "iopub.status.idle": "2023-04-17T16:37:53.703269Z",
     "shell.execute_reply": "2023-04-17T16:37:53.702587Z"
    },
    "tags": [
     "remove-input"
    ]
   },
   "outputs": [
    {
     "data": {
      "application/vnd.jupyter.widget-view+json": {
       "model_id": "4e71c59f8fb94c909b88d2f43ffc7c29",
       "version_major": 2,
       "version_minor": 0
      },
      "text/plain": [
       "Tab(children=(Output(), Output()), selected_index=0, titles=('Youtube', 'Bilibili'))"
      ]
     },
     "metadata": {},
     "output_type": "display_data"
    }
   ],
   "source": [
    "# @title Video 2: Nano recap of comments and strings\n",
    "from ipywidgets import widgets\n",
    "\n",
    "out2 = widgets.Output()\n",
    "with out2:\n",
    "  from IPython.display import IFrame\n",
    "  class BiliVideo(IFrame):\n",
    "      def __init__(self, id, page=1, width=400, height=300, **kwargs):\n",
    "          self.id=id\n",
    "          src = 'https://player.bilibili.com/player.html?bvid={0}&page={1}'.format(id, page)\n",
    "          super(BiliVideo, self).__init__(src, width, height, **kwargs)\n",
    "\n",
    "  video = BiliVideo(id=\"BV1fg4y1v7P3\", width=730, height=410, fs=1)\n",
    "  print('Video available at https://www.bilibili.com/video/{0}'.format(video.id))\n",
    "  display(video)\n",
    "\n",
    "out1 = widgets.Output()\n",
    "with out1:\n",
    "  from IPython.display import YouTubeVideo\n",
    "  video = YouTubeVideo(id=\"UP8rD2AwceM\", width=730, height=410, fs=1, rel=0)\n",
    "  print('Video available at https://youtube.com/watch?v=' + video.id)\n",
    "  display(video)\n",
    "\n",
    "out = widgets.Tab([out1, out2])\n",
    "out.set_title(0, 'Youtube')\n",
    "out.set_title(1, 'Bilibili')\n",
    "\n",
    "display(out)"
   ]
  },
  {
   "cell_type": "markdown",
   "metadata": {
    "execution": {}
   },
   "source": [
    "### Coding Exercise 1: Defining parameters\n",
    "We start by defining and initializing the main simulation variables for our LIF neuron.\n",
    "\n",
    "In the code cell below, please modify the code to print the simulation parameters."
   ]
  },
  {
   "cell_type": "code",
   "execution_count": 5,
   "metadata": {
    "execution": {
     "iopub.execute_input": "2023-04-17T16:37:53.714059Z",
     "iopub.status.busy": "2023-04-17T16:37:53.713875Z",
     "iopub.status.idle": "2023-04-17T16:37:53.716381Z",
     "shell.execute_reply": "2023-04-17T16:37:53.715831Z"
    }
   },
   "outputs": [],
   "source": [
    "# t_max = 150e-3   # second\n",
    "# dt = 1e-3        # second\n",
    "# tau = 20e-3      # second\n",
    "# el = -60e-3      # milivolt\n",
    "# vr = -70e-3      # milivolt\n",
    "# vth = -50e-3     # milivolt\n",
    "# r = 100e6        # ohm\n",
    "# i_mean = 25e-11  # ampere\n",
    "\n",
    "# print(t_max, dt, tau, el, vr, vth, r, i_mean)"
   ]
  },
  {
   "cell_type": "markdown",
   "metadata": {
    "execution": {}
   },
   "source": [
    "**SAMPLE OUTPUT**\n",
    "\n",
    "```\n",
    "0.15 0.001 0.02 -0.06 -0.07 -0.05 100000000.0 2.5e-10\n",
    "```"
   ]
  },
  {
   "cell_type": "markdown",
   "metadata": {
    "cellView": "code",
    "colab_type": "text",
    "execution": {}
   },
   "source": [
    "[*Click for solution*](https://github.com/NeuromatchAcademy/precourse/tree/main//tutorials/W0D1_PythonWorkshop1/solutions/W0D1_Tutorial1_Solution_4adeccd3.py)\n",
    "\n"
   ]
  },
  {
   "cell_type": "markdown",
   "metadata": {
    "execution": {}
   },
   "source": [
    "We needed to remove the #'s at the start of each line - otherwise the code is read as comments and not actually run. Sometimes when you're writing code, you may want to \"comment out\" sections of code for debugging purposes. Note that we tried to use descriptive variable names, in this case that correspond to the math notation we use. We also used comments to denote units within the code - this makes it much easier to understand! "
   ]
  },
  {
   "cell_type": "markdown",
   "metadata": {
    "execution": {}
   },
   "source": [
    "## Section 1.3: Math operations\n",
    "\n"
   ]
  },
  {
   "cell_type": "markdown",
   "metadata": {
    "execution": {}
   },
   "source": [
    "### Coding Exercise 2: Simulating an input current\n",
    "![synaptic input](https://github.com/mpbrigham/colaboratory-figures/raw/master/nma/python-for-nma/synaptic_input.png)\n",
    "\n",
    "We need to simulate the synaptic input $I(t)$ that goes into our model neuron. We will start with a sinusoidal model to simulate this input (visualized above), using the equation:\n",
    "\n",
    "\\begin{equation}\n",
    "I(t)=I_{mean}\\left(1+\\sin\\left(\\frac{2 \\pi}{0.01}\\,t\\right)\\right)\n",
    "\\end{equation}\n",
    "\n",
    "where $I_{mean}$ is the mean current input and $t$ is the time.\n",
    "\n",
    "In the next cell, you will compute the values of synaptic input $I(t)$ between $t=0$ and $t=0.009$ with step $\\Delta t=0.001$.\n",
    "\n",
    "<br>\n",
    "**New coding concepts**: \n",
    "- We use a **for loop** in the code below. We will dive deeper into for loops later, but essentially for loops allow us to run the same code block multiple times. In this case, we loop over steps so the variable *step* equals something new each time. We use the syntax `for step in range(10):`. This means that `step` will take each integer value between 0 and 10.\n",
    "- You can use `np.pi` as the value of $\\pi$ and `np.sin(x)` to get the sine of x. These come from a package called numpy, which we'll learn about later.\n"
   ]
  },
  {
   "cell_type": "code",
   "execution_count": 6,
   "metadata": {
    "execution": {
     "iopub.execute_input": "2023-04-17T16:37:53.718700Z",
     "iopub.status.busy": "2023-04-17T16:37:53.718306Z",
     "iopub.status.idle": "2023-04-17T16:37:53.905172Z",
     "shell.execute_reply": "2023-04-17T16:37:53.904392Z"
    }
   },
   "outputs": [
    {
     "ename": "NameError",
     "evalue": "name 'dt' is not defined",
     "output_type": "error",
     "traceback": [
      "\u001b[0;31m---------------------------------------------------------------------------\u001b[0m",
      "\u001b[0;31mNameError\u001b[0m                                 Traceback (most recent call last)",
      "Cell \u001b[0;32mIn[6], line 5\u001b[0m\n\u001b[1;32m      1\u001b[0m \u001b[38;5;66;03m# Loop for 10 steps, variable 'step' takes values from 0 to 9\u001b[39;00m\n\u001b[1;32m      2\u001b[0m \u001b[38;5;28;01mfor\u001b[39;00m step \u001b[38;5;129;01min\u001b[39;00m \u001b[38;5;28mrange\u001b[39m(\u001b[38;5;241m10\u001b[39m):\n\u001b[1;32m      3\u001b[0m \n\u001b[1;32m      4\u001b[0m   \u001b[38;5;66;03m# Compute value of t\u001b[39;00m\n\u001b[0;32m----> 5\u001b[0m   t \u001b[38;5;241m=\u001b[39m step \u001b[38;5;241m*\u001b[39m \u001b[43mdt\u001b[49m\n\u001b[1;32m      7\u001b[0m   \u001b[38;5;66;03m# Compute value of i at this time step\u001b[39;00m\n\u001b[1;32m      8\u001b[0m   i \u001b[38;5;241m=\u001b[39m \u001b[38;5;241m.\u001b[39m\u001b[38;5;241m.\u001b[39m\u001b[38;5;241m.\u001b[39m\n",
      "\u001b[0;31mNameError\u001b[0m: name 'dt' is not defined"
     ]
    }
   ],
   "source": [
    "# Loop for 10 steps, variable 'step' takes values from 0 to 9\n",
    "for step in range(10):\n",
    "\n",
    "  # Compute value of t\n",
    "  t = step * dt\n",
    "\n",
    "  # Compute value of i at this time step\n",
    "  i = ...\n",
    "\n",
    "  # Print value of i\n",
    "  print(i)"
   ]
  },
  {
   "cell_type": "markdown",
   "metadata": {
    "execution": {}
   },
   "source": [
    "**SAMPLE OUTPUT**\n",
    "\n",
    "```\n",
    "2.5e-10\n",
    "3.969463130731183e-10\n",
    "4.877641290737885e-10\n",
    "4.877641290737885e-10\n",
    "3.9694631307311837e-10\n",
    "2.5000000000000007e-10\n",
    "1.0305368692688176e-10\n",
    "1.2235870926211617e-11\n",
    "1.223587092621159e-11\n",
    "1.0305368692688186e-10\n",
    "```"
   ]
  },
  {
   "cell_type": "markdown",
   "metadata": {
    "colab_type": "text",
    "execution": {}
   },
   "source": [
    "[*Click for solution*](https://github.com/NeuromatchAcademy/precourse/tree/main//tutorials/W0D1_PythonWorkshop1/solutions/W0D1_Tutorial1_Solution_0833b67f.py)\n",
    "\n"
   ]
  },
  {
   "cell_type": "markdown",
   "metadata": {
    "execution": {}
   },
   "source": [
    "## Section 1.4: Print formatting\n",
    "\n",
    "Print formatting is handy for displaying simulation parameters in a clean and organized form. Python 3.6 introduced the new string formatting [f-strings](https://www.python.org/dev/peps/pep-0498). Since we are dealing with type `float` variables, we use `f'{x:.3f}'` for formatting `x` to three decimal points, and `f'{x:.4e}'` for four decimal points but in exponential notation.\n",
    "```\n",
    "x = 3.14159265e-1\n",
    "print(f'{x:.3f}')\n",
    "--> 0.314\n",
    "\n",
    "print(f'{x:.4e}')\n",
    "--> 3.1416e-01\n",
    "```"
   ]
  },
  {
   "cell_type": "markdown",
   "metadata": {
    "execution": {}
   },
   "source": [
    "### Coding Exercise 3: Printing pretty numbers \n",
    "\n",
    "\n",
    "Repeat the loop from the previous exercise and print the `t` values with three decimal points, and synaptic input $I(t)$ with four decimal points in exponential notation.\n",
    "\n"
   ]
  },
  {
   "cell_type": "code",
   "execution_count": 7,
   "metadata": {
    "execution": {
     "iopub.execute_input": "2023-04-17T16:37:53.908081Z",
     "iopub.status.busy": "2023-04-17T16:37:53.907858Z",
     "iopub.status.idle": "2023-04-17T16:37:53.924565Z",
     "shell.execute_reply": "2023-04-17T16:37:53.923905Z"
    }
   },
   "outputs": [
    {
     "ename": "NameError",
     "evalue": "name 'dt' is not defined",
     "output_type": "error",
     "traceback": [
      "\u001b[0;31m---------------------------------------------------------------------------\u001b[0m",
      "\u001b[0;31mNameError\u001b[0m                                 Traceback (most recent call last)",
      "Cell \u001b[0;32mIn[7], line 8\u001b[0m\n\u001b[1;32m      4\u001b[0m \u001b[38;5;66;03m# Loop for step_end steps\u001b[39;00m\n\u001b[1;32m      5\u001b[0m \u001b[38;5;28;01mfor\u001b[39;00m step \u001b[38;5;129;01min\u001b[39;00m \u001b[38;5;28mrange\u001b[39m(step_end):\n\u001b[1;32m      6\u001b[0m \n\u001b[1;32m      7\u001b[0m   \u001b[38;5;66;03m# Compute value of t\u001b[39;00m\n\u001b[0;32m----> 8\u001b[0m   t \u001b[38;5;241m=\u001b[39m step \u001b[38;5;241m*\u001b[39m \u001b[43mdt\u001b[49m\n\u001b[1;32m     10\u001b[0m   \u001b[38;5;66;03m# Compute value of i at this time step\u001b[39;00m\n\u001b[1;32m     11\u001b[0m   i \u001b[38;5;241m=\u001b[39m i_mean \u001b[38;5;241m*\u001b[39m (\u001b[38;5;241m1\u001b[39m \u001b[38;5;241m+\u001b[39m np\u001b[38;5;241m.\u001b[39msin((t \u001b[38;5;241m*\u001b[39m \u001b[38;5;241m2\u001b[39m \u001b[38;5;241m*\u001b[39m np\u001b[38;5;241m.\u001b[39mpi) \u001b[38;5;241m/\u001b[39m \u001b[38;5;241m0.01\u001b[39m))\n",
      "\u001b[0;31mNameError\u001b[0m: name 'dt' is not defined"
     ]
    }
   ],
   "source": [
    "# Initialize step_end\n",
    "step_end = 10\n",
    "\n",
    "# Loop for step_end steps\n",
    "for step in range(step_end):\n",
    "\n",
    "  # Compute value of t\n",
    "  t = step * dt\n",
    "\n",
    "  # Compute value of i at this time step\n",
    "  i = i_mean * (1 + np.sin((t * 2 * np.pi) / 0.01))\n",
    "\n",
    "  # Print value of t and i\n",
    "  print(...)"
   ]
  },
  {
   "cell_type": "markdown",
   "metadata": {
    "execution": {}
   },
   "source": [
    "**SAMPLE OUTPUT**\n",
    "\n",
    "```\n",
    "0.000 2.5000e-10\n",
    "0.001 3.9695e-10\n",
    "0.002 4.8776e-10\n",
    "0.003 4.8776e-10\n",
    "0.004 3.9695e-10\n",
    "0.005 2.5000e-10\n",
    "0.006 1.0305e-10\n",
    "0.007 1.2236e-11\n",
    "0.008 1.2236e-11\n",
    "0.009 1.0305e-10\n",
    "```"
   ]
  },
  {
   "cell_type": "markdown",
   "metadata": {
    "colab_type": "text",
    "execution": {}
   },
   "source": [
    "[*Click for solution*](https://github.com/NeuromatchAcademy/precourse/tree/main//tutorials/W0D1_PythonWorkshop1/solutions/W0D1_Tutorial1_Solution_b2d23280.py)\n",
    "\n"
   ]
  },
  {
   "cell_type": "markdown",
   "metadata": {
    "execution": {}
   },
   "source": [
    "---\n",
    "# Section 2: For loops & discrete time integration\n",
    "\n",
    "\n"
   ]
  },
  {
   "cell_type": "markdown",
   "metadata": {},
   "source": [
    "##  Video 3: For loops & discrete time integration\n"
   ]
  },
  {
   "cell_type": "code",
   "execution_count": 8,
   "metadata": {
    "cellView": "form",
    "execution": {
     "iopub.execute_input": "2023-04-17T16:37:53.927270Z",
     "iopub.status.busy": "2023-04-17T16:37:53.926920Z",
     "iopub.status.idle": "2023-04-17T16:37:53.978783Z",
     "shell.execute_reply": "2023-04-17T16:37:53.977779Z"
    },
    "tags": [
     "remove-input"
    ]
   },
   "outputs": [
    {
     "data": {
      "application/vnd.jupyter.widget-view+json": {
       "model_id": "299e662b9f294806a6a230ffa81b3fa8",
       "version_major": 2,
       "version_minor": 0
      },
      "text/plain": [
       "Tab(children=(Output(), Output()), selected_index=0, titles=('Youtube', 'Bilibili'))"
      ]
     },
     "metadata": {},
     "output_type": "display_data"
    }
   ],
   "source": [
    "# @title Video 3: For loops & discrete time integration\n",
    "from ipywidgets import widgets\n",
    "\n",
    "out2 = widgets.Output()\n",
    "with out2:\n",
    "  from IPython.display import IFrame\n",
    "  class BiliVideo(IFrame):\n",
    "      def __init__(self, id, page=1, width=400, height=300, **kwargs):\n",
    "          self.id=id\n",
    "          src = 'https://player.bilibili.com/player.html?bvid={0}&page={1}'.format(id, page)\n",
    "          super(BiliVideo, self).__init__(src, width, height, **kwargs)\n",
    "\n",
    "  video = BiliVideo(id=\"BV1nt4y1Q7Z5\", width=730, height=410, fs=1)\n",
    "  print('Video available at https://www.bilibili.com/video/{0}'.format(video.id))\n",
    "  display(video)\n",
    "\n",
    "out1 = widgets.Output()\n",
    "with out1:\n",
    "  from IPython.display import YouTubeVideo\n",
    "  video = YouTubeVideo(id=\"JkxgotYwu4Q\", width=730, height=410, fs=1, rel=0)\n",
    "  print('Video available at https://youtube.com/watch?v=' + video.id)\n",
    "  display(video)\n",
    "\n",
    "out = widgets.Tab([out1, out2])\n",
    "out.set_title(0, 'Youtube')\n",
    "out.set_title(1, 'Bilibili')\n",
    "\n",
    "display(out)"
   ]
  },
  {
   "cell_type": "markdown",
   "metadata": {
    "execution": {}
   },
   "source": [
    "## Section 2.1: For Loops\n",
    "\n",
    "A for loop implements the indented code block multiple times (with the variable being looped over equaling something new each time). The following three formulations are all equivalent and loop for three steps:\n",
    "```\n",
    "for step in [0, 1, 2]:\n",
    "  print(step)\n",
    "\n",
    "for step in range(3):\n",
    "  print(step)\n",
    "\n",
    "start = 0\n",
    "end = 3\n",
    "stepsize = 1\n",
    "\n",
    "for step in range(start, end, stepsize):\n",
    "  print(step)\n",
    "```\n"
   ]
  },
  {
   "cell_type": "markdown",
   "metadata": {
    "execution": {}
   },
   "source": [
    "## Section 2.2: Discrete time integration with spikes\n"
   ]
  },
  {
   "cell_type": "markdown",
   "metadata": {},
   "source": [
    "###  Video 4: Nano recap of discrete time integration\n"
   ]
  },
  {
   "cell_type": "code",
   "execution_count": 9,
   "metadata": {
    "cellView": "form",
    "execution": {
     "iopub.execute_input": "2023-04-17T16:37:53.988219Z",
     "iopub.status.busy": "2023-04-17T16:37:53.987970Z",
     "iopub.status.idle": "2023-04-17T16:37:54.036834Z",
     "shell.execute_reply": "2023-04-17T16:37:54.036224Z"
    },
    "tags": [
     "remove-input"
    ]
   },
   "outputs": [
    {
     "data": {
      "application/vnd.jupyter.widget-view+json": {
       "model_id": "d6dd7ece848746f4a131e42d9f3f5978",
       "version_major": 2,
       "version_minor": 0
      },
      "text/plain": [
       "Tab(children=(Output(), Output()), selected_index=0, titles=('Youtube', 'Bilibili'))"
      ]
     },
     "metadata": {},
     "output_type": "display_data"
    }
   ],
   "source": [
    "# @title Video 4: Nano recap of discrete time integration\n",
    "from ipywidgets import widgets\n",
    "\n",
    "out2 = widgets.Output()\n",
    "with out2:\n",
    "  from IPython.display import IFrame\n",
    "  class BiliVideo(IFrame):\n",
    "      def __init__(self, id, page=1, width=400, height=300, **kwargs):\n",
    "          self.id=id\n",
    "          src = 'https://player.bilibili.com/player.html?bvid={0}&page={1}'.format(id, page)\n",
    "          super(BiliVideo, self).__init__(src, width, height, **kwargs)\n",
    "\n",
    "  video = BiliVideo(id=\"BV1mt4y1Q7Ls\", width=730, height=410, fs=1)\n",
    "  print('Video available at https://www.bilibili.com/video/{0}'.format(video.id))\n",
    "  display(video)\n",
    "\n",
    "out1 = widgets.Output()\n",
    "with out1:\n",
    "  from IPython.display import YouTubeVideo\n",
    "  video = YouTubeVideo(id=\"kyCbeR28AYQ\", width=730, height=410, fs=1, rel=0)\n",
    "  print('Video available at https://youtube.com/watch?v=' + video.id)\n",
    "  display(video)\n",
    "\n",
    "out = widgets.Tab([out1, out2])\n",
    "out.set_title(0, 'Youtube')\n",
    "out.set_title(1, 'Bilibili')\n",
    "\n",
    "display(out)"
   ]
  },
  {
   "cell_type": "markdown",
   "metadata": {
    "execution": {}
   },
   "source": [
    "In the next exercises, we will simulate the evolution of the membrane equation in discrete time steps, with a sufficiently small $\\Delta t$.\n",
    "\n",
    "We start by writing the time derivative $d/dt\\,V(t)$ in the membrane equation without taking the limit $\\Delta t \\to 0$:\n",
    "\n",
    "\\begin{equation}\n",
    "\\tau_m\\,\\frac{V\\left(t+\\Delta t\\right)-V\\left(t\\right)}{\\Delta t} = E_{L} - V(t) + R\\,I(t) \\qquad\\qquad (1)\n",
    "\\end{equation}\n",
    "\n",
    "The value of membrane potential $V\\left(t+\\Delta t\\right)$ can be expressed in terms of its previous value $V(t)$ by simple algebraic manipulation. For *small enough* values of $\\Delta t$, this provides a good approximation of the continuous-time integration.\n",
    "\n",
    "This operation is an integration since we obtain a sequence $\\{V(t), V(t+\\Delta t), V(t+2\\Delta t),...\\}$ starting from the ODE. Notice how the ODE describes the evolution of $\\frac{d}{dt}\\,V(t)$, the derivative of $V(t)$, but not directly the evolution of $V(t)$. For the evolution of $V(t)$ we need to integrate the ODE, and in this tutorial, we will do a discrete-time integration using the Euler method. See [Numerical methods for ordinary differential equations](https://en.wikipedia.org/wiki/Numerical_methods_for_ordinary_differential_equations) for additional details."
   ]
  },
  {
   "cell_type": "markdown",
   "metadata": {
    "execution": {}
   },
   "source": [
    "### Coding Exercise 4: Simulating membrane potential\n",
    "Compute the values of $V(t)$ between $t=0$ and $t=0.01$ with step $\\Delta t=0.001$ and $V(0)=E_L$.\n",
    "\n",
    "\n",
    "We need to reorganize the Eq. (1) to isolate $V\\left(t+\\Delta t\\right)$ on the left side, and express it as function of $V(t)$ and the other terms:\n",
    "\n",
    "\\begin{equation}\n",
    "V(t + \\Delta t) =  V(t) + \\frac{\\Delta t}{\\tau_m}(E_l -V(t) + R I(t))\n",
    "\\end{equation}"
   ]
  },
  {
   "cell_type": "code",
   "execution_count": 10,
   "metadata": {
    "execution": {
     "iopub.execute_input": "2023-04-17T16:37:54.046441Z",
     "iopub.status.busy": "2023-04-17T16:37:54.046228Z",
     "iopub.status.idle": "2023-04-17T16:37:54.065408Z",
     "shell.execute_reply": "2023-04-17T16:37:54.064711Z"
    }
   },
   "outputs": [
    {
     "ename": "NotImplementedError",
     "evalue": "Student exercise: You need to fill out code to compute v",
     "output_type": "error",
     "traceback": [
      "\u001b[0;31m---------------------------------------------------------------------------\u001b[0m",
      "\u001b[0;31mNotImplementedError\u001b[0m                       Traceback (most recent call last)",
      "Cell \u001b[0;32mIn[10], line 4\u001b[0m\n\u001b[1;32m      1\u001b[0m \u001b[38;5;66;03m#################################################\u001b[39;00m\n\u001b[1;32m      2\u001b[0m \u001b[38;5;66;03m## TODO for students: fill out compute v code ##\u001b[39;00m\n\u001b[1;32m      3\u001b[0m \u001b[38;5;66;03m# Fill out code and comment or remove the next line\u001b[39;00m\n\u001b[0;32m----> 4\u001b[0m \u001b[38;5;28;01mraise\u001b[39;00m \u001b[38;5;167;01mNotImplementedError\u001b[39;00m(\u001b[38;5;124m\"\u001b[39m\u001b[38;5;124mStudent exercise: You need to fill out code to compute v\u001b[39m\u001b[38;5;124m\"\u001b[39m)\n\u001b[1;32m      5\u001b[0m \u001b[38;5;66;03m#################################################\u001b[39;00m\n\u001b[1;32m      6\u001b[0m \n\u001b[1;32m      7\u001b[0m \u001b[38;5;66;03m# Initialize step_end and v0\u001b[39;00m\n\u001b[1;32m      8\u001b[0m step_end \u001b[38;5;241m=\u001b[39m \u001b[38;5;241m10\u001b[39m\n",
      "\u001b[0;31mNotImplementedError\u001b[0m: Student exercise: You need to fill out code to compute v"
     ]
    }
   ],
   "source": [
    "#################################################\n",
    "## TODO for students: fill out compute v code ##\n",
    "# Fill out code and comment or remove the next line\n",
    "raise NotImplementedError(\"Student exercise: You need to fill out code to compute v\")\n",
    "#################################################\n",
    "\n",
    "# Initialize step_end and v0\n",
    "step_end = 10\n",
    "v = el\n",
    "\n",
    "# Loop for step_end steps\n",
    "for step in range(step_end):\n",
    "  # Compute value of t\n",
    "  t = step * dt\n",
    "\n",
    "  # Compute value of i at this time step\n",
    "  i = i_mean * (1 + np.sin((t * 2 * np.pi) / 0.01))\n",
    "\n",
    "  # Compute v\n",
    "  v = ...\n",
    "\n",
    "  # Print value of t and v\n",
    "  print(f\"{t:.3f} {v:.4e}\")"
   ]
  },
  {
   "cell_type": "markdown",
   "metadata": {
    "execution": {}
   },
   "source": [
    "**SAMPLE OUTPUT**\n",
    "\n",
    "```\n",
    "0.000 -5.8750e-02\n",
    "0.001 -5.6828e-02\n",
    "0.002 -5.4548e-02\n",
    "0.003 -5.2381e-02\n",
    "0.004 -5.0778e-02\n",
    "0.005 -4.9989e-02\n",
    "0.006 -4.9974e-02\n",
    "0.007 -5.0414e-02\n",
    "0.008 -5.0832e-02\n",
    "0.009 -5.0775e-02\n",
    "```"
   ]
  },
  {
   "cell_type": "markdown",
   "metadata": {
    "colab_type": "text",
    "execution": {}
   },
   "source": [
    "[*Click for solution*](https://github.com/NeuromatchAcademy/precourse/tree/main//tutorials/W0D1_PythonWorkshop1/solutions/W0D1_Tutorial1_Solution_6477ecbb.py)\n",
    "\n"
   ]
  },
  {
   "cell_type": "markdown",
   "metadata": {
    "execution": {}
   },
   "source": [
    "---\n",
    "# Section 3: Plotting"
   ]
  },
  {
   "cell_type": "markdown",
   "metadata": {},
   "source": [
    "##  Video 5: Intro to plotting\n"
   ]
  },
  {
   "cell_type": "code",
   "execution_count": 11,
   "metadata": {
    "cellView": "form",
    "execution": {
     "iopub.execute_input": "2023-04-17T16:37:54.068807Z",
     "iopub.status.busy": "2023-04-17T16:37:54.068303Z",
     "iopub.status.idle": "2023-04-17T16:37:54.191895Z",
     "shell.execute_reply": "2023-04-17T16:37:54.191301Z"
    },
    "tags": [
     "remove-input"
    ]
   },
   "outputs": [
    {
     "data": {
      "application/vnd.jupyter.widget-view+json": {
       "model_id": "c76966d3d91c4e689a20b8aaaced8c4c",
       "version_major": 2,
       "version_minor": 0
      },
      "text/plain": [
       "Tab(children=(Output(), Output()), selected_index=0, titles=('Youtube', 'Bilibili'))"
      ]
     },
     "metadata": {},
     "output_type": "display_data"
    }
   ],
   "source": [
    "# @title Video 5: Intro to plotting\n",
    "from ipywidgets import widgets\n",
    "\n",
    "out2 = widgets.Output()\n",
    "with out2:\n",
    "  from IPython.display import IFrame\n",
    "  class BiliVideo(IFrame):\n",
    "      def __init__(self, id, page=1, width=400, height=300, **kwargs):\n",
    "          self.id=id\n",
    "          src = 'https://player.bilibili.com/player.html?bvid={0}&page={1}'.format(id, page)\n",
    "          super(BiliVideo, self).__init__(src, width, height, **kwargs)\n",
    "\n",
    "  video = BiliVideo(id=\"BV1MC4y1h77q\", width=730, height=410, fs=1)\n",
    "  print('Video available at https://www.bilibili.com/video/{0}'.format(video.id))\n",
    "  display(video)\n",
    "\n",
    "out1 = widgets.Output()\n",
    "with out1:\n",
    "  from IPython.display import YouTubeVideo\n",
    "  video = YouTubeVideo(id=\"RmdPBHn9kjk\", width=730, height=410, fs=1, rel=0)\n",
    "  print('Video available at https://youtube.com/watch?v=' + video.id)\n",
    "  display(video)\n",
    "\n",
    "out = widgets.Tab([out1, out2])\n",
    "out.set_title(0, 'Youtube')\n",
    "out.set_title(1, 'Bilibili')\n",
    "\n",
    "display(out)"
   ]
  },
  {
   "cell_type": "markdown",
   "metadata": {},
   "source": [
    "##  Video 6: Nano recap of plotting\n"
   ]
  },
  {
   "cell_type": "code",
   "execution_count": 12,
   "metadata": {
    "cellView": "form",
    "execution": {
     "iopub.execute_input": "2023-04-17T16:37:54.202491Z",
     "iopub.status.busy": "2023-04-17T16:37:54.202310Z",
     "iopub.status.idle": "2023-04-17T16:37:54.350920Z",
     "shell.execute_reply": "2023-04-17T16:37:54.350358Z"
    },
    "tags": [
     "remove-input"
    ]
   },
   "outputs": [
    {
     "data": {
      "application/vnd.jupyter.widget-view+json": {
       "model_id": "3b95d12e88da4ce7829ea4e65ab8abe3",
       "version_major": 2,
       "version_minor": 0
      },
      "text/plain": [
       "Tab(children=(Output(), Output()), selected_index=0, titles=('Youtube', 'Bilibili'))"
      ]
     },
     "metadata": {},
     "output_type": "display_data"
    }
   ],
   "source": [
    "# @title Video 6: Nano recap of plotting\n",
    "from ipywidgets import widgets\n",
    "\n",
    "out2 = widgets.Output()\n",
    "with out2:\n",
    "  from IPython.display import IFrame\n",
    "  class BiliVideo(IFrame):\n",
    "      def __init__(self, id, page=1, width=400, height=300, **kwargs):\n",
    "          self.id=id\n",
    "          src = 'https://player.bilibili.com/player.html?bvid={0}&page={1}'.format(id, page)\n",
    "          super(BiliVideo, self).__init__(src, width, height, **kwargs)\n",
    "\n",
    "  video = BiliVideo(id=\"BV1BA411e7eH\", width=730, height=410, fs=1)\n",
    "  print('Video available at https://www.bilibili.com/video/{0}'.format(video.id))\n",
    "  display(video)\n",
    "\n",
    "out1 = widgets.Output()\n",
    "with out1:\n",
    "  from IPython.display import YouTubeVideo\n",
    "  video = YouTubeVideo(id=\"BOh8CsuTFkY\", width=730, height=410, fs=1, rel=0)\n",
    "  print('Video available at https://youtube.com/watch?v=' + video.id)\n",
    "  display(video)\n",
    "\n",
    "out = widgets.Tab([out1, out2])\n",
    "out.set_title(0, 'Youtube')\n",
    "out.set_title(1, 'Bilibili')\n",
    "\n",
    "display(out)"
   ]
  },
  {
   "cell_type": "markdown",
   "metadata": {
    "execution": {}
   },
   "source": [
    "## Coding Exercise 5: Plotting current\n",
    "\n",
    "In this exercise, we will plot the values of $I(t)$ between $t=0$ and $t=0.024$.\n",
    "\n",
    "You will first need to set the title and axis labels of the plot. Label these descriptively!  You will then need to fill out the code to actually create the plot.\n"
   ]
  },
  {
   "cell_type": "code",
   "execution_count": 13,
   "metadata": {
    "execution": {
     "iopub.execute_input": "2023-04-17T16:37:54.360281Z",
     "iopub.status.busy": "2023-04-17T16:37:54.360078Z",
     "iopub.status.idle": "2023-04-17T16:37:54.378009Z",
     "shell.execute_reply": "2023-04-17T16:37:54.377316Z"
    }
   },
   "outputs": [
    {
     "ename": "NotImplementedError",
     "evalue": "Student exercise: You need to fill out current figure code",
     "output_type": "error",
     "traceback": [
      "\u001b[0;31m---------------------------------------------------------------------------\u001b[0m",
      "\u001b[0;31mNotImplementedError\u001b[0m                       Traceback (most recent call last)",
      "Cell \u001b[0;32mIn[13], line 4\u001b[0m\n\u001b[1;32m      1\u001b[0m \u001b[38;5;66;03m#################################################\u001b[39;00m\n\u001b[1;32m      2\u001b[0m \u001b[38;5;66;03m## TODO for students: fill out the figure initialization and plotting code below ##\u001b[39;00m\n\u001b[1;32m      3\u001b[0m \u001b[38;5;66;03m# Fill out code and comment or remove the next line\u001b[39;00m\n\u001b[0;32m----> 4\u001b[0m \u001b[38;5;28;01mraise\u001b[39;00m \u001b[38;5;167;01mNotImplementedError\u001b[39;00m(\u001b[38;5;124m\"\u001b[39m\u001b[38;5;124mStudent exercise: You need to fill out current figure code\u001b[39m\u001b[38;5;124m\"\u001b[39m)\n\u001b[1;32m      5\u001b[0m \u001b[38;5;66;03m#################################################\u001b[39;00m\n\u001b[1;32m      6\u001b[0m \n\u001b[1;32m      7\u001b[0m \u001b[38;5;66;03m# Initialize step_end\u001b[39;00m\n\u001b[1;32m      8\u001b[0m step_end \u001b[38;5;241m=\u001b[39m \u001b[38;5;241m25\u001b[39m\n",
      "\u001b[0;31mNotImplementedError\u001b[0m: Student exercise: You need to fill out current figure code"
     ]
    }
   ],
   "source": [
    "#################################################\n",
    "## TODO for students: fill out the figure initialization and plotting code below ##\n",
    "# Fill out code and comment or remove the next line\n",
    "raise NotImplementedError(\"Student exercise: You need to fill out current figure code\")\n",
    "#################################################\n",
    "\n",
    "# Initialize step_end\n",
    "step_end = 25\n",
    "\n",
    "# Initialize the figure\n",
    "plt.figure()\n",
    "plt.title(...)\n",
    "plt.xlabel(...)\n",
    "plt.ylabel(...)\n",
    "\n",
    "# Loop for step_end steps\n",
    "for step in range(step_end):\n",
    "\n",
    "  # Compute value of t\n",
    "  t = step * dt\n",
    "\n",
    "  # Compute value of i at this time step\n",
    "  i = i_mean * (1 + np.sin((t * 2 * np.pi) / 0.01))\n",
    "\n",
    "  # Plot i (use 'ko' to get small black dots (short for color='k' and marker = 'o'))\n",
    "  plt.plot(...)\n",
    "\n",
    "# Display the plot\n",
    "plt.show()"
   ]
  },
  {
   "cell_type": "markdown",
   "metadata": {
    "colab_type": "text",
    "execution": {}
   },
   "source": [
    "[*Click for solution*](https://github.com/NeuromatchAcademy/precourse/tree/main//tutorials/W0D1_PythonWorkshop1/solutions/W0D1_Tutorial1_Solution_c15c544f.py)\n",
    "\n",
    "*Example output:*\n",
    "\n",
    "<img alt='Solution hint' align='left' width=849.0 height=561.0 src=https://raw.githubusercontent.com/NeuromatchAcademy/precourse/main/tutorials/W0D1_PythonWorkshop1/static/W0D1_Tutorial1_Solution_c15c544f_0.png>\n",
    "\n"
   ]
  },
  {
   "cell_type": "markdown",
   "metadata": {
    "execution": {}
   },
   "source": [
    "We are plotting the curent input at discrete steps only. If we plotted the current continuously, it would resemble the blue line below."
   ]
  },
  {
   "cell_type": "markdown",
   "metadata": {
    "execution": {}
   },
   "source": [
    "![synaptic input discrete](https://github.com/mpbrigham/colaboratory-figures/raw/master/nma/python-for-nma/synaptic_input_discrete.png)"
   ]
  },
  {
   "cell_type": "markdown",
   "metadata": {
    "execution": {}
   },
   "source": [
    "## Coding Exercise 6: Plotting membrane potential\n",
    "Plot the values of $V(t)$ between $t=0$ and $t=t_{max}$. We can compute the number of steps required to get to $t=t_{max}$ given $\\Delta t$ as `int(t_max/dt)` where `int` gets the nearest integer.\n"
   ]
  },
  {
   "cell_type": "code",
   "execution_count": 14,
   "metadata": {
    "execution": {
     "iopub.execute_input": "2023-04-17T16:37:54.381034Z",
     "iopub.status.busy": "2023-04-17T16:37:54.380432Z",
     "iopub.status.idle": "2023-04-17T16:37:54.399712Z",
     "shell.execute_reply": "2023-04-17T16:37:54.399012Z"
    }
   },
   "outputs": [
    {
     "ename": "NotImplementedError",
     "evalue": "Student exercise: You need to fill out membrane potential figure code",
     "output_type": "error",
     "traceback": [
      "\u001b[0;31m---------------------------------------------------------------------------\u001b[0m",
      "\u001b[0;31mNotImplementedError\u001b[0m                       Traceback (most recent call last)",
      "Cell \u001b[0;32mIn[14], line 4\u001b[0m\n\u001b[1;32m      1\u001b[0m \u001b[38;5;66;03m#################################################\u001b[39;00m\n\u001b[1;32m      2\u001b[0m \u001b[38;5;66;03m## TODO for students: fill out the figure initialization and plotting code below ##\u001b[39;00m\n\u001b[1;32m      3\u001b[0m \u001b[38;5;66;03m# Fill out code and comment or remove the next line\u001b[39;00m\n\u001b[0;32m----> 4\u001b[0m \u001b[38;5;28;01mraise\u001b[39;00m \u001b[38;5;167;01mNotImplementedError\u001b[39;00m(\u001b[38;5;124m\"\u001b[39m\u001b[38;5;124mStudent exercise: You need to fill out membrane potential figure code\u001b[39m\u001b[38;5;124m\"\u001b[39m)\n\u001b[1;32m      5\u001b[0m \u001b[38;5;66;03m#################################################\u001b[39;00m\n\u001b[1;32m      6\u001b[0m \n\u001b[1;32m      7\u001b[0m \u001b[38;5;66;03m# Initialize step_end\u001b[39;00m\n\u001b[1;32m      8\u001b[0m step_end \u001b[38;5;241m=\u001b[39m \u001b[38;5;28mint\u001b[39m(t_max \u001b[38;5;241m/\u001b[39m dt)\n",
      "\u001b[0;31mNotImplementedError\u001b[0m: Student exercise: You need to fill out membrane potential figure code"
     ]
    }
   ],
   "source": [
    "#################################################\n",
    "## TODO for students: fill out the figure initialization and plotting code below ##\n",
    "# Fill out code and comment or remove the next line\n",
    "raise NotImplementedError(\"Student exercise: You need to fill out membrane potential figure code\")\n",
    "#################################################\n",
    "\n",
    "# Initialize step_end\n",
    "step_end = int(t_max / dt)\n",
    "\n",
    "# Initialize v0\n",
    "v = el\n",
    "\n",
    "# Initialize the figure\n",
    "plt.figure()\n",
    "plt.title('$V_m$ with sinusoidal I(t)')\n",
    "plt.xlabel('time (s)')\n",
    "plt.ylabel('$V_m$ (V)');\n",
    "\n",
    "# Loop for step_end steps\n",
    "for step in range(step_end):\n",
    "\n",
    "  # Compute value of t\n",
    "  t = step * dt\n",
    "\n",
    "  # Compute value of i at this time step\n",
    "  i = i_mean * (1 + np.sin((t * 2 * np.pi) / 0.01))\n",
    "\n",
    "  # Compute v\n",
    "  v = v + dt/tau * (el - v + r*i)\n",
    "\n",
    "  # Plot v (using 'k.' to get even smaller markers)\n",
    "  plt.plot(...)\n",
    "\n",
    "# Display plot\n",
    "plt.show()"
   ]
  },
  {
   "cell_type": "markdown",
   "metadata": {
    "colab_type": "text",
    "execution": {}
   },
   "source": [
    "[*Click for solution*](https://github.com/NeuromatchAcademy/precourse/tree/main//tutorials/W0D1_PythonWorkshop1/solutions/W0D1_Tutorial1_Solution_70f05c19.py)\n",
    "\n",
    "*Example output:*\n",
    "\n",
    "<img alt='Solution hint' align='left' width=777.0 height=577.0 src=https://raw.githubusercontent.com/NeuromatchAcademy/precourse/main/tutorials/W0D1_PythonWorkshop1/static/W0D1_Tutorial1_Solution_70f05c19_0.png>\n",
    "\n"
   ]
  },
  {
   "cell_type": "markdown",
   "metadata": {
    "execution": {}
   },
   "source": [
    "---\n",
    "# Section 4: Random synaptic input\n",
    "\n",
    "From the perspective of neurons, synaptic input is random (or stochastic). We'll improve the synaptic input model by introducing random input current with statistical properties similar to the previous exercise:\n",
    "\n",
    "\\begin{equation}\n",
    "I(t) = I_{mean}\\left(1+0.1\\sqrt{\\frac{t_{max}}{\\Delta t}}\\,\\xi(t)\\right)\\qquad\\text{with }\\xi(t)\\sim \\mathcal{U}(-1,1)\n",
    "\\end{equation}\n",
    "\n",
    "where $\\mathcal{U}(-1,1)$ is the [uniform distribution](https://en.wikipedia.org/wiki/Uniform_distribution_(continuous)) with support $x\\in[-1,1]$.\n",
    "\n",
    "We can approximate randomness in code using a pseudo random number generator. The function `np.random.seed()` initializes the RNG. If we initialize this with a number (e.x. `np.random.seed(2)`), we will get the same random number draws each time we run the code. Basically, we are making the random number generation replicable. We do this here so you can get a figure that exactly matches the solution. The function `np.random.random()` generates samples from the uniform distribution between `0` and `1`."
   ]
  },
  {
   "cell_type": "markdown",
   "metadata": {
    "execution": {}
   },
   "source": [
    "## Coding Exercise 7: Adding randomness\n",
    "\n",
    "Plot the values of $V(t)$ between $t=0$ and $t=t_{max}-\\Delta t$ with random input $I(t)$.\n"
   ]
  },
  {
   "cell_type": "code",
   "execution_count": 15,
   "metadata": {
    "execution": {
     "iopub.execute_input": "2023-04-17T16:37:54.402401Z",
     "iopub.status.busy": "2023-04-17T16:37:54.402059Z",
     "iopub.status.idle": "2023-04-17T16:37:54.419525Z",
     "shell.execute_reply": "2023-04-17T16:37:54.418968Z"
    }
   },
   "outputs": [
    {
     "ename": "NotImplementedError",
     "evalue": "Student exercise: You need to fill out random input code",
     "output_type": "error",
     "traceback": [
      "\u001b[0;31m---------------------------------------------------------------------------\u001b[0m",
      "\u001b[0;31mNotImplementedError\u001b[0m                       Traceback (most recent call last)",
      "Cell \u001b[0;32mIn[15], line 4\u001b[0m\n\u001b[1;32m      1\u001b[0m \u001b[38;5;66;03m#################################################\u001b[39;00m\n\u001b[1;32m      2\u001b[0m \u001b[38;5;66;03m## TODO for students: fill out code to get random input ##\u001b[39;00m\n\u001b[1;32m      3\u001b[0m \u001b[38;5;66;03m# Fill out code and comment or remove the next line\u001b[39;00m\n\u001b[0;32m----> 4\u001b[0m \u001b[38;5;28;01mraise\u001b[39;00m \u001b[38;5;167;01mNotImplementedError\u001b[39;00m(\u001b[38;5;124m\"\u001b[39m\u001b[38;5;124mStudent exercise: You need to fill out random input code\u001b[39m\u001b[38;5;124m\"\u001b[39m)\n\u001b[1;32m      5\u001b[0m \u001b[38;5;66;03m#################################################\u001b[39;00m\n\u001b[1;32m      6\u001b[0m \n\u001b[1;32m      7\u001b[0m \u001b[38;5;66;03m# Set random number generator\u001b[39;00m\n\u001b[1;32m      8\u001b[0m np\u001b[38;5;241m.\u001b[39mrandom\u001b[38;5;241m.\u001b[39mseed(\u001b[38;5;241m2020\u001b[39m)\n",
      "\u001b[0;31mNotImplementedError\u001b[0m: Student exercise: You need to fill out random input code"
     ]
    }
   ],
   "source": [
    "#################################################\n",
    "## TODO for students: fill out code to get random input ##\n",
    "# Fill out code and comment or remove the next line\n",
    "raise NotImplementedError(\"Student exercise: You need to fill out random input code\")\n",
    "#################################################\n",
    "\n",
    "# Set random number generator\n",
    "np.random.seed(2020)\n",
    "\n",
    "# Initialize step_end and v\n",
    "step_end = int(t_max / dt)\n",
    "v = el\n",
    "\n",
    "# Initialize the figure\n",
    "plt.figure()\n",
    "plt.title('$V_m$ with random I(t)')\n",
    "plt.xlabel('time (s)')\n",
    "plt.ylabel('$V_m$ (V)')\n",
    "\n",
    "# loop for step_end steps\n",
    "for step in range(step_end):\n",
    "\n",
    "  # Compute value of t\n",
    "  t = step * dt\n",
    "\n",
    "  # Get random number in correct range of -1 to 1 (will need to adjust output of np.random.random)\n",
    "  random_num = ...\n",
    "\n",
    "  # Compute value of i at this time step\n",
    "  i = ...\n",
    "\n",
    "  # Compute v\n",
    "  v = v + dt/tau * (el - v + r*i)\n",
    "\n",
    "  # Plot v (using 'k.' to get even smaller markers)\n",
    "  plt.plot(t, v, 'k.')\n",
    "\n",
    "\n",
    "# Display plot\n",
    "plt.show()"
   ]
  },
  {
   "cell_type": "markdown",
   "metadata": {
    "colab_type": "text",
    "execution": {}
   },
   "source": [
    "[*Click for solution*](https://github.com/NeuromatchAcademy/precourse/tree/main//tutorials/W0D1_PythonWorkshop1/solutions/W0D1_Tutorial1_Solution_413e2a3c.py)\n",
    "\n",
    "*Example output:*\n",
    "\n",
    "<img alt='Solution hint' align='left' width=777.0 height=577.0 src=https://raw.githubusercontent.com/NeuromatchAcademy/precourse/main/tutorials/W0D1_PythonWorkshop1/static/W0D1_Tutorial1_Solution_413e2a3c_0.png>\n",
    "\n"
   ]
  },
  {
   "cell_type": "markdown",
   "metadata": {
    "execution": {}
   },
   "source": [
    "Random synaptic input $I(t)$ results in random time course for $V(t)$."
   ]
  },
  {
   "cell_type": "markdown",
   "metadata": {
    "execution": {}
   },
   "source": [
    "---\n",
    "# Section 5: Lists & ensemble statistics\n"
   ]
  },
  {
   "cell_type": "markdown",
   "metadata": {},
   "source": [
    "##  Video 7: Lists & ensemble statistics\n"
   ]
  },
  {
   "cell_type": "code",
   "execution_count": 16,
   "metadata": {
    "cellView": "form",
    "execution": {
     "iopub.execute_input": "2023-04-17T16:37:54.422089Z",
     "iopub.status.busy": "2023-04-17T16:37:54.421718Z",
     "iopub.status.idle": "2023-04-17T16:37:54.598555Z",
     "shell.execute_reply": "2023-04-17T16:37:54.597852Z"
    },
    "tags": [
     "remove-input"
    ]
   },
   "outputs": [
    {
     "data": {
      "application/vnd.jupyter.widget-view+json": {
       "model_id": "3b38a87eca6b4066b8dc86d0a781ff34",
       "version_major": 2,
       "version_minor": 0
      },
      "text/plain": [
       "Tab(children=(Output(), Output()), selected_index=0, titles=('Youtube', 'Bilibili'))"
      ]
     },
     "metadata": {},
     "output_type": "display_data"
    }
   ],
   "source": [
    "# @title Video 7: Lists & ensemble statistics\n",
    "from ipywidgets import widgets\n",
    "\n",
    "out2 = widgets.Output()\n",
    "with out2:\n",
    "  from IPython.display import IFrame\n",
    "  class BiliVideo(IFrame):\n",
    "      def __init__(self, id, page=1, width=400, height=300, **kwargs):\n",
    "          self.id=id\n",
    "          src = 'https://player.bilibili.com/player.html?bvid={0}&page={1}'.format(id, page)\n",
    "          super(BiliVideo, self).__init__(src, width, height, **kwargs)\n",
    "\n",
    "  video = BiliVideo(id=\"BV1ff4y197Hx\", width=730, height=410, fs=1)\n",
    "  print('Video available at https://www.bilibili.com/video/{0}'.format(video.id))\n",
    "  display(video)\n",
    "\n",
    "out1 = widgets.Output()\n",
    "with out1:\n",
    "  from IPython.display import YouTubeVideo\n",
    "  video = YouTubeVideo(id=\"A2foheo44h4\", width=730, height=410, fs=1, rel=0)\n",
    "  print('Video available at https://youtube.com/watch?v=' + video.id)\n",
    "  display(video)\n",
    "\n",
    "out = widgets.Tab([out1, out2])\n",
    "out.set_title(0, 'Youtube')\n",
    "out.set_title(1, 'Bilibili')\n",
    "\n",
    "display(out)"
   ]
  },
  {
   "cell_type": "markdown",
   "metadata": {},
   "source": [
    "##  Video 8: Nano recap of ensemble statistics & lists\n"
   ]
  },
  {
   "cell_type": "code",
   "execution_count": 17,
   "metadata": {
    "cellView": "form",
    "execution": {
     "iopub.execute_input": "2023-04-17T16:37:54.609139Z",
     "iopub.status.busy": "2023-04-17T16:37:54.608938Z",
     "iopub.status.idle": "2023-04-17T16:37:54.653797Z",
     "shell.execute_reply": "2023-04-17T16:37:54.653274Z"
    },
    "tags": [
     "remove-input"
    ]
   },
   "outputs": [
    {
     "data": {
      "application/vnd.jupyter.widget-view+json": {
       "model_id": "b229f5270905498e90fc5b40b7f1eae8",
       "version_major": 2,
       "version_minor": 0
      },
      "text/plain": [
       "Tab(children=(Output(), Output()), selected_index=0, titles=('Youtube', 'Bilibili'))"
      ]
     },
     "metadata": {},
     "output_type": "display_data"
    }
   ],
   "source": [
    "# @title Video 8: Nano recap of ensemble statistics & lists\n",
    "from ipywidgets import widgets\n",
    "\n",
    "out2 = widgets.Output()\n",
    "with out2:\n",
    "  from IPython.display import IFrame\n",
    "  class BiliVideo(IFrame):\n",
    "      def __init__(self, id, page=1, width=400, height=300, **kwargs):\n",
    "          self.id=id\n",
    "          src = 'https://player.bilibili.com/player.html?bvid={0}&page={1}'.format(id, page)\n",
    "          super(BiliVideo, self).__init__(src, width, height, **kwargs)\n",
    "\n",
    "  video = BiliVideo(id=\"BV1UZ4y1u7sV\", width=730, height=410, fs=1)\n",
    "  print('Video available at https://www.bilibili.com/video/{0}'.format(video.id))\n",
    "  display(video)\n",
    "\n",
    "out1 = widgets.Output()\n",
    "with out1:\n",
    "  from IPython.display import YouTubeVideo\n",
    "  video = YouTubeVideo(id=\"4nIAS2oPEFI\", width=730, height=410, fs=1, rel=0)\n",
    "  print('Video available at https://youtube.com/watch?v=' + video.id)\n",
    "  display(video)\n",
    "\n",
    "out = widgets.Tab([out1, out2])\n",
    "out.set_title(0, 'Youtube')\n",
    "out.set_title(1, 'Bilibili')\n",
    "\n",
    "display(out)"
   ]
  },
  {
   "cell_type": "markdown",
   "metadata": {
    "execution": {}
   },
   "source": [
    "Multiple runs of the previous exercise may give the impression of periodic regularity in the evolution of $V(t)$. We'll collect the sample mean over $N=50$ realizations of $V(t)$  with random input to test such a hypothesis. The sample mean, sample variance and sample autocovariance at times $\\left\\{t, s\\right\\}\\in[0,t_{max}]$, and for $N$ realizations $V_n(t)$ are given by:\n",
    "\n",
    "\\begin{align}\n",
    "\\\\\n",
    "\\left\\langle V(t)\\right\\rangle &= \\frac{1}{N}\\sum_{n=1}^N V_n(t) & & \\text{sample mean}\\\\\n",
    "\\left\\langle (V(t)-\\left\\langle V(t)\\right\\rangle)^2\\right\\rangle &= \\frac{1}{N-1} \\sum_{n=1}^N \\left(V_n(t)-\\left\\langle V(t)\\right\\rangle\\right)^2 & & \\text{sample variance} \\\\\n",
    "\\left\\langle \\left(V(t)-\\left\\langle V(t)\\right\\rangle\\right)\\left(V(s)-\\left\\langle V(s)\\right\\rangle\\right)\\right\\rangle\n",
    "&= \\frac{1}{N-1} \\sum_{n=1}^N \\left(V_n(t)-\\left\\langle V(t)\\right\\rangle\\right)\\left(V_n(s)-\\left\\langle V(s)\\right\\rangle\\right) & & \\text{sample autocovariance}\n",
    "\\end{align}"
   ]
  },
  {
   "cell_type": "markdown",
   "metadata": {
    "execution": {}
   },
   "source": [
    "## Coding Exercise 8: Storing simulations in lists\n",
    "Plot multiple simulations ($N=50$) of $V(t)$ by storing in a list the voltage of each neuron at time $t$.\n",
    "\n",
    "Keep in mind that the plotting command `plt.plot(x, y)` requires `x` to have the same number of elements as `y`.\n",
    "\n",
    "Mathematical symbols such as $\\alpha$ and $\\beta$ are specified as `$\\alpha$` and `$\\beta$` in [TeX markup](https://en.wikipedia.org/wiki/TeX). See additional details in [Writing mathematical expressions](https://matplotlib.org/3.2.2/tutorials/text/mathtext.html) in Matplotlib.\n"
   ]
  },
  {
   "cell_type": "code",
   "execution_count": 18,
   "metadata": {
    "execution": {
     "iopub.execute_input": "2023-04-17T16:37:54.668810Z",
     "iopub.status.busy": "2023-04-17T16:37:54.666326Z",
     "iopub.status.idle": "2023-04-17T16:37:54.688277Z",
     "shell.execute_reply": "2023-04-17T16:37:54.687758Z"
    }
   },
   "outputs": [
    {
     "ename": "NotImplementedError",
     "evalue": "Student exercise: You need to store v in list",
     "output_type": "error",
     "traceback": [
      "\u001b[0;31m---------------------------------------------------------------------------\u001b[0m",
      "\u001b[0;31mNotImplementedError\u001b[0m                       Traceback (most recent call last)",
      "Cell \u001b[0;32mIn[18], line 4\u001b[0m\n\u001b[1;32m      1\u001b[0m \u001b[38;5;66;03m#################################################\u001b[39;00m\n\u001b[1;32m      2\u001b[0m \u001b[38;5;66;03m## TODO for students: fill out code to store v in list ##\u001b[39;00m\n\u001b[1;32m      3\u001b[0m \u001b[38;5;66;03m# Fill out code and comment or remove the next line\u001b[39;00m\n\u001b[0;32m----> 4\u001b[0m \u001b[38;5;28;01mraise\u001b[39;00m \u001b[38;5;167;01mNotImplementedError\u001b[39;00m(\u001b[38;5;124m\"\u001b[39m\u001b[38;5;124mStudent exercise: You need to store v in list\u001b[39m\u001b[38;5;124m\"\u001b[39m)\n\u001b[1;32m      5\u001b[0m \u001b[38;5;66;03m#################################################\u001b[39;00m\n\u001b[1;32m      6\u001b[0m \n\u001b[1;32m      7\u001b[0m \u001b[38;5;66;03m# Set random number generator\u001b[39;00m\n\u001b[1;32m      8\u001b[0m np\u001b[38;5;241m.\u001b[39mrandom\u001b[38;5;241m.\u001b[39mseed(\u001b[38;5;241m2020\u001b[39m)\n",
      "\u001b[0;31mNotImplementedError\u001b[0m: Student exercise: You need to store v in list"
     ]
    }
   ],
   "source": [
    "#################################################\n",
    "## TODO for students: fill out code to store v in list ##\n",
    "# Fill out code and comment or remove the next line\n",
    "raise NotImplementedError(\"Student exercise: You need to store v in list\")\n",
    "#################################################\n",
    "\n",
    "# Set random number generator\n",
    "np.random.seed(2020)\n",
    "\n",
    "# Initialize step_end and n\n",
    "step_end = int(t_max / dt)\n",
    "n = 50\n",
    "\n",
    "# Intiatialize the list v_n with 50 values of membrane leak potential el\n",
    "v_n = ...\n",
    "\n",
    "with plt.xkcd():\n",
    "  # Initialize the figure\n",
    "  plt.figure()\n",
    "  plt.title('Multiple realizations of $V_m$')\n",
    "  plt.xlabel('time (s)')\n",
    "  plt.ylabel('$V_m$ (V)')\n",
    "\n",
    "  # Loop for step_end steps\n",
    "  for step in range(step_end):\n",
    "\n",
    "    # Compute value of t\n",
    "    t = step * dt\n",
    "\n",
    "    # Loop for n simulations\n",
    "    for j in range(0, n):\n",
    "\n",
    "      # Compute value of i at this time step\n",
    "      i = i_mean * (1 + 0.1 * (t_max/dt)**(0.5) * (2* np.random.random() - 1))\n",
    "\n",
    "      # Compute value of v for this simulation\n",
    "      v_n[j] = ...\n",
    "\n",
    "    # Plot all simulations (use alpha = 0.1 to make each marker slightly transparent)\n",
    "    plt.plot(...)\n",
    "\n",
    "  # Display plot\n",
    "  plt.show()"
   ]
  },
  {
   "cell_type": "markdown",
   "metadata": {
    "colab_type": "text",
    "execution": {}
   },
   "source": [
    "[*Click for solution*](https://github.com/NeuromatchAcademy/precourse/tree/main//tutorials/W0D1_PythonWorkshop1/solutions/W0D1_Tutorial1_Solution_04e56444.py)\n",
    "\n",
    "*Example output:*\n",
    "\n",
    "<img alt='Solution hint' align='left' width=777.0 height=578.0 src=https://raw.githubusercontent.com/NeuromatchAcademy/precourse/main/tutorials/W0D1_PythonWorkshop1/static/W0D1_Tutorial1_Solution_04e56444_0.png>\n",
    "\n"
   ]
  },
  {
   "cell_type": "markdown",
   "metadata": {
    "execution": {}
   },
   "source": [
    "## Coding Exercise 9: Plotting sample mean\n",
    "\n",
    "Add the sample mean $\\left\\langle V(t)\\right\\rangle=\\frac{1}{N}\\sum_{n=1}^N V_n(t)$ to the plot.\n"
   ]
  },
  {
   "cell_type": "code",
   "execution_count": 19,
   "metadata": {
    "execution": {
     "iopub.execute_input": "2023-04-17T16:37:54.690680Z",
     "iopub.status.busy": "2023-04-17T16:37:54.690359Z",
     "iopub.status.idle": "2023-04-17T16:37:54.711633Z",
     "shell.execute_reply": "2023-04-17T16:37:54.711011Z"
    }
   },
   "outputs": [
    {
     "ename": "NotImplementedError",
     "evalue": "Student exercise: You need to plot the sample mean",
     "output_type": "error",
     "traceback": [
      "\u001b[0;31m---------------------------------------------------------------------------\u001b[0m",
      "\u001b[0;31mNotImplementedError\u001b[0m                       Traceback (most recent call last)",
      "Cell \u001b[0;32mIn[19], line 4\u001b[0m\n\u001b[1;32m      1\u001b[0m \u001b[38;5;66;03m#################################################\u001b[39;00m\n\u001b[1;32m      2\u001b[0m \u001b[38;5;66;03m## TODO for students: fill out code to plot sample mean ##\u001b[39;00m\n\u001b[1;32m      3\u001b[0m \u001b[38;5;66;03m# Fill out code and comment or remove the next line\u001b[39;00m\n\u001b[0;32m----> 4\u001b[0m \u001b[38;5;28;01mraise\u001b[39;00m \u001b[38;5;167;01mNotImplementedError\u001b[39;00m(\u001b[38;5;124m\"\u001b[39m\u001b[38;5;124mStudent exercise: You need to plot the sample mean\u001b[39m\u001b[38;5;124m\"\u001b[39m)\n\u001b[1;32m      5\u001b[0m \u001b[38;5;66;03m#################################################\u001b[39;00m\n\u001b[1;32m      6\u001b[0m \n\u001b[1;32m      7\u001b[0m \u001b[38;5;66;03m# Set random number generator\u001b[39;00m\n\u001b[1;32m      8\u001b[0m np\u001b[38;5;241m.\u001b[39mrandom\u001b[38;5;241m.\u001b[39mseed(\u001b[38;5;241m2020\u001b[39m)\n",
      "\u001b[0;31mNotImplementedError\u001b[0m: Student exercise: You need to plot the sample mean"
     ]
    }
   ],
   "source": [
    "#################################################\n",
    "## TODO for students: fill out code to plot sample mean ##\n",
    "# Fill out code and comment or remove the next line\n",
    "raise NotImplementedError(\"Student exercise: You need to plot the sample mean\")\n",
    "#################################################\n",
    "\n",
    "# Set random number generator\n",
    "np.random.seed(2020)\n",
    "\n",
    "# Initialize step_end and n\n",
    "step_end = int(t_max / dt)\n",
    "n = 50\n",
    "\n",
    "# Intiatialize the list v_n with 50 values of membrane leak potential el\n",
    "v_n = [el] * n\n",
    "\n",
    "# Initialize the figure\n",
    "plt.figure()\n",
    "plt.title('Multiple realizations of $V_m$')\n",
    "plt.xlabel('time (s)')\n",
    "plt.ylabel('$V_m$ (V)')\n",
    "\n",
    "# Loop for step_end steps\n",
    "for step in range(step_end):\n",
    "\n",
    "  # Compute value of t\n",
    "  t = step * dt\n",
    "\n",
    "  # Loop for n simulations\n",
    "  for j in range(0, n):\n",
    "\n",
    "    # Compute value of i at this time step\n",
    "    i = i_mean * (1 + 0.1 * (t_max/dt)**(0.5) * (2* np.random.random() - 1))\n",
    "\n",
    "    # Compute value of v for this simulation\n",
    "    v_n[j] = v_n[j] + (dt / tau) * (el - v_n[j] + r*i)\n",
    "\n",
    "  # Compute sample mean by summing list of v_n using sum, and dividing by n\n",
    "  v_mean = ...\n",
    "\n",
    "  # Plot simulations\n",
    "  plt.plot(n*[t], v_n, 'k.', alpha=0.1)\n",
    "\n",
    "  # Plot sample mean using alpha=0.8 and'C0.' for blue\n",
    "  plt.plot(...)\n",
    "\n",
    "# Display plot\n",
    "plt.show()"
   ]
  },
  {
   "cell_type": "markdown",
   "metadata": {
    "colab_type": "text",
    "execution": {}
   },
   "source": [
    "[*Click for solution*](https://github.com/NeuromatchAcademy/precourse/tree/main//tutorials/W0D1_PythonWorkshop1/solutions/W0D1_Tutorial1_Solution_684b683f.py)\n",
    "\n",
    "*Example output:*\n",
    "\n",
    "<img alt='Solution hint' align='left' width=775.0 height=575.0 src=https://raw.githubusercontent.com/NeuromatchAcademy/precourse/main/tutorials/W0D1_PythonWorkshop1/static/W0D1_Tutorial1_Solution_684b683f_0.png>\n",
    "\n"
   ]
  },
  {
   "cell_type": "markdown",
   "metadata": {
    "execution": {}
   },
   "source": [
    "## Coding Exercise 10: Plotting sample standard deviation\n",
    "\n",
    "Add the sample standard deviation $\\sigma(t)\\equiv\\sqrt{\\text{Var}\\left(t\\right)}$ to the plot, with sample variance $\\text{Var}(t) = \\frac{1}{N-1} \\sum_{n=1}^N \\left(V_n(t)-\\left\\langle V(t)\\right\\rangle\\right)^2$.\n",
    "\n",
    "Use a list comprehension to collect the sample variance `v_var`. Here's an example to initialize a list with squares of `0` to `9`:\n",
    "```\n",
    "squares = [x**2 for x in range(10)]\n",
    "print(squares)\n",
    "--> [0, 1, 4, 9, 16, 25, 36, 49, 64, 81]\n",
    "```\n",
    "\n",
    "Think: Why are we plotting $\\sigma(t)$ rather than the $\\text{Var}(t)$? What are the units of each and the units of $\\left\\langle V(t)\\right\\rangle$?\n"
   ]
  },
  {
   "cell_type": "code",
   "execution_count": 20,
   "metadata": {
    "execution": {
     "iopub.execute_input": "2023-04-17T16:37:54.714379Z",
     "iopub.status.busy": "2023-04-17T16:37:54.713868Z",
     "iopub.status.idle": "2023-04-17T16:37:54.736999Z",
     "shell.execute_reply": "2023-04-17T16:37:54.736390Z"
    }
   },
   "outputs": [
    {
     "ename": "NotImplementedError",
     "evalue": "Student exercise: You need to plot the sample standard deviation",
     "output_type": "error",
     "traceback": [
      "\u001b[0;31m---------------------------------------------------------------------------\u001b[0m",
      "\u001b[0;31mNotImplementedError\u001b[0m                       Traceback (most recent call last)",
      "Cell \u001b[0;32mIn[20], line 4\u001b[0m\n\u001b[1;32m      1\u001b[0m \u001b[38;5;66;03m#################################################\u001b[39;00m\n\u001b[1;32m      2\u001b[0m \u001b[38;5;66;03m## TODO for students: fill out code to plot sample standard deviation ##\u001b[39;00m\n\u001b[1;32m      3\u001b[0m \u001b[38;5;66;03m# Fill out code and comment or remove the next line\u001b[39;00m\n\u001b[0;32m----> 4\u001b[0m \u001b[38;5;28;01mraise\u001b[39;00m \u001b[38;5;167;01mNotImplementedError\u001b[39;00m(\u001b[38;5;124m\"\u001b[39m\u001b[38;5;124mStudent exercise: You need to plot the sample standard deviation\u001b[39m\u001b[38;5;124m\"\u001b[39m)\n\u001b[1;32m      5\u001b[0m \u001b[38;5;66;03m#################################################\u001b[39;00m\n\u001b[1;32m      6\u001b[0m \n\u001b[1;32m      7\u001b[0m \u001b[38;5;66;03m# Set random number generator\u001b[39;00m\n\u001b[1;32m      8\u001b[0m np\u001b[38;5;241m.\u001b[39mrandom\u001b[38;5;241m.\u001b[39mseed(\u001b[38;5;241m2020\u001b[39m)\n",
      "\u001b[0;31mNotImplementedError\u001b[0m: Student exercise: You need to plot the sample standard deviation"
     ]
    }
   ],
   "source": [
    "#################################################\n",
    "## TODO for students: fill out code to plot sample standard deviation ##\n",
    "# Fill out code and comment or remove the next line\n",
    "raise NotImplementedError(\"Student exercise: You need to plot the sample standard deviation\")\n",
    "#################################################\n",
    "\n",
    "# Set random number generator\n",
    "np.random.seed(2020)\n",
    "\n",
    "# Initialize step_end and n\n",
    "step_end = int(t_max / dt)\n",
    "n = 50\n",
    "\n",
    "# Intiatialize the list v_n with 50 values of membrane leak potential el\n",
    "v_n = [el] * n\n",
    "\n",
    "# Initialize the figure\n",
    "plt.figure()\n",
    "plt.title('Multiple realizations of $V_m$')\n",
    "plt.xlabel('time (s)')\n",
    "plt.ylabel('$V_m$ (V)')\n",
    "\n",
    "# Loop for step_end steps\n",
    "for step in range(step_end):\n",
    "\n",
    "  # Compute value of t\n",
    "  t = step * dt\n",
    "\n",
    "  # Loop for n simulations\n",
    "  for j in range(0, n):\n",
    "\n",
    "    # Compute value of i at this time step\n",
    "    i = i_mean * (1 + 0.1 * (t_max/dt)**(0.5) * (2* np.random.random() - 1))\n",
    "\n",
    "    # Compute value of v for this simulation\n",
    "    v_n[j] = v_n[j] + (dt / tau) * (el - v_n[j] + r*i)\n",
    "\n",
    "  # Compute sample mean\n",
    "  v_mean = sum(v_n) / n\n",
    "\n",
    "  # Initialize a list `v_var_n` with the contribution of each V_n(t) to\n",
    "  # Var(t) with a list comprehension over values of v_n\n",
    "  v_var_n = ...\n",
    "\n",
    "  # Compute sample variance v_var by summing the values of v_var_n with sum and dividing by n-1\n",
    "  v_var = ...\n",
    "\n",
    "  # Compute the standard deviation v_std with the function np.sqrt\n",
    "  v_std = ...\n",
    "\n",
    "  # Plot simulations\n",
    "  plt.plot(n*[t], v_n, 'k.', alpha=0.1)\n",
    "\n",
    "  # Plot sample mean using alpha=0.8 and'C0.' for blue\n",
    "  plt.plot(t, v_mean, 'C0.', alpha=0.8, markersize=10)\n",
    "\n",
    "  # Plot mean + standard deviation with alpha=0.8 and argument 'C7'\n",
    "  plt.plot(...)\n",
    "\n",
    "  # Plot mean - standard deviation with alpha=0.8 and argument 'C7'\n",
    "  plt.plot(...)\n",
    "\n",
    "\n",
    "# Display plot\n",
    "plt.show()"
   ]
  },
  {
   "cell_type": "markdown",
   "metadata": {
    "colab_type": "text",
    "execution": {}
   },
   "source": [
    "[*Click for solution*](https://github.com/NeuromatchAcademy/precourse/tree/main//tutorials/W0D1_PythonWorkshop1/solutions/W0D1_Tutorial1_Solution_4441778c.py)\n",
    "\n",
    "*Example output:*\n",
    "\n",
    "<img alt='Solution hint' align='left' width=777.0 height=578.0 src=https://raw.githubusercontent.com/NeuromatchAcademy/precourse/main/tutorials/W0D1_PythonWorkshop1/static/W0D1_Tutorial1_Solution_4441778c_0.png>\n",
    "\n"
   ]
  },
  {
   "cell_type": "markdown",
   "metadata": {
    "execution": {}
   },
   "source": [
    "---\n",
    "# Section 6: Using NumPy\n"
   ]
  },
  {
   "cell_type": "markdown",
   "metadata": {},
   "source": [
    "##  Video 9: Using NumPy\n"
   ]
  },
  {
   "cell_type": "code",
   "execution_count": 21,
   "metadata": {
    "cellView": "form",
    "execution": {
     "iopub.execute_input": "2023-04-17T16:37:54.739612Z",
     "iopub.status.busy": "2023-04-17T16:37:54.739299Z",
     "iopub.status.idle": "2023-04-17T16:37:54.770528Z",
     "shell.execute_reply": "2023-04-17T16:37:54.770040Z"
    },
    "tags": [
     "remove-input"
    ]
   },
   "outputs": [
    {
     "data": {
      "application/vnd.jupyter.widget-view+json": {
       "model_id": "e538dac5b4674e5186e0932df74381fb",
       "version_major": 2,
       "version_minor": 0
      },
      "text/plain": [
       "Tab(children=(Output(), Output()), selected_index=0, titles=('Youtube', 'Bilibili'))"
      ]
     },
     "metadata": {},
     "output_type": "display_data"
    }
   ],
   "source": [
    "# @title Video 9: Using NumPy\n",
    "from ipywidgets import widgets\n",
    "\n",
    "out2 = widgets.Output()\n",
    "with out2:\n",
    "  from IPython.display import IFrame\n",
    "  class BiliVideo(IFrame):\n",
    "      def __init__(self, id, page=1, width=400, height=300, **kwargs):\n",
    "          self.id=id\n",
    "          src = 'https://player.bilibili.com/player.html?bvid={0}&page={1}'.format(id, page)\n",
    "          super(BiliVideo, self).__init__(src, width, height, **kwargs)\n",
    "\n",
    "  video = BiliVideo(id=\"BV1wa4y1a7Xq\", width=730, height=410, fs=1)\n",
    "  print('Video available at https://www.bilibili.com/video/{0}'.format(video.id))\n",
    "  display(video)\n",
    "\n",
    "out1 = widgets.Output()\n",
    "with out1:\n",
    "  from IPython.display import YouTubeVideo\n",
    "  video = YouTubeVideo(id=\"OIzSQvMbe2k\", width=730, height=410, fs=1, rel=0)\n",
    "  print('Video available at https://youtube.com/watch?v=' + video.id)\n",
    "  display(video)\n",
    "\n",
    "out = widgets.Tab([out1, out2])\n",
    "out.set_title(0, 'Youtube')\n",
    "out.set_title(1, 'Bilibili')\n",
    "\n",
    "display(out)"
   ]
  },
  {
   "cell_type": "markdown",
   "metadata": {
    "execution": {}
   },
   "source": [
    "![NumPy package](https://github.com/NeuromatchAcademy/precourse/blob/main/tutorials/W0D1_PythonWorkshop1/static/numpy_logo_small.png?raw=True)\n",
    "\n",
    "<br>\n",
    "\n",
    "The next set of exercises introduces `np.array`, the workhorse from the scientific computation package [NumPy](https://numpy.org). Numpy arrays the default for numerical data storage and computation and will separate computing steps from plotting.\n",
    "\n",
    "We updated plots inside the main loop in the previous exercises and stored intermediate results in lists for plotting them. The purpose was to simplify earlier exercises as much as possible. However, there are very few scenarios where this technique is necessary, and you should avoid it in the future. Using numpy arrays will significantly simplify our coding narrative by computing inside the main loop and plotting afterward.\n",
    "\n",
    "Lists are much more natural for storing data for other purposes than computation. For example, lists are handy for storing numerical indexes and text."
   ]
  },
  {
   "cell_type": "markdown",
   "metadata": {},
   "source": [
    "##  Video 10: Nano recap of using NumPy\n"
   ]
  },
  {
   "cell_type": "code",
   "execution_count": 22,
   "metadata": {
    "cellView": "form",
    "execution": {
     "iopub.execute_input": "2023-04-17T16:37:54.779210Z",
     "iopub.status.busy": "2023-04-17T16:37:54.778895Z",
     "iopub.status.idle": "2023-04-17T16:37:54.826469Z",
     "shell.execute_reply": "2023-04-17T16:37:54.825793Z"
    },
    "tags": [
     "remove-input"
    ]
   },
   "outputs": [
    {
     "data": {
      "application/vnd.jupyter.widget-view+json": {
       "model_id": "45b0ce4b581c42558d07b41ff419db1c",
       "version_major": 2,
       "version_minor": 0
      },
      "text/plain": [
       "Tab(children=(Output(), Output()), selected_index=0, titles=('Youtube', 'Bilibili'))"
      ]
     },
     "metadata": {},
     "output_type": "display_data"
    }
   ],
   "source": [
    "# @title Video 10: Nano recap of using NumPy\n",
    "from ipywidgets import widgets\n",
    "\n",
    "out2 = widgets.Output()\n",
    "with out2:\n",
    "  from IPython.display import IFrame\n",
    "  class BiliVideo(IFrame):\n",
    "      def __init__(self, id, page=1, width=400, height=300, **kwargs):\n",
    "          self.id=id\n",
    "          src = 'https://player.bilibili.com/player.html?bvid={0}&page={1}'.format(id, page)\n",
    "          super(BiliVideo, self).__init__(src, width, height, **kwargs)\n",
    "\n",
    "  video = BiliVideo(id=\"BV1of4y197jo\", width=730, height=410, fs=1)\n",
    "  print('Video available at https://www.bilibili.com/video/{0}'.format(video.id))\n",
    "  display(video)\n",
    "\n",
    "out1 = widgets.Output()\n",
    "with out1:\n",
    "  from IPython.display import YouTubeVideo\n",
    "  video = YouTubeVideo(id=\"ewyHKKa2_OU\", width=730, height=410, fs=1, rel=0)\n",
    "  print('Video available at https://youtube.com/watch?v=' + video.id)\n",
    "  display(video)\n",
    "\n",
    "out = widgets.Tab([out1, out2])\n",
    "out.set_title(0, 'Youtube')\n",
    "out.set_title(1, 'Bilibili')\n",
    "\n",
    "display(out)"
   ]
  },
  {
   "cell_type": "markdown",
   "metadata": {
    "execution": {}
   },
   "source": [
    "## Coding Exercise 11: Rewriting with numpy\n",
    "\n",
    "Rewrite the single neuron plot with random input from _Exercise 7_ with numpy arrays. \n",
    "\n",
    "The time range, voltage values, and synaptic current are initialized or pre-computed as numpy arrays before numerical integration. We use `np.linspace` to initialize a numpy array `t_range` with `num=step_end=150` values from `0` to `t_max`\n",
    "We use `np.ones` to initialize a numpy array `v` with `step_end + 1` leak potential values `el`. You will pre-compute `step_end` synaptic current values in numpy array `i` with `np.random.random(step_end)` for `step_end` random numbers. Since `v[0]=el`, we should iterate for `step_end` steps but skip `step=0`."
   ]
  },
  {
   "cell_type": "code",
   "execution_count": 23,
   "metadata": {
    "execution": {
     "iopub.execute_input": "2023-04-17T16:37:54.836236Z",
     "iopub.status.busy": "2023-04-17T16:37:54.835855Z",
     "iopub.status.idle": "2023-04-17T16:37:54.854068Z",
     "shell.execute_reply": "2023-04-17T16:37:54.853465Z"
    }
   },
   "outputs": [
    {
     "ename": "NotImplementedError",
     "evalue": "Student exercise: You need to rewrite simulation in numpy",
     "output_type": "error",
     "traceback": [
      "\u001b[0;31m---------------------------------------------------------------------------\u001b[0m",
      "\u001b[0;31mNotImplementedError\u001b[0m                       Traceback (most recent call last)",
      "Cell \u001b[0;32mIn[23], line 4\u001b[0m\n\u001b[1;32m      1\u001b[0m \u001b[38;5;66;03m#################################################\u001b[39;00m\n\u001b[1;32m      2\u001b[0m \u001b[38;5;66;03m## TODO for students: fill out code to rewrite simulation in numpy##\u001b[39;00m\n\u001b[1;32m      3\u001b[0m \u001b[38;5;66;03m# Fill out code and comment or remove the next line\u001b[39;00m\n\u001b[0;32m----> 4\u001b[0m \u001b[38;5;28;01mraise\u001b[39;00m \u001b[38;5;167;01mNotImplementedError\u001b[39;00m(\u001b[38;5;124m\"\u001b[39m\u001b[38;5;124mStudent exercise: You need to rewrite simulation in numpy\u001b[39m\u001b[38;5;124m\"\u001b[39m)\n\u001b[1;32m      5\u001b[0m \u001b[38;5;66;03m#################################################\u001b[39;00m\n\u001b[1;32m      6\u001b[0m \n\u001b[1;32m      7\u001b[0m \u001b[38;5;66;03m# Set random number generator\u001b[39;00m\n\u001b[1;32m      8\u001b[0m np\u001b[38;5;241m.\u001b[39mrandom\u001b[38;5;241m.\u001b[39mseed(\u001b[38;5;241m2020\u001b[39m)\n",
      "\u001b[0;31mNotImplementedError\u001b[0m: Student exercise: You need to rewrite simulation in numpy"
     ]
    }
   ],
   "source": [
    "#################################################\n",
    "## TODO for students: fill out code to rewrite simulation in numpy##\n",
    "# Fill out code and comment or remove the next line\n",
    "raise NotImplementedError(\"Student exercise: You need to rewrite simulation in numpy\")\n",
    "#################################################\n",
    "\n",
    "# Set random number generator\n",
    "np.random.seed(2020)\n",
    "\n",
    "# Initialize step_end, t_range, v\n",
    "step_end = int(t_max / dt) - 1\n",
    "t_range = np.linspace(0, t_max, num=step_end, endpoint=False)\n",
    "v = el * np.ones(step_end)\n",
    "\n",
    "# Simulate current over time\n",
    "i = ...\n",
    "\n",
    "# Loop for step_end steps\n",
    "for step in range(1, step_end):\n",
    "\n",
    "  # Compute v as function of i\n",
    "  v[step] = ...\n",
    "\n",
    "\n",
    "# Plot membrane potential\n",
    "plt.figure()\n",
    "plt.title('$V_m$ with random I(t)')\n",
    "plt.xlabel('time (s)')\n",
    "plt.ylabel('$V_m$ (V)')\n",
    "\n",
    "plt.plot(t_range, v, 'k.')\n",
    "plt.show()"
   ]
  },
  {
   "cell_type": "markdown",
   "metadata": {
    "colab_type": "text",
    "execution": {}
   },
   "source": [
    "[*Click for solution*](https://github.com/NeuromatchAcademy/precourse/tree/main//tutorials/W0D1_PythonWorkshop1/solutions/W0D1_Tutorial1_Solution_66c71ad3.py)\n",
    "\n",
    "*Example output:*\n",
    "\n",
    "<img alt='Solution hint' align='left' width=777.0 height=577.0 src=https://raw.githubusercontent.com/NeuromatchAcademy/precourse/main/tutorials/W0D1_PythonWorkshop1/static/W0D1_Tutorial1_Solution_66c71ad3_0.png>\n",
    "\n"
   ]
  },
  {
   "cell_type": "markdown",
   "metadata": {
    "execution": {}
   },
   "source": [
    "## Coding Exercise 12: Using enumerate & indexing\n",
    "Let's practice using `enumerate` to iterate over the indexes and values of the synaptic current array `i`. We want to get the step and the value of i at that step `i_step`\n"
   ]
  },
  {
   "cell_type": "code",
   "execution_count": 24,
   "metadata": {
    "execution": {
     "iopub.execute_input": "2023-04-17T16:37:54.856685Z",
     "iopub.status.busy": "2023-04-17T16:37:54.856280Z",
     "iopub.status.idle": "2023-04-17T16:37:54.923979Z",
     "shell.execute_reply": "2023-04-17T16:37:54.923229Z"
    }
   },
   "outputs": [
    {
     "ename": "NotImplementedError",
     "evalue": "Student exercise: You need to rewrite simulation in numpy",
     "output_type": "error",
     "traceback": [
      "\u001b[0;31m---------------------------------------------------------------------------\u001b[0m",
      "\u001b[0;31mNotImplementedError\u001b[0m                       Traceback (most recent call last)",
      "Cell \u001b[0;32mIn[24], line 4\u001b[0m\n\u001b[1;32m      1\u001b[0m \u001b[38;5;66;03m#################################################\u001b[39;00m\n\u001b[1;32m      2\u001b[0m \u001b[38;5;66;03m## TODO for students: fill out code to rewrite simulation in numpy##\u001b[39;00m\n\u001b[1;32m      3\u001b[0m \u001b[38;5;66;03m# Fill out code and comment or remove the next line\u001b[39;00m\n\u001b[0;32m----> 4\u001b[0m \u001b[38;5;28;01mraise\u001b[39;00m \u001b[38;5;167;01mNotImplementedError\u001b[39;00m(\u001b[38;5;124m\"\u001b[39m\u001b[38;5;124mStudent exercise: You need to rewrite simulation in numpy\u001b[39m\u001b[38;5;124m\"\u001b[39m)\n\u001b[1;32m      5\u001b[0m \u001b[38;5;66;03m#################################################\u001b[39;00m\n\u001b[1;32m      6\u001b[0m \n\u001b[1;32m      7\u001b[0m \u001b[38;5;66;03m# Set random number generator\u001b[39;00m\n\u001b[1;32m      8\u001b[0m np\u001b[38;5;241m.\u001b[39mrandom\u001b[38;5;241m.\u001b[39mseed(\u001b[38;5;241m2020\u001b[39m)\n",
      "\u001b[0;31mNotImplementedError\u001b[0m: Student exercise: You need to rewrite simulation in numpy"
     ]
    }
   ],
   "source": [
    "#################################################\n",
    "## TODO for students: fill out code to rewrite simulation in numpy##\n",
    "# Fill out code and comment or remove the next line\n",
    "raise NotImplementedError(\"Student exercise: You need to rewrite simulation in numpy\")\n",
    "#################################################\n",
    "\n",
    "# Set random number generator\n",
    "np.random.seed(2020)\n",
    "\n",
    "# Initialize step_end, t_range, v\n",
    "step_end = int(t_max / dt) - 1\n",
    "t_range = np.linspace(0, t_max, num=step_end, endpoint=False)\n",
    "v = el * np.ones(step_end)\n",
    "\n",
    "# Simulate current over time\n",
    "i = i_mean * (1 + 0.1 * (t_max/dt) ** (0.5) * (2 * np.random.random(step_end) - 1))\n",
    "\n",
    "# Loop for step_end values of i using enumerate\n",
    "for step, i_step in enumerate(i):\n",
    "\n",
    "  # Skip first iteration\n",
    "  if step==0:\n",
    "    continue\n",
    "\n",
    "  # Compute v as function of i using i_step\n",
    "  v[step] = ...\n",
    "\n",
    "# Plot figure\n",
    "plt.figure()\n",
    "plt.title('$V_m$ with random I(t)')\n",
    "plt.xlabel('time (s)')\n",
    "plt.ylabel('$V_m$ (V)')\n",
    "\n",
    "plt.plot(t_range, v, 'k')\n",
    "plt.show()"
   ]
  },
  {
   "cell_type": "markdown",
   "metadata": {
    "colab_type": "text",
    "execution": {}
   },
   "source": [
    "[*Click for solution*](https://github.com/NeuromatchAcademy/precourse/tree/main//tutorials/W0D1_PythonWorkshop1/solutions/W0D1_Tutorial1_Solution_40b5ed28.py)\n",
    "\n",
    "*Example output:*\n",
    "\n",
    "<img alt='Solution hint' align='left' width=777.0 height=577.0 src=https://raw.githubusercontent.com/NeuromatchAcademy/precourse/main/tutorials/W0D1_PythonWorkshop1/static/W0D1_Tutorial1_Solution_40b5ed28_0.png>\n",
    "\n"
   ]
  },
  {
   "cell_type": "markdown",
   "metadata": {
    "execution": {}
   },
   "source": [
    "---\n",
    "# Section 7: Aggregation"
   ]
  },
  {
   "cell_type": "markdown",
   "metadata": {},
   "source": [
    "##  Video 11: Aggregation\n"
   ]
  },
  {
   "cell_type": "code",
   "execution_count": 25,
   "metadata": {
    "cellView": "form",
    "execution": {
     "iopub.execute_input": "2023-04-17T16:37:54.927168Z",
     "iopub.status.busy": "2023-04-17T16:37:54.926666Z",
     "iopub.status.idle": "2023-04-17T16:37:55.044746Z",
     "shell.execute_reply": "2023-04-17T16:37:55.043632Z"
    },
    "tags": [
     "remove-input"
    ]
   },
   "outputs": [
    {
     "data": {
      "application/vnd.jupyter.widget-view+json": {
       "model_id": "cff68be171264345ac7b8f8fd5af7120",
       "version_major": 2,
       "version_minor": 0
      },
      "text/plain": [
       "Tab(children=(Output(), Output()), selected_index=0, titles=('Youtube', 'Bilibili'))"
      ]
     },
     "metadata": {},
     "output_type": "display_data"
    }
   ],
   "source": [
    "# @title Video 11: Aggregation\n",
    "from ipywidgets import widgets\n",
    "\n",
    "out2 = widgets.Output()\n",
    "with out2:\n",
    "  from IPython.display import IFrame\n",
    "  class BiliVideo(IFrame):\n",
    "      def __init__(self, id, page=1, width=400, height=300, **kwargs):\n",
    "          self.id=id\n",
    "          src = 'https://player.bilibili.com/player.html?bvid={0}&page={1}'.format(id, page)\n",
    "          super(BiliVideo, self).__init__(src, width, height, **kwargs)\n",
    "\n",
    "  video = BiliVideo(id=\"BV1Uk4y1q76p\", width=730, height=410, fs=1)\n",
    "  print('Video available at https://www.bilibili.com/video/{0}'.format(video.id))\n",
    "  display(video)\n",
    "\n",
    "out1 = widgets.Output()\n",
    "with out1:\n",
    "  from IPython.display import YouTubeVideo\n",
    "  video = YouTubeVideo(id=\"E6FyhSsO4Vg\", width=730, height=410, fs=1, rel=0)\n",
    "  print('Video available at https://youtube.com/watch?v=' + video.id)\n",
    "  display(video)\n",
    "\n",
    "out = widgets.Tab([out1, out2])\n",
    "out.set_title(0, 'Youtube')\n",
    "out.set_title(1, 'Bilibili')\n",
    "\n",
    "display(out)"
   ]
  },
  {
   "cell_type": "markdown",
   "metadata": {},
   "source": [
    "##  Video 12: Nano recap of aggregation\n"
   ]
  },
  {
   "cell_type": "code",
   "execution_count": 26,
   "metadata": {
    "cellView": "form",
    "execution": {
     "iopub.execute_input": "2023-04-17T16:37:55.055409Z",
     "iopub.status.busy": "2023-04-17T16:37:55.055194Z",
     "iopub.status.idle": "2023-04-17T16:37:55.100580Z",
     "shell.execute_reply": "2023-04-17T16:37:55.099973Z"
    },
    "tags": [
     "remove-input"
    ]
   },
   "outputs": [
    {
     "data": {
      "application/vnd.jupyter.widget-view+json": {
       "model_id": "fc87d80e55344c44bbae35876e692155",
       "version_major": 2,
       "version_minor": 0
      },
      "text/plain": [
       "Tab(children=(Output(), Output()), selected_index=0, titles=('Youtube', 'Bilibili'))"
      ]
     },
     "metadata": {},
     "output_type": "display_data"
    }
   ],
   "source": [
    "# @title Video 12: Nano recap of aggregation\n",
    "from ipywidgets import widgets\n",
    "\n",
    "out2 = widgets.Output()\n",
    "with out2:\n",
    "  from IPython.display import IFrame\n",
    "  class BiliVideo(IFrame):\n",
    "      def __init__(self, id, page=1, width=400, height=300, **kwargs):\n",
    "          self.id=id\n",
    "          src = 'https://player.bilibili.com/player.html?bvid={0}&page={1}'.format(id, page)\n",
    "          super(BiliVideo, self).__init__(src, width, height, **kwargs)\n",
    "\n",
    "  video = BiliVideo(id=\"BV1vA411e7w4\", width=730, height=410, fs=1)\n",
    "  print('Video available at https://www.bilibili.com/video/{0}'.format(video.id))\n",
    "  display(video)\n",
    "\n",
    "out1 = widgets.Output()\n",
    "with out1:\n",
    "  from IPython.display import YouTubeVideo\n",
    "  video = YouTubeVideo(id=\"1ME-0rJXLFg\", width=730, height=410, fs=1, rel=0)\n",
    "  print('Video available at https://youtube.com/watch?v=' + video.id)\n",
    "  display(video)\n",
    "\n",
    "out = widgets.Tab([out1, out2])\n",
    "out.set_title(0, 'Youtube')\n",
    "out.set_title(1, 'Bilibili')\n",
    "\n",
    "display(out)"
   ]
  },
  {
   "cell_type": "markdown",
   "metadata": {
    "execution": {}
   },
   "source": [
    "## Coding Exercise 13: Using 2d arrays\n",
    "Plot multiple realizations ($N=50$) of $V(t)$ by storing the voltage of each neuron at time $t$ in a numpy array.\n",
    "\n",
    "We first initialize a numpy array `v_n` of shape `(n, step_end)` with membrane leak potential values `el`. We pre-compute synaptic current values in numpy array `i` of shape `(n, step_end)`. After computing v, we plot results with a single plot command, by providing `v_n.T` to the plot function. `v_n.T` is the transposed version of `v_n` (with rows and columns swapped)."
   ]
  },
  {
   "cell_type": "code",
   "execution_count": 27,
   "metadata": {
    "execution": {
     "iopub.execute_input": "2023-04-17T16:37:55.110788Z",
     "iopub.status.busy": "2023-04-17T16:37:55.110401Z",
     "iopub.status.idle": "2023-04-17T16:37:55.128204Z",
     "shell.execute_reply": "2023-04-17T16:37:55.127544Z"
    }
   },
   "outputs": [
    {
     "ename": "NotImplementedError",
     "evalue": "Student exercise: You need to rewrite code to use 2d arrays",
     "output_type": "error",
     "traceback": [
      "\u001b[0;31m---------------------------------------------------------------------------\u001b[0m",
      "\u001b[0;31mNotImplementedError\u001b[0m                       Traceback (most recent call last)",
      "Cell \u001b[0;32mIn[27], line 4\u001b[0m\n\u001b[1;32m      1\u001b[0m \u001b[38;5;66;03m#################################################\u001b[39;00m\n\u001b[1;32m      2\u001b[0m \u001b[38;5;66;03m## TODO for students: fill out code to use 2d arrays ##\u001b[39;00m\n\u001b[1;32m      3\u001b[0m \u001b[38;5;66;03m# Fill out code and comment or remove the next line\u001b[39;00m\n\u001b[0;32m----> 4\u001b[0m \u001b[38;5;28;01mraise\u001b[39;00m \u001b[38;5;167;01mNotImplementedError\u001b[39;00m(\u001b[38;5;124m\"\u001b[39m\u001b[38;5;124mStudent exercise: You need to rewrite code to use 2d arrays\u001b[39m\u001b[38;5;124m\"\u001b[39m)\n\u001b[1;32m      5\u001b[0m \u001b[38;5;66;03m#################################################\u001b[39;00m\n\u001b[1;32m      6\u001b[0m \n\u001b[1;32m      7\u001b[0m \u001b[38;5;66;03m# Set random number generator\u001b[39;00m\n\u001b[1;32m      8\u001b[0m np\u001b[38;5;241m.\u001b[39mrandom\u001b[38;5;241m.\u001b[39mseed(\u001b[38;5;241m2020\u001b[39m)\n",
      "\u001b[0;31mNotImplementedError\u001b[0m: Student exercise: You need to rewrite code to use 2d arrays"
     ]
    }
   ],
   "source": [
    "#################################################\n",
    "## TODO for students: fill out code to use 2d arrays ##\n",
    "# Fill out code and comment or remove the next line\n",
    "raise NotImplementedError(\"Student exercise: You need to rewrite code to use 2d arrays\")\n",
    "#################################################\n",
    "\n",
    "# Set random number generator\n",
    "np.random.seed(2020)\n",
    "\n",
    "# Initialize step_end, n, t_range, v and i\n",
    "step_end = int(t_max / dt)\n",
    "n = 50\n",
    "t_range = np.linspace(0, t_max, num=step_end)\n",
    "v_n = el * np.ones([n, step_end])\n",
    "i = ...\n",
    "\n",
    "# Loop for step_end - 1 steps\n",
    "for step in range(1, step_end):\n",
    "\n",
    "   # Compute v_n\n",
    "   v_n[:, step] = ...\n",
    "\n",
    "# Plot figure\n",
    "plt.figure()\n",
    "plt.title('Multiple realizations of $V_m$')\n",
    "plt.xlabel('time (s)')\n",
    "plt.ylabel('$V_m$ (V)')\n",
    "\n",
    "plt.plot(...)\n",
    "plt.show()"
   ]
  },
  {
   "cell_type": "markdown",
   "metadata": {
    "colab_type": "text",
    "execution": {}
   },
   "source": [
    "[*Click for solution*](https://github.com/NeuromatchAcademy/precourse/tree/main//tutorials/W0D1_PythonWorkshop1/solutions/W0D1_Tutorial1_Solution_93456241.py)\n",
    "\n",
    "*Example output:*\n",
    "\n",
    "<img alt='Solution hint' align='left' width=777.0 height=578.0 src=https://raw.githubusercontent.com/NeuromatchAcademy/precourse/main/tutorials/W0D1_PythonWorkshop1/static/W0D1_Tutorial1_Solution_93456241_0.png>\n",
    "\n"
   ]
  },
  {
   "cell_type": "markdown",
   "metadata": {
    "execution": {}
   },
   "source": [
    "## Coding Exercise 14: Plotting sample mean and standard deviation\n",
    "\n",
    "Add sample mean $\\left\\langle V(t)\\right\\rangle$ and standard deviation $\\sigma(t)\\equiv\\sqrt{\\text{Var}\\left(t\\right)}$ to the plot.\n",
    "\n",
    "`np.mean(v_n, axis=0)` computes mean over rows, i.e. mean for each neuron\n",
    "\n",
    "`np.mean(v_n, axis=1)` computes mean over columns (axis `1`), i.e. mean for each time step\n",
    "\n",
    "We will use label argument in plt.plot to specify labels in each trace.  We label only the last voltage trace to avoid labeling all N of them."
   ]
  },
  {
   "cell_type": "code",
   "execution_count": 28,
   "metadata": {
    "execution": {
     "iopub.execute_input": "2023-04-17T16:37:55.130966Z",
     "iopub.status.busy": "2023-04-17T16:37:55.130644Z",
     "iopub.status.idle": "2023-04-17T16:37:55.154650Z",
     "shell.execute_reply": "2023-04-17T16:37:55.154020Z"
    }
   },
   "outputs": [
    {
     "ename": "NotImplementedError",
     "evalue": "Student exercise: You need to  fill out code to compute sample mean and standard deviation",
     "output_type": "error",
     "traceback": [
      "\u001b[0;31m---------------------------------------------------------------------------\u001b[0m",
      "\u001b[0;31mNotImplementedError\u001b[0m                       Traceback (most recent call last)",
      "Cell \u001b[0;32mIn[28], line 4\u001b[0m\n\u001b[1;32m      1\u001b[0m \u001b[38;5;66;03m#################################################\u001b[39;00m\n\u001b[1;32m      2\u001b[0m \u001b[38;5;66;03m## TODO for students: fill out code to compute sample mean and standard deviation ##\u001b[39;00m\n\u001b[1;32m      3\u001b[0m \u001b[38;5;66;03m# Fill out code and comment or remove the next line\u001b[39;00m\n\u001b[0;32m----> 4\u001b[0m \u001b[38;5;28;01mraise\u001b[39;00m \u001b[38;5;167;01mNotImplementedError\u001b[39;00m(\u001b[38;5;124m\"\u001b[39m\u001b[38;5;124mStudent exercise: You need to  fill out code to compute sample mean and standard deviation\u001b[39m\u001b[38;5;124m\"\u001b[39m)\n\u001b[1;32m      5\u001b[0m \u001b[38;5;66;03m#################################################\u001b[39;00m\n\u001b[1;32m      6\u001b[0m \n\u001b[1;32m      7\u001b[0m \u001b[38;5;66;03m# Set random number generator\u001b[39;00m\n\u001b[1;32m      8\u001b[0m np\u001b[38;5;241m.\u001b[39mrandom\u001b[38;5;241m.\u001b[39mseed(\u001b[38;5;241m2020\u001b[39m)\n",
      "\u001b[0;31mNotImplementedError\u001b[0m: Student exercise: You need to  fill out code to compute sample mean and standard deviation"
     ]
    }
   ],
   "source": [
    "#################################################\n",
    "## TODO for students: fill out code to compute sample mean and standard deviation ##\n",
    "# Fill out code and comment or remove the next line\n",
    "raise NotImplementedError(\"Student exercise: You need to  fill out code to compute sample mean and standard deviation\")\n",
    "#################################################\n",
    "\n",
    "# Set random number generator\n",
    "np.random.seed(2020)\n",
    "\n",
    "# Initialize step_end, n, t_range, v and i\n",
    "step_end = int(t_max / dt)\n",
    "n = 50\n",
    "t_range = np.linspace(0, t_max, num=step_end)\n",
    "v_n = el * np.ones([n, step_end])\n",
    "i = i_mean * (1 + 0.1 * (t_max / dt)**(0.5) * (2 * np.random.random([n, step_end]) - 1))\n",
    "\n",
    "# Loop for step_end - 1 steps\n",
    "for step in range(1, step_end):\n",
    "\n",
    "  # Compute v_n\n",
    "  v_n[:, step] = v_n[:, step - 1] + (dt / tau) * (el - v_n[:, step - 1] + r * i[:, step])\n",
    "\n",
    "# Compute sample mean (use np.mean)\n",
    "v_mean = ...\n",
    "\n",
    "# Compute sample standard deviation (use np.std)\n",
    "v_std = ...\n",
    "\n",
    "# Plot figure\n",
    "plt.figure()\n",
    "plt.title('Multiple realizations of $V_m$')\n",
    "plt.xlabel('time (s)')\n",
    "plt.ylabel('$V_m$ (V)')\n",
    "\n",
    "plt.plot(t_range, v_n.T, 'k', alpha=0.3)\n",
    "\n",
    "plt.plot(t_range, v_n[-1], 'k', alpha=0.3, label='V(t)')\n",
    "plt.plot(t_range, v_mean, 'C0', alpha=0.8, label='mean')\n",
    "plt.plot(t_range, v_mean+v_std, 'C7', alpha=0.8)\n",
    "plt.plot(t_range, v_mean-v_std, 'C7', alpha=0.8, label='mean $\\pm$ std')\n",
    "\n",
    "plt.legend()\n",
    "plt.show()"
   ]
  },
  {
   "cell_type": "markdown",
   "metadata": {
    "colab_type": "text",
    "execution": {}
   },
   "source": [
    "[*Click for solution*](https://github.com/NeuromatchAcademy/precourse/tree/main//tutorials/W0D1_PythonWorkshop1/solutions/W0D1_Tutorial1_Solution_3c8e55c9.py)\n",
    "\n",
    "*Example output:*\n",
    "\n",
    "<img alt='Solution hint' align='left' width=777.0 height=578.0 src=https://raw.githubusercontent.com/NeuromatchAcademy/precourse/main/tutorials/W0D1_PythonWorkshop1/static/W0D1_Tutorial1_Solution_3c8e55c9_0.png>\n",
    "\n"
   ]
  },
  {
   "cell_type": "markdown",
   "metadata": {
    "execution": {}
   },
   "source": [
    "---\n",
    "# Summary\n"
   ]
  },
  {
   "cell_type": "markdown",
   "metadata": {},
   "source": [
    "##  Video 13: Overview\n"
   ]
  },
  {
   "cell_type": "code",
   "execution_count": 29,
   "metadata": {
    "cellView": "form",
    "execution": {
     "iopub.execute_input": "2023-04-17T16:37:55.157334Z",
     "iopub.status.busy": "2023-04-17T16:37:55.156988Z",
     "iopub.status.idle": "2023-04-17T16:37:55.210235Z",
     "shell.execute_reply": "2023-04-17T16:37:55.209640Z"
    },
    "tags": [
     "remove-input"
    ]
   },
   "outputs": [
    {
     "data": {
      "application/vnd.jupyter.widget-view+json": {
       "model_id": "c2d2b64278c541dc8ed914caeb496d53",
       "version_major": 2,
       "version_minor": 0
      },
      "text/plain": [
       "Tab(children=(Output(), Output()), selected_index=0, titles=('Youtube', 'Bilibili'))"
      ]
     },
     "metadata": {},
     "output_type": "display_data"
    }
   ],
   "source": [
    "# @title Video 13: Overview\n",
    "from ipywidgets import widgets\n",
    "\n",
    "out2 = widgets.Output()\n",
    "with out2:\n",
    "  from IPython.display import IFrame\n",
    "  class BiliVideo(IFrame):\n",
    "      def __init__(self, id, page=1, width=400, height=300, **kwargs):\n",
    "          self.id=id\n",
    "          src = 'https://player.bilibili.com/player.html?bvid={0}&page={1}'.format(id, page)\n",
    "          super(BiliVideo, self).__init__(src, width, height, **kwargs)\n",
    "\n",
    "  video = BiliVideo(id=\"BV1Fv411q7tE\", width=730, height=410, fs=1)\n",
    "  print('Video available at https://www.bilibili.com/video/{0}'.format(video.id))\n",
    "  display(video)\n",
    "\n",
    "out1 = widgets.Output()\n",
    "with out1:\n",
    "  from IPython.display import YouTubeVideo\n",
    "  video = YouTubeVideo(id=\"VqAznnSAqmM\", width=730, height=410, fs=1, rel=0)\n",
    "  print('Video available at https://youtube.com/watch?v=' + video.id)\n",
    "  display(video)\n",
    "\n",
    "out = widgets.Tab([out1, out2])\n",
    "out.set_title(0, 'Youtube')\n",
    "out.set_title(1, 'Bilibili')\n",
    "\n",
    "display(out)"
   ]
  }
 ],
 "metadata": {
  "colab": {
   "collapsed_sections": [],
   "include_colab_link": true,
   "name": "W0D1_Tutorial1",
   "provenance": [],
   "toc_visible": true
  },
  "kernel": {
   "display_name": "Python 3",
   "language": "python",
   "name": "python3"
  },
  "kernelspec": {
   "display_name": "Python 3",
   "language": "python",
   "name": "python3"
  },
  "language_info": {
   "codemirror_mode": {
    "name": "ipython",
    "version": 3
   },
   "file_extension": ".py",
   "mimetype": "text/x-python",
   "name": "python",
   "nbconvert_exporter": "python",
   "pygments_lexer": "ipython3",
   "version": "3.11.3"
  },
  "widgets": {
   "application/vnd.jupyter.widget-state+json": {
    "state": {
     "07158d24eb264be1b87ba3040eee1a3d": {
      "model_module": "@jupyter-widgets/base",
      "model_module_version": "2.0.0",
      "model_name": "LayoutModel",
      "state": {
       "_model_module": "@jupyter-widgets/base",
       "_model_module_version": "2.0.0",
       "_model_name": "LayoutModel",
       "_view_count": null,
       "_view_module": "@jupyter-widgets/base",
       "_view_module_version": "2.0.0",
       "_view_name": "LayoutView",
       "align_content": null,
       "align_items": null,
       "align_self": null,
       "border_bottom": null,
       "border_left": null,
       "border_right": null,
       "border_top": null,
       "bottom": null,
       "display": null,
       "flex": null,
       "flex_flow": null,
       "grid_area": null,
       "grid_auto_columns": null,
       "grid_auto_flow": null,
       "grid_auto_rows": null,
       "grid_column": null,
       "grid_gap": null,
       "grid_row": null,
       "grid_template_areas": null,
       "grid_template_columns": null,
       "grid_template_rows": null,
       "height": null,
       "justify_content": null,
       "justify_items": null,
       "left": null,
       "margin": null,
       "max_height": null,
       "max_width": null,
       "min_height": null,
       "min_width": null,
       "object_fit": null,
       "object_position": null,
       "order": null,
       "overflow": null,
       "padding": null,
       "right": null,
       "top": null,
       "visibility": null,
       "width": null
      }
     },
     "0af80bacb5fb443a80cd94bbe2fb6a7e": {
      "model_module": "@jupyter-widgets/base",
      "model_module_version": "2.0.0",
      "model_name": "LayoutModel",
      "state": {
       "_model_module": "@jupyter-widgets/base",
       "_model_module_version": "2.0.0",
       "_model_name": "LayoutModel",
       "_view_count": null,
       "_view_module": "@jupyter-widgets/base",
       "_view_module_version": "2.0.0",
       "_view_name": "LayoutView",
       "align_content": null,
       "align_items": null,
       "align_self": null,
       "border_bottom": null,
       "border_left": null,
       "border_right": null,
       "border_top": null,
       "bottom": null,
       "display": null,
       "flex": null,
       "flex_flow": null,
       "grid_area": null,
       "grid_auto_columns": null,
       "grid_auto_flow": null,
       "grid_auto_rows": null,
       "grid_column": null,
       "grid_gap": null,
       "grid_row": null,
       "grid_template_areas": null,
       "grid_template_columns": null,
       "grid_template_rows": null,
       "height": null,
       "justify_content": null,
       "justify_items": null,
       "left": null,
       "margin": null,
       "max_height": null,
       "max_width": null,
       "min_height": null,
       "min_width": null,
       "object_fit": null,
       "object_position": null,
       "order": null,
       "overflow": null,
       "padding": null,
       "right": null,
       "top": null,
       "visibility": null,
       "width": null
      }
     },
     "0b53a2799c5c4186872339e7402349c4": {
      "model_module": "@jupyter-widgets/base",
      "model_module_version": "2.0.0",
      "model_name": "LayoutModel",
      "state": {
       "_model_module": "@jupyter-widgets/base",
       "_model_module_version": "2.0.0",
       "_model_name": "LayoutModel",
       "_view_count": null,
       "_view_module": "@jupyter-widgets/base",
       "_view_module_version": "2.0.0",
       "_view_name": "LayoutView",
       "align_content": null,
       "align_items": null,
       "align_self": null,
       "border_bottom": null,
       "border_left": null,
       "border_right": null,
       "border_top": null,
       "bottom": null,
       "display": null,
       "flex": null,
       "flex_flow": null,
       "grid_area": null,
       "grid_auto_columns": null,
       "grid_auto_flow": null,
       "grid_auto_rows": null,
       "grid_column": null,
       "grid_gap": null,
       "grid_row": null,
       "grid_template_areas": null,
       "grid_template_columns": null,
       "grid_template_rows": null,
       "height": null,
       "justify_content": null,
       "justify_items": null,
       "left": null,
       "margin": null,
       "max_height": null,
       "max_width": null,
       "min_height": null,
       "min_width": null,
       "object_fit": null,
       "object_position": null,
       "order": null,
       "overflow": null,
       "padding": null,
       "right": null,
       "top": null,
       "visibility": null,
       "width": null
      }
     },
     "0b6f8308e90a405894e25c2db2c7a3d6": {
      "model_module": "@jupyter-widgets/output",
      "model_module_version": "1.0.0",
      "model_name": "OutputModel",
      "state": {
       "_dom_classes": [],
       "_model_module": "@jupyter-widgets/output",
       "_model_module_version": "1.0.0",
       "_model_name": "OutputModel",
       "_view_count": null,
       "_view_module": "@jupyter-widgets/output",
       "_view_module_version": "1.0.0",
       "_view_name": "OutputView",
       "layout": "IPY_MODEL_0af80bacb5fb443a80cd94bbe2fb6a7e",
       "msg_id": "",
       "outputs": [
        {
         "name": "stdout",
         "output_type": "stream",
         "text": "Video available at https://youtube.com/watch?v=RmdPBHn9kjk\n"
        },
        {
         "data": {
          "image/jpeg": "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\n",
          "text/html": "\n        <iframe\n            width=\"730\"\n            height=\"410\"\n            src=\"https://www.youtube.com/embed/RmdPBHn9kjk?fs=1&rel=0\"\n            frameborder=\"0\"\n            allowfullscreen\n            \n        ></iframe>\n        ",
          "text/plain": "<IPython.lib.display.YouTubeVideo at 0x7f70e2d69490>"
         },
         "metadata": {},
         "output_type": "display_data"
        }
       ],
       "tabbable": null,
       "tooltip": null
      }
     },
     "0f1738b5e64b4a1ab13fc568ff4d84d5": {
      "model_module": "@jupyter-widgets/base",
      "model_module_version": "2.0.0",
      "model_name": "LayoutModel",
      "state": {
       "_model_module": "@jupyter-widgets/base",
       "_model_module_version": "2.0.0",
       "_model_name": "LayoutModel",
       "_view_count": null,
       "_view_module": "@jupyter-widgets/base",
       "_view_module_version": "2.0.0",
       "_view_name": "LayoutView",
       "align_content": null,
       "align_items": null,
       "align_self": null,
       "border_bottom": null,
       "border_left": null,
       "border_right": null,
       "border_top": null,
       "bottom": null,
       "display": null,
       "flex": null,
       "flex_flow": null,
       "grid_area": null,
       "grid_auto_columns": null,
       "grid_auto_flow": null,
       "grid_auto_rows": null,
       "grid_column": null,
       "grid_gap": null,
       "grid_row": null,
       "grid_template_areas": null,
       "grid_template_columns": null,
       "grid_template_rows": null,
       "height": null,
       "justify_content": null,
       "justify_items": null,
       "left": null,
       "margin": null,
       "max_height": null,
       "max_width": null,
       "min_height": null,
       "min_width": null,
       "object_fit": null,
       "object_position": null,
       "order": null,
       "overflow": null,
       "padding": null,
       "right": null,
       "top": null,
       "visibility": null,
       "width": null
      }
     },
     "118038e640374665acd4add47d91c289": {
      "model_module": "@jupyter-widgets/output",
      "model_module_version": "1.0.0",
      "model_name": "OutputModel",
      "state": {
       "_dom_classes": [],
       "_model_module": "@jupyter-widgets/output",
       "_model_module_version": "1.0.0",
       "_model_name": "OutputModel",
       "_view_count": null,
       "_view_module": "@jupyter-widgets/output",
       "_view_module_version": "1.0.0",
       "_view_name": "OutputView",
       "layout": "IPY_MODEL_fe09e191e51a452798689b7c3b7cf004",
       "msg_id": "",
       "outputs": [
        {
         "name": "stdout",
         "output_type": "stream",
         "text": "Video available at https://www.bilibili.com/video/BV1Uk4y1q76p\n"
        },
        {
         "data": {
          "text/html": "\n        <iframe\n            width=\"730\"\n            height=\"410\"\n            src=\"https://player.bilibili.com/player.html?bvid=BV1Uk4y1q76p&page=1?fs=1\"\n            frameborder=\"0\"\n            allowfullscreen\n            \n        ></iframe>\n        ",
          "text/plain": "<__main__.BiliVideo at 0x7f70e2c6cd50>"
         },
         "metadata": {},
         "output_type": "display_data"
        }
       ],
       "tabbable": null,
       "tooltip": null
      }
     },
     "165ff76e98bd430bb9c9989211d2e8ac": {
      "model_module": "@jupyter-widgets/base",
      "model_module_version": "2.0.0",
      "model_name": "LayoutModel",
      "state": {
       "_model_module": "@jupyter-widgets/base",
       "_model_module_version": "2.0.0",
       "_model_name": "LayoutModel",
       "_view_count": null,
       "_view_module": "@jupyter-widgets/base",
       "_view_module_version": "2.0.0",
       "_view_name": "LayoutView",
       "align_content": null,
       "align_items": null,
       "align_self": null,
       "border_bottom": null,
       "border_left": null,
       "border_right": null,
       "border_top": null,
       "bottom": null,
       "display": null,
       "flex": null,
       "flex_flow": null,
       "grid_area": null,
       "grid_auto_columns": null,
       "grid_auto_flow": null,
       "grid_auto_rows": null,
       "grid_column": null,
       "grid_gap": null,
       "grid_row": null,
       "grid_template_areas": null,
       "grid_template_columns": null,
       "grid_template_rows": null,
       "height": null,
       "justify_content": null,
       "justify_items": null,
       "left": null,
       "margin": null,
       "max_height": null,
       "max_width": null,
       "min_height": null,
       "min_width": null,
       "object_fit": null,
       "object_position": null,
       "order": null,
       "overflow": null,
       "padding": null,
       "right": null,
       "top": null,
       "visibility": null,
       "width": null
      }
     },
     "18d0c8107c374e2f809ea0c28c2bc469": {
      "model_module": "@jupyter-widgets/base",
      "model_module_version": "2.0.0",
      "model_name": "LayoutModel",
      "state": {
       "_model_module": "@jupyter-widgets/base",
       "_model_module_version": "2.0.0",
       "_model_name": "LayoutModel",
       "_view_count": null,
       "_view_module": "@jupyter-widgets/base",
       "_view_module_version": "2.0.0",
       "_view_name": "LayoutView",
       "align_content": null,
       "align_items": null,
       "align_self": null,
       "border_bottom": null,
       "border_left": null,
       "border_right": null,
       "border_top": null,
       "bottom": null,
       "display": null,
       "flex": null,
       "flex_flow": null,
       "grid_area": null,
       "grid_auto_columns": null,
       "grid_auto_flow": null,
       "grid_auto_rows": null,
       "grid_column": null,
       "grid_gap": null,
       "grid_row": null,
       "grid_template_areas": null,
       "grid_template_columns": null,
       "grid_template_rows": null,
       "height": null,
       "justify_content": null,
       "justify_items": null,
       "left": null,
       "margin": null,
       "max_height": null,
       "max_width": null,
       "min_height": null,
       "min_width": null,
       "object_fit": null,
       "object_position": null,
       "order": null,
       "overflow": null,
       "padding": null,
       "right": null,
       "top": null,
       "visibility": null,
       "width": null
      }
     },
     "19172aa241f24189b3da38c25a07f087": {
      "model_module": "@jupyter-widgets/output",
      "model_module_version": "1.0.0",
      "model_name": "OutputModel",
      "state": {
       "_dom_classes": [],
       "_model_module": "@jupyter-widgets/output",
       "_model_module_version": "1.0.0",
       "_model_name": "OutputModel",
       "_view_count": null,
       "_view_module": "@jupyter-widgets/output",
       "_view_module_version": "1.0.0",
       "_view_name": "OutputView",
       "layout": "IPY_MODEL_7b73843316dc41ba8013636b5756306c",
       "msg_id": "",
       "outputs": [
        {
         "name": "stdout",
         "output_type": "stream",
         "text": "Video available at https://youtube.com/watch?v=1ME-0rJXLFg\n"
        },
        {
         "data": {
          "image/jpeg": "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\n",
          "text/html": "\n        <iframe\n            width=\"730\"\n            height=\"410\"\n            src=\"https://www.youtube.com/embed/1ME-0rJXLFg?fs=1&rel=0\"\n            frameborder=\"0\"\n            allowfullscreen\n            \n        ></iframe>\n        ",
          "text/plain": "<IPython.lib.display.YouTubeVideo at 0x7f70e2c4ab90>"
         },
         "metadata": {},
         "output_type": "display_data"
        }
       ],
       "tabbable": null,
       "tooltip": null
      }
     },
     "1c41cd281500412087ab941d002e76a6": {
      "model_module": "@jupyter-widgets/output",
      "model_module_version": "1.0.0",
      "model_name": "OutputModel",
      "state": {
       "_dom_classes": [],
       "_model_module": "@jupyter-widgets/output",
       "_model_module_version": "1.0.0",
       "_model_name": "OutputModel",
       "_view_count": null,
       "_view_module": "@jupyter-widgets/output",
       "_view_module_version": "1.0.0",
       "_view_name": "OutputView",
       "layout": "IPY_MODEL_6efeafb7f372489c8d80bf827ead696f",
       "msg_id": "",
       "outputs": [
        {
         "name": "stdout",
         "output_type": "stream",
         "text": "Video available at https://youtube.com/watch?v=4nIAS2oPEFI\n"
        },
        {
         "data": {
          "image/jpeg": "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\n",
          "text/html": "\n        <iframe\n            width=\"730\"\n            height=\"410\"\n            src=\"https://www.youtube.com/embed/4nIAS2oPEFI?fs=1&rel=0\"\n            frameborder=\"0\"\n            allowfullscreen\n            \n        ></iframe>\n        ",
          "text/plain": "<IPython.lib.display.YouTubeVideo at 0x7f70e2d67410>"
         },
         "metadata": {},
         "output_type": "display_data"
        }
       ],
       "tabbable": null,
       "tooltip": null
      }
     },
     "1ceda971076744c6aa5eeecf9352ceee": {
      "model_module": "@jupyter-widgets/output",
      "model_module_version": "1.0.0",
      "model_name": "OutputModel",
      "state": {
       "_dom_classes": [],
       "_model_module": "@jupyter-widgets/output",
       "_model_module_version": "1.0.0",
       "_model_name": "OutputModel",
       "_view_count": null,
       "_view_module": "@jupyter-widgets/output",
       "_view_module_version": "1.0.0",
       "_view_name": "OutputView",
       "layout": "IPY_MODEL_20b3a31c543643e4ba0a9606e6612395",
       "msg_id": "",
       "outputs": [
        {
         "name": "stdout",
         "output_type": "stream",
         "text": "Video available at https://youtube.com/watch?v=UP8rD2AwceM\n"
        },
        {
         "data": {
          "image/jpeg": "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\n",
          "text/html": "\n        <iframe\n            width=\"730\"\n            height=\"410\"\n            src=\"https://www.youtube.com/embed/UP8rD2AwceM?fs=1&rel=0\"\n            frameborder=\"0\"\n            allowfullscreen\n            \n        ></iframe>\n        ",
          "text/plain": "<IPython.lib.display.YouTubeVideo at 0x7f70e83e7150>"
         },
         "metadata": {},
         "output_type": "display_data"
        }
       ],
       "tabbable": null,
       "tooltip": null
      }
     },
     "1f4d2f3d40ed405e97e38aec0be2a672": {
      "model_module": "@jupyter-widgets/output",
      "model_module_version": "1.0.0",
      "model_name": "OutputModel",
      "state": {
       "_dom_classes": [],
       "_model_module": "@jupyter-widgets/output",
       "_model_module_version": "1.0.0",
       "_model_name": "OutputModel",
       "_view_count": null,
       "_view_module": "@jupyter-widgets/output",
       "_view_module_version": "1.0.0",
       "_view_name": "OutputView",
       "layout": "IPY_MODEL_582a5251e10b4444a2bbf478bc949a6b",
       "msg_id": "",
       "outputs": [
        {
         "name": "stdout",
         "output_type": "stream",
         "text": "Video available at https://www.bilibili.com/video/BV1mt4y1Q7Ls\n"
        },
        {
         "data": {
          "text/html": "\n        <iframe\n            width=\"730\"\n            height=\"410\"\n            src=\"https://player.bilibili.com/player.html?bvid=BV1mt4y1Q7Ls&page=1?fs=1\"\n            frameborder=\"0\"\n            allowfullscreen\n            \n        ></iframe>\n        ",
          "text/plain": "<__main__.BiliVideo at 0x7f70e2d11290>"
         },
         "metadata": {},
         "output_type": "display_data"
        }
       ],
       "tabbable": null,
       "tooltip": null
      }
     },
     "20b3a31c543643e4ba0a9606e6612395": {
      "model_module": "@jupyter-widgets/base",
      "model_module_version": "2.0.0",
      "model_name": "LayoutModel",
      "state": {
       "_model_module": "@jupyter-widgets/base",
       "_model_module_version": "2.0.0",
       "_model_name": "LayoutModel",
       "_view_count": null,
       "_view_module": "@jupyter-widgets/base",
       "_view_module_version": "2.0.0",
       "_view_name": "LayoutView",
       "align_content": null,
       "align_items": null,
       "align_self": null,
       "border_bottom": null,
       "border_left": null,
       "border_right": null,
       "border_top": null,
       "bottom": null,
       "display": null,
       "flex": null,
       "flex_flow": null,
       "grid_area": null,
       "grid_auto_columns": null,
       "grid_auto_flow": null,
       "grid_auto_rows": null,
       "grid_column": null,
       "grid_gap": null,
       "grid_row": null,
       "grid_template_areas": null,
       "grid_template_columns": null,
       "grid_template_rows": null,
       "height": null,
       "justify_content": null,
       "justify_items": null,
       "left": null,
       "margin": null,
       "max_height": null,
       "max_width": null,
       "min_height": null,
       "min_width": null,
       "object_fit": null,
       "object_position": null,
       "order": null,
       "overflow": null,
       "padding": null,
       "right": null,
       "top": null,
       "visibility": null,
       "width": null
      }
     },
     "21267c1d51044d199b42f9758264730b": {
      "model_module": "@jupyter-widgets/base",
      "model_module_version": "2.0.0",
      "model_name": "LayoutModel",
      "state": {
       "_model_module": "@jupyter-widgets/base",
       "_model_module_version": "2.0.0",
       "_model_name": "LayoutModel",
       "_view_count": null,
       "_view_module": "@jupyter-widgets/base",
       "_view_module_version": "2.0.0",
       "_view_name": "LayoutView",
       "align_content": null,
       "align_items": null,
       "align_self": null,
       "border_bottom": null,
       "border_left": null,
       "border_right": null,
       "border_top": null,
       "bottom": null,
       "display": null,
       "flex": null,
       "flex_flow": null,
       "grid_area": null,
       "grid_auto_columns": null,
       "grid_auto_flow": null,
       "grid_auto_rows": null,
       "grid_column": null,
       "grid_gap": null,
       "grid_row": null,
       "grid_template_areas": null,
       "grid_template_columns": null,
       "grid_template_rows": null,
       "height": null,
       "justify_content": null,
       "justify_items": null,
       "left": null,
       "margin": null,
       "max_height": null,
       "max_width": null,
       "min_height": null,
       "min_width": null,
       "object_fit": null,
       "object_position": null,
       "order": null,
       "overflow": null,
       "padding": null,
       "right": null,
       "top": null,
       "visibility": null,
       "width": null
      }
     },
     "23b2718c7338440f82d10b8fe19be274": {
      "model_module": "@jupyter-widgets/base",
      "model_module_version": "2.0.0",
      "model_name": "LayoutModel",
      "state": {
       "_model_module": "@jupyter-widgets/base",
       "_model_module_version": "2.0.0",
       "_model_name": "LayoutModel",
       "_view_count": null,
       "_view_module": "@jupyter-widgets/base",
       "_view_module_version": "2.0.0",
       "_view_name": "LayoutView",
       "align_content": null,
       "align_items": null,
       "align_self": null,
       "border_bottom": null,
       "border_left": null,
       "border_right": null,
       "border_top": null,
       "bottom": null,
       "display": null,
       "flex": null,
       "flex_flow": null,
       "grid_area": null,
       "grid_auto_columns": null,
       "grid_auto_flow": null,
       "grid_auto_rows": null,
       "grid_column": null,
       "grid_gap": null,
       "grid_row": null,
       "grid_template_areas": null,
       "grid_template_columns": null,
       "grid_template_rows": null,
       "height": null,
       "justify_content": null,
       "justify_items": null,
       "left": null,
       "margin": null,
       "max_height": null,
       "max_width": null,
       "min_height": null,
       "min_width": null,
       "object_fit": null,
       "object_position": null,
       "order": null,
       "overflow": null,
       "padding": null,
       "right": null,
       "top": null,
       "visibility": null,
       "width": null
      }
     },
     "299e662b9f294806a6a230ffa81b3fa8": {
      "model_module": "@jupyter-widgets/controls",
      "model_module_version": "2.0.0",
      "model_name": "TabModel",
      "state": {
       "_dom_classes": [],
       "_model_module": "@jupyter-widgets/controls",
       "_model_module_version": "2.0.0",
       "_model_name": "TabModel",
       "_view_count": null,
       "_view_module": "@jupyter-widgets/controls",
       "_view_module_version": "2.0.0",
       "_view_name": "TabView",
       "box_style": "",
       "children": [
        "IPY_MODEL_fa1a594d21464b97b1c103e08e226b2a",
        "IPY_MODEL_4a9759b5597e4caf84b3eca689d22157"
       ],
       "layout": "IPY_MODEL_c7c19ac91da3496a808a330b3e2063b2",
       "selected_index": 0,
       "tabbable": null,
       "titles": [
        "Youtube",
        "Bilibili"
       ],
       "tooltip": null
      }
     },
     "2c101e82cd264a99a23c8ecc24479121": {
      "model_module": "@jupyter-widgets/output",
      "model_module_version": "1.0.0",
      "model_name": "OutputModel",
      "state": {
       "_dom_classes": [],
       "_model_module": "@jupyter-widgets/output",
       "_model_module_version": "1.0.0",
       "_model_name": "OutputModel",
       "_view_count": null,
       "_view_module": "@jupyter-widgets/output",
       "_view_module_version": "1.0.0",
       "_view_name": "OutputView",
       "layout": "IPY_MODEL_0f1738b5e64b4a1ab13fc568ff4d84d5",
       "msg_id": "",
       "outputs": [
        {
         "name": "stdout",
         "output_type": "stream",
         "text": "Video available at https://www.bilibili.com/video/BV1MC4y1h77q\n"
        },
        {
         "data": {
          "text/html": "\n        <iframe\n            width=\"730\"\n            height=\"410\"\n            src=\"https://player.bilibili.com/player.html?bvid=BV1MC4y1h77q&page=1?fs=1\"\n            frameborder=\"0\"\n            allowfullscreen\n            \n        ></iframe>\n        ",
          "text/plain": "<__main__.BiliVideo at 0x7f70e2d49310>"
         },
         "metadata": {},
         "output_type": "display_data"
        }
       ],
       "tabbable": null,
       "tooltip": null
      }
     },
     "32fbd70530334c79987039a73a0c7664": {
      "model_module": "@jupyter-widgets/base",
      "model_module_version": "2.0.0",
      "model_name": "LayoutModel",
      "state": {
       "_model_module": "@jupyter-widgets/base",
       "_model_module_version": "2.0.0",
       "_model_name": "LayoutModel",
       "_view_count": null,
       "_view_module": "@jupyter-widgets/base",
       "_view_module_version": "2.0.0",
       "_view_name": "LayoutView",
       "align_content": null,
       "align_items": null,
       "align_self": null,
       "border_bottom": null,
       "border_left": null,
       "border_right": null,
       "border_top": null,
       "bottom": null,
       "display": null,
       "flex": null,
       "flex_flow": null,
       "grid_area": null,
       "grid_auto_columns": null,
       "grid_auto_flow": null,
       "grid_auto_rows": null,
       "grid_column": null,
       "grid_gap": null,
       "grid_row": null,
       "grid_template_areas": null,
       "grid_template_columns": null,
       "grid_template_rows": null,
       "height": null,
       "justify_content": null,
       "justify_items": null,
       "left": null,
       "margin": null,
       "max_height": null,
       "max_width": null,
       "min_height": null,
       "min_width": null,
       "object_fit": null,
       "object_position": null,
       "order": null,
       "overflow": null,
       "padding": null,
       "right": null,
       "top": null,
       "visibility": null,
       "width": null
      }
     },
     "38fead6c5a384629b97a1f147506c381": {
      "model_module": "@jupyter-widgets/base",
      "model_module_version": "2.0.0",
      "model_name": "LayoutModel",
      "state": {
       "_model_module": "@jupyter-widgets/base",
       "_model_module_version": "2.0.0",
       "_model_name": "LayoutModel",
       "_view_count": null,
       "_view_module": "@jupyter-widgets/base",
       "_view_module_version": "2.0.0",
       "_view_name": "LayoutView",
       "align_content": null,
       "align_items": null,
       "align_self": null,
       "border_bottom": null,
       "border_left": null,
       "border_right": null,
       "border_top": null,
       "bottom": null,
       "display": null,
       "flex": null,
       "flex_flow": null,
       "grid_area": null,
       "grid_auto_columns": null,
       "grid_auto_flow": null,
       "grid_auto_rows": null,
       "grid_column": null,
       "grid_gap": null,
       "grid_row": null,
       "grid_template_areas": null,
       "grid_template_columns": null,
       "grid_template_rows": null,
       "height": null,
       "justify_content": null,
       "justify_items": null,
       "left": null,
       "margin": null,
       "max_height": null,
       "max_width": null,
       "min_height": null,
       "min_width": null,
       "object_fit": null,
       "object_position": null,
       "order": null,
       "overflow": null,
       "padding": null,
       "right": null,
       "top": null,
       "visibility": null,
       "width": null
      }
     },
     "3b38a87eca6b4066b8dc86d0a781ff34": {
      "model_module": "@jupyter-widgets/controls",
      "model_module_version": "2.0.0",
      "model_name": "TabModel",
      "state": {
       "_dom_classes": [],
       "_model_module": "@jupyter-widgets/controls",
       "_model_module_version": "2.0.0",
       "_model_name": "TabModel",
       "_view_count": null,
       "_view_module": "@jupyter-widgets/controls",
       "_view_module_version": "2.0.0",
       "_view_name": "TabView",
       "box_style": "",
       "children": [
        "IPY_MODEL_e7d52ce9001f4a289e97e742732daf04",
        "IPY_MODEL_99f991bc798a4fea850f8fcfaf1eb160"
       ],
       "layout": "IPY_MODEL_d3680823038642fab35b057626c6fc4e",
       "selected_index": 0,
       "tabbable": null,
       "titles": [
        "Youtube",
        "Bilibili"
       ],
       "tooltip": null
      }
     },
     "3b95d12e88da4ce7829ea4e65ab8abe3": {
      "model_module": "@jupyter-widgets/controls",
      "model_module_version": "2.0.0",
      "model_name": "TabModel",
      "state": {
       "_dom_classes": [],
       "_model_module": "@jupyter-widgets/controls",
       "_model_module_version": "2.0.0",
       "_model_name": "TabModel",
       "_view_count": null,
       "_view_module": "@jupyter-widgets/controls",
       "_view_module_version": "2.0.0",
       "_view_name": "TabView",
       "box_style": "",
       "children": [
        "IPY_MODEL_8bd173de812545bfbec0bafad15c1410",
        "IPY_MODEL_6c3d70b6b5114db2916825e5ca4f8193"
       ],
       "layout": "IPY_MODEL_32fbd70530334c79987039a73a0c7664",
       "selected_index": 0,
       "tabbable": null,
       "titles": [
        "Youtube",
        "Bilibili"
       ],
       "tooltip": null
      }
     },
     "3bf256d2854a4fe196f2e6a133467fbe": {
      "model_module": "@jupyter-widgets/base",
      "model_module_version": "2.0.0",
      "model_name": "LayoutModel",
      "state": {
       "_model_module": "@jupyter-widgets/base",
       "_model_module_version": "2.0.0",
       "_model_name": "LayoutModel",
       "_view_count": null,
       "_view_module": "@jupyter-widgets/base",
       "_view_module_version": "2.0.0",
       "_view_name": "LayoutView",
       "align_content": null,
       "align_items": null,
       "align_self": null,
       "border_bottom": null,
       "border_left": null,
       "border_right": null,
       "border_top": null,
       "bottom": null,
       "display": null,
       "flex": null,
       "flex_flow": null,
       "grid_area": null,
       "grid_auto_columns": null,
       "grid_auto_flow": null,
       "grid_auto_rows": null,
       "grid_column": null,
       "grid_gap": null,
       "grid_row": null,
       "grid_template_areas": null,
       "grid_template_columns": null,
       "grid_template_rows": null,
       "height": null,
       "justify_content": null,
       "justify_items": null,
       "left": null,
       "margin": null,
       "max_height": null,
       "max_width": null,
       "min_height": null,
       "min_width": null,
       "object_fit": null,
       "object_position": null,
       "order": null,
       "overflow": null,
       "padding": null,
       "right": null,
       "top": null,
       "visibility": null,
       "width": null
      }
     },
     "42e532b13289451e84546a930d04af37": {
      "model_module": "@jupyter-widgets/base",
      "model_module_version": "2.0.0",
      "model_name": "LayoutModel",
      "state": {
       "_model_module": "@jupyter-widgets/base",
       "_model_module_version": "2.0.0",
       "_model_name": "LayoutModel",
       "_view_count": null,
       "_view_module": "@jupyter-widgets/base",
       "_view_module_version": "2.0.0",
       "_view_name": "LayoutView",
       "align_content": null,
       "align_items": null,
       "align_self": null,
       "border_bottom": null,
       "border_left": null,
       "border_right": null,
       "border_top": null,
       "bottom": null,
       "display": null,
       "flex": null,
       "flex_flow": null,
       "grid_area": null,
       "grid_auto_columns": null,
       "grid_auto_flow": null,
       "grid_auto_rows": null,
       "grid_column": null,
       "grid_gap": null,
       "grid_row": null,
       "grid_template_areas": null,
       "grid_template_columns": null,
       "grid_template_rows": null,
       "height": null,
       "justify_content": null,
       "justify_items": null,
       "left": null,
       "margin": null,
       "max_height": null,
       "max_width": null,
       "min_height": null,
       "min_width": null,
       "object_fit": null,
       "object_position": null,
       "order": null,
       "overflow": null,
       "padding": null,
       "right": null,
       "top": null,
       "visibility": null,
       "width": null
      }
     },
     "45b0ce4b581c42558d07b41ff419db1c": {
      "model_module": "@jupyter-widgets/controls",
      "model_module_version": "2.0.0",
      "model_name": "TabModel",
      "state": {
       "_dom_classes": [],
       "_model_module": "@jupyter-widgets/controls",
       "_model_module_version": "2.0.0",
       "_model_name": "TabModel",
       "_view_count": null,
       "_view_module": "@jupyter-widgets/controls",
       "_view_module_version": "2.0.0",
       "_view_name": "TabView",
       "box_style": "",
       "children": [
        "IPY_MODEL_a2bdd20af3074936b47ca16780a704a3",
        "IPY_MODEL_cce32be2125c4a8982ceab8f47d61825"
       ],
       "layout": "IPY_MODEL_e770f1b701f44688bfdcdeb812435954",
       "selected_index": 0,
       "tabbable": null,
       "titles": [
        "Youtube",
        "Bilibili"
       ],
       "tooltip": null
      }
     },
     "4995894cc4024261b5c2f6e4e6c7406a": {
      "model_module": "@jupyter-widgets/base",
      "model_module_version": "2.0.0",
      "model_name": "LayoutModel",
      "state": {
       "_model_module": "@jupyter-widgets/base",
       "_model_module_version": "2.0.0",
       "_model_name": "LayoutModel",
       "_view_count": null,
       "_view_module": "@jupyter-widgets/base",
       "_view_module_version": "2.0.0",
       "_view_name": "LayoutView",
       "align_content": null,
       "align_items": null,
       "align_self": null,
       "border_bottom": null,
       "border_left": null,
       "border_right": null,
       "border_top": null,
       "bottom": null,
       "display": null,
       "flex": null,
       "flex_flow": null,
       "grid_area": null,
       "grid_auto_columns": null,
       "grid_auto_flow": null,
       "grid_auto_rows": null,
       "grid_column": null,
       "grid_gap": null,
       "grid_row": null,
       "grid_template_areas": null,
       "grid_template_columns": null,
       "grid_template_rows": null,
       "height": null,
       "justify_content": null,
       "justify_items": null,
       "left": null,
       "margin": null,
       "max_height": null,
       "max_width": null,
       "min_height": null,
       "min_width": null,
       "object_fit": null,
       "object_position": null,
       "order": null,
       "overflow": null,
       "padding": null,
       "right": null,
       "top": null,
       "visibility": null,
       "width": null
      }
     },
     "4a9759b5597e4caf84b3eca689d22157": {
      "model_module": "@jupyter-widgets/output",
      "model_module_version": "1.0.0",
      "model_name": "OutputModel",
      "state": {
       "_dom_classes": [],
       "_model_module": "@jupyter-widgets/output",
       "_model_module_version": "1.0.0",
       "_model_name": "OutputModel",
       "_view_count": null,
       "_view_module": "@jupyter-widgets/output",
       "_view_module_version": "1.0.0",
       "_view_name": "OutputView",
       "layout": "IPY_MODEL_21267c1d51044d199b42f9758264730b",
       "msg_id": "",
       "outputs": [
        {
         "name": "stdout",
         "output_type": "stream",
         "text": "Video available at https://www.bilibili.com/video/BV1nt4y1Q7Z5\n"
        },
        {
         "data": {
          "text/html": "\n        <iframe\n            width=\"730\"\n            height=\"410\"\n            src=\"https://player.bilibili.com/player.html?bvid=BV1nt4y1Q7Z5&page=1?fs=1\"\n            frameborder=\"0\"\n            allowfullscreen\n            \n        ></iframe>\n        ",
          "text/plain": "<__main__.BiliVideo at 0x7f70e2e9dbd0>"
         },
         "metadata": {},
         "output_type": "display_data"
        }
       ],
       "tabbable": null,
       "tooltip": null
      }
     },
     "4e71c59f8fb94c909b88d2f43ffc7c29": {
      "model_module": "@jupyter-widgets/controls",
      "model_module_version": "2.0.0",
      "model_name": "TabModel",
      "state": {
       "_dom_classes": [],
       "_model_module": "@jupyter-widgets/controls",
       "_model_module_version": "2.0.0",
       "_model_name": "TabModel",
       "_view_count": null,
       "_view_module": "@jupyter-widgets/controls",
       "_view_module_version": "2.0.0",
       "_view_name": "TabView",
       "box_style": "",
       "children": [
        "IPY_MODEL_1ceda971076744c6aa5eeecf9352ceee",
        "IPY_MODEL_9869f9b7494547c29b462b633d320696"
       ],
       "layout": "IPY_MODEL_581c193cd0504a8096908ee96caa2490",
       "selected_index": 0,
       "tabbable": null,
       "titles": [
        "Youtube",
        "Bilibili"
       ],
       "tooltip": null
      }
     },
     "55783589bba54cada28b1d07d0c5c2a0": {
      "model_module": "@jupyter-widgets/output",
      "model_module_version": "1.0.0",
      "model_name": "OutputModel",
      "state": {
       "_dom_classes": [],
       "_model_module": "@jupyter-widgets/output",
       "_model_module_version": "1.0.0",
       "_model_name": "OutputModel",
       "_view_count": null,
       "_view_module": "@jupyter-widgets/output",
       "_view_module_version": "1.0.0",
       "_view_name": "OutputView",
       "layout": "IPY_MODEL_d5f4e7c0a4554034bd49d8b4a89c043b",
       "msg_id": "",
       "outputs": [
        {
         "name": "stdout",
         "output_type": "stream",
         "text": "Video available at https://youtube.com/watch?v=Bwm6rjRpVw8\n"
        },
        {
         "data": {
          "image/jpeg": "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\n",
          "text/html": "\n        <iframe\n            width=\"730\"\n            height=\"410\"\n            src=\"https://www.youtube.com/embed/Bwm6rjRpVw8?fs=1&rel=0\"\n            frameborder=\"0\"\n            allowfullscreen\n            \n        ></iframe>\n        ",
          "text/plain": "<IPython.lib.display.YouTubeVideo at 0x7f70e83dd910>"
         },
         "metadata": {},
         "output_type": "display_data"
        }
       ],
       "tabbable": null,
       "tooltip": null
      }
     },
     "581c193cd0504a8096908ee96caa2490": {
      "model_module": "@jupyter-widgets/base",
      "model_module_version": "2.0.0",
      "model_name": "LayoutModel",
      "state": {
       "_model_module": "@jupyter-widgets/base",
       "_model_module_version": "2.0.0",
       "_model_name": "LayoutModel",
       "_view_count": null,
       "_view_module": "@jupyter-widgets/base",
       "_view_module_version": "2.0.0",
       "_view_name": "LayoutView",
       "align_content": null,
       "align_items": null,
       "align_self": null,
       "border_bottom": null,
       "border_left": null,
       "border_right": null,
       "border_top": null,
       "bottom": null,
       "display": null,
       "flex": null,
       "flex_flow": null,
       "grid_area": null,
       "grid_auto_columns": null,
       "grid_auto_flow": null,
       "grid_auto_rows": null,
       "grid_column": null,
       "grid_gap": null,
       "grid_row": null,
       "grid_template_areas": null,
       "grid_template_columns": null,
       "grid_template_rows": null,
       "height": null,
       "justify_content": null,
       "justify_items": null,
       "left": null,
       "margin": null,
       "max_height": null,
       "max_width": null,
       "min_height": null,
       "min_width": null,
       "object_fit": null,
       "object_position": null,
       "order": null,
       "overflow": null,
       "padding": null,
       "right": null,
       "top": null,
       "visibility": null,
       "width": null
      }
     },
     "582a5251e10b4444a2bbf478bc949a6b": {
      "model_module": "@jupyter-widgets/base",
      "model_module_version": "2.0.0",
      "model_name": "LayoutModel",
      "state": {
       "_model_module": "@jupyter-widgets/base",
       "_model_module_version": "2.0.0",
       "_model_name": "LayoutModel",
       "_view_count": null,
       "_view_module": "@jupyter-widgets/base",
       "_view_module_version": "2.0.0",
       "_view_name": "LayoutView",
       "align_content": null,
       "align_items": null,
       "align_self": null,
       "border_bottom": null,
       "border_left": null,
       "border_right": null,
       "border_top": null,
       "bottom": null,
       "display": null,
       "flex": null,
       "flex_flow": null,
       "grid_area": null,
       "grid_auto_columns": null,
       "grid_auto_flow": null,
       "grid_auto_rows": null,
       "grid_column": null,
       "grid_gap": null,
       "grid_row": null,
       "grid_template_areas": null,
       "grid_template_columns": null,
       "grid_template_rows": null,
       "height": null,
       "justify_content": null,
       "justify_items": null,
       "left": null,
       "margin": null,
       "max_height": null,
       "max_width": null,
       "min_height": null,
       "min_width": null,
       "object_fit": null,
       "object_position": null,
       "order": null,
       "overflow": null,
       "padding": null,
       "right": null,
       "top": null,
       "visibility": null,
       "width": null
      }
     },
     "58ac74b9a0bb4ad1a0ba1bff714e4586": {
      "model_module": "@jupyter-widgets/base",
      "model_module_version": "2.0.0",
      "model_name": "LayoutModel",
      "state": {
       "_model_module": "@jupyter-widgets/base",
       "_model_module_version": "2.0.0",
       "_model_name": "LayoutModel",
       "_view_count": null,
       "_view_module": "@jupyter-widgets/base",
       "_view_module_version": "2.0.0",
       "_view_name": "LayoutView",
       "align_content": null,
       "align_items": null,
       "align_self": null,
       "border_bottom": null,
       "border_left": null,
       "border_right": null,
       "border_top": null,
       "bottom": null,
       "display": null,
       "flex": null,
       "flex_flow": null,
       "grid_area": null,
       "grid_auto_columns": null,
       "grid_auto_flow": null,
       "grid_auto_rows": null,
       "grid_column": null,
       "grid_gap": null,
       "grid_row": null,
       "grid_template_areas": null,
       "grid_template_columns": null,
       "grid_template_rows": null,
       "height": null,
       "justify_content": null,
       "justify_items": null,
       "left": null,
       "margin": null,
       "max_height": null,
       "max_width": null,
       "min_height": null,
       "min_width": null,
       "object_fit": null,
       "object_position": null,
       "order": null,
       "overflow": null,
       "padding": null,
       "right": null,
       "top": null,
       "visibility": null,
       "width": null
      }
     },
     "5bf715ac7dd0423e82dbf9075e3d5c3f": {
      "model_module": "@jupyter-widgets/output",
      "model_module_version": "1.0.0",
      "model_name": "OutputModel",
      "state": {
       "_dom_classes": [],
       "_model_module": "@jupyter-widgets/output",
       "_model_module_version": "1.0.0",
       "_model_name": "OutputModel",
       "_view_count": null,
       "_view_module": "@jupyter-widgets/output",
       "_view_module_version": "1.0.0",
       "_view_name": "OutputView",
       "layout": "IPY_MODEL_7d9d28e1c70143dd8f2046fc59d64592",
       "msg_id": "",
       "outputs": [
        {
         "name": "stdout",
         "output_type": "stream",
         "text": "Video available at https://www.bilibili.com/video/BV1vV41167T1\n"
        },
        {
         "data": {
          "text/html": "\n        <iframe\n            width=\"730\"\n            height=\"410\"\n            src=\"https://player.bilibili.com/player.html?bvid=BV1vV41167T1&page=1?fs=1\"\n            frameborder=\"0\"\n            allowfullscreen\n            \n        ></iframe>\n        ",
          "text/plain": "<__main__.BiliVideo at 0x7f70e83aa2d0>"
         },
         "metadata": {},
         "output_type": "display_data"
        }
       ],
       "tabbable": null,
       "tooltip": null
      }
     },
     "6c3d70b6b5114db2916825e5ca4f8193": {
      "model_module": "@jupyter-widgets/output",
      "model_module_version": "1.0.0",
      "model_name": "OutputModel",
      "state": {
       "_dom_classes": [],
       "_model_module": "@jupyter-widgets/output",
       "_model_module_version": "1.0.0",
       "_model_name": "OutputModel",
       "_view_count": null,
       "_view_module": "@jupyter-widgets/output",
       "_view_module_version": "1.0.0",
       "_view_name": "OutputView",
       "layout": "IPY_MODEL_42e532b13289451e84546a930d04af37",
       "msg_id": "",
       "outputs": [
        {
         "name": "stdout",
         "output_type": "stream",
         "text": "Video available at https://www.bilibili.com/video/BV1BA411e7eH\n"
        },
        {
         "data": {
          "text/html": "\n        <iframe\n            width=\"730\"\n            height=\"410\"\n            src=\"https://player.bilibili.com/player.html?bvid=BV1BA411e7eH&page=1?fs=1\"\n            frameborder=\"0\"\n            allowfullscreen\n            \n        ></iframe>\n        ",
          "text/plain": "<__main__.BiliVideo at 0x7f70e2d6b590>"
         },
         "metadata": {},
         "output_type": "display_data"
        }
       ],
       "tabbable": null,
       "tooltip": null
      }
     },
     "6efeafb7f372489c8d80bf827ead696f": {
      "model_module": "@jupyter-widgets/base",
      "model_module_version": "2.0.0",
      "model_name": "LayoutModel",
      "state": {
       "_model_module": "@jupyter-widgets/base",
       "_model_module_version": "2.0.0",
       "_model_name": "LayoutModel",
       "_view_count": null,
       "_view_module": "@jupyter-widgets/base",
       "_view_module_version": "2.0.0",
       "_view_name": "LayoutView",
       "align_content": null,
       "align_items": null,
       "align_self": null,
       "border_bottom": null,
       "border_left": null,
       "border_right": null,
       "border_top": null,
       "bottom": null,
       "display": null,
       "flex": null,
       "flex_flow": null,
       "grid_area": null,
       "grid_auto_columns": null,
       "grid_auto_flow": null,
       "grid_auto_rows": null,
       "grid_column": null,
       "grid_gap": null,
       "grid_row": null,
       "grid_template_areas": null,
       "grid_template_columns": null,
       "grid_template_rows": null,
       "height": null,
       "justify_content": null,
       "justify_items": null,
       "left": null,
       "margin": null,
       "max_height": null,
       "max_width": null,
       "min_height": null,
       "min_width": null,
       "object_fit": null,
       "object_position": null,
       "order": null,
       "overflow": null,
       "padding": null,
       "right": null,
       "top": null,
       "visibility": null,
       "width": null
      }
     },
     "73ac45eb85ed45a18e98fd41e32f95e5": {
      "model_module": "@jupyter-widgets/output",
      "model_module_version": "1.0.0",
      "model_name": "OutputModel",
      "state": {
       "_dom_classes": [],
       "_model_module": "@jupyter-widgets/output",
       "_model_module_version": "1.0.0",
       "_model_name": "OutputModel",
       "_view_count": null,
       "_view_module": "@jupyter-widgets/output",
       "_view_module_version": "1.0.0",
       "_view_name": "OutputView",
       "layout": "IPY_MODEL_18d0c8107c374e2f809ea0c28c2bc469",
       "msg_id": "",
       "outputs": [
        {
         "name": "stdout",
         "output_type": "stream",
         "text": "Video available at https://www.bilibili.com/video/BV1wa4y1a7Xq\n"
        },
        {
         "data": {
          "text/html": "\n        <iframe\n            width=\"730\"\n            height=\"410\"\n            src=\"https://player.bilibili.com/player.html?bvid=BV1wa4y1a7Xq&page=1?fs=1\"\n            frameborder=\"0\"\n            allowfullscreen\n            \n        ></iframe>\n        ",
          "text/plain": "<__main__.BiliVideo at 0x7f70e2d81310>"
         },
         "metadata": {},
         "output_type": "display_data"
        }
       ],
       "tabbable": null,
       "tooltip": null
      }
     },
     "7b73843316dc41ba8013636b5756306c": {
      "model_module": "@jupyter-widgets/base",
      "model_module_version": "2.0.0",
      "model_name": "LayoutModel",
      "state": {
       "_model_module": "@jupyter-widgets/base",
       "_model_module_version": "2.0.0",
       "_model_name": "LayoutModel",
       "_view_count": null,
       "_view_module": "@jupyter-widgets/base",
       "_view_module_version": "2.0.0",
       "_view_name": "LayoutView",
       "align_content": null,
       "align_items": null,
       "align_self": null,
       "border_bottom": null,
       "border_left": null,
       "border_right": null,
       "border_top": null,
       "bottom": null,
       "display": null,
       "flex": null,
       "flex_flow": null,
       "grid_area": null,
       "grid_auto_columns": null,
       "grid_auto_flow": null,
       "grid_auto_rows": null,
       "grid_column": null,
       "grid_gap": null,
       "grid_row": null,
       "grid_template_areas": null,
       "grid_template_columns": null,
       "grid_template_rows": null,
       "height": null,
       "justify_content": null,
       "justify_items": null,
       "left": null,
       "margin": null,
       "max_height": null,
       "max_width": null,
       "min_height": null,
       "min_width": null,
       "object_fit": null,
       "object_position": null,
       "order": null,
       "overflow": null,
       "padding": null,
       "right": null,
       "top": null,
       "visibility": null,
       "width": null
      }
     },
     "7ba358f14854483e8675b981b90535e1": {
      "model_module": "@jupyter-widgets/base",
      "model_module_version": "2.0.0",
      "model_name": "LayoutModel",
      "state": {
       "_model_module": "@jupyter-widgets/base",
       "_model_module_version": "2.0.0",
       "_model_name": "LayoutModel",
       "_view_count": null,
       "_view_module": "@jupyter-widgets/base",
       "_view_module_version": "2.0.0",
       "_view_name": "LayoutView",
       "align_content": null,
       "align_items": null,
       "align_self": null,
       "border_bottom": null,
       "border_left": null,
       "border_right": null,
       "border_top": null,
       "bottom": null,
       "display": null,
       "flex": null,
       "flex_flow": null,
       "grid_area": null,
       "grid_auto_columns": null,
       "grid_auto_flow": null,
       "grid_auto_rows": null,
       "grid_column": null,
       "grid_gap": null,
       "grid_row": null,
       "grid_template_areas": null,
       "grid_template_columns": null,
       "grid_template_rows": null,
       "height": null,
       "justify_content": null,
       "justify_items": null,
       "left": null,
       "margin": null,
       "max_height": null,
       "max_width": null,
       "min_height": null,
       "min_width": null,
       "object_fit": null,
       "object_position": null,
       "order": null,
       "overflow": null,
       "padding": null,
       "right": null,
       "top": null,
       "visibility": null,
       "width": null
      }
     },
     "7d9d28e1c70143dd8f2046fc59d64592": {
      "model_module": "@jupyter-widgets/base",
      "model_module_version": "2.0.0",
      "model_name": "LayoutModel",
      "state": {
       "_model_module": "@jupyter-widgets/base",
       "_model_module_version": "2.0.0",
       "_model_name": "LayoutModel",
       "_view_count": null,
       "_view_module": "@jupyter-widgets/base",
       "_view_module_version": "2.0.0",
       "_view_name": "LayoutView",
       "align_content": null,
       "align_items": null,
       "align_self": null,
       "border_bottom": null,
       "border_left": null,
       "border_right": null,
       "border_top": null,
       "bottom": null,
       "display": null,
       "flex": null,
       "flex_flow": null,
       "grid_area": null,
       "grid_auto_columns": null,
       "grid_auto_flow": null,
       "grid_auto_rows": null,
       "grid_column": null,
       "grid_gap": null,
       "grid_row": null,
       "grid_template_areas": null,
       "grid_template_columns": null,
       "grid_template_rows": null,
       "height": null,
       "justify_content": null,
       "justify_items": null,
       "left": null,
       "margin": null,
       "max_height": null,
       "max_width": null,
       "min_height": null,
       "min_width": null,
       "object_fit": null,
       "object_position": null,
       "order": null,
       "overflow": null,
       "padding": null,
       "right": null,
       "top": null,
       "visibility": null,
       "width": null
      }
     },
     "841dacef921c4e1fb086afdc0e925d16": {
      "model_module": "@jupyter-widgets/output",
      "model_module_version": "1.0.0",
      "model_name": "OutputModel",
      "state": {
       "_dom_classes": [],
       "_model_module": "@jupyter-widgets/output",
       "_model_module_version": "1.0.0",
       "_model_name": "OutputModel",
       "_view_count": null,
       "_view_module": "@jupyter-widgets/output",
       "_view_module_version": "1.0.0",
       "_view_name": "OutputView",
       "layout": "IPY_MODEL_bdc9fa3e30514fb6bb89ece0a5e5b652",
       "msg_id": "",
       "outputs": [
        {
         "name": "stdout",
         "output_type": "stream",
         "text": "Video available at https://www.bilibili.com/video/BV1vA411e7w4\n"
        },
        {
         "data": {
          "text/html": "\n        <iframe\n            width=\"730\"\n            height=\"410\"\n            src=\"https://player.bilibili.com/player.html?bvid=BV1vA411e7w4&page=1?fs=1\"\n            frameborder=\"0\"\n            allowfullscreen\n            \n        ></iframe>\n        ",
          "text/plain": "<__main__.BiliVideo at 0x7f70e2c3a2d0>"
         },
         "metadata": {},
         "output_type": "display_data"
        }
       ],
       "tabbable": null,
       "tooltip": null
      }
     },
     "849aa547918a41b2b2cc34dde4c620ed": {
      "model_module": "@jupyter-widgets/base",
      "model_module_version": "2.0.0",
      "model_name": "LayoutModel",
      "state": {
       "_model_module": "@jupyter-widgets/base",
       "_model_module_version": "2.0.0",
       "_model_name": "LayoutModel",
       "_view_count": null,
       "_view_module": "@jupyter-widgets/base",
       "_view_module_version": "2.0.0",
       "_view_name": "LayoutView",
       "align_content": null,
       "align_items": null,
       "align_self": null,
       "border_bottom": null,
       "border_left": null,
       "border_right": null,
       "border_top": null,
       "bottom": null,
       "display": null,
       "flex": null,
       "flex_flow": null,
       "grid_area": null,
       "grid_auto_columns": null,
       "grid_auto_flow": null,
       "grid_auto_rows": null,
       "grid_column": null,
       "grid_gap": null,
       "grid_row": null,
       "grid_template_areas": null,
       "grid_template_columns": null,
       "grid_template_rows": null,
       "height": null,
       "justify_content": null,
       "justify_items": null,
       "left": null,
       "margin": null,
       "max_height": null,
       "max_width": null,
       "min_height": null,
       "min_width": null,
       "object_fit": null,
       "object_position": null,
       "order": null,
       "overflow": null,
       "padding": null,
       "right": null,
       "top": null,
       "visibility": null,
       "width": null
      }
     },
     "8bd173de812545bfbec0bafad15c1410": {
      "model_module": "@jupyter-widgets/output",
      "model_module_version": "1.0.0",
      "model_name": "OutputModel",
      "state": {
       "_dom_classes": [],
       "_model_module": "@jupyter-widgets/output",
       "_model_module_version": "1.0.0",
       "_model_name": "OutputModel",
       "_view_count": null,
       "_view_module": "@jupyter-widgets/output",
       "_view_module_version": "1.0.0",
       "_view_name": "OutputView",
       "layout": "IPY_MODEL_c248f00dfb95441999132c76bfbddde1",
       "msg_id": "",
       "outputs": [
        {
         "name": "stdout",
         "output_type": "stream",
         "text": "Video available at https://youtube.com/watch?v=BOh8CsuTFkY\n"
        },
        {
         "data": {
          "image/jpeg": "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\n",
          "text/html": "\n        <iframe\n            width=\"730\"\n            height=\"410\"\n            src=\"https://www.youtube.com/embed/BOh8CsuTFkY?fs=1&rel=0\"\n            frameborder=\"0\"\n            allowfullscreen\n            \n        ></iframe>\n        ",
          "text/plain": "<IPython.lib.display.YouTubeVideo at 0x7f70e2d0c0d0>"
         },
         "metadata": {},
         "output_type": "display_data"
        }
       ],
       "tabbable": null,
       "tooltip": null
      }
     },
     "9869f9b7494547c29b462b633d320696": {
      "model_module": "@jupyter-widgets/output",
      "model_module_version": "1.0.0",
      "model_name": "OutputModel",
      "state": {
       "_dom_classes": [],
       "_model_module": "@jupyter-widgets/output",
       "_model_module_version": "1.0.0",
       "_model_name": "OutputModel",
       "_view_count": null,
       "_view_module": "@jupyter-widgets/output",
       "_view_module_version": "1.0.0",
       "_view_name": "OutputView",
       "layout": "IPY_MODEL_c869e4c2c3ed4bf3b2ab37a7a622c980",
       "msg_id": "",
       "outputs": [
        {
         "name": "stdout",
         "output_type": "stream",
         "text": "Video available at https://www.bilibili.com/video/BV1fg4y1v7P3\n"
        },
        {
         "data": {
          "text/html": "\n        <iframe\n            width=\"730\"\n            height=\"410\"\n            src=\"https://player.bilibili.com/player.html?bvid=BV1fg4y1v7P3&page=1?fs=1\"\n            frameborder=\"0\"\n            allowfullscreen\n            \n        ></iframe>\n        ",
          "text/plain": "<__main__.BiliVideo at 0x7f70e83aa2d0>"
         },
         "metadata": {},
         "output_type": "display_data"
        }
       ],
       "tabbable": null,
       "tooltip": null
      }
     },
     "99f991bc798a4fea850f8fcfaf1eb160": {
      "model_module": "@jupyter-widgets/output",
      "model_module_version": "1.0.0",
      "model_name": "OutputModel",
      "state": {
       "_dom_classes": [],
       "_model_module": "@jupyter-widgets/output",
       "_model_module_version": "1.0.0",
       "_model_name": "OutputModel",
       "_view_count": null,
       "_view_module": "@jupyter-widgets/output",
       "_view_module_version": "1.0.0",
       "_view_name": "OutputView",
       "layout": "IPY_MODEL_4995894cc4024261b5c2f6e4e6c7406a",
       "msg_id": "",
       "outputs": [
        {
         "name": "stdout",
         "output_type": "stream",
         "text": "Video available at https://www.bilibili.com/video/BV1ff4y197Hx\n"
        },
        {
         "data": {
          "text/html": "\n        <iframe\n            width=\"730\"\n            height=\"410\"\n            src=\"https://player.bilibili.com/player.html?bvid=BV1ff4y197Hx&page=1?fs=1\"\n            frameborder=\"0\"\n            allowfullscreen\n            \n        ></iframe>\n        ",
          "text/plain": "<__main__.BiliVideo at 0x7f70e2d822d0>"
         },
         "metadata": {},
         "output_type": "display_data"
        }
       ],
       "tabbable": null,
       "tooltip": null
      }
     },
     "a2bdd20af3074936b47ca16780a704a3": {
      "model_module": "@jupyter-widgets/output",
      "model_module_version": "1.0.0",
      "model_name": "OutputModel",
      "state": {
       "_dom_classes": [],
       "_model_module": "@jupyter-widgets/output",
       "_model_module_version": "1.0.0",
       "_model_name": "OutputModel",
       "_view_count": null,
       "_view_module": "@jupyter-widgets/output",
       "_view_module_version": "1.0.0",
       "_view_name": "OutputView",
       "layout": "IPY_MODEL_07158d24eb264be1b87ba3040eee1a3d",
       "msg_id": "",
       "outputs": [
        {
         "name": "stdout",
         "output_type": "stream",
         "text": "Video available at https://youtube.com/watch?v=ewyHKKa2_OU\n"
        },
        {
         "data": {
          "image/jpeg": "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\n",
          "text/html": "\n        <iframe\n            width=\"730\"\n            height=\"410\"\n            src=\"https://www.youtube.com/embed/ewyHKKa2_OU?fs=1&rel=0\"\n            frameborder=\"0\"\n            allowfullscreen\n            \n        ></iframe>\n        ",
          "text/plain": "<IPython.lib.display.YouTubeVideo at 0x7f70e2d7f090>"
         },
         "metadata": {},
         "output_type": "display_data"
        }
       ],
       "tabbable": null,
       "tooltip": null
      }
     },
     "a3a972752bfe47d796c1ed53668bb8ba": {
      "model_module": "@jupyter-widgets/base",
      "model_module_version": "2.0.0",
      "model_name": "LayoutModel",
      "state": {
       "_model_module": "@jupyter-widgets/base",
       "_model_module_version": "2.0.0",
       "_model_name": "LayoutModel",
       "_view_count": null,
       "_view_module": "@jupyter-widgets/base",
       "_view_module_version": "2.0.0",
       "_view_name": "LayoutView",
       "align_content": null,
       "align_items": null,
       "align_self": null,
       "border_bottom": null,
       "border_left": null,
       "border_right": null,
       "border_top": null,
       "bottom": null,
       "display": null,
       "flex": null,
       "flex_flow": null,
       "grid_area": null,
       "grid_auto_columns": null,
       "grid_auto_flow": null,
       "grid_auto_rows": null,
       "grid_column": null,
       "grid_gap": null,
       "grid_row": null,
       "grid_template_areas": null,
       "grid_template_columns": null,
       "grid_template_rows": null,
       "height": null,
       "justify_content": null,
       "justify_items": null,
       "left": null,
       "margin": null,
       "max_height": null,
       "max_width": null,
       "min_height": null,
       "min_width": null,
       "object_fit": null,
       "object_position": null,
       "order": null,
       "overflow": null,
       "padding": null,
       "right": null,
       "top": null,
       "visibility": null,
       "width": null
      }
     },
     "b229f5270905498e90fc5b40b7f1eae8": {
      "model_module": "@jupyter-widgets/controls",
      "model_module_version": "2.0.0",
      "model_name": "TabModel",
      "state": {
       "_dom_classes": [],
       "_model_module": "@jupyter-widgets/controls",
       "_model_module_version": "2.0.0",
       "_model_name": "TabModel",
       "_view_count": null,
       "_view_module": "@jupyter-widgets/controls",
       "_view_module_version": "2.0.0",
       "_view_name": "TabView",
       "box_style": "",
       "children": [
        "IPY_MODEL_1c41cd281500412087ab941d002e76a6",
        "IPY_MODEL_ca3404d61c4b4a7aa9734bd433f08b31"
       ],
       "layout": "IPY_MODEL_f9ac7dab19ed4001a845be602b52d1e9",
       "selected_index": 0,
       "tabbable": null,
       "titles": [
        "Youtube",
        "Bilibili"
       ],
       "tooltip": null
      }
     },
     "b92fed82aafc4366b35fe247f83e1093": {
      "model_module": "@jupyter-widgets/output",
      "model_module_version": "1.0.0",
      "model_name": "OutputModel",
      "state": {
       "_dom_classes": [],
       "_model_module": "@jupyter-widgets/output",
       "_model_module_version": "1.0.0",
       "_model_name": "OutputModel",
       "_view_count": null,
       "_view_module": "@jupyter-widgets/output",
       "_view_module_version": "1.0.0",
       "_view_name": "OutputView",
       "layout": "IPY_MODEL_58ac74b9a0bb4ad1a0ba1bff714e4586",
       "msg_id": "",
       "outputs": [
        {
         "name": "stdout",
         "output_type": "stream",
         "text": "Video available at https://www.bilibili.com/video/BV1Fv411q7tE\n"
        },
        {
         "data": {
          "text/html": "\n        <iframe\n            width=\"730\"\n            height=\"410\"\n            src=\"https://player.bilibili.com/player.html?bvid=BV1Fv411q7tE&page=1?fs=1\"\n            frameborder=\"0\"\n            allowfullscreen\n            \n        ></iframe>\n        ",
          "text/plain": "<__main__.BiliVideo at 0x7f70e2c7a2d0>"
         },
         "metadata": {},
         "output_type": "display_data"
        }
       ],
       "tabbable": null,
       "tooltip": null
      }
     },
     "ba8782c8f02f4255b311c619eec6fd39": {
      "model_module": "@jupyter-widgets/base",
      "model_module_version": "2.0.0",
      "model_name": "LayoutModel",
      "state": {
       "_model_module": "@jupyter-widgets/base",
       "_model_module_version": "2.0.0",
       "_model_name": "LayoutModel",
       "_view_count": null,
       "_view_module": "@jupyter-widgets/base",
       "_view_module_version": "2.0.0",
       "_view_name": "LayoutView",
       "align_content": null,
       "align_items": null,
       "align_self": null,
       "border_bottom": null,
       "border_left": null,
       "border_right": null,
       "border_top": null,
       "bottom": null,
       "display": null,
       "flex": null,
       "flex_flow": null,
       "grid_area": null,
       "grid_auto_columns": null,
       "grid_auto_flow": null,
       "grid_auto_rows": null,
       "grid_column": null,
       "grid_gap": null,
       "grid_row": null,
       "grid_template_areas": null,
       "grid_template_columns": null,
       "grid_template_rows": null,
       "height": null,
       "justify_content": null,
       "justify_items": null,
       "left": null,
       "margin": null,
       "max_height": null,
       "max_width": null,
       "min_height": null,
       "min_width": null,
       "object_fit": null,
       "object_position": null,
       "order": null,
       "overflow": null,
       "padding": null,
       "right": null,
       "top": null,
       "visibility": null,
       "width": null
      }
     },
     "bc403e5b223d4228b862483e07e5abde": {
      "model_module": "@jupyter-widgets/base",
      "model_module_version": "2.0.0",
      "model_name": "LayoutModel",
      "state": {
       "_model_module": "@jupyter-widgets/base",
       "_model_module_version": "2.0.0",
       "_model_name": "LayoutModel",
       "_view_count": null,
       "_view_module": "@jupyter-widgets/base",
       "_view_module_version": "2.0.0",
       "_view_name": "LayoutView",
       "align_content": null,
       "align_items": null,
       "align_self": null,
       "border_bottom": null,
       "border_left": null,
       "border_right": null,
       "border_top": null,
       "bottom": null,
       "display": null,
       "flex": null,
       "flex_flow": null,
       "grid_area": null,
       "grid_auto_columns": null,
       "grid_auto_flow": null,
       "grid_auto_rows": null,
       "grid_column": null,
       "grid_gap": null,
       "grid_row": null,
       "grid_template_areas": null,
       "grid_template_columns": null,
       "grid_template_rows": null,
       "height": null,
       "justify_content": null,
       "justify_items": null,
       "left": null,
       "margin": null,
       "max_height": null,
       "max_width": null,
       "min_height": null,
       "min_width": null,
       "object_fit": null,
       "object_position": null,
       "order": null,
       "overflow": null,
       "padding": null,
       "right": null,
       "top": null,
       "visibility": null,
       "width": null
      }
     },
     "bdc9fa3e30514fb6bb89ece0a5e5b652": {
      "model_module": "@jupyter-widgets/base",
      "model_module_version": "2.0.0",
      "model_name": "LayoutModel",
      "state": {
       "_model_module": "@jupyter-widgets/base",
       "_model_module_version": "2.0.0",
       "_model_name": "LayoutModel",
       "_view_count": null,
       "_view_module": "@jupyter-widgets/base",
       "_view_module_version": "2.0.0",
       "_view_name": "LayoutView",
       "align_content": null,
       "align_items": null,
       "align_self": null,
       "border_bottom": null,
       "border_left": null,
       "border_right": null,
       "border_top": null,
       "bottom": null,
       "display": null,
       "flex": null,
       "flex_flow": null,
       "grid_area": null,
       "grid_auto_columns": null,
       "grid_auto_flow": null,
       "grid_auto_rows": null,
       "grid_column": null,
       "grid_gap": null,
       "grid_row": null,
       "grid_template_areas": null,
       "grid_template_columns": null,
       "grid_template_rows": null,
       "height": null,
       "justify_content": null,
       "justify_items": null,
       "left": null,
       "margin": null,
       "max_height": null,
       "max_width": null,
       "min_height": null,
       "min_width": null,
       "object_fit": null,
       "object_position": null,
       "order": null,
       "overflow": null,
       "padding": null,
       "right": null,
       "top": null,
       "visibility": null,
       "width": null
      }
     },
     "bddeaa08b1a34b8e9fed05e0389e1d1c": {
      "model_module": "@jupyter-widgets/base",
      "model_module_version": "2.0.0",
      "model_name": "LayoutModel",
      "state": {
       "_model_module": "@jupyter-widgets/base",
       "_model_module_version": "2.0.0",
       "_model_name": "LayoutModel",
       "_view_count": null,
       "_view_module": "@jupyter-widgets/base",
       "_view_module_version": "2.0.0",
       "_view_name": "LayoutView",
       "align_content": null,
       "align_items": null,
       "align_self": null,
       "border_bottom": null,
       "border_left": null,
       "border_right": null,
       "border_top": null,
       "bottom": null,
       "display": null,
       "flex": null,
       "flex_flow": null,
       "grid_area": null,
       "grid_auto_columns": null,
       "grid_auto_flow": null,
       "grid_auto_rows": null,
       "grid_column": null,
       "grid_gap": null,
       "grid_row": null,
       "grid_template_areas": null,
       "grid_template_columns": null,
       "grid_template_rows": null,
       "height": null,
       "justify_content": null,
       "justify_items": null,
       "left": null,
       "margin": null,
       "max_height": null,
       "max_width": null,
       "min_height": null,
       "min_width": null,
       "object_fit": null,
       "object_position": null,
       "order": null,
       "overflow": null,
       "padding": null,
       "right": null,
       "top": null,
       "visibility": null,
       "width": null
      }
     },
     "c12612c6696c4f1bbeb22f6d7cdd47fc": {
      "model_module": "@jupyter-widgets/output",
      "model_module_version": "1.0.0",
      "model_name": "OutputModel",
      "state": {
       "_dom_classes": [],
       "_model_module": "@jupyter-widgets/output",
       "_model_module_version": "1.0.0",
       "_model_name": "OutputModel",
       "_view_count": null,
       "_view_module": "@jupyter-widgets/output",
       "_view_module_version": "1.0.0",
       "_view_name": "OutputView",
       "layout": "IPY_MODEL_d9e5b95eed1149439a90eec6f30cb6c0",
       "msg_id": "",
       "outputs": [
        {
         "name": "stdout",
         "output_type": "stream",
         "text": "Video available at https://youtube.com/watch?v=E6FyhSsO4Vg\n"
        },
        {
         "data": {
          "image/jpeg": "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\n",
          "text/html": "\n        <iframe\n            width=\"730\"\n            height=\"410\"\n            src=\"https://www.youtube.com/embed/E6FyhSsO4Vg?fs=1&rel=0\"\n            frameborder=\"0\"\n            allowfullscreen\n            \n        ></iframe>\n        ",
          "text/plain": "<IPython.lib.display.YouTubeVideo at 0x7f70e2c532d0>"
         },
         "metadata": {},
         "output_type": "display_data"
        }
       ],
       "tabbable": null,
       "tooltip": null
      }
     },
     "c248f00dfb95441999132c76bfbddde1": {
      "model_module": "@jupyter-widgets/base",
      "model_module_version": "2.0.0",
      "model_name": "LayoutModel",
      "state": {
       "_model_module": "@jupyter-widgets/base",
       "_model_module_version": "2.0.0",
       "_model_name": "LayoutModel",
       "_view_count": null,
       "_view_module": "@jupyter-widgets/base",
       "_view_module_version": "2.0.0",
       "_view_name": "LayoutView",
       "align_content": null,
       "align_items": null,
       "align_self": null,
       "border_bottom": null,
       "border_left": null,
       "border_right": null,
       "border_top": null,
       "bottom": null,
       "display": null,
       "flex": null,
       "flex_flow": null,
       "grid_area": null,
       "grid_auto_columns": null,
       "grid_auto_flow": null,
       "grid_auto_rows": null,
       "grid_column": null,
       "grid_gap": null,
       "grid_row": null,
       "grid_template_areas": null,
       "grid_template_columns": null,
       "grid_template_rows": null,
       "height": null,
       "justify_content": null,
       "justify_items": null,
       "left": null,
       "margin": null,
       "max_height": null,
       "max_width": null,
       "min_height": null,
       "min_width": null,
       "object_fit": null,
       "object_position": null,
       "order": null,
       "overflow": null,
       "padding": null,
       "right": null,
       "top": null,
       "visibility": null,
       "width": null
      }
     },
     "c2d2b64278c541dc8ed914caeb496d53": {
      "model_module": "@jupyter-widgets/controls",
      "model_module_version": "2.0.0",
      "model_name": "TabModel",
      "state": {
       "_dom_classes": [],
       "_model_module": "@jupyter-widgets/controls",
       "_model_module_version": "2.0.0",
       "_model_name": "TabModel",
       "_view_count": null,
       "_view_module": "@jupyter-widgets/controls",
       "_view_module_version": "2.0.0",
       "_view_name": "TabView",
       "box_style": "",
       "children": [
        "IPY_MODEL_c3b593a917f84d0da6c2471c3b2e78c9",
        "IPY_MODEL_b92fed82aafc4366b35fe247f83e1093"
       ],
       "layout": "IPY_MODEL_d998510262c847b9842568445405beb3",
       "selected_index": 0,
       "tabbable": null,
       "titles": [
        "Youtube",
        "Bilibili"
       ],
       "tooltip": null
      }
     },
     "c3b593a917f84d0da6c2471c3b2e78c9": {
      "model_module": "@jupyter-widgets/output",
      "model_module_version": "1.0.0",
      "model_name": "OutputModel",
      "state": {
       "_dom_classes": [],
       "_model_module": "@jupyter-widgets/output",
       "_model_module_version": "1.0.0",
       "_model_name": "OutputModel",
       "_view_count": null,
       "_view_module": "@jupyter-widgets/output",
       "_view_module_version": "1.0.0",
       "_view_name": "OutputView",
       "layout": "IPY_MODEL_38fead6c5a384629b97a1f147506c381",
       "msg_id": "",
       "outputs": [
        {
         "name": "stdout",
         "output_type": "stream",
         "text": "Video available at https://youtube.com/watch?v=VqAznnSAqmM\n"
        },
        {
         "data": {
          "image/jpeg": "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\n",
          "text/html": "\n        <iframe\n            width=\"730\"\n            height=\"410\"\n            src=\"https://www.youtube.com/embed/VqAznnSAqmM?fs=1&rel=0\"\n            frameborder=\"0\"\n            allowfullscreen\n            \n        ></iframe>\n        ",
          "text/plain": "<IPython.lib.display.YouTubeVideo at 0x7f70e2c74a50>"
         },
         "metadata": {},
         "output_type": "display_data"
        }
       ],
       "tabbable": null,
       "tooltip": null
      }
     },
     "c76966d3d91c4e689a20b8aaaced8c4c": {
      "model_module": "@jupyter-widgets/controls",
      "model_module_version": "2.0.0",
      "model_name": "TabModel",
      "state": {
       "_dom_classes": [],
       "_model_module": "@jupyter-widgets/controls",
       "_model_module_version": "2.0.0",
       "_model_name": "TabModel",
       "_view_count": null,
       "_view_module": "@jupyter-widgets/controls",
       "_view_module_version": "2.0.0",
       "_view_name": "TabView",
       "box_style": "",
       "children": [
        "IPY_MODEL_0b6f8308e90a405894e25c2db2c7a3d6",
        "IPY_MODEL_2c101e82cd264a99a23c8ecc24479121"
       ],
       "layout": "IPY_MODEL_bddeaa08b1a34b8e9fed05e0389e1d1c",
       "selected_index": 0,
       "tabbable": null,
       "titles": [
        "Youtube",
        "Bilibili"
       ],
       "tooltip": null
      }
     },
     "c7c19ac91da3496a808a330b3e2063b2": {
      "model_module": "@jupyter-widgets/base",
      "model_module_version": "2.0.0",
      "model_name": "LayoutModel",
      "state": {
       "_model_module": "@jupyter-widgets/base",
       "_model_module_version": "2.0.0",
       "_model_name": "LayoutModel",
       "_view_count": null,
       "_view_module": "@jupyter-widgets/base",
       "_view_module_version": "2.0.0",
       "_view_name": "LayoutView",
       "align_content": null,
       "align_items": null,
       "align_self": null,
       "border_bottom": null,
       "border_left": null,
       "border_right": null,
       "border_top": null,
       "bottom": null,
       "display": null,
       "flex": null,
       "flex_flow": null,
       "grid_area": null,
       "grid_auto_columns": null,
       "grid_auto_flow": null,
       "grid_auto_rows": null,
       "grid_column": null,
       "grid_gap": null,
       "grid_row": null,
       "grid_template_areas": null,
       "grid_template_columns": null,
       "grid_template_rows": null,
       "height": null,
       "justify_content": null,
       "justify_items": null,
       "left": null,
       "margin": null,
       "max_height": null,
       "max_width": null,
       "min_height": null,
       "min_width": null,
       "object_fit": null,
       "object_position": null,
       "order": null,
       "overflow": null,
       "padding": null,
       "right": null,
       "top": null,
       "visibility": null,
       "width": null
      }
     },
     "c869e4c2c3ed4bf3b2ab37a7a622c980": {
      "model_module": "@jupyter-widgets/base",
      "model_module_version": "2.0.0",
      "model_name": "LayoutModel",
      "state": {
       "_model_module": "@jupyter-widgets/base",
       "_model_module_version": "2.0.0",
       "_model_name": "LayoutModel",
       "_view_count": null,
       "_view_module": "@jupyter-widgets/base",
       "_view_module_version": "2.0.0",
       "_view_name": "LayoutView",
       "align_content": null,
       "align_items": null,
       "align_self": null,
       "border_bottom": null,
       "border_left": null,
       "border_right": null,
       "border_top": null,
       "bottom": null,
       "display": null,
       "flex": null,
       "flex_flow": null,
       "grid_area": null,
       "grid_auto_columns": null,
       "grid_auto_flow": null,
       "grid_auto_rows": null,
       "grid_column": null,
       "grid_gap": null,
       "grid_row": null,
       "grid_template_areas": null,
       "grid_template_columns": null,
       "grid_template_rows": null,
       "height": null,
       "justify_content": null,
       "justify_items": null,
       "left": null,
       "margin": null,
       "max_height": null,
       "max_width": null,
       "min_height": null,
       "min_width": null,
       "object_fit": null,
       "object_position": null,
       "order": null,
       "overflow": null,
       "padding": null,
       "right": null,
       "top": null,
       "visibility": null,
       "width": null
      }
     },
     "ca3404d61c4b4a7aa9734bd433f08b31": {
      "model_module": "@jupyter-widgets/output",
      "model_module_version": "1.0.0",
      "model_name": "OutputModel",
      "state": {
       "_dom_classes": [],
       "_model_module": "@jupyter-widgets/output",
       "_model_module_version": "1.0.0",
       "_model_name": "OutputModel",
       "_view_count": null,
       "_view_module": "@jupyter-widgets/output",
       "_view_module_version": "1.0.0",
       "_view_name": "OutputView",
       "layout": "IPY_MODEL_7ba358f14854483e8675b981b90535e1",
       "msg_id": "",
       "outputs": [
        {
         "name": "stdout",
         "output_type": "stream",
         "text": "Video available at https://www.bilibili.com/video/BV1UZ4y1u7sV\n"
        },
        {
         "data": {
          "text/html": "\n        <iframe\n            width=\"730\"\n            height=\"410\"\n            src=\"https://player.bilibili.com/player.html?bvid=BV1UZ4y1u7sV&page=1?fs=1\"\n            frameborder=\"0\"\n            allowfullscreen\n            \n        ></iframe>\n        ",
          "text/plain": "<__main__.BiliVideo at 0x7f70e2d81a50>"
         },
         "metadata": {},
         "output_type": "display_data"
        }
       ],
       "tabbable": null,
       "tooltip": null
      }
     },
     "ca3e766142004156bfd13b72bb893a44": {
      "model_module": "@jupyter-widgets/base",
      "model_module_version": "2.0.0",
      "model_name": "LayoutModel",
      "state": {
       "_model_module": "@jupyter-widgets/base",
       "_model_module_version": "2.0.0",
       "_model_name": "LayoutModel",
       "_view_count": null,
       "_view_module": "@jupyter-widgets/base",
       "_view_module_version": "2.0.0",
       "_view_name": "LayoutView",
       "align_content": null,
       "align_items": null,
       "align_self": null,
       "border_bottom": null,
       "border_left": null,
       "border_right": null,
       "border_top": null,
       "bottom": null,
       "display": null,
       "flex": null,
       "flex_flow": null,
       "grid_area": null,
       "grid_auto_columns": null,
       "grid_auto_flow": null,
       "grid_auto_rows": null,
       "grid_column": null,
       "grid_gap": null,
       "grid_row": null,
       "grid_template_areas": null,
       "grid_template_columns": null,
       "grid_template_rows": null,
       "height": null,
       "justify_content": null,
       "justify_items": null,
       "left": null,
       "margin": null,
       "max_height": null,
       "max_width": null,
       "min_height": null,
       "min_width": null,
       "object_fit": null,
       "object_position": null,
       "order": null,
       "overflow": null,
       "padding": null,
       "right": null,
       "top": null,
       "visibility": null,
       "width": null
      }
     },
     "cce32be2125c4a8982ceab8f47d61825": {
      "model_module": "@jupyter-widgets/output",
      "model_module_version": "1.0.0",
      "model_name": "OutputModel",
      "state": {
       "_dom_classes": [],
       "_model_module": "@jupyter-widgets/output",
       "_model_module_version": "1.0.0",
       "_model_name": "OutputModel",
       "_view_count": null,
       "_view_module": "@jupyter-widgets/output",
       "_view_module_version": "1.0.0",
       "_view_name": "OutputView",
       "layout": "IPY_MODEL_3bf256d2854a4fe196f2e6a133467fbe",
       "msg_id": "",
       "outputs": [
        {
         "name": "stdout",
         "output_type": "stream",
         "text": "Video available at https://www.bilibili.com/video/BV1of4y197jo\n"
        },
        {
         "data": {
          "text/html": "\n        <iframe\n            width=\"730\"\n            height=\"410\"\n            src=\"https://player.bilibili.com/player.html?bvid=BV1of4y197jo&page=1?fs=1\"\n            frameborder=\"0\"\n            allowfullscreen\n            \n        ></iframe>\n        ",
          "text/plain": "<__main__.BiliVideo at 0x7f70e2d26c10>"
         },
         "metadata": {},
         "output_type": "display_data"
        }
       ],
       "tabbable": null,
       "tooltip": null
      }
     },
     "cff68be171264345ac7b8f8fd5af7120": {
      "model_module": "@jupyter-widgets/controls",
      "model_module_version": "2.0.0",
      "model_name": "TabModel",
      "state": {
       "_dom_classes": [],
       "_model_module": "@jupyter-widgets/controls",
       "_model_module_version": "2.0.0",
       "_model_name": "TabModel",
       "_view_count": null,
       "_view_module": "@jupyter-widgets/controls",
       "_view_module_version": "2.0.0",
       "_view_name": "TabView",
       "box_style": "",
       "children": [
        "IPY_MODEL_c12612c6696c4f1bbeb22f6d7cdd47fc",
        "IPY_MODEL_118038e640374665acd4add47d91c289"
       ],
       "layout": "IPY_MODEL_ba8782c8f02f4255b311c619eec6fd39",
       "selected_index": 0,
       "tabbable": null,
       "titles": [
        "Youtube",
        "Bilibili"
       ],
       "tooltip": null
      }
     },
     "d3680823038642fab35b057626c6fc4e": {
      "model_module": "@jupyter-widgets/base",
      "model_module_version": "2.0.0",
      "model_name": "LayoutModel",
      "state": {
       "_model_module": "@jupyter-widgets/base",
       "_model_module_version": "2.0.0",
       "_model_name": "LayoutModel",
       "_view_count": null,
       "_view_module": "@jupyter-widgets/base",
       "_view_module_version": "2.0.0",
       "_view_name": "LayoutView",
       "align_content": null,
       "align_items": null,
       "align_self": null,
       "border_bottom": null,
       "border_left": null,
       "border_right": null,
       "border_top": null,
       "bottom": null,
       "display": null,
       "flex": null,
       "flex_flow": null,
       "grid_area": null,
       "grid_auto_columns": null,
       "grid_auto_flow": null,
       "grid_auto_rows": null,
       "grid_column": null,
       "grid_gap": null,
       "grid_row": null,
       "grid_template_areas": null,
       "grid_template_columns": null,
       "grid_template_rows": null,
       "height": null,
       "justify_content": null,
       "justify_items": null,
       "left": null,
       "margin": null,
       "max_height": null,
       "max_width": null,
       "min_height": null,
       "min_width": null,
       "object_fit": null,
       "object_position": null,
       "order": null,
       "overflow": null,
       "padding": null,
       "right": null,
       "top": null,
       "visibility": null,
       "width": null
      }
     },
     "d5f4e7c0a4554034bd49d8b4a89c043b": {
      "model_module": "@jupyter-widgets/base",
      "model_module_version": "2.0.0",
      "model_name": "LayoutModel",
      "state": {
       "_model_module": "@jupyter-widgets/base",
       "_model_module_version": "2.0.0",
       "_model_name": "LayoutModel",
       "_view_count": null,
       "_view_module": "@jupyter-widgets/base",
       "_view_module_version": "2.0.0",
       "_view_name": "LayoutView",
       "align_content": null,
       "align_items": null,
       "align_self": null,
       "border_bottom": null,
       "border_left": null,
       "border_right": null,
       "border_top": null,
       "bottom": null,
       "display": null,
       "flex": null,
       "flex_flow": null,
       "grid_area": null,
       "grid_auto_columns": null,
       "grid_auto_flow": null,
       "grid_auto_rows": null,
       "grid_column": null,
       "grid_gap": null,
       "grid_row": null,
       "grid_template_areas": null,
       "grid_template_columns": null,
       "grid_template_rows": null,
       "height": null,
       "justify_content": null,
       "justify_items": null,
       "left": null,
       "margin": null,
       "max_height": null,
       "max_width": null,
       "min_height": null,
       "min_width": null,
       "object_fit": null,
       "object_position": null,
       "order": null,
       "overflow": null,
       "padding": null,
       "right": null,
       "top": null,
       "visibility": null,
       "width": null
      }
     },
     "d6dd7ece848746f4a131e42d9f3f5978": {
      "model_module": "@jupyter-widgets/controls",
      "model_module_version": "2.0.0",
      "model_name": "TabModel",
      "state": {
       "_dom_classes": [],
       "_model_module": "@jupyter-widgets/controls",
       "_model_module_version": "2.0.0",
       "_model_name": "TabModel",
       "_view_count": null,
       "_view_module": "@jupyter-widgets/controls",
       "_view_module_version": "2.0.0",
       "_view_name": "TabView",
       "box_style": "",
       "children": [
        "IPY_MODEL_f10ba85115be4d98bcd55368a2bc7c11",
        "IPY_MODEL_1f4d2f3d40ed405e97e38aec0be2a672"
       ],
       "layout": "IPY_MODEL_0b53a2799c5c4186872339e7402349c4",
       "selected_index": 0,
       "tabbable": null,
       "titles": [
        "Youtube",
        "Bilibili"
       ],
       "tooltip": null
      }
     },
     "d998510262c847b9842568445405beb3": {
      "model_module": "@jupyter-widgets/base",
      "model_module_version": "2.0.0",
      "model_name": "LayoutModel",
      "state": {
       "_model_module": "@jupyter-widgets/base",
       "_model_module_version": "2.0.0",
       "_model_name": "LayoutModel",
       "_view_count": null,
       "_view_module": "@jupyter-widgets/base",
       "_view_module_version": "2.0.0",
       "_view_name": "LayoutView",
       "align_content": null,
       "align_items": null,
       "align_self": null,
       "border_bottom": null,
       "border_left": null,
       "border_right": null,
       "border_top": null,
       "bottom": null,
       "display": null,
       "flex": null,
       "flex_flow": null,
       "grid_area": null,
       "grid_auto_columns": null,
       "grid_auto_flow": null,
       "grid_auto_rows": null,
       "grid_column": null,
       "grid_gap": null,
       "grid_row": null,
       "grid_template_areas": null,
       "grid_template_columns": null,
       "grid_template_rows": null,
       "height": null,
       "justify_content": null,
       "justify_items": null,
       "left": null,
       "margin": null,
       "max_height": null,
       "max_width": null,
       "min_height": null,
       "min_width": null,
       "object_fit": null,
       "object_position": null,
       "order": null,
       "overflow": null,
       "padding": null,
       "right": null,
       "top": null,
       "visibility": null,
       "width": null
      }
     },
     "d9e5b95eed1149439a90eec6f30cb6c0": {
      "model_module": "@jupyter-widgets/base",
      "model_module_version": "2.0.0",
      "model_name": "LayoutModel",
      "state": {
       "_model_module": "@jupyter-widgets/base",
       "_model_module_version": "2.0.0",
       "_model_name": "LayoutModel",
       "_view_count": null,
       "_view_module": "@jupyter-widgets/base",
       "_view_module_version": "2.0.0",
       "_view_name": "LayoutView",
       "align_content": null,
       "align_items": null,
       "align_self": null,
       "border_bottom": null,
       "border_left": null,
       "border_right": null,
       "border_top": null,
       "bottom": null,
       "display": null,
       "flex": null,
       "flex_flow": null,
       "grid_area": null,
       "grid_auto_columns": null,
       "grid_auto_flow": null,
       "grid_auto_rows": null,
       "grid_column": null,
       "grid_gap": null,
       "grid_row": null,
       "grid_template_areas": null,
       "grid_template_columns": null,
       "grid_template_rows": null,
       "height": null,
       "justify_content": null,
       "justify_items": null,
       "left": null,
       "margin": null,
       "max_height": null,
       "max_width": null,
       "min_height": null,
       "min_width": null,
       "object_fit": null,
       "object_position": null,
       "order": null,
       "overflow": null,
       "padding": null,
       "right": null,
       "top": null,
       "visibility": null,
       "width": null
      }
     },
     "dc94a04ff8874b73a7268088b3bd1af4": {
      "model_module": "@jupyter-widgets/base",
      "model_module_version": "2.0.0",
      "model_name": "LayoutModel",
      "state": {
       "_model_module": "@jupyter-widgets/base",
       "_model_module_version": "2.0.0",
       "_model_name": "LayoutModel",
       "_view_count": null,
       "_view_module": "@jupyter-widgets/base",
       "_view_module_version": "2.0.0",
       "_view_name": "LayoutView",
       "align_content": null,
       "align_items": null,
       "align_self": null,
       "border_bottom": null,
       "border_left": null,
       "border_right": null,
       "border_top": null,
       "bottom": null,
       "display": null,
       "flex": null,
       "flex_flow": null,
       "grid_area": null,
       "grid_auto_columns": null,
       "grid_auto_flow": null,
       "grid_auto_rows": null,
       "grid_column": null,
       "grid_gap": null,
       "grid_row": null,
       "grid_template_areas": null,
       "grid_template_columns": null,
       "grid_template_rows": null,
       "height": null,
       "justify_content": null,
       "justify_items": null,
       "left": null,
       "margin": null,
       "max_height": null,
       "max_width": null,
       "min_height": null,
       "min_width": null,
       "object_fit": null,
       "object_position": null,
       "order": null,
       "overflow": null,
       "padding": null,
       "right": null,
       "top": null,
       "visibility": null,
       "width": null
      }
     },
     "e538dac5b4674e5186e0932df74381fb": {
      "model_module": "@jupyter-widgets/controls",
      "model_module_version": "2.0.0",
      "model_name": "TabModel",
      "state": {
       "_dom_classes": [],
       "_model_module": "@jupyter-widgets/controls",
       "_model_module_version": "2.0.0",
       "_model_name": "TabModel",
       "_view_count": null,
       "_view_module": "@jupyter-widgets/controls",
       "_view_module_version": "2.0.0",
       "_view_name": "TabView",
       "box_style": "",
       "children": [
        "IPY_MODEL_f284688efe9c4b7c879a99e2be26120e",
        "IPY_MODEL_73ac45eb85ed45a18e98fd41e32f95e5"
       ],
       "layout": "IPY_MODEL_bc403e5b223d4228b862483e07e5abde",
       "selected_index": 0,
       "tabbable": null,
       "titles": [
        "Youtube",
        "Bilibili"
       ],
       "tooltip": null
      }
     },
     "e770f1b701f44688bfdcdeb812435954": {
      "model_module": "@jupyter-widgets/base",
      "model_module_version": "2.0.0",
      "model_name": "LayoutModel",
      "state": {
       "_model_module": "@jupyter-widgets/base",
       "_model_module_version": "2.0.0",
       "_model_name": "LayoutModel",
       "_view_count": null,
       "_view_module": "@jupyter-widgets/base",
       "_view_module_version": "2.0.0",
       "_view_name": "LayoutView",
       "align_content": null,
       "align_items": null,
       "align_self": null,
       "border_bottom": null,
       "border_left": null,
       "border_right": null,
       "border_top": null,
       "bottom": null,
       "display": null,
       "flex": null,
       "flex_flow": null,
       "grid_area": null,
       "grid_auto_columns": null,
       "grid_auto_flow": null,
       "grid_auto_rows": null,
       "grid_column": null,
       "grid_gap": null,
       "grid_row": null,
       "grid_template_areas": null,
       "grid_template_columns": null,
       "grid_template_rows": null,
       "height": null,
       "justify_content": null,
       "justify_items": null,
       "left": null,
       "margin": null,
       "max_height": null,
       "max_width": null,
       "min_height": null,
       "min_width": null,
       "object_fit": null,
       "object_position": null,
       "order": null,
       "overflow": null,
       "padding": null,
       "right": null,
       "top": null,
       "visibility": null,
       "width": null
      }
     },
     "e7d52ce9001f4a289e97e742732daf04": {
      "model_module": "@jupyter-widgets/output",
      "model_module_version": "1.0.0",
      "model_name": "OutputModel",
      "state": {
       "_dom_classes": [],
       "_model_module": "@jupyter-widgets/output",
       "_model_module_version": "1.0.0",
       "_model_name": "OutputModel",
       "_view_count": null,
       "_view_module": "@jupyter-widgets/output",
       "_view_module_version": "1.0.0",
       "_view_name": "OutputView",
       "layout": "IPY_MODEL_23b2718c7338440f82d10b8fe19be274",
       "msg_id": "",
       "outputs": [
        {
         "name": "stdout",
         "output_type": "stream",
         "text": "Video available at https://youtube.com/watch?v=A2foheo44h4\n"
        },
        {
         "data": {
          "image/jpeg": "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\n",
          "text/html": "\n        <iframe\n            width=\"730\"\n            height=\"410\"\n            src=\"https://www.youtube.com/embed/A2foheo44h4?fs=1&rel=0\"\n            frameborder=\"0\"\n            allowfullscreen\n            \n        ></iframe>\n        ",
          "text/plain": "<IPython.lib.display.YouTubeVideo at 0x7f70e2d81950>"
         },
         "metadata": {},
         "output_type": "display_data"
        }
       ],
       "tabbable": null,
       "tooltip": null
      }
     },
     "f10ba85115be4d98bcd55368a2bc7c11": {
      "model_module": "@jupyter-widgets/output",
      "model_module_version": "1.0.0",
      "model_name": "OutputModel",
      "state": {
       "_dom_classes": [],
       "_model_module": "@jupyter-widgets/output",
       "_model_module_version": "1.0.0",
       "_model_name": "OutputModel",
       "_view_count": null,
       "_view_module": "@jupyter-widgets/output",
       "_view_module_version": "1.0.0",
       "_view_name": "OutputView",
       "layout": "IPY_MODEL_dc94a04ff8874b73a7268088b3bd1af4",
       "msg_id": "",
       "outputs": [
        {
         "name": "stdout",
         "output_type": "stream",
         "text": "Video available at https://youtube.com/watch?v=kyCbeR28AYQ\n"
        },
        {
         "data": {
          "image/jpeg": "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\n",
          "text/html": "\n        <iframe\n            width=\"730\"\n            height=\"410\"\n            src=\"https://www.youtube.com/embed/kyCbeR28AYQ?fs=1&rel=0\"\n            frameborder=\"0\"\n            allowfullscreen\n            \n        ></iframe>\n        ",
          "text/plain": "<IPython.lib.display.YouTubeVideo at 0x7f70e2d13b90>"
         },
         "metadata": {},
         "output_type": "display_data"
        }
       ],
       "tabbable": null,
       "tooltip": null
      }
     },
     "f284688efe9c4b7c879a99e2be26120e": {
      "model_module": "@jupyter-widgets/output",
      "model_module_version": "1.0.0",
      "model_name": "OutputModel",
      "state": {
       "_dom_classes": [],
       "_model_module": "@jupyter-widgets/output",
       "_model_module_version": "1.0.0",
       "_model_name": "OutputModel",
       "_view_count": null,
       "_view_module": "@jupyter-widgets/output",
       "_view_module_version": "1.0.0",
       "_view_name": "OutputView",
       "layout": "IPY_MODEL_165ff76e98bd430bb9c9989211d2e8ac",
       "msg_id": "",
       "outputs": [
        {
         "name": "stdout",
         "output_type": "stream",
         "text": "Video available at https://youtube.com/watch?v=OIzSQvMbe2k\n"
        },
        {
         "data": {
          "image/jpeg": "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\n",
          "text/html": "\n        <iframe\n            width=\"730\"\n            height=\"410\"\n            src=\"https://www.youtube.com/embed/OIzSQvMbe2k?fs=1&rel=0\"\n            frameborder=\"0\"\n            allowfullscreen\n            \n        ></iframe>\n        ",
          "text/plain": "<IPython.lib.display.YouTubeVideo at 0x7f70e2e9d310>"
         },
         "metadata": {},
         "output_type": "display_data"
        }
       ],
       "tabbable": null,
       "tooltip": null
      }
     },
     "f61f4215c54b4d1e94bfd21455dfa8ff": {
      "model_module": "@jupyter-widgets/controls",
      "model_module_version": "2.0.0",
      "model_name": "TabModel",
      "state": {
       "_dom_classes": [],
       "_model_module": "@jupyter-widgets/controls",
       "_model_module_version": "2.0.0",
       "_model_name": "TabModel",
       "_view_count": null,
       "_view_module": "@jupyter-widgets/controls",
       "_view_module_version": "2.0.0",
       "_view_name": "TabView",
       "box_style": "",
       "children": [
        "IPY_MODEL_55783589bba54cada28b1d07d0c5c2a0",
        "IPY_MODEL_5bf715ac7dd0423e82dbf9075e3d5c3f"
       ],
       "layout": "IPY_MODEL_a3a972752bfe47d796c1ed53668bb8ba",
       "selected_index": 0,
       "tabbable": null,
       "titles": [
        "Youtube",
        "Bilibili"
       ],
       "tooltip": null
      }
     },
     "f9ac7dab19ed4001a845be602b52d1e9": {
      "model_module": "@jupyter-widgets/base",
      "model_module_version": "2.0.0",
      "model_name": "LayoutModel",
      "state": {
       "_model_module": "@jupyter-widgets/base",
       "_model_module_version": "2.0.0",
       "_model_name": "LayoutModel",
       "_view_count": null,
       "_view_module": "@jupyter-widgets/base",
       "_view_module_version": "2.0.0",
       "_view_name": "LayoutView",
       "align_content": null,
       "align_items": null,
       "align_self": null,
       "border_bottom": null,
       "border_left": null,
       "border_right": null,
       "border_top": null,
       "bottom": null,
       "display": null,
       "flex": null,
       "flex_flow": null,
       "grid_area": null,
       "grid_auto_columns": null,
       "grid_auto_flow": null,
       "grid_auto_rows": null,
       "grid_column": null,
       "grid_gap": null,
       "grid_row": null,
       "grid_template_areas": null,
       "grid_template_columns": null,
       "grid_template_rows": null,
       "height": null,
       "justify_content": null,
       "justify_items": null,
       "left": null,
       "margin": null,
       "max_height": null,
       "max_width": null,
       "min_height": null,
       "min_width": null,
       "object_fit": null,
       "object_position": null,
       "order": null,
       "overflow": null,
       "padding": null,
       "right": null,
       "top": null,
       "visibility": null,
       "width": null
      }
     },
     "fa1a594d21464b97b1c103e08e226b2a": {
      "model_module": "@jupyter-widgets/output",
      "model_module_version": "1.0.0",
      "model_name": "OutputModel",
      "state": {
       "_dom_classes": [],
       "_model_module": "@jupyter-widgets/output",
       "_model_module_version": "1.0.0",
       "_model_name": "OutputModel",
       "_view_count": null,
       "_view_module": "@jupyter-widgets/output",
       "_view_module_version": "1.0.0",
       "_view_name": "OutputView",
       "layout": "IPY_MODEL_849aa547918a41b2b2cc34dde4c620ed",
       "msg_id": "",
       "outputs": [
        {
         "name": "stdout",
         "output_type": "stream",
         "text": "Video available at https://youtube.com/watch?v=JkxgotYwu4Q\n"
        },
        {
         "data": {
          "image/jpeg": "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\n",
          "text/html": "\n        <iframe\n            width=\"730\"\n            height=\"410\"\n            src=\"https://www.youtube.com/embed/JkxgotYwu4Q?fs=1&rel=0\"\n            frameborder=\"0\"\n            allowfullscreen\n            \n        ></iframe>\n        ",
          "text/plain": "<IPython.lib.display.YouTubeVideo at 0x7f70e83b2490>"
         },
         "metadata": {},
         "output_type": "display_data"
        }
       ],
       "tabbable": null,
       "tooltip": null
      }
     },
     "fc87d80e55344c44bbae35876e692155": {
      "model_module": "@jupyter-widgets/controls",
      "model_module_version": "2.0.0",
      "model_name": "TabModel",
      "state": {
       "_dom_classes": [],
       "_model_module": "@jupyter-widgets/controls",
       "_model_module_version": "2.0.0",
       "_model_name": "TabModel",
       "_view_count": null,
       "_view_module": "@jupyter-widgets/controls",
       "_view_module_version": "2.0.0",
       "_view_name": "TabView",
       "box_style": "",
       "children": [
        "IPY_MODEL_19172aa241f24189b3da38c25a07f087",
        "IPY_MODEL_841dacef921c4e1fb086afdc0e925d16"
       ],
       "layout": "IPY_MODEL_ca3e766142004156bfd13b72bb893a44",
       "selected_index": 0,
       "tabbable": null,
       "titles": [
        "Youtube",
        "Bilibili"
       ],
       "tooltip": null
      }
     },
     "fe09e191e51a452798689b7c3b7cf004": {
      "model_module": "@jupyter-widgets/base",
      "model_module_version": "2.0.0",
      "model_name": "LayoutModel",
      "state": {
       "_model_module": "@jupyter-widgets/base",
       "_model_module_version": "2.0.0",
       "_model_name": "LayoutModel",
       "_view_count": null,
       "_view_module": "@jupyter-widgets/base",
       "_view_module_version": "2.0.0",
       "_view_name": "LayoutView",
       "align_content": null,
       "align_items": null,
       "align_self": null,
       "border_bottom": null,
       "border_left": null,
       "border_right": null,
       "border_top": null,
       "bottom": null,
       "display": null,
       "flex": null,
       "flex_flow": null,
       "grid_area": null,
       "grid_auto_columns": null,
       "grid_auto_flow": null,
       "grid_auto_rows": null,
       "grid_column": null,
       "grid_gap": null,
       "grid_row": null,
       "grid_template_areas": null,
       "grid_template_columns": null,
       "grid_template_rows": null,
       "height": null,
       "justify_content": null,
       "justify_items": null,
       "left": null,
       "margin": null,
       "max_height": null,
       "max_width": null,
       "min_height": null,
       "min_width": null,
       "object_fit": null,
       "object_position": null,
       "order": null,
       "overflow": null,
       "padding": null,
       "right": null,
       "top": null,
       "visibility": null,
       "width": null
      }
     }
    },
    "version_major": 2,
    "version_minor": 0
   }
  }
 },
 "nbformat": 4,
 "nbformat_minor": 0
}
