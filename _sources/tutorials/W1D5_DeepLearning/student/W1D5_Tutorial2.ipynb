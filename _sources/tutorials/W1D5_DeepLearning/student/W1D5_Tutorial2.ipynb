{
 "cells": [
  {
   "cell_type": "markdown",
   "metadata": {
    "colab_type": "text",
    "execution": {},
    "id": "view-in-github"
   },
   "source": [
    "<a href=\"https://colab.research.google.com/github/NeuromatchAcademy/course-content/blob/main/tutorials/W1D5_DeepLearning/student/W1D5_Tutorial2.ipynb\" target=\"_blank\"><img alt=\"Open In Colab\" src=\"https://colab.research.google.com/assets/colab-badge.svg\"/></a>   <a href=\"https://kaggle.com/kernels/welcome?src=https://raw.githubusercontent.com/NeuromatchAcademy/course-content/main/tutorials/W1D5_DeepLearning/student/W1D5_Tutorial2.ipynb\" target=\"_blank\"><img alt=\"Open in Kaggle\" src=\"https://kaggle.com/static/images/open-in-kaggle.svg\"/></a>"
   ]
  },
  {
   "cell_type": "markdown",
   "metadata": {
    "execution": {}
   },
   "source": [
    "# Tutorial 2: Convolutional Neural Networks\n",
    "\n",
    "**Week 1, Day 5: Deep Learning**\n",
    "\n",
    "**By Neuromatch Academy**\n",
    "\n",
    "**Content creators**: Jorge A. Menendez, Carsen Stringer\n",
    "\n",
    "**Content reviewers**: Roozbeh Farhoodi,  Madineh Sarvestani, Kshitij Dwivedi, Spiros Chavlis, Ella Batty, Michael Waskom"
   ]
  },
  {
   "cell_type": "markdown",
   "metadata": {
    "execution": {}
   },
   "source": [
    "<p align='center'><img src='https://github.com/NeuromatchAcademy/widgets/blob/master/sponsors.png?raw=True'/></p>"
   ]
  },
  {
   "cell_type": "markdown",
   "metadata": {
    "execution": {}
   },
   "source": [
    "---\n",
    "# Tutorial Objectives\n",
    "\n",
    "*Estimated timing of tutorial: 40 minutes*\n",
    "\n",
    "In this short tutorial, we'll go through an introduction to 2D convolutions and apply a convolutional network to an image to prepare for creating normative models in Tutorial 3.\n",
    "\n",
    "In this tutorial, we will \n",
    "* Understand the basics of 2D convolution\n",
    "* Build a convolutional layer using PyTorch\n",
    "* Visualize and analyze its outputs\n"
   ]
  },
  {
   "cell_type": "markdown",
   "metadata": {},
   "source": [
    "##  Tutorial slides\n"
   ]
  },
  {
   "cell_type": "markdown",
   "metadata": {},
   "source": [
    " These are the slides for all videos in this tutorial.\n"
   ]
  },
  {
   "cell_type": "code",
   "execution_count": 1,
   "metadata": {
    "cellView": "form",
    "execution": {
     "iopub.execute_input": "2023-04-17T16:42:30.282947Z",
     "iopub.status.busy": "2023-04-17T16:42:30.282708Z",
     "iopub.status.idle": "2023-04-17T16:42:30.292833Z",
     "shell.execute_reply": "2023-04-17T16:42:30.292176Z"
    },
    "tags": [
     "remove-input"
    ]
   },
   "outputs": [
    {
     "data": {
      "text/html": [
       "\n",
       "        <iframe\n",
       "            width=\"854\"\n",
       "            height=\"480\"\n",
       "            src=\"https://mfr.ca-1.osf.io/render?url=https://osf.io/s59jy/?direct%26mode=render%26action=download%26mode=render\"\n",
       "            frameborder=\"0\"\n",
       "            allowfullscreen\n",
       "            \n",
       "        ></iframe>\n",
       "        "
      ],
      "text/plain": [
       "<IPython.lib.display.IFrame at 0x7f29aee35010>"
      ]
     },
     "execution_count": 1,
     "metadata": {},
     "output_type": "execute_result"
    }
   ],
   "source": [
    "# @title Tutorial slides\n",
    "\n",
    "# @markdown These are the slides for all videos in this tutorial.\n",
    "from IPython.display import IFrame\n",
    "IFrame(src=f\"https://mfr.ca-1.osf.io/render?url=https://osf.io/s59jy/?direct%26mode=render%26action=download%26mode=render\", width=854, height=480)"
   ]
  },
  {
   "cell_type": "markdown",
   "metadata": {
    "execution": {}
   },
   "source": [
    "---\n",
    "# Setup\n"
   ]
  },
  {
   "cell_type": "code",
   "execution_count": 2,
   "metadata": {
    "cellView": "both",
    "execution": {
     "iopub.execute_input": "2023-04-17T16:42:30.295445Z",
     "iopub.status.busy": "2023-04-17T16:42:30.295063Z",
     "iopub.status.idle": "2023-04-17T16:42:32.227548Z",
     "shell.execute_reply": "2023-04-17T16:42:32.226846Z"
    }
   },
   "outputs": [],
   "source": [
    "# Imports\n",
    "import os\n",
    "import numpy as np\n",
    "import torch\n",
    "from torch import nn\n",
    "from torch import optim\n",
    "from matplotlib import pyplot as plt\n",
    "import matplotlib as mpl"
   ]
  },
  {
   "cell_type": "markdown",
   "metadata": {},
   "source": [
    "##  Figure settings\n"
   ]
  },
  {
   "cell_type": "code",
   "execution_count": 3,
   "metadata": {
    "cellView": "form",
    "execution": {
     "iopub.execute_input": "2023-04-17T16:42:32.230696Z",
     "iopub.status.busy": "2023-04-17T16:42:32.230175Z",
     "iopub.status.idle": "2023-04-17T16:42:32.321477Z",
     "shell.execute_reply": "2023-04-17T16:42:32.320568Z"
    },
    "tags": [
     "hide-input"
    ]
   },
   "outputs": [],
   "source": [
    "# @title Figure settings\n",
    "%config InlineBackend.figure_format = 'retina'\n",
    "plt.style.use(\"https://raw.githubusercontent.com/NeuromatchAcademy/course-content/main/nma.mplstyle\")"
   ]
  },
  {
   "cell_type": "markdown",
   "metadata": {},
   "source": [
    "##  Data retrieval and loading\n"
   ]
  },
  {
   "cell_type": "code",
   "execution_count": 4,
   "metadata": {
    "cellView": "form",
    "execution": {
     "iopub.execute_input": "2023-04-17T16:42:32.324755Z",
     "iopub.status.busy": "2023-04-17T16:42:32.324298Z",
     "iopub.status.idle": "2023-04-17T16:42:33.480863Z",
     "shell.execute_reply": "2023-04-17T16:42:33.480032Z"
    },
    "tags": [
     "hide-input"
    ]
   },
   "outputs": [],
   "source": [
    "# @title Data retrieval and loading\n",
    "\n",
    "import hashlib\n",
    "import requests\n",
    "\n",
    "fname = \"W3D4_stringer_oribinned6_split.npz\"\n",
    "url = \"https://osf.io/p3aeb/download\"\n",
    "expected_md5 = \"b3f7245c6221234a676b71a1f43c3bb5\"\n",
    "\n",
    "if not os.path.isfile(fname):\n",
    "  try:\n",
    "    r = requests.get(url)\n",
    "  except requests.ConnectionError:\n",
    "    print(\"!!! Failed to download data !!!\")\n",
    "  else:\n",
    "    if r.status_code != requests.codes.ok:\n",
    "      print(\"!!! Failed to download data !!!\")\n",
    "    elif hashlib.md5(r.content).hexdigest() != expected_md5:\n",
    "      print(\"!!! Data download appears corrupted !!!\")\n",
    "    else:\n",
    "      with open(fname, \"wb\") as fid:\n",
    "        fid.write(r.content)"
   ]
  },
  {
   "cell_type": "markdown",
   "metadata": {},
   "source": [
    "##  Plotting Functions\n"
   ]
  },
  {
   "cell_type": "code",
   "execution_count": 5,
   "metadata": {
    "cellView": "form",
    "execution": {
     "iopub.execute_input": "2023-04-17T16:42:33.485880Z",
     "iopub.status.busy": "2023-04-17T16:42:33.485126Z",
     "iopub.status.idle": "2023-04-17T16:42:33.495440Z",
     "shell.execute_reply": "2023-04-17T16:42:33.494898Z"
    },
    "tags": [
     "hide-input"
    ]
   },
   "outputs": [],
   "source": [
    "# @title Plotting Functions\n",
    "\n",
    "def show_stimulus(img, ax=None):\n",
    "  \"\"\"Visualize a stimulus\"\"\"\n",
    "  if ax is None:\n",
    "    ax = plt.gca()\n",
    "  ax.imshow(img+0.5, cmap=mpl.cm.binary)\n",
    "  ax.set_xticks([])\n",
    "  ax.set_yticks([])\n",
    "  ax.spines['left'].set_visible(False)\n",
    "  ax.spines['bottom'].set_visible(False)\n",
    "\n",
    "def plot_weights(weights, channels=[0], colorbar=True):\n",
    "  \"\"\" plot convolutional channel weights\n",
    "  Args:\n",
    "        weights: weights of convolutional filters (conv_channels x K x K)\n",
    "        channels: which conv channels to plot\n",
    "  \"\"\"\n",
    "  wmax = torch.abs(weights).max()\n",
    "  fig, axs = plt.subplots(1,len(channels), figsize=(12,2.5))\n",
    "  for i, channel in enumerate(channels):\n",
    "    im = axs[i].imshow(weights[channel,0], vmin=-wmax, vmax=wmax, cmap='bwr')\n",
    "    axs[i].set_title('channel %d'%channel)\n",
    "\n",
    "  if colorbar:\n",
    "    ax = fig.add_axes([1, 0.1, 0.05, 0.8])\n",
    "    plt.colorbar(im, ax=ax)\n",
    "    ax.axis('off')\n",
    "\n",
    "def plot_example_activations(stimuli, act, channels=[0]):\n",
    "  \"\"\" plot activations act and corresponding stimulus\n",
    "  Args:\n",
    "        stimuli: stimulus input to convolutional layer (n x h x w) or (h x w)\n",
    "        act: activations of convolutional layer (n_bins x conv_channels x n_bins)\n",
    "        channels: which conv channels to plot\n",
    "  \"\"\"\n",
    "  if stimuli.ndim>2:\n",
    "    n_stimuli = stimuli.shape[0]\n",
    "  else:\n",
    "    stimuli = stimuli.unsqueeze(0)\n",
    "    n_stimuli = 1\n",
    "\n",
    "  fig, axs = plt.subplots(n_stimuli,1+len(channels),figsize=(12,12))\n",
    "\n",
    "  # plot stimulus\n",
    "  for i in range(n_stimuli):\n",
    "    show_stimulus(stimuli[i].squeeze(), ax=axs[i, 0])\n",
    "    axs[i, 0].set_title('stimulus')\n",
    "\n",
    "    # plot example activations\n",
    "    for k, (channel, ax) in enumerate(zip(channels, axs[i][1:])):\n",
    "      img=ax.imshow(act[i,channel], vmin=-3, vmax=3, cmap='bwr')\n",
    "      ax.set_xlabel('x-pos')\n",
    "      ax.set_ylabel('y-pos')\n",
    "      ax.set_title('channel %d'%channel)\n",
    "  ax = fig.add_axes([1.05,0.8,0.01,0.1])\n",
    "  plt.colorbar(img, cax=ax)\n",
    "  ax.set_title('activation\\n strength')"
   ]
  },
  {
   "cell_type": "markdown",
   "metadata": {},
   "source": [
    "##  Helper Functions\n"
   ]
  },
  {
   "cell_type": "code",
   "execution_count": 6,
   "metadata": {
    "cellView": "form",
    "execution": {
     "iopub.execute_input": "2023-04-17T16:42:33.498340Z",
     "iopub.status.busy": "2023-04-17T16:42:33.498009Z",
     "iopub.status.idle": "2023-04-17T16:42:33.513482Z",
     "shell.execute_reply": "2023-04-17T16:42:33.512878Z"
    },
    "tags": [
     "hide-input"
    ]
   },
   "outputs": [],
   "source": [
    "# @title Helper Functions\n",
    "\n",
    "def load_data_split(data_name=fname):\n",
    "  \"\"\"Load mouse V1 data from Stringer et al. (2019)\n",
    "\n",
    "  Data from study reported in this preprint:\n",
    "  https://www.biorxiv.org/content/10.1101/679324v2.abstract\n",
    "\n",
    "  These data comprise time-averaged responses of ~20,000 neurons\n",
    "  to ~4,000 stimulus gratings of different orientations, recorded\n",
    "  through Calcium imaginge. The responses have been normalized by\n",
    "  spontaneous levels of activity and then z-scored over stimuli, so\n",
    "  expect negative numbers. The repsonses were split into train and\n",
    "  test and then each set were averaged in bins of 6 degrees.\n",
    "\n",
    "  This function returns the relevant data (neural responses and\n",
    "  stimulus orientations) in a torch.Tensor of data type torch.float32\n",
    "  in order to match the default data type for nn.Parameters in\n",
    "  Google Colab.\n",
    "\n",
    "  It will hold out some of the trials when averaging to allow us to have test\n",
    "  tuning curves.\n",
    "\n",
    "  Args:\n",
    "    data_name (str): filename to load\n",
    "\n",
    "  Returns:\n",
    "    resp_train (torch.Tensor): n_stimuli x n_neurons matrix of neural responses,\n",
    "        each row contains the responses of each neuron to a given stimulus.\n",
    "        As mentioned above, neural \"response\" is actually an average over\n",
    "        responses to stimuli with similar angles falling within specified bins.\n",
    "    resp_test (torch.Tensor): n_stimuli x n_neurons matrix of neural responses,\n",
    "        each row contains the responses of each neuron to a given stimulus.\n",
    "        As mentioned above, neural \"response\" is actually an average over\n",
    "        responses to stimuli with similar angles falling within specified bins\n",
    "    stimuli: (torch.Tensor): n_stimuli x 1 column vector with orientation\n",
    "        of each stimulus, in degrees. This is actually the mean orientation\n",
    "        of all stimuli in each bin.\n",
    "\n",
    "  \"\"\"\n",
    "  with np.load(data_name) as dobj:\n",
    "    data = dict(**dobj)\n",
    "  resp_train = data['resp_train']\n",
    "  resp_test = data['resp_test']\n",
    "  stimuli = data['stimuli']\n",
    "\n",
    "  # Return as torch.Tensor\n",
    "  resp_train_tensor = torch.tensor(resp_train, dtype=torch.float32)\n",
    "  resp_test_tensor = torch.tensor(resp_test, dtype=torch.float32)\n",
    "  stimuli_tensor = torch.tensor(stimuli, dtype=torch.float32)\n",
    "\n",
    "  return resp_train_tensor, resp_test_tensor, stimuli_tensor\n",
    "\n",
    "\n",
    "def filters(out_channels=6, K=7):\n",
    "  \"\"\" make example filters, some center-surround and gabors\n",
    "  Returns:\n",
    "      filters: out_channels x K x K\n",
    "  \"\"\"\n",
    "  grid = np.linspace(-K/2, K/2, K).astype(np.float32)\n",
    "  xx,yy = np.meshgrid(grid, grid, indexing='ij')\n",
    "\n",
    "  # create center-surround filters\n",
    "  sigma = 1.1\n",
    "  gaussian = np.exp(-(xx**2 + yy**2)**0.5/(2*sigma**2))\n",
    "  wide_gaussian = np.exp(-(xx**2 + yy**2)**0.5/(2*(sigma*2)**2))\n",
    "  center_surround = gaussian - 0.5 * wide_gaussian\n",
    "\n",
    "  # create gabor filters\n",
    "  thetas = np.linspace(0, 180, out_channels-2+1)[:-1] * np.pi/180\n",
    "  gabors = np.zeros((len(thetas), K, K), np.float32)\n",
    "  lam = 10\n",
    "  phi = np.pi/2\n",
    "  gaussian = np.exp(-(xx**2 + yy**2)**0.5/(2*(sigma*0.4)**2))\n",
    "  for i,theta in enumerate(thetas):\n",
    "    x = xx*np.cos(theta) + yy*np.sin(theta)\n",
    "    gabors[i] = gaussian * np.cos(2*np.pi*x/lam + phi)\n",
    "\n",
    "  filters = np.concatenate((center_surround[np.newaxis,:,:],\n",
    "                            -1*center_surround[np.newaxis,:,:],\n",
    "                            gabors),\n",
    "                           axis=0)\n",
    "  filters /= np.abs(filters).max(axis=(1,2))[:,np.newaxis,np.newaxis]\n",
    "  filters -= filters.mean(axis=(1,2))[:,np.newaxis,np.newaxis]\n",
    "  # convert to torch\n",
    "  filters = torch.from_numpy(filters)\n",
    "  # add channel axis\n",
    "  filters = filters.unsqueeze(1)\n",
    "\n",
    "  return filters\n",
    "\n",
    "\n",
    "def grating(angle, sf=1 / 28, res=0.1, patch=False):\n",
    "  \"\"\"Generate oriented grating stimulus\n",
    "\n",
    "  Args:\n",
    "    angle (float): orientation of grating (angle from vertical), in degrees\n",
    "    sf (float): controls spatial frequency of the grating\n",
    "    res (float): resolution of image. Smaller values will make the image\n",
    "      smaller in terms of pixels. res=1.0 corresponds to 640 x 480 pixels.\n",
    "    patch (boolean): set to True to make the grating a localized\n",
    "      patch on the left side of the image. If False, then the\n",
    "      grating occupies the full image.\n",
    "\n",
    "  Returns:\n",
    "    torch.Tensor: (res * 480) x (res * 640) pixel oriented grating image\n",
    "\n",
    "  \"\"\"\n",
    "\n",
    "  angle = np.deg2rad(angle)  # transform to radians\n",
    "\n",
    "  wpix, hpix = 640, 480  # width and height of image in pixels for res=1.0\n",
    "\n",
    "  xx, yy = np.meshgrid(sf * np.arange(0, wpix * res) / res, sf * np.arange(0, hpix * res) / res)\n",
    "\n",
    "  if patch:\n",
    "    gratings = np.cos(xx * np.cos(angle + .1) + yy * np.sin(angle + .1))  # phase shift to make it better fit within patch\n",
    "    gratings[gratings < 0] = 0\n",
    "    gratings[gratings > 0] = 1\n",
    "    xcent = gratings.shape[1] * .75\n",
    "    ycent = gratings.shape[0] / 2\n",
    "    xxc, yyc = np.meshgrid(np.arange(0, gratings.shape[1]), np.arange(0, gratings.shape[0]))\n",
    "    icirc = ((xxc - xcent) ** 2 + (yyc - ycent) ** 2) ** 0.5 < wpix / 3 / 2 * res\n",
    "    gratings[~icirc] = 0.5\n",
    "\n",
    "  else:\n",
    "    gratings = np.cos(xx * np.cos(angle) + yy * np.sin(angle))\n",
    "    gratings[gratings < 0] = 0\n",
    "    gratings[gratings > 0] = 1\n",
    "\n",
    "  gratings -= 0.5\n",
    "\n",
    "  # Return torch tensor\n",
    "  return torch.tensor(gratings, dtype=torch.float32)"
   ]
  },
  {
   "cell_type": "markdown",
   "metadata": {
    "execution": {}
   },
   "source": [
    "---\n",
    "# Section 1: Introduction to 2D convolutions\n",
    "\n"
   ]
  },
  {
   "cell_type": "markdown",
   "metadata": {
    "execution": {}
   },
   "source": [
    "## Section 1.1: What is a 2D convolution?"
   ]
  },
  {
   "cell_type": "markdown",
   "metadata": {
    "execution": {}
   },
   "source": [
    "A 2D convolution is an integral of the product of a filter $f$ and an input image $I$ computed at various positions as the filter is slid across the input. The output of the convolution operation at position $(x,y)$ can be written as follows, where the filter $f$ is size $(K, K)$:\n",
    "\n",
    "\\begin{equation}\n",
    "C(x,y) = \\sum_{k_x=-K/2}^{K/2} \\sum_{k_y=-K/2}^{K/2} f(k_x,k_y) I(x+k_x,y+k_y)\n",
    "\\end{equation}\n",
    "\n",
    "This **convolutional filter** is often called a **kernel**.\n",
    "\n",
    "Here is an illustration of a 2D convolution from this [article](https://towardsdatascience.com/light-on-math-machine-learning-intuitive-guide-to-convolution-neural-networks-e3f054dd5daa):"
   ]
  },
  {
   "cell_type": "markdown",
   "metadata": {},
   "source": [
    "### \n"
   ]
  },
  {
   "cell_type": "markdown",
   "metadata": {},
   "source": [
    " Execute this cell to view convolution gif\n"
   ]
  },
  {
   "cell_type": "code",
   "execution_count": 7,
   "metadata": {
    "cellView": "form",
    "execution": {
     "iopub.execute_input": "2023-04-17T16:42:33.516244Z",
     "iopub.status.busy": "2023-04-17T16:42:33.515767Z",
     "iopub.status.idle": "2023-04-17T16:42:33.520231Z",
     "shell.execute_reply": "2023-04-17T16:42:33.519609Z"
    },
    "tags": [
     "hide-input"
    ]
   },
   "outputs": [
    {
     "data": {
      "text/html": [
       "<img src=\"https://miro.medium.com/max/700/1*5BwZUqAqFFP5f3wKYQ6wJg.gif\"/>"
      ],
      "text/plain": [
       "<IPython.core.display.Image object>"
      ]
     },
     "execution_count": 7,
     "metadata": {},
     "output_type": "execute_result"
    }
   ],
   "source": [
    "#@title\n",
    "#@markdown Execute this cell to view convolution gif\n",
    "\n",
    "from IPython.display import Image\n",
    "Image(url='https://miro.medium.com/max/700/1*5BwZUqAqFFP5f3wKYQ6wJg.gif')"
   ]
  },
  {
   "cell_type": "markdown",
   "metadata": {
    "execution": {}
   },
   "source": [
    "## Section 1.2: 2D convolutions in deep learning\n",
    "\n",
    "*Estimated timing to here from start of tutorial: 6 min*\n"
   ]
  },
  {
   "cell_type": "markdown",
   "metadata": {},
   "source": [
    "###  Video 1: 2D Convolutions\n"
   ]
  },
  {
   "cell_type": "code",
   "execution_count": 8,
   "metadata": {
    "cellView": "form",
    "execution": {
     "iopub.execute_input": "2023-04-17T16:42:33.523535Z",
     "iopub.status.busy": "2023-04-17T16:42:33.522940Z",
     "iopub.status.idle": "2023-04-17T16:42:33.630495Z",
     "shell.execute_reply": "2023-04-17T16:42:33.629844Z"
    },
    "tags": [
     "remove-input"
    ]
   },
   "outputs": [
    {
     "data": {
      "application/vnd.jupyter.widget-view+json": {
       "model_id": "cf412fa646d64a488e04d9ac122ba596",
       "version_major": 2,
       "version_minor": 0
      },
      "text/plain": [
       "Tab(children=(Output(), Output()), selected_index=0, titles=('Youtube', 'Bilibili'))"
      ]
     },
     "metadata": {},
     "output_type": "display_data"
    }
   ],
   "source": [
    "# @title Video 1: 2D Convolutions\n",
    "\n",
    "from ipywidgets import widgets\n",
    "\n",
    "out2 = widgets.Output()\n",
    "with out2:\n",
    "  from IPython.display import IFrame\n",
    "  class BiliVideo(IFrame):\n",
    "      def __init__(self, id, page=1, width=400, height=300, **kwargs):\n",
    "          self.id=id\n",
    "          src = 'https://player.bilibili.com/player.html?bvid={0}&page={1}'.format(id, page)\n",
    "          super(BiliVideo, self).__init__(src, width, height, **kwargs)\n",
    "\n",
    "  video = BiliVideo(id=\"BV1jw411d7Kg\", width=730, height=410, fs=1)\n",
    "  print('Video available at https://www.bilibili.com/video/{0}'.format(video.id))\n",
    "  display(video)\n",
    "\n",
    "out1 = widgets.Output()\n",
    "with out1:\n",
    "  from IPython.display import YouTubeVideo\n",
    "  video = YouTubeVideo(id=\"zgO9rHYbDxE\", width=730, height=410, fs=1, rel=0)\n",
    "  print('Video available at https://youtube.com/watch?v=' + video.id)\n",
    "  display(video)\n",
    "\n",
    "out = widgets.Tab([out1, out2])\n",
    "out.titles = ['Youtube', 'Bilibili']\n",
    "\n",
    "display(out)"
   ]
  },
  {
   "cell_type": "markdown",
   "metadata": {
    "execution": {}
   },
   "source": [
    "This video covers convolutions and how to implement them in Pytorch.\n",
    "\n",
    "<details>\n",
    "<summary> <font color='blue'>Click here for text recap of video </font></summary>\n",
    "\n",
    "Recall Aude Oliva’s discussion of convolutions in the [intro](https://www.youtube.com/watch?v=IZvcy0Myb3M). Convolutional neural networks with several layers revolutionized the deep learning field, and in particular AlexNet, depicted here, was the first deep neural network to excel on the ImageNet classification task. The first layer in the network takes as input an image, runs convolutional filters on the image, rectifies the output, them downsamples the output (the pooling layer). The next layers repeat this process, and then at the end fully connected linear layers are attached which output a label for the image.  \n",
    "\n",
    "The main advantages of convolutional layers over fully connected layers are the reduction in parameters through weight-sharing, which we will get into shortly, and also the fact that the units have local receptive fields. These local receptive fields allow the network to pool over units in spatial proximity and helps the network learn translation invariant representations.\n",
    "\n",
    "A convolution is the integral of the product of two functions, one of which is a stimulus and the other which is a filter. This integral is computed at all positions by sliding the filter weights across the stimulus. If you want to perform a convolution and get the same output as the input you need to pad the input by half the filter size on each side. This is called “same” padding. Another parameter of this convolution computation is the stride -- how often the convolution is computed along the stimulus dimension. In this case, we use a stride of 1, but we can increase the stride and in turn have fewer units.\n",
    "\n",
    "All the units of this filter are called a single output **channel**. A convolutional layer often consists of multiple output channels each with their own filter weights. We call the number of output convolutional channels $C_{out}$. \n",
    "\n",
    "We will implement this convolutional layer in pytorch. We will create a convolutional layer `ConvolutionalLayer` which takes as input a stimulus, which in our case are the gratings images. The convolutional layer is initialized with a few different parameters - first is the # of input channels $C_{in}$, which is 1 in our case. Next the number of convolutional channels which we’ll call $C_{out}$ which we can set to 6. Then the size of the filter $K$ which we set by default to 7. There’s also an optional `filters` input which we use to initialize the convolutional weights.  We set them as the weights of the conv layer we just created, and set the bias terms for the conv layer to zero.\n",
    "\n",
    "We declare an `nn.conv2d` variable to be an attribute of the class `ConvolutionalLayer` called `conv`. For this convolutional layer we set the padding to half the filter size and the stride to 1 to get the same size output as the input.\n",
    "\n",
    "What are some example filters we might use? One is a center-surround filter. It is positive in the middle and negative in the surround. Another is a gabor filter, which has a positive section next to a negative section. Look at the responses of these filters given the image. Both of these filter types are inspired by neurons recorded in the brain.\n",
    "\n",
    "In fact, convolutional neural networks are inspired by the brain. In the retina there are a variety of cell types which we can think of as filters and each of these cells tile the entire visual space. The picture here shows the part of visual space each one of these cells responds to. In barrel cortex we have a similar situation where each whisker’s activation corresponds to a single cortical column of activity and the functions computed in each of these columns are similar.\n",
    "\n",
    "</details>"
   ]
  },
  {
   "cell_type": "markdown",
   "metadata": {
    "execution": {}
   },
   "source": [
    "Object recognition was essentially an unsolved problem in machine learning until the [advent](https://en.wikipedia.org/wiki/AlexNet) of techniques for effectively training *deep* convolutional neural networks. See Bonus Section 1 for more information on why we use CNNs to model the visual system.\n",
    "\n",
    "Convolutional neural networks consist of 2D convolutional layers, ReLU non-linearities, 2D pooling layers, and at the output, a fully connected layer. We will see an example network with all these components in tutorial 3. \n",
    "\n",
    "A 2D convolutional layer has multiple output channels. Each output **channel** is the result of a 2D convolutional filter applied to the input. In the gif below, the input is in blue, the filter is in gray, and the output is in green. The number of units in the output channel depends on the *stride* you set. In the gif below, the stride is 1 because the input image is sampled at each position, a stride of 2 would mean skipping over input positions. In most applications, especially with small filter sizes, a stride of 1 is used.\n",
    "\n",
    "(*Technical note*: if filter size *K* is odd and you set the *pad=K//2* and *stride=1* (as is shown below), you get a **channel** of units that is the same size as the input. See a more detailed explanation of strides and pads [here](https://theano-pymc.readthedocs.io/en/latest/tutorial/conv_arithmetic.html) if interested)."
   ]
  },
  {
   "cell_type": "markdown",
   "metadata": {},
   "source": [
    "### \n"
   ]
  },
  {
   "cell_type": "markdown",
   "metadata": {},
   "source": [
    " Execute this cell to view convolution gif\n"
   ]
  },
  {
   "cell_type": "code",
   "execution_count": 9,
   "metadata": {
    "cellView": "form",
    "execution": {
     "iopub.execute_input": "2023-04-17T16:42:33.641032Z",
     "iopub.status.busy": "2023-04-17T16:42:33.640847Z",
     "iopub.status.idle": "2023-04-17T16:42:33.644652Z",
     "shell.execute_reply": "2023-04-17T16:42:33.644113Z"
    },
    "tags": [
     "hide-input"
    ]
   },
   "outputs": [
    {
     "data": {
      "text/html": [
       "<img src=\"https://miro.medium.com/max/790/1*1okwhewf5KCtIPaFib4XaA.gif\"/>"
      ],
      "text/plain": [
       "<IPython.core.display.Image object>"
      ]
     },
     "execution_count": 9,
     "metadata": {},
     "output_type": "execute_result"
    }
   ],
   "source": [
    "#@title\n",
    "#@markdown Execute this cell to view convolution gif\n",
    "\n",
    "from IPython.display import Image\n",
    "Image(url='https://miro.medium.com/max/790/1*1okwhewf5KCtIPaFib4XaA.gif')"
   ]
  },
  {
   "cell_type": "markdown",
   "metadata": {
    "execution": {}
   },
   "source": [
    "## Section 1.3: 2D convolutions in Pytorch\n",
    "\n",
    "*Estimated timing to here from start of tutorial: 18 min*\n",
    "\n",
    "In Tutorial 1, fully connected linear layers were used to decode stimuli from neural activity. Convolutional layers are different from their fully connected counterparts in two ways:\n",
    "  * In a fully connected layer, each unit computes a weighted sum over all the input units. In a convolutional layer, on the other hand, each unit computes a weighted sum over only a small patch of the input, referred to as the unit's **receptive field**. When the input is an image, the receptive field can be thought of as a local patch of pixels.\n",
    "  * In a fully connected layer, each unit uses its own independent set of weights to compute the weighted sum. In a convolutional layer, all the units (within the same channel) **share the same weights**. This set of shared weights is called the **convolutional filter or kernel**. The result of this computation is a convolution, where each unit has computed the same weighted sum over a different part of the input. This reduces the number of parameters in the network substantially.\n",
    "\n",
    "<p align=\"center\">\n",
    "  <img src=\"https://github.com/NeuromatchAcademy/course-content/blob/main/tutorials/static/weight-sharing.png?raw=true\" width=\"700\" />\n",
    "</p>\n",
    "\n",
    "\n",
    "We will compute the difference in the number of weights for a fully connected layer versus a convolutional layer in the Think exercise below.\n",
    "\n",
    "First, let's visualize the stimuli in the dataset from tutorial 1. During the neural recordings from [Stringer _et al._, 2021](https://doi.org/10.1016/j.cell.2021.03.042), mice were presented oriented gratings:"
   ]
  },
  {
   "cell_type": "markdown",
   "metadata": {},
   "source": [
    " Execute this cell to plot example stimuli\n"
   ]
  },
  {
   "cell_type": "code",
   "execution_count": 10,
   "metadata": {
    "cellView": "form",
    "execution": {
     "iopub.execute_input": "2023-04-17T16:42:33.649459Z",
     "iopub.status.busy": "2023-04-17T16:42:33.649032Z",
     "iopub.status.idle": "2023-04-17T16:42:34.274081Z",
     "shell.execute_reply": "2023-04-17T16:42:34.272742Z"
    },
    "tags": [
     "hide-input"
    ]
   },
   "outputs": [
    {
     "name": "stdout",
     "output_type": "stream",
     "text": [
      "stimulus size: 48 x 64\n"
     ]
    },
    {
     "data": {
      "image/png": "[encoded data removed]",
      "text/plain": [
       "<Figure size 1500x300 with 5 Axes>"
      ]
     },
     "metadata": {
      "image/png": {
       "height": 252,
       "width": 1474
      }
     },
     "output_type": "display_data"
    }
   ],
   "source": [
    "# @markdown Execute this cell to plot example stimuli\n",
    "\n",
    "orientations = np.linspace(-90, 90, 5)\n",
    "\n",
    "h = 3\n",
    "n_col = len(orientations)\n",
    "fig, axs = plt.subplots(1, n_col, figsize=(h * n_col, h))\n",
    "\n",
    "h, w  = grating(0).shape  # height and width of stimulus\n",
    "print('stimulus size: %i x %i' % (h, w))\n",
    "\n",
    "for i, ori in enumerate(orientations):\n",
    "  stimulus = grating(ori)\n",
    "  axs[i].set_title(f'{ori: .0f}$^o$')\n",
    "  show_stimulus(stimulus, axs[i])"
   ]
  },
  {
   "cell_type": "markdown",
   "metadata": {
    "execution": {}
   },
   "source": [
    "Now let's implement 2D convolutional operations. We will use multiple convolutional channels and implement this operation efficiently using pytorch. A *layer* of convolutional channels can be implemented with one line of code using the PyTorch class `nn.Conv2d()`, which requires the following arguments for initialization (see full documentation [here](https://pytorch.org/docs/master/generated/torch.nn.Conv2d.html)):\n",
    "  * $C^{in}$: the number of input channels\n",
    "  * $C^{out}$: the number of output channels (number of different convolutional filters)\n",
    "  * $K$: the size of the $C^{out}$ different convolutional filters\n",
    "  \n",
    "When you run the network, you can input a stimulus of arbitrary size $(H^{in}, W^{in})$, but it needs to be shaped as a 4D input $(N, C^{in}, H^{in}, W^{in})$, where $N$ is the number of images. In our case, $C^{in}=1$ because there is only one color channel (our images are grayscale, but often $C^{in}=3$ in image processing)."
   ]
  },
  {
   "cell_type": "code",
   "execution_count": 11,
   "metadata": {
    "execution": {
     "iopub.execute_input": "2023-04-17T16:42:34.277917Z",
     "iopub.status.busy": "2023-04-17T16:42:34.277526Z",
     "iopub.status.idle": "2023-04-17T16:42:34.284167Z",
     "shell.execute_reply": "2023-04-17T16:42:34.283595Z"
    }
   },
   "outputs": [],
   "source": [
    "class ConvolutionalLayer(nn.Module):\n",
    "  \"\"\"Deep network with one convolutional layer\n",
    "     Attributes: conv (nn.Conv2d): convolutional layer\n",
    "  \"\"\"\n",
    "  def __init__(self, c_in=1, c_out=6, K=7, filters=None):\n",
    "    \"\"\"Initialize layer\n",
    "\n",
    "    Args:\n",
    "        c_in: number of input stimulus channels\n",
    "        c_out: number of output convolutional channels\n",
    "        K: size of each convolutional filter\n",
    "        filters: (optional) initialize the convolutional weights\n",
    "\n",
    "    \"\"\"\n",
    "    super().__init__()\n",
    "    self.conv = nn.Conv2d(c_in, c_out, kernel_size=K,\n",
    "                          padding=K//2, stride=1)\n",
    "    if filters is not None:\n",
    "      self.conv.weight = nn.Parameter(filters)\n",
    "      self.conv.bias = nn.Parameter(torch.zeros((c_out,), dtype=torch.float32))\n",
    "\n",
    "  def forward(self, s):\n",
    "    \"\"\"Run stimulus through convolutional layer\n",
    "\n",
    "    Args:\n",
    "        s (torch.Tensor): n_stimuli x c_in x h x w tensor with stimuli\n",
    "\n",
    "    Returns:\n",
    "        (torch.Tensor): n_stimuli x c_out x h x w tensor with convolutional layer unit activations.\n",
    "\n",
    "    \"\"\"\n",
    "    a = self.conv(s)  # output of convolutional layer\n",
    "\n",
    "    return a"
   ]
  },
  {
   "cell_type": "markdown",
   "metadata": {
    "execution": {}
   },
   "source": [
    "See that `ConvolutionalLayer` takes as input `filters`. We have predesigned some filters that you can use by calling the `filters` function below. These are similar to filters we think are implemented in biological circuits such as the retina and the visual cortex. Some of them are **center-surround** filters and some of them are **gabor** filters. Check out this [website](http://www.cns.nyu.edu/~david/courses/perception/lecturenotes/ganglion/ganglion.html) for more details on center-surround filters, and this [website](https://en.wikipedia.org/wiki/Gabor_filter) for more details on gabor filters, if you're interested.\n",
    "\n"
   ]
  },
  {
   "cell_type": "markdown",
   "metadata": {},
   "source": [
    " Execute this cell to create and visualize filters\n"
   ]
  },
  {
   "cell_type": "code",
   "execution_count": 12,
   "metadata": {
    "cellView": "form",
    "execution": {
     "iopub.execute_input": "2023-04-17T16:42:34.286608Z",
     "iopub.status.busy": "2023-04-17T16:42:34.286222Z",
     "iopub.status.idle": "2023-04-17T16:42:34.587158Z",
     "shell.execute_reply": "2023-04-17T16:42:34.586629Z"
    },
    "tags": [
     "hide-input"
    ]
   },
   "outputs": [
    {
     "data": {
      "image/png": "[encoded data removed]",
      "text/plain": [
       "<Figure size 800x400 with 2 Axes>"
      ]
     },
     "metadata": {
      "image/png": {
       "height": 374,
       "width": 723
      }
     },
     "output_type": "display_data"
    }
   ],
   "source": [
    "# @markdown Execute this cell to create and visualize filters\n",
    "\n",
    "example_filters = filters(out_channels=6, K=7)\n",
    "\n",
    "plt.figure(figsize=(8,4))\n",
    "plt.subplot(1,2,1)\n",
    "plt.imshow(example_filters[0,0], vmin=-1, vmax=1, cmap='bwr')\n",
    "plt.title('center-surround filter')\n",
    "plt.axis('off')\n",
    "plt.subplot(1,2,2)\n",
    "plt.imshow(example_filters[4,0], vmin=-1, vmax=1, cmap='bwr')\n",
    "plt.title('gabor filter')\n",
    "plt.axis('off');"
   ]
  },
  {
   "cell_type": "markdown",
   "metadata": {
    "execution": {}
   },
   "source": [
    "### Coding Exercise 1.3: 2D convolution in pytorch \n",
    "\n",
    "We will now run the convolutional layer on our stimulus. We will use gratings stimuli made using the function `grating`, which returns a stimulus which is 48 x 64. \n",
    "\n",
    "Reminder, `nn.Conv2d` takes in a tensor of size $(N, C^{in}, H^{in}, W^{in}$) where $N$ is the number of stimuli, $C^{in}$ is the number of input channels, and $(H^{in}, W^{in})$ is the size of the stimulus. We will need to add these first two dimensions to our stimulus, then input it to the convolutional layer.\n",
    "\n",
    "We will plot the outputs of the convolution. `convout` is a tensor of size $(N, C^{out}, H^{in}, W^{in})$ where $N$ is the number of examples and $C^{out}$ are the number of convolutional channels. It is the same size as the input because we used a stride of 1 and padding that is half the kernel size.\n"
   ]
  },
  {
   "cell_type": "code",
   "execution_count": 13,
   "metadata": {
    "execution": {
     "iopub.execute_input": "2023-04-17T16:42:34.590892Z",
     "iopub.status.busy": "2023-04-17T16:42:34.590359Z",
     "iopub.status.idle": "2023-04-17T16:42:34.852998Z",
     "shell.execute_reply": "2023-04-17T16:42:34.852076Z"
    }
   },
   "outputs": [
    {
     "ename": "NotImplementedError",
     "evalue": "Student exercise: create convolutional layer",
     "output_type": "error",
     "traceback": [
      "\u001b[0;31m---------------------------------------------------------------------------\u001b[0m",
      "\u001b[0;31mNotImplementedError\u001b[0m                       Traceback (most recent call last)",
      "Cell \u001b[0;32mIn[13], line 16\u001b[0m\n\u001b[1;32m     11\u001b[0m convout \u001b[38;5;241m=\u001b[39m np\u001b[38;5;241m.\u001b[39mzeros(\u001b[38;5;241m0\u001b[39m) \u001b[38;5;66;03m# assign convolutional activations to convout\u001b[39;00m\n\u001b[1;32m     13\u001b[0m \u001b[38;5;66;03m################################################################################\u001b[39;00m\n\u001b[1;32m     14\u001b[0m \u001b[38;5;66;03m## TODO for students: create convolutional layer in pytorch\u001b[39;00m\n\u001b[1;32m     15\u001b[0m \u001b[38;5;66;03m# Complete and uncomment\u001b[39;00m\n\u001b[0;32m---> 16\u001b[0m \u001b[38;5;28;01mraise\u001b[39;00m \u001b[38;5;167;01mNotImplementedError\u001b[39;00m(\u001b[38;5;124m\"\u001b[39m\u001b[38;5;124mStudent exercise: create convolutional layer\u001b[39m\u001b[38;5;124m\"\u001b[39m)\n\u001b[1;32m     17\u001b[0m \u001b[38;5;66;03m################################################################################\u001b[39;00m\n\u001b[1;32m     18\u001b[0m \n\u001b[1;32m     19\u001b[0m \u001b[38;5;66;03m# Initialize conv layer and add weights from function filters\u001b[39;00m\n\u001b[0;32m   (...)\u001b[0m\n\u001b[1;32m     22\u001b[0m \u001b[38;5;66;03m# * the number of output channels c_out\u001b[39;00m\n\u001b[1;32m     23\u001b[0m \u001b[38;5;66;03m# * the filter size K\u001b[39;00m\n\u001b[1;32m     24\u001b[0m convLayer \u001b[38;5;241m=\u001b[39m ConvolutionalLayer(\u001b[38;5;241m.\u001b[39m\u001b[38;5;241m.\u001b[39m\u001b[38;5;241m.\u001b[39m, filters\u001b[38;5;241m=\u001b[39mexample_filters)\n",
      "\u001b[0;31mNotImplementedError\u001b[0m: Student exercise: create convolutional layer"
     ]
    }
   ],
   "source": [
    "# Stimulus parameters\n",
    "in_channels = 1 # how many input channels in our images\n",
    "h = 48 # height of images\n",
    "w = 64 # width of images\n",
    "\n",
    "# Convolution layer parameters\n",
    "K = 7 # filter size\n",
    "out_channels = 6 # how many convolutional channels to have in our layer\n",
    "example_filters = filters(out_channels, K) # create filters to use\n",
    "\n",
    "convout = np.zeros(0) # assign convolutional activations to convout\n",
    "\n",
    "################################################################################\n",
    "## TODO for students: create convolutional layer in pytorch\n",
    "# Complete and uncomment\n",
    "raise NotImplementedError(\"Student exercise: create convolutional layer\")\n",
    "################################################################################\n",
    "\n",
    "# Initialize conv layer and add weights from function filters\n",
    "# you need to specify :\n",
    "# * the number of input channels c_in\n",
    "# * the number of output channels c_out\n",
    "# * the filter size K\n",
    "convLayer = ConvolutionalLayer(..., filters=example_filters)\n",
    "\n",
    "# Create stimuli (H_in, W_in)\n",
    "orientations = [-90, -45, 0, 45, 90]\n",
    "stimuli = torch.zeros((len(orientations), in_channels, h, w), dtype=torch.float32)\n",
    "for i,ori in enumerate(orientations):\n",
    "  stimuli[i,0] = grating(ori)\n",
    "\n",
    "convout = convLayer(...)\n",
    "convout = convout.detach() # detach gradients\n",
    "\n",
    "plot_example_activations(stimuli, convout, channels=np.arange(0, out_channels))"
   ]
  },
  {
   "cell_type": "markdown",
   "metadata": {
    "colab_type": "text",
    "execution": {}
   },
   "source": [
    "[*Click for solution*](https://github.com/NeuromatchAcademy/course-content/tree/main//tutorials/W1D5_DeepLearning/solutions/W1D5_Tutorial2_Solution_712d995b.py)\n",
    "\n",
    "*Example output:*\n",
    "\n",
    "<img alt='Solution hint' align='left' width=1907.0 height=1617.0 src=https://raw.githubusercontent.com/NeuromatchAcademy/course-content/main/tutorials/W1D5_DeepLearning/static/W1D5_Tutorial2_Solution_712d995b_1.png>\n",
    "\n"
   ]
  },
  {
   "cell_type": "markdown",
   "metadata": {
    "execution": {}
   },
   "source": [
    "### Think! 1.3: Output and weight shapes in a convolutional layer\n",
    "\n",
    "Let's think about the shape of the weights and outputs of `convLayer`:\n",
    "  - How many convolutional activations are there in each channel, and why is it this size?\n",
    "  - How many weights does `convLayer` have? \n",
    "  - How many weights would it have if it were a fully connected layer?\n",
    "\n",
    "Additionally, let's think about why the activations look the way they do. It seems like for all channels the activations are only non-zero for edges of the gratings (where the grating goes from white-to-black and from black-to-white).\n",
    "  -  Channel 0 and 1 seem to respond to every edge regardless of the orientation, but their signs are different. What type of filter might produce these types of responses?\n",
    "  - Channels 2-5 seem to respond differently depending on the orientation of the stimulus. What type of filter might produce these types of responses?"
   ]
  },
  {
   "cell_type": "markdown",
   "metadata": {
    "colab_type": "text",
    "execution": {}
   },
   "source": [
    "[*Click for solution*](https://github.com/NeuromatchAcademy/course-content/tree/main//tutorials/W1D5_DeepLearning/solutions/W1D5_Tutorial2_Solution_f48d6ecf.py)\n",
    "\n"
   ]
  },
  {
   "cell_type": "markdown",
   "metadata": {
    "execution": {}
   },
   "source": [
    "Please see Bonus Section 2 to visualize the convolutional filter weights. See the Bonus Tutorial to use CNNs as encoding models of neurons (by fitting directly to neural responses)."
   ]
  },
  {
   "cell_type": "markdown",
   "metadata": {
    "execution": {}
   },
   "source": [
    "---\n",
    "# Summary\n",
    "\n",
    "*Estimated timing of tutorial: 40 minutes*\n",
    "\n",
    "In this notebook, we built a 2D convolutional layer which is meant to represent the responses of neurons in the mouse visual cortex, or the responses of neurons \n",
    "which are inputs to the mouse visual cortex.\n",
    "\n",
    "In Tutorial 3, we will add to this 2D convolutional layer a fully-connected layer and train this model to predict whether an orientation is left or right. We will see if the convolutional filters it learns are similar to mouse visual cortex. See Section 3 in the Bonus Tutorial to fit convolutional neural networks directly to neural activity."
   ]
  },
  {
   "cell_type": "markdown",
   "metadata": {
    "execution": {}
   },
   "source": [
    "---\n",
    "# Bonus"
   ]
  },
  {
   "cell_type": "markdown",
   "metadata": {
    "execution": {}
   },
   "source": [
    "## Bonus Section 1: Why CNN's?\n",
    "\n",
    "CNN models are particularly [well-suited](https://www.nature.com/articles/nn.4244) to modeling the visual system for a number of reasons:\n",
    "\n",
    "1. **Distributed computation**: like any other neural network, CNN's use distributed representations to compute -- much like the brain seems to do. Such models, therefore, provide us with a vocabulary with which to talk and think about such distributed representations. Because we know the exact function the model is built to perform (e.g., orientation discrimination), we can analyze its internal representations with respect to this function and begin to interpret why the representations look the way they do. Most importantly, we can then use these insights to analyze the structure of neural representations observed in recorded population activity. We can qualitatively and quantitatively compare the representations we see in the model and in a given population of real neurons to hopefully tease out the computations it performs.\n",
    "\n",
    "2. **Hierarchical architecture**: like in any other deep learning architecture, each layer of a deep CNN comprises a non-linear transformation of the previous layer. Thus, there is a natural hierarchy whereby layers closer to the network output represent increasingly more abstract information about the input image. For example, in a network trained to do object recognition, the early layers might represent information about edges in the image, whereas later layers closer to the output might represent various object categories. This resembles the [hierarchical structure of the visual system](https://pubmed.ncbi.nlm.nih.gov/1822724/), where [lower-level areas](https://www.jneurosci.org/content/25/46/10577.short) (e.g., retina, V1) represent visual features of the sensory input and [higher-level areas](https://www.sciencedirect.com/science/article/pii/S089662731200092X) (e.g., V4, IT) represent properties of objects in the visual scene. We can then naturally use a single CNN to model multiple visual areas, using early CNN layers to model lower-level visual areas and late CNN layers to model higher-level visual areas.\n",
    "  \n",
    "  Relative to fully connected networks, CNN's, in fact, have further hierarchical structure built-in through the max pooling layers. Recall that each output of a convolution + pooling block is the result of processing a local patch of the inputs to that block. If we stack such blocks in a sequence, then the outputs of each block will be sensitive to increasingly larger regions of the initial raw input to the network: an output from the first block is sensitive to a single patch of these inputs, corresponding to its \"receptive field\"; an output from the second block is sensitive to a patch of outputs from the first block, which together are sensitive to a larger patch of raw inputs comprising the union of their receptive fields. Receptive fields thus get larger for deeper layers (see [here](http://colah.github.io/posts/2014-07-Conv-Nets-Modular/) for a nice visual depiction of this). This resembles primate visual systems, where neurons in higher-level visual areas respond to stimuli in wider regions of the visual field than neurons in lower-level visual areas.\n",
    "\n",
    "3. **Convolutional layers**: through the weight sharing constraint, the outputs of each channel of a convolutional layer process different parts of the input image in exactly the same way. This architectural constraint effectively builds into the network the assumption that objects in the world typically look the same regardless of where they are in space. This is useful for modeling the visual system for two (largely separate) reasons:\n",
    "  * Firstly, this assumption is generally valid in mammalian visual systems, since mammals tend to view the same object from many perspectives. Two neurons at a similar hierarchy in the visual system with different receptive fields could thus end up receiving statistically similar synaptic inputs, so that the synaptic weights developed over time may end up being similar as well.\n",
    "  * Secondly, this architecture significantly improves object recognition ability. Object recognition was essentially an unsolved problem in machine learning until the [advent](https://en.wikipedia.org/wiki/AlexNet) of techniques for effectively training *deep* convolutional neural networks. Fully connected networks on their own can't achieve object recognition abilities anywhere close to human levels, making them bad models of human object recognition. Indeed, it is generally the case that [the better a neural network model is at object recognition, the closer the match between its representations and those observed in the brain](https://www.pnas.org/content/111/23/8619.short). That said, it is worth noting that our much simpler orientation discrimination task (in Tutorial 3) can be solved by relatively simple networks."
   ]
  },
  {
   "cell_type": "markdown",
   "metadata": {
    "execution": {}
   },
   "source": [
    "---\n",
    "## Bonus Section 2: Understanding activations from weight"
   ]
  },
  {
   "cell_type": "markdown",
   "metadata": {
    "execution": {}
   },
   "source": [
    "### Bonus Coding Exercise 2: Visualizing convolutional filter weights\n",
    "\n",
    "Why do the activations look the way they do? Let's look at the weights (`convLayer.conv.weight.detach()`) of the convolutional filters and try to interpret them."
   ]
  },
  {
   "cell_type": "code",
   "execution_count": 14,
   "metadata": {
    "execution": {
     "iopub.execute_input": "2023-04-17T16:42:34.856407Z",
     "iopub.status.busy": "2023-04-17T16:42:34.855825Z",
     "iopub.status.idle": "2023-04-17T16:42:34.872138Z",
     "shell.execute_reply": "2023-04-17T16:42:34.871452Z"
    }
   },
   "outputs": [
    {
     "ename": "NotImplementedError",
     "evalue": "Student exercise: get weights",
     "output_type": "error",
     "traceback": [
      "\u001b[0;31m---------------------------------------------------------------------------\u001b[0m",
      "\u001b[0;31mNotImplementedError\u001b[0m                       Traceback (most recent call last)",
      "Cell \u001b[0;32mIn[14], line 4\u001b[0m\n\u001b[1;32m      1\u001b[0m \u001b[38;5;66;03m################################################################################\u001b[39;00m\n\u001b[1;32m      2\u001b[0m \u001b[38;5;66;03m## TODO for students: get weights\u001b[39;00m\n\u001b[1;32m      3\u001b[0m \u001b[38;5;66;03m# Complete and uncomment\u001b[39;00m\n\u001b[0;32m----> 4\u001b[0m \u001b[38;5;28;01mraise\u001b[39;00m \u001b[38;5;167;01mNotImplementedError\u001b[39;00m(\u001b[38;5;124m\"\u001b[39m\u001b[38;5;124mStudent exercise: get weights\u001b[39m\u001b[38;5;124m\"\u001b[39m)\n\u001b[1;32m      5\u001b[0m \u001b[38;5;66;03m################################################################################\u001b[39;00m\n\u001b[1;32m      6\u001b[0m \n\u001b[1;32m      7\u001b[0m \u001b[38;5;66;03m# get weights of conv layer in convLayer\u001b[39;00m\n\u001b[1;32m      8\u001b[0m weights \u001b[38;5;241m=\u001b[39m \u001b[38;5;241m.\u001b[39m\u001b[38;5;241m.\u001b[39m\u001b[38;5;241m.\u001b[39m\n",
      "\u001b[0;31mNotImplementedError\u001b[0m: Student exercise: get weights"
     ]
    }
   ],
   "source": [
    "################################################################################\n",
    "## TODO for students: get weights\n",
    "# Complete and uncomment\n",
    "raise NotImplementedError(\"Student exercise: get weights\")\n",
    "################################################################################\n",
    "\n",
    "# get weights of conv layer in convLayer\n",
    "weights = ...\n",
    "print(weights.shape) # can you identify what each of the dimensions are?\n",
    "\n",
    "plot_weights(weights, channels=np.arange(0, out_channels))"
   ]
  },
  {
   "cell_type": "markdown",
   "metadata": {
    "colab_type": "text",
    "execution": {}
   },
   "source": [
    "[*Click for solution*](https://github.com/NeuromatchAcademy/course-content/tree/main//tutorials/W1D5_DeepLearning/solutions/W1D5_Tutorial2_Solution_20c66403.py)\n",
    "\n",
    "*Example output:*\n",
    "\n",
    "<img alt='Solution hint' align='left' width=1890.0 height=340.0 src=https://raw.githubusercontent.com/NeuromatchAcademy/course-content/main/tutorials/W1D5_DeepLearning/static/W1D5_Tutorial2_Solution_20c66403_2.png>\n",
    "\n"
   ]
  },
  {
   "cell_type": "markdown",
   "metadata": {
    "execution": {}
   },
   "source": [
    "In the function `filters` we pre-made center-surround filters and Gabor filters of various orientations. [Gabor filters](https://en.wikipedia.org/wiki/Gabor_filter) have a positive region next to a negative region and the orientation of these regions of the filter determine the orientation of edges to which they respond. \n",
    "\n",
    "In the visual cortex, Hubel and Wiesel discovered simple cells, which would correspond to a unit in the channels 2-5 above with Gabor filters. There are also some neurons with activity that resemble center-surround filters, which would correspond to the first two convolutional channels above.\n",
    "\n",
    "There were additional cells discovered by Hubel and Wiesel - complex cells - that respond to an oriented grating regardless of where the bars are exactly (note that the responses we see are specific to where the bars are). These cells therefore have some level of translation invariance. This is something that convolutional neural networks try to replicate -- e.g., a grating is still oriented horizontally even if it moves slightly, and a cat is still a cat even if it's in a different position in the image."
   ]
  },
  {
   "cell_type": "markdown",
   "metadata": {
    "execution": {}
   },
   "source": [
    "### Bonus Think! 2\n",
    "  - How might you create a complex cell and have responses that are translation invariant?\n",
    "  - How might you create a cell that responds to multiple orientations?"
   ]
  },
  {
   "cell_type": "markdown",
   "metadata": {
    "colab_type": "text",
    "execution": {}
   },
   "source": [
    "[*Click for solution*](https://github.com/NeuromatchAcademy/course-content/tree/main//tutorials/W1D5_DeepLearning/solutions/W1D5_Tutorial2_Solution_d290c523.py)\n",
    "\n"
   ]
  }
 ],
 "metadata": {
  "accelerator": "GPU",
  "colab": {
   "collapsed_sections": [],
   "include_colab_link": true,
   "name": "W1D5_Tutorial2",
   "provenance": [],
   "toc_visible": true
  },
  "kernel": {
   "display_name": "Python 3",
   "language": "python",
   "name": "python3"
  },
  "kernelspec": {
   "display_name": "Python 3",
   "language": "python",
   "name": "python3"
  },
  "language_info": {
   "codemirror_mode": {
    "name": "ipython",
    "version": 3
   },
   "file_extension": ".py",
   "mimetype": "text/x-python",
   "name": "python",
   "nbconvert_exporter": "python",
   "pygments_lexer": "ipython3",
   "version": "3.11.3"
  },
  "widgets": {
   "application/vnd.jupyter.widget-state+json": {
    "state": {
     "10826052e2c14c999948699f8042d440": {
      "model_module": "@jupyter-widgets/base",
      "model_module_version": "2.0.0",
      "model_name": "LayoutModel",
      "state": {
       "_model_module": "@jupyter-widgets/base",
       "_model_module_version": "2.0.0",
       "_model_name": "LayoutModel",
       "_view_count": null,
       "_view_module": "@jupyter-widgets/base",
       "_view_module_version": "2.0.0",
       "_view_name": "LayoutView",
       "align_content": null,
       "align_items": null,
       "align_self": null,
       "border_bottom": null,
       "border_left": null,
       "border_right": null,
       "border_top": null,
       "bottom": null,
       "display": null,
       "flex": null,
       "flex_flow": null,
       "grid_area": null,
       "grid_auto_columns": null,
       "grid_auto_flow": null,
       "grid_auto_rows": null,
       "grid_column": null,
       "grid_gap": null,
       "grid_row": null,
       "grid_template_areas": null,
       "grid_template_columns": null,
       "grid_template_rows": null,
       "height": null,
       "justify_content": null,
       "justify_items": null,
       "left": null,
       "margin": null,
       "max_height": null,
       "max_width": null,
       "min_height": null,
       "min_width": null,
       "object_fit": null,
       "object_position": null,
       "order": null,
       "overflow": null,
       "padding": null,
       "right": null,
       "top": null,
       "visibility": null,
       "width": null
      }
     },
     "4b09049515f8469a9affb69d382b57b6": {
      "model_module": "@jupyter-widgets/base",
      "model_module_version": "2.0.0",
      "model_name": "LayoutModel",
      "state": {
       "_model_module": "@jupyter-widgets/base",
       "_model_module_version": "2.0.0",
       "_model_name": "LayoutModel",
       "_view_count": null,
       "_view_module": "@jupyter-widgets/base",
       "_view_module_version": "2.0.0",
       "_view_name": "LayoutView",
       "align_content": null,
       "align_items": null,
       "align_self": null,
       "border_bottom": null,
       "border_left": null,
       "border_right": null,
       "border_top": null,
       "bottom": null,
       "display": null,
       "flex": null,
       "flex_flow": null,
       "grid_area": null,
       "grid_auto_columns": null,
       "grid_auto_flow": null,
       "grid_auto_rows": null,
       "grid_column": null,
       "grid_gap": null,
       "grid_row": null,
       "grid_template_areas": null,
       "grid_template_columns": null,
       "grid_template_rows": null,
       "height": null,
       "justify_content": null,
       "justify_items": null,
       "left": null,
       "margin": null,
       "max_height": null,
       "max_width": null,
       "min_height": null,
       "min_width": null,
       "object_fit": null,
       "object_position": null,
       "order": null,
       "overflow": null,
       "padding": null,
       "right": null,
       "top": null,
       "visibility": null,
       "width": null
      }
     },
     "7f285b344e4c4e378abbe5ab9d39b9ad": {
      "model_module": "@jupyter-widgets/output",
      "model_module_version": "1.0.0",
      "model_name": "OutputModel",
      "state": {
       "_dom_classes": [],
       "_model_module": "@jupyter-widgets/output",
       "_model_module_version": "1.0.0",
       "_model_name": "OutputModel",
       "_view_count": null,
       "_view_module": "@jupyter-widgets/output",
       "_view_module_version": "1.0.0",
       "_view_name": "OutputView",
       "layout": "IPY_MODEL_ffb0793d46fd4a6095ea029de70194c9",
       "msg_id": "",
       "outputs": [
        {
         "name": "stdout",
         "output_type": "stream",
         "text": "Video available at https://www.bilibili.com/video/BV1jw411d7Kg\n"
        },
        {
         "data": {
          "text/html": "\n        <iframe\n            width=\"730\"\n            height=\"410\"\n            src=\"https://player.bilibili.com/player.html?bvid=BV1jw411d7Kg&page=1?fs=1\"\n            frameborder=\"0\"\n            allowfullscreen\n            \n        ></iframe>\n        ",
          "text/plain": "<__main__.BiliVideo at 0x7f29b1e1be10>"
         },
         "metadata": {},
         "output_type": "display_data"
        }
       ],
       "tabbable": null,
       "tooltip": null
      }
     },
     "cf412fa646d64a488e04d9ac122ba596": {
      "model_module": "@jupyter-widgets/controls",
      "model_module_version": "2.0.0",
      "model_name": "TabModel",
      "state": {
       "_dom_classes": [],
       "_model_module": "@jupyter-widgets/controls",
       "_model_module_version": "2.0.0",
       "_model_name": "TabModel",
       "_view_count": null,
       "_view_module": "@jupyter-widgets/controls",
       "_view_module_version": "2.0.0",
       "_view_name": "TabView",
       "box_style": "",
       "children": [
        "IPY_MODEL_d89a9fd3e4714831aba15dba4540c31f",
        "IPY_MODEL_7f285b344e4c4e378abbe5ab9d39b9ad"
       ],
       "layout": "IPY_MODEL_10826052e2c14c999948699f8042d440",
       "selected_index": 0,
       "tabbable": null,
       "titles": [
        "Youtube",
        "Bilibili"
       ],
       "tooltip": null
      }
     },
     "d89a9fd3e4714831aba15dba4540c31f": {
      "model_module": "@jupyter-widgets/output",
      "model_module_version": "1.0.0",
      "model_name": "OutputModel",
      "state": {
       "_dom_classes": [],
       "_model_module": "@jupyter-widgets/output",
       "_model_module_version": "1.0.0",
       "_model_name": "OutputModel",
       "_view_count": null,
       "_view_module": "@jupyter-widgets/output",
       "_view_module_version": "1.0.0",
       "_view_name": "OutputView",
       "layout": "IPY_MODEL_4b09049515f8469a9affb69d382b57b6",
       "msg_id": "",
       "outputs": [
        {
         "name": "stdout",
         "output_type": "stream",
         "text": "Video available at https://youtube.com/watch?v=zgO9rHYbDxE\n"
        },
        {
         "data": {
          "image/jpeg": "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\n",
          "text/html": "\n        <iframe\n            width=\"730\"\n            height=\"410\"\n            src=\"https://www.youtube.com/embed/zgO9rHYbDxE?fs=1&rel=0\"\n            frameborder=\"0\"\n            allowfullscreen\n            \n        ></iframe>\n        ",
          "text/plain": "<IPython.lib.display.YouTubeVideo at 0x7f28e503b1d0>"
         },
         "metadata": {},
         "output_type": "display_data"
        }
       ],
       "tabbable": null,
       "tooltip": null
      }
     },
     "ffb0793d46fd4a6095ea029de70194c9": {
      "model_module": "@jupyter-widgets/base",
      "model_module_version": "2.0.0",
      "model_name": "LayoutModel",
      "state": {
       "_model_module": "@jupyter-widgets/base",
       "_model_module_version": "2.0.0",
       "_model_name": "LayoutModel",
       "_view_count": null,
       "_view_module": "@jupyter-widgets/base",
       "_view_module_version": "2.0.0",
       "_view_name": "LayoutView",
       "align_content": null,
       "align_items": null,
       "align_self": null,
       "border_bottom": null,
       "border_left": null,
       "border_right": null,
       "border_top": null,
       "bottom": null,
       "display": null,
       "flex": null,
       "flex_flow": null,
       "grid_area": null,
       "grid_auto_columns": null,
       "grid_auto_flow": null,
       "grid_auto_rows": null,
       "grid_column": null,
       "grid_gap": null,
       "grid_row": null,
       "grid_template_areas": null,
       "grid_template_columns": null,
       "grid_template_rows": null,
       "height": null,
       "justify_content": null,
       "justify_items": null,
       "left": null,
       "margin": null,
       "max_height": null,
       "max_width": null,
       "min_height": null,
       "min_width": null,
       "object_fit": null,
       "object_position": null,
       "order": null,
       "overflow": null,
       "padding": null,
       "right": null,
       "top": null,
       "visibility": null,
       "width": null
      }
     }
    },
    "version_major": 2,
    "version_minor": 0
   }
  }
 },
 "nbformat": 4,
 "nbformat_minor": 0
}
