{
 "cells": [
  {
   "cell_type": "markdown",
   "metadata": {
    "colab_type": "text",
    "execution": {},
    "id": "view-in-github"
   },
   "source": [
    "<a href=\"https://colab.research.google.com/github/NeuromatchAcademy/course-content/blob/main/tutorials/W1D4_DimensionalityReduction/student/W1D4_Tutorial4.ipynb\" target=\"_blank\"><img alt=\"Open In Colab\" src=\"https://colab.research.google.com/assets/colab-badge.svg\"/></a>   <a href=\"https://kaggle.com/kernels/welcome?src=https://raw.githubusercontent.com/NeuromatchAcademy/course-content/main/tutorials/W1D4_DimensionalityReduction/student/W1D4_Tutorial4.ipynb\" target=\"_blank\"><img alt=\"Open in Kaggle\" src=\"https://kaggle.com/static/images/open-in-kaggle.svg\"/></a>"
   ]
  },
  {
   "cell_type": "markdown",
   "metadata": {
    "execution": {}
   },
   "source": [
    "# Tutorial 4:  Nonlinear Dimensionality Reduction\n",
    "\n",
    "**Week 1, Day 4: Dimensionality Reduction**\n",
    "\n",
    "**By Neuromatch Academy**\n",
    "\n",
    "__Content creators:__ Alex Cayco Gajic, John Murray\n",
    "\n",
    "__Content reviewers:__ Roozbeh Farhoudi, Matt Krause, Spiros Chavlis, Richard Gao, Michael Waskom,  Siddharth Suresh, Natalie Schaworonkow, Ella Batty"
   ]
  },
  {
   "cell_type": "markdown",
   "metadata": {
    "execution": {}
   },
   "source": [
    "<p align='center'><img src='https://github.com/NeuromatchAcademy/widgets/blob/master/sponsors.png?raw=True'/></p>"
   ]
  },
  {
   "cell_type": "markdown",
   "metadata": {
    "execution": {}
   },
   "source": [
    "---\n",
    "# Tutorial Objectives\n",
    "\n",
    "*Estimated timing of tutorial: 35 minutes*\n",
    "\n",
    "In this notebook we'll explore how dimensionality reduction can be useful for visualizing and inferring structure in your data. To do this, we will compare PCA with t-SNE, a nonlinear dimensionality reduction method.\n",
    "\n",
    "Overview:\n",
    "- Visualize MNIST in 2D using PCA.\n",
    "- Visualize MNIST in 2D using t-SNE."
   ]
  },
  {
   "cell_type": "markdown",
   "metadata": {},
   "source": [
    "##  Tutorial slides\n"
   ]
  },
  {
   "cell_type": "markdown",
   "metadata": {},
   "source": [
    " These are the slides for the videos in all tutorials today\n"
   ]
  },
  {
   "cell_type": "code",
   "execution_count": 1,
   "metadata": {
    "cellView": "form",
    "execution": {
     "iopub.execute_input": "2023-04-17T16:41:53.395899Z",
     "iopub.status.busy": "2023-04-17T16:41:53.395480Z",
     "iopub.status.idle": "2023-04-17T16:41:53.407557Z",
     "shell.execute_reply": "2023-04-17T16:41:53.407072Z"
    },
    "tags": [
     "remove-input"
    ]
   },
   "outputs": [
    {
     "data": {
      "text/html": [
       "\n",
       "        <iframe\n",
       "            width=\"854\"\n",
       "            height=\"480\"\n",
       "            src=\"https://mfr.ca-1.osf.io/render?url=https://osf.io/kaq2x/?direct%26mode=render%26action=download%26mode=render\"\n",
       "            frameborder=\"0\"\n",
       "            allowfullscreen\n",
       "            \n",
       "        ></iframe>\n",
       "        "
      ],
      "text/plain": [
       "<IPython.lib.display.IFrame at 0x7f7dc483aa50>"
      ]
     },
     "execution_count": 1,
     "metadata": {},
     "output_type": "execute_result"
    }
   ],
   "source": [
    "# @title Tutorial slides\n",
    "\n",
    "# @markdown These are the slides for the videos in all tutorials today\n",
    "from IPython.display import IFrame\n",
    "IFrame(src=f\"https://mfr.ca-1.osf.io/render?url=https://osf.io/kaq2x/?direct%26mode=render%26action=download%26mode=render\", width=854, height=480)"
   ]
  },
  {
   "cell_type": "markdown",
   "metadata": {},
   "source": [
    "##  Video 1: PCA Applications\n"
   ]
  },
  {
   "cell_type": "code",
   "execution_count": 2,
   "metadata": {
    "cellView": "form",
    "execution": {
     "iopub.execute_input": "2023-04-17T16:41:53.410821Z",
     "iopub.status.busy": "2023-04-17T16:41:53.410369Z",
     "iopub.status.idle": "2023-04-17T16:41:53.606275Z",
     "shell.execute_reply": "2023-04-17T16:41:53.605600Z"
    },
    "tags": [
     "remove-input"
    ]
   },
   "outputs": [
    {
     "data": {
      "application/vnd.jupyter.widget-view+json": {
       "model_id": "5f6e826c6bea40b98ab09955ece1434b",
       "version_major": 2,
       "version_minor": 0
      },
      "text/plain": [
       "Tab(children=(Output(), Output()), selected_index=0, titles=('Youtube', 'Bilibili'))"
      ]
     },
     "metadata": {},
     "output_type": "display_data"
    }
   ],
   "source": [
    "# @title Video 1: PCA Applications\n",
    "from ipywidgets import widgets\n",
    "\n",
    "out2 = widgets.Output()\n",
    "with out2:\n",
    "  from IPython.display import IFrame\n",
    "  class BiliVideo(IFrame):\n",
    "      def __init__(self, id, page=1, width=400, height=300, **kwargs):\n",
    "          self.id=id\n",
    "          src = 'https://player.bilibili.com/player.html?bvid={0}&page={1}'.format(id, page)\n",
    "          super(BiliVideo, self).__init__(src, width, height, **kwargs)\n",
    "\n",
    "  video = BiliVideo(id=\"BV1Jf4y1R7UZ\", width=730, height=410, fs=1)\n",
    "  print('Video available at https://www.bilibili.com/video/{0}'.format(video.id))\n",
    "  display(video)\n",
    "\n",
    "out1 = widgets.Output()\n",
    "with out1:\n",
    "  from IPython.display import YouTubeVideo\n",
    "  video = YouTubeVideo(id=\"2Zb93aOWioM\", width=730, height=410, fs=1, rel=0)\n",
    "  print('Video available at https://youtube.com/watch?v=' + video.id)\n",
    "  display(video)\n",
    "\n",
    "out = widgets.Tab([out1, out2])\n",
    "out.titles = ['Youtube', 'Bilibili']\n",
    "\n",
    "display(out)"
   ]
  },
  {
   "cell_type": "markdown",
   "metadata": {
    "execution": {}
   },
   "source": [
    "---\n",
    "# Setup\n"
   ]
  },
  {
   "cell_type": "code",
   "execution_count": 3,
   "metadata": {
    "execution": {
     "iopub.execute_input": "2023-04-17T16:41:53.618388Z",
     "iopub.status.busy": "2023-04-17T16:41:53.618001Z",
     "iopub.status.idle": "2023-04-17T16:41:54.019028Z",
     "shell.execute_reply": "2023-04-17T16:41:54.018166Z"
    }
   },
   "outputs": [],
   "source": [
    "# Imports\n",
    "import numpy as np\n",
    "import matplotlib.pyplot as plt"
   ]
  },
  {
   "cell_type": "markdown",
   "metadata": {},
   "source": [
    "##  Figure Settings\n"
   ]
  },
  {
   "cell_type": "code",
   "execution_count": 4,
   "metadata": {
    "cellView": "form",
    "execution": {
     "iopub.execute_input": "2023-04-17T16:41:54.022425Z",
     "iopub.status.busy": "2023-04-17T16:41:54.021902Z",
     "iopub.status.idle": "2023-04-17T16:41:54.117002Z",
     "shell.execute_reply": "2023-04-17T16:41:54.116326Z"
    },
    "tags": [
     "hide-input"
    ]
   },
   "outputs": [],
   "source": [
    "#@title Figure Settings\n",
    "import ipywidgets as widgets       # interactive display\n",
    "%config InlineBackend.figure_format = 'retina'\n",
    "plt.style.use(\"https://raw.githubusercontent.com/NeuromatchAcademy/course-content/main/nma.mplstyle\")"
   ]
  },
  {
   "cell_type": "markdown",
   "metadata": {},
   "source": [
    "##  Plotting Functions\n"
   ]
  },
  {
   "cell_type": "code",
   "execution_count": 5,
   "metadata": {
    "cellView": "form",
    "execution": {
     "iopub.execute_input": "2023-04-17T16:41:54.120481Z",
     "iopub.status.busy": "2023-04-17T16:41:54.120030Z",
     "iopub.status.idle": "2023-04-17T16:41:54.125939Z",
     "shell.execute_reply": "2023-04-17T16:41:54.125379Z"
    },
    "tags": [
     "hide-input"
    ]
   },
   "outputs": [],
   "source": [
    "# @title Plotting Functions\n",
    "\n",
    "def visualize_components(component1, component2, labels, show=True):\n",
    "  \"\"\"\n",
    "  Plots a 2D representation of the data for visualization with categories\n",
    "  labelled as different colors.\n",
    "\n",
    "  Args:\n",
    "    component1 (numpy array of floats) : Vector of component 1 scores\n",
    "    component2 (numpy array of floats) : Vector of component 2 scores\n",
    "    labels (numpy array of floats)     : Vector corresponding to categories of\n",
    "                                         samples\n",
    "\n",
    "  Returns:\n",
    "    Nothing.\n",
    "\n",
    "  \"\"\"\n",
    "\n",
    "  plt.figure()\n",
    "  cmap = plt.cm.get_cmap('tab10')\n",
    "  plt.scatter(x=component1, y=component2, c=labels, cmap=cmap)\n",
    "  plt.xlabel('Component 1')\n",
    "  plt.ylabel('Component 2')\n",
    "  plt.colorbar(ticks=range(10))\n",
    "  plt.clim(-0.5, 9.5)\n",
    "  if show:\n",
    "    plt.show()"
   ]
  },
  {
   "cell_type": "markdown",
   "metadata": {
    "execution": {}
   },
   "source": [
    "---\n",
    "# Section 1: Visualize MNIST in 2D using PCA\n",
    "\n",
    "In this exercise, we'll visualize the first few components of the MNIST dataset to look for evidence of structure in the data. But in this tutorial, we will also be interested in the label of each image (i.e., which numeral it is from 0 to 9). Start by running the following cell to reload the MNIST dataset (this takes a few seconds). "
   ]
  },
  {
   "cell_type": "code",
   "execution_count": 6,
   "metadata": {
    "execution": {
     "iopub.execute_input": "2023-04-17T16:41:54.129021Z",
     "iopub.status.busy": "2023-04-17T16:41:54.128420Z",
     "iopub.status.idle": "2023-04-17T16:42:12.748177Z",
     "shell.execute_reply": "2023-04-17T16:42:12.747268Z"
    }
   },
   "outputs": [
    {
     "name": "stderr",
     "output_type": "stream",
     "text": [
      "/home/runner/work/course-content/course-content/.tox/run/lib/python3.11/site-packages/sklearn/datasets/_openml.py:968: FutureWarning: The default value of `parser` will change from `'liac-arff'` to `'auto'` in 1.4. You can set `parser='auto'` to silence this warning. Therefore, an `ImportError` will be raised from 1.4 if the dataset is dense and pandas is not installed. Note that the pandas parser may return different data types. See the Notes Section in fetch_openml's API doc for details.\n",
      "  warn(\n"
     ]
    }
   ],
   "source": [
    "from sklearn.datasets import fetch_openml\n",
    "\n",
    "# Get images\n",
    "mnist = fetch_openml(name='mnist_784', as_frame=False)\n",
    "X_all = mnist.data\n",
    "\n",
    "# Get labels\n",
    "labels_all = np.array([int(k) for k in mnist.target])"
   ]
  },
  {
   "cell_type": "markdown",
   "metadata": {
    "execution": {}
   },
   "source": [
    "**Note:** We saved the complete dataset as `X_all` and the labels as `labels_all`."
   ]
  },
  {
   "cell_type": "markdown",
   "metadata": {
    "execution": {}
   },
   "source": [
    "To perform PCA, we now will use the method implemented in sklearn. Run the following cell to set the parameters of PCA - we will only look at the top 2 components because we will be visualizing the data in 2D."
   ]
  },
  {
   "cell_type": "code",
   "execution_count": 7,
   "metadata": {
    "execution": {
     "iopub.execute_input": "2023-04-17T16:42:12.752149Z",
     "iopub.status.busy": "2023-04-17T16:42:12.751803Z",
     "iopub.status.idle": "2023-04-17T16:42:15.981648Z",
     "shell.execute_reply": "2023-04-17T16:42:15.981097Z"
    }
   },
   "outputs": [
    {
     "data": {
      "text/html": [
       "<style>#sk-container-id-1 {color: black;background-color: white;}#sk-container-id-1 pre{padding: 0;}#sk-container-id-1 div.sk-toggleable {background-color: white;}#sk-container-id-1 label.sk-toggleable__label {cursor: pointer;display: block;width: 100%;margin-bottom: 0;padding: 0.3em;box-sizing: border-box;text-align: center;}#sk-container-id-1 label.sk-toggleable__label-arrow:before {content: \"▸\";float: left;margin-right: 0.25em;color: #696969;}#sk-container-id-1 label.sk-toggleable__label-arrow:hover:before {color: black;}#sk-container-id-1 div.sk-estimator:hover label.sk-toggleable__label-arrow:before {color: black;}#sk-container-id-1 div.sk-toggleable__content {max-height: 0;max-width: 0;overflow: hidden;text-align: left;background-color: #f0f8ff;}#sk-container-id-1 div.sk-toggleable__content pre {margin: 0.2em;color: black;border-radius: 0.25em;background-color: #f0f8ff;}#sk-container-id-1 input.sk-toggleable__control:checked~div.sk-toggleable__content {max-height: 200px;max-width: 100%;overflow: auto;}#sk-container-id-1 input.sk-toggleable__control:checked~label.sk-toggleable__label-arrow:before {content: \"▾\";}#sk-container-id-1 div.sk-estimator input.sk-toggleable__control:checked~label.sk-toggleable__label {background-color: #d4ebff;}#sk-container-id-1 div.sk-label input.sk-toggleable__control:checked~label.sk-toggleable__label {background-color: #d4ebff;}#sk-container-id-1 input.sk-hidden--visually {border: 0;clip: rect(1px 1px 1px 1px);clip: rect(1px, 1px, 1px, 1px);height: 1px;margin: -1px;overflow: hidden;padding: 0;position: absolute;width: 1px;}#sk-container-id-1 div.sk-estimator {font-family: monospace;background-color: #f0f8ff;border: 1px dotted black;border-radius: 0.25em;box-sizing: border-box;margin-bottom: 0.5em;}#sk-container-id-1 div.sk-estimator:hover {background-color: #d4ebff;}#sk-container-id-1 div.sk-parallel-item::after {content: \"\";width: 100%;border-bottom: 1px solid gray;flex-grow: 1;}#sk-container-id-1 div.sk-label:hover label.sk-toggleable__label {background-color: #d4ebff;}#sk-container-id-1 div.sk-serial::before {content: \"\";position: absolute;border-left: 1px solid gray;box-sizing: border-box;top: 0;bottom: 0;left: 50%;z-index: 0;}#sk-container-id-1 div.sk-serial {display: flex;flex-direction: column;align-items: center;background-color: white;padding-right: 0.2em;padding-left: 0.2em;position: relative;}#sk-container-id-1 div.sk-item {position: relative;z-index: 1;}#sk-container-id-1 div.sk-parallel {display: flex;align-items: stretch;justify-content: center;background-color: white;position: relative;}#sk-container-id-1 div.sk-item::before, #sk-container-id-1 div.sk-parallel-item::before {content: \"\";position: absolute;border-left: 1px solid gray;box-sizing: border-box;top: 0;bottom: 0;left: 50%;z-index: -1;}#sk-container-id-1 div.sk-parallel-item {display: flex;flex-direction: column;z-index: 1;position: relative;background-color: white;}#sk-container-id-1 div.sk-parallel-item:first-child::after {align-self: flex-end;width: 50%;}#sk-container-id-1 div.sk-parallel-item:last-child::after {align-self: flex-start;width: 50%;}#sk-container-id-1 div.sk-parallel-item:only-child::after {width: 0;}#sk-container-id-1 div.sk-dashed-wrapped {border: 1px dashed gray;margin: 0 0.4em 0.5em 0.4em;box-sizing: border-box;padding-bottom: 0.4em;background-color: white;}#sk-container-id-1 div.sk-label label {font-family: monospace;font-weight: bold;display: inline-block;line-height: 1.2em;}#sk-container-id-1 div.sk-label-container {text-align: center;}#sk-container-id-1 div.sk-container {/* jupyter's `normalize.less` sets `[hidden] { display: none; }` but bootstrap.min.css set `[hidden] { display: none !important; }` so we also need the `!important` here to be able to override the default hidden behavior on the sphinx rendered scikit-learn.org. See: https://github.com/scikit-learn/scikit-learn/issues/21755 */display: inline-block !important;position: relative;}#sk-container-id-1 div.sk-text-repr-fallback {display: none;}</style><div id=\"sk-container-id-1\" class=\"sk-top-container\"><div class=\"sk-text-repr-fallback\"><pre>PCA(n_components=2)</pre><b>In a Jupyter environment, please rerun this cell to show the HTML representation or trust the notebook. <br />On GitHub, the HTML representation is unable to render, please try loading this page with nbviewer.org.</b></div><div class=\"sk-container\" hidden><div class=\"sk-item\"><div class=\"sk-estimator sk-toggleable\"><input class=\"sk-toggleable__control sk-hidden--visually\" id=\"sk-estimator-id-1\" type=\"checkbox\" checked><label for=\"sk-estimator-id-1\" class=\"sk-toggleable__label sk-toggleable__label-arrow\">PCA</label><div class=\"sk-toggleable__content\"><pre>PCA(n_components=2)</pre></div></div></div></div></div>"
      ],
      "text/plain": [
       "PCA(n_components=2)"
      ]
     },
     "execution_count": 7,
     "metadata": {},
     "output_type": "execute_result"
    }
   ],
   "source": [
    "from sklearn.decomposition import PCA\n",
    "\n",
    "# Initializes PCA\n",
    "pca_model = PCA(n_components=2)\n",
    "\n",
    "# Performs PCA\n",
    "pca_model.fit(X_all)"
   ]
  },
  {
   "cell_type": "markdown",
   "metadata": {
    "execution": {}
   },
   "source": [
    "## Coding Exercise 1: Visualization of MNIST in 2D using PCA\n",
    "\n",
    "Fill in the code below to perform PCA and visualize the top two  components. For better visualization, take only the first 2,000 samples of the data (this will also make t-SNE much faster in the following section of the tutorial so don't skip this step!)\n",
    "\n",
    "**Suggestions:**\n",
    "- Truncate the data matrix at 2,000 samples. You will also need to truncate the array of labels.\n",
    "- Perform PCA on the truncated data.\n",
    "- Use the function `visualize_components` to plot the labeled data."
   ]
  },
  {
   "cell_type": "code",
   "execution_count": 8,
   "metadata": {
    "execution": {
     "iopub.execute_input": "2023-04-17T16:42:15.985869Z",
     "iopub.status.busy": "2023-04-17T16:42:15.984805Z",
     "iopub.status.idle": "2023-04-17T16:42:15.989760Z",
     "shell.execute_reply": "2023-04-17T16:42:15.989271Z"
    }
   },
   "outputs": [
    {
     "name": "stdout",
     "output_type": "stream",
     "text": [
      "Help on function visualize_components in module __main__:\n",
      "\n",
      "visualize_components(component1, component2, labels, show=True)\n",
      "    Plots a 2D representation of the data for visualization with categories\n",
      "    labelled as different colors.\n",
      "    \n",
      "    Args:\n",
      "      component1 (numpy array of floats) : Vector of component 1 scores\n",
      "      component2 (numpy array of floats) : Vector of component 2 scores\n",
      "      labels (numpy array of floats)     : Vector corresponding to categories of\n",
      "                                           samples\n",
      "    \n",
      "    Returns:\n",
      "      Nothing.\n",
      "\n",
      "Help on method transform in module sklearn.decomposition._base:\n",
      "\n",
      "transform(X) method of sklearn.decomposition._pca.PCA instance\n",
      "    Apply dimensionality reduction to X.\n",
      "    \n",
      "    X is projected on the first principal components previously extracted\n",
      "    from a training set.\n",
      "    \n",
      "    Parameters\n",
      "    ----------\n",
      "    X : array-like of shape (n_samples, n_features)\n",
      "        New data, where `n_samples` is the number of samples\n",
      "        and `n_features` is the number of features.\n",
      "    \n",
      "    Returns\n",
      "    -------\n",
      "    X_new : array-like of shape (n_samples, n_components)\n",
      "        Projection of X in the first principal components, where `n_samples`\n",
      "        is the number of samples and `n_components` is the number of the components.\n",
      "\n"
     ]
    }
   ],
   "source": [
    "help(visualize_components)\n",
    "help(pca_model.transform)"
   ]
  },
  {
   "cell_type": "code",
   "execution_count": 9,
   "metadata": {
    "execution": {
     "iopub.execute_input": "2023-04-17T16:42:15.992199Z",
     "iopub.status.busy": "2023-04-17T16:42:15.991861Z",
     "iopub.status.idle": "2023-04-17T16:42:16.234958Z",
     "shell.execute_reply": "2023-04-17T16:42:16.234143Z"
    }
   },
   "outputs": [
    {
     "ename": "NotImplementedError",
     "evalue": "Student exercise: perform PCA",
     "output_type": "error",
     "traceback": [
      "\u001b[0;31m---------------------------------------------------------------------------\u001b[0m",
      "\u001b[0;31mNotImplementedError\u001b[0m                       Traceback (most recent call last)",
      "Cell \u001b[0;32mIn[9], line 4\u001b[0m\n\u001b[1;32m      1\u001b[0m \u001b[38;5;66;03m#################################################\u001b[39;00m\n\u001b[1;32m      2\u001b[0m \u001b[38;5;66;03m## TODO for students: take only 2,000 samples and perform PCA\u001b[39;00m\n\u001b[1;32m      3\u001b[0m \u001b[38;5;66;03m# Comment once you've completed the code\u001b[39;00m\n\u001b[0;32m----> 4\u001b[0m \u001b[38;5;28;01mraise\u001b[39;00m \u001b[38;5;167;01mNotImplementedError\u001b[39;00m(\u001b[38;5;124m\"\u001b[39m\u001b[38;5;124mStudent exercise: perform PCA\u001b[39m\u001b[38;5;124m\"\u001b[39m)\n\u001b[1;32m      5\u001b[0m \u001b[38;5;66;03m#################################################\u001b[39;00m\n\u001b[1;32m      6\u001b[0m \n\u001b[1;32m      7\u001b[0m \u001b[38;5;66;03m# Take only the first 2000 samples with the corresponding labels\u001b[39;00m\n\u001b[1;32m      8\u001b[0m X, labels \u001b[38;5;241m=\u001b[39m \u001b[38;5;241m.\u001b[39m\u001b[38;5;241m.\u001b[39m\u001b[38;5;241m.\u001b[39m\n",
      "\u001b[0;31mNotImplementedError\u001b[0m: Student exercise: perform PCA"
     ]
    }
   ],
   "source": [
    "#################################################\n",
    "## TODO for students: take only 2,000 samples and perform PCA\n",
    "# Comment once you've completed the code\n",
    "raise NotImplementedError(\"Student exercise: perform PCA\")\n",
    "#################################################\n",
    "\n",
    "# Take only the first 2000 samples with the corresponding labels\n",
    "X, labels = ...\n",
    "\n",
    "# Perform PCA\n",
    "scores = pca_model.transform(X)\n",
    "\n",
    "# Plot the data and reconstruction\n",
    "visualize_components(...)"
   ]
  },
  {
   "cell_type": "markdown",
   "metadata": {
    "colab_type": "text",
    "execution": {}
   },
   "source": [
    "[*Click for solution*](https://github.com/NeuromatchAcademy/course-content/tree/main//tutorials/W1D4_DimensionalityReduction/solutions/W1D4_Tutorial4_Solution_58cf80ab.py)\n",
    "\n",
    "*Example output:*\n",
    "\n",
    "<img alt='Solution hint' align='left' width=797.0 height=561.0 src=https://raw.githubusercontent.com/NeuromatchAcademy/course-content/main/tutorials/W1D4_DimensionalityReduction/static/W1D4_Tutorial4_Solution_58cf80ab_0.png>\n",
    "\n"
   ]
  },
  {
   "cell_type": "markdown",
   "metadata": {
    "execution": {}
   },
   "source": [
    "## Think! 1: PCA Visualization\n",
    "\n",
    "1.  What do you see? Are different samples corresponding to the same numeral clustered together? Is there much overlap?\n",
    "2.  Do some pairs of numerals appear to be more distinguishable than others?"
   ]
  },
  {
   "cell_type": "markdown",
   "metadata": {
    "colab_type": "text",
    "execution": {}
   },
   "source": [
    "[*Click for solution*](https://github.com/NeuromatchAcademy/course-content/tree/main//tutorials/W1D4_DimensionalityReduction/solutions/W1D4_Tutorial4_Solution_c2749fdf.py)\n",
    "\n"
   ]
  },
  {
   "cell_type": "markdown",
   "metadata": {
    "execution": {}
   },
   "source": [
    "---\n",
    "# Section 2: Visualize MNIST in 2D using t-SNE\n",
    "\n",
    "*Estimated timing to here from start of tutorial: 15 min*\n"
   ]
  },
  {
   "cell_type": "markdown",
   "metadata": {},
   "source": [
    "##  Video 2: Nonlinear Methods\n"
   ]
  },
  {
   "cell_type": "code",
   "execution_count": 10,
   "metadata": {
    "cellView": "form",
    "execution": {
     "iopub.execute_input": "2023-04-17T16:42:16.238428Z",
     "iopub.status.busy": "2023-04-17T16:42:16.237985Z",
     "iopub.status.idle": "2023-04-17T16:42:16.272831Z",
     "shell.execute_reply": "2023-04-17T16:42:16.272156Z"
    },
    "tags": [
     "remove-input"
    ]
   },
   "outputs": [
    {
     "data": {
      "application/vnd.jupyter.widget-view+json": {
       "model_id": "22ce1701dddc41e28de1a471c7fe2d11",
       "version_major": 2,
       "version_minor": 0
      },
      "text/plain": [
       "Tab(children=(Output(), Output()), selected_index=0, titles=('Youtube', 'Bilibili'))"
      ]
     },
     "metadata": {},
     "output_type": "display_data"
    }
   ],
   "source": [
    "# @title Video 2: Nonlinear Methods\n",
    "from ipywidgets import widgets\n",
    "\n",
    "out2 = widgets.Output()\n",
    "with out2:\n",
    "  from IPython.display import IFrame\n",
    "  class BiliVideo(IFrame):\n",
    "      def __init__(self, id, page=1, width=400, height=300, **kwargs):\n",
    "          self.id=id\n",
    "          src = 'https://player.bilibili.com/player.html?bvid={0}&page={1}'.format(id, page)\n",
    "          super(BiliVideo, self).__init__(src, width, height, **kwargs)\n",
    "\n",
    "  video = BiliVideo(id=\"BV14Z4y1u7HG\", width=730, height=410, fs=1)\n",
    "  print('Video available at https://www.bilibili.com/video/{0}'.format(video.id))\n",
    "  display(video)\n",
    "\n",
    "out1 = widgets.Output()\n",
    "with out1:\n",
    "  from IPython.display import YouTubeVideo\n",
    "  video = YouTubeVideo(id=\"5Xpb0YaN5Ms\", width=730, height=410, fs=1, rel=0)\n",
    "  print('Video available at https://youtube.com/watch?v=' + video.id)\n",
    "  display(video)\n",
    "\n",
    "out = widgets.Tab([out1, out2])\n",
    "out.titles = ['Youtube', 'Bilibili']\n",
    "\n",
    "display(out)"
   ]
  },
  {
   "cell_type": "markdown",
   "metadata": {
    "execution": {}
   },
   "source": [
    "Next we will analyze the same data using t-SNE, a nonlinear dimensionality reduction method that is useful for visualizing high dimensional data in 2D or 3D. Run the cell below to get started. "
   ]
  },
  {
   "cell_type": "code",
   "execution_count": 11,
   "metadata": {
    "execution": {
     "iopub.execute_input": "2023-04-17T16:42:16.284082Z",
     "iopub.status.busy": "2023-04-17T16:42:16.283860Z",
     "iopub.status.idle": "2023-04-17T16:42:16.327743Z",
     "shell.execute_reply": "2023-04-17T16:42:16.327090Z"
    }
   },
   "outputs": [],
   "source": [
    "from sklearn.manifold import TSNE\n",
    "tsne_model = TSNE(n_components=2, perplexity=30, random_state=2020)"
   ]
  },
  {
   "cell_type": "markdown",
   "metadata": {
    "execution": {}
   },
   "source": [
    "## Coding Exercise 2.1: Apply t-SNE on MNIST\n",
    "First, we'll run t-SNE on the data to explore whether we can see more structure. The cell above defined the parameters that we will use to find our embedding (i.e, the low-dimensional representation of the data) and stored them in `model`. To run t-SNE on our data, use the function `model.fit_transform`.\n",
    "\n",
    "**Suggestions:**\n",
    "- Run t-SNE using the function `model.fit_transform`.\n",
    "- Plot the result data using `visualize_components`."
   ]
  },
  {
   "cell_type": "code",
   "execution_count": 12,
   "metadata": {
    "execution": {
     "iopub.execute_input": "2023-04-17T16:42:16.330594Z",
     "iopub.status.busy": "2023-04-17T16:42:16.330211Z",
     "iopub.status.idle": "2023-04-17T16:42:16.333781Z",
     "shell.execute_reply": "2023-04-17T16:42:16.333284Z"
    }
   },
   "outputs": [
    {
     "name": "stdout",
     "output_type": "stream",
     "text": [
      "Help on method fit_transform in module sklearn.manifold._t_sne:\n",
      "\n",
      "fit_transform(X, y=None) method of sklearn.manifold._t_sne.TSNE instance\n",
      "    Fit X into an embedded space and return that transformed output.\n",
      "    \n",
      "    Parameters\n",
      "    ----------\n",
      "    X : {array-like, sparse matrix} of shape (n_samples, n_features) or             (n_samples, n_samples)\n",
      "        If the metric is 'precomputed' X must be a square distance\n",
      "        matrix. Otherwise it contains a sample per row. If the method\n",
      "        is 'exact', X may be a sparse matrix of type 'csr', 'csc'\n",
      "        or 'coo'. If the method is 'barnes_hut' and the metric is\n",
      "        'precomputed', X may be a precomputed sparse graph.\n",
      "    \n",
      "    y : None\n",
      "        Ignored.\n",
      "    \n",
      "    Returns\n",
      "    -------\n",
      "    X_new : ndarray of shape (n_samples, n_components)\n",
      "        Embedding of the training data in low-dimensional space.\n",
      "\n"
     ]
    }
   ],
   "source": [
    "help(tsne_model.fit_transform)"
   ]
  },
  {
   "cell_type": "code",
   "execution_count": 13,
   "metadata": {
    "execution": {
     "iopub.execute_input": "2023-04-17T16:42:16.336261Z",
     "iopub.status.busy": "2023-04-17T16:42:16.335762Z",
     "iopub.status.idle": "2023-04-17T16:42:16.351852Z",
     "shell.execute_reply": "2023-04-17T16:42:16.351184Z"
    }
   },
   "outputs": [
    {
     "ename": "NotImplementedError",
     "evalue": "Student exercise: perform t-SNE",
     "output_type": "error",
     "traceback": [
      "\u001b[0;31m---------------------------------------------------------------------------\u001b[0m",
      "\u001b[0;31mNotImplementedError\u001b[0m                       Traceback (most recent call last)",
      "Cell \u001b[0;32mIn[13], line 4\u001b[0m\n\u001b[1;32m      1\u001b[0m \u001b[38;5;66;03m#################################################\u001b[39;00m\n\u001b[1;32m      2\u001b[0m \u001b[38;5;66;03m## TODO for students\u001b[39;00m\n\u001b[1;32m      3\u001b[0m \u001b[38;5;66;03m# Comment once you've completed the code\u001b[39;00m\n\u001b[0;32m----> 4\u001b[0m \u001b[38;5;28;01mraise\u001b[39;00m \u001b[38;5;167;01mNotImplementedError\u001b[39;00m(\u001b[38;5;124m\"\u001b[39m\u001b[38;5;124mStudent exercise: perform t-SNE\u001b[39m\u001b[38;5;124m\"\u001b[39m)\n\u001b[1;32m      5\u001b[0m \u001b[38;5;66;03m#################################################\u001b[39;00m\n\u001b[1;32m      6\u001b[0m \n\u001b[1;32m      7\u001b[0m \u001b[38;5;66;03m# Perform t-SNE\u001b[39;00m\n\u001b[1;32m      8\u001b[0m embed \u001b[38;5;241m=\u001b[39m \u001b[38;5;241m.\u001b[39m\u001b[38;5;241m.\u001b[39m\u001b[38;5;241m.\u001b[39m\n",
      "\u001b[0;31mNotImplementedError\u001b[0m: Student exercise: perform t-SNE"
     ]
    }
   ],
   "source": [
    "#################################################\n",
    "## TODO for students\n",
    "# Comment once you've completed the code\n",
    "raise NotImplementedError(\"Student exercise: perform t-SNE\")\n",
    "#################################################\n",
    "\n",
    "# Perform t-SNE\n",
    "embed = ...\n",
    "\n",
    "# Visualize the data\n",
    "visualize_components(..., ..., labels)"
   ]
  },
  {
   "cell_type": "markdown",
   "metadata": {
    "colab_type": "text",
    "execution": {}
   },
   "source": [
    "[*Click for solution*](https://github.com/NeuromatchAcademy/course-content/tree/main//tutorials/W1D4_DimensionalityReduction/solutions/W1D4_Tutorial4_Solution_4e6f6604.py)\n",
    "\n",
    "*Example output:*\n",
    "\n",
    "<img alt='Solution hint' align='left' width=725.0 height=577.0 src=https://raw.githubusercontent.com/NeuromatchAcademy/course-content/main/tutorials/W1D4_DimensionalityReduction/static/W1D4_Tutorial4_Solution_4e6f6604_1.png>\n",
    "\n"
   ]
  },
  {
   "cell_type": "markdown",
   "metadata": {
    "execution": {}
   },
   "source": [
    "## Coding Exercise 2.2: Run t-SNE with different perplexities\n",
    "\n",
    "Unlike PCA, t-SNE has a free parameter (the perplexity) that roughly determines how global vs. local information is weighted. Here we'll take a look at how the perplexity affects our interpretation of the results. \n",
    "\n",
    "**Steps:**\n",
    "- Rerun t-SNE (don't forget to re-initialize using the function `TSNE` as above) with a perplexity of 50, 5 and 2."
   ]
  },
  {
   "cell_type": "code",
   "execution_count": 14,
   "metadata": {
    "execution": {
     "iopub.execute_input": "2023-04-17T16:42:16.354749Z",
     "iopub.status.busy": "2023-04-17T16:42:16.354277Z",
     "iopub.status.idle": "2023-04-17T16:42:16.374778Z",
     "shell.execute_reply": "2023-04-17T16:42:16.374063Z"
    }
   },
   "outputs": [
    {
     "ename": "NameError",
     "evalue": "name 'X' is not defined",
     "output_type": "error",
     "traceback": [
      "\u001b[0;31m---------------------------------------------------------------------------\u001b[0m",
      "\u001b[0;31mNameError\u001b[0m                                 Traceback (most recent call last)",
      "Cell \u001b[0;32mIn[14], line 35\u001b[0m\n\u001b[1;32m     33\u001b[0m \u001b[38;5;66;03m# Visualize\u001b[39;00m\n\u001b[1;32m     34\u001b[0m values \u001b[38;5;241m=\u001b[39m [\u001b[38;5;241m50\u001b[39m, \u001b[38;5;241m5\u001b[39m, \u001b[38;5;241m2\u001b[39m]\n\u001b[0;32m---> 35\u001b[0m explore_perplexity(values, \u001b[43mX\u001b[49m, labels)\n",
      "\u001b[0;31mNameError\u001b[0m: name 'X' is not defined"
     ]
    }
   ],
   "source": [
    "def explore_perplexity(values, X, labels):\n",
    "  \"\"\"\n",
    "  Plots a 2D representation of the data for visualization with categories\n",
    "  labeled as different colors using different perplexities.\n",
    "\n",
    "  Args:\n",
    "    values (list of floats) : list with perplexities to be visualized\n",
    "    X (np.ndarray of floats) : matrix with the dataset\n",
    "    labels (np.ndarray of int) : array with the labels\n",
    "\n",
    "  Returns:\n",
    "    Nothing.\n",
    "\n",
    "  \"\"\"\n",
    "  for perp in values:\n",
    "\n",
    "    #################################################\n",
    "    ## TO DO for students: Insert your code here to redefine the t-SNE \"model\"\n",
    "    ## while setting the perplexity perform t-SNE on the data and plot the\n",
    "    ## results for perplexity = 50, 5, and 2 (set random_state to 2020\n",
    "    # Comment these lines when you complete the function\n",
    "    raise NotImplementedError(\"Student Exercise! Explore t-SNE with different perplexity\")\n",
    "    #################################################\n",
    "\n",
    "    # Perform t-SNE\n",
    "    tsne_model = ...\n",
    "\n",
    "    embed = tsne_model.fit_transform(X)\n",
    "    visualize_components(embed[:, 0], embed[:, 1], labels, show=False)\n",
    "    plt.title(f\"perplexity: {perp}\")\n",
    "\n",
    "\n",
    "# Visualize\n",
    "values = [50, 5, 2]\n",
    "explore_perplexity(values, X, labels)"
   ]
  },
  {
   "cell_type": "markdown",
   "metadata": {
    "colab_type": "text",
    "execution": {}
   },
   "source": [
    "[*Click for solution*](https://github.com/NeuromatchAcademy/course-content/tree/main//tutorials/W1D4_DimensionalityReduction/solutions/W1D4_Tutorial4_Solution_2e8ff78c.py)\n",
    "\n",
    "*Example output:*\n",
    "\n",
    "<img alt='Solution hint' align='left' width=724.0 height=577.0 src=https://raw.githubusercontent.com/NeuromatchAcademy/course-content/main/tutorials/W1D4_DimensionalityReduction/static/W1D4_Tutorial4_Solution_2e8ff78c_1.png>\n",
    "\n",
    "<img alt='Solution hint' align='left' width=724.0 height=577.0 src=https://raw.githubusercontent.com/NeuromatchAcademy/course-content/main/tutorials/W1D4_DimensionalityReduction/static/W1D4_Tutorial4_Solution_2e8ff78c_3.png>\n",
    "\n",
    "<img alt='Solution hint' align='left' width=725.0 height=577.0 src=https://raw.githubusercontent.com/NeuromatchAcademy/course-content/main/tutorials/W1D4_DimensionalityReduction/static/W1D4_Tutorial4_Solution_2e8ff78c_5.png>\n",
    "\n"
   ]
  },
  {
   "cell_type": "markdown",
   "metadata": {
    "execution": {}
   },
   "source": [
    "## Think! 2: t-SNE Visualization\n",
    "\n",
    "1. What changed compared to your previous results using perplexity equal to 50? Do you see any clusters that have a different structure than before? \n",
    "2. What changed in the embedding structure for perplexity equals to 5 or 2?"
   ]
  },
  {
   "cell_type": "markdown",
   "metadata": {
    "execution": {}
   },
   "source": [
    "---\n",
    "# Summary"
   ]
  },
  {
   "cell_type": "markdown",
   "metadata": {
    "execution": {}
   },
   "source": [
    "*Estimated timing of tutorial: 35 minutes*\n",
    "\n",
    "* We learned the difference between linear and nonlinear dimensionality reduction. While nonlinear methods can be more powerful, they can also be sensitive to noise. In contrast, linear methods are useful for their simplicity and robustness.\n",
    "* We compared PCA and t-SNE for data visualization. Using t-SNE, we could visualize clusters in the data corresponding to different digits. While PCA was able to separate some clusters (e.g., 0 vs 1), it performed poorly overall.\n",
    "* However, the results of t-SNE can change depending on the choice of perplexity. To learn more, we recommend this Distill paper by [Wattenberg, _et al._, 2016](http://doi.org/10.23915/distill.00002).\n"
   ]
  }
 ],
 "metadata": {
  "colab": {
   "collapsed_sections": [],
   "include_colab_link": true,
   "name": "W1D4_Tutorial4",
   "provenance": [],
   "toc_visible": true
  },
  "kernel": {
   "display_name": "Python 3",
   "language": "python",
   "name": "python3"
  },
  "kernelspec": {
   "display_name": "Python 3",
   "language": "python",
   "name": "python3"
  },
  "language_info": {
   "codemirror_mode": {
    "name": "ipython",
    "version": 3
   },
   "file_extension": ".py",
   "mimetype": "text/x-python",
   "name": "python",
   "nbconvert_exporter": "python",
   "pygments_lexer": "ipython3",
   "version": "3.11.3"
  },
  "widgets": {
   "application/vnd.jupyter.widget-state+json": {
    "state": {
     "1e916bbeac534592b843477b258914a7": {
      "model_module": "@jupyter-widgets/output",
      "model_module_version": "1.0.0",
      "model_name": "OutputModel",
      "state": {
       "_dom_classes": [],
       "_model_module": "@jupyter-widgets/output",
       "_model_module_version": "1.0.0",
       "_model_name": "OutputModel",
       "_view_count": null,
       "_view_module": "@jupyter-widgets/output",
       "_view_module_version": "1.0.0",
       "_view_name": "OutputView",
       "layout": "IPY_MODEL_5db92a16be354456b0a4788b8d4be8c2",
       "msg_id": "",
       "outputs": [
        {
         "name": "stdout",
         "output_type": "stream",
         "text": "Video available at https://www.bilibili.com/video/BV14Z4y1u7HG\n"
        },
        {
         "data": {
          "text/html": "\n        <iframe\n            width=\"730\"\n            height=\"410\"\n            src=\"https://player.bilibili.com/player.html?bvid=BV14Z4y1u7HG&page=1?fs=1\"\n            frameborder=\"0\"\n            allowfullscreen\n            \n        ></iframe>\n        ",
          "text/plain": "<__main__.BiliVideo at 0x7f7d99107650>"
         },
         "metadata": {},
         "output_type": "display_data"
        }
       ],
       "tabbable": null,
       "tooltip": null
      }
     },
     "22ce1701dddc41e28de1a471c7fe2d11": {
      "model_module": "@jupyter-widgets/controls",
      "model_module_version": "2.0.0",
      "model_name": "TabModel",
      "state": {
       "_dom_classes": [],
       "_model_module": "@jupyter-widgets/controls",
       "_model_module_version": "2.0.0",
       "_model_name": "TabModel",
       "_view_count": null,
       "_view_module": "@jupyter-widgets/controls",
       "_view_module_version": "2.0.0",
       "_view_name": "TabView",
       "box_style": "",
       "children": [
        "IPY_MODEL_8e61a1bee85b4c9f85fd2eb76ff5e3d2",
        "IPY_MODEL_1e916bbeac534592b843477b258914a7"
       ],
       "layout": "IPY_MODEL_81ddf600111848b0999db49c1c2e98c9",
       "selected_index": 0,
       "tabbable": null,
       "titles": [
        "Youtube",
        "Bilibili"
       ],
       "tooltip": null
      }
     },
     "5db92a16be354456b0a4788b8d4be8c2": {
      "model_module": "@jupyter-widgets/base",
      "model_module_version": "2.0.0",
      "model_name": "LayoutModel",
      "state": {
       "_model_module": "@jupyter-widgets/base",
       "_model_module_version": "2.0.0",
       "_model_name": "LayoutModel",
       "_view_count": null,
       "_view_module": "@jupyter-widgets/base",
       "_view_module_version": "2.0.0",
       "_view_name": "LayoutView",
       "align_content": null,
       "align_items": null,
       "align_self": null,
       "border_bottom": null,
       "border_left": null,
       "border_right": null,
       "border_top": null,
       "bottom": null,
       "display": null,
       "flex": null,
       "flex_flow": null,
       "grid_area": null,
       "grid_auto_columns": null,
       "grid_auto_flow": null,
       "grid_auto_rows": null,
       "grid_column": null,
       "grid_gap": null,
       "grid_row": null,
       "grid_template_areas": null,
       "grid_template_columns": null,
       "grid_template_rows": null,
       "height": null,
       "justify_content": null,
       "justify_items": null,
       "left": null,
       "margin": null,
       "max_height": null,
       "max_width": null,
       "min_height": null,
       "min_width": null,
       "object_fit": null,
       "object_position": null,
       "order": null,
       "overflow": null,
       "padding": null,
       "right": null,
       "top": null,
       "visibility": null,
       "width": null
      }
     },
     "5f6e826c6bea40b98ab09955ece1434b": {
      "model_module": "@jupyter-widgets/controls",
      "model_module_version": "2.0.0",
      "model_name": "TabModel",
      "state": {
       "_dom_classes": [],
       "_model_module": "@jupyter-widgets/controls",
       "_model_module_version": "2.0.0",
       "_model_name": "TabModel",
       "_view_count": null,
       "_view_module": "@jupyter-widgets/controls",
       "_view_module_version": "2.0.0",
       "_view_name": "TabView",
       "box_style": "",
       "children": [
        "IPY_MODEL_ea10f7913e324fc0814160f8b5f00d2c",
        "IPY_MODEL_d1b23ba0eaed4a53bd1c0bb801cd86a2"
       ],
       "layout": "IPY_MODEL_a6e99fe8a24e4142b4a4ecf21d5abac4",
       "selected_index": 0,
       "tabbable": null,
       "titles": [
        "Youtube",
        "Bilibili"
       ],
       "tooltip": null
      }
     },
     "81ddf600111848b0999db49c1c2e98c9": {
      "model_module": "@jupyter-widgets/base",
      "model_module_version": "2.0.0",
      "model_name": "LayoutModel",
      "state": {
       "_model_module": "@jupyter-widgets/base",
       "_model_module_version": "2.0.0",
       "_model_name": "LayoutModel",
       "_view_count": null,
       "_view_module": "@jupyter-widgets/base",
       "_view_module_version": "2.0.0",
       "_view_name": "LayoutView",
       "align_content": null,
       "align_items": null,
       "align_self": null,
       "border_bottom": null,
       "border_left": null,
       "border_right": null,
       "border_top": null,
       "bottom": null,
       "display": null,
       "flex": null,
       "flex_flow": null,
       "grid_area": null,
       "grid_auto_columns": null,
       "grid_auto_flow": null,
       "grid_auto_rows": null,
       "grid_column": null,
       "grid_gap": null,
       "grid_row": null,
       "grid_template_areas": null,
       "grid_template_columns": null,
       "grid_template_rows": null,
       "height": null,
       "justify_content": null,
       "justify_items": null,
       "left": null,
       "margin": null,
       "max_height": null,
       "max_width": null,
       "min_height": null,
       "min_width": null,
       "object_fit": null,
       "object_position": null,
       "order": null,
       "overflow": null,
       "padding": null,
       "right": null,
       "top": null,
       "visibility": null,
       "width": null
      }
     },
     "8dabdc4d3be64ba8b897c5927f39d694": {
      "model_module": "@jupyter-widgets/base",
      "model_module_version": "2.0.0",
      "model_name": "LayoutModel",
      "state": {
       "_model_module": "@jupyter-widgets/base",
       "_model_module_version": "2.0.0",
       "_model_name": "LayoutModel",
       "_view_count": null,
       "_view_module": "@jupyter-widgets/base",
       "_view_module_version": "2.0.0",
       "_view_name": "LayoutView",
       "align_content": null,
       "align_items": null,
       "align_self": null,
       "border_bottom": null,
       "border_left": null,
       "border_right": null,
       "border_top": null,
       "bottom": null,
       "display": null,
       "flex": null,
       "flex_flow": null,
       "grid_area": null,
       "grid_auto_columns": null,
       "grid_auto_flow": null,
       "grid_auto_rows": null,
       "grid_column": null,
       "grid_gap": null,
       "grid_row": null,
       "grid_template_areas": null,
       "grid_template_columns": null,
       "grid_template_rows": null,
       "height": null,
       "justify_content": null,
       "justify_items": null,
       "left": null,
       "margin": null,
       "max_height": null,
       "max_width": null,
       "min_height": null,
       "min_width": null,
       "object_fit": null,
       "object_position": null,
       "order": null,
       "overflow": null,
       "padding": null,
       "right": null,
       "top": null,
       "visibility": null,
       "width": null
      }
     },
     "8e61a1bee85b4c9f85fd2eb76ff5e3d2": {
      "model_module": "@jupyter-widgets/output",
      "model_module_version": "1.0.0",
      "model_name": "OutputModel",
      "state": {
       "_dom_classes": [],
       "_model_module": "@jupyter-widgets/output",
       "_model_module_version": "1.0.0",
       "_model_name": "OutputModel",
       "_view_count": null,
       "_view_module": "@jupyter-widgets/output",
       "_view_module_version": "1.0.0",
       "_view_name": "OutputView",
       "layout": "IPY_MODEL_a4057bedd169438ab0ad912a2a1a0b0a",
       "msg_id": "",
       "outputs": [
        {
         "name": "stdout",
         "output_type": "stream",
         "text": "Video available at https://youtube.com/watch?v=5Xpb0YaN5Ms\n"
        },
        {
         "data": {
          "image/jpeg": "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\n",
          "text/html": "\n        <iframe\n            width=\"730\"\n            height=\"410\"\n            src=\"https://www.youtube.com/embed/5Xpb0YaN5Ms?fs=1&rel=0\"\n            frameborder=\"0\"\n            allowfullscreen\n            \n        ></iframe>\n        ",
          "text/plain": "<IPython.lib.display.YouTubeVideo at 0x7f7d89d8ef10>"
         },
         "metadata": {},
         "output_type": "display_data"
        }
       ],
       "tabbable": null,
       "tooltip": null
      }
     },
     "a4057bedd169438ab0ad912a2a1a0b0a": {
      "model_module": "@jupyter-widgets/base",
      "model_module_version": "2.0.0",
      "model_name": "LayoutModel",
      "state": {
       "_model_module": "@jupyter-widgets/base",
       "_model_module_version": "2.0.0",
       "_model_name": "LayoutModel",
       "_view_count": null,
       "_view_module": "@jupyter-widgets/base",
       "_view_module_version": "2.0.0",
       "_view_name": "LayoutView",
       "align_content": null,
       "align_items": null,
       "align_self": null,
       "border_bottom": null,
       "border_left": null,
       "border_right": null,
       "border_top": null,
       "bottom": null,
       "display": null,
       "flex": null,
       "flex_flow": null,
       "grid_area": null,
       "grid_auto_columns": null,
       "grid_auto_flow": null,
       "grid_auto_rows": null,
       "grid_column": null,
       "grid_gap": null,
       "grid_row": null,
       "grid_template_areas": null,
       "grid_template_columns": null,
       "grid_template_rows": null,
       "height": null,
       "justify_content": null,
       "justify_items": null,
       "left": null,
       "margin": null,
       "max_height": null,
       "max_width": null,
       "min_height": null,
       "min_width": null,
       "object_fit": null,
       "object_position": null,
       "order": null,
       "overflow": null,
       "padding": null,
       "right": null,
       "top": null,
       "visibility": null,
       "width": null
      }
     },
     "a6e99fe8a24e4142b4a4ecf21d5abac4": {
      "model_module": "@jupyter-widgets/base",
      "model_module_version": "2.0.0",
      "model_name": "LayoutModel",
      "state": {
       "_model_module": "@jupyter-widgets/base",
       "_model_module_version": "2.0.0",
       "_model_name": "LayoutModel",
       "_view_count": null,
       "_view_module": "@jupyter-widgets/base",
       "_view_module_version": "2.0.0",
       "_view_name": "LayoutView",
       "align_content": null,
       "align_items": null,
       "align_self": null,
       "border_bottom": null,
       "border_left": null,
       "border_right": null,
       "border_top": null,
       "bottom": null,
       "display": null,
       "flex": null,
       "flex_flow": null,
       "grid_area": null,
       "grid_auto_columns": null,
       "grid_auto_flow": null,
       "grid_auto_rows": null,
       "grid_column": null,
       "grid_gap": null,
       "grid_row": null,
       "grid_template_areas": null,
       "grid_template_columns": null,
       "grid_template_rows": null,
       "height": null,
       "justify_content": null,
       "justify_items": null,
       "left": null,
       "margin": null,
       "max_height": null,
       "max_width": null,
       "min_height": null,
       "min_width": null,
       "object_fit": null,
       "object_position": null,
       "order": null,
       "overflow": null,
       "padding": null,
       "right": null,
       "top": null,
       "visibility": null,
       "width": null
      }
     },
     "d1b23ba0eaed4a53bd1c0bb801cd86a2": {
      "model_module": "@jupyter-widgets/output",
      "model_module_version": "1.0.0",
      "model_name": "OutputModel",
      "state": {
       "_dom_classes": [],
       "_model_module": "@jupyter-widgets/output",
       "_model_module_version": "1.0.0",
       "_model_name": "OutputModel",
       "_view_count": null,
       "_view_module": "@jupyter-widgets/output",
       "_view_module_version": "1.0.0",
       "_view_name": "OutputView",
       "layout": "IPY_MODEL_d5df83fc9c044e02b6b1260f08d99b9d",
       "msg_id": "",
       "outputs": [
        {
         "name": "stdout",
         "output_type": "stream",
         "text": "Video available at https://www.bilibili.com/video/BV1Jf4y1R7UZ\n"
        },
        {
         "data": {
          "text/html": "\n        <iframe\n            width=\"730\"\n            height=\"410\"\n            src=\"https://player.bilibili.com/player.html?bvid=BV1Jf4y1R7UZ&page=1?fs=1\"\n            frameborder=\"0\"\n            allowfullscreen\n            \n        ></iframe>\n        ",
          "text/plain": "<__main__.BiliVideo at 0x7f7dc4849310>"
         },
         "metadata": {},
         "output_type": "display_data"
        }
       ],
       "tabbable": null,
       "tooltip": null
      }
     },
     "d5df83fc9c044e02b6b1260f08d99b9d": {
      "model_module": "@jupyter-widgets/base",
      "model_module_version": "2.0.0",
      "model_name": "LayoutModel",
      "state": {
       "_model_module": "@jupyter-widgets/base",
       "_model_module_version": "2.0.0",
       "_model_name": "LayoutModel",
       "_view_count": null,
       "_view_module": "@jupyter-widgets/base",
       "_view_module_version": "2.0.0",
       "_view_name": "LayoutView",
       "align_content": null,
       "align_items": null,
       "align_self": null,
       "border_bottom": null,
       "border_left": null,
       "border_right": null,
       "border_top": null,
       "bottom": null,
       "display": null,
       "flex": null,
       "flex_flow": null,
       "grid_area": null,
       "grid_auto_columns": null,
       "grid_auto_flow": null,
       "grid_auto_rows": null,
       "grid_column": null,
       "grid_gap": null,
       "grid_row": null,
       "grid_template_areas": null,
       "grid_template_columns": null,
       "grid_template_rows": null,
       "height": null,
       "justify_content": null,
       "justify_items": null,
       "left": null,
       "margin": null,
       "max_height": null,
       "max_width": null,
       "min_height": null,
       "min_width": null,
       "object_fit": null,
       "object_position": null,
       "order": null,
       "overflow": null,
       "padding": null,
       "right": null,
       "top": null,
       "visibility": null,
       "width": null
      }
     },
     "ea10f7913e324fc0814160f8b5f00d2c": {
      "model_module": "@jupyter-widgets/output",
      "model_module_version": "1.0.0",
      "model_name": "OutputModel",
      "state": {
       "_dom_classes": [],
       "_model_module": "@jupyter-widgets/output",
       "_model_module_version": "1.0.0",
       "_model_name": "OutputModel",
       "_view_count": null,
       "_view_module": "@jupyter-widgets/output",
       "_view_module_version": "1.0.0",
       "_view_name": "OutputView",
       "layout": "IPY_MODEL_8dabdc4d3be64ba8b897c5927f39d694",
       "msg_id": "",
       "outputs": [
        {
         "name": "stdout",
         "output_type": "stream",
         "text": "Video available at https://youtube.com/watch?v=2Zb93aOWioM\n"
        },
        {
         "data": {
          "image/jpeg": "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\n",
          "text/html": "\n        <iframe\n            width=\"730\"\n            height=\"410\"\n            src=\"https://www.youtube.com/embed/2Zb93aOWioM?fs=1&rel=0\"\n            frameborder=\"0\"\n            allowfullscreen\n            \n        ></iframe>\n        ",
          "text/plain": "<IPython.lib.display.YouTubeVideo at 0x7f7dc0757150>"
         },
         "metadata": {},
         "output_type": "display_data"
        }
       ],
       "tabbable": null,
       "tooltip": null
      }
     }
    },
    "version_major": 2,
    "version_minor": 0
   }
  }
 },
 "nbformat": 4,
 "nbformat_minor": 0
}
