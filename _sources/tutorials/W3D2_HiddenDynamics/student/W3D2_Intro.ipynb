{
 "cells": [
  {
   "cell_type": "markdown",
   "metadata": {
    "colab_type": "text",
    "execution": {},
    "id": "view-in-github"
   },
   "source": [
    "<a href=\"https://colab.research.google.com/github/NeuromatchAcademy/course-content/blob/main/tutorials/W3D2_HiddenDynamics/student/W3D2_Intro.ipynb\" target=\"_blank\"><img alt=\"Open In Colab\" src=\"https://colab.research.google.com/assets/colab-badge.svg\"/></a>   <a href=\"https://kaggle.com/kernels/welcome?src=https://raw.githubusercontent.com/NeuromatchAcademy/course-content/main/tutorials/W3D2_HiddenDynamics/student/W3D2_Intro.ipynb\" target=\"_blank\"><img alt=\"Open in Kaggle\" src=\"https://kaggle.com/static/images/open-in-kaggle.svg\"/></a>"
   ]
  },
  {
   "cell_type": "markdown",
   "metadata": {
    "execution": {},
    "pycharm": {
     "name": "#%% md\n"
    }
   },
   "source": [
    "# Intro"
   ]
  },
  {
   "cell_type": "markdown",
   "metadata": {
    "execution": {}
   },
   "source": [
    "<p align='center'><img src='https://github.com/NeuromatchAcademy/widgets/blob/master/sponsors.png?raw=True'/></p>"
   ]
  },
  {
   "cell_type": "markdown",
   "metadata": {
    "execution": {},
    "pycharm": {
     "name": "#%% md\n"
    }
   },
   "source": [
    "## Overview\n",
    "\n",
    "Today you will learn about Hidden Markov Models (HMMs), which allow us to infer things in the world from a stream of data. Tutorials will continue our two running examples that help provide intuition: fishing (for a binary latent state) and tracking astrocat (for a gaussian latent state). In both examples, we've set up interactive visualizations to provide intuition, and then you will recreate the key inferences step by step. For the binary case, we start with a simple version where the latent state doesn't change, then we'll allow the latent state to change over time. There's plenty of bonus material, but your core learning objective is to understand and implement an algorithm to infer a changing hidden state from observations.\n",
    "\n",
    "The HMM combines ideas from the linear dynamics lessons (which used Markov models) with inferences described in the Bayes day (which used Hidden variables). It also connects directly to later lessons in Optimal Control and Reinforcement Learning, which often use the HMM to guide actions.\n",
    "\n",
    "The HMM is a pervasive model in neuroscience. It is used for data analysis, like inferring neural activity from fluorescence images. It is also a foundational model for what the brain should compute, as it interprets the physical world that is observed only through its senses."
   ]
  },
  {
   "cell_type": "markdown",
   "metadata": {
    "execution": {}
   },
   "source": [
    "## Prerequisites\n",
    "\n",
    "In the content today, you will be using concepts from probability and statistics such as:\n",
    "\n",
    "- Gaussian distributions (see [here](https://compneuro.neuromatch.io/tutorials/W0D5_Statistics/student/W0D5_Tutorial1.html#section-3-1-gaussian-distribution))\n",
    "\n",
    "- likelihood functions (see [here](https://compneuro.neuromatch.io/tutorials/W0D5_Statistics/student/W0D5_Tutorial2.html#section-2-1-likelihoods))\n",
    "- Markov processes (see [here](https://compneuro.neuromatch.io/tutorials/W0D5_Statistics/student/W0D5_Tutorial2.html#section-1-2-markov-chains) and [here](https://compneuro.neuromatch.io/tutorials/W2D2_LinearSystems/student/W2D2_Tutorial2.html))"
   ]
  },
  {
   "cell_type": "markdown",
   "metadata": {
    "execution": {},
    "pycharm": {
     "name": "#%% md\n"
    }
   },
   "source": [
    "## Video"
   ]
  },
  {
   "cell_type": "markdown",
   "metadata": {},
   "source": [
    "\n"
   ]
  },
  {
   "cell_type": "code",
   "execution_count": 1,
   "metadata": {
    "cellView": "form",
    "execution": {
     "iopub.execute_input": "2023-04-17T16:54:55.177714Z",
     "iopub.status.busy": "2023-04-17T16:54:55.177497Z",
     "iopub.status.idle": "2023-04-17T16:54:55.291346Z",
     "shell.execute_reply": "2023-04-17T16:54:55.290731Z"
    },
    "pycharm": {
     "name": "#%%\n"
    },
    "tags": [
     "remove-input"
    ]
   },
   "outputs": [
    {
     "data": {
      "application/vnd.jupyter.widget-view+json": {
       "model_id": "864cc1ea4d6f42478cdb71c85b8a60ca",
       "version_major": 2,
       "version_minor": 0
      },
      "text/plain": [
       "Tab(children=(Output(), Output()), selected_index=0, titles=('Youtube', 'Bilibili'))"
      ]
     },
     "metadata": {},
     "output_type": "display_data"
    }
   ],
   "source": [
    "# @markdown\n",
    "from ipywidgets import widgets\n",
    "\n",
    "out2 = widgets.Output()\n",
    "with out2:\n",
    "  from IPython.display import IFrame\n",
    "  class BiliVideo(IFrame):\n",
    "      def __init__(self, id, page=1, width=400, height=300, **kwargs):\n",
    "          self.id=id\n",
    "          src = \"https://player.bilibili.com/player.html?bvid={0}&page={1}\".format(id, page)\n",
    "          super(BiliVideo, self).__init__(src, width, height, **kwargs)\n",
    "\n",
    "  video = BiliVideo(id=f\"BV1bt4y1X7UX\", width=730, height=410, fs=1)\n",
    "  print(\"Video available at https://www.bilibili.com/video/{0}\".format(video.id))\n",
    "  display(video)\n",
    "\n",
    "out1 = widgets.Output()\n",
    "with out1:\n",
    "  from IPython.display import YouTubeVideo\n",
    "  video = YouTubeVideo(id=f\"bJIAWgycuVU\", width=730, height=410, fs=1, rel=0)\n",
    "  print(\"Video available at https://youtube.com/watch?v=\" + video.id)\n",
    "  display(video)\n",
    "\n",
    "out = widgets.Tab([out1, out2])\n",
    "out.titles = ['Youtube', 'Bilibili']\n",
    "\n",
    "display(out)"
   ]
  },
  {
   "cell_type": "markdown",
   "metadata": {
    "execution": {},
    "pycharm": {
     "name": "#%% md\n"
    }
   },
   "source": [
    "## Slides"
   ]
  },
  {
   "cell_type": "markdown",
   "metadata": {},
   "source": [
    "\n"
   ]
  },
  {
   "cell_type": "code",
   "execution_count": 2,
   "metadata": {
    "cellView": "form",
    "execution": {
     "iopub.execute_input": "2023-04-17T16:54:55.302110Z",
     "iopub.status.busy": "2023-04-17T16:54:55.301914Z",
     "iopub.status.idle": "2023-04-17T16:54:55.310029Z",
     "shell.execute_reply": "2023-04-17T16:54:55.309347Z"
    },
    "pycharm": {
     "name": "#%%\n"
    },
    "tags": [
     "remove-input"
    ]
   },
   "outputs": [
    {
     "data": {
      "application/vnd.jupyter.widget-view+json": {
       "model_id": "505a700dc8e44993a4b118b794bbc45f",
       "version_major": 2,
       "version_minor": 0
      },
      "text/plain": [
       "Output()"
      ]
     },
     "metadata": {},
     "output_type": "display_data"
    }
   ],
   "source": [
    "# @markdown\n",
    "from IPython.display import IFrame\n",
    "from ipywidgets import widgets\n",
    "out = widgets.Output()\n",
    "with out:\n",
    "    display(IFrame(src=f\"https://mfr.ca-1.osf.io/render?url=https://osf.io/8u92f/?direct%26mode=render%26action=download%26mode=rende\", width=730, height=410))\n",
    "display(out)"
   ]
  }
 ],
 "metadata": {
  "colab": {
   "collapsed_sections": [],
   "include_colab_link": true,
   "name": "W3D2_Intro",
   "provenance": [],
   "toc_visible": true
  },
  "kernel": {
   "display_name": "Python 3",
   "language": "python",
   "name": "python3"
  },
  "kernelspec": {
   "display_name": "Python 3",
   "language": "python",
   "name": "python3"
  },
  "language_info": {
   "codemirror_mode": {
    "name": "ipython",
    "version": 3
   },
   "file_extension": ".py",
   "mimetype": "text/x-python",
   "name": "python",
   "nbconvert_exporter": "python",
   "pygments_lexer": "ipython3",
   "version": "3.11.3"
  },
  "widgets": {
   "application/vnd.jupyter.widget-state+json": {
    "state": {
     "1ff5136d9d79461c972cb9a5296bfc8b": {
      "model_module": "@jupyter-widgets/base",
      "model_module_version": "2.0.0",
      "model_name": "LayoutModel",
      "state": {
       "_model_module": "@jupyter-widgets/base",
       "_model_module_version": "2.0.0",
       "_model_name": "LayoutModel",
       "_view_count": null,
       "_view_module": "@jupyter-widgets/base",
       "_view_module_version": "2.0.0",
       "_view_name": "LayoutView",
       "align_content": null,
       "align_items": null,
       "align_self": null,
       "border_bottom": null,
       "border_left": null,
       "border_right": null,
       "border_top": null,
       "bottom": null,
       "display": null,
       "flex": null,
       "flex_flow": null,
       "grid_area": null,
       "grid_auto_columns": null,
       "grid_auto_flow": null,
       "grid_auto_rows": null,
       "grid_column": null,
       "grid_gap": null,
       "grid_row": null,
       "grid_template_areas": null,
       "grid_template_columns": null,
       "grid_template_rows": null,
       "height": null,
       "justify_content": null,
       "justify_items": null,
       "left": null,
       "margin": null,
       "max_height": null,
       "max_width": null,
       "min_height": null,
       "min_width": null,
       "object_fit": null,
       "object_position": null,
       "order": null,
       "overflow": null,
       "padding": null,
       "right": null,
       "top": null,
       "visibility": null,
       "width": null
      }
     },
     "42f1d684dc464c30b74da98883daad89": {
      "model_module": "@jupyter-widgets/base",
      "model_module_version": "2.0.0",
      "model_name": "LayoutModel",
      "state": {
       "_model_module": "@jupyter-widgets/base",
       "_model_module_version": "2.0.0",
       "_model_name": "LayoutModel",
       "_view_count": null,
       "_view_module": "@jupyter-widgets/base",
       "_view_module_version": "2.0.0",
       "_view_name": "LayoutView",
       "align_content": null,
       "align_items": null,
       "align_self": null,
       "border_bottom": null,
       "border_left": null,
       "border_right": null,
       "border_top": null,
       "bottom": null,
       "display": null,
       "flex": null,
       "flex_flow": null,
       "grid_area": null,
       "grid_auto_columns": null,
       "grid_auto_flow": null,
       "grid_auto_rows": null,
       "grid_column": null,
       "grid_gap": null,
       "grid_row": null,
       "grid_template_areas": null,
       "grid_template_columns": null,
       "grid_template_rows": null,
       "height": null,
       "justify_content": null,
       "justify_items": null,
       "left": null,
       "margin": null,
       "max_height": null,
       "max_width": null,
       "min_height": null,
       "min_width": null,
       "object_fit": null,
       "object_position": null,
       "order": null,
       "overflow": null,
       "padding": null,
       "right": null,
       "top": null,
       "visibility": null,
       "width": null
      }
     },
     "505a700dc8e44993a4b118b794bbc45f": {
      "model_module": "@jupyter-widgets/output",
      "model_module_version": "1.0.0",
      "model_name": "OutputModel",
      "state": {
       "_dom_classes": [],
       "_model_module": "@jupyter-widgets/output",
       "_model_module_version": "1.0.0",
       "_model_name": "OutputModel",
       "_view_count": null,
       "_view_module": "@jupyter-widgets/output",
       "_view_module_version": "1.0.0",
       "_view_name": "OutputView",
       "layout": "IPY_MODEL_e69d6e6b722e4ffb8b75bf4cb6078d96",
       "msg_id": "",
       "outputs": [
        {
         "data": {
          "text/html": "\n        <iframe\n            width=\"730\"\n            height=\"410\"\n            src=\"https://mfr.ca-1.osf.io/render?url=https://osf.io/8u92f/?direct%26mode=render%26action=download%26mode=rende\"\n            frameborder=\"0\"\n            allowfullscreen\n            \n        ></iframe>\n        ",
          "text/plain": "<IPython.lib.display.IFrame at 0x7fc19f983f50>"
         },
         "metadata": {},
         "output_type": "display_data"
        }
       ],
       "tabbable": null,
       "tooltip": null
      }
     },
     "760d32aac9ae4db2b8fd5246d6a38f13": {
      "model_module": "@jupyter-widgets/output",
      "model_module_version": "1.0.0",
      "model_name": "OutputModel",
      "state": {
       "_dom_classes": [],
       "_model_module": "@jupyter-widgets/output",
       "_model_module_version": "1.0.0",
       "_model_name": "OutputModel",
       "_view_count": null,
       "_view_module": "@jupyter-widgets/output",
       "_view_module_version": "1.0.0",
       "_view_name": "OutputView",
       "layout": "IPY_MODEL_1ff5136d9d79461c972cb9a5296bfc8b",
       "msg_id": "",
       "outputs": [
        {
         "name": "stdout",
         "output_type": "stream",
         "text": "Video available at https://www.bilibili.com/video/BV1bt4y1X7UX\n"
        },
        {
         "data": {
          "text/html": "\n        <iframe\n            width=\"730\"\n            height=\"410\"\n            src=\"https://player.bilibili.com/player.html?bvid=BV1bt4y1X7UX&page=1?fs=1\"\n            frameborder=\"0\"\n            allowfullscreen\n            \n        ></iframe>\n        ",
          "text/plain": "<__main__.BiliVideo at 0x7fc19f982bd0>"
         },
         "metadata": {},
         "output_type": "display_data"
        }
       ],
       "tabbable": null,
       "tooltip": null
      }
     },
     "864cc1ea4d6f42478cdb71c85b8a60ca": {
      "model_module": "@jupyter-widgets/controls",
      "model_module_version": "2.0.0",
      "model_name": "TabModel",
      "state": {
       "_dom_classes": [],
       "_model_module": "@jupyter-widgets/controls",
       "_model_module_version": "2.0.0",
       "_model_name": "TabModel",
       "_view_count": null,
       "_view_module": "@jupyter-widgets/controls",
       "_view_module_version": "2.0.0",
       "_view_name": "TabView",
       "box_style": "",
       "children": [
        "IPY_MODEL_d0b1a6a59d234517a734bdd7a50230e7",
        "IPY_MODEL_760d32aac9ae4db2b8fd5246d6a38f13"
       ],
       "layout": "IPY_MODEL_42f1d684dc464c30b74da98883daad89",
       "selected_index": 0,
       "tabbable": null,
       "titles": [
        "Youtube",
        "Bilibili"
       ],
       "tooltip": null
      }
     },
     "b0f722d34991400781d3c413e362b56b": {
      "model_module": "@jupyter-widgets/base",
      "model_module_version": "2.0.0",
      "model_name": "LayoutModel",
      "state": {
       "_model_module": "@jupyter-widgets/base",
       "_model_module_version": "2.0.0",
       "_model_name": "LayoutModel",
       "_view_count": null,
       "_view_module": "@jupyter-widgets/base",
       "_view_module_version": "2.0.0",
       "_view_name": "LayoutView",
       "align_content": null,
       "align_items": null,
       "align_self": null,
       "border_bottom": null,
       "border_left": null,
       "border_right": null,
       "border_top": null,
       "bottom": null,
       "display": null,
       "flex": null,
       "flex_flow": null,
       "grid_area": null,
       "grid_auto_columns": null,
       "grid_auto_flow": null,
       "grid_auto_rows": null,
       "grid_column": null,
       "grid_gap": null,
       "grid_row": null,
       "grid_template_areas": null,
       "grid_template_columns": null,
       "grid_template_rows": null,
       "height": null,
       "justify_content": null,
       "justify_items": null,
       "left": null,
       "margin": null,
       "max_height": null,
       "max_width": null,
       "min_height": null,
       "min_width": null,
       "object_fit": null,
       "object_position": null,
       "order": null,
       "overflow": null,
       "padding": null,
       "right": null,
       "top": null,
       "visibility": null,
       "width": null
      }
     },
     "d0b1a6a59d234517a734bdd7a50230e7": {
      "model_module": "@jupyter-widgets/output",
      "model_module_version": "1.0.0",
      "model_name": "OutputModel",
      "state": {
       "_dom_classes": [],
       "_model_module": "@jupyter-widgets/output",
       "_model_module_version": "1.0.0",
       "_model_name": "OutputModel",
       "_view_count": null,
       "_view_module": "@jupyter-widgets/output",
       "_view_module_version": "1.0.0",
       "_view_name": "OutputView",
       "layout": "IPY_MODEL_b0f722d34991400781d3c413e362b56b",
       "msg_id": "",
       "outputs": [
        {
         "name": "stdout",
         "output_type": "stream",
         "text": "Video available at https://youtube.com/watch?v=bJIAWgycuVU\n"
        },
        {
         "data": {
          "image/jpeg": "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\n",
          "text/html": "\n        <iframe\n            width=\"730\"\n            height=\"410\"\n            src=\"https://www.youtube.com/embed/bJIAWgycuVU?fs=1&rel=0\"\n            frameborder=\"0\"\n            allowfullscreen\n            \n        ></iframe>\n        ",
          "text/plain": "<IPython.lib.display.YouTubeVideo at 0x7fc19c8a7390>"
         },
         "metadata": {},
         "output_type": "display_data"
        }
       ],
       "tabbable": null,
       "tooltip": null
      }
     },
     "e69d6e6b722e4ffb8b75bf4cb6078d96": {
      "model_module": "@jupyter-widgets/base",
      "model_module_version": "2.0.0",
      "model_name": "LayoutModel",
      "state": {
       "_model_module": "@jupyter-widgets/base",
       "_model_module_version": "2.0.0",
       "_model_name": "LayoutModel",
       "_view_count": null,
       "_view_module": "@jupyter-widgets/base",
       "_view_module_version": "2.0.0",
       "_view_name": "LayoutView",
       "align_content": null,
       "align_items": null,
       "align_self": null,
       "border_bottom": null,
       "border_left": null,
       "border_right": null,
       "border_top": null,
       "bottom": null,
       "display": null,
       "flex": null,
       "flex_flow": null,
       "grid_area": null,
       "grid_auto_columns": null,
       "grid_auto_flow": null,
       "grid_auto_rows": null,
       "grid_column": null,
       "grid_gap": null,
       "grid_row": null,
       "grid_template_areas": null,
       "grid_template_columns": null,
       "grid_template_rows": null,
       "height": null,
       "justify_content": null,
       "justify_items": null,
       "left": null,
       "margin": null,
       "max_height": null,
       "max_width": null,
       "min_height": null,
       "min_width": null,
       "object_fit": null,
       "object_position": null,
       "order": null,
       "overflow": null,
       "padding": null,
       "right": null,
       "top": null,
       "visibility": null,
       "width": null
      }
     }
    },
    "version_major": 2,
    "version_minor": 0
   }
  }
 },
 "nbformat": 4,
 "nbformat_minor": 0
}
