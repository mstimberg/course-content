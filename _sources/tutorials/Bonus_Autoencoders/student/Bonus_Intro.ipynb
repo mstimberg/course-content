{
 "cells": [
  {
   "cell_type": "markdown",
   "metadata": {
    "colab_type": "text",
    "execution": {},
    "id": "view-in-github"
   },
   "source": [
    "<a href=\"https://colab.research.google.com/github/NeuromatchAcademy/course-content/blob/main/tutorials/Bonus_Autoencoders/Bonus_Intro.ipynb\" target=\"_blank\"><img alt=\"Open In Colab\" src=\"https://colab.research.google.com/assets/colab-badge.svg\"/></a>   <a href=\"https://kaggle.com/kernels/welcome?src=https://raw.githubusercontent.com/NeuromatchAcademy/course-content/main/tutorials/Bonus_Autoencoders/Bonus_Intro.ipynb\" target=\"_blank\"><img alt=\"Open in Kaggle\" src=\"https://kaggle.com/static/images/open-in-kaggle.svg\"/></a>"
   ]
  },
  {
   "cell_type": "markdown",
   "metadata": {
    "execution": {},
    "pycharm": {
     "name": "#%% md\n"
    }
   },
   "source": [
    "# Intro"
   ]
  },
  {
   "cell_type": "markdown",
   "metadata": {
    "execution": {}
   },
   "source": [
    "<p align='center'><img src='https://github.com/NeuromatchAcademy/widgets/blob/master/sponsors.png?raw=True'/></p>"
   ]
  },
  {
   "cell_type": "markdown",
   "metadata": {
    "execution": {},
    "pycharm": {
     "name": "#%% md\n"
    }
   },
   "source": [
    "## Overview\n",
    "\n",
    "This is a bonus day on Autoencoders. Autoencoders are a form of deep neural network that performs nonlinear dimensionality reduction."
   ]
  },
  {
   "cell_type": "markdown",
   "metadata": {
    "execution": {},
    "pycharm": {
     "name": "#%% md\n"
    }
   },
   "source": [
    "## Video"
   ]
  },
  {
   "cell_type": "markdown",
   "metadata": {},
   "source": [
    "\n"
   ]
  },
  {
   "cell_type": "code",
   "execution_count": 1,
   "metadata": {
    "cellView": "form",
    "execution": {
     "iopub.execute_input": "2023-04-17T16:43:06.936151Z",
     "iopub.status.busy": "2023-04-17T16:43:06.935746Z",
     "iopub.status.idle": "2023-04-17T16:43:07.059588Z",
     "shell.execute_reply": "2023-04-17T16:43:07.058867Z"
    },
    "pycharm": {
     "name": "#%%\n"
    },
    "tags": [
     "remove-input"
    ]
   },
   "outputs": [
    {
     "data": {
      "application/vnd.jupyter.widget-view+json": {
       "model_id": "888a6870baa24f20a360b18622b5b079",
       "version_major": 2,
       "version_minor": 0
      },
      "text/plain": [
       "Tab(children=(Output(), Output()), selected_index=0, titles=('Youtube', 'Bilibili'))"
      ]
     },
     "metadata": {},
     "output_type": "display_data"
    }
   ],
   "source": [
    "# @markdown\n",
    "from ipywidgets import widgets\n",
    "\n",
    "out2 = widgets.Output()\n",
    "with out2:\n",
    "  from IPython.display import IFrame\n",
    "  class BiliVideo(IFrame):\n",
    "      def __init__(self, id, page=1, width=400, height=300, **kwargs):\n",
    "          self.id=id\n",
    "          src = \"https://player.bilibili.com/player.html?bvid={0}&page={1}\".format(id, page)\n",
    "          super(BiliVideo, self).__init__(src, width, height, **kwargs)\n",
    "\n",
    "  video = BiliVideo(id=f\"BV1LC4y187Pv\", width=730, height=410, fs=1)\n",
    "  print(\"Video available at https://www.bilibili.com/video/{0}\".format(video.id))\n",
    "  display(video)\n",
    "\n",
    "out1 = widgets.Output()\n",
    "with out1:\n",
    "  from IPython.display import YouTubeVideo\n",
    "  video = YouTubeVideo(id=f\"VwSnDJZekQ4\", width=730, height=410, fs=1, rel=0)\n",
    "  print(\"Video available at https://youtube.com/watch?v=\" + video.id)\n",
    "  display(video)\n",
    "\n",
    "out = widgets.Tab([out1, out2])\n",
    "out.titles = ['Youtube', 'Bilibili']\n",
    "\n",
    "display(out)"
   ]
  },
  {
   "cell_type": "markdown",
   "metadata": {
    "execution": {},
    "pycharm": {
     "name": "#%% md\n"
    }
   },
   "source": [
    "## Slides"
   ]
  },
  {
   "cell_type": "markdown",
   "metadata": {},
   "source": [
    "\n"
   ]
  },
  {
   "cell_type": "code",
   "execution_count": 2,
   "metadata": {
    "cellView": "form",
    "execution": {
     "iopub.execute_input": "2023-04-17T16:43:07.071464Z",
     "iopub.status.busy": "2023-04-17T16:43:07.071136Z",
     "iopub.status.idle": "2023-04-17T16:43:07.079887Z",
     "shell.execute_reply": "2023-04-17T16:43:07.079228Z"
    },
    "pycharm": {
     "name": "#%%\n"
    },
    "tags": [
     "remove-input"
    ]
   },
   "outputs": [
    {
     "data": {
      "application/vnd.jupyter.widget-view+json": {
       "model_id": "de4f390ee3144b95812fa5ca8b32bf8b",
       "version_major": 2,
       "version_minor": 0
      },
      "text/plain": [
       "Output()"
      ]
     },
     "metadata": {},
     "output_type": "display_data"
    }
   ],
   "source": [
    "# @markdown\n",
    "from IPython.display import IFrame\n",
    "from ipywidgets import widgets\n",
    "out = widgets.Output()\n",
    "with out:\n",
    "    display(IFrame(src=f\"https://mfr.ca-1.osf.io/render?url=https://osf.io/pdnsg/?direct%26mode=render%26action=download%26mode=rende\", width=730, height=410))\n",
    "display(out)"
   ]
  }
 ],
 "metadata": {
  "colab": {
   "collapsed_sections": [],
   "include_colab_link": true,
   "name": "Bonus_Intro",
   "provenance": [],
   "toc_visible": true
  },
  "kernel": {
   "display_name": "Python 3",
   "language": "python",
   "name": "python3"
  },
  "kernelspec": {
   "display_name": "Python 3",
   "language": "python",
   "name": "python3"
  },
  "language_info": {
   "codemirror_mode": {
    "name": "ipython",
    "version": 3
   },
   "file_extension": ".py",
   "mimetype": "text/x-python",
   "name": "python",
   "nbconvert_exporter": "python",
   "pygments_lexer": "ipython3",
   "version": "3.11.3"
  },
  "widgets": {
   "application/vnd.jupyter.widget-state+json": {
    "state": {
     "263e2ff885c047b6a8256dbfc79e442b": {
      "model_module": "@jupyter-widgets/base",
      "model_module_version": "2.0.0",
      "model_name": "LayoutModel",
      "state": {
       "_model_module": "@jupyter-widgets/base",
       "_model_module_version": "2.0.0",
       "_model_name": "LayoutModel",
       "_view_count": null,
       "_view_module": "@jupyter-widgets/base",
       "_view_module_version": "2.0.0",
       "_view_name": "LayoutView",
       "align_content": null,
       "align_items": null,
       "align_self": null,
       "border_bottom": null,
       "border_left": null,
       "border_right": null,
       "border_top": null,
       "bottom": null,
       "display": null,
       "flex": null,
       "flex_flow": null,
       "grid_area": null,
       "grid_auto_columns": null,
       "grid_auto_flow": null,
       "grid_auto_rows": null,
       "grid_column": null,
       "grid_gap": null,
       "grid_row": null,
       "grid_template_areas": null,
       "grid_template_columns": null,
       "grid_template_rows": null,
       "height": null,
       "justify_content": null,
       "justify_items": null,
       "left": null,
       "margin": null,
       "max_height": null,
       "max_width": null,
       "min_height": null,
       "min_width": null,
       "object_fit": null,
       "object_position": null,
       "order": null,
       "overflow": null,
       "padding": null,
       "right": null,
       "top": null,
       "visibility": null,
       "width": null
      }
     },
     "27bc5bb1eeec4048883992b7d84ecff7": {
      "model_module": "@jupyter-widgets/output",
      "model_module_version": "1.0.0",
      "model_name": "OutputModel",
      "state": {
       "_dom_classes": [],
       "_model_module": "@jupyter-widgets/output",
       "_model_module_version": "1.0.0",
       "_model_name": "OutputModel",
       "_view_count": null,
       "_view_module": "@jupyter-widgets/output",
       "_view_module_version": "1.0.0",
       "_view_name": "OutputView",
       "layout": "IPY_MODEL_263e2ff885c047b6a8256dbfc79e442b",
       "msg_id": "",
       "outputs": [
        {
         "name": "stdout",
         "output_type": "stream",
         "text": "Video available at https://www.bilibili.com/video/BV1LC4y187Pv\n"
        },
        {
         "data": {
          "text/html": "\n        <iframe\n            width=\"730\"\n            height=\"410\"\n            src=\"https://player.bilibili.com/player.html?bvid=BV1LC4y187Pv&page=1?fs=1\"\n            frameborder=\"0\"\n            allowfullscreen\n            \n        ></iframe>\n        ",
          "text/plain": "<__main__.BiliVideo at 0x7f19bfd55150>"
         },
         "metadata": {},
         "output_type": "display_data"
        }
       ],
       "tabbable": null,
       "tooltip": null
      }
     },
     "5545f4d3c3d64c4795e4c54da5316966": {
      "model_module": "@jupyter-widgets/base",
      "model_module_version": "2.0.0",
      "model_name": "LayoutModel",
      "state": {
       "_model_module": "@jupyter-widgets/base",
       "_model_module_version": "2.0.0",
       "_model_name": "LayoutModel",
       "_view_count": null,
       "_view_module": "@jupyter-widgets/base",
       "_view_module_version": "2.0.0",
       "_view_name": "LayoutView",
       "align_content": null,
       "align_items": null,
       "align_self": null,
       "border_bottom": null,
       "border_left": null,
       "border_right": null,
       "border_top": null,
       "bottom": null,
       "display": null,
       "flex": null,
       "flex_flow": null,
       "grid_area": null,
       "grid_auto_columns": null,
       "grid_auto_flow": null,
       "grid_auto_rows": null,
       "grid_column": null,
       "grid_gap": null,
       "grid_row": null,
       "grid_template_areas": null,
       "grid_template_columns": null,
       "grid_template_rows": null,
       "height": null,
       "justify_content": null,
       "justify_items": null,
       "left": null,
       "margin": null,
       "max_height": null,
       "max_width": null,
       "min_height": null,
       "min_width": null,
       "object_fit": null,
       "object_position": null,
       "order": null,
       "overflow": null,
       "padding": null,
       "right": null,
       "top": null,
       "visibility": null,
       "width": null
      }
     },
     "888a6870baa24f20a360b18622b5b079": {
      "model_module": "@jupyter-widgets/controls",
      "model_module_version": "2.0.0",
      "model_name": "TabModel",
      "state": {
       "_dom_classes": [],
       "_model_module": "@jupyter-widgets/controls",
       "_model_module_version": "2.0.0",
       "_model_name": "TabModel",
       "_view_count": null,
       "_view_module": "@jupyter-widgets/controls",
       "_view_module_version": "2.0.0",
       "_view_name": "TabView",
       "box_style": "",
       "children": [
        "IPY_MODEL_8f7204d127934c2cbb0a23f86d7506d3",
        "IPY_MODEL_27bc5bb1eeec4048883992b7d84ecff7"
       ],
       "layout": "IPY_MODEL_9a9892b7804a4ce78837a46753a76f59",
       "selected_index": 0,
       "tabbable": null,
       "titles": [
        "Youtube",
        "Bilibili"
       ],
       "tooltip": null
      }
     },
     "8f7204d127934c2cbb0a23f86d7506d3": {
      "model_module": "@jupyter-widgets/output",
      "model_module_version": "1.0.0",
      "model_name": "OutputModel",
      "state": {
       "_dom_classes": [],
       "_model_module": "@jupyter-widgets/output",
       "_model_module_version": "1.0.0",
       "_model_name": "OutputModel",
       "_view_count": null,
       "_view_module": "@jupyter-widgets/output",
       "_view_module_version": "1.0.0",
       "_view_name": "OutputView",
       "layout": "IPY_MODEL_ba9aacf086f848d69f4d634bdeb5d784",
       "msg_id": "",
       "outputs": [
        {
         "name": "stdout",
         "output_type": "stream",
         "text": "Video available at https://youtube.com/watch?v=VwSnDJZekQ4\n"
        },
        {
         "data": {
          "image/jpeg": "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\n",
          "text/html": "\n        <iframe\n            width=\"730\"\n            height=\"410\"\n            src=\"https://www.youtube.com/embed/VwSnDJZekQ4?fs=1&rel=0\"\n            frameborder=\"0\"\n            allowfullscreen\n            \n        ></iframe>\n        ",
          "text/plain": "<IPython.lib.display.YouTubeVideo at 0x7f19bcc7a1d0>"
         },
         "metadata": {},
         "output_type": "display_data"
        }
       ],
       "tabbable": null,
       "tooltip": null
      }
     },
     "9a9892b7804a4ce78837a46753a76f59": {
      "model_module": "@jupyter-widgets/base",
      "model_module_version": "2.0.0",
      "model_name": "LayoutModel",
      "state": {
       "_model_module": "@jupyter-widgets/base",
       "_model_module_version": "2.0.0",
       "_model_name": "LayoutModel",
       "_view_count": null,
       "_view_module": "@jupyter-widgets/base",
       "_view_module_version": "2.0.0",
       "_view_name": "LayoutView",
       "align_content": null,
       "align_items": null,
       "align_self": null,
       "border_bottom": null,
       "border_left": null,
       "border_right": null,
       "border_top": null,
       "bottom": null,
       "display": null,
       "flex": null,
       "flex_flow": null,
       "grid_area": null,
       "grid_auto_columns": null,
       "grid_auto_flow": null,
       "grid_auto_rows": null,
       "grid_column": null,
       "grid_gap": null,
       "grid_row": null,
       "grid_template_areas": null,
       "grid_template_columns": null,
       "grid_template_rows": null,
       "height": null,
       "justify_content": null,
       "justify_items": null,
       "left": null,
       "margin": null,
       "max_height": null,
       "max_width": null,
       "min_height": null,
       "min_width": null,
       "object_fit": null,
       "object_position": null,
       "order": null,
       "overflow": null,
       "padding": null,
       "right": null,
       "top": null,
       "visibility": null,
       "width": null
      }
     },
     "ba9aacf086f848d69f4d634bdeb5d784": {
      "model_module": "@jupyter-widgets/base",
      "model_module_version": "2.0.0",
      "model_name": "LayoutModel",
      "state": {
       "_model_module": "@jupyter-widgets/base",
       "_model_module_version": "2.0.0",
       "_model_name": "LayoutModel",
       "_view_count": null,
       "_view_module": "@jupyter-widgets/base",
       "_view_module_version": "2.0.0",
       "_view_name": "LayoutView",
       "align_content": null,
       "align_items": null,
       "align_self": null,
       "border_bottom": null,
       "border_left": null,
       "border_right": null,
       "border_top": null,
       "bottom": null,
       "display": null,
       "flex": null,
       "flex_flow": null,
       "grid_area": null,
       "grid_auto_columns": null,
       "grid_auto_flow": null,
       "grid_auto_rows": null,
       "grid_column": null,
       "grid_gap": null,
       "grid_row": null,
       "grid_template_areas": null,
       "grid_template_columns": null,
       "grid_template_rows": null,
       "height": null,
       "justify_content": null,
       "justify_items": null,
       "left": null,
       "margin": null,
       "max_height": null,
       "max_width": null,
       "min_height": null,
       "min_width": null,
       "object_fit": null,
       "object_position": null,
       "order": null,
       "overflow": null,
       "padding": null,
       "right": null,
       "top": null,
       "visibility": null,
       "width": null
      }
     },
     "de4f390ee3144b95812fa5ca8b32bf8b": {
      "model_module": "@jupyter-widgets/output",
      "model_module_version": "1.0.0",
      "model_name": "OutputModel",
      "state": {
       "_dom_classes": [],
       "_model_module": "@jupyter-widgets/output",
       "_model_module_version": "1.0.0",
       "_model_name": "OutputModel",
       "_view_count": null,
       "_view_module": "@jupyter-widgets/output",
       "_view_module_version": "1.0.0",
       "_view_name": "OutputView",
       "layout": "IPY_MODEL_5545f4d3c3d64c4795e4c54da5316966",
       "msg_id": "",
       "outputs": [
        {
         "data": {
          "text/html": "\n        <iframe\n            width=\"730\"\n            height=\"410\"\n            src=\"https://mfr.ca-1.osf.io/render?url=https://osf.io/pdnsg/?direct%26mode=render%26action=download%26mode=rende\"\n            frameborder=\"0\"\n            allowfullscreen\n            \n        ></iframe>\n        ",
          "text/plain": "<IPython.lib.display.IFrame at 0x7f19bfd4bf10>"
         },
         "metadata": {},
         "output_type": "display_data"
        }
       ],
       "tabbable": null,
       "tooltip": null
      }
     }
    },
    "version_major": 2,
    "version_minor": 0
   }
  }
 },
 "nbformat": 4,
 "nbformat_minor": 0
}
