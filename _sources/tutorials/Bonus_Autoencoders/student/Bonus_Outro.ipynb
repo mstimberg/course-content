{
 "cells": [
  {
   "cell_type": "markdown",
   "metadata": {
    "colab_type": "text",
    "execution": {},
    "id": "view-in-github"
   },
   "source": [
    "<a href=\"https://colab.research.google.com/github/NeuromatchAcademy/course-content/blob/main/tutorials/Bonus_Autoencoders/Bonus_Outro.ipynb\" target=\"_blank\"><img alt=\"Open In Colab\" src=\"https://colab.research.google.com/assets/colab-badge.svg\"/></a>   <a href=\"https://kaggle.com/kernels/welcome?src=https://raw.githubusercontent.com/NeuromatchAcademy/course-content/main/tutorials/Bonus_Autoencoders/Bonus_Outro.ipynb\" target=\"_blank\"><img alt=\"Open in Kaggle\" src=\"https://kaggle.com/static/images/open-in-kaggle.svg\"/></a>"
   ]
  },
  {
   "cell_type": "markdown",
   "metadata": {
    "execution": {},
    "pycharm": {
     "name": "#%% md\n"
    }
   },
   "source": [
    "# Outro\n"
   ]
  },
  {
   "cell_type": "markdown",
   "metadata": {
    "execution": {}
   },
   "source": [
    "<p align='center'><img src='https://github.com/NeuromatchAcademy/widgets/blob/master/sponsors.png?raw=True'/></p>"
   ]
  },
  {
   "cell_type": "markdown",
   "metadata": {
    "execution": {},
    "pycharm": {
     "name": "#%% md\n"
    }
   },
   "source": [
    "## Video"
   ]
  },
  {
   "cell_type": "markdown",
   "metadata": {},
   "source": [
    "\n"
   ]
  },
  {
   "cell_type": "code",
   "execution_count": 1,
   "metadata": {
    "cellView": "form",
    "execution": {
     "iopub.execute_input": "2023-04-17T16:53:19.281511Z",
     "iopub.status.busy": "2023-04-17T16:53:19.281279Z",
     "iopub.status.idle": "2023-04-17T16:53:19.426432Z",
     "shell.execute_reply": "2023-04-17T16:53:19.425695Z"
    },
    "pycharm": {
     "name": "#%%\n"
    },
    "tags": [
     "remove-input"
    ]
   },
   "outputs": [
    {
     "data": {
      "application/vnd.jupyter.widget-view+json": {
       "model_id": "979018d248f441cd98a05a0704c3e01b",
       "version_major": 2,
       "version_minor": 0
      },
      "text/plain": [
       "Tab(children=(Output(), Output()), selected_index=0, titles=('Youtube', 'Bilibili'))"
      ]
     },
     "metadata": {},
     "output_type": "display_data"
    }
   ],
   "source": [
    "# @markdown\n",
    "from ipywidgets import widgets\n",
    "\n",
    "out2 = widgets.Output()\n",
    "with out2:\n",
    "  from IPython.display import IFrame\n",
    "  class BiliVideo(IFrame):\n",
    "    def __init__(self, id, page=1, width=400, height=300, **kwargs):\n",
    "      self.id=id\n",
    "      src = \"https://player.bilibili.com/player.html?bvid={0}&page={1}\".format(id, page)\n",
    "      super(BiliVideo, self).__init__(src, width, height, **kwargs)\n",
    "\n",
    "  video = BiliVideo(id=\"BV1Df4y1X7jh\", width=730, height=410, fs=1)\n",
    "  print(\"Video available at https://www.bilibili.com/video/{0}\".format(video.id))\n",
    "  display(video)\n",
    "\n",
    "out1 = widgets.Output()\n",
    "with out1:\n",
    "  from IPython.display import YouTubeVideo\n",
    "  video = YouTubeVideo(id=\"ksgsCy9EaR4\", width=730, height=410, fs=1, rel=0)\n",
    "  print(\"Video available at https://youtube.com/watch?v=\" + video.id)\n",
    "  display(video)\n",
    "\n",
    "out = widgets.Tab([out1, out2])\n",
    "out.titles = ['Youtube', 'Bilibili']\n",
    "\n",
    "display(out)"
   ]
  },
  {
   "cell_type": "markdown",
   "metadata": {
    "execution": {},
    "pycharm": {
     "name": "#%% md\n"
    }
   },
   "source": [
    "## Slides"
   ]
  },
  {
   "cell_type": "markdown",
   "metadata": {},
   "source": [
    "\n"
   ]
  },
  {
   "cell_type": "code",
   "execution_count": 2,
   "metadata": {
    "cellView": "form",
    "execution": {
     "iopub.execute_input": "2023-04-17T16:53:19.438802Z",
     "iopub.status.busy": "2023-04-17T16:53:19.438578Z",
     "iopub.status.idle": "2023-04-17T16:53:19.446666Z",
     "shell.execute_reply": "2023-04-17T16:53:19.446045Z"
    },
    "pycharm": {
     "name": "#%%\n"
    },
    "tags": [
     "remove-input"
    ]
   },
   "outputs": [
    {
     "data": {
      "application/vnd.jupyter.widget-view+json": {
       "model_id": "2f226c384f4c46e1ba86cc229d83ae1c",
       "version_major": 2,
       "version_minor": 0
      },
      "text/plain": [
       "Output()"
      ]
     },
     "metadata": {},
     "output_type": "display_data"
    }
   ],
   "source": [
    "# @markdown\n",
    "from IPython.display import IFrame\n",
    "from ipywidgets import widgets\n",
    "out = widgets.Output()\n",
    "with out:\n",
    "    display(IFrame(src=f\"https://mfr.ca-1.osf.io/render?url=https://osf.io/4zv8q/?direct%26mode=render%26action=download%26mode=rende\", width=730, height=410))\n",
    "display(out)"
   ]
  }
 ],
 "metadata": {
  "colab": {
   "collapsed_sections": [],
   "include_colab_link": true,
   "name": "Bonus_Outro",
   "provenance": [],
   "toc_visible": true
  },
  "kernel": {
   "display_name": "Python 3",
   "language": "python",
   "name": "python3"
  },
  "kernelspec": {
   "display_name": "Python 3",
   "language": "python",
   "name": "python3"
  },
  "language_info": {
   "codemirror_mode": {
    "name": "ipython",
    "version": 3
   },
   "file_extension": ".py",
   "mimetype": "text/x-python",
   "name": "python",
   "nbconvert_exporter": "python",
   "pygments_lexer": "ipython3",
   "version": "3.11.3"
  },
  "widgets": {
   "application/vnd.jupyter.widget-state+json": {
    "state": {
     "239281344dbc4cb29c7b7b4b9ced0919": {
      "model_module": "@jupyter-widgets/base",
      "model_module_version": "2.0.0",
      "model_name": "LayoutModel",
      "state": {
       "_model_module": "@jupyter-widgets/base",
       "_model_module_version": "2.0.0",
       "_model_name": "LayoutModel",
       "_view_count": null,
       "_view_module": "@jupyter-widgets/base",
       "_view_module_version": "2.0.0",
       "_view_name": "LayoutView",
       "align_content": null,
       "align_items": null,
       "align_self": null,
       "border_bottom": null,
       "border_left": null,
       "border_right": null,
       "border_top": null,
       "bottom": null,
       "display": null,
       "flex": null,
       "flex_flow": null,
       "grid_area": null,
       "grid_auto_columns": null,
       "grid_auto_flow": null,
       "grid_auto_rows": null,
       "grid_column": null,
       "grid_gap": null,
       "grid_row": null,
       "grid_template_areas": null,
       "grid_template_columns": null,
       "grid_template_rows": null,
       "height": null,
       "justify_content": null,
       "justify_items": null,
       "left": null,
       "margin": null,
       "max_height": null,
       "max_width": null,
       "min_height": null,
       "min_width": null,
       "object_fit": null,
       "object_position": null,
       "order": null,
       "overflow": null,
       "padding": null,
       "right": null,
       "top": null,
       "visibility": null,
       "width": null
      }
     },
     "2f226c384f4c46e1ba86cc229d83ae1c": {
      "model_module": "@jupyter-widgets/output",
      "model_module_version": "1.0.0",
      "model_name": "OutputModel",
      "state": {
       "_dom_classes": [],
       "_model_module": "@jupyter-widgets/output",
       "_model_module_version": "1.0.0",
       "_model_name": "OutputModel",
       "_view_count": null,
       "_view_module": "@jupyter-widgets/output",
       "_view_module_version": "1.0.0",
       "_view_name": "OutputView",
       "layout": "IPY_MODEL_90eb63f7434243f9a62d481eb3de4031",
       "msg_id": "",
       "outputs": [
        {
         "data": {
          "text/html": "\n        <iframe\n            width=\"730\"\n            height=\"410\"\n            src=\"https://mfr.ca-1.osf.io/render?url=https://osf.io/4zv8q/?direct%26mode=render%26action=download%26mode=rende\"\n            frameborder=\"0\"\n            allowfullscreen\n            \n        ></iframe>\n        ",
          "text/plain": "<IPython.lib.display.IFrame at 0x7fe718e4ab90>"
         },
         "metadata": {},
         "output_type": "display_data"
        }
       ],
       "tabbable": null,
       "tooltip": null
      }
     },
     "314abdbf73d14304b9d09390846ad014": {
      "model_module": "@jupyter-widgets/base",
      "model_module_version": "2.0.0",
      "model_name": "LayoutModel",
      "state": {
       "_model_module": "@jupyter-widgets/base",
       "_model_module_version": "2.0.0",
       "_model_name": "LayoutModel",
       "_view_count": null,
       "_view_module": "@jupyter-widgets/base",
       "_view_module_version": "2.0.0",
       "_view_name": "LayoutView",
       "align_content": null,
       "align_items": null,
       "align_self": null,
       "border_bottom": null,
       "border_left": null,
       "border_right": null,
       "border_top": null,
       "bottom": null,
       "display": null,
       "flex": null,
       "flex_flow": null,
       "grid_area": null,
       "grid_auto_columns": null,
       "grid_auto_flow": null,
       "grid_auto_rows": null,
       "grid_column": null,
       "grid_gap": null,
       "grid_row": null,
       "grid_template_areas": null,
       "grid_template_columns": null,
       "grid_template_rows": null,
       "height": null,
       "justify_content": null,
       "justify_items": null,
       "left": null,
       "margin": null,
       "max_height": null,
       "max_width": null,
       "min_height": null,
       "min_width": null,
       "object_fit": null,
       "object_position": null,
       "order": null,
       "overflow": null,
       "padding": null,
       "right": null,
       "top": null,
       "visibility": null,
       "width": null
      }
     },
     "375e8125cbfa4a3181da4227d17a578c": {
      "model_module": "@jupyter-widgets/base",
      "model_module_version": "2.0.0",
      "model_name": "LayoutModel",
      "state": {
       "_model_module": "@jupyter-widgets/base",
       "_model_module_version": "2.0.0",
       "_model_name": "LayoutModel",
       "_view_count": null,
       "_view_module": "@jupyter-widgets/base",
       "_view_module_version": "2.0.0",
       "_view_name": "LayoutView",
       "align_content": null,
       "align_items": null,
       "align_self": null,
       "border_bottom": null,
       "border_left": null,
       "border_right": null,
       "border_top": null,
       "bottom": null,
       "display": null,
       "flex": null,
       "flex_flow": null,
       "grid_area": null,
       "grid_auto_columns": null,
       "grid_auto_flow": null,
       "grid_auto_rows": null,
       "grid_column": null,
       "grid_gap": null,
       "grid_row": null,
       "grid_template_areas": null,
       "grid_template_columns": null,
       "grid_template_rows": null,
       "height": null,
       "justify_content": null,
       "justify_items": null,
       "left": null,
       "margin": null,
       "max_height": null,
       "max_width": null,
       "min_height": null,
       "min_width": null,
       "object_fit": null,
       "object_position": null,
       "order": null,
       "overflow": null,
       "padding": null,
       "right": null,
       "top": null,
       "visibility": null,
       "width": null
      }
     },
     "66dbe63e6d334e7c9cd9c7da05c508ab": {
      "model_module": "@jupyter-widgets/output",
      "model_module_version": "1.0.0",
      "model_name": "OutputModel",
      "state": {
       "_dom_classes": [],
       "_model_module": "@jupyter-widgets/output",
       "_model_module_version": "1.0.0",
       "_model_name": "OutputModel",
       "_view_count": null,
       "_view_module": "@jupyter-widgets/output",
       "_view_module_version": "1.0.0",
       "_view_name": "OutputView",
       "layout": "IPY_MODEL_375e8125cbfa4a3181da4227d17a578c",
       "msg_id": "",
       "outputs": [
        {
         "name": "stdout",
         "output_type": "stream",
         "text": "Video available at https://www.bilibili.com/video/BV1Df4y1X7jh\n"
        },
        {
         "data": {
          "text/html": "\n        <iframe\n            width=\"730\"\n            height=\"410\"\n            src=\"https://player.bilibili.com/player.html?bvid=BV1Df4y1X7jh&page=1?fs=1\"\n            frameborder=\"0\"\n            allowfullscreen\n            \n        ></iframe>\n        ",
          "text/plain": "<__main__.BiliVideo at 0x7fe71cf1e110>"
         },
         "metadata": {},
         "output_type": "display_data"
        }
       ],
       "tabbable": null,
       "tooltip": null
      }
     },
     "90eb63f7434243f9a62d481eb3de4031": {
      "model_module": "@jupyter-widgets/base",
      "model_module_version": "2.0.0",
      "model_name": "LayoutModel",
      "state": {
       "_model_module": "@jupyter-widgets/base",
       "_model_module_version": "2.0.0",
       "_model_name": "LayoutModel",
       "_view_count": null,
       "_view_module": "@jupyter-widgets/base",
       "_view_module_version": "2.0.0",
       "_view_name": "LayoutView",
       "align_content": null,
       "align_items": null,
       "align_self": null,
       "border_bottom": null,
       "border_left": null,
       "border_right": null,
       "border_top": null,
       "bottom": null,
       "display": null,
       "flex": null,
       "flex_flow": null,
       "grid_area": null,
       "grid_auto_columns": null,
       "grid_auto_flow": null,
       "grid_auto_rows": null,
       "grid_column": null,
       "grid_gap": null,
       "grid_row": null,
       "grid_template_areas": null,
       "grid_template_columns": null,
       "grid_template_rows": null,
       "height": null,
       "justify_content": null,
       "justify_items": null,
       "left": null,
       "margin": null,
       "max_height": null,
       "max_width": null,
       "min_height": null,
       "min_width": null,
       "object_fit": null,
       "object_position": null,
       "order": null,
       "overflow": null,
       "padding": null,
       "right": null,
       "top": null,
       "visibility": null,
       "width": null
      }
     },
     "979018d248f441cd98a05a0704c3e01b": {
      "model_module": "@jupyter-widgets/controls",
      "model_module_version": "2.0.0",
      "model_name": "TabModel",
      "state": {
       "_dom_classes": [],
       "_model_module": "@jupyter-widgets/controls",
       "_model_module_version": "2.0.0",
       "_model_name": "TabModel",
       "_view_count": null,
       "_view_module": "@jupyter-widgets/controls",
       "_view_module_version": "2.0.0",
       "_view_name": "TabView",
       "box_style": "",
       "children": [
        "IPY_MODEL_d735e5a1a2824ce8a2b5ec13bcd09337",
        "IPY_MODEL_66dbe63e6d334e7c9cd9c7da05c508ab"
       ],
       "layout": "IPY_MODEL_314abdbf73d14304b9d09390846ad014",
       "selected_index": 0,
       "tabbable": null,
       "titles": [
        "Youtube",
        "Bilibili"
       ],
       "tooltip": null
      }
     },
     "d735e5a1a2824ce8a2b5ec13bcd09337": {
      "model_module": "@jupyter-widgets/output",
      "model_module_version": "1.0.0",
      "model_name": "OutputModel",
      "state": {
       "_dom_classes": [],
       "_model_module": "@jupyter-widgets/output",
       "_model_module_version": "1.0.0",
       "_model_name": "OutputModel",
       "_view_count": null,
       "_view_module": "@jupyter-widgets/output",
       "_view_module_version": "1.0.0",
       "_view_name": "OutputView",
       "layout": "IPY_MODEL_239281344dbc4cb29c7b7b4b9ced0919",
       "msg_id": "",
       "outputs": [
        {
         "name": "stdout",
         "output_type": "stream",
         "text": "Video available at https://youtube.com/watch?v=ksgsCy9EaR4\n"
        },
        {
         "data": {
          "image/jpeg": "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\n",
          "text/html": "\n        <iframe\n            width=\"730\"\n            height=\"410\"\n            src=\"https://www.youtube.com/embed/ksgsCy9EaR4?fs=1&rel=0\"\n            frameborder=\"0\"\n            allowfullscreen\n            \n        ></iframe>\n        ",
          "text/plain": "<IPython.lib.display.YouTubeVideo at 0x7fe718e33910>"
         },
         "metadata": {},
         "output_type": "display_data"
        }
       ],
       "tabbable": null,
       "tooltip": null
      }
     }
    },
    "version_major": 2,
    "version_minor": 0
   }
  }
 },
 "nbformat": 4,
 "nbformat_minor": 0
}
