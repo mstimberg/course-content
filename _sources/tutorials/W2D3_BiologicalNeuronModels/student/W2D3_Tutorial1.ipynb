{
 "cells": [
  {
   "cell_type": "markdown",
   "metadata": {
    "colab_type": "text",
    "execution": {},
    "id": "view-in-github"
   },
   "source": [
    "<a href=\"https://colab.research.google.com/github/NeuromatchAcademy/course-content/blob/main/tutorials/W2D3_BiologicalNeuronModels/student/W2D3_Tutorial1.ipynb\" target=\"_blank\"><img alt=\"Open In Colab\" src=\"https://colab.research.google.com/assets/colab-badge.svg\"/></a>   <a href=\"https://kaggle.com/kernels/welcome?src=https://raw.githubusercontent.com/NeuromatchAcademy/course-content/main/tutorials/W2D3_BiologicalNeuronModels/student/W2D3_Tutorial1.ipynb\" target=\"_blank\"><img alt=\"Open in Kaggle\" src=\"https://kaggle.com/static/images/open-in-kaggle.svg\"/></a>"
   ]
  },
  {
   "cell_type": "markdown",
   "metadata": {
    "execution": {}
   },
   "source": [
    "# Tutorial 1: The Leaky Integrate-and-Fire (LIF) Neuron Model\n",
    "**Week 2, Day 3: Biological Neuron Models**\n",
    "\n",
    "**By Neuromatch Academy**\n",
    "\n",
    "__Content creators:__ Qinglong Gu, Songtin Li, John Murray, Richard Naud, Arvind Kumar\n",
    "\n",
    "__Content reviewers:__  Maryam Vaziri-Pashkam, Ella Batty, Lorenzo Fontolan, Richard Gao, Matthew Krause, Spiros Chavlis, Michael Waskom, Ethan Cheng\n",
    "\n",
    "**Post-Production Team:** Gagana B, Spiros Chavlis"
   ]
  },
  {
   "cell_type": "markdown",
   "metadata": {
    "execution": {}
   },
   "source": [
    "<p align='center'><img src='https://github.com/NeuromatchAcademy/widgets/blob/master/sponsors.png?raw=True'/></p>"
   ]
  },
  {
   "cell_type": "markdown",
   "metadata": {
    "execution": {}
   },
   "source": [
    "---\n",
    "# Tutorial Objectives\n",
    "\n",
    "*Estimated timing of tutorial: 1 hour, 10 min*\n",
    "\n",
    "This is Tutorial 1 of a series on implementing realistic neuron models. In this tutorial, we will build up a leaky integrate-and-fire (LIF) neuron model and study its dynamics in response to various types of inputs. In particular, we are going to write a few lines of code to:\n",
    "\n",
    "- simulate the LIF neuron model\n",
    "\n",
    "- drive the LIF neuron with external inputs, such as direct currents, Gaussian white noise, and Poisson spike trains, etc.\n",
    "\n",
    "- study how different inputs affect the  LIF neuron's output (firing rate and spike time irregularity)\n",
    "\n",
    "Here, we will especially emphasize identifying conditions (input statistics) under which a neuron can spike at low firing rates and in an irregular manner. The reason for focusing on this is that in most cases, neocortical neurons spike in an irregular manner."
   ]
  },
  {
   "cell_type": "markdown",
   "metadata": {},
   "source": [
    "##  Tutorial slides\n"
   ]
  },
  {
   "cell_type": "markdown",
   "metadata": {},
   "source": [
    " These are the slides for the videos in all tutorials today\n"
   ]
  },
  {
   "cell_type": "code",
   "execution_count": 1,
   "metadata": {
    "cellView": "form",
    "execution": {
     "iopub.execute_input": "2023-04-17T16:53:50.550610Z",
     "iopub.status.busy": "2023-04-17T16:53:50.549736Z",
     "iopub.status.idle": "2023-04-17T16:53:50.561789Z",
     "shell.execute_reply": "2023-04-17T16:53:50.561170Z"
    },
    "tags": [
     "remove-input"
    ]
   },
   "outputs": [
    {
     "data": {
      "text/html": [
       "\n",
       "        <iframe\n",
       "            width=\"854\"\n",
       "            height=\"480\"\n",
       "            src=\"https://mfr.ca-1.osf.io/render?url=https://osf.io/8djsm/?direct%26mode=render%26action=download%26mode=render\"\n",
       "            frameborder=\"0\"\n",
       "            allowfullscreen\n",
       "            \n",
       "        ></iframe>\n",
       "        "
      ],
      "text/plain": [
       "<IPython.lib.display.IFrame at 0x7f46832ab850>"
      ]
     },
     "execution_count": 1,
     "metadata": {},
     "output_type": "execute_result"
    }
   ],
   "source": [
    "# @title Tutorial slides\n",
    "\n",
    "# @markdown These are the slides for the videos in all tutorials today\n",
    "from IPython.display import IFrame\n",
    "IFrame(src=f\"https://mfr.ca-1.osf.io/render?url=https://osf.io/8djsm/?direct%26mode=render%26action=download%26mode=render\", width=854, height=480)"
   ]
  },
  {
   "cell_type": "markdown",
   "metadata": {
    "execution": {}
   },
   "source": [
    "---\n",
    "# Setup"
   ]
  },
  {
   "cell_type": "code",
   "execution_count": 2,
   "metadata": {
    "cellView": "both",
    "execution": {
     "iopub.execute_input": "2023-04-17T16:53:50.564625Z",
     "iopub.status.busy": "2023-04-17T16:53:50.564182Z",
     "iopub.status.idle": "2023-04-17T16:53:50.989529Z",
     "shell.execute_reply": "2023-04-17T16:53:50.988838Z"
    }
   },
   "outputs": [],
   "source": [
    "# Imports\n",
    "import numpy as np\n",
    "import matplotlib.pyplot as plt"
   ]
  },
  {
   "cell_type": "markdown",
   "metadata": {},
   "source": [
    "##  Figure Settings\n"
   ]
  },
  {
   "cell_type": "code",
   "execution_count": 3,
   "metadata": {
    "cellView": "form",
    "execution": {
     "iopub.execute_input": "2023-04-17T16:53:50.993454Z",
     "iopub.status.busy": "2023-04-17T16:53:50.993005Z",
     "iopub.status.idle": "2023-04-17T16:53:51.135881Z",
     "shell.execute_reply": "2023-04-17T16:53:51.135233Z"
    },
    "tags": [
     "hide-input"
    ]
   },
   "outputs": [],
   "source": [
    "# @title Figure Settings\n",
    "import ipywidgets as widgets  # interactive display\n",
    "%config InlineBackend.figure_format = 'retina'\n",
    "# use NMA plot style\n",
    "plt.style.use(\"https://raw.githubusercontent.com/NeuromatchAcademy/course-content/main/nma.mplstyle\")\n",
    "my_layout = widgets.Layout()"
   ]
  },
  {
   "cell_type": "markdown",
   "metadata": {},
   "source": [
    "##  Plotting Functions\n"
   ]
  },
  {
   "cell_type": "code",
   "execution_count": 4,
   "metadata": {
    "cellView": "form",
    "execution": {
     "iopub.execute_input": "2023-04-17T16:53:51.138972Z",
     "iopub.status.busy": "2023-04-17T16:53:51.138751Z",
     "iopub.status.idle": "2023-04-17T16:53:51.150244Z",
     "shell.execute_reply": "2023-04-17T16:53:51.149636Z"
    },
    "tags": [
     "hide-input"
    ]
   },
   "outputs": [],
   "source": [
    "# @title Plotting Functions\n",
    "\n",
    "def plot_volt_trace(pars, v, sp):\n",
    "  \"\"\"\n",
    "  Plot trajetory of membrane potential for a single neuron\n",
    "\n",
    "  Expects:\n",
    "  pars   : parameter dictionary\n",
    "  v      : volt trajetory\n",
    "  sp     : spike train\n",
    "\n",
    "  Returns:\n",
    "  figure of the membrane potential trajetory for a single neuron\n",
    "  \"\"\"\n",
    "\n",
    "  V_th = pars['V_th']\n",
    "  dt, range_t = pars['dt'], pars['range_t']\n",
    "  if sp.size:\n",
    "    sp_num = (sp / dt).astype(int) - 1\n",
    "    v[sp_num] += 20  # draw nicer spikes\n",
    "\n",
    "  plt.plot(pars['range_t'], v, 'b')\n",
    "  plt.axhline(V_th, 0, 1, color='k', ls='--')\n",
    "  plt.xlabel('Time (ms)')\n",
    "  plt.ylabel('V (mV)')\n",
    "  plt.legend(['Membrane\\npotential', r'Threshold V$_{\\mathrm{th}}$'],\n",
    "             loc=[1.05, 0.75])\n",
    "  plt.ylim([-80, -40])\n",
    "\n",
    "\n",
    "def plot_GWN(pars, I_GWN):\n",
    "  \"\"\"\n",
    "  Args:\n",
    "    pars  : parameter dictionary\n",
    "    I_GWN : Gaussian white noise input\n",
    "\n",
    "  Returns:\n",
    "    figure of the gaussian white noise input\n",
    "  \"\"\"\n",
    "\n",
    "  plt.figure(figsize=(12, 4))\n",
    "  plt.subplot(121)\n",
    "  plt.plot(pars['range_t'][::3], I_GWN[::3], 'b')\n",
    "  plt.xlabel('Time (ms)')\n",
    "  plt.ylabel(r'$I_{GWN}$ (pA)')\n",
    "  plt.subplot(122)\n",
    "  plot_volt_trace(pars, v, sp)\n",
    "  plt.tight_layout()\n",
    "\n",
    "\n",
    "def my_hists(isi1, isi2, cv1, cv2, sigma1, sigma2):\n",
    "  \"\"\"\n",
    "  Args:\n",
    "    isi1 : vector with inter-spike intervals\n",
    "    isi2 : vector with inter-spike intervals\n",
    "    cv1  : coefficient of variation for isi1\n",
    "    cv2  : coefficient of variation for isi2\n",
    "\n",
    "  Returns:\n",
    "    figure with two histograms, isi1, isi2\n",
    "\n",
    "  \"\"\"\n",
    "  plt.figure(figsize=(11, 4))\n",
    "  my_bins = np.linspace(10, 30, 20)\n",
    "  plt.subplot(121)\n",
    "  plt.hist(isi1, bins=my_bins, color='b', alpha=0.5)\n",
    "  plt.xlabel('ISI (ms)')\n",
    "  plt.ylabel('count')\n",
    "  plt.title(r'$\\sigma_{GWN}=$%.1f, CV$_{\\mathrm{isi}}$=%.3f' % (sigma1, cv1))\n",
    "\n",
    "  plt.subplot(122)\n",
    "  plt.hist(isi2, bins=my_bins, color='b', alpha=0.5)\n",
    "  plt.xlabel('ISI (ms)')\n",
    "  plt.ylabel('count')\n",
    "  plt.title(r'$\\sigma_{GWN}=$%.1f, CV$_{\\mathrm{isi}}$=%.3f' % (sigma2, cv2))\n",
    "  plt.tight_layout()\n",
    "  plt.show()"
   ]
  },
  {
   "cell_type": "markdown",
   "metadata": {
    "execution": {}
   },
   "source": [
    "---\n",
    "# Section 1: The Leaky Integrate-and-Fire (LIF) model"
   ]
  },
  {
   "cell_type": "markdown",
   "metadata": {},
   "source": [
    "##  Video 1: Reduced Neuron Models\n"
   ]
  },
  {
   "cell_type": "code",
   "execution_count": 5,
   "metadata": {
    "cellView": "form",
    "execution": {
     "iopub.execute_input": "2023-04-17T16:53:51.152922Z",
     "iopub.status.busy": "2023-04-17T16:53:51.152514Z",
     "iopub.status.idle": "2023-04-17T16:53:51.200573Z",
     "shell.execute_reply": "2023-04-17T16:53:51.199878Z"
    },
    "tags": [
     "remove-input"
    ]
   },
   "outputs": [
    {
     "data": {
      "application/vnd.jupyter.widget-view+json": {
       "model_id": "563a8aa04a594ff39fd0679c34d2b854",
       "version_major": 2,
       "version_minor": 0
      },
      "text/plain": [
       "Tab(children=(Output(), Output()), selected_index=0, titles=('Youtube', 'Bilibili'))"
      ]
     },
     "metadata": {},
     "output_type": "display_data"
    }
   ],
   "source": [
    "# @title Video 1: Reduced Neuron Models\n",
    "from ipywidgets import widgets\n",
    "\n",
    "out2 = widgets.Output()\n",
    "with out2:\n",
    "  from IPython.display import IFrame\n",
    "  class BiliVideo(IFrame):\n",
    "      def __init__(self, id, page=1, width=400, height=300, **kwargs):\n",
    "          self.id=id\n",
    "          src = 'https://player.bilibili.com/player.html?bvid={0}&page={1}'.format(id, page)\n",
    "          super(BiliVideo, self).__init__(src, width, height, **kwargs)\n",
    "\n",
    "  video = BiliVideo(id=\"av456396195\", width=730, height=410, fs=1)\n",
    "  print('Video available at https://www.bilibili.com/video/{0}'.format(video.id))\n",
    "  display(video)\n",
    "\n",
    "out1 = widgets.Output()\n",
    "with out1:\n",
    "  from IPython.display import YouTubeVideo\n",
    "  video = YouTubeVideo(id=\"rSExvwCVRYg\", width=730, height=410, fs=1, rel=0)\n",
    "  print('Video available at https://youtube.com/watch?v=' + video.id)\n",
    "  display(video)\n",
    "\n",
    "out = widgets.Tab([out1, out2])\n",
    "out.titles = ['Youtube', 'Bilibili']\n",
    "\n",
    "display(out)"
   ]
  },
  {
   "cell_type": "markdown",
   "metadata": {
    "execution": {}
   },
   "source": [
    "This video introduces the reduction of a biological neuron to a simple leaky-integrate-fire (LIF) neuron model.\n",
    "\n",
    "<details>\n",
    "<summary> <font color='blue'>Click here for text recap of video </font></summary>\n",
    "\n",
    "Now, it's your turn to implement one of the simplest mathematical model of a neuron: the leaky integrate-and-fire (LIF) model. The basic idea of LIF neuron was proposed in 1907 by Louis Édouard Lapicque, long before we understood the electrophysiology of a neuron (see a translation of [Lapicque's paper](https://pubmed.ncbi.nlm.nih.gov/17968583/) ). More details of the model can be found in the book [**Theoretical neuroscience**](http://www.gatsby.ucl.ac.uk/~dayan/book/) by Peter Dayan and Laurence F. Abbott.\n",
    "\n",
    "The subthreshold membrane potential dynamics of a LIF neuron is described by\n",
    "\n",
    "\\begin{eqnarray}\n",
    "C_m\\frac{dV}{dt} = -g_L(V-E_L) + I,\\quad (1)\n",
    "\\end{eqnarray}\n",
    "\n",
    "where $C_m$ is the membrane capacitance, $V$ is the membrane potential, $g_L$ is the leak conductance ($g_L = 1/R$, the inverse of the leak resistance $R$ mentioned in previous tutorials), $E_L$ is the resting potential, and $I$ is the external input current. \n",
    "\n",
    "Dividing both sides of the above equation by $g_L$ gives\n",
    "\n",
    "\\begin{align}\n",
    "\\tau_m\\frac{dV}{dt} = -(V-E_L) + \\frac{I}{g_L}\\,,\\quad (2)\n",
    "\\end{align}\n",
    "\n",
    "where the $\\tau_m$ is membrane time constant and is defined as $\\tau_m=C_m/g_L$. \n",
    "\n",
    "Note that dividing capacitance by conductance gives units of time! \n",
    "\n",
    "Below, we will use Eqn.(2) to simulate LIF neuron dynamics. \n",
    "\n",
    "If $I$ is sufficiently strong such that $V$ reaches a certain threshold value $V_{\\rm th}$, $V$ is reset to a reset potential $V_{\\rm reset}< V_{\\rm th}$, and voltage is clamped to $V_{\\rm reset}$ for $\\tau_{\\rm ref}$ ms, mimicking the refractoriness of the neuron during an action potential:\n",
    "\n",
    "\\begin{eqnarray}\n",
    "\\mathrm{if}\\quad V(t_{\\text{sp}})\\geq V_{\\rm th}&:& V(t)=V_{\\rm reset} \\text{  for } t\\in(t_{\\text{sp}}, t_{\\text{sp}} + \\tau_{\\text{ref}}]\n",
    "\\end{eqnarray}\n",
    "where $t_{\\rm sp}$ is the spike time when $V(t)$ just exceeded $V_{\\rm th}$.\n",
    "\n",
    "(**Note:** in the lecture slides, $\\theta$ corresponds to the threshold voltage $V_{th}$, and $\\Delta$ corresponds to the refractory time $\\tau_{\\rm ref}$.)\n",
    "\n",
    "</details>\n",
    "\n",
    "Note that you have seen the LIF model before if you looked at the pre-reqs Python or Calculus days!\n",
    "\n",
    "The LIF model captures the facts that a neuron:\n",
    "- performs spatial and temporal integration of synaptic inputs\n",
    "- generates a spike when the voltage reaches a certain threshold\n",
    "- goes refractory during the action potential\n",
    "- has a leaky membrane\n",
    "\n",
    "The LIF model assumes that the spatial and temporal integration of inputs is linear. Also, membrane potential dynamics close to the spike threshold are much slower in LIF neurons than in real neurons."
   ]
  },
  {
   "cell_type": "markdown",
   "metadata": {
    "execution": {}
   },
   "source": [
    "## Coding Exercise 1: Python code to simulate the LIF neuron\n",
    "\n",
    "We now write Python code to calculate our equation for the LIF neuron and simulate the LIF neuron dynamics. We will use the Euler method, which you saw in the linear systems case yesterday  to numerically integrate this equation:\n",
    "\n",
    "\\begin{equation}\n",
    "\\tau_m\\frac{dV}{dt} = -(V-E_L) + \\frac{I}{g_L}\\,\n",
    "\\end{equation}\n",
    "\n",
    "where $V$ is the membrane potential, $g_L$ is the leak conductance, $E_L$ is the resting potential, $I$ is the external input current, and $\\tau_m$ is membrane time constant.\n",
    "\n",
    "The cell below initializes a dictionary that stores parameters of the LIF neuron model and the simulation scheme. You can use `pars=default_pars(T=simulation_time, dt=time_step)` to get the parameters. Note that, `simulation_time` and `time_step` have the unit `ms`. In addition, you can add the value to a new parameter by `pars['New_param'] = value`."
   ]
  },
  {
   "cell_type": "markdown",
   "metadata": {},
   "source": [
    " Execute this code to initialize the default parameters\n"
   ]
  },
  {
   "cell_type": "code",
   "execution_count": 6,
   "metadata": {
    "cellView": "form",
    "execution": {
     "iopub.execute_input": "2023-04-17T16:53:51.211976Z",
     "iopub.status.busy": "2023-04-17T16:53:51.211762Z",
     "iopub.status.idle": "2023-04-17T16:53:51.219052Z",
     "shell.execute_reply": "2023-04-17T16:53:51.218432Z"
    },
    "tags": [
     "hide-input"
    ]
   },
   "outputs": [
    {
     "name": "stdout",
     "output_type": "stream",
     "text": [
      "{'V_th': -55.0, 'V_reset': -75.0, 'tau_m': 10.0, 'g_L': 10.0, 'V_init': -75.0, 'E_L': -75.0, 'tref': 2.0, 'T': 400.0, 'dt': 0.1, 'range_t': array([0.000e+00, 1.000e-01, 2.000e-01, ..., 3.997e+02, 3.998e+02,\n",
      "       3.999e+02])}\n"
     ]
    }
   ],
   "source": [
    "# @markdown Execute this code to initialize the default parameters\n",
    "\n",
    "\n",
    "def default_pars(**kwargs):\n",
    "  pars = {}\n",
    "\n",
    "  # typical neuron parameters#\n",
    "  pars['V_th'] = -55.     # spike threshold [mV]\n",
    "  pars['V_reset'] = -75.  # reset potential [mV]\n",
    "  pars['tau_m'] = 10.     # membrane time constant [ms]\n",
    "  pars['g_L'] = 10.       # leak conductance [nS]\n",
    "  pars['V_init'] = -75.   # initial potential [mV]\n",
    "  pars['E_L'] = -75.      # leak reversal potential [mV]\n",
    "  pars['tref'] = 2.       # refractory time (ms)\n",
    "\n",
    "  # simulation parameters #\n",
    "  pars['T'] = 400.  # Total duration of simulation [ms]\n",
    "  pars['dt'] = .1   # Simulation time step [ms]\n",
    "\n",
    "  # external parameters if any #\n",
    "  for k in kwargs:\n",
    "    pars[k] = kwargs[k]\n",
    "\n",
    "  pars['range_t'] = np.arange(0, pars['T'], pars['dt'])  # Vector of discretized time points [ms]\n",
    "\n",
    "  return pars\n",
    "\n",
    "\n",
    "pars = default_pars()\n",
    "print(pars)"
   ]
  },
  {
   "cell_type": "markdown",
   "metadata": {
    "execution": {}
   },
   "source": [
    "Complete the function below to simulate the LIF neuron when receiving external current inputs. You can use `v, sp = run_LIF(pars, Iinj)` to get the membrane potential (`v`) and spike train (`sp`) given the dictionary `pars` and input current `Iinj`. "
   ]
  },
  {
   "cell_type": "code",
   "execution_count": 7,
   "metadata": {
    "cellView": "both",
    "execution": {
     "iopub.execute_input": "2023-04-17T16:53:51.222050Z",
     "iopub.status.busy": "2023-04-17T16:53:51.221627Z",
     "iopub.status.idle": "2023-04-17T16:53:51.446975Z",
     "shell.execute_reply": "2023-04-17T16:53:51.445305Z"
    }
   },
   "outputs": [
    {
     "ename": "NotImplementedError",
     "evalue": "Student Exercise: calculate the dv/dt and the update step!",
     "output_type": "error",
     "traceback": [
      "\u001b[0;31m---------------------------------------------------------------------------\u001b[0m",
      "\u001b[0;31mNotImplementedError\u001b[0m                       Traceback (most recent call last)",
      "Cell \u001b[0;32mIn[7], line 73\u001b[0m\n\u001b[1;32m     70\u001b[0m pars \u001b[38;5;241m=\u001b[39m default_pars(T\u001b[38;5;241m=\u001b[39m\u001b[38;5;241m500\u001b[39m)\n\u001b[1;32m     72\u001b[0m \u001b[38;5;66;03m# Simulate LIF model\u001b[39;00m\n\u001b[0;32m---> 73\u001b[0m v, sp \u001b[38;5;241m=\u001b[39m \u001b[43mrun_LIF\u001b[49m\u001b[43m(\u001b[49m\u001b[43mpars\u001b[49m\u001b[43m,\u001b[49m\u001b[43m \u001b[49m\u001b[43mIinj\u001b[49m\u001b[38;5;241;43m=\u001b[39;49m\u001b[38;5;241;43m100\u001b[39;49m\u001b[43m,\u001b[49m\u001b[43m \u001b[49m\u001b[43mstop\u001b[49m\u001b[38;5;241;43m=\u001b[39;49m\u001b[38;5;28;43;01mTrue\u001b[39;49;00m\u001b[43m)\u001b[49m\n\u001b[1;32m     75\u001b[0m \u001b[38;5;66;03m# Visualize\u001b[39;00m\n\u001b[1;32m     76\u001b[0m plot_volt_trace(pars, v, sp)\n",
      "Cell \u001b[0;32mIn[7], line 54\u001b[0m, in \u001b[0;36mrun_LIF\u001b[0;34m(pars, Iinj, stop)\u001b[0m\n\u001b[1;32m     49\u001b[0m   tr \u001b[38;5;241m=\u001b[39m tref \u001b[38;5;241m/\u001b[39m dt  \u001b[38;5;66;03m# set refractory time\u001b[39;00m\n\u001b[1;32m     51\u001b[0m \u001b[38;5;66;03m########################################################################\u001b[39;00m\n\u001b[1;32m     52\u001b[0m \u001b[38;5;66;03m## TODO for students: compute the membrane potential v, spike train sp #\u001b[39;00m\n\u001b[1;32m     53\u001b[0m \u001b[38;5;66;03m# Fill out function and remove\u001b[39;00m\n\u001b[0;32m---> 54\u001b[0m \u001b[38;5;28;01mraise\u001b[39;00m \u001b[38;5;167;01mNotImplementedError\u001b[39;00m(\u001b[38;5;124m'\u001b[39m\u001b[38;5;124mStudent Exercise: calculate the dv/dt and the update step!\u001b[39m\u001b[38;5;124m'\u001b[39m)\n\u001b[1;32m     55\u001b[0m \u001b[38;5;66;03m########################################################################\u001b[39;00m\n\u001b[1;32m     56\u001b[0m \n\u001b[1;32m     57\u001b[0m \u001b[38;5;66;03m# Calculate the increment of the membrane potential\u001b[39;00m\n\u001b[1;32m     58\u001b[0m dv \u001b[38;5;241m=\u001b[39m \u001b[38;5;241m.\u001b[39m\u001b[38;5;241m.\u001b[39m\u001b[38;5;241m.\u001b[39m\n",
      "\u001b[0;31mNotImplementedError\u001b[0m: Student Exercise: calculate the dv/dt and the update step!"
     ]
    }
   ],
   "source": [
    "def run_LIF(pars, Iinj, stop=False):\n",
    "  \"\"\"\n",
    "  Simulate the LIF dynamics with external input current\n",
    "\n",
    "  Args:\n",
    "    pars       : parameter dictionary\n",
    "    Iinj       : input current [pA]. The injected current here can be a value\n",
    "                 or an array\n",
    "    stop       : boolean. If True, use a current pulse\n",
    "\n",
    "  Returns:\n",
    "    rec_v      : membrane potential\n",
    "    rec_sp     : spike times\n",
    "  \"\"\"\n",
    "\n",
    "  # Set parameters\n",
    "  V_th, V_reset = pars['V_th'], pars['V_reset']\n",
    "  tau_m, g_L = pars['tau_m'], pars['g_L']\n",
    "  V_init, E_L = pars['V_init'], pars['E_L']\n",
    "  dt, range_t = pars['dt'], pars['range_t']\n",
    "  Lt = range_t.size\n",
    "  tref = pars['tref']\n",
    "\n",
    "  # Initialize voltage\n",
    "  v = np.zeros(Lt)\n",
    "  v[0] = V_init\n",
    "\n",
    "  # Set current time course\n",
    "  Iinj = Iinj * np.ones(Lt)\n",
    "\n",
    "  # If current pulse, set beginning and end to 0\n",
    "  if stop:\n",
    "    Iinj[:int(len(Iinj) / 2) - 1000] = 0\n",
    "    Iinj[int(len(Iinj) / 2) + 1000:] = 0\n",
    "\n",
    "  # Loop over time\n",
    "  rec_spikes = []  # record spike times\n",
    "  tr = 0.  # the count for refractory duration\n",
    "\n",
    "  for it in range(Lt - 1):\n",
    "\n",
    "    if tr > 0:  # check if in refractory period\n",
    "      v[it] = V_reset  # set voltage to reset\n",
    "      tr = tr - 1 # reduce running counter of refractory period\n",
    "\n",
    "    elif v[it] >= V_th:  # if voltage over threshold\n",
    "      rec_spikes.append(it)  # record spike event\n",
    "      v[it] = V_reset  # reset voltage\n",
    "      tr = tref / dt  # set refractory time\n",
    "\n",
    "    ########################################################################\n",
    "    ## TODO for students: compute the membrane potential v, spike train sp #\n",
    "    # Fill out function and remove\n",
    "    raise NotImplementedError('Student Exercise: calculate the dv/dt and the update step!')\n",
    "    ########################################################################\n",
    "\n",
    "    # Calculate the increment of the membrane potential\n",
    "    dv = ...\n",
    "\n",
    "    # Update the membrane potential\n",
    "    v[it + 1] = ...\n",
    "\n",
    "  # Get spike times in ms\n",
    "  rec_spikes = np.array(rec_spikes) * dt\n",
    "\n",
    "  return v, rec_spikes\n",
    "\n",
    "\n",
    "# Get parameters\n",
    "pars = default_pars(T=500)\n",
    "\n",
    "# Simulate LIF model\n",
    "v, sp = run_LIF(pars, Iinj=100, stop=True)\n",
    "\n",
    "# Visualize\n",
    "plot_volt_trace(pars, v, sp)"
   ]
  },
  {
   "cell_type": "markdown",
   "metadata": {
    "colab_type": "text",
    "execution": {}
   },
   "source": [
    "[*Click for solution*](https://github.com/NeuromatchAcademy/course-content/tree/main//tutorials/W2D3_BiologicalNeuronModels/solutions/W2D3_Tutorial1_Solution_60a1e954.py)\n",
    "\n",
    "*Example output:*\n",
    "\n",
    "<img alt='Solution hint' align='left' width=820.0 height=539.0 src=https://raw.githubusercontent.com/NeuromatchAcademy/course-content/main/tutorials/W2D3_BiologicalNeuronModels/static/W2D3_Tutorial1_Solution_60a1e954_0.png>\n",
    "\n"
   ]
  },
  {
   "cell_type": "markdown",
   "metadata": {
    "execution": {}
   },
   "source": [
    "---\n",
    "# Section 2: Response of an LIF model to different types of input currents\n",
    "\n",
    "*Estimated timing to here from start of tutorial: 20 min*\n",
    "\n",
    "In the following section, we will learn how to inject direct current and white noise to study the response of an LIF neuron."
   ]
  },
  {
   "cell_type": "markdown",
   "metadata": {},
   "source": [
    "##  Video 2: Response of the LIF neuron to different inputs\n"
   ]
  },
  {
   "cell_type": "code",
   "execution_count": 8,
   "metadata": {
    "cellView": "form",
    "execution": {
     "iopub.execute_input": "2023-04-17T16:53:51.450027Z",
     "iopub.status.busy": "2023-04-17T16:53:51.449474Z",
     "iopub.status.idle": "2023-04-17T16:53:51.510604Z",
     "shell.execute_reply": "2023-04-17T16:53:51.509904Z"
    },
    "tags": [
     "remove-input"
    ]
   },
   "outputs": [
    {
     "data": {
      "application/vnd.jupyter.widget-view+json": {
       "model_id": "6ff57c958d984e13af82cc9cdf95462b",
       "version_major": 2,
       "version_minor": 0
      },
      "text/plain": [
       "Tab(children=(Output(), Output()), selected_index=0, titles=('Youtube', 'Bilibili'))"
      ]
     },
     "metadata": {},
     "output_type": "display_data"
    }
   ],
   "source": [
    "# @title Video 2: Response of the LIF neuron to different inputs\n",
    "from ipywidgets import widgets\n",
    "\n",
    "out2 = widgets.Output()\n",
    "with out2:\n",
    "  from IPython.display import IFrame\n",
    "  class BiliVideo(IFrame):\n",
    "      def __init__(self, id, page=1, width=400, height=300, **kwargs):\n",
    "          self.id=id\n",
    "          src = 'https://player.bilibili.com/player.html?bvid={0}&page={1}'.format(id, page)\n",
    "          super(BiliVideo, self).__init__(src, width, height, **kwargs)\n",
    "\n",
    "  video = BiliVideo(id=\"av541417171\", width=730, height=410, fs=1)\n",
    "  print('Video available at https://www.bilibili.com/video/{0}'.format(video.id))\n",
    "  display(video)\n",
    "\n",
    "out1 = widgets.Output()\n",
    "with out1:\n",
    "  from IPython.display import YouTubeVideo\n",
    "  video = YouTubeVideo(id=\"preNGdab7Kk\", width=730, height=410, fs=1, rel=0)\n",
    "  print('Video available at https://youtube.com/watch?v=' + video.id)\n",
    "  display(video)\n",
    "\n",
    "out = widgets.Tab([out1, out2])\n",
    "out.titles = ['Youtube', 'Bilibili']\n",
    "\n",
    "display(out)"
   ]
  },
  {
   "cell_type": "markdown",
   "metadata": {
    "execution": {}
   },
   "source": [
    "## Section 2.1: Direct current (DC)\n",
    "\n",
    "*Estimated timing to here from start of tutorial: 30 min*\n"
   ]
  },
  {
   "cell_type": "markdown",
   "metadata": {
    "execution": {}
   },
   "source": [
    "### Interactive Demo 2.1: Parameter exploration of DC input amplitude \n",
    "Here's an interactive demo that shows how the LIF neuron behavior changes for DC input (constant current) with different amplitudes. We plot the membrane potential of an LIF neuron. You may notice that the neuron generates a spike. But this is just a cosmetic spike only for illustration purposes. In an LIF neuron, we only need to keep track of times when the neuron hits the threshold so the postsynaptic neurons can be informed of the spike. \n",
    "\n",
    "How much DC is needed to reach the threshold (rheobase current)? How does the membrane time constant affect the frequency of the neuron?"
   ]
  },
  {
   "cell_type": "markdown",
   "metadata": {},
   "source": [
    "#### \n"
   ]
  },
  {
   "cell_type": "markdown",
   "metadata": {},
   "source": [
    " Make sure you execute this cell to enable the widget!\n"
   ]
  },
  {
   "cell_type": "code",
   "execution_count": 9,
   "metadata": {
    "cellView": "form",
    "execution": {
     "iopub.execute_input": "2023-04-17T16:53:51.521731Z",
     "iopub.status.busy": "2023-04-17T16:53:51.521532Z",
     "iopub.status.idle": "2023-04-17T16:53:51.599129Z",
     "shell.execute_reply": "2023-04-17T16:53:51.598302Z"
    },
    "tags": [
     "hide-input"
    ]
   },
   "outputs": [
    {
     "data": {
      "application/vnd.jupyter.widget-view+json": {
       "model_id": "ab0e6f5698d243b9baec961ce1629f79",
       "version_major": 2,
       "version_minor": 0
      },
      "text/plain": [
       "interactive(children=(FloatSlider(value=50.0, description='I_dc', layout=Layout(width='450px'), max=300.0, ste…"
      ]
     },
     "metadata": {},
     "output_type": "display_data"
    }
   ],
   "source": [
    "# @title\n",
    "# @markdown Make sure you execute this cell to enable the widget!\n",
    "my_layout.width = '450px'\n",
    "@widgets.interact(\n",
    "    I_dc=widgets.FloatSlider(50., min=0., max=300., step=10.,\n",
    "                               layout=my_layout),\n",
    "    tau_m=widgets.FloatSlider(10., min=2., max=20., step=2.,\n",
    "                                layout=my_layout)\n",
    ")\n",
    "\n",
    "def diff_DC(I_dc=200., tau_m=10.):\n",
    "  pars = default_pars(T=100.)\n",
    "  pars['tau_m'] = tau_m\n",
    "  v, sp = run_LIF(pars, Iinj=I_dc)\n",
    "  plot_volt_trace(pars, v, sp)\n",
    "  plt.show()"
   ]
  },
  {
   "cell_type": "markdown",
   "metadata": {
    "colab_type": "text",
    "execution": {}
   },
   "source": [
    "[*Click for solution*](https://github.com/NeuromatchAcademy/course-content/tree/main//tutorials/W2D3_BiologicalNeuronModels/solutions/W2D3_Tutorial1_Solution_1058324c.py)\n",
    "\n"
   ]
  },
  {
   "cell_type": "markdown",
   "metadata": {
    "execution": {}
   },
   "source": [
    "## Section 2.2: Gaussian white noise (GWN) current \n",
    "\n",
    "*Estimated timing to here from start of tutorial: 38 min*\n",
    "\n",
    "Given the noisy nature of neuronal activity _in vivo_, neurons usually receive complex, time-varying inputs.\n",
    "\n",
    "To mimic this, we will now investigate the neuronal response when the LIF neuron receives Gaussian white noise $\\xi(t)$ with mean 0 ($\\mu = 0$) and some standard deviation $\\sigma$.\n",
    "\n",
    "Note that the GWN has zero mean, that is, it describes only the fluctuations of the input received by a neuron. We can thus modify our definition of GWN to have a nonzero mean value $\\mu$ that equals the DC input, since this is the average input into the cell. The cell below defines the modified gaussian white noise currents with nonzero mean $\\mu$."
   ]
  },
  {
   "cell_type": "markdown",
   "metadata": {
    "execution": {}
   },
   "source": [
    "### Interactive Demo 2.2: LIF neuron Explorer for noisy input\n",
    "\n",
    "\n",
    "The mean of the Gaussian white noise (GWN) is the amplitude of DC. Indeed, when $\\sigma = 0$, GWN is just a DC.\n",
    "\n",
    "So the question arises how does $\\sigma$ of the GWN affect the spiking behavior of the neuron. For instance we may want to know\n",
    "1.  how does the minimum input (i.e., $\\mu$) needed to make a neuron spike change with increase in $\\sigma$\n",
    "2.  how does the spike regularity change with increase in $\\sigma$\n",
    "\n",
    "To get an intuition about these questions you can use the following interactive demo that shows how the LIF neuron behavior changes for noisy input with different amplitudes (the mean $\\mu$) and fluctuation sizes ($\\sigma$). We use a helper function to generate this noisy input current: `my_GWN(pars, mu, sig, myseed=False)`.  Note that fixing the value of the random seed (e.g., `myseed=2020`) will allow you to obtain the same result every time you run this. We then use our `run_LIF` function to simulate the LIF model.\n"
   ]
  },
  {
   "cell_type": "markdown",
   "metadata": {},
   "source": [
    " Execute to enable helper function `my_GWN`\n"
   ]
  },
  {
   "cell_type": "code",
   "execution_count": 10,
   "metadata": {
    "cellView": "form",
    "execution": {
     "iopub.execute_input": "2023-04-17T16:53:51.602868Z",
     "iopub.status.busy": "2023-04-17T16:53:51.602448Z",
     "iopub.status.idle": "2023-04-17T16:53:51.607907Z",
     "shell.execute_reply": "2023-04-17T16:53:51.607415Z"
    },
    "tags": [
     "hide-input"
    ]
   },
   "outputs": [
    {
     "name": "stdout",
     "output_type": "stream",
     "text": [
      "Help on function my_GWN in module __main__:\n",
      "\n",
      "my_GWN(pars, mu, sig, myseed=False)\n",
      "    Function that generates Gaussian white noise input\n",
      "    \n",
      "    Args:\n",
      "      pars       : parameter dictionary\n",
      "      mu         : noise baseline (mean)\n",
      "      sig        : noise amplitute (standard deviation)\n",
      "      myseed     : random seed. int or boolean\n",
      "                   the same seed will give the same\n",
      "                   random number sequence\n",
      "    \n",
      "    Returns:\n",
      "      I          : Gaussian white noise input\n",
      "\n"
     ]
    }
   ],
   "source": [
    "# @markdown Execute to enable helper function `my_GWN`\n",
    "\n",
    "def my_GWN(pars, mu, sig, myseed=False):\n",
    "  \"\"\"\n",
    "  Function that generates Gaussian white noise input\n",
    "\n",
    "  Args:\n",
    "    pars       : parameter dictionary\n",
    "    mu         : noise baseline (mean)\n",
    "    sig        : noise amplitute (standard deviation)\n",
    "    myseed     : random seed. int or boolean\n",
    "                 the same seed will give the same\n",
    "                 random number sequence\n",
    "\n",
    "  Returns:\n",
    "    I          : Gaussian white noise input\n",
    "  \"\"\"\n",
    "\n",
    "  # Retrieve simulation parameters\n",
    "  dt, range_t = pars['dt'], pars['range_t']\n",
    "  Lt = range_t.size\n",
    "\n",
    "  # Set random seed\n",
    "  if myseed:\n",
    "      np.random.seed(seed=myseed)\n",
    "  else:\n",
    "      np.random.seed()\n",
    "\n",
    "  # Generate GWN\n",
    "  # we divide here by 1000 to convert units to sec.\n",
    "  I_gwn = mu + sig * np.random.randn(Lt) / np.sqrt(dt / 1000.)\n",
    "\n",
    "  return I_gwn\n",
    "\n",
    "help(my_GWN)"
   ]
  },
  {
   "cell_type": "markdown",
   "metadata": {},
   "source": [
    "#### \n"
   ]
  },
  {
   "cell_type": "markdown",
   "metadata": {},
   "source": [
    " Make sure you execute this cell to enable the widget!\n"
   ]
  },
  {
   "cell_type": "code",
   "execution_count": 11,
   "metadata": {
    "cellView": "form",
    "execution": {
     "iopub.execute_input": "2023-04-17T16:53:51.610792Z",
     "iopub.status.busy": "2023-04-17T16:53:51.610214Z",
     "iopub.status.idle": "2023-04-17T16:53:51.666720Z",
     "shell.execute_reply": "2023-04-17T16:53:51.666038Z"
    },
    "tags": [
     "hide-input"
    ]
   },
   "outputs": [
    {
     "data": {
      "application/vnd.jupyter.widget-view+json": {
       "model_id": "27077627a7a7434eac4cd12add90dea2",
       "version_major": 2,
       "version_minor": 0
      },
      "text/plain": [
       "interactive(children=(FloatSlider(value=200.0, description='mu_gwn', layout=Layout(width='450px'), max=300.0, …"
      ]
     },
     "metadata": {},
     "output_type": "display_data"
    }
   ],
   "source": [
    "# @title\n",
    "\n",
    "# @markdown Make sure you execute this cell to enable the widget!\n",
    "\n",
    "my_layout.width = '450px'\n",
    "@widgets.interact(\n",
    "    mu_gwn=widgets.FloatSlider(200., min=100., max=300., step=5.,\n",
    "                               layout=my_layout),\n",
    "    sig_gwn=widgets.FloatSlider(2.5, min=0., max=5., step=.5,\n",
    "                                layout=my_layout)\n",
    ")\n",
    "\n",
    "\n",
    "def diff_GWN_to_LIF(mu_gwn, sig_gwn):\n",
    "  pars = default_pars(T=100.)\n",
    "  I_GWN = my_GWN(pars, mu=mu_gwn, sig=sig_gwn)\n",
    "  v, sp = run_LIF(pars, Iinj=I_GWN)\n",
    "  plt.figure(figsize=(12, 4))\n",
    "  plt.subplot(121)\n",
    "  plt.plot(pars['range_t'][::3], I_GWN[::3], 'b')\n",
    "  plt.xlabel('Time (ms)')\n",
    "  plt.ylabel(r'$I_{GWN}$ (pA)')\n",
    "  plt.subplot(122)\n",
    "  plot_volt_trace(pars, v, sp)\n",
    "  plt.tight_layout()\n",
    "  plt.show()"
   ]
  },
  {
   "cell_type": "markdown",
   "metadata": {
    "colab_type": "text",
    "execution": {}
   },
   "source": [
    "[*Click for solution*](https://github.com/NeuromatchAcademy/course-content/tree/main//tutorials/W2D3_BiologicalNeuronModels/solutions/W2D3_Tutorial1_Solution_2de5d8a9.py)\n",
    "\n"
   ]
  },
  {
   "cell_type": "markdown",
   "metadata": {
    "execution": {}
   },
   "source": [
    "### Think! 2.2: Analyzing GWN Effects on Spiking\n",
    "- As we increase the input average ($\\mu$) or the input fluctuation ($\\sigma$), the spike count changes. How much can we increase the spike count, and what might be the relationship between GWN mean/std or DC value and spike count? \n",
    "\n",
    "- We have seen above that when we inject DC, the neuron spikes in a regular manner (clock-like), and this regularity is reduced when GWN is injected. The question is, how irregular can we make the neurons spiking by changing the parameters of the GWN? \n",
    "\n",
    "We will see the answers to these questions in the next section but discuss first!\n"
   ]
  },
  {
   "cell_type": "markdown",
   "metadata": {
    "execution": {}
   },
   "source": [
    "---\n",
    "# Section 3: Firing rate and spike time irregularity\n",
    "\n",
    "*Estimated timing to here from start of tutorial: 48 min*\n",
    "\n",
    "When we plot the output firing rate as a function of GWN mean or DC value, it is called the input-output transfer function of the neuron (so simply F-I curve).\n",
    "\n",
    "Spike regularity can be quantified as the **coefficient of variation (CV) of the interspike interval (ISI)**:\n",
    "\n",
    "\\begin{equation}\n",
    "\\text{CV}_{\\text{ISI}} = \\frac{std(\\text{ISI})}{mean(\\text{ISI})}\n",
    "\\end{equation}\n",
    "\n",
    "A Poisson train is an example of high irregularity, in which $\\textbf{CV}_{\\textbf{ISI}} \\textbf{= 1}$. And for a clocklike (regular) process we have $\\textbf{CV}_{\\textbf{ISI}} \\textbf{= 0}$ because of **std(ISI)=0**."
   ]
  },
  {
   "cell_type": "markdown",
   "metadata": {
    "execution": {}
   },
   "source": [
    "## Interactive Demo 3A: F-I Explorer for different `sig_gwn`\n",
    "\n",
    "How does the F-I curve of the LIF neuron change as we increase the $\\sigma$ of the GWN? We can already expect that the F-I curve will be stochastic and the results will vary from one trial to another. But will there be any other change compared to the F-I curved measured using DC?\n",
    "\n",
    "Here's an interactive demo that shows how the F-I curve of a LIF neuron changes for different levels of fluctuation $\\sigma$.\n"
   ]
  },
  {
   "cell_type": "markdown",
   "metadata": {},
   "source": [
    "### \n"
   ]
  },
  {
   "cell_type": "markdown",
   "metadata": {},
   "source": [
    " Make sure you execute this cell to enable the widget!\n"
   ]
  },
  {
   "cell_type": "code",
   "execution_count": 12,
   "metadata": {
    "cellView": "form",
    "execution": {
     "iopub.execute_input": "2023-04-17T16:53:51.671011Z",
     "iopub.status.busy": "2023-04-17T16:53:51.670791Z",
     "iopub.status.idle": "2023-04-17T16:53:51.726037Z",
     "shell.execute_reply": "2023-04-17T16:53:51.725387Z"
    },
    "tags": [
     "hide-input"
    ]
   },
   "outputs": [
    {
     "data": {
      "application/vnd.jupyter.widget-view+json": {
       "model_id": "a6fe730dc68a4b91b4b6a8928f705a66",
       "version_major": 2,
       "version_minor": 0
      },
      "text/plain": [
       "interactive(children=(FloatSlider(value=3.0, description='sig_gwn', layout=Layout(width='450px'), max=6.0, ste…"
      ]
     },
     "metadata": {},
     "output_type": "display_data"
    }
   ],
   "source": [
    "# @title\n",
    "\n",
    "# @markdown Make sure you execute this cell to enable the widget!\n",
    "\n",
    "\n",
    "my_layout.width = '450px'\n",
    "@widgets.interact(\n",
    "    sig_gwn=widgets.FloatSlider(3.0, min=0., max=6., step=0.5,\n",
    "                                layout=my_layout)\n",
    ")\n",
    "\n",
    "\n",
    "def diff_std_affect_fI(sig_gwn):\n",
    "  pars = default_pars(T=1000.)\n",
    "  I_mean = np.arange(100., 400., 10.)\n",
    "  spk_count = np.zeros(len(I_mean))\n",
    "  spk_count_dc = np.zeros(len(I_mean))\n",
    "\n",
    "  for idx in range(len(I_mean)):\n",
    "      I_GWN = my_GWN(pars, mu=I_mean[idx], sig=sig_gwn, myseed=2020)\n",
    "      v, rec_spikes = run_LIF(pars, Iinj=I_GWN)\n",
    "      v_dc, rec_sp_dc = run_LIF(pars, Iinj=I_mean[idx])\n",
    "      spk_count[idx] = len(rec_spikes)\n",
    "      spk_count_dc[idx] = len(rec_sp_dc)\n",
    "\n",
    "  # Plot the F-I curve i.e. Output firing rate as a function of input mean.\n",
    "  plt.figure()\n",
    "  plt.plot(I_mean, spk_count, 'k',\n",
    "           label=r'$\\sigma_{\\mathrm{GWN}}=%.2f$' % sig_gwn)\n",
    "  plt.plot(I_mean, spk_count_dc, 'k--', alpha=0.5, lw=4, dashes=(2, 2),\n",
    "           label='DC input')\n",
    "  plt.ylabel('Spike count')\n",
    "  plt.xlabel('Average injected current (pA)')\n",
    "  plt.legend(loc='best')\n",
    "  plt.show()"
   ]
  },
  {
   "cell_type": "markdown",
   "metadata": {
    "colab_type": "text",
    "execution": {}
   },
   "source": [
    "[*Click for solution*](https://github.com/NeuromatchAcademy/course-content/tree/main//tutorials/W2D3_BiologicalNeuronModels/solutions/W2D3_Tutorial1_Solution_5aa4e3b0.py)\n",
    "\n"
   ]
  },
  {
   "cell_type": "markdown",
   "metadata": {
    "execution": {}
   },
   "source": [
    "## Coding Exercise 3: Compute $CV_{ISI}$ values\n",
    "\n",
    "As shown above, the F-I curve becomes smoother while increasing the amplitude of the fluctuation ($\\sigma$). In addition, the fluctuation can also change the irregularity of the spikes. Let's investigate the effect of $\\mu=250$ with $\\sigma=0.5$ vs $\\sigma=3$. \n",
    "\n",
    "Fill in the code below to compute ISI, then plot the histogram of the ISI and compute the $CV_{ISI}$. Note that, you can use `np.diff` to calculate ISI."
   ]
  },
  {
   "cell_type": "code",
   "execution_count": 13,
   "metadata": {
    "execution": {
     "iopub.execute_input": "2023-04-17T16:53:51.730326Z",
     "iopub.status.busy": "2023-04-17T16:53:51.729973Z",
     "iopub.status.idle": "2023-04-17T16:53:51.828785Z",
     "shell.execute_reply": "2023-04-17T16:53:51.828079Z"
    }
   },
   "outputs": [
    {
     "ename": "NotImplementedError",
     "evalue": "Student Exercise: calculate the dv/dt and the update step!",
     "output_type": "error",
     "traceback": [
      "\u001b[0;31m---------------------------------------------------------------------------\u001b[0m",
      "\u001b[0;31mNotImplementedError\u001b[0m                       Traceback (most recent call last)",
      "Cell \u001b[0;32mIn[13], line 39\u001b[0m\n\u001b[1;32m     37\u001b[0m \u001b[38;5;66;03m# Run LIF model for sigma = 0.5\u001b[39;00m\n\u001b[1;32m     38\u001b[0m I_GWN1 \u001b[38;5;241m=\u001b[39m my_GWN(pars, mu\u001b[38;5;241m=\u001b[39mmu_gwn, sig\u001b[38;5;241m=\u001b[39msig_gwn1, myseed\u001b[38;5;241m=\u001b[39m\u001b[38;5;241m2020\u001b[39m)\n\u001b[0;32m---> 39\u001b[0m _, sp1 \u001b[38;5;241m=\u001b[39m \u001b[43mrun_LIF\u001b[49m\u001b[43m(\u001b[49m\u001b[43mpars\u001b[49m\u001b[43m,\u001b[49m\u001b[43m \u001b[49m\u001b[43mIinj\u001b[49m\u001b[38;5;241;43m=\u001b[39;49m\u001b[43mI_GWN1\u001b[49m\u001b[43m)\u001b[49m\n\u001b[1;32m     41\u001b[0m \u001b[38;5;66;03m# Run LIF model for sigma = 3\u001b[39;00m\n\u001b[1;32m     42\u001b[0m I_GWN2 \u001b[38;5;241m=\u001b[39m my_GWN(pars, mu\u001b[38;5;241m=\u001b[39mmu_gwn, sig\u001b[38;5;241m=\u001b[39msig_gwn2, myseed\u001b[38;5;241m=\u001b[39m\u001b[38;5;241m2020\u001b[39m)\n",
      "Cell \u001b[0;32mIn[7], line 54\u001b[0m, in \u001b[0;36mrun_LIF\u001b[0;34m(pars, Iinj, stop)\u001b[0m\n\u001b[1;32m     49\u001b[0m   tr \u001b[38;5;241m=\u001b[39m tref \u001b[38;5;241m/\u001b[39m dt  \u001b[38;5;66;03m# set refractory time\u001b[39;00m\n\u001b[1;32m     51\u001b[0m \u001b[38;5;66;03m########################################################################\u001b[39;00m\n\u001b[1;32m     52\u001b[0m \u001b[38;5;66;03m## TODO for students: compute the membrane potential v, spike train sp #\u001b[39;00m\n\u001b[1;32m     53\u001b[0m \u001b[38;5;66;03m# Fill out function and remove\u001b[39;00m\n\u001b[0;32m---> 54\u001b[0m \u001b[38;5;28;01mraise\u001b[39;00m \u001b[38;5;167;01mNotImplementedError\u001b[39;00m(\u001b[38;5;124m'\u001b[39m\u001b[38;5;124mStudent Exercise: calculate the dv/dt and the update step!\u001b[39m\u001b[38;5;124m'\u001b[39m)\n\u001b[1;32m     55\u001b[0m \u001b[38;5;66;03m########################################################################\u001b[39;00m\n\u001b[1;32m     56\u001b[0m \n\u001b[1;32m     57\u001b[0m \u001b[38;5;66;03m# Calculate the increment of the membrane potential\u001b[39;00m\n\u001b[1;32m     58\u001b[0m dv \u001b[38;5;241m=\u001b[39m \u001b[38;5;241m.\u001b[39m\u001b[38;5;241m.\u001b[39m\u001b[38;5;241m.\u001b[39m\n",
      "\u001b[0;31mNotImplementedError\u001b[0m: Student Exercise: calculate the dv/dt and the update step!"
     ]
    }
   ],
   "source": [
    "def isi_cv_LIF(spike_times):\n",
    "  \"\"\"\n",
    "  Calculates the interspike intervals (isi) and\n",
    "  the coefficient of variation (cv) for a given spike_train\n",
    "\n",
    "  Args:\n",
    "    spike_times : (n, ) vector with the spike times (ndarray)\n",
    "\n",
    "  Returns:\n",
    "    isi         : (n-1,) vector with the inter-spike intervals (ms)\n",
    "    cv          : coefficient of variation of isi (float)\n",
    "\n",
    "  \"\"\"\n",
    "  ########################################################################\n",
    "  ## TODO for students: compute the membrane potential v, spike train sp #\n",
    "  # Fill out function and remove\n",
    "  raise NotImplementedError('Student Exercise: calculate the isi and the cv!')\n",
    "  ########################################################################\n",
    "  if len(spike_times) >= 2:\n",
    "    # Compute isi\n",
    "    isi = ...\n",
    "    # Compute cv\n",
    "    cv = ...\n",
    "  else:\n",
    "    isi = np.nan\n",
    "    cv = np.nan\n",
    "\n",
    "  return isi, cv\n",
    "\n",
    "\n",
    "# Set parameters\n",
    "pars = default_pars(T=1000.)\n",
    "mu_gwn = 250\n",
    "sig_gwn1 = 0.5\n",
    "sig_gwn2 = 3.0\n",
    "\n",
    "# Run LIF model for sigma = 0.5\n",
    "I_GWN1 = my_GWN(pars, mu=mu_gwn, sig=sig_gwn1, myseed=2020)\n",
    "_, sp1 = run_LIF(pars, Iinj=I_GWN1)\n",
    "\n",
    "# Run LIF model for sigma = 3\n",
    "I_GWN2 = my_GWN(pars, mu=mu_gwn, sig=sig_gwn2, myseed=2020)\n",
    "_, sp2 = run_LIF(pars, Iinj=I_GWN2)\n",
    "\n",
    "# Compute ISIs/CV\n",
    "isi1, cv1 = isi_cv_LIF(sp1)\n",
    "isi2, cv2 = isi_cv_LIF(sp2)\n",
    "\n",
    "# Visualize\n",
    "my_hists(isi1, isi2, cv1, cv2, sig_gwn1, sig_gwn2)"
   ]
  },
  {
   "cell_type": "markdown",
   "metadata": {
    "colab_type": "text",
    "execution": {}
   },
   "source": [
    "[*Click for solution*](https://github.com/NeuromatchAcademy/course-content/tree/main//tutorials/W2D3_BiologicalNeuronModels/solutions/W2D3_Tutorial1_Solution_27d69c89.py)\n",
    "\n",
    "*Example output:*\n",
    "\n",
    "<img alt='Solution hint' align='left' width=1078.0 height=378.0 src=https://raw.githubusercontent.com/NeuromatchAcademy/course-content/main/tutorials/W2D3_BiologicalNeuronModels/static/W2D3_Tutorial1_Solution_27d69c89_0.png>\n",
    "\n"
   ]
  },
  {
   "cell_type": "markdown",
   "metadata": {
    "execution": {}
   },
   "source": [
    "## Interactive Demo 3B: Spike irregularity explorer for different `sig_gwn`\n",
    "\n",
    "In the above illustration, we see that the CV of inter-spike-interval (ISI) distribution depends on $\\sigma$ of GWN. What about the mean of GWN, should that also affect the CV$_{\\rm ISI}$? If yes, how? Does the efficacy of $\\sigma$ in increasing the CV$_{\\rm ISI}$ depend on $\\mu$?\n",
    "\n",
    "In the following interactive demo, you will examine how different levels of fluctuation $\\sigma$ affect the CVs for different average injected currents ($\\mu$).\n",
    "\n",
    "1. Does the standard deviation of the injected current affect the F-I curve in any qualitative manner?\n",
    "2. Why does increasing the mean of GWN reduce the CV$_{\\rm ISI}$?\n",
    "3.  If you plot spike count (or rate) vs. CV$_{\\rm ISI}$, should there be a relationship between the two? Try out yourself."
   ]
  },
  {
   "cell_type": "markdown",
   "metadata": {},
   "source": [
    "### \n"
   ]
  },
  {
   "cell_type": "markdown",
   "metadata": {},
   "source": [
    " Make sure you execute this cell to enable the widget!\n"
   ]
  },
  {
   "cell_type": "code",
   "execution_count": 14,
   "metadata": {
    "cellView": "form",
    "execution": {
     "iopub.execute_input": "2023-04-17T16:53:51.832249Z",
     "iopub.status.busy": "2023-04-17T16:53:51.831755Z",
     "iopub.status.idle": "2023-04-17T16:53:51.884049Z",
     "shell.execute_reply": "2023-04-17T16:53:51.883356Z"
    },
    "tags": [
     "hide-input"
    ]
   },
   "outputs": [
    {
     "data": {
      "application/vnd.jupyter.widget-view+json": {
       "model_id": "5bf889ce896d43bcb86f85dd8aa388cf",
       "version_major": 2,
       "version_minor": 0
      },
      "text/plain": [
       "interactive(children=(FloatSlider(value=0.0, description='sig_gwn', layout=Layout(width='450px'), max=10.0, st…"
      ]
     },
     "metadata": {},
     "output_type": "display_data"
    }
   ],
   "source": [
    "#@title\n",
    "\n",
    "#@markdown Make sure you execute this cell to enable the widget!\n",
    "\n",
    "my_layout.width = '450px'\n",
    "@widgets.interact(\n",
    "    sig_gwn=widgets.FloatSlider(0.0, min=0., max=10.,\n",
    "                                step=0.5, layout=my_layout)\n",
    ")\n",
    "\n",
    "\n",
    "def diff_std_affect_fI(sig_gwn):\n",
    "  pars = default_pars(T=1000.)\n",
    "  I_mean = np.arange(100., 400., 20)\n",
    "  spk_count = np.zeros(len(I_mean))\n",
    "  cv_isi = np.empty(len(I_mean))\n",
    "\n",
    "  for idx in range(len(I_mean)):\n",
    "    I_GWN = my_GWN(pars, mu=I_mean[idx], sig=sig_gwn)\n",
    "    v, rec_spikes = run_LIF(pars, Iinj=I_GWN)\n",
    "    spk_count[idx] = len(rec_spikes)\n",
    "    if len(rec_spikes) > 3:\n",
    "      isi = np.diff(rec_spikes)\n",
    "      cv_isi[idx] = np.std(isi) / np.mean(isi)\n",
    "\n",
    "  # Plot the F-I curve i.e. Output firing rate as a function of input mean.\n",
    "  plt.figure()\n",
    "  plt.plot(I_mean[spk_count > 5], cv_isi[spk_count > 5], 'bo', alpha=0.5)\n",
    "  plt.xlabel('Average injected current (pA)')\n",
    "  plt.ylabel(r'Spike irregularity ($\\mathrm{CV}_\\mathrm{ISI}$)')\n",
    "  plt.ylim(-0.1, 1.5)\n",
    "  plt.grid(True)\n",
    "  plt.show()"
   ]
  },
  {
   "cell_type": "markdown",
   "metadata": {
    "colab_type": "text",
    "execution": {}
   },
   "source": [
    "[*Click for solution*](https://github.com/NeuromatchAcademy/course-content/tree/main//tutorials/W2D3_BiologicalNeuronModels/solutions/W2D3_Tutorial1_Solution_c6f1c4a2.py)\n",
    "\n"
   ]
  },
  {
   "cell_type": "markdown",
   "metadata": {
    "execution": {}
   },
   "source": [
    "---\n",
    "# Summary\n",
    "\n",
    "*Estimated timing of tutorial: 1 hour, 10 min*\n",
    "\n",
    "Congratulations! You've just built a leaky integrate-and-fire (LIF) neuron model from scratch, and studied its dynamics in response to various types of inputs, having:\n",
    "\n",
    "- simulated the LIF neuron model\n",
    "\n",
    "- driven the LIF neuron with external inputs, such as direct current and Gaussian white noise\n",
    "\n",
    "- studied how different inputs affect the  LIF neuron's output (firing rate and spike time irregularity),\n",
    "\n",
    "with a special focus on low rate and irregular firing regime to mimic real cortical neurons. The next tutorial will look at how spiking statistics may be influenced by a neuron's input statistics.\n",
    "\n",
    "If you have extra time, look at the bonus sections below to explore a different type of noise input and learn about extensions to integrate-and-fire models.\n"
   ]
  },
  {
   "cell_type": "markdown",
   "metadata": {
    "execution": {}
   },
   "source": [
    "---\n",
    "# Bonus"
   ]
  },
  {
   "cell_type": "markdown",
   "metadata": {
    "execution": {}
   },
   "source": [
    "---\n",
    "## Bonus Section 1: Ornstein-Uhlenbeck Process\n",
    "\n",
    "When a neuron receives spiking input, the synaptic current is Shot Noise -- which is a kind of colored noise and the spectrum of the noise determined by the synaptic kernel time constant. That is, a neuron is driven by **colored noise** and not GWN.\n",
    "\n",
    "We can model colored noise using the Ornstein-Uhlenbeck process - filtered white noise. "
   ]
  },
  {
   "cell_type": "markdown",
   "metadata": {
    "execution": {}
   },
   "source": [
    "We next study if the input current is temporally correlated and is modeled as an Ornstein-Uhlenbeck process $\\eta(t)$, i.e., low-pass filtered GWN with a time constant $\\tau_{\\eta}$: \n",
    "\n",
    "\\begin{equation}\n",
    "\\tau_\\eta \\frac{d}{dt}\\eta(t) = \\mu-\\eta(t) + \\sigma_\\eta\\sqrt{2\\tau_\\eta}\\xi(t)\n",
    "\\end{equation}\n",
    "\n",
    "**Hint:** An OU process as defined above has\n",
    "\n",
    "\\begin{equation}\n",
    "\\mathbb{E}[\\eta(t)]=\\mu\n",
    "\\end{equation}\n",
    "\n",
    "and autocovariance \n",
    "\n",
    "\\begin{equation}\n",
    "[\\eta(t)\\eta(t+\\tau)]=\\sigma_\\eta^2e^{-|t-\\tau|/\\tau_\\eta}\n",
    "\\end{equation}\n",
    "\n",
    "which can be used to check your code. "
   ]
  },
  {
   "cell_type": "markdown",
   "metadata": {},
   "source": [
    " Execute this cell to get helper function `my_OU`\n"
   ]
  },
  {
   "cell_type": "code",
   "execution_count": 15,
   "metadata": {
    "cellView": "form",
    "execution": {
     "iopub.execute_input": "2023-04-17T16:53:51.888998Z",
     "iopub.status.busy": "2023-04-17T16:53:51.888600Z",
     "iopub.status.idle": "2023-04-17T16:53:51.894716Z",
     "shell.execute_reply": "2023-04-17T16:53:51.894002Z"
    },
    "tags": [
     "hide-input"
    ]
   },
   "outputs": [
    {
     "name": "stdout",
     "output_type": "stream",
     "text": [
      "Help on function my_OU in module __main__:\n",
      "\n",
      "my_OU(pars, mu, sig, myseed=False)\n",
      "    Function that produces Ornstein-Uhlenbeck input\n",
      "    \n",
      "    Args:\n",
      "      pars       : parameter dictionary\n",
      "      sig        : noise amplitute\n",
      "      myseed     : random seed. int or boolean\n",
      "    \n",
      "    Returns:\n",
      "      I_ou       : Ornstein-Uhlenbeck input current\n",
      "\n"
     ]
    }
   ],
   "source": [
    "# @markdown Execute this cell to get helper function `my_OU`\n",
    "\n",
    "\n",
    "def my_OU(pars, mu, sig, myseed=False):\n",
    "  \"\"\"\n",
    "  Function that produces Ornstein-Uhlenbeck input\n",
    "\n",
    "  Args:\n",
    "    pars       : parameter dictionary\n",
    "    sig        : noise amplitute\n",
    "    myseed     : random seed. int or boolean\n",
    "\n",
    "  Returns:\n",
    "    I_ou       : Ornstein-Uhlenbeck input current\n",
    "  \"\"\"\n",
    "\n",
    "  # Retrieve simulation parameters\n",
    "  dt, range_t = pars['dt'], pars['range_t']\n",
    "  Lt = range_t.size\n",
    "  tau_ou = pars['tau_ou']  # [ms]\n",
    "\n",
    "  # set random seed\n",
    "  if myseed:\n",
    "    np.random.seed(seed=myseed)\n",
    "  else:\n",
    "    np.random.seed()\n",
    "\n",
    "  # Initialize\n",
    "  noise = np.random.randn(Lt)\n",
    "  I_ou = np.zeros(Lt)\n",
    "  I_ou[0] = noise[0] * sig\n",
    "\n",
    "  # generate OU\n",
    "  for it in range(Lt-1):\n",
    "    I_ou[it+1] = I_ou[it] + (dt / tau_ou) * (mu - I_ou[it]) + np.sqrt(2 * dt / tau_ou) * sig * noise[it + 1]\n",
    "\n",
    "  return I_ou\n",
    "\n",
    "\n",
    "help(my_OU)"
   ]
  },
  {
   "cell_type": "markdown",
   "metadata": {
    "execution": {}
   },
   "source": [
    "### Bonus Interactive Demo 1: LIF Explorer with OU input\n",
    "In the following, we will check how a neuron responds to a noisy current that follows the statistics of an OU process.\n",
    "\n",
    "-  How does the OU type input change neuron responsiveness? \n",
    "-  What do you think will happen to the spike pattern and rate if you increased or decreased the time constant of the OU process?"
   ]
  },
  {
   "cell_type": "markdown",
   "metadata": {},
   "source": [
    "#### \n"
   ]
  },
  {
   "cell_type": "markdown",
   "metadata": {},
   "source": [
    " Remember to enable the widget by running the cell!\n"
   ]
  },
  {
   "cell_type": "code",
   "execution_count": 16,
   "metadata": {
    "cellView": "form",
    "execution": {
     "iopub.execute_input": "2023-04-17T16:53:51.898100Z",
     "iopub.status.busy": "2023-04-17T16:53:51.897606Z",
     "iopub.status.idle": "2023-04-17T16:53:51.970546Z",
     "shell.execute_reply": "2023-04-17T16:53:51.969750Z"
    },
    "tags": [
     "hide-input"
    ]
   },
   "outputs": [
    {
     "data": {
      "application/vnd.jupyter.widget-view+json": {
       "model_id": "a9a2b8b9847d4be5aac595708edb1cf3",
       "version_major": 2,
       "version_minor": 0
      },
      "text/plain": [
       "interactive(children=(FloatSlider(value=10.0, description='tau_ou', layout=Layout(width='450px'), max=20.0, mi…"
      ]
     },
     "metadata": {},
     "output_type": "display_data"
    }
   ],
   "source": [
    "# @title\n",
    "\n",
    "# @markdown Remember to enable the widget by running the cell!\n",
    "\n",
    "my_layout.width = '450px'\n",
    "@widgets.interact(\n",
    "  tau_ou=widgets.FloatSlider(10.0, min=5., max=20.,\n",
    "                             step=2.5, layout=my_layout),\n",
    "  sig_ou=widgets.FloatSlider(10.0, min=5., max=40.,\n",
    "                             step=2.5, layout=my_layout),\n",
    "  mu_ou=widgets.FloatSlider(190.0, min=180., max=220.,\n",
    "                            step=2.5, layout=my_layout)\n",
    ")\n",
    "\n",
    "\n",
    "def LIF_with_OU(tau_ou=10., sig_ou=40., mu_ou=200.):\n",
    "  pars = default_pars(T=1000.)\n",
    "  pars['tau_ou'] = tau_ou  # [ms]\n",
    "\n",
    "  I_ou = my_OU(pars, mu_ou, sig_ou)\n",
    "\n",
    "  v, sp = run_LIF(pars, Iinj=I_ou)\n",
    "\n",
    "  plt.figure(figsize=(12, 4))\n",
    "  plt.subplot(121)\n",
    "  plt.plot(pars['range_t'], I_ou, 'b', lw=1.0)\n",
    "  plt.xlabel('Time (ms)')\n",
    "  plt.ylabel(r'$I_{\\mathrm{OU}}$ (pA)')\n",
    "  plt.subplot(122)\n",
    "  plot_volt_trace(pars, v, sp)\n",
    "  plt.tight_layout()\n",
    "  plt.show()"
   ]
  },
  {
   "cell_type": "markdown",
   "metadata": {
    "colab_type": "text",
    "execution": {}
   },
   "source": [
    "[*Click for solution*](https://github.com/NeuromatchAcademy/course-content/tree/main//tutorials/W2D3_BiologicalNeuronModels/solutions/W2D3_Tutorial1_Solution_a0f797af.py)\n",
    "\n"
   ]
  },
  {
   "cell_type": "markdown",
   "metadata": {
    "execution": {}
   },
   "source": [
    "---\n",
    "## Bonus Section 2: Generalized Integrate-and-Fire models\n",
    "\n",
    "LIF model is not the only abstraction of real neurons. If you want to learn about more realistic types of neuronal models, watch the Bonus Video!"
   ]
  },
  {
   "cell_type": "markdown",
   "metadata": {},
   "source": [
    "###  Video 3 (Bonus): Extensions to Integrate-and-Fire models\n"
   ]
  },
  {
   "cell_type": "code",
   "execution_count": 17,
   "metadata": {
    "cellView": "form",
    "execution": {
     "iopub.execute_input": "2023-04-17T16:53:51.974760Z",
     "iopub.status.busy": "2023-04-17T16:53:51.974337Z",
     "iopub.status.idle": "2023-04-17T16:53:52.021046Z",
     "shell.execute_reply": "2023-04-17T16:53:52.020287Z"
    },
    "tags": [
     "remove-input"
    ]
   },
   "outputs": [
    {
     "data": {
      "application/vnd.jupyter.widget-view+json": {
       "model_id": "3cc7e655570d4a629355ae6517284b90",
       "version_major": 2,
       "version_minor": 0
      },
      "text/plain": [
       "Tab(children=(Output(), Output()), selected_index=0, titles=('Youtube', 'Bilibili'))"
      ]
     },
     "metadata": {},
     "output_type": "display_data"
    }
   ],
   "source": [
    "# @title Video 3 (Bonus): Extensions to Integrate-and-Fire models\n",
    "from ipywidgets import widgets\n",
    "\n",
    "out2 = widgets.Output()\n",
    "with out2:\n",
    "  from IPython.display import IFrame\n",
    "  class BiliVideo(IFrame):\n",
    "      def __init__(self, id, page=1, width=400, height=300, **kwargs):\n",
    "          self.id=id\n",
    "          src = 'https://player.bilibili.com/player.html?bvid={0}&page={1}'.format(id, page)\n",
    "          super(BiliVideo, self).__init__(src, width, height, **kwargs)\n",
    "\n",
    "  video = BiliVideo(id=\"\", width=730, height=410, fs=1)\n",
    "  print('Video available at https://www.bilibili.com/video/{0}'.format(video.id))\n",
    "  display(video)\n",
    "\n",
    "out1 = widgets.Output()\n",
    "with out1:\n",
    "  from IPython.display import YouTubeVideo\n",
    "  video = YouTubeVideo(id=\"G0b6wLhuQxE\", width=730, height=410, fs=1, rel=0)\n",
    "  print('Video available at https://youtube.com/watch?v=' + video.id)\n",
    "  display(video)\n",
    "\n",
    "out = widgets.Tab([out1, out2])\n",
    "out.titles = ['Youtube', 'Bilibili']\n",
    "\n",
    "display(out)"
   ]
  }
 ],
 "metadata": {
  "colab": {
   "collapsed_sections": [],
   "include_colab_link": true,
   "name": "W2D3_Tutorial1",
   "provenance": [],
   "toc_visible": true
  },
  "kernel": {
   "display_name": "Python 3",
   "language": "python",
   "name": "python3"
  },
  "kernelspec": {
   "display_name": "Python 3",
   "name": "python3"
  },
  "language_info": {
   "codemirror_mode": {
    "name": "ipython",
    "version": 3
   },
   "file_extension": ".py",
   "mimetype": "text/x-python",
   "name": "python",
   "nbconvert_exporter": "python",
   "pygments_lexer": "ipython3",
   "version": "3.11.3"
  },
  "widgets": {
   "application/vnd.jupyter.widget-state+json": {
    "state": {
     "058536357f774a37aa1d4a7bbe977caa": {
      "model_module": "@jupyter-widgets/base",
      "model_module_version": "2.0.0",
      "model_name": "LayoutModel",
      "state": {
       "_model_module": "@jupyter-widgets/base",
       "_model_module_version": "2.0.0",
       "_model_name": "LayoutModel",
       "_view_count": null,
       "_view_module": "@jupyter-widgets/base",
       "_view_module_version": "2.0.0",
       "_view_name": "LayoutView",
       "align_content": null,
       "align_items": null,
       "align_self": null,
       "border_bottom": null,
       "border_left": null,
       "border_right": null,
       "border_top": null,
       "bottom": null,
       "display": null,
       "flex": null,
       "flex_flow": null,
       "grid_area": null,
       "grid_auto_columns": null,
       "grid_auto_flow": null,
       "grid_auto_rows": null,
       "grid_column": null,
       "grid_gap": null,
       "grid_row": null,
       "grid_template_areas": null,
       "grid_template_columns": null,
       "grid_template_rows": null,
       "height": null,
       "justify_content": null,
       "justify_items": null,
       "left": null,
       "margin": null,
       "max_height": null,
       "max_width": null,
       "min_height": null,
       "min_width": null,
       "object_fit": null,
       "object_position": null,
       "order": null,
       "overflow": null,
       "padding": null,
       "right": null,
       "top": null,
       "visibility": null,
       "width": null
      }
     },
     "0c6cebf28ba14d919e095e21b5a028ce": {
      "model_module": "@jupyter-widgets/controls",
      "model_module_version": "2.0.0",
      "model_name": "SliderStyleModel",
      "state": {
       "_model_module": "@jupyter-widgets/controls",
       "_model_module_version": "2.0.0",
       "_model_name": "SliderStyleModel",
       "_view_count": null,
       "_view_module": "@jupyter-widgets/base",
       "_view_module_version": "2.0.0",
       "_view_name": "StyleView",
       "description_width": "",
       "handle_color": null
      }
     },
     "0e7e0cf4bb284c71879de2eeca91288d": {
      "model_module": "@jupyter-widgets/controls",
      "model_module_version": "2.0.0",
      "model_name": "SliderStyleModel",
      "state": {
       "_model_module": "@jupyter-widgets/controls",
       "_model_module_version": "2.0.0",
       "_model_name": "SliderStyleModel",
       "_view_count": null,
       "_view_module": "@jupyter-widgets/base",
       "_view_module_version": "2.0.0",
       "_view_name": "StyleView",
       "description_width": "",
       "handle_color": null
      }
     },
     "109446285bc4456b9fbf021ed6b1b0f2": {
      "model_module": "@jupyter-widgets/controls",
      "model_module_version": "2.0.0",
      "model_name": "SliderStyleModel",
      "state": {
       "_model_module": "@jupyter-widgets/controls",
       "_model_module_version": "2.0.0",
       "_model_name": "SliderStyleModel",
       "_view_count": null,
       "_view_module": "@jupyter-widgets/base",
       "_view_module_version": "2.0.0",
       "_view_name": "StyleView",
       "description_width": "",
       "handle_color": null
      }
     },
     "152a10ccea234fca9aa0454444a33467": {
      "model_module": "@jupyter-widgets/controls",
      "model_module_version": "2.0.0",
      "model_name": "FloatSliderModel",
      "state": {
       "_dom_classes": [],
       "_model_module": "@jupyter-widgets/controls",
       "_model_module_version": "2.0.0",
       "_model_name": "FloatSliderModel",
       "_view_count": null,
       "_view_module": "@jupyter-widgets/controls",
       "_view_module_version": "2.0.0",
       "_view_name": "FloatSliderView",
       "behavior": "drag-tap",
       "continuous_update": true,
       "description": "mu_ou",
       "description_allow_html": false,
       "disabled": false,
       "layout": "IPY_MODEL_aac4bb33ef2d468c98569c67de7210b3",
       "max": 220.0,
       "min": 180.0,
       "orientation": "horizontal",
       "readout": true,
       "readout_format": ".2f",
       "step": 2.5,
       "style": "IPY_MODEL_90329805ff764b449ee9dfd7cb6dac5c",
       "tabbable": null,
       "tooltip": null,
       "value": 190.0
      }
     },
     "1915df78cf414a5f8daaf58240a27c00": {
      "model_module": "@jupyter-widgets/controls",
      "model_module_version": "2.0.0",
      "model_name": "SliderStyleModel",
      "state": {
       "_model_module": "@jupyter-widgets/controls",
       "_model_module_version": "2.0.0",
       "_model_name": "SliderStyleModel",
       "_view_count": null,
       "_view_module": "@jupyter-widgets/base",
       "_view_module_version": "2.0.0",
       "_view_name": "StyleView",
       "description_width": "",
       "handle_color": null
      }
     },
     "22ca815961fb4f159ed4fedb5ee09dc2": {
      "model_module": "@jupyter-widgets/controls",
      "model_module_version": "2.0.0",
      "model_name": "FloatSliderModel",
      "state": {
       "_dom_classes": [],
       "_model_module": "@jupyter-widgets/controls",
       "_model_module_version": "2.0.0",
       "_model_name": "FloatSliderModel",
       "_view_count": null,
       "_view_module": "@jupyter-widgets/controls",
       "_view_module_version": "2.0.0",
       "_view_name": "FloatSliderView",
       "behavior": "drag-tap",
       "continuous_update": true,
       "description": "I_dc",
       "description_allow_html": false,
       "disabled": false,
       "layout": "IPY_MODEL_aac4bb33ef2d468c98569c67de7210b3",
       "max": 300.0,
       "min": 0.0,
       "orientation": "horizontal",
       "readout": true,
       "readout_format": ".2f",
       "step": 10.0,
       "style": "IPY_MODEL_0e7e0cf4bb284c71879de2eeca91288d",
       "tabbable": null,
       "tooltip": null,
       "value": 50.0
      }
     },
     "27077627a7a7434eac4cd12add90dea2": {
      "model_module": "@jupyter-widgets/controls",
      "model_module_version": "2.0.0",
      "model_name": "VBoxModel",
      "state": {
       "_dom_classes": [
        "widget-interact"
       ],
       "_model_module": "@jupyter-widgets/controls",
       "_model_module_version": "2.0.0",
       "_model_name": "VBoxModel",
       "_view_count": null,
       "_view_module": "@jupyter-widgets/controls",
       "_view_module_version": "2.0.0",
       "_view_name": "VBoxView",
       "box_style": "",
       "children": [
        "IPY_MODEL_40342e42371e4b4b9cb705e2c07b8d5e",
        "IPY_MODEL_9590b4d3aa2449258fe032186f6d8f56",
        "IPY_MODEL_34f2c1e27fa24406a6d5418c32c615fc"
       ],
       "layout": "IPY_MODEL_8c3f832889a94c9bbaca77481d60a0b5",
       "tabbable": null,
       "tooltip": null
      }
     },
     "2747eadd47e94168a7bc6a0b1975e7f8": {
      "model_module": "@jupyter-widgets/controls",
      "model_module_version": "2.0.0",
      "model_name": "FloatSliderModel",
      "state": {
       "_dom_classes": [],
       "_model_module": "@jupyter-widgets/controls",
       "_model_module_version": "2.0.0",
       "_model_name": "FloatSliderModel",
       "_view_count": null,
       "_view_module": "@jupyter-widgets/controls",
       "_view_module_version": "2.0.0",
       "_view_name": "FloatSliderView",
       "behavior": "drag-tap",
       "continuous_update": true,
       "description": "sig_gwn",
       "description_allow_html": false,
       "disabled": false,
       "layout": "IPY_MODEL_aac4bb33ef2d468c98569c67de7210b3",
       "max": 6.0,
       "min": 0.0,
       "orientation": "horizontal",
       "readout": true,
       "readout_format": ".2f",
       "step": 0.5,
       "style": "IPY_MODEL_1915df78cf414a5f8daaf58240a27c00",
       "tabbable": null,
       "tooltip": null,
       "value": 3.0
      }
     },
     "2e1e2414502b43da8c9f220dd67e53e8": {
      "model_module": "@jupyter-widgets/output",
      "model_module_version": "1.0.0",
      "model_name": "OutputModel",
      "state": {
       "_dom_classes": [],
       "_model_module": "@jupyter-widgets/output",
       "_model_module_version": "1.0.0",
       "_model_name": "OutputModel",
       "_view_count": null,
       "_view_module": "@jupyter-widgets/output",
       "_view_module_version": "1.0.0",
       "_view_name": "OutputView",
       "layout": "IPY_MODEL_733b6eaa65264cb0af99c5bdccb5163f",
       "msg_id": "",
       "outputs": [
        {
         "name": "stdout",
         "output_type": "stream",
         "text": "Video available at https://www.bilibili.com/video/av456396195\n"
        },
        {
         "data": {
          "text/html": "\n        <iframe\n            width=\"730\"\n            height=\"410\"\n            src=\"https://player.bilibili.com/player.html?bvid=av456396195&page=1?fs=1\"\n            frameborder=\"0\"\n            allowfullscreen\n            \n        ></iframe>\n        ",
          "text/plain": "<__main__.BiliVideo at 0x7f4651bdacd0>"
         },
         "metadata": {},
         "output_type": "display_data"
        }
       ],
       "tabbable": null,
       "tooltip": null
      }
     },
     "32ff45e0c6ba442f928b20c4aceb270d": {
      "model_module": "@jupyter-widgets/base",
      "model_module_version": "2.0.0",
      "model_name": "LayoutModel",
      "state": {
       "_model_module": "@jupyter-widgets/base",
       "_model_module_version": "2.0.0",
       "_model_name": "LayoutModel",
       "_view_count": null,
       "_view_module": "@jupyter-widgets/base",
       "_view_module_version": "2.0.0",
       "_view_name": "LayoutView",
       "align_content": null,
       "align_items": null,
       "align_self": null,
       "border_bottom": null,
       "border_left": null,
       "border_right": null,
       "border_top": null,
       "bottom": null,
       "display": null,
       "flex": null,
       "flex_flow": null,
       "grid_area": null,
       "grid_auto_columns": null,
       "grid_auto_flow": null,
       "grid_auto_rows": null,
       "grid_column": null,
       "grid_gap": null,
       "grid_row": null,
       "grid_template_areas": null,
       "grid_template_columns": null,
       "grid_template_rows": null,
       "height": null,
       "justify_content": null,
       "justify_items": null,
       "left": null,
       "margin": null,
       "max_height": null,
       "max_width": null,
       "min_height": null,
       "min_width": null,
       "object_fit": null,
       "object_position": null,
       "order": null,
       "overflow": null,
       "padding": null,
       "right": null,
       "top": null,
       "visibility": null,
       "width": null
      }
     },
     "336f9828b4224398882fc0eea38504b5": {
      "model_module": "@jupyter-widgets/controls",
      "model_module_version": "2.0.0",
      "model_name": "SliderStyleModel",
      "state": {
       "_model_module": "@jupyter-widgets/controls",
       "_model_module_version": "2.0.0",
       "_model_name": "SliderStyleModel",
       "_view_count": null,
       "_view_module": "@jupyter-widgets/base",
       "_view_module_version": "2.0.0",
       "_view_name": "StyleView",
       "description_width": "",
       "handle_color": null
      }
     },
     "34f2c1e27fa24406a6d5418c32c615fc": {
      "model_module": "@jupyter-widgets/output",
      "model_module_version": "1.0.0",
      "model_name": "OutputModel",
      "state": {
       "_dom_classes": [],
       "_model_module": "@jupyter-widgets/output",
       "_model_module_version": "1.0.0",
       "_model_name": "OutputModel",
       "_view_count": null,
       "_view_module": "@jupyter-widgets/output",
       "_view_module_version": "1.0.0",
       "_view_name": "OutputView",
       "layout": "IPY_MODEL_e60eb6e5dd374460b9ab08df764736a3",
       "msg_id": "",
       "outputs": [
        {
         "ename": "NotImplementedError",
         "evalue": "Student Exercise: calculate the dv/dt and the update step!",
         "output_type": "error",
         "traceback": [
          "\u001b[0;31m---------------------------------------------------------------------------\u001b[0m",
          "\u001b[0;31mNotImplementedError\u001b[0m                       Traceback (most recent call last)",
          "File \u001b[0;32m~/work/course-content/course-content/.tox/run/lib/python3.11/site-packages/ipywidgets/widgets/interaction.py:240\u001b[0m, in \u001b[0;36minteractive.update\u001b[0;34m(self, *args)\u001b[0m\n\u001b[1;32m    238\u001b[0m     value \u001b[38;5;241m=\u001b[39m widget\u001b[38;5;241m.\u001b[39mget_interact_value()\n\u001b[1;32m    239\u001b[0m     \u001b[38;5;28mself\u001b[39m\u001b[38;5;241m.\u001b[39mkwargs[widget\u001b[38;5;241m.\u001b[39m_kwarg] \u001b[38;5;241m=\u001b[39m value\n\u001b[0;32m--> 240\u001b[0m \u001b[38;5;28mself\u001b[39m\u001b[38;5;241m.\u001b[39mresult \u001b[38;5;241m=\u001b[39m \u001b[38;5;28;43mself\u001b[39;49m\u001b[38;5;241;43m.\u001b[39;49m\u001b[43mf\u001b[49m\u001b[43m(\u001b[49m\u001b[38;5;241;43m*\u001b[39;49m\u001b[38;5;241;43m*\u001b[39;49m\u001b[38;5;28;43mself\u001b[39;49m\u001b[38;5;241;43m.\u001b[39;49m\u001b[43mkwargs\u001b[49m\u001b[43m)\u001b[49m\n\u001b[1;32m    241\u001b[0m show_inline_matplotlib_plots()\n\u001b[1;32m    242\u001b[0m \u001b[38;5;28;01mif\u001b[39;00m \u001b[38;5;28mself\u001b[39m\u001b[38;5;241m.\u001b[39mauto_display \u001b[38;5;129;01mand\u001b[39;00m \u001b[38;5;28mself\u001b[39m\u001b[38;5;241m.\u001b[39mresult \u001b[38;5;129;01mis\u001b[39;00m \u001b[38;5;129;01mnot\u001b[39;00m \u001b[38;5;28;01mNone\u001b[39;00m:\n",
          "Cell \u001b[0;32mIn[11], line 17\u001b[0m, in \u001b[0;36mdiff_GWN_to_LIF\u001b[0;34m(mu_gwn, sig_gwn)\u001b[0m\n\u001b[1;32m     15\u001b[0m pars \u001b[38;5;241m=\u001b[39m default_pars(T\u001b[38;5;241m=\u001b[39m\u001b[38;5;241m100.\u001b[39m)\n\u001b[1;32m     16\u001b[0m I_GWN \u001b[38;5;241m=\u001b[39m my_GWN(pars, mu\u001b[38;5;241m=\u001b[39mmu_gwn, sig\u001b[38;5;241m=\u001b[39msig_gwn)\n\u001b[0;32m---> 17\u001b[0m v, sp \u001b[38;5;241m=\u001b[39m \u001b[43mrun_LIF\u001b[49m\u001b[43m(\u001b[49m\u001b[43mpars\u001b[49m\u001b[43m,\u001b[49m\u001b[43m \u001b[49m\u001b[43mIinj\u001b[49m\u001b[38;5;241;43m=\u001b[39;49m\u001b[43mI_GWN\u001b[49m\u001b[43m)\u001b[49m\n\u001b[1;32m     18\u001b[0m plt\u001b[38;5;241m.\u001b[39mfigure(figsize\u001b[38;5;241m=\u001b[39m(\u001b[38;5;241m12\u001b[39m, \u001b[38;5;241m4\u001b[39m))\n\u001b[1;32m     19\u001b[0m plt\u001b[38;5;241m.\u001b[39msubplot(\u001b[38;5;241m121\u001b[39m)\n",
          "Cell \u001b[0;32mIn[7], line 54\u001b[0m, in \u001b[0;36mrun_LIF\u001b[0;34m(pars, Iinj, stop)\u001b[0m\n\u001b[1;32m     49\u001b[0m   tr \u001b[38;5;241m=\u001b[39m tref \u001b[38;5;241m/\u001b[39m dt  \u001b[38;5;66;03m# set refractory time\u001b[39;00m\n\u001b[1;32m     51\u001b[0m \u001b[38;5;66;03m########################################################################\u001b[39;00m\n\u001b[1;32m     52\u001b[0m \u001b[38;5;66;03m## TODO for students: compute the membrane potential v, spike train sp #\u001b[39;00m\n\u001b[1;32m     53\u001b[0m \u001b[38;5;66;03m# Fill out function and remove\u001b[39;00m\n\u001b[0;32m---> 54\u001b[0m \u001b[38;5;28;01mraise\u001b[39;00m \u001b[38;5;167;01mNotImplementedError\u001b[39;00m(\u001b[38;5;124m'\u001b[39m\u001b[38;5;124mStudent Exercise: calculate the dv/dt and the update step!\u001b[39m\u001b[38;5;124m'\u001b[39m)\n\u001b[1;32m     55\u001b[0m \u001b[38;5;66;03m########################################################################\u001b[39;00m\n\u001b[1;32m     56\u001b[0m \n\u001b[1;32m     57\u001b[0m \u001b[38;5;66;03m# Calculate the increment of the membrane potential\u001b[39;00m\n\u001b[1;32m     58\u001b[0m dv \u001b[38;5;241m=\u001b[39m \u001b[38;5;241m.\u001b[39m\u001b[38;5;241m.\u001b[39m\u001b[38;5;241m.\u001b[39m\n",
          "\u001b[0;31mNotImplementedError\u001b[0m: Student Exercise: calculate the dv/dt and the update step!"
         ]
        }
       ],
       "tabbable": null,
       "tooltip": null
      }
     },
     "361841c14486428cbc156c1162865ff9": {
      "model_module": "@jupyter-widgets/base",
      "model_module_version": "2.0.0",
      "model_name": "LayoutModel",
      "state": {
       "_model_module": "@jupyter-widgets/base",
       "_model_module_version": "2.0.0",
       "_model_name": "LayoutModel",
       "_view_count": null,
       "_view_module": "@jupyter-widgets/base",
       "_view_module_version": "2.0.0",
       "_view_name": "LayoutView",
       "align_content": null,
       "align_items": null,
       "align_self": null,
       "border_bottom": null,
       "border_left": null,
       "border_right": null,
       "border_top": null,
       "bottom": null,
       "display": null,
       "flex": null,
       "flex_flow": null,
       "grid_area": null,
       "grid_auto_columns": null,
       "grid_auto_flow": null,
       "grid_auto_rows": null,
       "grid_column": null,
       "grid_gap": null,
       "grid_row": null,
       "grid_template_areas": null,
       "grid_template_columns": null,
       "grid_template_rows": null,
       "height": null,
       "justify_content": null,
       "justify_items": null,
       "left": null,
       "margin": null,
       "max_height": null,
       "max_width": null,
       "min_height": null,
       "min_width": null,
       "object_fit": null,
       "object_position": null,
       "order": null,
       "overflow": null,
       "padding": null,
       "right": null,
       "top": null,
       "visibility": null,
       "width": null
      }
     },
     "3cc7e655570d4a629355ae6517284b90": {
      "model_module": "@jupyter-widgets/controls",
      "model_module_version": "2.0.0",
      "model_name": "TabModel",
      "state": {
       "_dom_classes": [],
       "_model_module": "@jupyter-widgets/controls",
       "_model_module_version": "2.0.0",
       "_model_name": "TabModel",
       "_view_count": null,
       "_view_module": "@jupyter-widgets/controls",
       "_view_module_version": "2.0.0",
       "_view_name": "TabView",
       "box_style": "",
       "children": [
        "IPY_MODEL_e989df9f8b7e4eea89e979401c9eb14c",
        "IPY_MODEL_c5c11beab0c1461985127957156fdf7f"
       ],
       "layout": "IPY_MODEL_9071d6cabd6747228beb31dbdf82be6c",
       "selected_index": 0,
       "tabbable": null,
       "titles": [
        "Youtube",
        "Bilibili"
       ],
       "tooltip": null
      }
     },
     "40342e42371e4b4b9cb705e2c07b8d5e": {
      "model_module": "@jupyter-widgets/controls",
      "model_module_version": "2.0.0",
      "model_name": "FloatSliderModel",
      "state": {
       "_dom_classes": [],
       "_model_module": "@jupyter-widgets/controls",
       "_model_module_version": "2.0.0",
       "_model_name": "FloatSliderModel",
       "_view_count": null,
       "_view_module": "@jupyter-widgets/controls",
       "_view_module_version": "2.0.0",
       "_view_name": "FloatSliderView",
       "behavior": "drag-tap",
       "continuous_update": true,
       "description": "mu_gwn",
       "description_allow_html": false,
       "disabled": false,
       "layout": "IPY_MODEL_aac4bb33ef2d468c98569c67de7210b3",
       "max": 300.0,
       "min": 100.0,
       "orientation": "horizontal",
       "readout": true,
       "readout_format": ".2f",
       "step": 5.0,
       "style": "IPY_MODEL_8f9b5122cc4f4db383380afb95f66c33",
       "tabbable": null,
       "tooltip": null,
       "value": 200.0
      }
     },
     "46b14119c68d4b54aebd5d2f9f9f356e": {
      "model_module": "@jupyter-widgets/controls",
      "model_module_version": "2.0.0",
      "model_name": "FloatSliderModel",
      "state": {
       "_dom_classes": [],
       "_model_module": "@jupyter-widgets/controls",
       "_model_module_version": "2.0.0",
       "_model_name": "FloatSliderModel",
       "_view_count": null,
       "_view_module": "@jupyter-widgets/controls",
       "_view_module_version": "2.0.0",
       "_view_name": "FloatSliderView",
       "behavior": "drag-tap",
       "continuous_update": true,
       "description": "sig_ou",
       "description_allow_html": false,
       "disabled": false,
       "layout": "IPY_MODEL_aac4bb33ef2d468c98569c67de7210b3",
       "max": 40.0,
       "min": 5.0,
       "orientation": "horizontal",
       "readout": true,
       "readout_format": ".2f",
       "step": 2.5,
       "style": "IPY_MODEL_d0da00cafea640d99f1972224926f30c",
       "tabbable": null,
       "tooltip": null,
       "value": 10.0
      }
     },
     "563a8aa04a594ff39fd0679c34d2b854": {
      "model_module": "@jupyter-widgets/controls",
      "model_module_version": "2.0.0",
      "model_name": "TabModel",
      "state": {
       "_dom_classes": [],
       "_model_module": "@jupyter-widgets/controls",
       "_model_module_version": "2.0.0",
       "_model_name": "TabModel",
       "_view_count": null,
       "_view_module": "@jupyter-widgets/controls",
       "_view_module_version": "2.0.0",
       "_view_name": "TabView",
       "box_style": "",
       "children": [
        "IPY_MODEL_dd2d7ccfb37c4c37abf978db7ad685de",
        "IPY_MODEL_2e1e2414502b43da8c9f220dd67e53e8"
       ],
       "layout": "IPY_MODEL_5a4d502776204dd793e3e6147cb4cfd4",
       "selected_index": 0,
       "tabbable": null,
       "titles": [
        "Youtube",
        "Bilibili"
       ],
       "tooltip": null
      }
     },
     "57501398ebf74ff297cc6477afdb607a": {
      "model_module": "@jupyter-widgets/output",
      "model_module_version": "1.0.0",
      "model_name": "OutputModel",
      "state": {
       "_dom_classes": [],
       "_model_module": "@jupyter-widgets/output",
       "_model_module_version": "1.0.0",
       "_model_name": "OutputModel",
       "_view_count": null,
       "_view_module": "@jupyter-widgets/output",
       "_view_module_version": "1.0.0",
       "_view_name": "OutputView",
       "layout": "IPY_MODEL_859f962bf7b6417f8ef164a46ab8d05e",
       "msg_id": "",
       "outputs": [
        {
         "ename": "NotImplementedError",
         "evalue": "Student Exercise: calculate the dv/dt and the update step!",
         "output_type": "error",
         "traceback": [
          "\u001b[0;31m---------------------------------------------------------------------------\u001b[0m",
          "\u001b[0;31mNotImplementedError\u001b[0m                       Traceback (most recent call last)",
          "File \u001b[0;32m~/work/course-content/course-content/.tox/run/lib/python3.11/site-packages/ipywidgets/widgets/interaction.py:240\u001b[0m, in \u001b[0;36minteractive.update\u001b[0;34m(self, *args)\u001b[0m\n\u001b[1;32m    238\u001b[0m     value \u001b[38;5;241m=\u001b[39m widget\u001b[38;5;241m.\u001b[39mget_interact_value()\n\u001b[1;32m    239\u001b[0m     \u001b[38;5;28mself\u001b[39m\u001b[38;5;241m.\u001b[39mkwargs[widget\u001b[38;5;241m.\u001b[39m_kwarg] \u001b[38;5;241m=\u001b[39m value\n\u001b[0;32m--> 240\u001b[0m \u001b[38;5;28mself\u001b[39m\u001b[38;5;241m.\u001b[39mresult \u001b[38;5;241m=\u001b[39m \u001b[38;5;28;43mself\u001b[39;49m\u001b[38;5;241;43m.\u001b[39;49m\u001b[43mf\u001b[49m\u001b[43m(\u001b[49m\u001b[38;5;241;43m*\u001b[39;49m\u001b[38;5;241;43m*\u001b[39;49m\u001b[38;5;28;43mself\u001b[39;49m\u001b[38;5;241;43m.\u001b[39;49m\u001b[43mkwargs\u001b[49m\u001b[43m)\u001b[49m\n\u001b[1;32m    241\u001b[0m show_inline_matplotlib_plots()\n\u001b[1;32m    242\u001b[0m \u001b[38;5;28;01mif\u001b[39;00m \u001b[38;5;28mself\u001b[39m\u001b[38;5;241m.\u001b[39mauto_display \u001b[38;5;129;01mand\u001b[39;00m \u001b[38;5;28mself\u001b[39m\u001b[38;5;241m.\u001b[39mresult \u001b[38;5;129;01mis\u001b[39;00m \u001b[38;5;129;01mnot\u001b[39;00m \u001b[38;5;28;01mNone\u001b[39;00m:\n",
          "Cell \u001b[0;32mIn[14], line 20\u001b[0m, in \u001b[0;36mdiff_std_affect_fI\u001b[0;34m(sig_gwn)\u001b[0m\n\u001b[1;32m     18\u001b[0m \u001b[38;5;28;01mfor\u001b[39;00m idx \u001b[38;5;129;01min\u001b[39;00m \u001b[38;5;28mrange\u001b[39m(\u001b[38;5;28mlen\u001b[39m(I_mean)):\n\u001b[1;32m     19\u001b[0m   I_GWN \u001b[38;5;241m=\u001b[39m my_GWN(pars, mu\u001b[38;5;241m=\u001b[39mI_mean[idx], sig\u001b[38;5;241m=\u001b[39msig_gwn)\n\u001b[0;32m---> 20\u001b[0m   v, rec_spikes \u001b[38;5;241m=\u001b[39m \u001b[43mrun_LIF\u001b[49m\u001b[43m(\u001b[49m\u001b[43mpars\u001b[49m\u001b[43m,\u001b[49m\u001b[43m \u001b[49m\u001b[43mIinj\u001b[49m\u001b[38;5;241;43m=\u001b[39;49m\u001b[43mI_GWN\u001b[49m\u001b[43m)\u001b[49m\n\u001b[1;32m     21\u001b[0m   spk_count[idx] \u001b[38;5;241m=\u001b[39m \u001b[38;5;28mlen\u001b[39m(rec_spikes)\n\u001b[1;32m     22\u001b[0m   \u001b[38;5;28;01mif\u001b[39;00m \u001b[38;5;28mlen\u001b[39m(rec_spikes) \u001b[38;5;241m>\u001b[39m \u001b[38;5;241m3\u001b[39m:\n",
          "Cell \u001b[0;32mIn[7], line 54\u001b[0m, in \u001b[0;36mrun_LIF\u001b[0;34m(pars, Iinj, stop)\u001b[0m\n\u001b[1;32m     49\u001b[0m   tr \u001b[38;5;241m=\u001b[39m tref \u001b[38;5;241m/\u001b[39m dt  \u001b[38;5;66;03m# set refractory time\u001b[39;00m\n\u001b[1;32m     51\u001b[0m \u001b[38;5;66;03m########################################################################\u001b[39;00m\n\u001b[1;32m     52\u001b[0m \u001b[38;5;66;03m## TODO for students: compute the membrane potential v, spike train sp #\u001b[39;00m\n\u001b[1;32m     53\u001b[0m \u001b[38;5;66;03m# Fill out function and remove\u001b[39;00m\n\u001b[0;32m---> 54\u001b[0m \u001b[38;5;28;01mraise\u001b[39;00m \u001b[38;5;167;01mNotImplementedError\u001b[39;00m(\u001b[38;5;124m'\u001b[39m\u001b[38;5;124mStudent Exercise: calculate the dv/dt and the update step!\u001b[39m\u001b[38;5;124m'\u001b[39m)\n\u001b[1;32m     55\u001b[0m \u001b[38;5;66;03m########################################################################\u001b[39;00m\n\u001b[1;32m     56\u001b[0m \n\u001b[1;32m     57\u001b[0m \u001b[38;5;66;03m# Calculate the increment of the membrane potential\u001b[39;00m\n\u001b[1;32m     58\u001b[0m dv \u001b[38;5;241m=\u001b[39m \u001b[38;5;241m.\u001b[39m\u001b[38;5;241m.\u001b[39m\u001b[38;5;241m.\u001b[39m\n",
          "\u001b[0;31mNotImplementedError\u001b[0m: Student Exercise: calculate the dv/dt and the update step!"
         ]
        }
       ],
       "tabbable": null,
       "tooltip": null
      }
     },
     "5a4d502776204dd793e3e6147cb4cfd4": {
      "model_module": "@jupyter-widgets/base",
      "model_module_version": "2.0.0",
      "model_name": "LayoutModel",
      "state": {
       "_model_module": "@jupyter-widgets/base",
       "_model_module_version": "2.0.0",
       "_model_name": "LayoutModel",
       "_view_count": null,
       "_view_module": "@jupyter-widgets/base",
       "_view_module_version": "2.0.0",
       "_view_name": "LayoutView",
       "align_content": null,
       "align_items": null,
       "align_self": null,
       "border_bottom": null,
       "border_left": null,
       "border_right": null,
       "border_top": null,
       "bottom": null,
       "display": null,
       "flex": null,
       "flex_flow": null,
       "grid_area": null,
       "grid_auto_columns": null,
       "grid_auto_flow": null,
       "grid_auto_rows": null,
       "grid_column": null,
       "grid_gap": null,
       "grid_row": null,
       "grid_template_areas": null,
       "grid_template_columns": null,
       "grid_template_rows": null,
       "height": null,
       "justify_content": null,
       "justify_items": null,
       "left": null,
       "margin": null,
       "max_height": null,
       "max_width": null,
       "min_height": null,
       "min_width": null,
       "object_fit": null,
       "object_position": null,
       "order": null,
       "overflow": null,
       "padding": null,
       "right": null,
       "top": null,
       "visibility": null,
       "width": null
      }
     },
     "5bf889ce896d43bcb86f85dd8aa388cf": {
      "model_module": "@jupyter-widgets/controls",
      "model_module_version": "2.0.0",
      "model_name": "VBoxModel",
      "state": {
       "_dom_classes": [
        "widget-interact"
       ],
       "_model_module": "@jupyter-widgets/controls",
       "_model_module_version": "2.0.0",
       "_model_name": "VBoxModel",
       "_view_count": null,
       "_view_module": "@jupyter-widgets/controls",
       "_view_module_version": "2.0.0",
       "_view_name": "VBoxView",
       "box_style": "",
       "children": [
        "IPY_MODEL_7d67f5c44183462591378f1bb38de48c",
        "IPY_MODEL_57501398ebf74ff297cc6477afdb607a"
       ],
       "layout": "IPY_MODEL_75be74a4f3ae450aa73ba23e8f920471",
       "tabbable": null,
       "tooltip": null
      }
     },
     "5d4513db0c2445e3b9f3cb41280a7edb": {
      "model_module": "@jupyter-widgets/output",
      "model_module_version": "1.0.0",
      "model_name": "OutputModel",
      "state": {
       "_dom_classes": [],
       "_model_module": "@jupyter-widgets/output",
       "_model_module_version": "1.0.0",
       "_model_name": "OutputModel",
       "_view_count": null,
       "_view_module": "@jupyter-widgets/output",
       "_view_module_version": "1.0.0",
       "_view_name": "OutputView",
       "layout": "IPY_MODEL_058536357f774a37aa1d4a7bbe977caa",
       "msg_id": "",
       "outputs": [
        {
         "name": "stdout",
         "output_type": "stream",
         "text": "Video available at https://youtube.com/watch?v=preNGdab7Kk\n"
        },
        {
         "data": {
          "image/jpeg": "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\n",
          "text/html": "\n        <iframe\n            width=\"730\"\n            height=\"410\"\n            src=\"https://www.youtube.com/embed/preNGdab7Kk?fs=1&rel=0\"\n            frameborder=\"0\"\n            allowfullscreen\n            \n        ></iframe>\n        ",
          "text/plain": "<IPython.lib.display.YouTubeVideo at 0x7f46516e1e90>"
         },
         "metadata": {},
         "output_type": "display_data"
        }
       ],
       "tabbable": null,
       "tooltip": null
      }
     },
     "69e4f2826b0f4465b388c62434467c26": {
      "model_module": "@jupyter-widgets/base",
      "model_module_version": "2.0.0",
      "model_name": "LayoutModel",
      "state": {
       "_model_module": "@jupyter-widgets/base",
       "_model_module_version": "2.0.0",
       "_model_name": "LayoutModel",
       "_view_count": null,
       "_view_module": "@jupyter-widgets/base",
       "_view_module_version": "2.0.0",
       "_view_name": "LayoutView",
       "align_content": null,
       "align_items": null,
       "align_self": null,
       "border_bottom": null,
       "border_left": null,
       "border_right": null,
       "border_top": null,
       "bottom": null,
       "display": null,
       "flex": null,
       "flex_flow": null,
       "grid_area": null,
       "grid_auto_columns": null,
       "grid_auto_flow": null,
       "grid_auto_rows": null,
       "grid_column": null,
       "grid_gap": null,
       "grid_row": null,
       "grid_template_areas": null,
       "grid_template_columns": null,
       "grid_template_rows": null,
       "height": null,
       "justify_content": null,
       "justify_items": null,
       "left": null,
       "margin": null,
       "max_height": null,
       "max_width": null,
       "min_height": null,
       "min_width": null,
       "object_fit": null,
       "object_position": null,
       "order": null,
       "overflow": null,
       "padding": null,
       "right": null,
       "top": null,
       "visibility": null,
       "width": null
      }
     },
     "6ff57c958d984e13af82cc9cdf95462b": {
      "model_module": "@jupyter-widgets/controls",
      "model_module_version": "2.0.0",
      "model_name": "TabModel",
      "state": {
       "_dom_classes": [],
       "_model_module": "@jupyter-widgets/controls",
       "_model_module_version": "2.0.0",
       "_model_name": "TabModel",
       "_view_count": null,
       "_view_module": "@jupyter-widgets/controls",
       "_view_module_version": "2.0.0",
       "_view_name": "TabView",
       "box_style": "",
       "children": [
        "IPY_MODEL_5d4513db0c2445e3b9f3cb41280a7edb",
        "IPY_MODEL_af57bdb3a5dd405cb7602d946c7943d3"
       ],
       "layout": "IPY_MODEL_361841c14486428cbc156c1162865ff9",
       "selected_index": 0,
       "tabbable": null,
       "titles": [
        "Youtube",
        "Bilibili"
       ],
       "tooltip": null
      }
     },
     "733b6eaa65264cb0af99c5bdccb5163f": {
      "model_module": "@jupyter-widgets/base",
      "model_module_version": "2.0.0",
      "model_name": "LayoutModel",
      "state": {
       "_model_module": "@jupyter-widgets/base",
       "_model_module_version": "2.0.0",
       "_model_name": "LayoutModel",
       "_view_count": null,
       "_view_module": "@jupyter-widgets/base",
       "_view_module_version": "2.0.0",
       "_view_name": "LayoutView",
       "align_content": null,
       "align_items": null,
       "align_self": null,
       "border_bottom": null,
       "border_left": null,
       "border_right": null,
       "border_top": null,
       "bottom": null,
       "display": null,
       "flex": null,
       "flex_flow": null,
       "grid_area": null,
       "grid_auto_columns": null,
       "grid_auto_flow": null,
       "grid_auto_rows": null,
       "grid_column": null,
       "grid_gap": null,
       "grid_row": null,
       "grid_template_areas": null,
       "grid_template_columns": null,
       "grid_template_rows": null,
       "height": null,
       "justify_content": null,
       "justify_items": null,
       "left": null,
       "margin": null,
       "max_height": null,
       "max_width": null,
       "min_height": null,
       "min_width": null,
       "object_fit": null,
       "object_position": null,
       "order": null,
       "overflow": null,
       "padding": null,
       "right": null,
       "top": null,
       "visibility": null,
       "width": null
      }
     },
     "74734a2b54284f24ba15fc3914f39aab": {
      "model_module": "@jupyter-widgets/controls",
      "model_module_version": "2.0.0",
      "model_name": "FloatSliderModel",
      "state": {
       "_dom_classes": [],
       "_model_module": "@jupyter-widgets/controls",
       "_model_module_version": "2.0.0",
       "_model_name": "FloatSliderModel",
       "_view_count": null,
       "_view_module": "@jupyter-widgets/controls",
       "_view_module_version": "2.0.0",
       "_view_name": "FloatSliderView",
       "behavior": "drag-tap",
       "continuous_update": true,
       "description": "tau_ou",
       "description_allow_html": false,
       "disabled": false,
       "layout": "IPY_MODEL_aac4bb33ef2d468c98569c67de7210b3",
       "max": 20.0,
       "min": 5.0,
       "orientation": "horizontal",
       "readout": true,
       "readout_format": ".2f",
       "step": 2.5,
       "style": "IPY_MODEL_109446285bc4456b9fbf021ed6b1b0f2",
       "tabbable": null,
       "tooltip": null,
       "value": 10.0
      }
     },
     "75be74a4f3ae450aa73ba23e8f920471": {
      "model_module": "@jupyter-widgets/base",
      "model_module_version": "2.0.0",
      "model_name": "LayoutModel",
      "state": {
       "_model_module": "@jupyter-widgets/base",
       "_model_module_version": "2.0.0",
       "_model_name": "LayoutModel",
       "_view_count": null,
       "_view_module": "@jupyter-widgets/base",
       "_view_module_version": "2.0.0",
       "_view_name": "LayoutView",
       "align_content": null,
       "align_items": null,
       "align_self": null,
       "border_bottom": null,
       "border_left": null,
       "border_right": null,
       "border_top": null,
       "bottom": null,
       "display": null,
       "flex": null,
       "flex_flow": null,
       "grid_area": null,
       "grid_auto_columns": null,
       "grid_auto_flow": null,
       "grid_auto_rows": null,
       "grid_column": null,
       "grid_gap": null,
       "grid_row": null,
       "grid_template_areas": null,
       "grid_template_columns": null,
       "grid_template_rows": null,
       "height": null,
       "justify_content": null,
       "justify_items": null,
       "left": null,
       "margin": null,
       "max_height": null,
       "max_width": null,
       "min_height": null,
       "min_width": null,
       "object_fit": null,
       "object_position": null,
       "order": null,
       "overflow": null,
       "padding": null,
       "right": null,
       "top": null,
       "visibility": null,
       "width": null
      }
     },
     "7bb52db1390641dc87b6d2a6cd534217": {
      "model_module": "@jupyter-widgets/base",
      "model_module_version": "2.0.0",
      "model_name": "LayoutModel",
      "state": {
       "_model_module": "@jupyter-widgets/base",
       "_model_module_version": "2.0.0",
       "_model_name": "LayoutModel",
       "_view_count": null,
       "_view_module": "@jupyter-widgets/base",
       "_view_module_version": "2.0.0",
       "_view_name": "LayoutView",
       "align_content": null,
       "align_items": null,
       "align_self": null,
       "border_bottom": null,
       "border_left": null,
       "border_right": null,
       "border_top": null,
       "bottom": null,
       "display": null,
       "flex": null,
       "flex_flow": null,
       "grid_area": null,
       "grid_auto_columns": null,
       "grid_auto_flow": null,
       "grid_auto_rows": null,
       "grid_column": null,
       "grid_gap": null,
       "grid_row": null,
       "grid_template_areas": null,
       "grid_template_columns": null,
       "grid_template_rows": null,
       "height": null,
       "justify_content": null,
       "justify_items": null,
       "left": null,
       "margin": null,
       "max_height": null,
       "max_width": null,
       "min_height": null,
       "min_width": null,
       "object_fit": null,
       "object_position": null,
       "order": null,
       "overflow": null,
       "padding": null,
       "right": null,
       "top": null,
       "visibility": null,
       "width": null
      }
     },
     "7d67f5c44183462591378f1bb38de48c": {
      "model_module": "@jupyter-widgets/controls",
      "model_module_version": "2.0.0",
      "model_name": "FloatSliderModel",
      "state": {
       "_dom_classes": [],
       "_model_module": "@jupyter-widgets/controls",
       "_model_module_version": "2.0.0",
       "_model_name": "FloatSliderModel",
       "_view_count": null,
       "_view_module": "@jupyter-widgets/controls",
       "_view_module_version": "2.0.0",
       "_view_name": "FloatSliderView",
       "behavior": "drag-tap",
       "continuous_update": true,
       "description": "sig_gwn",
       "description_allow_html": false,
       "disabled": false,
       "layout": "IPY_MODEL_aac4bb33ef2d468c98569c67de7210b3",
       "max": 10.0,
       "min": 0.0,
       "orientation": "horizontal",
       "readout": true,
       "readout_format": ".2f",
       "step": 0.5,
       "style": "IPY_MODEL_0c6cebf28ba14d919e095e21b5a028ce",
       "tabbable": null,
       "tooltip": null,
       "value": 0.0
      }
     },
     "7ef5e3c3ba12499f8e8de4ee095bd384": {
      "model_module": "@jupyter-widgets/base",
      "model_module_version": "2.0.0",
      "model_name": "LayoutModel",
      "state": {
       "_model_module": "@jupyter-widgets/base",
       "_model_module_version": "2.0.0",
       "_model_name": "LayoutModel",
       "_view_count": null,
       "_view_module": "@jupyter-widgets/base",
       "_view_module_version": "2.0.0",
       "_view_name": "LayoutView",
       "align_content": null,
       "align_items": null,
       "align_self": null,
       "border_bottom": null,
       "border_left": null,
       "border_right": null,
       "border_top": null,
       "bottom": null,
       "display": null,
       "flex": null,
       "flex_flow": null,
       "grid_area": null,
       "grid_auto_columns": null,
       "grid_auto_flow": null,
       "grid_auto_rows": null,
       "grid_column": null,
       "grid_gap": null,
       "grid_row": null,
       "grid_template_areas": null,
       "grid_template_columns": null,
       "grid_template_rows": null,
       "height": null,
       "justify_content": null,
       "justify_items": null,
       "left": null,
       "margin": null,
       "max_height": null,
       "max_width": null,
       "min_height": null,
       "min_width": null,
       "object_fit": null,
       "object_position": null,
       "order": null,
       "overflow": null,
       "padding": null,
       "right": null,
       "top": null,
       "visibility": null,
       "width": null
      }
     },
     "826923449bf041bb88dda6c822d3bf50": {
      "model_module": "@jupyter-widgets/output",
      "model_module_version": "1.0.0",
      "model_name": "OutputModel",
      "state": {
       "_dom_classes": [],
       "_model_module": "@jupyter-widgets/output",
       "_model_module_version": "1.0.0",
       "_model_name": "OutputModel",
       "_view_count": null,
       "_view_module": "@jupyter-widgets/output",
       "_view_module_version": "1.0.0",
       "_view_name": "OutputView",
       "layout": "IPY_MODEL_f51c3f9c217547e09fa74faf77621ba8",
       "msg_id": "",
       "outputs": [
        {
         "ename": "NotImplementedError",
         "evalue": "Student Exercise: calculate the dv/dt and the update step!",
         "output_type": "error",
         "traceback": [
          "\u001b[0;31m---------------------------------------------------------------------------\u001b[0m",
          "\u001b[0;31mNotImplementedError\u001b[0m                       Traceback (most recent call last)",
          "File \u001b[0;32m~/work/course-content/course-content/.tox/run/lib/python3.11/site-packages/ipywidgets/widgets/interaction.py:240\u001b[0m, in \u001b[0;36minteractive.update\u001b[0;34m(self, *args)\u001b[0m\n\u001b[1;32m    238\u001b[0m     value \u001b[38;5;241m=\u001b[39m widget\u001b[38;5;241m.\u001b[39mget_interact_value()\n\u001b[1;32m    239\u001b[0m     \u001b[38;5;28mself\u001b[39m\u001b[38;5;241m.\u001b[39mkwargs[widget\u001b[38;5;241m.\u001b[39m_kwarg] \u001b[38;5;241m=\u001b[39m value\n\u001b[0;32m--> 240\u001b[0m \u001b[38;5;28mself\u001b[39m\u001b[38;5;241m.\u001b[39mresult \u001b[38;5;241m=\u001b[39m \u001b[38;5;28;43mself\u001b[39;49m\u001b[38;5;241;43m.\u001b[39;49m\u001b[43mf\u001b[49m\u001b[43m(\u001b[49m\u001b[38;5;241;43m*\u001b[39;49m\u001b[38;5;241;43m*\u001b[39;49m\u001b[38;5;28;43mself\u001b[39;49m\u001b[38;5;241;43m.\u001b[39;49m\u001b[43mkwargs\u001b[49m\u001b[43m)\u001b[49m\n\u001b[1;32m    241\u001b[0m show_inline_matplotlib_plots()\n\u001b[1;32m    242\u001b[0m \u001b[38;5;28;01mif\u001b[39;00m \u001b[38;5;28mself\u001b[39m\u001b[38;5;241m.\u001b[39mauto_display \u001b[38;5;129;01mand\u001b[39;00m \u001b[38;5;28mself\u001b[39m\u001b[38;5;241m.\u001b[39mresult \u001b[38;5;129;01mis\u001b[39;00m \u001b[38;5;129;01mnot\u001b[39;00m \u001b[38;5;28;01mNone\u001b[39;00m:\n",
          "Cell \u001b[0;32mIn[9], line 14\u001b[0m, in \u001b[0;36mdiff_DC\u001b[0;34m(I_dc, tau_m)\u001b[0m\n\u001b[1;32m     12\u001b[0m pars \u001b[38;5;241m=\u001b[39m default_pars(T\u001b[38;5;241m=\u001b[39m\u001b[38;5;241m100.\u001b[39m)\n\u001b[1;32m     13\u001b[0m pars[\u001b[38;5;124m'\u001b[39m\u001b[38;5;124mtau_m\u001b[39m\u001b[38;5;124m'\u001b[39m] \u001b[38;5;241m=\u001b[39m tau_m\n\u001b[0;32m---> 14\u001b[0m v, sp \u001b[38;5;241m=\u001b[39m \u001b[43mrun_LIF\u001b[49m\u001b[43m(\u001b[49m\u001b[43mpars\u001b[49m\u001b[43m,\u001b[49m\u001b[43m \u001b[49m\u001b[43mIinj\u001b[49m\u001b[38;5;241;43m=\u001b[39;49m\u001b[43mI_dc\u001b[49m\u001b[43m)\u001b[49m\n\u001b[1;32m     15\u001b[0m plot_volt_trace(pars, v, sp)\n\u001b[1;32m     16\u001b[0m plt\u001b[38;5;241m.\u001b[39mshow()\n",
          "Cell \u001b[0;32mIn[7], line 54\u001b[0m, in \u001b[0;36mrun_LIF\u001b[0;34m(pars, Iinj, stop)\u001b[0m\n\u001b[1;32m     49\u001b[0m   tr \u001b[38;5;241m=\u001b[39m tref \u001b[38;5;241m/\u001b[39m dt  \u001b[38;5;66;03m# set refractory time\u001b[39;00m\n\u001b[1;32m     51\u001b[0m \u001b[38;5;66;03m########################################################################\u001b[39;00m\n\u001b[1;32m     52\u001b[0m \u001b[38;5;66;03m## TODO for students: compute the membrane potential v, spike train sp #\u001b[39;00m\n\u001b[1;32m     53\u001b[0m \u001b[38;5;66;03m# Fill out function and remove\u001b[39;00m\n\u001b[0;32m---> 54\u001b[0m \u001b[38;5;28;01mraise\u001b[39;00m \u001b[38;5;167;01mNotImplementedError\u001b[39;00m(\u001b[38;5;124m'\u001b[39m\u001b[38;5;124mStudent Exercise: calculate the dv/dt and the update step!\u001b[39m\u001b[38;5;124m'\u001b[39m)\n\u001b[1;32m     55\u001b[0m \u001b[38;5;66;03m########################################################################\u001b[39;00m\n\u001b[1;32m     56\u001b[0m \n\u001b[1;32m     57\u001b[0m \u001b[38;5;66;03m# Calculate the increment of the membrane potential\u001b[39;00m\n\u001b[1;32m     58\u001b[0m dv \u001b[38;5;241m=\u001b[39m \u001b[38;5;241m.\u001b[39m\u001b[38;5;241m.\u001b[39m\u001b[38;5;241m.\u001b[39m\n",
          "\u001b[0;31mNotImplementedError\u001b[0m: Student Exercise: calculate the dv/dt and the update step!"
         ]
        }
       ],
       "tabbable": null,
       "tooltip": null
      }
     },
     "859f962bf7b6417f8ef164a46ab8d05e": {
      "model_module": "@jupyter-widgets/base",
      "model_module_version": "2.0.0",
      "model_name": "LayoutModel",
      "state": {
       "_model_module": "@jupyter-widgets/base",
       "_model_module_version": "2.0.0",
       "_model_name": "LayoutModel",
       "_view_count": null,
       "_view_module": "@jupyter-widgets/base",
       "_view_module_version": "2.0.0",
       "_view_name": "LayoutView",
       "align_content": null,
       "align_items": null,
       "align_self": null,
       "border_bottom": null,
       "border_left": null,
       "border_right": null,
       "border_top": null,
       "bottom": null,
       "display": null,
       "flex": null,
       "flex_flow": null,
       "grid_area": null,
       "grid_auto_columns": null,
       "grid_auto_flow": null,
       "grid_auto_rows": null,
       "grid_column": null,
       "grid_gap": null,
       "grid_row": null,
       "grid_template_areas": null,
       "grid_template_columns": null,
       "grid_template_rows": null,
       "height": null,
       "justify_content": null,
       "justify_items": null,
       "left": null,
       "margin": null,
       "max_height": null,
       "max_width": null,
       "min_height": null,
       "min_width": null,
       "object_fit": null,
       "object_position": null,
       "order": null,
       "overflow": null,
       "padding": null,
       "right": null,
       "top": null,
       "visibility": null,
       "width": null
      }
     },
     "8c3f832889a94c9bbaca77481d60a0b5": {
      "model_module": "@jupyter-widgets/base",
      "model_module_version": "2.0.0",
      "model_name": "LayoutModel",
      "state": {
       "_model_module": "@jupyter-widgets/base",
       "_model_module_version": "2.0.0",
       "_model_name": "LayoutModel",
       "_view_count": null,
       "_view_module": "@jupyter-widgets/base",
       "_view_module_version": "2.0.0",
       "_view_name": "LayoutView",
       "align_content": null,
       "align_items": null,
       "align_self": null,
       "border_bottom": null,
       "border_left": null,
       "border_right": null,
       "border_top": null,
       "bottom": null,
       "display": null,
       "flex": null,
       "flex_flow": null,
       "grid_area": null,
       "grid_auto_columns": null,
       "grid_auto_flow": null,
       "grid_auto_rows": null,
       "grid_column": null,
       "grid_gap": null,
       "grid_row": null,
       "grid_template_areas": null,
       "grid_template_columns": null,
       "grid_template_rows": null,
       "height": null,
       "justify_content": null,
       "justify_items": null,
       "left": null,
       "margin": null,
       "max_height": null,
       "max_width": null,
       "min_height": null,
       "min_width": null,
       "object_fit": null,
       "object_position": null,
       "order": null,
       "overflow": null,
       "padding": null,
       "right": null,
       "top": null,
       "visibility": null,
       "width": null
      }
     },
     "8ddb9c7858cf48eab4e0b54df6c1c093": {
      "model_module": "@jupyter-widgets/base",
      "model_module_version": "2.0.0",
      "model_name": "LayoutModel",
      "state": {
       "_model_module": "@jupyter-widgets/base",
       "_model_module_version": "2.0.0",
       "_model_name": "LayoutModel",
       "_view_count": null,
       "_view_module": "@jupyter-widgets/base",
       "_view_module_version": "2.0.0",
       "_view_name": "LayoutView",
       "align_content": null,
       "align_items": null,
       "align_self": null,
       "border_bottom": null,
       "border_left": null,
       "border_right": null,
       "border_top": null,
       "bottom": null,
       "display": null,
       "flex": null,
       "flex_flow": null,
       "grid_area": null,
       "grid_auto_columns": null,
       "grid_auto_flow": null,
       "grid_auto_rows": null,
       "grid_column": null,
       "grid_gap": null,
       "grid_row": null,
       "grid_template_areas": null,
       "grid_template_columns": null,
       "grid_template_rows": null,
       "height": null,
       "justify_content": null,
       "justify_items": null,
       "left": null,
       "margin": null,
       "max_height": null,
       "max_width": null,
       "min_height": null,
       "min_width": null,
       "object_fit": null,
       "object_position": null,
       "order": null,
       "overflow": null,
       "padding": null,
       "right": null,
       "top": null,
       "visibility": null,
       "width": null
      }
     },
     "8f9b5122cc4f4db383380afb95f66c33": {
      "model_module": "@jupyter-widgets/controls",
      "model_module_version": "2.0.0",
      "model_name": "SliderStyleModel",
      "state": {
       "_model_module": "@jupyter-widgets/controls",
       "_model_module_version": "2.0.0",
       "_model_name": "SliderStyleModel",
       "_view_count": null,
       "_view_module": "@jupyter-widgets/base",
       "_view_module_version": "2.0.0",
       "_view_name": "StyleView",
       "description_width": "",
       "handle_color": null
      }
     },
     "90329805ff764b449ee9dfd7cb6dac5c": {
      "model_module": "@jupyter-widgets/controls",
      "model_module_version": "2.0.0",
      "model_name": "SliderStyleModel",
      "state": {
       "_model_module": "@jupyter-widgets/controls",
       "_model_module_version": "2.0.0",
       "_model_name": "SliderStyleModel",
       "_view_count": null,
       "_view_module": "@jupyter-widgets/base",
       "_view_module_version": "2.0.0",
       "_view_name": "StyleView",
       "description_width": "",
       "handle_color": null
      }
     },
     "9071d6cabd6747228beb31dbdf82be6c": {
      "model_module": "@jupyter-widgets/base",
      "model_module_version": "2.0.0",
      "model_name": "LayoutModel",
      "state": {
       "_model_module": "@jupyter-widgets/base",
       "_model_module_version": "2.0.0",
       "_model_name": "LayoutModel",
       "_view_count": null,
       "_view_module": "@jupyter-widgets/base",
       "_view_module_version": "2.0.0",
       "_view_name": "LayoutView",
       "align_content": null,
       "align_items": null,
       "align_self": null,
       "border_bottom": null,
       "border_left": null,
       "border_right": null,
       "border_top": null,
       "bottom": null,
       "display": null,
       "flex": null,
       "flex_flow": null,
       "grid_area": null,
       "grid_auto_columns": null,
       "grid_auto_flow": null,
       "grid_auto_rows": null,
       "grid_column": null,
       "grid_gap": null,
       "grid_row": null,
       "grid_template_areas": null,
       "grid_template_columns": null,
       "grid_template_rows": null,
       "height": null,
       "justify_content": null,
       "justify_items": null,
       "left": null,
       "margin": null,
       "max_height": null,
       "max_width": null,
       "min_height": null,
       "min_width": null,
       "object_fit": null,
       "object_position": null,
       "order": null,
       "overflow": null,
       "padding": null,
       "right": null,
       "top": null,
       "visibility": null,
       "width": null
      }
     },
     "9590b4d3aa2449258fe032186f6d8f56": {
      "model_module": "@jupyter-widgets/controls",
      "model_module_version": "2.0.0",
      "model_name": "FloatSliderModel",
      "state": {
       "_dom_classes": [],
       "_model_module": "@jupyter-widgets/controls",
       "_model_module_version": "2.0.0",
       "_model_name": "FloatSliderModel",
       "_view_count": null,
       "_view_module": "@jupyter-widgets/controls",
       "_view_module_version": "2.0.0",
       "_view_name": "FloatSliderView",
       "behavior": "drag-tap",
       "continuous_update": true,
       "description": "sig_gwn",
       "description_allow_html": false,
       "disabled": false,
       "layout": "IPY_MODEL_aac4bb33ef2d468c98569c67de7210b3",
       "max": 5.0,
       "min": 0.0,
       "orientation": "horizontal",
       "readout": true,
       "readout_format": ".2f",
       "step": 0.5,
       "style": "IPY_MODEL_336f9828b4224398882fc0eea38504b5",
       "tabbable": null,
       "tooltip": null,
       "value": 2.5
      }
     },
     "9985a97c7e904f999ed8c8e27ef14aab": {
      "model_module": "@jupyter-widgets/output",
      "model_module_version": "1.0.0",
      "model_name": "OutputModel",
      "state": {
       "_dom_classes": [],
       "_model_module": "@jupyter-widgets/output",
       "_model_module_version": "1.0.0",
       "_model_name": "OutputModel",
       "_view_count": null,
       "_view_module": "@jupyter-widgets/output",
       "_view_module_version": "1.0.0",
       "_view_name": "OutputView",
       "layout": "IPY_MODEL_69e4f2826b0f4465b388c62434467c26",
       "msg_id": "",
       "outputs": [
        {
         "ename": "NotImplementedError",
         "evalue": "Student Exercise: calculate the dv/dt and the update step!",
         "output_type": "error",
         "traceback": [
          "\u001b[0;31m---------------------------------------------------------------------------\u001b[0m",
          "\u001b[0;31mNotImplementedError\u001b[0m                       Traceback (most recent call last)",
          "File \u001b[0;32m~/work/course-content/course-content/.tox/run/lib/python3.11/site-packages/ipywidgets/widgets/interaction.py:240\u001b[0m, in \u001b[0;36minteractive.update\u001b[0;34m(self, *args)\u001b[0m\n\u001b[1;32m    238\u001b[0m     value \u001b[38;5;241m=\u001b[39m widget\u001b[38;5;241m.\u001b[39mget_interact_value()\n\u001b[1;32m    239\u001b[0m     \u001b[38;5;28mself\u001b[39m\u001b[38;5;241m.\u001b[39mkwargs[widget\u001b[38;5;241m.\u001b[39m_kwarg] \u001b[38;5;241m=\u001b[39m value\n\u001b[0;32m--> 240\u001b[0m \u001b[38;5;28mself\u001b[39m\u001b[38;5;241m.\u001b[39mresult \u001b[38;5;241m=\u001b[39m \u001b[38;5;28;43mself\u001b[39;49m\u001b[38;5;241;43m.\u001b[39;49m\u001b[43mf\u001b[49m\u001b[43m(\u001b[49m\u001b[38;5;241;43m*\u001b[39;49m\u001b[38;5;241;43m*\u001b[39;49m\u001b[38;5;28;43mself\u001b[39;49m\u001b[38;5;241;43m.\u001b[39;49m\u001b[43mkwargs\u001b[49m\u001b[43m)\u001b[49m\n\u001b[1;32m    241\u001b[0m show_inline_matplotlib_plots()\n\u001b[1;32m    242\u001b[0m \u001b[38;5;28;01mif\u001b[39;00m \u001b[38;5;28mself\u001b[39m\u001b[38;5;241m.\u001b[39mauto_display \u001b[38;5;129;01mand\u001b[39;00m \u001b[38;5;28mself\u001b[39m\u001b[38;5;241m.\u001b[39mresult \u001b[38;5;129;01mis\u001b[39;00m \u001b[38;5;129;01mnot\u001b[39;00m \u001b[38;5;28;01mNone\u001b[39;00m:\n",
          "Cell \u001b[0;32mIn[12], line 21\u001b[0m, in \u001b[0;36mdiff_std_affect_fI\u001b[0;34m(sig_gwn)\u001b[0m\n\u001b[1;32m     19\u001b[0m \u001b[38;5;28;01mfor\u001b[39;00m idx \u001b[38;5;129;01min\u001b[39;00m \u001b[38;5;28mrange\u001b[39m(\u001b[38;5;28mlen\u001b[39m(I_mean)):\n\u001b[1;32m     20\u001b[0m     I_GWN \u001b[38;5;241m=\u001b[39m my_GWN(pars, mu\u001b[38;5;241m=\u001b[39mI_mean[idx], sig\u001b[38;5;241m=\u001b[39msig_gwn, myseed\u001b[38;5;241m=\u001b[39m\u001b[38;5;241m2020\u001b[39m)\n\u001b[0;32m---> 21\u001b[0m     v, rec_spikes \u001b[38;5;241m=\u001b[39m \u001b[43mrun_LIF\u001b[49m\u001b[43m(\u001b[49m\u001b[43mpars\u001b[49m\u001b[43m,\u001b[49m\u001b[43m \u001b[49m\u001b[43mIinj\u001b[49m\u001b[38;5;241;43m=\u001b[39;49m\u001b[43mI_GWN\u001b[49m\u001b[43m)\u001b[49m\n\u001b[1;32m     22\u001b[0m     v_dc, rec_sp_dc \u001b[38;5;241m=\u001b[39m run_LIF(pars, Iinj\u001b[38;5;241m=\u001b[39mI_mean[idx])\n\u001b[1;32m     23\u001b[0m     spk_count[idx] \u001b[38;5;241m=\u001b[39m \u001b[38;5;28mlen\u001b[39m(rec_spikes)\n",
          "Cell \u001b[0;32mIn[7], line 54\u001b[0m, in \u001b[0;36mrun_LIF\u001b[0;34m(pars, Iinj, stop)\u001b[0m\n\u001b[1;32m     49\u001b[0m   tr \u001b[38;5;241m=\u001b[39m tref \u001b[38;5;241m/\u001b[39m dt  \u001b[38;5;66;03m# set refractory time\u001b[39;00m\n\u001b[1;32m     51\u001b[0m \u001b[38;5;66;03m########################################################################\u001b[39;00m\n\u001b[1;32m     52\u001b[0m \u001b[38;5;66;03m## TODO for students: compute the membrane potential v, spike train sp #\u001b[39;00m\n\u001b[1;32m     53\u001b[0m \u001b[38;5;66;03m# Fill out function and remove\u001b[39;00m\n\u001b[0;32m---> 54\u001b[0m \u001b[38;5;28;01mraise\u001b[39;00m \u001b[38;5;167;01mNotImplementedError\u001b[39;00m(\u001b[38;5;124m'\u001b[39m\u001b[38;5;124mStudent Exercise: calculate the dv/dt and the update step!\u001b[39m\u001b[38;5;124m'\u001b[39m)\n\u001b[1;32m     55\u001b[0m \u001b[38;5;66;03m########################################################################\u001b[39;00m\n\u001b[1;32m     56\u001b[0m \n\u001b[1;32m     57\u001b[0m \u001b[38;5;66;03m# Calculate the increment of the membrane potential\u001b[39;00m\n\u001b[1;32m     58\u001b[0m dv \u001b[38;5;241m=\u001b[39m \u001b[38;5;241m.\u001b[39m\u001b[38;5;241m.\u001b[39m\u001b[38;5;241m.\u001b[39m\n",
          "\u001b[0;31mNotImplementedError\u001b[0m: Student Exercise: calculate the dv/dt and the update step!"
         ]
        }
       ],
       "tabbable": null,
       "tooltip": null
      }
     },
     "a6fe730dc68a4b91b4b6a8928f705a66": {
      "model_module": "@jupyter-widgets/controls",
      "model_module_version": "2.0.0",
      "model_name": "VBoxModel",
      "state": {
       "_dom_classes": [
        "widget-interact"
       ],
       "_model_module": "@jupyter-widgets/controls",
       "_model_module_version": "2.0.0",
       "_model_name": "VBoxModel",
       "_view_count": null,
       "_view_module": "@jupyter-widgets/controls",
       "_view_module_version": "2.0.0",
       "_view_name": "VBoxView",
       "box_style": "",
       "children": [
        "IPY_MODEL_2747eadd47e94168a7bc6a0b1975e7f8",
        "IPY_MODEL_9985a97c7e904f999ed8c8e27ef14aab"
       ],
       "layout": "IPY_MODEL_cd381edddbc843e7ba64a6d251d81488",
       "tabbable": null,
       "tooltip": null
      }
     },
     "a9a2b8b9847d4be5aac595708edb1cf3": {
      "model_module": "@jupyter-widgets/controls",
      "model_module_version": "2.0.0",
      "model_name": "VBoxModel",
      "state": {
       "_dom_classes": [
        "widget-interact"
       ],
       "_model_module": "@jupyter-widgets/controls",
       "_model_module_version": "2.0.0",
       "_model_name": "VBoxModel",
       "_view_count": null,
       "_view_module": "@jupyter-widgets/controls",
       "_view_module_version": "2.0.0",
       "_view_name": "VBoxView",
       "box_style": "",
       "children": [
        "IPY_MODEL_74734a2b54284f24ba15fc3914f39aab",
        "IPY_MODEL_46b14119c68d4b54aebd5d2f9f9f356e",
        "IPY_MODEL_152a10ccea234fca9aa0454444a33467",
        "IPY_MODEL_bf5642ffae214669b5478f211402885a"
       ],
       "layout": "IPY_MODEL_bff92b0f94c944a8ae376fa6279f62bb",
       "tabbable": null,
       "tooltip": null
      }
     },
     "aac4bb33ef2d468c98569c67de7210b3": {
      "model_module": "@jupyter-widgets/base",
      "model_module_version": "2.0.0",
      "model_name": "LayoutModel",
      "state": {
       "_model_module": "@jupyter-widgets/base",
       "_model_module_version": "2.0.0",
       "_model_name": "LayoutModel",
       "_view_count": null,
       "_view_module": "@jupyter-widgets/base",
       "_view_module_version": "2.0.0",
       "_view_name": "LayoutView",
       "align_content": null,
       "align_items": null,
       "align_self": null,
       "border_bottom": null,
       "border_left": null,
       "border_right": null,
       "border_top": null,
       "bottom": null,
       "display": null,
       "flex": null,
       "flex_flow": null,
       "grid_area": null,
       "grid_auto_columns": null,
       "grid_auto_flow": null,
       "grid_auto_rows": null,
       "grid_column": null,
       "grid_gap": null,
       "grid_row": null,
       "grid_template_areas": null,
       "grid_template_columns": null,
       "grid_template_rows": null,
       "height": null,
       "justify_content": null,
       "justify_items": null,
       "left": null,
       "margin": null,
       "max_height": null,
       "max_width": null,
       "min_height": null,
       "min_width": null,
       "object_fit": null,
       "object_position": null,
       "order": null,
       "overflow": null,
       "padding": null,
       "right": null,
       "top": null,
       "visibility": null,
       "width": "450px"
      }
     },
     "ab0e6f5698d243b9baec961ce1629f79": {
      "model_module": "@jupyter-widgets/controls",
      "model_module_version": "2.0.0",
      "model_name": "VBoxModel",
      "state": {
       "_dom_classes": [
        "widget-interact"
       ],
       "_model_module": "@jupyter-widgets/controls",
       "_model_module_version": "2.0.0",
       "_model_name": "VBoxModel",
       "_view_count": null,
       "_view_module": "@jupyter-widgets/controls",
       "_view_module_version": "2.0.0",
       "_view_name": "VBoxView",
       "box_style": "",
       "children": [
        "IPY_MODEL_22ca815961fb4f159ed4fedb5ee09dc2",
        "IPY_MODEL_b5e92d3c27364256917f8cfc88fff1af",
        "IPY_MODEL_826923449bf041bb88dda6c822d3bf50"
       ],
       "layout": "IPY_MODEL_7ef5e3c3ba12499f8e8de4ee095bd384",
       "tabbable": null,
       "tooltip": null
      }
     },
     "af57bdb3a5dd405cb7602d946c7943d3": {
      "model_module": "@jupyter-widgets/output",
      "model_module_version": "1.0.0",
      "model_name": "OutputModel",
      "state": {
       "_dom_classes": [],
       "_model_module": "@jupyter-widgets/output",
       "_model_module_version": "1.0.0",
       "_model_name": "OutputModel",
       "_view_count": null,
       "_view_module": "@jupyter-widgets/output",
       "_view_module_version": "1.0.0",
       "_view_name": "OutputView",
       "layout": "IPY_MODEL_7bb52db1390641dc87b6d2a6cd534217",
       "msg_id": "",
       "outputs": [
        {
         "name": "stdout",
         "output_type": "stream",
         "text": "Video available at https://www.bilibili.com/video/av541417171\n"
        },
        {
         "data": {
          "text/html": "\n        <iframe\n            width=\"730\"\n            height=\"410\"\n            src=\"https://player.bilibili.com/player.html?bvid=av541417171&page=1?fs=1\"\n            frameborder=\"0\"\n            allowfullscreen\n            \n        ></iframe>\n        ",
          "text/plain": "<__main__.BiliVideo at 0x7f4651a04290>"
         },
         "metadata": {},
         "output_type": "display_data"
        }
       ],
       "tabbable": null,
       "tooltip": null
      }
     },
     "b5e92d3c27364256917f8cfc88fff1af": {
      "model_module": "@jupyter-widgets/controls",
      "model_module_version": "2.0.0",
      "model_name": "FloatSliderModel",
      "state": {
       "_dom_classes": [],
       "_model_module": "@jupyter-widgets/controls",
       "_model_module_version": "2.0.0",
       "_model_name": "FloatSliderModel",
       "_view_count": null,
       "_view_module": "@jupyter-widgets/controls",
       "_view_module_version": "2.0.0",
       "_view_name": "FloatSliderView",
       "behavior": "drag-tap",
       "continuous_update": true,
       "description": "tau_m",
       "description_allow_html": false,
       "disabled": false,
       "layout": "IPY_MODEL_aac4bb33ef2d468c98569c67de7210b3",
       "max": 20.0,
       "min": 2.0,
       "orientation": "horizontal",
       "readout": true,
       "readout_format": ".2f",
       "step": 2.0,
       "style": "IPY_MODEL_e30039c590334373b3b45d756dcb8503",
       "tabbable": null,
       "tooltip": null,
       "value": 10.0
      }
     },
     "bf5642ffae214669b5478f211402885a": {
      "model_module": "@jupyter-widgets/output",
      "model_module_version": "1.0.0",
      "model_name": "OutputModel",
      "state": {
       "_dom_classes": [],
       "_model_module": "@jupyter-widgets/output",
       "_model_module_version": "1.0.0",
       "_model_name": "OutputModel",
       "_view_count": null,
       "_view_module": "@jupyter-widgets/output",
       "_view_module_version": "1.0.0",
       "_view_name": "OutputView",
       "layout": "IPY_MODEL_32ff45e0c6ba442f928b20c4aceb270d",
       "msg_id": "",
       "outputs": [
        {
         "ename": "NotImplementedError",
         "evalue": "Student Exercise: calculate the dv/dt and the update step!",
         "output_type": "error",
         "traceback": [
          "\u001b[0;31m---------------------------------------------------------------------------\u001b[0m",
          "\u001b[0;31mNotImplementedError\u001b[0m                       Traceback (most recent call last)",
          "File \u001b[0;32m~/work/course-content/course-content/.tox/run/lib/python3.11/site-packages/ipywidgets/widgets/interaction.py:240\u001b[0m, in \u001b[0;36minteractive.update\u001b[0;34m(self, *args)\u001b[0m\n\u001b[1;32m    238\u001b[0m     value \u001b[38;5;241m=\u001b[39m widget\u001b[38;5;241m.\u001b[39mget_interact_value()\n\u001b[1;32m    239\u001b[0m     \u001b[38;5;28mself\u001b[39m\u001b[38;5;241m.\u001b[39mkwargs[widget\u001b[38;5;241m.\u001b[39m_kwarg] \u001b[38;5;241m=\u001b[39m value\n\u001b[0;32m--> 240\u001b[0m \u001b[38;5;28mself\u001b[39m\u001b[38;5;241m.\u001b[39mresult \u001b[38;5;241m=\u001b[39m \u001b[38;5;28;43mself\u001b[39;49m\u001b[38;5;241;43m.\u001b[39;49m\u001b[43mf\u001b[49m\u001b[43m(\u001b[49m\u001b[38;5;241;43m*\u001b[39;49m\u001b[38;5;241;43m*\u001b[39;49m\u001b[38;5;28;43mself\u001b[39;49m\u001b[38;5;241;43m.\u001b[39;49m\u001b[43mkwargs\u001b[49m\u001b[43m)\u001b[49m\n\u001b[1;32m    241\u001b[0m show_inline_matplotlib_plots()\n\u001b[1;32m    242\u001b[0m \u001b[38;5;28;01mif\u001b[39;00m \u001b[38;5;28mself\u001b[39m\u001b[38;5;241m.\u001b[39mauto_display \u001b[38;5;129;01mand\u001b[39;00m \u001b[38;5;28mself\u001b[39m\u001b[38;5;241m.\u001b[39mresult \u001b[38;5;129;01mis\u001b[39;00m \u001b[38;5;129;01mnot\u001b[39;00m \u001b[38;5;28;01mNone\u001b[39;00m:\n",
          "Cell \u001b[0;32mIn[16], line 22\u001b[0m, in \u001b[0;36mLIF_with_OU\u001b[0;34m(tau_ou, sig_ou, mu_ou)\u001b[0m\n\u001b[1;32m     18\u001b[0m pars[\u001b[38;5;124m'\u001b[39m\u001b[38;5;124mtau_ou\u001b[39m\u001b[38;5;124m'\u001b[39m] \u001b[38;5;241m=\u001b[39m tau_ou  \u001b[38;5;66;03m# [ms]\u001b[39;00m\n\u001b[1;32m     20\u001b[0m I_ou \u001b[38;5;241m=\u001b[39m my_OU(pars, mu_ou, sig_ou)\n\u001b[0;32m---> 22\u001b[0m v, sp \u001b[38;5;241m=\u001b[39m \u001b[43mrun_LIF\u001b[49m\u001b[43m(\u001b[49m\u001b[43mpars\u001b[49m\u001b[43m,\u001b[49m\u001b[43m \u001b[49m\u001b[43mIinj\u001b[49m\u001b[38;5;241;43m=\u001b[39;49m\u001b[43mI_ou\u001b[49m\u001b[43m)\u001b[49m\n\u001b[1;32m     24\u001b[0m plt\u001b[38;5;241m.\u001b[39mfigure(figsize\u001b[38;5;241m=\u001b[39m(\u001b[38;5;241m12\u001b[39m, \u001b[38;5;241m4\u001b[39m))\n\u001b[1;32m     25\u001b[0m plt\u001b[38;5;241m.\u001b[39msubplot(\u001b[38;5;241m121\u001b[39m)\n",
          "Cell \u001b[0;32mIn[7], line 54\u001b[0m, in \u001b[0;36mrun_LIF\u001b[0;34m(pars, Iinj, stop)\u001b[0m\n\u001b[1;32m     49\u001b[0m   tr \u001b[38;5;241m=\u001b[39m tref \u001b[38;5;241m/\u001b[39m dt  \u001b[38;5;66;03m# set refractory time\u001b[39;00m\n\u001b[1;32m     51\u001b[0m \u001b[38;5;66;03m########################################################################\u001b[39;00m\n\u001b[1;32m     52\u001b[0m \u001b[38;5;66;03m## TODO for students: compute the membrane potential v, spike train sp #\u001b[39;00m\n\u001b[1;32m     53\u001b[0m \u001b[38;5;66;03m# Fill out function and remove\u001b[39;00m\n\u001b[0;32m---> 54\u001b[0m \u001b[38;5;28;01mraise\u001b[39;00m \u001b[38;5;167;01mNotImplementedError\u001b[39;00m(\u001b[38;5;124m'\u001b[39m\u001b[38;5;124mStudent Exercise: calculate the dv/dt and the update step!\u001b[39m\u001b[38;5;124m'\u001b[39m)\n\u001b[1;32m     55\u001b[0m \u001b[38;5;66;03m########################################################################\u001b[39;00m\n\u001b[1;32m     56\u001b[0m \n\u001b[1;32m     57\u001b[0m \u001b[38;5;66;03m# Calculate the increment of the membrane potential\u001b[39;00m\n\u001b[1;32m     58\u001b[0m dv \u001b[38;5;241m=\u001b[39m \u001b[38;5;241m.\u001b[39m\u001b[38;5;241m.\u001b[39m\u001b[38;5;241m.\u001b[39m\n",
          "\u001b[0;31mNotImplementedError\u001b[0m: Student Exercise: calculate the dv/dt and the update step!"
         ]
        }
       ],
       "tabbable": null,
       "tooltip": null
      }
     },
     "bff92b0f94c944a8ae376fa6279f62bb": {
      "model_module": "@jupyter-widgets/base",
      "model_module_version": "2.0.0",
      "model_name": "LayoutModel",
      "state": {
       "_model_module": "@jupyter-widgets/base",
       "_model_module_version": "2.0.0",
       "_model_name": "LayoutModel",
       "_view_count": null,
       "_view_module": "@jupyter-widgets/base",
       "_view_module_version": "2.0.0",
       "_view_name": "LayoutView",
       "align_content": null,
       "align_items": null,
       "align_self": null,
       "border_bottom": null,
       "border_left": null,
       "border_right": null,
       "border_top": null,
       "bottom": null,
       "display": null,
       "flex": null,
       "flex_flow": null,
       "grid_area": null,
       "grid_auto_columns": null,
       "grid_auto_flow": null,
       "grid_auto_rows": null,
       "grid_column": null,
       "grid_gap": null,
       "grid_row": null,
       "grid_template_areas": null,
       "grid_template_columns": null,
       "grid_template_rows": null,
       "height": null,
       "justify_content": null,
       "justify_items": null,
       "left": null,
       "margin": null,
       "max_height": null,
       "max_width": null,
       "min_height": null,
       "min_width": null,
       "object_fit": null,
       "object_position": null,
       "order": null,
       "overflow": null,
       "padding": null,
       "right": null,
       "top": null,
       "visibility": null,
       "width": null
      }
     },
     "c5c11beab0c1461985127957156fdf7f": {
      "model_module": "@jupyter-widgets/output",
      "model_module_version": "1.0.0",
      "model_name": "OutputModel",
      "state": {
       "_dom_classes": [],
       "_model_module": "@jupyter-widgets/output",
       "_model_module_version": "1.0.0",
       "_model_name": "OutputModel",
       "_view_count": null,
       "_view_module": "@jupyter-widgets/output",
       "_view_module_version": "1.0.0",
       "_view_name": "OutputView",
       "layout": "IPY_MODEL_8ddb9c7858cf48eab4e0b54df6c1c093",
       "msg_id": "",
       "outputs": [
        {
         "name": "stdout",
         "output_type": "stream",
         "text": "Video available at https://www.bilibili.com/video/\n"
        },
        {
         "data": {
          "text/html": "\n        <iframe\n            width=\"730\"\n            height=\"410\"\n            src=\"https://player.bilibili.com/player.html?bvid=&page=1?fs=1\"\n            frameborder=\"0\"\n            allowfullscreen\n            \n        ></iframe>\n        ",
          "text/plain": "<__main__.BiliVideo at 0x7f46832c0cd0>"
         },
         "metadata": {},
         "output_type": "display_data"
        }
       ],
       "tabbable": null,
       "tooltip": null
      }
     },
     "cd381edddbc843e7ba64a6d251d81488": {
      "model_module": "@jupyter-widgets/base",
      "model_module_version": "2.0.0",
      "model_name": "LayoutModel",
      "state": {
       "_model_module": "@jupyter-widgets/base",
       "_model_module_version": "2.0.0",
       "_model_name": "LayoutModel",
       "_view_count": null,
       "_view_module": "@jupyter-widgets/base",
       "_view_module_version": "2.0.0",
       "_view_name": "LayoutView",
       "align_content": null,
       "align_items": null,
       "align_self": null,
       "border_bottom": null,
       "border_left": null,
       "border_right": null,
       "border_top": null,
       "bottom": null,
       "display": null,
       "flex": null,
       "flex_flow": null,
       "grid_area": null,
       "grid_auto_columns": null,
       "grid_auto_flow": null,
       "grid_auto_rows": null,
       "grid_column": null,
       "grid_gap": null,
       "grid_row": null,
       "grid_template_areas": null,
       "grid_template_columns": null,
       "grid_template_rows": null,
       "height": null,
       "justify_content": null,
       "justify_items": null,
       "left": null,
       "margin": null,
       "max_height": null,
       "max_width": null,
       "min_height": null,
       "min_width": null,
       "object_fit": null,
       "object_position": null,
       "order": null,
       "overflow": null,
       "padding": null,
       "right": null,
       "top": null,
       "visibility": null,
       "width": null
      }
     },
     "d0da00cafea640d99f1972224926f30c": {
      "model_module": "@jupyter-widgets/controls",
      "model_module_version": "2.0.0",
      "model_name": "SliderStyleModel",
      "state": {
       "_model_module": "@jupyter-widgets/controls",
       "_model_module_version": "2.0.0",
       "_model_name": "SliderStyleModel",
       "_view_count": null,
       "_view_module": "@jupyter-widgets/base",
       "_view_module_version": "2.0.0",
       "_view_name": "StyleView",
       "description_width": "",
       "handle_color": null
      }
     },
     "d39ef2de9aa448fbae05f2d44cd2f079": {
      "model_module": "@jupyter-widgets/base",
      "model_module_version": "2.0.0",
      "model_name": "LayoutModel",
      "state": {
       "_model_module": "@jupyter-widgets/base",
       "_model_module_version": "2.0.0",
       "_model_name": "LayoutModel",
       "_view_count": null,
       "_view_module": "@jupyter-widgets/base",
       "_view_module_version": "2.0.0",
       "_view_name": "LayoutView",
       "align_content": null,
       "align_items": null,
       "align_self": null,
       "border_bottom": null,
       "border_left": null,
       "border_right": null,
       "border_top": null,
       "bottom": null,
       "display": null,
       "flex": null,
       "flex_flow": null,
       "grid_area": null,
       "grid_auto_columns": null,
       "grid_auto_flow": null,
       "grid_auto_rows": null,
       "grid_column": null,
       "grid_gap": null,
       "grid_row": null,
       "grid_template_areas": null,
       "grid_template_columns": null,
       "grid_template_rows": null,
       "height": null,
       "justify_content": null,
       "justify_items": null,
       "left": null,
       "margin": null,
       "max_height": null,
       "max_width": null,
       "min_height": null,
       "min_width": null,
       "object_fit": null,
       "object_position": null,
       "order": null,
       "overflow": null,
       "padding": null,
       "right": null,
       "top": null,
       "visibility": null,
       "width": null
      }
     },
     "da992303f0dd463e9a369ef51774833a": {
      "model_module": "@jupyter-widgets/base",
      "model_module_version": "2.0.0",
      "model_name": "LayoutModel",
      "state": {
       "_model_module": "@jupyter-widgets/base",
       "_model_module_version": "2.0.0",
       "_model_name": "LayoutModel",
       "_view_count": null,
       "_view_module": "@jupyter-widgets/base",
       "_view_module_version": "2.0.0",
       "_view_name": "LayoutView",
       "align_content": null,
       "align_items": null,
       "align_self": null,
       "border_bottom": null,
       "border_left": null,
       "border_right": null,
       "border_top": null,
       "bottom": null,
       "display": null,
       "flex": null,
       "flex_flow": null,
       "grid_area": null,
       "grid_auto_columns": null,
       "grid_auto_flow": null,
       "grid_auto_rows": null,
       "grid_column": null,
       "grid_gap": null,
       "grid_row": null,
       "grid_template_areas": null,
       "grid_template_columns": null,
       "grid_template_rows": null,
       "height": null,
       "justify_content": null,
       "justify_items": null,
       "left": null,
       "margin": null,
       "max_height": null,
       "max_width": null,
       "min_height": null,
       "min_width": null,
       "object_fit": null,
       "object_position": null,
       "order": null,
       "overflow": null,
       "padding": null,
       "right": null,
       "top": null,
       "visibility": null,
       "width": null
      }
     },
     "dd2d7ccfb37c4c37abf978db7ad685de": {
      "model_module": "@jupyter-widgets/output",
      "model_module_version": "1.0.0",
      "model_name": "OutputModel",
      "state": {
       "_dom_classes": [],
       "_model_module": "@jupyter-widgets/output",
       "_model_module_version": "1.0.0",
       "_model_name": "OutputModel",
       "_view_count": null,
       "_view_module": "@jupyter-widgets/output",
       "_view_module_version": "1.0.0",
       "_view_name": "OutputView",
       "layout": "IPY_MODEL_d39ef2de9aa448fbae05f2d44cd2f079",
       "msg_id": "",
       "outputs": [
        {
         "name": "stdout",
         "output_type": "stream",
         "text": "Video available at https://youtube.com/watch?v=rSExvwCVRYg\n"
        },
        {
         "data": {
          "image/jpeg": "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\n",
          "text/html": "\n        <iframe\n            width=\"730\"\n            height=\"410\"\n            src=\"https://www.youtube.com/embed/rSExvwCVRYg?fs=1&rel=0\"\n            frameborder=\"0\"\n            allowfullscreen\n            \n        ></iframe>\n        ",
          "text/plain": "<IPython.lib.display.YouTubeVideo at 0x7f4651be28d0>"
         },
         "metadata": {},
         "output_type": "display_data"
        }
       ],
       "tabbable": null,
       "tooltip": null
      }
     },
     "e30039c590334373b3b45d756dcb8503": {
      "model_module": "@jupyter-widgets/controls",
      "model_module_version": "2.0.0",
      "model_name": "SliderStyleModel",
      "state": {
       "_model_module": "@jupyter-widgets/controls",
       "_model_module_version": "2.0.0",
       "_model_name": "SliderStyleModel",
       "_view_count": null,
       "_view_module": "@jupyter-widgets/base",
       "_view_module_version": "2.0.0",
       "_view_name": "StyleView",
       "description_width": "",
       "handle_color": null
      }
     },
     "e60eb6e5dd374460b9ab08df764736a3": {
      "model_module": "@jupyter-widgets/base",
      "model_module_version": "2.0.0",
      "model_name": "LayoutModel",
      "state": {
       "_model_module": "@jupyter-widgets/base",
       "_model_module_version": "2.0.0",
       "_model_name": "LayoutModel",
       "_view_count": null,
       "_view_module": "@jupyter-widgets/base",
       "_view_module_version": "2.0.0",
       "_view_name": "LayoutView",
       "align_content": null,
       "align_items": null,
       "align_self": null,
       "border_bottom": null,
       "border_left": null,
       "border_right": null,
       "border_top": null,
       "bottom": null,
       "display": null,
       "flex": null,
       "flex_flow": null,
       "grid_area": null,
       "grid_auto_columns": null,
       "grid_auto_flow": null,
       "grid_auto_rows": null,
       "grid_column": null,
       "grid_gap": null,
       "grid_row": null,
       "grid_template_areas": null,
       "grid_template_columns": null,
       "grid_template_rows": null,
       "height": null,
       "justify_content": null,
       "justify_items": null,
       "left": null,
       "margin": null,
       "max_height": null,
       "max_width": null,
       "min_height": null,
       "min_width": null,
       "object_fit": null,
       "object_position": null,
       "order": null,
       "overflow": null,
       "padding": null,
       "right": null,
       "top": null,
       "visibility": null,
       "width": null
      }
     },
     "e989df9f8b7e4eea89e979401c9eb14c": {
      "model_module": "@jupyter-widgets/output",
      "model_module_version": "1.0.0",
      "model_name": "OutputModel",
      "state": {
       "_dom_classes": [],
       "_model_module": "@jupyter-widgets/output",
       "_model_module_version": "1.0.0",
       "_model_name": "OutputModel",
       "_view_count": null,
       "_view_module": "@jupyter-widgets/output",
       "_view_module_version": "1.0.0",
       "_view_name": "OutputView",
       "layout": "IPY_MODEL_da992303f0dd463e9a369ef51774833a",
       "msg_id": "",
       "outputs": [
        {
         "name": "stdout",
         "output_type": "stream",
         "text": "Video available at https://youtube.com/watch?v=G0b6wLhuQxE\n"
        },
        {
         "data": {
          "image/jpeg": "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\n",
          "text/html": "\n        <iframe\n            width=\"730\"\n            height=\"410\"\n            src=\"https://www.youtube.com/embed/G0b6wLhuQxE?fs=1&rel=0\"\n            frameborder=\"0\"\n            allowfullscreen\n            \n        ></iframe>\n        ",
          "text/plain": "<IPython.lib.display.YouTubeVideo at 0x7f4651519190>"
         },
         "metadata": {},
         "output_type": "display_data"
        }
       ],
       "tabbable": null,
       "tooltip": null
      }
     },
     "f51c3f9c217547e09fa74faf77621ba8": {
      "model_module": "@jupyter-widgets/base",
      "model_module_version": "2.0.0",
      "model_name": "LayoutModel",
      "state": {
       "_model_module": "@jupyter-widgets/base",
       "_model_module_version": "2.0.0",
       "_model_name": "LayoutModel",
       "_view_count": null,
       "_view_module": "@jupyter-widgets/base",
       "_view_module_version": "2.0.0",
       "_view_name": "LayoutView",
       "align_content": null,
       "align_items": null,
       "align_self": null,
       "border_bottom": null,
       "border_left": null,
       "border_right": null,
       "border_top": null,
       "bottom": null,
       "display": null,
       "flex": null,
       "flex_flow": null,
       "grid_area": null,
       "grid_auto_columns": null,
       "grid_auto_flow": null,
       "grid_auto_rows": null,
       "grid_column": null,
       "grid_gap": null,
       "grid_row": null,
       "grid_template_areas": null,
       "grid_template_columns": null,
       "grid_template_rows": null,
       "height": null,
       "justify_content": null,
       "justify_items": null,
       "left": null,
       "margin": null,
       "max_height": null,
       "max_width": null,
       "min_height": null,
       "min_width": null,
       "object_fit": null,
       "object_position": null,
       "order": null,
       "overflow": null,
       "padding": null,
       "right": null,
       "top": null,
       "visibility": null,
       "width": null
      }
     }
    },
    "version_major": 2,
    "version_minor": 0
   }
  }
 },
 "nbformat": 4,
 "nbformat_minor": 0
}
