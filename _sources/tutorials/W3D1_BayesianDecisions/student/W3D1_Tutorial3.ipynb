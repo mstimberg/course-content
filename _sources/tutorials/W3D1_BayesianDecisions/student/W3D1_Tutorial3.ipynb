{
 "cells": [
  {
   "cell_type": "markdown",
   "metadata": {
    "colab_type": "text",
    "execution": {},
    "id": "view-in-github"
   },
   "source": [
    "<a href=\"https://colab.research.google.com/github/NeuromatchAcademy/course-content/blob/main/tutorials/W3D1_BayesianDecisions/student/W3D1_Tutorial3.ipynb\" target=\"_blank\"><img alt=\"Open In Colab\" src=\"https://colab.research.google.com/assets/colab-badge.svg\"/></a>   <a href=\"https://kaggle.com/kernels/welcome?src=https://raw.githubusercontent.com/NeuromatchAcademy/course-content/main/tutorials/W3D1_BayesianDecisions/student/W3D1_Tutorial3.ipynb\" target=\"_blank\"><img alt=\"Open in Kaggle\" src=\"https://kaggle.com/static/images/open-in-kaggle.svg\"/></a>"
   ]
  },
  {
   "cell_type": "markdown",
   "metadata": {
    "execution": {}
   },
   "source": [
    "# Bonus Tutorial : Fitting to data\n",
    "**Week 3, Day 1: Bayesian Decisions**\n",
    "\n",
    "**By Neuromatch Academy**\n",
    "\n",
    "__Content creators:__ Vincent Valton, Konrad Kording\n",
    "\n",
    "__Content reviewers:__ Matt Krause, Jesse Livezey, Karolina Stosio, Saeed Salehi, Michael Waskom\n",
    "\n",
    "__Post-production team:__ Gagana B, Spiros Chavlis\n",
    "\n",
    "<br>\n",
    "\n",
    "**Note: This is bonus material, included from NMA 2020. It has not been substantially revised for 2021.**\n",
    "\n",
    "This means that the notation and standards are slightly different and some of the references to other days in NMA are outdated. We include it here because it covers fitting Bayesian models to data, which may be of interest to many students.\n"
   ]
  },
  {
   "cell_type": "markdown",
   "metadata": {
    "execution": {}
   },
   "source": [
    "<p align='center'><img src='https://github.com/NeuromatchAcademy/widgets/blob/master/sponsors.png?raw=True'/></p>"
   ]
  },
  {
   "cell_type": "markdown",
   "metadata": {
    "execution": {}
   },
   "source": [
    "---\n",
    "# Tutorial objectives\n",
    "  \n",
    "In the first two tutorials, we learned about Bayesian models and decisions more intuitively, using demos. In this notebook, we will dive into using math and code to fit Bayesian models to data. \n",
    "\n",
    "We'll have a look at computing all the necessary steps to perform model inversion (estimate the model parameters such as $p_{common}$ that generated data similar to that of a participant). We will describe all the steps of the generative model first, and in the last exercise we will use all these steps to estimate the parameter $p_{common}$ of a single participant using simulated data.   \n",
    "\n",
    "The generative model will be a Bayesian model we saw in Tutorial 2: a mixture of Gaussian prior  and a Gaussian likelihood.\n",
    "Steps:\n",
    "\n",
    "* First, we'll create the prior, likelihood, posterior, etc in a form that will make it easier for us to visualize what is being computed and estimated at each step of the generative model: \n",
    "  1. Creating a mixture of Gaussian prior for multiple possible stimulus inputs\n",
    "  2. Generating the likelihood for multiple possible stimulus inputs\n",
    "  3. Estimating our posterior as a function of the stimulus input\n",
    "  4. Estimating a participant response given the posterior\n",
    "  \n",
    "* Next, we'll perform the model inversion/fitting:\n",
    "  5. Create an distribution for the input as a function of possible inputs\n",
    "  6. Marginalization\n",
    "  7. Generate some data using the generative model provided\n",
    "  8. Perform model inversion (model fitting) using the generated data and see if you recover the original parameters.\n"
   ]
  },
  {
   "cell_type": "markdown",
   "metadata": {
    "execution": {}
   },
   "source": [
    "---\n",
    "# Setup\n",
    "\n",
    "Please execute the cell below to initialize the notebook environment"
   ]
  },
  {
   "cell_type": "code",
   "execution_count": 1,
   "metadata": {
    "cellView": "both",
    "execution": {
     "iopub.execute_input": "2023-04-17T16:54:48.561928Z",
     "iopub.status.busy": "2023-04-17T16:54:48.561625Z",
     "iopub.status.idle": "2023-04-17T16:54:49.092444Z",
     "shell.execute_reply": "2023-04-17T16:54:49.091804Z"
    }
   },
   "outputs": [],
   "source": [
    "# Imports\n",
    "import numpy as np\n",
    "import matplotlib.pyplot as plt\n",
    "import matplotlib as mpl\n",
    "from scipy.optimize import minimize"
   ]
  },
  {
   "cell_type": "markdown",
   "metadata": {},
   "source": [
    "##  Figure Settings\n"
   ]
  },
  {
   "cell_type": "code",
   "execution_count": 2,
   "metadata": {
    "cellView": "form",
    "execution": {
     "iopub.execute_input": "2023-04-17T16:54:49.096717Z",
     "iopub.status.busy": "2023-04-17T16:54:49.095530Z",
     "iopub.status.idle": "2023-04-17T16:54:49.336810Z",
     "shell.execute_reply": "2023-04-17T16:54:49.335743Z"
    },
    "tags": [
     "hide-input"
    ]
   },
   "outputs": [],
   "source": [
    "#@title Figure Settings\n",
    "import ipywidgets as widgets\n",
    "%matplotlib inline\n",
    "%config InlineBackend.figure_format = 'retina'\n",
    "plt.style.use(\"https://raw.githubusercontent.com/NeuromatchAcademy/course-content/NMA2020/nma.mplstyle\")"
   ]
  },
  {
   "cell_type": "markdown",
   "metadata": {},
   "source": [
    "##  Helper Functions\n"
   ]
  },
  {
   "cell_type": "code",
   "execution_count": 3,
   "metadata": {
    "cellView": "form",
    "execution": {
     "iopub.execute_input": "2023-04-17T16:54:49.341310Z",
     "iopub.status.busy": "2023-04-17T16:54:49.340904Z",
     "iopub.status.idle": "2023-04-17T16:54:49.354369Z",
     "shell.execute_reply": "2023-04-17T16:54:49.353767Z"
    },
    "tags": [
     "hide-input"
    ]
   },
   "outputs": [],
   "source": [
    "# @title Helper Functions\n",
    "\n",
    "def my_gaussian(x_points, mu, sigma):\n",
    "    \"\"\"\n",
    "    Returns a Gaussian estimated at points `x_points`, with parameters: `mu` and `sigma`\n",
    "\n",
    "    Args :\n",
    "      x_points (numpy arrays of floats)- points at which the gaussian is evaluated\n",
    "      mu (scalar) - mean of the Gaussian\n",
    "      sigma (scalar) - std of the gaussian\n",
    "\n",
    "    Returns:\n",
    "      Gaussian evaluated at `x`\n",
    "    \"\"\"\n",
    "    p = np.exp(-(x_points-mu)**2/(2*sigma**2))\n",
    "    return p / sum(p)\n",
    "\n",
    "def moments_myfunc(x_points, function):\n",
    "  \"\"\"\n",
    "  DO NOT EDIT THIS FUNCTION !!!\n",
    "\n",
    "  Returns the mean, median and mode of an arbitrary function\n",
    "\n",
    "  Args :\n",
    "    x_points (numpy array of floats) - x-axis values\n",
    "    function (numpy array of floats) - y-axis values of the function evaluated at `x_points`\n",
    "\n",
    "  Returns:\n",
    "    (tuple of 3 scalars): mean, median, mode\n",
    "  \"\"\"\n",
    "\n",
    "  # Calc mode of arbitrary function\n",
    "  mode = x_points[np.argmax(function)]\n",
    "\n",
    "  # Calc mean of arbitrary function\n",
    "  mean = np.sum(x_points * function)\n",
    "\n",
    "  # Calc median of arbitrary function\n",
    "  cdf_function = np.zeros_like(x_points)\n",
    "  accumulator = 0\n",
    "  for i in np.arange(x_points.shape[0]):\n",
    "    accumulator = accumulator + function[i]\n",
    "    cdf_function[i] = accumulator\n",
    "  idx = np.argmin(np.abs(cdf_function - 0.5))\n",
    "  median = x_points[idx]\n",
    "\n",
    "  return mean, median, mode\n",
    "\n",
    "def plot_myarray(array, xlabel, ylabel, title):\n",
    "  \"\"\" Plot an array with labels.\n",
    "\n",
    "  Args :\n",
    "    array (numpy array of floats)\n",
    "    xlabel (string) - label of x-axis\n",
    "    ylabel (string) - label of y-axis\n",
    "    title  (string) - title of plot\n",
    "\n",
    "  Returns:\n",
    "    None\n",
    "  \"\"\"\n",
    "  fig = plt.figure()\n",
    "  ax = fig.add_subplot(111)\n",
    "  colormap = ax.imshow(array, extent=[-10, 10, 8, -8])\n",
    "  cbar = plt.colorbar(colormap, ax=ax)\n",
    "  cbar.set_label('probability')\n",
    "  ax.invert_yaxis()\n",
    "  ax.set_xlabel(xlabel)\n",
    "  ax.set_title(title)\n",
    "  ax.set_ylabel(ylabel)\n",
    "  ax.set_aspect('auto')\n",
    "  return None\n",
    "\n",
    "def plot_my_bayes_model(model) -> None:\n",
    "  \"\"\"Pretty-print a simple Bayes Model (ex 7), defined as a function:\n",
    "\n",
    "  Args:\n",
    "    - model: function that takes a single parameter value and returns\n",
    "             the negative log-likelihood of the model, given that parameter\n",
    "  Returns:\n",
    "    None, draws plot\n",
    "    \"\"\"\n",
    "  x = np.arange(-10,10,0.07)\n",
    "\n",
    "  # Plot neg-LogLikelihood for different values of alpha\n",
    "  alpha_tries = np.arange(0.01, 0.3, 0.01)\n",
    "  nll = np.zeros_like(alpha_tries)\n",
    "  for i_try in np.arange(alpha_tries.shape[0]):\n",
    "    nll[i_try] = model(np.array([alpha_tries[i_try]]))\n",
    "\n",
    "  plt.figure()\n",
    "  plt.plot(alpha_tries, nll)\n",
    "  plt.xlabel('p_independent value')\n",
    "  plt.ylabel('negative log-likelihood')\n",
    "\n",
    "  # Mark minima\n",
    "  ix = np.argmin(nll)\n",
    "  plt.scatter(alpha_tries[ix], nll[ix], c='r', s=144)\n",
    "\n",
    "  #plt.axvline(alpha_tries[np.argmin(nll)])\n",
    "  plt.title('Sample Output')\n",
    "  plt.show()\n",
    "\n",
    "  return None\n",
    "\n",
    "\n",
    "def plot_simulated_behavior(true_stim, behaviour):\n",
    "  fig = plt.figure(figsize=(7, 7))\n",
    "  ax = fig.add_subplot(1,1,1)\n",
    "  ax.set_facecolor('xkcd:light grey')\n",
    "  plt.plot(true_stim, true_stim - behaviour, '-k', linewidth=2, label='data')\n",
    "  plt.axvline(0, ls='dashed', color='grey')\n",
    "  plt.axhline(0, ls='dashed', color='grey')\n",
    "  plt.legend()\n",
    "  plt.xlabel('Position of true visual stimulus (cm)')\n",
    "  plt.ylabel('Participant deviation from true stimulus (cm)')\n",
    "  plt.title('Participant behavior')\n",
    "  plt.show()\n",
    "\n",
    "  return None"
   ]
  },
  {
   "cell_type": "markdown",
   "metadata": {
    "execution": {}
   },
   "source": [
    "---\n",
    "# Introduction\n"
   ]
  },
  {
   "cell_type": "markdown",
   "metadata": {},
   "source": [
    "##  Video 1: Intro\n"
   ]
  },
  {
   "cell_type": "code",
   "execution_count": 4,
   "metadata": {
    "cellView": "form",
    "execution": {
     "iopub.execute_input": "2023-04-17T16:54:49.357057Z",
     "iopub.status.busy": "2023-04-17T16:54:49.356705Z",
     "iopub.status.idle": "2023-04-17T16:54:49.523750Z",
     "shell.execute_reply": "2023-04-17T16:54:49.523025Z"
    },
    "tags": [
     "remove-input"
    ]
   },
   "outputs": [
    {
     "data": {
      "application/vnd.jupyter.widget-view+json": {
       "model_id": "157c7123294b43f29a54cca06f584dcc",
       "version_major": 2,
       "version_minor": 0
      },
      "text/plain": [
       "Tab(children=(Output(), Output()), selected_index=0, titles=('Youtube', 'Bilibili'))"
      ]
     },
     "metadata": {},
     "output_type": "display_data"
    }
   ],
   "source": [
    "# @title Video 1: Intro\n",
    "from ipywidgets import widgets\n",
    "\n",
    "out2 = widgets.Output()\n",
    "with out2:\n",
    "  from IPython.display import IFrame\n",
    "  class BiliVideo(IFrame):\n",
    "      def __init__(self, id, page=1, width=400, height=300, **kwargs):\n",
    "          self.id=id\n",
    "          src = 'https://player.bilibili.com/player.html?bvid={0}&page={1}'.format(id, page)\n",
    "          super(BiliVideo, self).__init__(src, width, height, **kwargs)\n",
    "\n",
    "  video = BiliVideo(id=\"BV13g4y1i7je\", width=730, height=410, fs=1)\n",
    "  print('Video available at https://www.bilibili.com/video/{0}'.format(video.id))\n",
    "  display(video)\n",
    "\n",
    "out1 = widgets.Output()\n",
    "with out1:\n",
    "  from IPython.display import YouTubeVideo\n",
    "  video = YouTubeVideo(id=\"YSKDhnbjKmA\", width=730, height=410, fs=1, rel=0)\n",
    "  print('Video available at https://youtube.com/watch?v=' + video.id)\n",
    "  display(video)\n",
    "\n",
    "out = widgets.Tab([out1, out2])\n",
    "out.titles = ['Youtube', 'Bilibili']\n",
    "\n",
    "display(out)"
   ]
  },
  {
   "cell_type": "markdown",
   "metadata": {
    "execution": {}
   },
   "source": [
    "![Generative model](https://github.com/vincentvalton/figures_NMA_W2D1_T3/blob/main/Drawing%20Generative%20Model%20W2T3.png?raw=true)\n",
    "\n",
    "Here is a graphical representation of the generative model:\n",
    "\n",
    "  1. We present a stimulus $x$ to participants. \n",
    "  2. The brain encodes this true stimulus $x$ noisily (this is the brain's representation of the true visual stimulus: $p(\\tilde x|x)$.\n",
    "  3. The brain then combines this brain-encoded stimulus (likelihood: $p(\\tilde x|x)$) with prior information (the prior: $p(x)$) to make up the brain's estimated position of the true visual stimulus, the posterior: $p(x|\\tilde x)$. \n",
    "  3. This brain's estimated stimulus position: $p(x|\\tilde x)$, is then used to make a response:  $\\hat x$, which is the participant's noisy estimate of the stimulus position (the participant's percept). \n",
    "  \n",
    "Typically the response $\\hat x$ also includes some motor noise (noise due to the hand/arm move being not 100% accurate), but we'll ignore it in this tutorial and assume there is no motor noise.\n",
    "\n",
    "\n",
    "We will use the same experimental setup as in [tutorial 2](https://compneuro.neuromatch.io/tutorials/W3D1_BayesianDecisions/student/W3D1_Tutorial2.html) but with slightly different probabilities. This time, participants are told that they need to estimate the sound location of a puppet that is hidden behind a curtain. The participants are told to use auditory information and are also informed that the sound could come from 2 possible causes: a common cause (95% of the time it comes from the puppet hidden behind the curtain at position 0), or an independent cause (5% of the time the sound comes from loud-speakers at more distant locations)."
   ]
  },
  {
   "cell_type": "markdown",
   "metadata": {
    "execution": {}
   },
   "source": [
    "---\n",
    "# Section 1: Likelihood array\n",
    "    \n",
    "First, we want to create a likelihood, but for the sake of visualization (and to consider all possible brain encodings) we will create multiple likelihoods $f(x)=p(\\tilde x|x)$ (one for each potential encoded stimulus: $\\tilde x$). We will then be able to visualize the likelihood as a function of hypothesized true stimulus positions: $x$ on the x-axis and encoded position $\\tilde x$ on the y-axis.\n",
    "\n",
    "\n",
    "  Using the equation for the `my_gaussian` and the values in `hypothetical_stim`:\n",
    "* Create a Gaussian likelihood with mean varying from `hypothetical_stim`, keeping $\\sigma_{likelihood}$ constant at 1.\n",
    "* Each likelihood will have a different mean and thus a different row-likelihood of your 2D array, such that you end up with a likelihood array made up of 1,000 row-Gaussians with different means. (_Hint_: `np.tile` won't work here. You may need a for-loop).\n",
    "* Plot the array using the function `plot_myarray()` already pre-written and commented-out in your script"
   ]
  },
  {
   "cell_type": "markdown",
   "metadata": {
    "execution": {}
   },
   "source": [
    "### Exercise 1. Implement the auditory likelihood as a function of true stimulus position"
   ]
  },
  {
   "cell_type": "code",
   "execution_count": 5,
   "metadata": {
    "cellView": "code",
    "execution": {
     "iopub.execute_input": "2023-04-17T16:54:49.535922Z",
     "iopub.status.busy": "2023-04-17T16:54:49.535365Z",
     "iopub.status.idle": "2023-04-17T16:54:49.829869Z",
     "shell.execute_reply": "2023-04-17T16:54:49.828562Z"
    }
   },
   "outputs": [
    {
     "ename": "NotImplementedError",
     "evalue": "You need to complete the function!",
     "output_type": "error",
     "traceback": [
      "\u001b[0;31m---------------------------------------------------------------------------\u001b[0m",
      "\u001b[0;31mNotImplementedError\u001b[0m                       Traceback (most recent call last)",
      "Cell \u001b[0;32mIn[5], line 23\u001b[0m\n\u001b[1;32m     17\u001b[0m     likelihood_array[i, :] \u001b[38;5;241m=\u001b[39m \u001b[38;5;241m.\u001b[39m\u001b[38;5;241m.\u001b[39m\u001b[38;5;241m.\u001b[39m\n\u001b[1;32m     19\u001b[0m   \u001b[38;5;28;01mreturn\u001b[39;00m likelihood_array\n\u001b[0;32m---> 23\u001b[0m likelihood_array \u001b[38;5;241m=\u001b[39m \u001b[43mcompute_likelihood_array\u001b[49m\u001b[43m(\u001b[49m\u001b[43mx\u001b[49m\u001b[43m,\u001b[49m\u001b[43m \u001b[49m\u001b[43mhypothetical_stim\u001b[49m\u001b[43m)\u001b[49m\n\u001b[1;32m     24\u001b[0m plot_myarray(likelihood_array,\n\u001b[1;32m     25\u001b[0m              \u001b[38;5;124m'\u001b[39m\u001b[38;5;124m$x$ : Potential true stimulus $x$\u001b[39m\u001b[38;5;124m'\u001b[39m,\n\u001b[1;32m     26\u001b[0m              \u001b[38;5;124m'\u001b[39m\u001b[38;5;124mPossible brain encoding $\u001b[39m\u001b[38;5;124m\\\u001b[39m\u001b[38;5;124m~x$\u001b[39m\u001b[38;5;124m'\u001b[39m,\n\u001b[1;32m     27\u001b[0m              \u001b[38;5;124m'\u001b[39m\u001b[38;5;124mLikelihood as a function of $\u001b[39m\u001b[38;5;124m\\\u001b[39m\u001b[38;5;124m~x$ : $p(\u001b[39m\u001b[38;5;124m\\\u001b[39m\u001b[38;5;124m~x | x)$\u001b[39m\u001b[38;5;124m'\u001b[39m)\n",
      "Cell \u001b[0;32mIn[5], line 15\u001b[0m, in \u001b[0;36mcompute_likelihood_array\u001b[0;34m(x_points, stim_array, sigma)\u001b[0m\n\u001b[1;32m      8\u001b[0m \u001b[38;5;66;03m# looping over stimulus array\u001b[39;00m\n\u001b[1;32m      9\u001b[0m \u001b[38;5;28;01mfor\u001b[39;00m i \u001b[38;5;129;01min\u001b[39;00m \u001b[38;5;28mrange\u001b[39m(\u001b[38;5;28mlen\u001b[39m(stim_array)):\n\u001b[1;32m     10\u001b[0m   \u001b[38;5;66;03m########################################################################\u001b[39;00m\n\u001b[1;32m     11\u001b[0m   \u001b[38;5;66;03m## Insert your code here to:\u001b[39;00m\n\u001b[1;32m     12\u001b[0m   \u001b[38;5;66;03m##      - Generate a likelihood array using `my_gaussian` function,\u001b[39;00m\n\u001b[1;32m     13\u001b[0m   \u001b[38;5;66;03m##        with std=1, and varying the mean using `stim_array` values.\u001b[39;00m\n\u001b[1;32m     14\u001b[0m   \u001b[38;5;66;03m## remove the raise below to test your function\u001b[39;00m\n\u001b[0;32m---> 15\u001b[0m   \u001b[38;5;28;01mraise\u001b[39;00m \u001b[38;5;167;01mNotImplementedError\u001b[39;00m(\u001b[38;5;124m\"\u001b[39m\u001b[38;5;124mYou need to complete the function!\u001b[39m\u001b[38;5;124m\"\u001b[39m)\n\u001b[1;32m     16\u001b[0m   \u001b[38;5;66;03m########################################################################\u001b[39;00m\n\u001b[1;32m     17\u001b[0m   likelihood_array[i, :] \u001b[38;5;241m=\u001b[39m \u001b[38;5;241m.\u001b[39m\u001b[38;5;241m.\u001b[39m\u001b[38;5;241m.\u001b[39m\n",
      "\u001b[0;31mNotImplementedError\u001b[0m: You need to complete the function!"
     ]
    }
   ],
   "source": [
    "x = np.arange(-10, 10, 0.1)\n",
    "hypothetical_stim = np.linspace(-8, 8, 1000)\n",
    "\n",
    "def compute_likelihood_array(x_points, stim_array, sigma=1.):\n",
    "\n",
    "  # initializing likelihood_array\n",
    "  likelihood_array = np.zeros((len(stim_array), len(x_points)))\n",
    "  # looping over stimulus array\n",
    "  for i in range(len(stim_array)):\n",
    "    ########################################################################\n",
    "    ## Insert your code here to:\n",
    "    ##      - Generate a likelihood array using `my_gaussian` function,\n",
    "    ##        with std=1, and varying the mean using `stim_array` values.\n",
    "    ## remove the raise below to test your function\n",
    "    raise NotImplementedError(\"You need to complete the function!\")\n",
    "    ########################################################################\n",
    "    likelihood_array[i, :] = ...\n",
    "\n",
    "  return likelihood_array\n",
    "\n",
    "\n",
    "\n",
    "likelihood_array = compute_likelihood_array(x, hypothetical_stim)\n",
    "plot_myarray(likelihood_array,\n",
    "             '$x$ : Potential true stimulus $x$',\n",
    "             'Possible brain encoding $\\~x$',\n",
    "             'Likelihood as a function of $\\~x$ : $p(\\~x | x)$')"
   ]
  },
  {
   "cell_type": "markdown",
   "metadata": {
    "colab_type": "text",
    "execution": {}
   },
   "source": [
    "[*Click for solution*](https://github.com/NeuromatchAcademy/course-content/tree/main//tutorials/W3D1_BayesianDecisions/solutions/W3D1_Tutorial3_Solution_4c9fe42b.py)\n",
    "\n",
    "*Example output:*\n",
    "\n",
    "<img alt='Solution hint' align='left' width=1105.0 height=828.0 src=https://raw.githubusercontent.com/NeuromatchAcademy/course-content/main/tutorials/W3D1_BayesianDecisions/static/W3D1_Tutorial3_Solution_4c9fe42b_0.png>\n",
    "\n"
   ]
  },
  {
   "cell_type": "markdown",
   "metadata": {
    "execution": {}
   },
   "source": [
    "---\n",
    "# Section 2: Causal mixture of Gaussian prior\n"
   ]
  },
  {
   "cell_type": "markdown",
   "metadata": {},
   "source": [
    "##  Video 2: Prior array\n"
   ]
  },
  {
   "cell_type": "code",
   "execution_count": 6,
   "metadata": {
    "cellView": "form",
    "execution": {
     "iopub.execute_input": "2023-04-17T16:54:49.832967Z",
     "iopub.status.busy": "2023-04-17T16:54:49.832561Z",
     "iopub.status.idle": "2023-04-17T16:54:49.893002Z",
     "shell.execute_reply": "2023-04-17T16:54:49.892351Z"
    },
    "tags": [
     "remove-input"
    ]
   },
   "outputs": [
    {
     "data": {
      "application/vnd.jupyter.widget-view+json": {
       "model_id": "19f957217f9949afaf603a41b275e026",
       "version_major": 2,
       "version_minor": 0
      },
      "text/plain": [
       "Tab(children=(Output(), Output()), selected_index=0, titles=('Youtube', 'Bilibili'))"
      ]
     },
     "metadata": {},
     "output_type": "display_data"
    }
   ],
   "source": [
    "# @title Video 2: Prior array\n",
    "from ipywidgets import widgets\n",
    "\n",
    "out2 = widgets.Output()\n",
    "with out2:\n",
    "  from IPython.display import IFrame\n",
    "  class BiliVideo(IFrame):\n",
    "      def __init__(self, id, page=1, width=400, height=300, **kwargs):\n",
    "          self.id=id\n",
    "          src = 'https://player.bilibili.com/player.html?bvid={0}&page={1}'.format(id, page)\n",
    "          super(BiliVideo, self).__init__(src, width, height, **kwargs)\n",
    "\n",
    "  video = BiliVideo(id=\"BV1WA411e7gM\", width=730, height=410, fs=1)\n",
    "  print('Video available at https://www.bilibili.com/video/{0}'.format(video.id))\n",
    "  display(video)\n",
    "\n",
    "out1 = widgets.Output()\n",
    "with out1:\n",
    "  from IPython.display import YouTubeVideo\n",
    "  video = YouTubeVideo(id=\"F0IYpUicXu4\", width=730, height=410, fs=1, rel=0)\n",
    "  print('Video available at https://youtube.com/watch?v=' + video.id)\n",
    "  display(video)\n",
    "\n",
    "out = widgets.Tab([out1, out2])\n",
    "out.titles = ['Youtube', 'Bilibili']\n",
    "\n",
    "display(out)"
   ]
  },
  {
   "cell_type": "markdown",
   "metadata": {
    "execution": {}
   },
   "source": [
    "\n",
    "As in Tutorial 2, we want to create a prior that will describe the participants' prior knowledge that, 95% of the time sounds come from a common position around the puppet, while during the remaining 5% of the time, they arise from another independent position. We will embody this information into a prior using a mixture of Gaussians. For visualization reasons, we will create a prior that has the same shape (form) as the likelihood array we created in the previous exercise. That is, we want to create a mixture of Gaussian prior as a function the the brain encoded stimulus $\\tilde x$. Since the prior does not change as a function of $\\tilde x$ it will be identical for each row of the prior 2D array. \n",
    "\n",
    "Using the equation for the Gaussian `my_gaussian`:\n",
    "* Generate a Gaussian $Common$ with mean 0 and standard deviation 0.5\n",
    "* Generate another Gaussian $Independent$ with mean 0 and standard deviation 10\n",
    "* Combine the two Gaussians (Common + Independent) to make a new prior by mixing the two Gaussians with mixing parameter $p_{independent}$ = 0.05. Make it such that the peakier Gaussian has 95% of the weight (don't forget to normalize afterwards)\n",
    "* This will be the first row of your prior 2D array\n",
    "* Now repeat this for varying brain encodings $\\tilde x$. Since the prior does not depend on $\\tilde x$ you can just repeat the prior for each $\\tilde x$ (hint: use np.tile) that row prior to make an array of 1,000 (i.e. `hypothetical_stim.shape[0]`)  row-priors.\n",
    "* Plot the matrix using the function `plot_myarray()` already pre-written and commented-out in your script"
   ]
  },
  {
   "cell_type": "markdown",
   "metadata": {
    "execution": {}
   },
   "source": [
    "### Exercise 2: Implement the prior array"
   ]
  },
  {
   "cell_type": "code",
   "execution_count": 7,
   "metadata": {
    "cellView": "code",
    "execution": {
     "iopub.execute_input": "2023-04-17T16:54:49.909433Z",
     "iopub.status.busy": "2023-04-17T16:54:49.909224Z",
     "iopub.status.idle": "2023-04-17T16:54:49.941251Z",
     "shell.execute_reply": "2023-04-17T16:54:49.940543Z"
    }
   },
   "outputs": [
    {
     "ename": "NotImplementedError",
     "evalue": "You need to complete the function!",
     "output_type": "error",
     "traceback": [
      "\u001b[0;31m---------------------------------------------------------------------------\u001b[0m",
      "\u001b[0;31mNotImplementedError\u001b[0m                       Traceback (most recent call last)",
      "Cell \u001b[0;32mIn[7], line 30\u001b[0m\n\u001b[1;32m     28\u001b[0m x \u001b[38;5;241m=\u001b[39m np\u001b[38;5;241m.\u001b[39marange(\u001b[38;5;241m-\u001b[39m\u001b[38;5;241m10\u001b[39m, \u001b[38;5;241m10\u001b[39m, \u001b[38;5;241m0.1\u001b[39m)\n\u001b[1;32m     29\u001b[0m p_independent \u001b[38;5;241m=\u001b[39m \u001b[38;5;241m.05\u001b[39m\n\u001b[0;32m---> 30\u001b[0m prior_array \u001b[38;5;241m=\u001b[39m \u001b[43mcalculate_prior_array\u001b[49m\u001b[43m(\u001b[49m\u001b[43mx\u001b[49m\u001b[43m,\u001b[49m\u001b[43m \u001b[49m\u001b[43mhypothetical_stim\u001b[49m\u001b[43m,\u001b[49m\u001b[43m \u001b[49m\u001b[43mp_independent\u001b[49m\u001b[43m)\u001b[49m\n\u001b[1;32m     31\u001b[0m plot_myarray(prior_array,\n\u001b[1;32m     32\u001b[0m              \u001b[38;5;124m'\u001b[39m\u001b[38;5;124mHypothesized position $x$\u001b[39m\u001b[38;5;124m'\u001b[39m, \u001b[38;5;124m'\u001b[39m\u001b[38;5;124mBrain encoded position $\u001b[39m\u001b[38;5;124m\\\u001b[39m\u001b[38;5;124m~x$\u001b[39m\u001b[38;5;124m'\u001b[39m,\n\u001b[1;32m     33\u001b[0m              \u001b[38;5;124m'\u001b[39m\u001b[38;5;124mPrior as a fcn of $\u001b[39m\u001b[38;5;124m\\\u001b[39m\u001b[38;5;124m~x$ : $p(x|\u001b[39m\u001b[38;5;124m\\\u001b[39m\u001b[38;5;124m~x)$\u001b[39m\u001b[38;5;124m'\u001b[39m)\n",
      "Cell \u001b[0;32mIn[7], line 19\u001b[0m, in \u001b[0;36mcalculate_prior_array\u001b[0;34m(x_points, stim_array, p_indep, prior_mean_common, prior_sigma_common, prior_mean_indep, prior_sigma_indep)\u001b[0m\n\u001b[1;32m     10\u001b[0m prior_indep \u001b[38;5;241m=\u001b[39m my_gaussian(x_points, prior_mean_indep, prior_sigma_indep)\n\u001b[1;32m     11\u001b[0m \u001b[38;5;66;03m############################################################################\u001b[39;00m\n\u001b[1;32m     12\u001b[0m \u001b[38;5;66;03m## Insert your code here to:\u001b[39;00m\n\u001b[1;32m     13\u001b[0m \u001b[38;5;66;03m##      - Create a mixture of gaussian priors from 'prior_common'\u001b[39;00m\n\u001b[0;32m   (...)\u001b[0m\n\u001b[1;32m     17\u001b[0m \u001b[38;5;66;03m##        of 1000 rows of priors (Hint: use np.tile() and np.reshape())\u001b[39;00m\n\u001b[1;32m     18\u001b[0m \u001b[38;5;66;03m## remove the raise below to test your function\u001b[39;00m\n\u001b[0;32m---> 19\u001b[0m \u001b[38;5;28;01mraise\u001b[39;00m \u001b[38;5;167;01mNotImplementedError\u001b[39;00m(\u001b[38;5;124m\"\u001b[39m\u001b[38;5;124mYou need to complete the function!\u001b[39m\u001b[38;5;124m\"\u001b[39m)\n\u001b[1;32m     20\u001b[0m \u001b[38;5;66;03m############################################################################\u001b[39;00m\n\u001b[1;32m     21\u001b[0m prior_mixed \u001b[38;5;241m=\u001b[39m \u001b[38;5;241m.\u001b[39m\u001b[38;5;241m.\u001b[39m\u001b[38;5;241m.\u001b[39m\n",
      "\u001b[0;31mNotImplementedError\u001b[0m: You need to complete the function!"
     ]
    }
   ],
   "source": [
    "def calculate_prior_array(x_points, stim_array, p_indep,\n",
    "                          prior_mean_common=.0, prior_sigma_common=.5,\n",
    "                          prior_mean_indep=.0, prior_sigma_indep=10):\n",
    "  \"\"\"\n",
    "      'common' stands for common\n",
    "      'indep' stands for independent\n",
    "  \"\"\"\n",
    "\n",
    "  prior_common = my_gaussian(x_points, prior_mean_common, prior_sigma_common)\n",
    "  prior_indep = my_gaussian(x_points, prior_mean_indep, prior_sigma_indep)\n",
    "  ############################################################################\n",
    "  ## Insert your code here to:\n",
    "  ##      - Create a mixture of gaussian priors from 'prior_common'\n",
    "  ##        and 'prior_indep' with mixing parameter 'p_indep'\n",
    "  ##      - normalize\n",
    "  ##      - repeat the prior array and reshape it to make a 2D array\n",
    "  ##        of 1000 rows of priors (Hint: use np.tile() and np.reshape())\n",
    "  ## remove the raise below to test your function\n",
    "  raise NotImplementedError(\"You need to complete the function!\")\n",
    "  ############################################################################\n",
    "  prior_mixed = ...\n",
    "  prior_mixed /= ...  # normalize\n",
    "\n",
    "  prior_array = np.tile(...).reshape(...)\n",
    "  return prior_array\n",
    "\n",
    "\n",
    "x = np.arange(-10, 10, 0.1)\n",
    "p_independent = .05\n",
    "prior_array = calculate_prior_array(x, hypothetical_stim, p_independent)\n",
    "plot_myarray(prior_array,\n",
    "             'Hypothesized position $x$', 'Brain encoded position $\\~x$',\n",
    "             'Prior as a fcn of $\\~x$ : $p(x|\\~x)$')"
   ]
  },
  {
   "cell_type": "markdown",
   "metadata": {
    "colab_type": "text",
    "execution": {}
   },
   "source": [
    "[*Click for solution*](https://github.com/NeuromatchAcademy/course-content/tree/main//tutorials/W3D1_BayesianDecisions/solutions/W3D1_Tutorial3_Solution_06f6683a.py)\n",
    "\n",
    "*Example output:*\n",
    "\n",
    "<img alt='Solution hint' align='left' width=1102.0 height=827.0 src=https://raw.githubusercontent.com/NeuromatchAcademy/course-content/main/tutorials/W3D1_BayesianDecisions/static/W3D1_Tutorial3_Solution_06f6683a_0.png>\n",
    "\n"
   ]
  },
  {
   "cell_type": "markdown",
   "metadata": {
    "execution": {}
   },
   "source": [
    "---\n",
    "# Section 3: Bayes rule and Posterior array"
   ]
  },
  {
   "cell_type": "markdown",
   "metadata": {},
   "source": [
    "##  Video 3: Posterior array\n"
   ]
  },
  {
   "cell_type": "code",
   "execution_count": 8,
   "metadata": {
    "cellView": "form",
    "execution": {
     "iopub.execute_input": "2023-04-17T16:54:49.944465Z",
     "iopub.status.busy": "2023-04-17T16:54:49.943861Z",
     "iopub.status.idle": "2023-04-17T16:54:50.110042Z",
     "shell.execute_reply": "2023-04-17T16:54:50.109276Z"
    },
    "tags": [
     "remove-input"
    ]
   },
   "outputs": [
    {
     "data": {
      "application/vnd.jupyter.widget-view+json": {
       "model_id": "a07226bd30ab4b1aba12ff8a220203a8",
       "version_major": 2,
       "version_minor": 0
      },
      "text/plain": [
       "Tab(children=(Output(), Output()), selected_index=0, titles=('Youtube', 'Bilibili'))"
      ]
     },
     "metadata": {},
     "output_type": "display_data"
    }
   ],
   "source": [
    "# @title Video 3: Posterior array\n",
    "from ipywidgets import widgets\n",
    "\n",
    "out2 = widgets.Output()\n",
    "with out2:\n",
    "  from IPython.display import IFrame\n",
    "  class BiliVideo(IFrame):\n",
    "      def __init__(self, id, page=1, width=400, height=300, **kwargs):\n",
    "          self.id=id\n",
    "          src = 'https://player.bilibili.com/player.html?bvid={0}&page={1}'.format(id, page)\n",
    "          super(BiliVideo, self).__init__(src, width, height, **kwargs)\n",
    "\n",
    "  video = BiliVideo(id=\"BV18K411H7Tc\", width=730, height=410, fs=1)\n",
    "  print('Video available at https://www.bilibili.com/video/{0}'.format(video.id))\n",
    "  display(video)\n",
    "\n",
    "out1 = widgets.Output()\n",
    "with out1:\n",
    "  from IPython.display import YouTubeVideo\n",
    "  video = YouTubeVideo(id=\"HpOzXZUKFJc\", width=730, height=410, fs=1, rel=0)\n",
    "  print('Video available at https://youtube.com/watch?v=' + video.id)\n",
    "  display(video)\n",
    "\n",
    "out = widgets.Tab([out1, out2])\n",
    "out.titles = ['Youtube', 'Bilibili']\n",
    "\n",
    "display(out)"
   ]
  },
  {
   "cell_type": "markdown",
   "metadata": {
    "execution": {}
   },
   "source": [
    "We now want to calculate the posterior using *Bayes Rule*. Since we have already created a likelihood and a prior for each brain encoded position $\\tilde x$, all we need to do is to multiply them row-wise. That is, each row of the posterior array will be the posterior resulting from the multiplication of the prior and likelihood of the same equivalent row.\n",
    "\n",
    "Mathematically:\n",
    "\n",
    "\\begin{equation}\n",
    "Posterior\\left[i, :\\right] \\propto Likelihood\\left[i, :\\right] \\odot Prior\\left[i, :\\right]\n",
    "\\end{equation}\n",
    "\n",
    "where $\\odot$ represents the [Hadamard Product](https://en.wikipedia.org/wiki/Hadamard_product_(matrices)) (i.e., element-wise multiplication) of the corresponding prior and likelihood row vectors `i` from each matrix.\n",
    "\n",
    "Follow these steps to build the posterior as a function of the brain encoded stimulus $\\tilde x$:\n",
    "* For each row of the prior and likelihood (i.e. each possible brain encoding $\\tilde x$), fill in the posterior matrix so that every row of the posterior array represents the posterior density for a different brain encode  $\\tilde x$.\n",
    "* Plot the array using the function `plot_myarray()` already pre-written and commented-out in your script\n",
    "\n",
    "Optional:\n",
    "* Do you need to operate on one element--or even one row--at a time? NumPy operations can often process an entire matrix in a single \"vectorized\" operation. This approach is often much faster and much easier to read than an element-by-element calculation.  Try to write a vectorized version that calculates the posterior without using any for-loops. _Hint_: look at `np.sum` and its keyword arguments."
   ]
  },
  {
   "cell_type": "markdown",
   "metadata": {
    "execution": {}
   },
   "source": [
    "### Exercise 3: Calculate the posterior as a function of the hypothetical stimulus x"
   ]
  },
  {
   "cell_type": "code",
   "execution_count": 9,
   "metadata": {
    "cellView": "code",
    "execution": {
     "iopub.execute_input": "2023-04-17T16:54:50.122022Z",
     "iopub.status.busy": "2023-04-17T16:54:50.121770Z",
     "iopub.status.idle": "2023-04-17T16:54:50.139815Z",
     "shell.execute_reply": "2023-04-17T16:54:50.139121Z"
    }
   },
   "outputs": [
    {
     "ename": "NameError",
     "evalue": "name 'prior_array' is not defined",
     "output_type": "error",
     "traceback": [
      "\u001b[0;31m---------------------------------------------------------------------------\u001b[0m",
      "\u001b[0;31mNameError\u001b[0m                                 Traceback (most recent call last)",
      "Cell \u001b[0;32mIn[9], line 16\u001b[0m\n\u001b[1;32m     11\u001b[0m   posterior_array \u001b[38;5;241m/\u001b[39m\u001b[38;5;241m=\u001b[39m \u001b[38;5;241m.\u001b[39m\u001b[38;5;241m.\u001b[39m\u001b[38;5;241m.\u001b[39m  \u001b[38;5;66;03m# normalize each row separately\u001b[39;00m\n\u001b[1;32m     13\u001b[0m   \u001b[38;5;28;01mreturn\u001b[39;00m posterior_array\n\u001b[0;32m---> 16\u001b[0m posterior_array \u001b[38;5;241m=\u001b[39m calculate_posterior_array(\u001b[43mprior_array\u001b[49m, likelihood_array)\n\u001b[1;32m     17\u001b[0m plot_myarray(posterior_array,\n\u001b[1;32m     18\u001b[0m              \u001b[38;5;124m'\u001b[39m\u001b[38;5;124mHypothesized Position $x$\u001b[39m\u001b[38;5;124m'\u001b[39m,\n\u001b[1;32m     19\u001b[0m              \u001b[38;5;124m'\u001b[39m\u001b[38;5;124mBrain encoded Stimulus $\u001b[39m\u001b[38;5;124m\\\u001b[39m\u001b[38;5;124m~x$\u001b[39m\u001b[38;5;124m'\u001b[39m,\n\u001b[1;32m     20\u001b[0m              \u001b[38;5;124m'\u001b[39m\u001b[38;5;124mPosterior as a fcn of $\u001b[39m\u001b[38;5;124m\\\u001b[39m\u001b[38;5;124m~x$ : $p(x | \u001b[39m\u001b[38;5;124m\\\u001b[39m\u001b[38;5;124m~x)$\u001b[39m\u001b[38;5;124m'\u001b[39m)\n",
      "\u001b[0;31mNameError\u001b[0m: name 'prior_array' is not defined"
     ]
    }
   ],
   "source": [
    "def calculate_posterior_array(prior_array, likelihood_array):\n",
    "  ############################################################################\n",
    "  ## Insert your code here to:\n",
    "  ##      - calculate the 'posterior_array' from the given\n",
    "  ##        'prior_array', 'likelihood_array'\n",
    "  ##      - normalize\n",
    "  ## remove the raise below to test your function\n",
    "  raise NotImplementedError(\"You need to complete the function!\")\n",
    "  ############################################################################\n",
    "  posterior_array = ...\n",
    "  posterior_array /= ...  # normalize each row separately\n",
    "\n",
    "  return posterior_array\n",
    "\n",
    "\n",
    "posterior_array = calculate_posterior_array(prior_array, likelihood_array)\n",
    "plot_myarray(posterior_array,\n",
    "             'Hypothesized Position $x$',\n",
    "             'Brain encoded Stimulus $\\~x$',\n",
    "             'Posterior as a fcn of $\\~x$ : $p(x | \\~x)$')"
   ]
  },
  {
   "cell_type": "markdown",
   "metadata": {
    "colab_type": "text",
    "execution": {}
   },
   "source": [
    "[*Click for solution*](https://github.com/NeuromatchAcademy/course-content/tree/main//tutorials/W3D1_BayesianDecisions/solutions/W3D1_Tutorial3_Solution_aa2afc9a.py)\n",
    "\n",
    "*Example output:*\n",
    "\n",
    "<img alt='Solution hint' align='left' width=1102.0 height=827.0 src=https://raw.githubusercontent.com/NeuromatchAcademy/course-content/main/tutorials/W3D1_BayesianDecisions/static/W3D1_Tutorial3_Solution_aa2afc9a_0.png>\n",
    "\n"
   ]
  },
  {
   "cell_type": "markdown",
   "metadata": {
    "execution": {}
   },
   "source": [
    "---\n",
    "# Section 4: Estimating the position $\\hat x$"
   ]
  },
  {
   "cell_type": "markdown",
   "metadata": {},
   "source": [
    "##  Video 4: Binary decision matrix\n"
   ]
  },
  {
   "cell_type": "code",
   "execution_count": 10,
   "metadata": {
    "cellView": "form",
    "execution": {
     "iopub.execute_input": "2023-04-17T16:54:50.142872Z",
     "iopub.status.busy": "2023-04-17T16:54:50.142470Z",
     "iopub.status.idle": "2023-04-17T16:54:50.231199Z",
     "shell.execute_reply": "2023-04-17T16:54:50.230498Z"
    },
    "tags": [
     "remove-input"
    ]
   },
   "outputs": [
    {
     "data": {
      "application/vnd.jupyter.widget-view+json": {
       "model_id": "ce2699dba9be4c938eba7bf1c62ff58f",
       "version_major": 2,
       "version_minor": 0
      },
      "text/plain": [
       "Tab(children=(Output(), Output()), selected_index=0, titles=('Youtube', 'Bilibili'))"
      ]
     },
     "metadata": {},
     "output_type": "display_data"
    }
   ],
   "source": [
    "# @title Video 4: Binary decision matrix\n",
    "from ipywidgets import widgets\n",
    "\n",
    "out2 = widgets.Output()\n",
    "with out2:\n",
    "  from IPython.display import IFrame\n",
    "  class BiliVideo(IFrame):\n",
    "      def __init__(self, id, page=1, width=400, height=300, **kwargs):\n",
    "          self.id=id\n",
    "          src = 'https://player.bilibili.com/player.html?bvid={0}&page={1}'.format(id, page)\n",
    "          super(BiliVideo, self).__init__(src, width, height, **kwargs)\n",
    "\n",
    "  video = BiliVideo(id=\"BV1sZ4y1u74e\", width=730, height=410, fs=1)\n",
    "  print('Video available at https://www.bilibili.com/video/{0}'.format(video.id))\n",
    "  display(video)\n",
    "\n",
    "out1 = widgets.Output()\n",
    "with out1:\n",
    "  from IPython.display import YouTubeVideo\n",
    "  video = YouTubeVideo(id=\"gy3GmlssHgQ\", width=730, height=410, fs=1, rel=0)\n",
    "  print('Video available at https://youtube.com/watch?v=' + video.id)\n",
    "  display(video)\n",
    "\n",
    "out = widgets.Tab([out1, out2])\n",
    "out.titles = ['Youtube', 'Bilibili']\n",
    "\n",
    "display(out)"
   ]
  },
  {
   "cell_type": "markdown",
   "metadata": {
    "execution": {}
   },
   "source": [
    "Now that we have a posterior distribution (for each possible brain encoding $\\tilde x$)that represents the brain's estimated stimulus position: $p(x|\\tilde x)$, we want to make an estimate (response) of the sound location $\\hat x$ using the posterior distribution. This would represent the subject's estimate if their (for us as experimentalist unobservable) brain encoding took on each possible value. \n",
    "\n",
    "This effectively encodes the *decision* that a participant would make for a given brain encoding $\\tilde x$. In this exercise, we make the assumptions that participants take the mean of the posterior (decision rule) as a response estimate for the sound location (use the function `moments_myfunc()` provided to calculate the mean of the posterior).\n",
    "\n",
    "Using this knowledge, we will now represent $\\hat x$ as a function of the encoded stimulus $\\tilde x$. This will result in a 2D binary decision array. To do so, we will scan the posterior matrix (i.e. row-wise), and set the array cell value to 1 at the mean of the row-wise posterior.\n",
    "\n",
    "**Suggestions**\n",
    "* For each brain encoding $\\tilde x$ (row of the posterior array), calculate the mean of the posterior, and set the corresponding cell of the binary decision array to 1. (e.g., if the mean of the posterior is at position 0, then set the cell with x_column == 0 to 1).\n",
    "* Plot the matrix using the function `plot_myarray()` already pre-written and commented-out in your script"
   ]
  },
  {
   "cell_type": "markdown",
   "metadata": {
    "execution": {}
   },
   "source": [
    "### Exercise 4: Calculate the estimated response as a function of the hypothetical stimulus x"
   ]
  },
  {
   "cell_type": "code",
   "execution_count": 11,
   "metadata": {
    "cellView": "code",
    "execution": {
     "iopub.execute_input": "2023-04-17T16:54:50.242921Z",
     "iopub.status.busy": "2023-04-17T16:54:50.242699Z",
     "iopub.status.idle": "2023-04-17T16:54:50.262496Z",
     "shell.execute_reply": "2023-04-17T16:54:50.261824Z"
    }
   },
   "outputs": [
    {
     "ename": "NameError",
     "evalue": "name 'posterior_array' is not defined",
     "output_type": "error",
     "traceback": [
      "\u001b[0;31m---------------------------------------------------------------------------\u001b[0m",
      "\u001b[0;31mNameError\u001b[0m                                 Traceback (most recent call last)",
      "Cell \u001b[0;32mIn[11], line 25\u001b[0m\n\u001b[1;32m     20\u001b[0m     binary_decision_array[i, idx] \u001b[38;5;241m=\u001b[39m \u001b[38;5;241m1\u001b[39m\n\u001b[1;32m     22\u001b[0m   \u001b[38;5;28;01mreturn\u001b[39;00m binary_decision_array\n\u001b[0;32m---> 25\u001b[0m binary_decision_array \u001b[38;5;241m=\u001b[39m calculate_binary_decision_array(x, \u001b[43mposterior_array\u001b[49m)\n\u001b[1;32m     26\u001b[0m plot_myarray(binary_decision_array,\n\u001b[1;32m     27\u001b[0m              \u001b[38;5;124m'\u001b[39m\u001b[38;5;124mChosen position $\u001b[39m\u001b[38;5;124m\\\u001b[39m\u001b[38;5;124mhat x$\u001b[39m\u001b[38;5;124m'\u001b[39m, \u001b[38;5;124m'\u001b[39m\u001b[38;5;124mBrain-encoded Stimulus $\u001b[39m\u001b[38;5;124m\\\u001b[39m\u001b[38;5;124m~ x$\u001b[39m\u001b[38;5;124m'\u001b[39m,\n\u001b[1;32m     28\u001b[0m              \u001b[38;5;124m'\u001b[39m\u001b[38;5;124mSample Binary Decision Array\u001b[39m\u001b[38;5;124m'\u001b[39m)\n",
      "\u001b[0;31mNameError\u001b[0m: name 'posterior_array' is not defined"
     ]
    }
   ],
   "source": [
    "def calculate_binary_decision_array(x_points, posterior_array):\n",
    "\n",
    "  binary_decision_array = np.zeros_like(posterior_array)\n",
    "\n",
    "  for i in range(len(posterior_array)):\n",
    "    ########################################################################\n",
    "    ## Insert your code here to:\n",
    "    ##      - For each hypothetical stimulus x (row of posterior),\n",
    "    ##        calculate the mean of the posterior using the provided function\n",
    "    ##        `moments_myfunc()`, and set the corresponding cell of the\n",
    "    ##        Binary Decision array to 1.\n",
    "    ##        Hint: you can run 'help(moments_myfunc)' to see the docstring\n",
    "    ## remove the raise below to test your function\n",
    "    raise NotImplementedError(\"You need to complete the function!\")\n",
    "    ########################################################################\n",
    "    # calculate mean of posterior using 'moments_myfunc'\n",
    "    mean, _, _ = ...\n",
    "    # find the position of mean in x_points (closest position)\n",
    "    idx = ...\n",
    "    binary_decision_array[i, idx] = 1\n",
    "\n",
    "  return binary_decision_array\n",
    "\n",
    "\n",
    "binary_decision_array = calculate_binary_decision_array(x, posterior_array)\n",
    "plot_myarray(binary_decision_array,\n",
    "             'Chosen position $\\hat x$', 'Brain-encoded Stimulus $\\~ x$',\n",
    "             'Sample Binary Decision Array')"
   ]
  },
  {
   "cell_type": "markdown",
   "metadata": {
    "colab_type": "text",
    "execution": {}
   },
   "source": [
    "[*Click for solution*](https://github.com/NeuromatchAcademy/course-content/tree/main//tutorials/W3D1_BayesianDecisions/solutions/W3D1_Tutorial3_Solution_fc2e7c22.py)\n",
    "\n",
    "*Example output:*\n",
    "\n",
    "<img alt='Solution hint' align='left' width=1095.0 height=827.0 src=https://raw.githubusercontent.com/NeuromatchAcademy/course-content/main/tutorials/W3D1_BayesianDecisions/static/W3D1_Tutorial3_Solution_fc2e7c22_0.png>\n",
    "\n"
   ]
  },
  {
   "cell_type": "markdown",
   "metadata": {
    "execution": {}
   },
   "source": [
    "---\n",
    "# Section 5: Probabilities of encoded stimuli"
   ]
  },
  {
   "cell_type": "markdown",
   "metadata": {},
   "source": [
    "##  Video 5: Input array\n"
   ]
  },
  {
   "cell_type": "code",
   "execution_count": 12,
   "metadata": {
    "cellView": "form",
    "execution": {
     "iopub.execute_input": "2023-04-17T16:54:50.265299Z",
     "iopub.status.busy": "2023-04-17T16:54:50.264951Z",
     "iopub.status.idle": "2023-04-17T16:54:50.453654Z",
     "shell.execute_reply": "2023-04-17T16:54:50.452990Z"
    },
    "tags": [
     "remove-input"
    ]
   },
   "outputs": [
    {
     "data": {
      "application/vnd.jupyter.widget-view+json": {
       "model_id": "a42252d4bfd2442784a6b3a2e1ee67be",
       "version_major": 2,
       "version_minor": 0
      },
      "text/plain": [
       "Tab(children=(Output(), Output()), selected_index=0, titles=('Youtube', 'Bilibili'))"
      ]
     },
     "metadata": {},
     "output_type": "display_data"
    }
   ],
   "source": [
    "# @title Video 5: Input array\n",
    "from ipywidgets import widgets\n",
    "\n",
    "out2 = widgets.Output()\n",
    "with out2:\n",
    "  from IPython.display import IFrame\n",
    "  class BiliVideo(IFrame):\n",
    "      def __init__(self, id, page=1, width=400, height=300, **kwargs):\n",
    "          self.id=id\n",
    "          src = 'https://player.bilibili.com/player.html?bvid={0}&page={1}'.format(id, page)\n",
    "          super(BiliVideo, self).__init__(src, width, height, **kwargs)\n",
    "\n",
    "  video = BiliVideo(id=\"BV1pT4y1E7wv\", width=730, height=410, fs=1)\n",
    "  print('Video available at https://www.bilibili.com/video/{0}'.format(video.id))\n",
    "  display(video)\n",
    "\n",
    "out1 = widgets.Output()\n",
    "with out1:\n",
    "  from IPython.display import YouTubeVideo\n",
    "  video = YouTubeVideo(id=\"C1d1n_Si83o\", width=730, height=410, fs=1, rel=0)\n",
    "  print('Video available at https://youtube.com/watch?v=' + video.id)\n",
    "  display(video)\n",
    "\n",
    "out = widgets.Tab([out1, out2])\n",
    "out.titles = ['Youtube', 'Bilibili']\n",
    "\n",
    "display(out)"
   ]
  },
  {
   "cell_type": "markdown",
   "metadata": {
    "execution": {}
   },
   "source": [
    "Because we as experimentalists can not know the encoding $\\tilde x$ of the stimulus $x$ that we do know, we had to compute the binary decision array for each possible encoding. \n",
    "\n",
    "First however, we need to calculate how likely each possible encoding is given the true stimulus. That is, we will now create a Gaussian centered around the true presented stimulus, with $\\sigma = 1$, and repeat that gaussian distribution across as a function of potentially encoded values $\\tilde x$. That is, we want to make a *column* gaussian centered around the true presented stimulus, and repeat this *column* Gaussian across all hypothetical stimulus values $x$.\n",
    "\n",
    "This, effectively encodes the distribution of the brain encoded stimulus (one single stimulus, which we as experimentalists know) and enable us to link the true stimulus $x$, to potential encodings $\\tilde x$.\n",
    "\n",
    "**Suggestions**\n",
    "\n",
    "For this exercise, we will assume the true stimulus is presented at direction 2.5\n",
    "* Create a Gaussian likelihood with $\\mu = 2.5$ and $\\sigma = 1.0$\n",
    "* Make this the first column of your array and repeat that *column* to fill in the true presented stimulus input as a function of hypothetical stimulus locations.\n",
    "* Plot the array using the function `plot_myarray()` already pre-written and commented-out in your script"
   ]
  },
  {
   "cell_type": "markdown",
   "metadata": {
    "execution": {}
   },
   "source": [
    "### Exercise 5: Generate an input as a function of hypothetical stimulus x"
   ]
  },
  {
   "cell_type": "code",
   "execution_count": 13,
   "metadata": {
    "cellView": "code",
    "execution": {
     "iopub.execute_input": "2023-04-17T16:54:50.468914Z",
     "iopub.status.busy": "2023-04-17T16:54:50.468699Z",
     "iopub.status.idle": "2023-04-17T16:54:50.488593Z",
     "shell.execute_reply": "2023-04-17T16:54:50.487918Z"
    }
   },
   "outputs": [
    {
     "ename": "NameError",
     "evalue": "name 'posterior_array' is not defined",
     "output_type": "error",
     "traceback": [
      "\u001b[0;31m---------------------------------------------------------------------------\u001b[0m",
      "\u001b[0;31mNameError\u001b[0m                                 Traceback (most recent call last)",
      "Cell \u001b[0;32mIn[13], line 18\u001b[0m\n\u001b[1;32m     13\u001b[0m     input_array[:, i] \u001b[38;5;241m=\u001b[39m \u001b[38;5;241m.\u001b[39m\u001b[38;5;241m.\u001b[39m\u001b[38;5;241m.\u001b[39m\n\u001b[1;32m     15\u001b[0m   \u001b[38;5;28;01mreturn\u001b[39;00m input_array\n\u001b[0;32m---> 18\u001b[0m input_array \u001b[38;5;241m=\u001b[39m generate_input_array(x, hypothetical_stim, \u001b[43mposterior_array\u001b[49m)\n\u001b[1;32m     19\u001b[0m plot_myarray(input_array,\n\u001b[1;32m     20\u001b[0m              \u001b[38;5;124m'\u001b[39m\u001b[38;5;124mHypothetical Stimulus $x$\u001b[39m\u001b[38;5;124m'\u001b[39m, \u001b[38;5;124m'\u001b[39m\u001b[38;5;124m$\u001b[39m\u001b[38;5;124m\\\u001b[39m\u001b[38;5;124m~x$\u001b[39m\u001b[38;5;124m'\u001b[39m,\n\u001b[1;32m     21\u001b[0m              \u001b[38;5;124m'\u001b[39m\u001b[38;5;124mSample Distribution over Encodings:\u001b[39m\u001b[38;5;130;01m\\n\u001b[39;00m\u001b[38;5;124m $p(\u001b[39m\u001b[38;5;124m\\\u001b[39m\u001b[38;5;124m~x | x = 2.5)$\u001b[39m\u001b[38;5;124m'\u001b[39m)\n",
      "\u001b[0;31mNameError\u001b[0m: name 'posterior_array' is not defined"
     ]
    }
   ],
   "source": [
    "def generate_input_array(x_points, stim_array, posterior_array,\n",
    "                         mean=2.5, sigma=1.):\n",
    "\n",
    "  input_array = np.zeros_like(posterior_array)\n",
    "  ########################################################################\n",
    "  ## Insert your code here to:\n",
    "  ##      - Generate a gaussian centered on the true stimulus 2.5\n",
    "  ##        and sigma = 1. for each column\n",
    "  ## remove the raise below to test your function\n",
    "  raise NotImplementedError(\"You need to complete the function!\")\n",
    "  ########################################################################\n",
    "  for i in range(len(x_points)):\n",
    "    input_array[:, i] = ...\n",
    "\n",
    "  return input_array\n",
    "\n",
    "\n",
    "input_array = generate_input_array(x, hypothetical_stim, posterior_array)\n",
    "plot_myarray(input_array,\n",
    "             'Hypothetical Stimulus $x$', '$\\~x$',\n",
    "             'Sample Distribution over Encodings:\\n $p(\\~x | x = 2.5)$')"
   ]
  },
  {
   "cell_type": "markdown",
   "metadata": {
    "colab_type": "text",
    "execution": {}
   },
   "source": [
    "[*Click for solution*](https://github.com/NeuromatchAcademy/course-content/tree/main//tutorials/W3D1_BayesianDecisions/solutions/W3D1_Tutorial3_Solution_e37eb6db.py)\n",
    "\n",
    "*Example output:*\n",
    "\n",
    "<img alt='Solution hint' align='left' width=1102.0 height=827.0 src=https://raw.githubusercontent.com/NeuromatchAcademy/course-content/main/tutorials/W3D1_BayesianDecisions/static/W3D1_Tutorial3_Solution_e37eb6db_0.png>\n",
    "\n"
   ]
  },
  {
   "cell_type": "markdown",
   "metadata": {
    "execution": {}
   },
   "source": [
    "---\n",
    "# Section 6: Normalization and expected estimate distribution"
   ]
  },
  {
   "cell_type": "markdown",
   "metadata": {},
   "source": [
    "##  Video 6: Marginalization\n"
   ]
  },
  {
   "cell_type": "code",
   "execution_count": 14,
   "metadata": {
    "cellView": "form",
    "execution": {
     "iopub.execute_input": "2023-04-17T16:54:50.491468Z",
     "iopub.status.busy": "2023-04-17T16:54:50.491114Z",
     "iopub.status.idle": "2023-04-17T16:54:50.666275Z",
     "shell.execute_reply": "2023-04-17T16:54:50.665545Z"
    },
    "tags": [
     "remove-input"
    ]
   },
   "outputs": [
    {
     "data": {
      "application/vnd.jupyter.widget-view+json": {
       "model_id": "2e02b20753cb46d7bf425783e6aeb350",
       "version_major": 2,
       "version_minor": 0
      },
      "text/plain": [
       "Tab(children=(Output(), Output()), selected_index=0, titles=('Youtube', 'Bilibili'))"
      ]
     },
     "metadata": {},
     "output_type": "display_data"
    }
   ],
   "source": [
    "# @title Video 6: Marginalization\n",
    "from ipywidgets import widgets\n",
    "\n",
    "out2 = widgets.Output()\n",
    "with out2:\n",
    "  from IPython.display import IFrame\n",
    "  class BiliVideo(IFrame):\n",
    "      def __init__(self, id, page=1, width=400, height=300, **kwargs):\n",
    "          self.id=id\n",
    "          src = 'https://player.bilibili.com/player.html?bvid={0}&page={1}'.format(id, page)\n",
    "          super(BiliVideo, self).__init__(src, width, height, **kwargs)\n",
    "\n",
    "  video = BiliVideo(id=\"BV1qz4y1D71K\", width=730, height=410, fs=1)\n",
    "  print('Video available at https://www.bilibili.com/video/{0}'.format(video.id))\n",
    "  display(video)\n",
    "\n",
    "out1 = widgets.Output()\n",
    "with out1:\n",
    "  from IPython.display import YouTubeVideo\n",
    "  video = YouTubeVideo(id=\"5alwtNS4CGw\", width=730, height=410, fs=1, rel=0)\n",
    "  print('Video available at https://youtube.com/watch?v=' + video.id)\n",
    "  display(video)\n",
    "\n",
    "out = widgets.Tab([out1, out2])\n",
    "out.titles = ['Youtube', 'Bilibili']\n",
    "\n",
    "display(out)"
   ]
  },
  {
   "cell_type": "markdown",
   "metadata": {
    "execution": {}
   },
   "source": [
    "Now that we have a true stimulus $x$ and a way to link it to potential encodings, we will be able to calculate the distribution of encodings and ultimately estimates. To integrate over all possible hypothetical values of $\\tilde x$ we marginalize, that is, we first compute the dot-product from the true presented stimulus and our binary decision array and then sum over x. \n",
    "\n",
    "Mathematically, this means that we want to compute:\n",
    "\n",
    "\\begin{eqnarray}\n",
    "Marginalization Array = Input Array \\odot Binary Decision Array\n",
    "\\end{eqnarray}\n",
    "\n",
    "\\begin{eqnarray}\n",
    "Marginal = \\int_{\\tilde x} Marginalization Array\n",
    "\\end{eqnarray}\n",
    "\n",
    "Since we are performing integration over discrete values using arrays for visualization purposes, the integration reduces to a simple sum over $\\tilde x$.\n",
    "\n",
    "**Suggestions**\n",
    "\n",
    "* For each row of the input and binary arrays, calculate product of the two and fill in the 2D marginal array.\n",
    "* Plot the result using the function `plot_myarray()` already pre-written and commented-out in your script\n",
    "* Calculate and plot the marginal over `x` using the code snippet commented out in your script\n",
    "   - Note how the limitations of numerical integration create artifacts on your marginal "
   ]
  },
  {
   "cell_type": "markdown",
   "metadata": {
    "execution": {}
   },
   "source": [
    "### Exercise 6: Implement the marginalization matrix"
   ]
  },
  {
   "cell_type": "code",
   "execution_count": 15,
   "metadata": {
    "cellView": "code",
    "execution": {
     "iopub.execute_input": "2023-04-17T16:54:50.678371Z",
     "iopub.status.busy": "2023-04-17T16:54:50.678155Z",
     "iopub.status.idle": "2023-04-17T16:54:50.698297Z",
     "shell.execute_reply": "2023-04-17T16:54:50.697593Z"
    }
   },
   "outputs": [
    {
     "ename": "NameError",
     "evalue": "name 'input_array' is not defined",
     "output_type": "error",
     "traceback": [
      "\u001b[0;31m---------------------------------------------------------------------------\u001b[0m",
      "\u001b[0;31mNameError\u001b[0m                                 Traceback (most recent call last)",
      "Cell \u001b[0;32mIn[15], line 20\u001b[0m\n\u001b[1;32m     15\u001b[0m   marginal \u001b[38;5;241m/\u001b[39m\u001b[38;5;241m=\u001b[39m \u001b[38;5;241m.\u001b[39m\u001b[38;5;241m.\u001b[39m\u001b[38;5;241m.\u001b[39m \u001b[38;5;66;03m# normalize\u001b[39;00m\n\u001b[1;32m     17\u001b[0m   \u001b[38;5;28;01mreturn\u001b[39;00m marginalization_array, marginal\n\u001b[0;32m---> 20\u001b[0m marginalization_array, marginal \u001b[38;5;241m=\u001b[39m my_marginalization(\u001b[43minput_array\u001b[49m, binary_decision_array)\n\u001b[1;32m     22\u001b[0m plot_myarray(marginalization_array,\n\u001b[1;32m     23\u001b[0m              \u001b[38;5;124m'\u001b[39m\u001b[38;5;124mestimated $\u001b[39m\u001b[38;5;124m\\\u001b[39m\u001b[38;5;124mhat x$\u001b[39m\u001b[38;5;124m'\u001b[39m,\n\u001b[1;32m     24\u001b[0m              \u001b[38;5;124m'\u001b[39m\u001b[38;5;124m$\u001b[39m\u001b[38;5;124m\\\u001b[39m\u001b[38;5;124m~x$\u001b[39m\u001b[38;5;124m'\u001b[39m,\n\u001b[1;32m     25\u001b[0m              \u001b[38;5;124m'\u001b[39m\u001b[38;5;124mMarginalization array: $p(\u001b[39m\u001b[38;5;124m\\\u001b[39m\u001b[38;5;124m^x | \u001b[39m\u001b[38;5;124m\\\u001b[39m\u001b[38;5;124m~x)$\u001b[39m\u001b[38;5;124m'\u001b[39m)\n\u001b[1;32m     26\u001b[0m plt\u001b[38;5;241m.\u001b[39mfigure()\n",
      "\u001b[0;31mNameError\u001b[0m: name 'input_array' is not defined"
     ]
    }
   ],
   "source": [
    "def my_marginalization(input_array, binary_decision_array):\n",
    "\n",
    "  ############################################################################\n",
    "  ## Insert your code here to:\n",
    "  ##  - Compute 'marginalization_array' by multiplying pointwise the Binary\n",
    "  ##    decision array over hypothetical stimuli and the Input array\n",
    "  ##  - Compute 'marginal' from the 'marginalization_array' by summing over x\n",
    "  ##    (hint: use np.sum() and only marginalize along the columns)\n",
    "  ## remove the raise below to test your function\n",
    "  raise NotImplementedError(\"You need to complete the function!\")\n",
    "  ############################################################################\n",
    "\n",
    "  marginalization_array = ...\n",
    "  marginal = ... # note axis\n",
    "  marginal /= ... # normalize\n",
    "\n",
    "  return marginalization_array, marginal\n",
    "\n",
    "\n",
    "marginalization_array, marginal = my_marginalization(input_array, binary_decision_array)\n",
    "\n",
    "plot_myarray(marginalization_array,\n",
    "             'estimated $\\hat x$',\n",
    "             '$\\~x$',\n",
    "             'Marginalization array: $p(\\^x | \\~x)$')\n",
    "plt.figure()\n",
    "plt.plot(x, marginal)\n",
    "plt.xlabel('$\\^x$')\n",
    "plt.ylabel('probability')\n",
    "plt.show()"
   ]
  },
  {
   "cell_type": "markdown",
   "metadata": {
    "colab_type": "text",
    "execution": {}
   },
   "source": [
    "[*Click for solution*](https://github.com/NeuromatchAcademy/course-content/tree/main//tutorials/W3D1_BayesianDecisions/solutions/W3D1_Tutorial3_Solution_2d90e38d.py)\n",
    "\n",
    "*Example output:*\n",
    "\n",
    "<img alt='Solution hint' align='left' width=1107.0 height=832.0 src=https://raw.githubusercontent.com/NeuromatchAcademy/course-content/main/tutorials/W3D1_BayesianDecisions/static/W3D1_Tutorial3_Solution_2d90e38d_0.png>\n",
    "\n",
    "<img alt='Solution hint' align='left' width=1120.0 height=832.0 src=https://raw.githubusercontent.com/NeuromatchAcademy/course-content/main/tutorials/W3D1_BayesianDecisions/static/W3D1_Tutorial3_Solution_2d90e38d_1.png>\n",
    "\n"
   ]
  },
  {
   "cell_type": "markdown",
   "metadata": {
    "execution": {}
   },
   "source": [
    "---\n",
    "# Generate some data\n",
    "\n",
    "We have seen how to calculate the posterior and marginalize to remove $\\tilde x$ and get $p(\\hat{x} \\mid x)$. Next, we will generate some artificial data for a single participant using the `generate_data()` function provided, and mixing parameter $p_{independent} = 0.1$. \n",
    "\n",
    "Our goal in the next exercise will be to recover that parameter. These parameter recovery experiments are a powerful method for planning and debugging Bayesian analyses--if you cannot recover the given parameters, something has gone wrong! Note that this value for $p_{independent}$ is not quite the same as our prior, which used $p_{independent} = 0.05.$ This lets us test out the complete model. \n",
    "\n",
    "Please run the code below to generate some synthetic data.  You do not need to edit anything, but check that the plot below matches what you would expect from the video. "
   ]
  },
  {
   "cell_type": "markdown",
   "metadata": {},
   "source": [
    "## \n"
   ]
  },
  {
   "cell_type": "markdown",
   "metadata": {},
   "source": [
    " #### Run the 'generate_data' function (this cell)\n"
   ]
  },
  {
   "cell_type": "code",
   "execution_count": 16,
   "metadata": {
    "cellView": "form",
    "execution": {
     "iopub.execute_input": "2023-04-17T16:54:50.701022Z",
     "iopub.status.busy": "2023-04-17T16:54:50.700680Z",
     "iopub.status.idle": "2023-04-17T16:54:51.075207Z",
     "shell.execute_reply": "2023-04-17T16:54:51.074603Z"
    },
    "tags": [
     "hide-input"
    ]
   },
   "outputs": [
    {
     "data": {
      "image/png": "[encoded data removed]",
      "text/plain": [
       "<Figure size 700x700 with 1 Axes>"
      ]
     },
     "metadata": {
      "image/png": {
       "height": 675,
       "width": 675
      }
     },
     "output_type": "display_data"
    }
   ],
   "source": [
    "#@title\n",
    "#@markdown #### Run the 'generate_data' function (this cell)\n",
    "def generate_data(x_stim, p_independent):\n",
    "  \"\"\"\n",
    "  DO NOT EDIT THIS FUNCTION !!!\n",
    "\n",
    "  Returns generated data using the mixture of Gaussian prior with mixture\n",
    "  parameter `p_independent`\n",
    "\n",
    "  Args :\n",
    "    x_stim (numpy array of floats) - x values at which stimuli are presented\n",
    "    p_independent (scalar) - mixture component for the Mixture of Gaussian prior\n",
    "\n",
    "  Returns:\n",
    "    (numpy array of floats): x_hat response of participant for each stimulus\n",
    "  \"\"\"\n",
    "  x = np.arange(-10,10,0.1)\n",
    "  x_hat = np.zeros_like(x_stim)\n",
    "\n",
    "  prior_mean = 0\n",
    "  prior_sigma1 = .5\n",
    "  prior_sigma2 = 3\n",
    "  prior1 = my_gaussian(x, prior_mean, prior_sigma1)\n",
    "  prior2 = my_gaussian(x, prior_mean, prior_sigma2)\n",
    "\n",
    "  prior_combined = (1-p_independent) * prior1 + (p_independent * prior2)\n",
    "  prior_combined = prior_combined / np.sum(prior_combined)\n",
    "\n",
    "  for i_stim in np.arange(x_stim.shape[0]):\n",
    "    likelihood_mean = x_stim[i_stim]\n",
    "    likelihood_sigma  = 1\n",
    "    likelihood = my_gaussian(x, likelihood_mean, likelihood_sigma)\n",
    "    likelihood = likelihood / np.sum(likelihood)\n",
    "\n",
    "    posterior = np.multiply(prior_combined, likelihood)\n",
    "    posterior = posterior / np.sum(posterior)\n",
    "\n",
    "    # Assumes participant takes posterior mean as 'action'\n",
    "    x_hat[i_stim] = np.sum(x * posterior)\n",
    "  return x_hat\n",
    "\n",
    "# Generate data for a single participant\n",
    "true_stim = np.array([-8, -4, -3, -2.5, -2, -1.5, -1, -0.5, 0, 0.5, 1, 1.5, 2,\n",
    "                      2.5, 3, 4, 8])\n",
    "behaviour = generate_data(true_stim, 0.10)\n",
    "\n",
    "plot_simulated_behavior(true_stim, behaviour)"
   ]
  },
  {
   "cell_type": "markdown",
   "metadata": {
    "execution": {}
   },
   "source": [
    "---\n",
    "# Section 7: Model fitting"
   ]
  },
  {
   "cell_type": "markdown",
   "metadata": {},
   "source": [
    "##  Video 7: Log likelihood\n"
   ]
  },
  {
   "cell_type": "code",
   "execution_count": 17,
   "metadata": {
    "cellView": "form",
    "execution": {
     "iopub.execute_input": "2023-04-17T16:54:51.078428Z",
     "iopub.status.busy": "2023-04-17T16:54:51.077725Z",
     "iopub.status.idle": "2023-04-17T16:54:51.126668Z",
     "shell.execute_reply": "2023-04-17T16:54:51.125911Z"
    },
    "tags": [
     "remove-input"
    ]
   },
   "outputs": [
    {
     "data": {
      "application/vnd.jupyter.widget-view+json": {
       "model_id": "80bc4452416a40a4b0f90c449d96b55a",
       "version_major": 2,
       "version_minor": 0
      },
      "text/plain": [
       "Tab(children=(Output(), Output()), selected_index=0, titles=('Youtube', 'Bilibili'))"
      ]
     },
     "metadata": {},
     "output_type": "display_data"
    }
   ],
   "source": [
    "# @title Video 7: Log likelihood\n",
    "from ipywidgets import widgets\n",
    "\n",
    "out2 = widgets.Output()\n",
    "with out2:\n",
    "  from IPython.display import IFrame\n",
    "  class BiliVideo(IFrame):\n",
    "      def __init__(self, id, page=1, width=400, height=300, **kwargs):\n",
    "          self.id=id\n",
    "          src = 'https://player.bilibili.com/player.html?bvid={0}&page={1}'.format(id, page)\n",
    "          super(BiliVideo, self).__init__(src, width, height, **kwargs)\n",
    "\n",
    "  video = BiliVideo(id=\"BV1Yf4y1R7ST\", width=730, height=410, fs=1)\n",
    "  print('Video available at https://www.bilibili.com/video/{0}'.format(video.id))\n",
    "  display(video)\n",
    "\n",
    "out1 = widgets.Output()\n",
    "with out1:\n",
    "  from IPython.display import YouTubeVideo\n",
    "  video = YouTubeVideo(id=\"jbYauFpyZhs\", width=730, height=410, fs=1, rel=0)\n",
    "  print('Video available at https://youtube.com/watch?v=' + video.id)\n",
    "  display(video)\n",
    "\n",
    "out = widgets.Tab([out1, out2])\n",
    "out.titles = ['Youtube', 'Bilibili']\n",
    "\n",
    "display(out)"
   ]
  },
  {
   "cell_type": "markdown",
   "metadata": {
    "execution": {}
   },
   "source": [
    "Now that we have generated some data, we will attempt to recover the parameter $p_{independent}$ that was used to generate it.\n",
    "\n",
    "We have provided you with an incomplete function called `my_Bayes_model_mse()` that needs to be completed to perform the same computations you have performed in the previous exercises but over all the participant's trial, as opposed to a single trial.\n",
    "\n",
    "The likelihood has already been constructed; since it depends  only on the hypothetical stimuli, it will not change. However, we will have to implement the prior matrix, since it depends on $p_{independent}$. We will therefore have to recompute the posterior, input and the marginal in order to get $p(\\hat{x} \\mid x)$. \n",
    "\n",
    "Using $p(\\hat{x} \\mid x)$, we will then compute the negative log-likelihood for each trial and find the value of $p_{independent}$ that minimizes the negative log-likelihood (i.e. maximizes the log-likelihood.  See the model fitting tutorial from W1D3 for a refresher).\n",
    "\n",
    "In this experiment, we assume that trials are independent from one another. This is a common assumption--and it's often even true! It allows us to define negative log-likelihood as:\n",
    "\n",
    "\\begin{equation}\n",
    "-LL = - \\sum_i \\log p(\\hat{x}_i \\mid x_i)\n",
    "\\end{equation}\n",
    "\n",
    "where $\\hat{x}_i$ is the participant's response for trial $i$, with presented stimulus $x_i$ \n",
    "\n",
    "* Complete the function `my_Bayes_model_mse`, we've already pre-completed the function to give you the prior, posterior, and input arrays on each trial\n",
    "* Compute the marginalization array as well as the marginal on each trial\n",
    "* Compute the negative log likelihood using the marginal and the participant's response\n",
    "* Using the code snippet commented out in your script to loop over possible values of $p_{independent}$"
   ]
  },
  {
   "cell_type": "markdown",
   "metadata": {
    "execution": {}
   },
   "source": [
    "### Exercise 7: Fitting a model to generated data\n",
    "\n",
    "\n"
   ]
  },
  {
   "cell_type": "code",
   "execution_count": 18,
   "metadata": {
    "execution": {
     "iopub.execute_input": "2023-04-17T16:54:51.138541Z",
     "iopub.status.busy": "2023-04-17T16:54:51.138322Z",
     "iopub.status.idle": "2023-04-17T16:54:51.199196Z",
     "shell.execute_reply": "2023-04-17T16:54:51.198341Z"
    }
   },
   "outputs": [
    {
     "ename": "NotImplementedError",
     "evalue": "You need to complete the function!",
     "output_type": "error",
     "traceback": [
      "\u001b[0;31m---------------------------------------------------------------------------\u001b[0m",
      "\u001b[0;31mNotImplementedError\u001b[0m                       Traceback (most recent call last)",
      "Cell \u001b[0;32mIn[18], line 53\u001b[0m\n\u001b[1;32m     48\u001b[0m   neg_ll \u001b[38;5;241m=\u001b[39m \u001b[38;5;241m-\u001b[39m trial_ll\u001b[38;5;241m.\u001b[39msum()\n\u001b[1;32m     50\u001b[0m   \u001b[38;5;28;01mreturn\u001b[39;00m neg_ll\n\u001b[0;32m---> 53\u001b[0m \u001b[43mplot_my_bayes_model\u001b[49m\u001b[43m(\u001b[49m\u001b[43mmy_Bayes_model_mse\u001b[49m\u001b[43m)\u001b[49m\n",
      "Cell \u001b[0;32mIn[3], line 88\u001b[0m, in \u001b[0;36mplot_my_bayes_model\u001b[0;34m(model)\u001b[0m\n\u001b[1;32m     86\u001b[0m nll \u001b[38;5;241m=\u001b[39m np\u001b[38;5;241m.\u001b[39mzeros_like(alpha_tries)\n\u001b[1;32m     87\u001b[0m \u001b[38;5;28;01mfor\u001b[39;00m i_try \u001b[38;5;129;01min\u001b[39;00m np\u001b[38;5;241m.\u001b[39marange(alpha_tries\u001b[38;5;241m.\u001b[39mshape[\u001b[38;5;241m0\u001b[39m]):\n\u001b[0;32m---> 88\u001b[0m   nll[i_try] \u001b[38;5;241m=\u001b[39m \u001b[43mmodel\u001b[49m\u001b[43m(\u001b[49m\u001b[43mnp\u001b[49m\u001b[38;5;241;43m.\u001b[39;49m\u001b[43marray\u001b[49m\u001b[43m(\u001b[49m\u001b[43m[\u001b[49m\u001b[43malpha_tries\u001b[49m\u001b[43m[\u001b[49m\u001b[43mi_try\u001b[49m\u001b[43m]\u001b[49m\u001b[43m]\u001b[49m\u001b[43m)\u001b[49m\u001b[43m)\u001b[49m\n\u001b[1;32m     90\u001b[0m plt\u001b[38;5;241m.\u001b[39mfigure()\n\u001b[1;32m     91\u001b[0m plt\u001b[38;5;241m.\u001b[39mplot(alpha_tries, nll)\n",
      "Cell \u001b[0;32mIn[18], line 14\u001b[0m, in \u001b[0;36mmy_Bayes_model_mse\u001b[0;34m(params)\u001b[0m\n\u001b[1;32m     12\u001b[0m \u001b[38;5;66;03m# Create the prior array\u001b[39;00m\n\u001b[1;32m     13\u001b[0m p_independent\u001b[38;5;241m=\u001b[39mparams[\u001b[38;5;241m0\u001b[39m]\n\u001b[0;32m---> 14\u001b[0m prior_array \u001b[38;5;241m=\u001b[39m \u001b[43mcalculate_prior_array\u001b[49m\u001b[43m(\u001b[49m\u001b[43mx\u001b[49m\u001b[43m,\u001b[49m\n\u001b[1;32m     15\u001b[0m \u001b[43m                                    \u001b[49m\u001b[43mhypothetical_stim\u001b[49m\u001b[43m,\u001b[49m\n\u001b[1;32m     16\u001b[0m \u001b[43m                                    \u001b[49m\u001b[43mp_independent\u001b[49m\u001b[43m,\u001b[49m\n\u001b[1;32m     17\u001b[0m \u001b[43m                                    \u001b[49m\u001b[43mprior_sigma_indep\u001b[49m\u001b[38;5;241;43m=\u001b[39;49m\u001b[43m \u001b[49m\u001b[38;5;241;43m3.\u001b[39;49m\u001b[43m)\u001b[49m\n\u001b[1;32m     18\u001b[0m \u001b[38;5;66;03m# Create posterior array\u001b[39;00m\n\u001b[1;32m     19\u001b[0m posterior_array \u001b[38;5;241m=\u001b[39m calculate_posterior_array(prior_array, likelihood_array)\n",
      "Cell \u001b[0;32mIn[7], line 19\u001b[0m, in \u001b[0;36mcalculate_prior_array\u001b[0;34m(x_points, stim_array, p_indep, prior_mean_common, prior_sigma_common, prior_mean_indep, prior_sigma_indep)\u001b[0m\n\u001b[1;32m     10\u001b[0m prior_indep \u001b[38;5;241m=\u001b[39m my_gaussian(x_points, prior_mean_indep, prior_sigma_indep)\n\u001b[1;32m     11\u001b[0m \u001b[38;5;66;03m############################################################################\u001b[39;00m\n\u001b[1;32m     12\u001b[0m \u001b[38;5;66;03m## Insert your code here to:\u001b[39;00m\n\u001b[1;32m     13\u001b[0m \u001b[38;5;66;03m##      - Create a mixture of gaussian priors from 'prior_common'\u001b[39;00m\n\u001b[0;32m   (...)\u001b[0m\n\u001b[1;32m     17\u001b[0m \u001b[38;5;66;03m##        of 1000 rows of priors (Hint: use np.tile() and np.reshape())\u001b[39;00m\n\u001b[1;32m     18\u001b[0m \u001b[38;5;66;03m## remove the raise below to test your function\u001b[39;00m\n\u001b[0;32m---> 19\u001b[0m \u001b[38;5;28;01mraise\u001b[39;00m \u001b[38;5;167;01mNotImplementedError\u001b[39;00m(\u001b[38;5;124m\"\u001b[39m\u001b[38;5;124mYou need to complete the function!\u001b[39m\u001b[38;5;124m\"\u001b[39m)\n\u001b[1;32m     20\u001b[0m \u001b[38;5;66;03m############################################################################\u001b[39;00m\n\u001b[1;32m     21\u001b[0m prior_mixed \u001b[38;5;241m=\u001b[39m \u001b[38;5;241m.\u001b[39m\u001b[38;5;241m.\u001b[39m\u001b[38;5;241m.\u001b[39m\n",
      "\u001b[0;31mNotImplementedError\u001b[0m: You need to complete the function!"
     ]
    }
   ],
   "source": [
    "def my_Bayes_model_mse(params):\n",
    "  \"\"\"\n",
    "  Function fits the Bayesian model from Tutorial 4\n",
    "\n",
    "  Args :\n",
    "      params (list of positive floats):  parameters used by the model\n",
    "      (params[0]  = posterior scaling)\n",
    "\n",
    "  Returns :\n",
    "      (scalar) negative log-likelihood :sum of log probabilities\n",
    "  \"\"\"\n",
    "  # Create the prior array\n",
    "  p_independent=params[0]\n",
    "  prior_array = calculate_prior_array(x,\n",
    "                                      hypothetical_stim,\n",
    "                                      p_independent,\n",
    "                                      prior_sigma_indep= 3.)\n",
    "  # Create posterior array\n",
    "  posterior_array = calculate_posterior_array(prior_array, likelihood_array)\n",
    "  # Create Binary decision array\n",
    "  binary_decision_array = calculate_binary_decision_array(x, posterior_array)\n",
    "  # we will use trial_ll (trial log likelihood) to register each trial\n",
    "  trial_ll = np.zeros_like(true_stim)\n",
    "\n",
    "  # Loop over stimuli\n",
    "  for i_stim in range(len(true_stim)):\n",
    "    # create the input array with true_stim as mean\n",
    "    input_array = np.zeros_like(posterior_array)\n",
    "    for i in range(len(x)):\n",
    "      input_array[:, i] = my_gaussian(hypothetical_stim, true_stim[i_stim], 1)\n",
    "      input_array[:, i] = input_array[:, i] / np.sum(input_array[:, i])\n",
    "\n",
    "    # calculate the marginalizations\n",
    "    marginalization_array, marginal = my_marginalization(input_array,\n",
    "                                                binary_decision_array)\n",
    "    action = behaviour[i_stim]\n",
    "    idx = np.argmin(np.abs(x - action))\n",
    "    ########################################################################\n",
    "    ## Insert your code here to:\n",
    "    ##      - Compute the log likelihood of the participant\n",
    "    ## remove the raise below to test your function\n",
    "    raise NotImplementedError(\"You need to complete the function!\")\n",
    "    ########################################################################\n",
    "    # Get the marginal likelihood corresponding to the action\n",
    "    marginal_nonzero = ... + np.finfo(float).eps  # avoid log(0)\n",
    "    trial_ll[i_stim] = np.log(marginal_nonzero)\n",
    "\n",
    "  neg_ll = - trial_ll.sum()\n",
    "\n",
    "  return neg_ll\n",
    "\n",
    "\n",
    "plot_my_bayes_model(my_Bayes_model_mse)"
   ]
  },
  {
   "cell_type": "markdown",
   "metadata": {
    "colab_type": "text",
    "execution": {}
   },
   "source": [
    "[*Click for solution*](https://github.com/NeuromatchAcademy/course-content/tree/main//tutorials/W3D1_BayesianDecisions/solutions/W3D1_Tutorial3_Solution_8c482ec4.py)\n",
    "\n",
    "*Example output:*\n",
    "\n",
    "<img alt='Solution hint' align='left' width=1119.0 height=832.0 src=https://raw.githubusercontent.com/NeuromatchAcademy/course-content/main/tutorials/W3D1_BayesianDecisions/static/W3D1_Tutorial3_Solution_8c482ec4_0.png>\n",
    "\n"
   ]
  },
  {
   "cell_type": "markdown",
   "metadata": {
    "execution": {}
   },
   "source": [
    "# Section 8: Summary"
   ]
  },
  {
   "cell_type": "markdown",
   "metadata": {},
   "source": [
    "##  Video 8: Outro\n"
   ]
  },
  {
   "cell_type": "code",
   "execution_count": 19,
   "metadata": {
    "cellView": "form",
    "execution": {
     "iopub.execute_input": "2023-04-17T16:54:51.202504Z",
     "iopub.status.busy": "2023-04-17T16:54:51.202010Z",
     "iopub.status.idle": "2023-04-17T16:54:51.359823Z",
     "shell.execute_reply": "2023-04-17T16:54:51.359115Z"
    },
    "tags": [
     "remove-input"
    ]
   },
   "outputs": [
    {
     "data": {
      "application/vnd.jupyter.widget-view+json": {
       "model_id": "f85ea8bfe7774f58bb4a798c3953e1a6",
       "version_major": 2,
       "version_minor": 0
      },
      "text/plain": [
       "Tab(children=(Output(), Output()), selected_index=0, titles=('Youtube', 'Bilibili'))"
      ]
     },
     "metadata": {},
     "output_type": "display_data"
    }
   ],
   "source": [
    "# @title Video 8: Outro\n",
    "from ipywidgets import widgets\n",
    "\n",
    "out2 = widgets.Output()\n",
    "with out2:\n",
    "  from IPython.display import IFrame\n",
    "  class BiliVideo(IFrame):\n",
    "      def __init__(self, id, page=1, width=400, height=300, **kwargs):\n",
    "          self.id=id\n",
    "          src = 'https://player.bilibili.com/player.html?bvid={0}&page={1}'.format(id, page)\n",
    "          super(BiliVideo, self).__init__(src, width, height, **kwargs)\n",
    "\n",
    "  video = BiliVideo(id=\"BV1Hz411v7hJ\", width=730, height=410, fs=1)\n",
    "  print('Video available at https://www.bilibili.com/video/{0}'.format(video.id))\n",
    "  display(video)\n",
    "\n",
    "out1 = widgets.Output()\n",
    "with out1:\n",
    "  from IPython.display import YouTubeVideo\n",
    "  video = YouTubeVideo(id=\"F5JfqJonz20\", width=730, height=410, fs=1, rel=0)\n",
    "  print('Video available at https://youtube.com/watch?v=' + video.id)\n",
    "  display(video)\n",
    "\n",
    "out = widgets.Tab([out1, out2])\n",
    "out.titles = ['Youtube', 'Bilibili']\n",
    "\n",
    "display(out)"
   ]
  },
  {
   "cell_type": "markdown",
   "metadata": {
    "execution": {}
   },
   "source": [
    "Congratulations! You found $p_{independent}$, the parameter that describes how much weight subjects assign to the same-cause vs. independent-cause origins of a sound. In the preceding notebooks, we went through the entire Bayesian analysis pipeline:\n",
    "\n",
    "* developing a model\n",
    "* simulating data, and\n",
    "* using Bayes' Rule and marginalization to recover a hidden parameter from the data\n",
    "\n",
    "This example was simple, but the same principles can be used to analyze datasets with many hidden variables and complex priors and likelihoods. Bayes' Rule will also play a crucial role in many of the other techniques you will see later this week. \n",
    "\n",
    "<br>\n",
    "\n",
    "If you're still intrigued as to why we decided to use the mean of the posterior as a decision rule for a response $\\hat{x}$, we have an extra Bonus Tutorial 4 which goes through the most common decision rules and how these rules correspond to minimizing different cost functions."
   ]
  }
 ],
 "metadata": {
  "colab": {
   "collapsed_sections": [],
   "include_colab_link": true,
   "name": "W3D1_Tutorial3",
   "provenance": [],
   "toc_visible": true
  },
  "kernel": {
   "display_name": "Python 3",
   "language": "python",
   "name": "python3"
  },
  "kernelspec": {
   "display_name": "Python 3",
   "language": "python",
   "name": "python3"
  },
  "language_info": {
   "codemirror_mode": {
    "name": "ipython",
    "version": 3
   },
   "file_extension": ".py",
   "mimetype": "text/x-python",
   "name": "python",
   "nbconvert_exporter": "python",
   "pygments_lexer": "ipython3",
   "version": "3.11.3"
  },
  "widgets": {
   "application/vnd.jupyter.widget-state+json": {
    "state": {
     "014f64af237540378c1bedfb8c78ce03": {
      "model_module": "@jupyter-widgets/base",
      "model_module_version": "2.0.0",
      "model_name": "LayoutModel",
      "state": {
       "_model_module": "@jupyter-widgets/base",
       "_model_module_version": "2.0.0",
       "_model_name": "LayoutModel",
       "_view_count": null,
       "_view_module": "@jupyter-widgets/base",
       "_view_module_version": "2.0.0",
       "_view_name": "LayoutView",
       "align_content": null,
       "align_items": null,
       "align_self": null,
       "border_bottom": null,
       "border_left": null,
       "border_right": null,
       "border_top": null,
       "bottom": null,
       "display": null,
       "flex": null,
       "flex_flow": null,
       "grid_area": null,
       "grid_auto_columns": null,
       "grid_auto_flow": null,
       "grid_auto_rows": null,
       "grid_column": null,
       "grid_gap": null,
       "grid_row": null,
       "grid_template_areas": null,
       "grid_template_columns": null,
       "grid_template_rows": null,
       "height": null,
       "justify_content": null,
       "justify_items": null,
       "left": null,
       "margin": null,
       "max_height": null,
       "max_width": null,
       "min_height": null,
       "min_width": null,
       "object_fit": null,
       "object_position": null,
       "order": null,
       "overflow": null,
       "padding": null,
       "right": null,
       "top": null,
       "visibility": null,
       "width": null
      }
     },
     "03a1b951cb7541419564475ab38dc28b": {
      "model_module": "@jupyter-widgets/base",
      "model_module_version": "2.0.0",
      "model_name": "LayoutModel",
      "state": {
       "_model_module": "@jupyter-widgets/base",
       "_model_module_version": "2.0.0",
       "_model_name": "LayoutModel",
       "_view_count": null,
       "_view_module": "@jupyter-widgets/base",
       "_view_module_version": "2.0.0",
       "_view_name": "LayoutView",
       "align_content": null,
       "align_items": null,
       "align_self": null,
       "border_bottom": null,
       "border_left": null,
       "border_right": null,
       "border_top": null,
       "bottom": null,
       "display": null,
       "flex": null,
       "flex_flow": null,
       "grid_area": null,
       "grid_auto_columns": null,
       "grid_auto_flow": null,
       "grid_auto_rows": null,
       "grid_column": null,
       "grid_gap": null,
       "grid_row": null,
       "grid_template_areas": null,
       "grid_template_columns": null,
       "grid_template_rows": null,
       "height": null,
       "justify_content": null,
       "justify_items": null,
       "left": null,
       "margin": null,
       "max_height": null,
       "max_width": null,
       "min_height": null,
       "min_width": null,
       "object_fit": null,
       "object_position": null,
       "order": null,
       "overflow": null,
       "padding": null,
       "right": null,
       "top": null,
       "visibility": null,
       "width": null
      }
     },
     "06f6256e70d84c9ab89e19e208625a1f": {
      "model_module": "@jupyter-widgets/base",
      "model_module_version": "2.0.0",
      "model_name": "LayoutModel",
      "state": {
       "_model_module": "@jupyter-widgets/base",
       "_model_module_version": "2.0.0",
       "_model_name": "LayoutModel",
       "_view_count": null,
       "_view_module": "@jupyter-widgets/base",
       "_view_module_version": "2.0.0",
       "_view_name": "LayoutView",
       "align_content": null,
       "align_items": null,
       "align_self": null,
       "border_bottom": null,
       "border_left": null,
       "border_right": null,
       "border_top": null,
       "bottom": null,
       "display": null,
       "flex": null,
       "flex_flow": null,
       "grid_area": null,
       "grid_auto_columns": null,
       "grid_auto_flow": null,
       "grid_auto_rows": null,
       "grid_column": null,
       "grid_gap": null,
       "grid_row": null,
       "grid_template_areas": null,
       "grid_template_columns": null,
       "grid_template_rows": null,
       "height": null,
       "justify_content": null,
       "justify_items": null,
       "left": null,
       "margin": null,
       "max_height": null,
       "max_width": null,
       "min_height": null,
       "min_width": null,
       "object_fit": null,
       "object_position": null,
       "order": null,
       "overflow": null,
       "padding": null,
       "right": null,
       "top": null,
       "visibility": null,
       "width": null
      }
     },
     "09f1a835bcb04861a81dc33bcb16dc6d": {
      "model_module": "@jupyter-widgets/output",
      "model_module_version": "1.0.0",
      "model_name": "OutputModel",
      "state": {
       "_dom_classes": [],
       "_model_module": "@jupyter-widgets/output",
       "_model_module_version": "1.0.0",
       "_model_name": "OutputModel",
       "_view_count": null,
       "_view_module": "@jupyter-widgets/output",
       "_view_module_version": "1.0.0",
       "_view_name": "OutputView",
       "layout": "IPY_MODEL_c39399fd76c042b7b87cb31e5005d48e",
       "msg_id": "",
       "outputs": [
        {
         "name": "stdout",
         "output_type": "stream",
         "text": "Video available at https://youtube.com/watch?v=HpOzXZUKFJc\n"
        },
        {
         "data": {
          "image/jpeg": "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\n",
          "text/html": "\n        <iframe\n            width=\"730\"\n            height=\"410\"\n            src=\"https://www.youtube.com/embed/HpOzXZUKFJc?fs=1&rel=0\"\n            frameborder=\"0\"\n            allowfullscreen\n            \n        ></iframe>\n        ",
          "text/plain": "<IPython.lib.display.YouTubeVideo at 0x7f07aea821d0>"
         },
         "metadata": {},
         "output_type": "display_data"
        }
       ],
       "tabbable": null,
       "tooltip": null
      }
     },
     "157c7123294b43f29a54cca06f584dcc": {
      "model_module": "@jupyter-widgets/controls",
      "model_module_version": "2.0.0",
      "model_name": "TabModel",
      "state": {
       "_dom_classes": [],
       "_model_module": "@jupyter-widgets/controls",
       "_model_module_version": "2.0.0",
       "_model_name": "TabModel",
       "_view_count": null,
       "_view_module": "@jupyter-widgets/controls",
       "_view_module_version": "2.0.0",
       "_view_name": "TabView",
       "box_style": "",
       "children": [
        "IPY_MODEL_d1afbba3aedf4d6b9baafb6db09d763e",
        "IPY_MODEL_89a209072eb1492f9ede32228aca7024"
       ],
       "layout": "IPY_MODEL_55c959ae0cac4a409c47394c222b8b9a",
       "selected_index": 0,
       "tabbable": null,
       "titles": [
        "Youtube",
        "Bilibili"
       ],
       "tooltip": null
      }
     },
     "19f957217f9949afaf603a41b275e026": {
      "model_module": "@jupyter-widgets/controls",
      "model_module_version": "2.0.0",
      "model_name": "TabModel",
      "state": {
       "_dom_classes": [],
       "_model_module": "@jupyter-widgets/controls",
       "_model_module_version": "2.0.0",
       "_model_name": "TabModel",
       "_view_count": null,
       "_view_module": "@jupyter-widgets/controls",
       "_view_module_version": "2.0.0",
       "_view_name": "TabView",
       "box_style": "",
       "children": [
        "IPY_MODEL_27707db7c8c74dc9b88db0c708788883",
        "IPY_MODEL_2ed568f046b84c2bbc55a1c68076c68d"
       ],
       "layout": "IPY_MODEL_dfa45379a66e46cbba73e97b4919f09b",
       "selected_index": 0,
       "tabbable": null,
       "titles": [
        "Youtube",
        "Bilibili"
       ],
       "tooltip": null
      }
     },
     "2447c8707b7645038633268151e836f3": {
      "model_module": "@jupyter-widgets/base",
      "model_module_version": "2.0.0",
      "model_name": "LayoutModel",
      "state": {
       "_model_module": "@jupyter-widgets/base",
       "_model_module_version": "2.0.0",
       "_model_name": "LayoutModel",
       "_view_count": null,
       "_view_module": "@jupyter-widgets/base",
       "_view_module_version": "2.0.0",
       "_view_name": "LayoutView",
       "align_content": null,
       "align_items": null,
       "align_self": null,
       "border_bottom": null,
       "border_left": null,
       "border_right": null,
       "border_top": null,
       "bottom": null,
       "display": null,
       "flex": null,
       "flex_flow": null,
       "grid_area": null,
       "grid_auto_columns": null,
       "grid_auto_flow": null,
       "grid_auto_rows": null,
       "grid_column": null,
       "grid_gap": null,
       "grid_row": null,
       "grid_template_areas": null,
       "grid_template_columns": null,
       "grid_template_rows": null,
       "height": null,
       "justify_content": null,
       "justify_items": null,
       "left": null,
       "margin": null,
       "max_height": null,
       "max_width": null,
       "min_height": null,
       "min_width": null,
       "object_fit": null,
       "object_position": null,
       "order": null,
       "overflow": null,
       "padding": null,
       "right": null,
       "top": null,
       "visibility": null,
       "width": null
      }
     },
     "27707db7c8c74dc9b88db0c708788883": {
      "model_module": "@jupyter-widgets/output",
      "model_module_version": "1.0.0",
      "model_name": "OutputModel",
      "state": {
       "_dom_classes": [],
       "_model_module": "@jupyter-widgets/output",
       "_model_module_version": "1.0.0",
       "_model_name": "OutputModel",
       "_view_count": null,
       "_view_module": "@jupyter-widgets/output",
       "_view_module_version": "1.0.0",
       "_view_name": "OutputView",
       "layout": "IPY_MODEL_59829563b2774783841321863572d4d2",
       "msg_id": "",
       "outputs": [
        {
         "name": "stdout",
         "output_type": "stream",
         "text": "Video available at https://youtube.com/watch?v=F0IYpUicXu4\n"
        },
        {
         "data": {
          "image/jpeg": "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\n",
          "text/html": "\n        <iframe\n            width=\"730\"\n            height=\"410\"\n            src=\"https://www.youtube.com/embed/F0IYpUicXu4?fs=1&rel=0\"\n            frameborder=\"0\"\n            allowfullscreen\n            \n        ></iframe>\n        ",
          "text/plain": "<IPython.lib.display.YouTubeVideo at 0x7f07aea7c910>"
         },
         "metadata": {},
         "output_type": "display_data"
        }
       ],
       "tabbable": null,
       "tooltip": null
      }
     },
     "2e02b20753cb46d7bf425783e6aeb350": {
      "model_module": "@jupyter-widgets/controls",
      "model_module_version": "2.0.0",
      "model_name": "TabModel",
      "state": {
       "_dom_classes": [],
       "_model_module": "@jupyter-widgets/controls",
       "_model_module_version": "2.0.0",
       "_model_name": "TabModel",
       "_view_count": null,
       "_view_module": "@jupyter-widgets/controls",
       "_view_module_version": "2.0.0",
       "_view_name": "TabView",
       "box_style": "",
       "children": [
        "IPY_MODEL_b2730527581a4ffeb255894c353993df",
        "IPY_MODEL_75949f2a9e3d459194c62c71412420f8"
       ],
       "layout": "IPY_MODEL_aa648f1e948742c28d9719c5342c44f7",
       "selected_index": 0,
       "tabbable": null,
       "titles": [
        "Youtube",
        "Bilibili"
       ],
       "tooltip": null
      }
     },
     "2ed568f046b84c2bbc55a1c68076c68d": {
      "model_module": "@jupyter-widgets/output",
      "model_module_version": "1.0.0",
      "model_name": "OutputModel",
      "state": {
       "_dom_classes": [],
       "_model_module": "@jupyter-widgets/output",
       "_model_module_version": "1.0.0",
       "_model_name": "OutputModel",
       "_view_count": null,
       "_view_module": "@jupyter-widgets/output",
       "_view_module_version": "1.0.0",
       "_view_name": "OutputView",
       "layout": "IPY_MODEL_53621461ce2e4af7a2b17409dd1b592c",
       "msg_id": "",
       "outputs": [
        {
         "name": "stdout",
         "output_type": "stream",
         "text": "Video available at https://www.bilibili.com/video/BV1WA411e7gM\n"
        },
        {
         "data": {
          "text/html": "\n        <iframe\n            width=\"730\"\n            height=\"410\"\n            src=\"https://player.bilibili.com/player.html?bvid=BV1WA411e7gM&page=1?fs=1\"\n            frameborder=\"0\"\n            allowfullscreen\n            \n        ></iframe>\n        ",
          "text/plain": "<__main__.BiliVideo at 0x7f07af1a9590>"
         },
         "metadata": {},
         "output_type": "display_data"
        }
       ],
       "tabbable": null,
       "tooltip": null
      }
     },
     "34e4658747f24ba1b64d1cb21616b144": {
      "model_module": "@jupyter-widgets/base",
      "model_module_version": "2.0.0",
      "model_name": "LayoutModel",
      "state": {
       "_model_module": "@jupyter-widgets/base",
       "_model_module_version": "2.0.0",
       "_model_name": "LayoutModel",
       "_view_count": null,
       "_view_module": "@jupyter-widgets/base",
       "_view_module_version": "2.0.0",
       "_view_name": "LayoutView",
       "align_content": null,
       "align_items": null,
       "align_self": null,
       "border_bottom": null,
       "border_left": null,
       "border_right": null,
       "border_top": null,
       "bottom": null,
       "display": null,
       "flex": null,
       "flex_flow": null,
       "grid_area": null,
       "grid_auto_columns": null,
       "grid_auto_flow": null,
       "grid_auto_rows": null,
       "grid_column": null,
       "grid_gap": null,
       "grid_row": null,
       "grid_template_areas": null,
       "grid_template_columns": null,
       "grid_template_rows": null,
       "height": null,
       "justify_content": null,
       "justify_items": null,
       "left": null,
       "margin": null,
       "max_height": null,
       "max_width": null,
       "min_height": null,
       "min_width": null,
       "object_fit": null,
       "object_position": null,
       "order": null,
       "overflow": null,
       "padding": null,
       "right": null,
       "top": null,
       "visibility": null,
       "width": null
      }
     },
     "37bdc16dd14b4463bc19e472eb9242be": {
      "model_module": "@jupyter-widgets/base",
      "model_module_version": "2.0.0",
      "model_name": "LayoutModel",
      "state": {
       "_model_module": "@jupyter-widgets/base",
       "_model_module_version": "2.0.0",
       "_model_name": "LayoutModel",
       "_view_count": null,
       "_view_module": "@jupyter-widgets/base",
       "_view_module_version": "2.0.0",
       "_view_name": "LayoutView",
       "align_content": null,
       "align_items": null,
       "align_self": null,
       "border_bottom": null,
       "border_left": null,
       "border_right": null,
       "border_top": null,
       "bottom": null,
       "display": null,
       "flex": null,
       "flex_flow": null,
       "grid_area": null,
       "grid_auto_columns": null,
       "grid_auto_flow": null,
       "grid_auto_rows": null,
       "grid_column": null,
       "grid_gap": null,
       "grid_row": null,
       "grid_template_areas": null,
       "grid_template_columns": null,
       "grid_template_rows": null,
       "height": null,
       "justify_content": null,
       "justify_items": null,
       "left": null,
       "margin": null,
       "max_height": null,
       "max_width": null,
       "min_height": null,
       "min_width": null,
       "object_fit": null,
       "object_position": null,
       "order": null,
       "overflow": null,
       "padding": null,
       "right": null,
       "top": null,
       "visibility": null,
       "width": null
      }
     },
     "3843d4fbcf5d47c1b171ae605b8d60b3": {
      "model_module": "@jupyter-widgets/base",
      "model_module_version": "2.0.0",
      "model_name": "LayoutModel",
      "state": {
       "_model_module": "@jupyter-widgets/base",
       "_model_module_version": "2.0.0",
       "_model_name": "LayoutModel",
       "_view_count": null,
       "_view_module": "@jupyter-widgets/base",
       "_view_module_version": "2.0.0",
       "_view_name": "LayoutView",
       "align_content": null,
       "align_items": null,
       "align_self": null,
       "border_bottom": null,
       "border_left": null,
       "border_right": null,
       "border_top": null,
       "bottom": null,
       "display": null,
       "flex": null,
       "flex_flow": null,
       "grid_area": null,
       "grid_auto_columns": null,
       "grid_auto_flow": null,
       "grid_auto_rows": null,
       "grid_column": null,
       "grid_gap": null,
       "grid_row": null,
       "grid_template_areas": null,
       "grid_template_columns": null,
       "grid_template_rows": null,
       "height": null,
       "justify_content": null,
       "justify_items": null,
       "left": null,
       "margin": null,
       "max_height": null,
       "max_width": null,
       "min_height": null,
       "min_width": null,
       "object_fit": null,
       "object_position": null,
       "order": null,
       "overflow": null,
       "padding": null,
       "right": null,
       "top": null,
       "visibility": null,
       "width": null
      }
     },
     "386be64bd8ae46ea8d944dd512225af0": {
      "model_module": "@jupyter-widgets/output",
      "model_module_version": "1.0.0",
      "model_name": "OutputModel",
      "state": {
       "_dom_classes": [],
       "_model_module": "@jupyter-widgets/output",
       "_model_module_version": "1.0.0",
       "_model_name": "OutputModel",
       "_view_count": null,
       "_view_module": "@jupyter-widgets/output",
       "_view_module_version": "1.0.0",
       "_view_name": "OutputView",
       "layout": "IPY_MODEL_06f6256e70d84c9ab89e19e208625a1f",
       "msg_id": "",
       "outputs": [
        {
         "name": "stdout",
         "output_type": "stream",
         "text": "Video available at https://www.bilibili.com/video/BV1Yf4y1R7ST\n"
        },
        {
         "data": {
          "text/html": "\n        <iframe\n            width=\"730\"\n            height=\"410\"\n            src=\"https://player.bilibili.com/player.html?bvid=BV1Yf4y1R7ST&page=1?fs=1\"\n            frameborder=\"0\"\n            allowfullscreen\n            \n        ></iframe>\n        ",
          "text/plain": "<__main__.BiliVideo at 0x7f07ae7fc490>"
         },
         "metadata": {},
         "output_type": "display_data"
        }
       ],
       "tabbable": null,
       "tooltip": null
      }
     },
     "45589ded672842b3a48ddc45786315f8": {
      "model_module": "@jupyter-widgets/base",
      "model_module_version": "2.0.0",
      "model_name": "LayoutModel",
      "state": {
       "_model_module": "@jupyter-widgets/base",
       "_model_module_version": "2.0.0",
       "_model_name": "LayoutModel",
       "_view_count": null,
       "_view_module": "@jupyter-widgets/base",
       "_view_module_version": "2.0.0",
       "_view_name": "LayoutView",
       "align_content": null,
       "align_items": null,
       "align_self": null,
       "border_bottom": null,
       "border_left": null,
       "border_right": null,
       "border_top": null,
       "bottom": null,
       "display": null,
       "flex": null,
       "flex_flow": null,
       "grid_area": null,
       "grid_auto_columns": null,
       "grid_auto_flow": null,
       "grid_auto_rows": null,
       "grid_column": null,
       "grid_gap": null,
       "grid_row": null,
       "grid_template_areas": null,
       "grid_template_columns": null,
       "grid_template_rows": null,
       "height": null,
       "justify_content": null,
       "justify_items": null,
       "left": null,
       "margin": null,
       "max_height": null,
       "max_width": null,
       "min_height": null,
       "min_width": null,
       "object_fit": null,
       "object_position": null,
       "order": null,
       "overflow": null,
       "padding": null,
       "right": null,
       "top": null,
       "visibility": null,
       "width": null
      }
     },
     "47aa8e0643f14ccfbbef112e356696af": {
      "model_module": "@jupyter-widgets/output",
      "model_module_version": "1.0.0",
      "model_name": "OutputModel",
      "state": {
       "_dom_classes": [],
       "_model_module": "@jupyter-widgets/output",
       "_model_module_version": "1.0.0",
       "_model_name": "OutputModel",
       "_view_count": null,
       "_view_module": "@jupyter-widgets/output",
       "_view_module_version": "1.0.0",
       "_view_name": "OutputView",
       "layout": "IPY_MODEL_2447c8707b7645038633268151e836f3",
       "msg_id": "",
       "outputs": [
        {
         "name": "stdout",
         "output_type": "stream",
         "text": "Video available at https://youtube.com/watch?v=C1d1n_Si83o\n"
        },
        {
         "data": {
          "image/jpeg": "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\n",
          "text/html": "\n        <iframe\n            width=\"730\"\n            height=\"410\"\n            src=\"https://www.youtube.com/embed/C1d1n_Si83o?fs=1&rel=0\"\n            frameborder=\"0\"\n            allowfullscreen\n            \n        ></iframe>\n        ",
          "text/plain": "<IPython.lib.display.YouTubeVideo at 0x7f07af1aacd0>"
         },
         "metadata": {},
         "output_type": "display_data"
        }
       ],
       "tabbable": null,
       "tooltip": null
      }
     },
     "53621461ce2e4af7a2b17409dd1b592c": {
      "model_module": "@jupyter-widgets/base",
      "model_module_version": "2.0.0",
      "model_name": "LayoutModel",
      "state": {
       "_model_module": "@jupyter-widgets/base",
       "_model_module_version": "2.0.0",
       "_model_name": "LayoutModel",
       "_view_count": null,
       "_view_module": "@jupyter-widgets/base",
       "_view_module_version": "2.0.0",
       "_view_name": "LayoutView",
       "align_content": null,
       "align_items": null,
       "align_self": null,
       "border_bottom": null,
       "border_left": null,
       "border_right": null,
       "border_top": null,
       "bottom": null,
       "display": null,
       "flex": null,
       "flex_flow": null,
       "grid_area": null,
       "grid_auto_columns": null,
       "grid_auto_flow": null,
       "grid_auto_rows": null,
       "grid_column": null,
       "grid_gap": null,
       "grid_row": null,
       "grid_template_areas": null,
       "grid_template_columns": null,
       "grid_template_rows": null,
       "height": null,
       "justify_content": null,
       "justify_items": null,
       "left": null,
       "margin": null,
       "max_height": null,
       "max_width": null,
       "min_height": null,
       "min_width": null,
       "object_fit": null,
       "object_position": null,
       "order": null,
       "overflow": null,
       "padding": null,
       "right": null,
       "top": null,
       "visibility": null,
       "width": null
      }
     },
     "55c959ae0cac4a409c47394c222b8b9a": {
      "model_module": "@jupyter-widgets/base",
      "model_module_version": "2.0.0",
      "model_name": "LayoutModel",
      "state": {
       "_model_module": "@jupyter-widgets/base",
       "_model_module_version": "2.0.0",
       "_model_name": "LayoutModel",
       "_view_count": null,
       "_view_module": "@jupyter-widgets/base",
       "_view_module_version": "2.0.0",
       "_view_name": "LayoutView",
       "align_content": null,
       "align_items": null,
       "align_self": null,
       "border_bottom": null,
       "border_left": null,
       "border_right": null,
       "border_top": null,
       "bottom": null,
       "display": null,
       "flex": null,
       "flex_flow": null,
       "grid_area": null,
       "grid_auto_columns": null,
       "grid_auto_flow": null,
       "grid_auto_rows": null,
       "grid_column": null,
       "grid_gap": null,
       "grid_row": null,
       "grid_template_areas": null,
       "grid_template_columns": null,
       "grid_template_rows": null,
       "height": null,
       "justify_content": null,
       "justify_items": null,
       "left": null,
       "margin": null,
       "max_height": null,
       "max_width": null,
       "min_height": null,
       "min_width": null,
       "object_fit": null,
       "object_position": null,
       "order": null,
       "overflow": null,
       "padding": null,
       "right": null,
       "top": null,
       "visibility": null,
       "width": null
      }
     },
     "59829563b2774783841321863572d4d2": {
      "model_module": "@jupyter-widgets/base",
      "model_module_version": "2.0.0",
      "model_name": "LayoutModel",
      "state": {
       "_model_module": "@jupyter-widgets/base",
       "_model_module_version": "2.0.0",
       "_model_name": "LayoutModel",
       "_view_count": null,
       "_view_module": "@jupyter-widgets/base",
       "_view_module_version": "2.0.0",
       "_view_name": "LayoutView",
       "align_content": null,
       "align_items": null,
       "align_self": null,
       "border_bottom": null,
       "border_left": null,
       "border_right": null,
       "border_top": null,
       "bottom": null,
       "display": null,
       "flex": null,
       "flex_flow": null,
       "grid_area": null,
       "grid_auto_columns": null,
       "grid_auto_flow": null,
       "grid_auto_rows": null,
       "grid_column": null,
       "grid_gap": null,
       "grid_row": null,
       "grid_template_areas": null,
       "grid_template_columns": null,
       "grid_template_rows": null,
       "height": null,
       "justify_content": null,
       "justify_items": null,
       "left": null,
       "margin": null,
       "max_height": null,
       "max_width": null,
       "min_height": null,
       "min_width": null,
       "object_fit": null,
       "object_position": null,
       "order": null,
       "overflow": null,
       "padding": null,
       "right": null,
       "top": null,
       "visibility": null,
       "width": null
      }
     },
     "6663e4645d96455c9e3fb5f4a6414226": {
      "model_module": "@jupyter-widgets/base",
      "model_module_version": "2.0.0",
      "model_name": "LayoutModel",
      "state": {
       "_model_module": "@jupyter-widgets/base",
       "_model_module_version": "2.0.0",
       "_model_name": "LayoutModel",
       "_view_count": null,
       "_view_module": "@jupyter-widgets/base",
       "_view_module_version": "2.0.0",
       "_view_name": "LayoutView",
       "align_content": null,
       "align_items": null,
       "align_self": null,
       "border_bottom": null,
       "border_left": null,
       "border_right": null,
       "border_top": null,
       "bottom": null,
       "display": null,
       "flex": null,
       "flex_flow": null,
       "grid_area": null,
       "grid_auto_columns": null,
       "grid_auto_flow": null,
       "grid_auto_rows": null,
       "grid_column": null,
       "grid_gap": null,
       "grid_row": null,
       "grid_template_areas": null,
       "grid_template_columns": null,
       "grid_template_rows": null,
       "height": null,
       "justify_content": null,
       "justify_items": null,
       "left": null,
       "margin": null,
       "max_height": null,
       "max_width": null,
       "min_height": null,
       "min_width": null,
       "object_fit": null,
       "object_position": null,
       "order": null,
       "overflow": null,
       "padding": null,
       "right": null,
       "top": null,
       "visibility": null,
       "width": null
      }
     },
     "6867ef6bc6114ef492ab2be2c8a67d3d": {
      "model_module": "@jupyter-widgets/base",
      "model_module_version": "2.0.0",
      "model_name": "LayoutModel",
      "state": {
       "_model_module": "@jupyter-widgets/base",
       "_model_module_version": "2.0.0",
       "_model_name": "LayoutModel",
       "_view_count": null,
       "_view_module": "@jupyter-widgets/base",
       "_view_module_version": "2.0.0",
       "_view_name": "LayoutView",
       "align_content": null,
       "align_items": null,
       "align_self": null,
       "border_bottom": null,
       "border_left": null,
       "border_right": null,
       "border_top": null,
       "bottom": null,
       "display": null,
       "flex": null,
       "flex_flow": null,
       "grid_area": null,
       "grid_auto_columns": null,
       "grid_auto_flow": null,
       "grid_auto_rows": null,
       "grid_column": null,
       "grid_gap": null,
       "grid_row": null,
       "grid_template_areas": null,
       "grid_template_columns": null,
       "grid_template_rows": null,
       "height": null,
       "justify_content": null,
       "justify_items": null,
       "left": null,
       "margin": null,
       "max_height": null,
       "max_width": null,
       "min_height": null,
       "min_width": null,
       "object_fit": null,
       "object_position": null,
       "order": null,
       "overflow": null,
       "padding": null,
       "right": null,
       "top": null,
       "visibility": null,
       "width": null
      }
     },
     "6964eed3a1b64a9996e8235cc4e77257": {
      "model_module": "@jupyter-widgets/base",
      "model_module_version": "2.0.0",
      "model_name": "LayoutModel",
      "state": {
       "_model_module": "@jupyter-widgets/base",
       "_model_module_version": "2.0.0",
       "_model_name": "LayoutModel",
       "_view_count": null,
       "_view_module": "@jupyter-widgets/base",
       "_view_module_version": "2.0.0",
       "_view_name": "LayoutView",
       "align_content": null,
       "align_items": null,
       "align_self": null,
       "border_bottom": null,
       "border_left": null,
       "border_right": null,
       "border_top": null,
       "bottom": null,
       "display": null,
       "flex": null,
       "flex_flow": null,
       "grid_area": null,
       "grid_auto_columns": null,
       "grid_auto_flow": null,
       "grid_auto_rows": null,
       "grid_column": null,
       "grid_gap": null,
       "grid_row": null,
       "grid_template_areas": null,
       "grid_template_columns": null,
       "grid_template_rows": null,
       "height": null,
       "justify_content": null,
       "justify_items": null,
       "left": null,
       "margin": null,
       "max_height": null,
       "max_width": null,
       "min_height": null,
       "min_width": null,
       "object_fit": null,
       "object_position": null,
       "order": null,
       "overflow": null,
       "padding": null,
       "right": null,
       "top": null,
       "visibility": null,
       "width": null
      }
     },
     "6998b49f75bc46e0a2d443a2b7d5d1dd": {
      "model_module": "@jupyter-widgets/base",
      "model_module_version": "2.0.0",
      "model_name": "LayoutModel",
      "state": {
       "_model_module": "@jupyter-widgets/base",
       "_model_module_version": "2.0.0",
       "_model_name": "LayoutModel",
       "_view_count": null,
       "_view_module": "@jupyter-widgets/base",
       "_view_module_version": "2.0.0",
       "_view_name": "LayoutView",
       "align_content": null,
       "align_items": null,
       "align_self": null,
       "border_bottom": null,
       "border_left": null,
       "border_right": null,
       "border_top": null,
       "bottom": null,
       "display": null,
       "flex": null,
       "flex_flow": null,
       "grid_area": null,
       "grid_auto_columns": null,
       "grid_auto_flow": null,
       "grid_auto_rows": null,
       "grid_column": null,
       "grid_gap": null,
       "grid_row": null,
       "grid_template_areas": null,
       "grid_template_columns": null,
       "grid_template_rows": null,
       "height": null,
       "justify_content": null,
       "justify_items": null,
       "left": null,
       "margin": null,
       "max_height": null,
       "max_width": null,
       "min_height": null,
       "min_width": null,
       "object_fit": null,
       "object_position": null,
       "order": null,
       "overflow": null,
       "padding": null,
       "right": null,
       "top": null,
       "visibility": null,
       "width": null
      }
     },
     "6c6b29fae7334731a26668f46e0d7c7f": {
      "model_module": "@jupyter-widgets/output",
      "model_module_version": "1.0.0",
      "model_name": "OutputModel",
      "state": {
       "_dom_classes": [],
       "_model_module": "@jupyter-widgets/output",
       "_model_module_version": "1.0.0",
       "_model_name": "OutputModel",
       "_view_count": null,
       "_view_module": "@jupyter-widgets/output",
       "_view_module_version": "1.0.0",
       "_view_name": "OutputView",
       "layout": "IPY_MODEL_88314701f70449368cdcc67c94cca9b9",
       "msg_id": "",
       "outputs": [
        {
         "name": "stdout",
         "output_type": "stream",
         "text": "Video available at https://youtube.com/watch?v=F5JfqJonz20\n"
        },
        {
         "data": {
          "image/jpeg": "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\n",
          "text/html": "\n        <iframe\n            width=\"730\"\n            height=\"410\"\n            src=\"https://www.youtube.com/embed/F5JfqJonz20?fs=1&rel=0\"\n            frameborder=\"0\"\n            allowfullscreen\n            \n        ></iframe>\n        ",
          "text/plain": "<IPython.lib.display.YouTubeVideo at 0x7f07ae7d4d90>"
         },
         "metadata": {},
         "output_type": "display_data"
        }
       ],
       "tabbable": null,
       "tooltip": null
      }
     },
     "6edc5429391f421d83b3a9f4216a5627": {
      "model_module": "@jupyter-widgets/base",
      "model_module_version": "2.0.0",
      "model_name": "LayoutModel",
      "state": {
       "_model_module": "@jupyter-widgets/base",
       "_model_module_version": "2.0.0",
       "_model_name": "LayoutModel",
       "_view_count": null,
       "_view_module": "@jupyter-widgets/base",
       "_view_module_version": "2.0.0",
       "_view_name": "LayoutView",
       "align_content": null,
       "align_items": null,
       "align_self": null,
       "border_bottom": null,
       "border_left": null,
       "border_right": null,
       "border_top": null,
       "bottom": null,
       "display": null,
       "flex": null,
       "flex_flow": null,
       "grid_area": null,
       "grid_auto_columns": null,
       "grid_auto_flow": null,
       "grid_auto_rows": null,
       "grid_column": null,
       "grid_gap": null,
       "grid_row": null,
       "grid_template_areas": null,
       "grid_template_columns": null,
       "grid_template_rows": null,
       "height": null,
       "justify_content": null,
       "justify_items": null,
       "left": null,
       "margin": null,
       "max_height": null,
       "max_width": null,
       "min_height": null,
       "min_width": null,
       "object_fit": null,
       "object_position": null,
       "order": null,
       "overflow": null,
       "padding": null,
       "right": null,
       "top": null,
       "visibility": null,
       "width": null
      }
     },
     "75949f2a9e3d459194c62c71412420f8": {
      "model_module": "@jupyter-widgets/output",
      "model_module_version": "1.0.0",
      "model_name": "OutputModel",
      "state": {
       "_dom_classes": [],
       "_model_module": "@jupyter-widgets/output",
       "_model_module_version": "1.0.0",
       "_model_name": "OutputModel",
       "_view_count": null,
       "_view_module": "@jupyter-widgets/output",
       "_view_module_version": "1.0.0",
       "_view_name": "OutputView",
       "layout": "IPY_MODEL_6998b49f75bc46e0a2d443a2b7d5d1dd",
       "msg_id": "",
       "outputs": [
        {
         "name": "stdout",
         "output_type": "stream",
         "text": "Video available at https://www.bilibili.com/video/BV1qz4y1D71K\n"
        },
        {
         "data": {
          "text/html": "\n        <iframe\n            width=\"730\"\n            height=\"410\"\n            src=\"https://player.bilibili.com/player.html?bvid=BV1qz4y1D71K&page=1?fs=1\"\n            frameborder=\"0\"\n            allowfullscreen\n            \n        ></iframe>\n        ",
          "text/plain": "<__main__.BiliVideo at 0x7f07e733fcd0>"
         },
         "metadata": {},
         "output_type": "display_data"
        }
       ],
       "tabbable": null,
       "tooltip": null
      }
     },
     "78c1411530a84b4581171fa205d76b89": {
      "model_module": "@jupyter-widgets/output",
      "model_module_version": "1.0.0",
      "model_name": "OutputModel",
      "state": {
       "_dom_classes": [],
       "_model_module": "@jupyter-widgets/output",
       "_model_module_version": "1.0.0",
       "_model_name": "OutputModel",
       "_view_count": null,
       "_view_module": "@jupyter-widgets/output",
       "_view_module_version": "1.0.0",
       "_view_name": "OutputView",
       "layout": "IPY_MODEL_34e4658747f24ba1b64d1cb21616b144",
       "msg_id": "",
       "outputs": [
        {
         "name": "stdout",
         "output_type": "stream",
         "text": "Video available at https://www.bilibili.com/video/BV1Hz411v7hJ\n"
        },
        {
         "data": {
          "text/html": "\n        <iframe\n            width=\"730\"\n            height=\"410\"\n            src=\"https://player.bilibili.com/player.html?bvid=BV1Hz411v7hJ&page=1?fs=1\"\n            frameborder=\"0\"\n            allowfullscreen\n            \n        ></iframe>\n        ",
          "text/plain": "<__main__.BiliVideo at 0x7f07ae7d5ed0>"
         },
         "metadata": {},
         "output_type": "display_data"
        }
       ],
       "tabbable": null,
       "tooltip": null
      }
     },
     "80bc4452416a40a4b0f90c449d96b55a": {
      "model_module": "@jupyter-widgets/controls",
      "model_module_version": "2.0.0",
      "model_name": "TabModel",
      "state": {
       "_dom_classes": [],
       "_model_module": "@jupyter-widgets/controls",
       "_model_module_version": "2.0.0",
       "_model_name": "TabModel",
       "_view_count": null,
       "_view_module": "@jupyter-widgets/controls",
       "_view_module_version": "2.0.0",
       "_view_name": "TabView",
       "box_style": "",
       "children": [
        "IPY_MODEL_feb66f0210864e1784972a768b68efc2",
        "IPY_MODEL_386be64bd8ae46ea8d944dd512225af0"
       ],
       "layout": "IPY_MODEL_6867ef6bc6114ef492ab2be2c8a67d3d",
       "selected_index": 0,
       "tabbable": null,
       "titles": [
        "Youtube",
        "Bilibili"
       ],
       "tooltip": null
      }
     },
     "844633288f554aebb6c314aea53beb61": {
      "model_module": "@jupyter-widgets/base",
      "model_module_version": "2.0.0",
      "model_name": "LayoutModel",
      "state": {
       "_model_module": "@jupyter-widgets/base",
       "_model_module_version": "2.0.0",
       "_model_name": "LayoutModel",
       "_view_count": null,
       "_view_module": "@jupyter-widgets/base",
       "_view_module_version": "2.0.0",
       "_view_name": "LayoutView",
       "align_content": null,
       "align_items": null,
       "align_self": null,
       "border_bottom": null,
       "border_left": null,
       "border_right": null,
       "border_top": null,
       "bottom": null,
       "display": null,
       "flex": null,
       "flex_flow": null,
       "grid_area": null,
       "grid_auto_columns": null,
       "grid_auto_flow": null,
       "grid_auto_rows": null,
       "grid_column": null,
       "grid_gap": null,
       "grid_row": null,
       "grid_template_areas": null,
       "grid_template_columns": null,
       "grid_template_rows": null,
       "height": null,
       "justify_content": null,
       "justify_items": null,
       "left": null,
       "margin": null,
       "max_height": null,
       "max_width": null,
       "min_height": null,
       "min_width": null,
       "object_fit": null,
       "object_position": null,
       "order": null,
       "overflow": null,
       "padding": null,
       "right": null,
       "top": null,
       "visibility": null,
       "width": null
      }
     },
     "88314701f70449368cdcc67c94cca9b9": {
      "model_module": "@jupyter-widgets/base",
      "model_module_version": "2.0.0",
      "model_name": "LayoutModel",
      "state": {
       "_model_module": "@jupyter-widgets/base",
       "_model_module_version": "2.0.0",
       "_model_name": "LayoutModel",
       "_view_count": null,
       "_view_module": "@jupyter-widgets/base",
       "_view_module_version": "2.0.0",
       "_view_name": "LayoutView",
       "align_content": null,
       "align_items": null,
       "align_self": null,
       "border_bottom": null,
       "border_left": null,
       "border_right": null,
       "border_top": null,
       "bottom": null,
       "display": null,
       "flex": null,
       "flex_flow": null,
       "grid_area": null,
       "grid_auto_columns": null,
       "grid_auto_flow": null,
       "grid_auto_rows": null,
       "grid_column": null,
       "grid_gap": null,
       "grid_row": null,
       "grid_template_areas": null,
       "grid_template_columns": null,
       "grid_template_rows": null,
       "height": null,
       "justify_content": null,
       "justify_items": null,
       "left": null,
       "margin": null,
       "max_height": null,
       "max_width": null,
       "min_height": null,
       "min_width": null,
       "object_fit": null,
       "object_position": null,
       "order": null,
       "overflow": null,
       "padding": null,
       "right": null,
       "top": null,
       "visibility": null,
       "width": null
      }
     },
     "89a209072eb1492f9ede32228aca7024": {
      "model_module": "@jupyter-widgets/output",
      "model_module_version": "1.0.0",
      "model_name": "OutputModel",
      "state": {
       "_dom_classes": [],
       "_model_module": "@jupyter-widgets/output",
       "_model_module_version": "1.0.0",
       "_model_name": "OutputModel",
       "_view_count": null,
       "_view_module": "@jupyter-widgets/output",
       "_view_module_version": "1.0.0",
       "_view_name": "OutputView",
       "layout": "IPY_MODEL_3843d4fbcf5d47c1b171ae605b8d60b3",
       "msg_id": "",
       "outputs": [
        {
         "name": "stdout",
         "output_type": "stream",
         "text": "Video available at https://www.bilibili.com/video/BV13g4y1i7je\n"
        },
        {
         "data": {
          "text/html": "\n        <iframe\n            width=\"730\"\n            height=\"410\"\n            src=\"https://player.bilibili.com/player.html?bvid=BV13g4y1i7je&page=1?fs=1\"\n            frameborder=\"0\"\n            allowfullscreen\n            \n        ></iframe>\n        ",
          "text/plain": "<__main__.BiliVideo at 0x7f07af18e450>"
         },
         "metadata": {},
         "output_type": "display_data"
        }
       ],
       "tabbable": null,
       "tooltip": null
      }
     },
     "8daa6f6833d944bcb9c777189243ecfe": {
      "model_module": "@jupyter-widgets/output",
      "model_module_version": "1.0.0",
      "model_name": "OutputModel",
      "state": {
       "_dom_classes": [],
       "_model_module": "@jupyter-widgets/output",
       "_model_module_version": "1.0.0",
       "_model_name": "OutputModel",
       "_view_count": null,
       "_view_module": "@jupyter-widgets/output",
       "_view_module_version": "1.0.0",
       "_view_name": "OutputView",
       "layout": "IPY_MODEL_45589ded672842b3a48ddc45786315f8",
       "msg_id": "",
       "outputs": [
        {
         "name": "stdout",
         "output_type": "stream",
         "text": "Video available at https://www.bilibili.com/video/BV18K411H7Tc\n"
        },
        {
         "data": {
          "text/html": "\n        <iframe\n            width=\"730\"\n            height=\"410\"\n            src=\"https://player.bilibili.com/player.html?bvid=BV18K411H7Tc&page=1?fs=1\"\n            frameborder=\"0\"\n            allowfullscreen\n            \n        ></iframe>\n        ",
          "text/plain": "<__main__.BiliVideo at 0x7f07aea7a890>"
         },
         "metadata": {},
         "output_type": "display_data"
        }
       ],
       "tabbable": null,
       "tooltip": null
      }
     },
     "a07226bd30ab4b1aba12ff8a220203a8": {
      "model_module": "@jupyter-widgets/controls",
      "model_module_version": "2.0.0",
      "model_name": "TabModel",
      "state": {
       "_dom_classes": [],
       "_model_module": "@jupyter-widgets/controls",
       "_model_module_version": "2.0.0",
       "_model_name": "TabModel",
       "_view_count": null,
       "_view_module": "@jupyter-widgets/controls",
       "_view_module_version": "2.0.0",
       "_view_name": "TabView",
       "box_style": "",
       "children": [
        "IPY_MODEL_09f1a835bcb04861a81dc33bcb16dc6d",
        "IPY_MODEL_8daa6f6833d944bcb9c777189243ecfe"
       ],
       "layout": "IPY_MODEL_014f64af237540378c1bedfb8c78ce03",
       "selected_index": 0,
       "tabbable": null,
       "titles": [
        "Youtube",
        "Bilibili"
       ],
       "tooltip": null
      }
     },
     "a42252d4bfd2442784a6b3a2e1ee67be": {
      "model_module": "@jupyter-widgets/controls",
      "model_module_version": "2.0.0",
      "model_name": "TabModel",
      "state": {
       "_dom_classes": [],
       "_model_module": "@jupyter-widgets/controls",
       "_model_module_version": "2.0.0",
       "_model_name": "TabModel",
       "_view_count": null,
       "_view_module": "@jupyter-widgets/controls",
       "_view_module_version": "2.0.0",
       "_view_name": "TabView",
       "box_style": "",
       "children": [
        "IPY_MODEL_47aa8e0643f14ccfbbef112e356696af",
        "IPY_MODEL_f43a449a4d5945deac6f8c3b1f3a086c"
       ],
       "layout": "IPY_MODEL_aa8ccaf47f034a2992c43a408a51aa59",
       "selected_index": 0,
       "tabbable": null,
       "titles": [
        "Youtube",
        "Bilibili"
       ],
       "tooltip": null
      }
     },
     "aa648f1e948742c28d9719c5342c44f7": {
      "model_module": "@jupyter-widgets/base",
      "model_module_version": "2.0.0",
      "model_name": "LayoutModel",
      "state": {
       "_model_module": "@jupyter-widgets/base",
       "_model_module_version": "2.0.0",
       "_model_name": "LayoutModel",
       "_view_count": null,
       "_view_module": "@jupyter-widgets/base",
       "_view_module_version": "2.0.0",
       "_view_name": "LayoutView",
       "align_content": null,
       "align_items": null,
       "align_self": null,
       "border_bottom": null,
       "border_left": null,
       "border_right": null,
       "border_top": null,
       "bottom": null,
       "display": null,
       "flex": null,
       "flex_flow": null,
       "grid_area": null,
       "grid_auto_columns": null,
       "grid_auto_flow": null,
       "grid_auto_rows": null,
       "grid_column": null,
       "grid_gap": null,
       "grid_row": null,
       "grid_template_areas": null,
       "grid_template_columns": null,
       "grid_template_rows": null,
       "height": null,
       "justify_content": null,
       "justify_items": null,
       "left": null,
       "margin": null,
       "max_height": null,
       "max_width": null,
       "min_height": null,
       "min_width": null,
       "object_fit": null,
       "object_position": null,
       "order": null,
       "overflow": null,
       "padding": null,
       "right": null,
       "top": null,
       "visibility": null,
       "width": null
      }
     },
     "aa8ccaf47f034a2992c43a408a51aa59": {
      "model_module": "@jupyter-widgets/base",
      "model_module_version": "2.0.0",
      "model_name": "LayoutModel",
      "state": {
       "_model_module": "@jupyter-widgets/base",
       "_model_module_version": "2.0.0",
       "_model_name": "LayoutModel",
       "_view_count": null,
       "_view_module": "@jupyter-widgets/base",
       "_view_module_version": "2.0.0",
       "_view_name": "LayoutView",
       "align_content": null,
       "align_items": null,
       "align_self": null,
       "border_bottom": null,
       "border_left": null,
       "border_right": null,
       "border_top": null,
       "bottom": null,
       "display": null,
       "flex": null,
       "flex_flow": null,
       "grid_area": null,
       "grid_auto_columns": null,
       "grid_auto_flow": null,
       "grid_auto_rows": null,
       "grid_column": null,
       "grid_gap": null,
       "grid_row": null,
       "grid_template_areas": null,
       "grid_template_columns": null,
       "grid_template_rows": null,
       "height": null,
       "justify_content": null,
       "justify_items": null,
       "left": null,
       "margin": null,
       "max_height": null,
       "max_width": null,
       "min_height": null,
       "min_width": null,
       "object_fit": null,
       "object_position": null,
       "order": null,
       "overflow": null,
       "padding": null,
       "right": null,
       "top": null,
       "visibility": null,
       "width": null
      }
     },
     "ac0c030e2c77465183caa091c6f841f1": {
      "model_module": "@jupyter-widgets/base",
      "model_module_version": "2.0.0",
      "model_name": "LayoutModel",
      "state": {
       "_model_module": "@jupyter-widgets/base",
       "_model_module_version": "2.0.0",
       "_model_name": "LayoutModel",
       "_view_count": null,
       "_view_module": "@jupyter-widgets/base",
       "_view_module_version": "2.0.0",
       "_view_name": "LayoutView",
       "align_content": null,
       "align_items": null,
       "align_self": null,
       "border_bottom": null,
       "border_left": null,
       "border_right": null,
       "border_top": null,
       "bottom": null,
       "display": null,
       "flex": null,
       "flex_flow": null,
       "grid_area": null,
       "grid_auto_columns": null,
       "grid_auto_flow": null,
       "grid_auto_rows": null,
       "grid_column": null,
       "grid_gap": null,
       "grid_row": null,
       "grid_template_areas": null,
       "grid_template_columns": null,
       "grid_template_rows": null,
       "height": null,
       "justify_content": null,
       "justify_items": null,
       "left": null,
       "margin": null,
       "max_height": null,
       "max_width": null,
       "min_height": null,
       "min_width": null,
       "object_fit": null,
       "object_position": null,
       "order": null,
       "overflow": null,
       "padding": null,
       "right": null,
       "top": null,
       "visibility": null,
       "width": null
      }
     },
     "b2730527581a4ffeb255894c353993df": {
      "model_module": "@jupyter-widgets/output",
      "model_module_version": "1.0.0",
      "model_name": "OutputModel",
      "state": {
       "_dom_classes": [],
       "_model_module": "@jupyter-widgets/output",
       "_model_module_version": "1.0.0",
       "_model_name": "OutputModel",
       "_view_count": null,
       "_view_module": "@jupyter-widgets/output",
       "_view_module_version": "1.0.0",
       "_view_name": "OutputView",
       "layout": "IPY_MODEL_6663e4645d96455c9e3fb5f4a6414226",
       "msg_id": "",
       "outputs": [
        {
         "name": "stdout",
         "output_type": "stream",
         "text": "Video available at https://youtube.com/watch?v=5alwtNS4CGw\n"
        },
        {
         "data": {
          "image/jpeg": "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\n",
          "text/html": "\n        <iframe\n            width=\"730\"\n            height=\"410\"\n            src=\"https://www.youtube.com/embed/5alwtNS4CGw?fs=1&rel=0\"\n            frameborder=\"0\"\n            allowfullscreen\n            \n        ></iframe>\n        ",
          "text/plain": "<IPython.lib.display.YouTubeVideo at 0x7f07aea7a3d0>"
         },
         "metadata": {},
         "output_type": "display_data"
        }
       ],
       "tabbable": null,
       "tooltip": null
      }
     },
     "c39399fd76c042b7b87cb31e5005d48e": {
      "model_module": "@jupyter-widgets/base",
      "model_module_version": "2.0.0",
      "model_name": "LayoutModel",
      "state": {
       "_model_module": "@jupyter-widgets/base",
       "_model_module_version": "2.0.0",
       "_model_name": "LayoutModel",
       "_view_count": null,
       "_view_module": "@jupyter-widgets/base",
       "_view_module_version": "2.0.0",
       "_view_name": "LayoutView",
       "align_content": null,
       "align_items": null,
       "align_self": null,
       "border_bottom": null,
       "border_left": null,
       "border_right": null,
       "border_top": null,
       "bottom": null,
       "display": null,
       "flex": null,
       "flex_flow": null,
       "grid_area": null,
       "grid_auto_columns": null,
       "grid_auto_flow": null,
       "grid_auto_rows": null,
       "grid_column": null,
       "grid_gap": null,
       "grid_row": null,
       "grid_template_areas": null,
       "grid_template_columns": null,
       "grid_template_rows": null,
       "height": null,
       "justify_content": null,
       "justify_items": null,
       "left": null,
       "margin": null,
       "max_height": null,
       "max_width": null,
       "min_height": null,
       "min_width": null,
       "object_fit": null,
       "object_position": null,
       "order": null,
       "overflow": null,
       "padding": null,
       "right": null,
       "top": null,
       "visibility": null,
       "width": null
      }
     },
     "c8443a6a632f455d9d66f52355bf3c2c": {
      "model_module": "@jupyter-widgets/output",
      "model_module_version": "1.0.0",
      "model_name": "OutputModel",
      "state": {
       "_dom_classes": [],
       "_model_module": "@jupyter-widgets/output",
       "_model_module_version": "1.0.0",
       "_model_name": "OutputModel",
       "_view_count": null,
       "_view_module": "@jupyter-widgets/output",
       "_view_module_version": "1.0.0",
       "_view_name": "OutputView",
       "layout": "IPY_MODEL_844633288f554aebb6c314aea53beb61",
       "msg_id": "",
       "outputs": [
        {
         "name": "stdout",
         "output_type": "stream",
         "text": "Video available at https://youtube.com/watch?v=gy3GmlssHgQ\n"
        },
        {
         "data": {
          "image/jpeg": "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\n",
          "text/html": "\n        <iframe\n            width=\"730\"\n            height=\"410\"\n            src=\"https://www.youtube.com/embed/gy3GmlssHgQ?fs=1&rel=0\"\n            frameborder=\"0\"\n            allowfullscreen\n            \n        ></iframe>\n        ",
          "text/plain": "<IPython.lib.display.YouTubeVideo at 0x7f07af15a9d0>"
         },
         "metadata": {},
         "output_type": "display_data"
        }
       ],
       "tabbable": null,
       "tooltip": null
      }
     },
     "ce2699dba9be4c938eba7bf1c62ff58f": {
      "model_module": "@jupyter-widgets/controls",
      "model_module_version": "2.0.0",
      "model_name": "TabModel",
      "state": {
       "_dom_classes": [],
       "_model_module": "@jupyter-widgets/controls",
       "_model_module_version": "2.0.0",
       "_model_name": "TabModel",
       "_view_count": null,
       "_view_module": "@jupyter-widgets/controls",
       "_view_module_version": "2.0.0",
       "_view_name": "TabView",
       "box_style": "",
       "children": [
        "IPY_MODEL_c8443a6a632f455d9d66f52355bf3c2c",
        "IPY_MODEL_fe3864c63eb0475784fb4bd07a5772f2"
       ],
       "layout": "IPY_MODEL_6edc5429391f421d83b3a9f4216a5627",
       "selected_index": 0,
       "tabbable": null,
       "titles": [
        "Youtube",
        "Bilibili"
       ],
       "tooltip": null
      }
     },
     "d1afbba3aedf4d6b9baafb6db09d763e": {
      "model_module": "@jupyter-widgets/output",
      "model_module_version": "1.0.0",
      "model_name": "OutputModel",
      "state": {
       "_dom_classes": [],
       "_model_module": "@jupyter-widgets/output",
       "_model_module_version": "1.0.0",
       "_model_name": "OutputModel",
       "_view_count": null,
       "_view_module": "@jupyter-widgets/output",
       "_view_module_version": "1.0.0",
       "_view_name": "OutputView",
       "layout": "IPY_MODEL_daa858174368475ab0e7ed4855eaa1aa",
       "msg_id": "",
       "outputs": [
        {
         "name": "stdout",
         "output_type": "stream",
         "text": "Video available at https://youtube.com/watch?v=YSKDhnbjKmA\n"
        },
        {
         "data": {
          "image/jpeg": "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\n",
          "text/html": "\n        <iframe\n            width=\"730\"\n            height=\"410\"\n            src=\"https://www.youtube.com/embed/YSKDhnbjKmA?fs=1&rel=0\"\n            frameborder=\"0\"\n            allowfullscreen\n            \n        ></iframe>\n        ",
          "text/plain": "<IPython.lib.display.YouTubeVideo at 0x7f07affbba50>"
         },
         "metadata": {},
         "output_type": "display_data"
        }
       ],
       "tabbable": null,
       "tooltip": null
      }
     },
     "daa858174368475ab0e7ed4855eaa1aa": {
      "model_module": "@jupyter-widgets/base",
      "model_module_version": "2.0.0",
      "model_name": "LayoutModel",
      "state": {
       "_model_module": "@jupyter-widgets/base",
       "_model_module_version": "2.0.0",
       "_model_name": "LayoutModel",
       "_view_count": null,
       "_view_module": "@jupyter-widgets/base",
       "_view_module_version": "2.0.0",
       "_view_name": "LayoutView",
       "align_content": null,
       "align_items": null,
       "align_self": null,
       "border_bottom": null,
       "border_left": null,
       "border_right": null,
       "border_top": null,
       "bottom": null,
       "display": null,
       "flex": null,
       "flex_flow": null,
       "grid_area": null,
       "grid_auto_columns": null,
       "grid_auto_flow": null,
       "grid_auto_rows": null,
       "grid_column": null,
       "grid_gap": null,
       "grid_row": null,
       "grid_template_areas": null,
       "grid_template_columns": null,
       "grid_template_rows": null,
       "height": null,
       "justify_content": null,
       "justify_items": null,
       "left": null,
       "margin": null,
       "max_height": null,
       "max_width": null,
       "min_height": null,
       "min_width": null,
       "object_fit": null,
       "object_position": null,
       "order": null,
       "overflow": null,
       "padding": null,
       "right": null,
       "top": null,
       "visibility": null,
       "width": null
      }
     },
     "dfa45379a66e46cbba73e97b4919f09b": {
      "model_module": "@jupyter-widgets/base",
      "model_module_version": "2.0.0",
      "model_name": "LayoutModel",
      "state": {
       "_model_module": "@jupyter-widgets/base",
       "_model_module_version": "2.0.0",
       "_model_name": "LayoutModel",
       "_view_count": null,
       "_view_module": "@jupyter-widgets/base",
       "_view_module_version": "2.0.0",
       "_view_name": "LayoutView",
       "align_content": null,
       "align_items": null,
       "align_self": null,
       "border_bottom": null,
       "border_left": null,
       "border_right": null,
       "border_top": null,
       "bottom": null,
       "display": null,
       "flex": null,
       "flex_flow": null,
       "grid_area": null,
       "grid_auto_columns": null,
       "grid_auto_flow": null,
       "grid_auto_rows": null,
       "grid_column": null,
       "grid_gap": null,
       "grid_row": null,
       "grid_template_areas": null,
       "grid_template_columns": null,
       "grid_template_rows": null,
       "height": null,
       "justify_content": null,
       "justify_items": null,
       "left": null,
       "margin": null,
       "max_height": null,
       "max_width": null,
       "min_height": null,
       "min_width": null,
       "object_fit": null,
       "object_position": null,
       "order": null,
       "overflow": null,
       "padding": null,
       "right": null,
       "top": null,
       "visibility": null,
       "width": null
      }
     },
     "f43a449a4d5945deac6f8c3b1f3a086c": {
      "model_module": "@jupyter-widgets/output",
      "model_module_version": "1.0.0",
      "model_name": "OutputModel",
      "state": {
       "_dom_classes": [],
       "_model_module": "@jupyter-widgets/output",
       "_model_module_version": "1.0.0",
       "_model_name": "OutputModel",
       "_view_count": null,
       "_view_module": "@jupyter-widgets/output",
       "_view_module_version": "1.0.0",
       "_view_name": "OutputView",
       "layout": "IPY_MODEL_ac0c030e2c77465183caa091c6f841f1",
       "msg_id": "",
       "outputs": [
        {
         "name": "stdout",
         "output_type": "stream",
         "text": "Video available at https://www.bilibili.com/video/BV1pT4y1E7wv\n"
        },
        {
         "data": {
          "text/html": "\n        <iframe\n            width=\"730\"\n            height=\"410\"\n            src=\"https://player.bilibili.com/player.html?bvid=BV1pT4y1E7wv&page=1?fs=1\"\n            frameborder=\"0\"\n            allowfullscreen\n            \n        ></iframe>\n        ",
          "text/plain": "<__main__.BiliVideo at 0x7f07af16d7d0>"
         },
         "metadata": {},
         "output_type": "display_data"
        }
       ],
       "tabbable": null,
       "tooltip": null
      }
     },
     "f85ea8bfe7774f58bb4a798c3953e1a6": {
      "model_module": "@jupyter-widgets/controls",
      "model_module_version": "2.0.0",
      "model_name": "TabModel",
      "state": {
       "_dom_classes": [],
       "_model_module": "@jupyter-widgets/controls",
       "_model_module_version": "2.0.0",
       "_model_name": "TabModel",
       "_view_count": null,
       "_view_module": "@jupyter-widgets/controls",
       "_view_module_version": "2.0.0",
       "_view_name": "TabView",
       "box_style": "",
       "children": [
        "IPY_MODEL_6c6b29fae7334731a26668f46e0d7c7f",
        "IPY_MODEL_78c1411530a84b4581171fa205d76b89"
       ],
       "layout": "IPY_MODEL_03a1b951cb7541419564475ab38dc28b",
       "selected_index": 0,
       "tabbable": null,
       "titles": [
        "Youtube",
        "Bilibili"
       ],
       "tooltip": null
      }
     },
     "fe3864c63eb0475784fb4bd07a5772f2": {
      "model_module": "@jupyter-widgets/output",
      "model_module_version": "1.0.0",
      "model_name": "OutputModel",
      "state": {
       "_dom_classes": [],
       "_model_module": "@jupyter-widgets/output",
       "_model_module_version": "1.0.0",
       "_model_name": "OutputModel",
       "_view_count": null,
       "_view_module": "@jupyter-widgets/output",
       "_view_module_version": "1.0.0",
       "_view_name": "OutputView",
       "layout": "IPY_MODEL_37bdc16dd14b4463bc19e472eb9242be",
       "msg_id": "",
       "outputs": [
        {
         "name": "stdout",
         "output_type": "stream",
         "text": "Video available at https://www.bilibili.com/video/BV1sZ4y1u74e\n"
        },
        {
         "data": {
          "text/html": "\n        <iframe\n            width=\"730\"\n            height=\"410\"\n            src=\"https://player.bilibili.com/player.html?bvid=BV1sZ4y1u74e&page=1?fs=1\"\n            frameborder=\"0\"\n            allowfullscreen\n            \n        ></iframe>\n        ",
          "text/plain": "<__main__.BiliVideo at 0x7f07ae936150>"
         },
         "metadata": {},
         "output_type": "display_data"
        }
       ],
       "tabbable": null,
       "tooltip": null
      }
     },
     "feb66f0210864e1784972a768b68efc2": {
      "model_module": "@jupyter-widgets/output",
      "model_module_version": "1.0.0",
      "model_name": "OutputModel",
      "state": {
       "_dom_classes": [],
       "_model_module": "@jupyter-widgets/output",
       "_model_module_version": "1.0.0",
       "_model_name": "OutputModel",
       "_view_count": null,
       "_view_module": "@jupyter-widgets/output",
       "_view_module_version": "1.0.0",
       "_view_name": "OutputView",
       "layout": "IPY_MODEL_6964eed3a1b64a9996e8235cc4e77257",
       "msg_id": "",
       "outputs": [
        {
         "name": "stdout",
         "output_type": "stream",
         "text": "Video available at https://youtube.com/watch?v=jbYauFpyZhs\n"
        },
        {
         "data": {
          "image/jpeg": "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\n",
          "text/html": "\n        <iframe\n            width=\"730\"\n            height=\"410\"\n            src=\"https://www.youtube.com/embed/jbYauFpyZhs?fs=1&rel=0\"\n            frameborder=\"0\"\n            allowfullscreen\n            \n        ></iframe>\n        ",
          "text/plain": "<IPython.lib.display.YouTubeVideo at 0x7f07ae9c10d0>"
         },
         "metadata": {},
         "output_type": "display_data"
        }
       ],
       "tabbable": null,
       "tooltip": null
      }
     }
    },
    "version_major": 2,
    "version_minor": 0
   }
  }
 },
 "nbformat": 4,
 "nbformat_minor": 0
}
