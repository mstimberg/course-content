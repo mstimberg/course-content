{
 "cells": [
  {
   "cell_type": "markdown",
   "metadata": {
    "colab_type": "text",
    "execution": {},
    "id": "view-in-github"
   },
   "source": [
    "<a href=\"https://colab.research.google.com/github/NeuromatchAcademy/course-content/blob/main/tutorials/W2D2_LinearSystems/student/W2D2_Tutorial3.ipynb\" target=\"_blank\"><img alt=\"Open In Colab\" src=\"https://colab.research.google.com/assets/colab-badge.svg\"/></a>   <a href=\"https://kaggle.com/kernels/welcome?src=https://raw.githubusercontent.com/NeuromatchAcademy/course-content/main/tutorials/W2D2_LinearSystems/student/W2D2_Tutorial3.ipynb\" target=\"_blank\"><img alt=\"Open in Kaggle\" src=\"https://kaggle.com/static/images/open-in-kaggle.svg\"/></a>"
   ]
  },
  {
   "cell_type": "markdown",
   "metadata": {
    "execution": {}
   },
   "source": [
    "# Tutorial 3: Combining determinism and stochasticity\n",
    "**Week 2, Day 2: Linear Systems**\n",
    "\n",
    "**By Neuromatch Academy**\n",
    "\n",
    "**Content Creators**: Bing Wen Brunton, Alice Schwarze, Biraj Pandey\n",
    "\n",
    "**Content Reviewers**: Norma Kuhn, John Butler, Matthew Krause, Ella Batty, Richard Gao, Michael Waskom\n",
    "\n",
    "**Post-Production Team:** Gagana B, Spiros Chavlis"
   ]
  },
  {
   "cell_type": "markdown",
   "metadata": {
    "execution": {}
   },
   "source": [
    "<p align='center'><img src='https://github.com/NeuromatchAcademy/widgets/blob/master/sponsors.png?raw=True'/></p>"
   ]
  },
  {
   "cell_type": "markdown",
   "metadata": {
    "execution": {}
   },
   "source": [
    "---\n",
    "# Tutorial Objectives\n",
    "\n",
    "*Estimated timing of tutorial: 45 minutes*\n",
    "\n",
    "Time-dependent processes rule the world. \n",
    "\n",
    "Now that we've spent some time familiarizing ourselves with the behavior of such systems when their trajectories are (1) entirely predictable and deterministic, or (2) governed by random processes, it's time to consider that neither is sufficient to describe neuroscience. Instead, we are often faced with processes for which we know some dynamics, but there are some random aspects as well. We call these **dynamical systems with stochasticity**.\n",
    "\n",
    "This tutorial will build on our knowledge and gain some intuition for how deterministic and stochastic processes can both be a part of a dynamical system by:\n",
    "\n",
    "* Simulating random walks \n",
    "* Investigating the mean and variance of a Ornstein-Uhlenbeck (OU) process\n",
    "* Quantifying the OU process's behavior at equilibrium."
   ]
  },
  {
   "cell_type": "markdown",
   "metadata": {},
   "source": [
    "##  Tutorial slides\n"
   ]
  },
  {
   "cell_type": "markdown",
   "metadata": {},
   "source": [
    " These are the slides for the videos in all tutorials today\n"
   ]
  },
  {
   "cell_type": "code",
   "execution_count": 1,
   "metadata": {
    "cellView": "form",
    "execution": {
     "iopub.execute_input": "2023-04-17T16:53:37.616190Z",
     "iopub.status.busy": "2023-04-17T16:53:37.615682Z",
     "iopub.status.idle": "2023-04-17T16:53:37.625763Z",
     "shell.execute_reply": "2023-04-17T16:53:37.625174Z"
    },
    "tags": [
     "remove-input"
    ]
   },
   "outputs": [
    {
     "data": {
      "text/html": [
       "\n",
       "        <iframe\n",
       "            width=\"854\"\n",
       "            height=\"480\"\n",
       "            src=\"https://mfr.ca-1.osf.io/render?url=https://osf.io/snv4m/?direct%26mode=render%26action=download%26mode=render\"\n",
       "            frameborder=\"0\"\n",
       "            allowfullscreen\n",
       "            \n",
       "        ></iframe>\n",
       "        "
      ],
      "text/plain": [
       "<IPython.lib.display.IFrame at 0x7f83b58b7e50>"
      ]
     },
     "execution_count": 1,
     "metadata": {},
     "output_type": "execute_result"
    }
   ],
   "source": [
    "# @title Tutorial slides\n",
    "\n",
    "# @markdown These are the slides for the videos in all tutorials today\n",
    "from IPython.display import IFrame\n",
    "IFrame(src=f\"https://mfr.ca-1.osf.io/render?url=https://osf.io/snv4m/?direct%26mode=render%26action=download%26mode=render\", width=854, height=480)"
   ]
  },
  {
   "cell_type": "markdown",
   "metadata": {
    "execution": {}
   },
   "source": [
    "---\n",
    "# Setup"
   ]
  },
  {
   "cell_type": "code",
   "execution_count": 2,
   "metadata": {
    "execution": {
     "iopub.execute_input": "2023-04-17T16:53:37.627856Z",
     "iopub.status.busy": "2023-04-17T16:53:37.627594Z",
     "iopub.status.idle": "2023-04-17T16:53:38.009931Z",
     "shell.execute_reply": "2023-04-17T16:53:38.009090Z"
    }
   },
   "outputs": [],
   "source": [
    "# Imports\n",
    "import numpy as np\n",
    "import matplotlib.pyplot as plt"
   ]
  },
  {
   "cell_type": "markdown",
   "metadata": {},
   "source": [
    "##  Figure Settings\n"
   ]
  },
  {
   "cell_type": "code",
   "execution_count": 3,
   "metadata": {
    "cellView": "form",
    "execution": {
     "iopub.execute_input": "2023-04-17T16:53:38.013740Z",
     "iopub.status.busy": "2023-04-17T16:53:38.013302Z",
     "iopub.status.idle": "2023-04-17T16:53:38.153424Z",
     "shell.execute_reply": "2023-04-17T16:53:38.152663Z"
    },
    "tags": [
     "hide-input"
    ]
   },
   "outputs": [],
   "source": [
    "# @title Figure Settings\n",
    "import ipywidgets as widgets       # interactive display\n",
    "%config InlineBackend.figure_format = 'retina'\n",
    "plt.style.use(\"https://raw.githubusercontent.com/NeuromatchAcademy/course-content/main/nma.mplstyle\")"
   ]
  },
  {
   "cell_type": "markdown",
   "metadata": {},
   "source": [
    "##  Plotting Functions\n"
   ]
  },
  {
   "cell_type": "code",
   "execution_count": 4,
   "metadata": {
    "cellView": "form",
    "execution": {
     "iopub.execute_input": "2023-04-17T16:53:38.156859Z",
     "iopub.status.busy": "2023-04-17T16:53:38.156259Z",
     "iopub.status.idle": "2023-04-17T16:53:38.167266Z",
     "shell.execute_reply": "2023-04-17T16:53:38.166624Z"
    },
    "tags": [
     "hide-input"
    ]
   },
   "outputs": [],
   "source": [
    "# @title Plotting Functions\n",
    "# drift-diffusion model\n",
    "# returns t, x\n",
    "\n",
    "def plot_random_walk_sims(sims, nsims=10):\n",
    "  \"\"\"Helper for exercise 3A\"\"\"\n",
    "  fig = plt.figure()\n",
    "  plt.plot(sim[:nsims, :].T)\n",
    "  plt.xlabel('time')\n",
    "  plt.ylabel('position x')\n",
    "  plt.show()\n",
    "\n",
    "def plot_mean_var_by_timestep(mu, var):\n",
    "  \"\"\"Helper function for exercise 3A.2\"\"\"\n",
    "  fig, (ah1, ah2) = plt.subplots(2)\n",
    "\n",
    "  # plot mean of distribution as a function of time\n",
    "  ah1.plot(mu)\n",
    "  ah1.set(ylabel='mean')\n",
    "  ah1.set_ylim([-5, 5])\n",
    "\n",
    "  # plot variance of distribution as a function of time\n",
    "  ah2.plot(var)\n",
    "  ah2.set(xlabel='time')\n",
    "  ah2.set(ylabel='variance')\n",
    "\n",
    "  plt.show()\n",
    "\n",
    "def plot_ddm(t, x, xinfty, lam, x0):\n",
    "  fig = plt.figure()\n",
    "\n",
    "  plt.plot(t, xinfty * (1 - lam**t) + x0 * lam**t, 'r')\n",
    "  plt.plot(t, x, 'k.')          # simulated data pts\n",
    "\n",
    "  plt.xlabel('t')\n",
    "  plt.ylabel('x')\n",
    "\n",
    "  plt.legend({'deterministic solution', 'simulation'})\n",
    "  plt.show()\n",
    "\n",
    "def var_comparison_plot(empirical, analytical):\n",
    "  fig = plt.figure()\n",
    "  plt.plot(empirical, analytical, '.', markersize=15)\n",
    "  plt.xlabel('empirical equilibrium variance')\n",
    "  plt.ylabel('analytic equilibrium variance')\n",
    "  plt.plot(np.arange(8), np.arange(8), 'k', label='45 deg line')\n",
    "  plt.legend()\n",
    "\n",
    "  plt.grid(True)\n",
    "  plt.show()\n",
    "\n",
    "def plot_dynamics(x, t, lam, xinfty=0):\n",
    "  \"\"\" Plot the dynamics \"\"\"\n",
    "  fig = plt.figure()\n",
    "  plt.title('$\\lambda=%0.1f$' % lam, fontsize=16)\n",
    "  x0 = x[0]\n",
    "  plt.plot(t, xinfty + (x0 - xinfty) * lam**t, 'r', label='analytic solution')\n",
    "  plt.plot(t, x, 'k.', label='simulation')          # simulated data pts\n",
    "  plt.ylim(0, x0+1)\n",
    "\n",
    "  plt.xlabel('t')\n",
    "  plt.ylabel('x')\n",
    "  plt.legend()\n",
    "  plt.show()"
   ]
  },
  {
   "cell_type": "markdown",
   "metadata": {
    "execution": {}
   },
   "source": [
    "---\n",
    "# Section 1: Random Walks\n"
   ]
  },
  {
   "cell_type": "markdown",
   "metadata": {},
   "source": [
    "##  Video 1: E. coli and Random Walks\n"
   ]
  },
  {
   "cell_type": "code",
   "execution_count": 5,
   "metadata": {
    "cellView": "form",
    "execution": {
     "iopub.execute_input": "2023-04-17T16:53:38.170047Z",
     "iopub.status.busy": "2023-04-17T16:53:38.169721Z",
     "iopub.status.idle": "2023-04-17T16:53:38.229649Z",
     "shell.execute_reply": "2023-04-17T16:53:38.229038Z"
    },
    "tags": [
     "remove-input"
    ]
   },
   "outputs": [
    {
     "data": {
      "application/vnd.jupyter.widget-view+json": {
       "model_id": "4f23b2cee94c413fa317b4a92d32f908",
       "version_major": 2,
       "version_minor": 0
      },
      "text/plain": [
       "Tab(children=(Output(), Output()), selected_index=0, titles=('Youtube', 'Bilibili'))"
      ]
     },
     "metadata": {},
     "output_type": "display_data"
    }
   ],
   "source": [
    "# @title Video 1: E. coli and Random Walks\n",
    "from ipywidgets import widgets\n",
    "\n",
    "out2 = widgets.Output()\n",
    "with out2:\n",
    "  from IPython.display import IFrame\n",
    "  class BiliVideo(IFrame):\n",
    "      def __init__(self, id, page=1, width=400, height=300, **kwargs):\n",
    "          self.id=id\n",
    "          src = 'https://player.bilibili.com/player.html?bvid={0}&page={1}'.format(id, page)\n",
    "          super(BiliVideo, self).__init__(src, width, height, **kwargs)\n",
    "\n",
    "  video = BiliVideo(id=\"BV1LC4y1h7gD\", width=730, height=410, fs=1)\n",
    "  print('Video available at https://www.bilibili.com/video/{0}'.format(video.id))\n",
    "  display(video)\n",
    "\n",
    "out1 = widgets.Output()\n",
    "with out1:\n",
    "  from IPython.display import YouTubeVideo\n",
    "  video = YouTubeVideo(id=\"VHwTBCQJjfw\", width=730, height=410, fs=1, rel=0)\n",
    "  print('Video available at https://youtube.com/watch?v=' + video.id)\n",
    "  display(video)\n",
    "\n",
    "out = widgets.Tab([out1, out2])\n",
    "out.titles = ['Youtube', 'Bilibili']\n",
    "\n",
    "display(out)"
   ]
  },
  {
   "cell_type": "markdown",
   "metadata": {
    "execution": {}
   },
   "source": [
    "To begin, let's first take a gander at how life sometimes wanders around aimlessly. One of the simplest and best-studied living systems that has some interesting behaviors is the _E. coli_ bacterium, which is capable of navigating odor gradients on a substrate to seek a food source. Larger life (including flies, dogs, and blindfolded humans) sometimes use the same strategies to guide their decisions.\n",
    "\n",
    "Here, we will consider what the _E. coli_ does in the absence of food odors. What's the best strategy when one does not know where to head? Why, flail around randomly, of course!\n",
    "\n",
    "The **random walk** is exactly that --- at every time step, use a random process like flipping a coin to change one's heading accordingly. Note that this process is closely related to _Brownian motion_, so you may sometimes hear that terminology used as well."
   ]
  },
  {
   "cell_type": "markdown",
   "metadata": {
    "execution": {}
   },
   "source": [
    "Let's start with a **one-dimensional random walk**. A bacterium starts at $x=0$. At every time step, it flips a coin (a very small, microscopic coin of protein mintage), then heads left $\\Delta x = -1$ or right $\\Delta x = +1$ for with equal probability. For instance, if at time step $1$ the result of the coin flip is to head right, then its position at that time step becomes $x_1 = x_0 + \\Delta x = 1.$ Continuing in this way, its position at time step $k+1$ is given by\n",
    "\n",
    "\\begin{equation}\n",
    "x_{k+1} = x_k + \\Delta x\n",
    "\\end{equation}\n",
    "\n",
    "We will simulate this process below and plot the position of the bacterium as a function of the time step."
   ]
  },
  {
   "cell_type": "markdown",
   "metadata": {},
   "source": [
    " Execute to simulate a random walk\n"
   ]
  },
  {
   "cell_type": "code",
   "execution_count": 6,
   "metadata": {
    "cellView": "form",
    "execution": {
     "iopub.execute_input": "2023-04-17T16:53:38.240921Z",
     "iopub.status.busy": "2023-04-17T16:53:38.240700Z",
     "iopub.status.idle": "2023-04-17T16:53:38.546707Z",
     "shell.execute_reply": "2023-04-17T16:53:38.545987Z"
    },
    "tags": [
     "hide-input"
    ]
   },
   "outputs": [
    {
     "data": {
      "image/png": "[encoded data removed]",
      "text/plain": [
       "<Figure size 800x600 with 1 Axes>"
      ]
     },
     "metadata": {
      "image/png": {
       "height": 575,
       "width": 775
      }
     },
     "output_type": "display_data"
    }
   ],
   "source": [
    "# @markdown Execute to simulate a random walk\n",
    "# parameters of simulation\n",
    "T = 100\n",
    "t = np.arange(T)\n",
    "x = np.zeros_like(t)\n",
    "np.random.seed(2020) # set random seed\n",
    "\n",
    "# initial position\n",
    "x[0] = 0\n",
    "\n",
    "# step forward in time\n",
    "for k in range(len(t)-1):\n",
    "    # choose randomly between -1 and 1 (coin flip)\n",
    "    this_step = np.random.choice([-1,1])\n",
    "\n",
    "    # make the step\n",
    "    x[k+1] = x[k] + this_step\n",
    "\n",
    "# plot this trajectory\n",
    "fig = plt.figure()\n",
    "plt.step(t, x)\n",
    "plt.xlabel('time')\n",
    "plt.ylabel('position x');"
   ]
  },
  {
   "cell_type": "markdown",
   "metadata": {
    "execution": {}
   },
   "source": [
    "## Coding Exercise 1A: Random walk simulation\n",
    "\n",
    "*Referred to in video as exercise 3A*\n",
    "\n",
    "In the previous plot, we assumed that the bacterium takes a step of size $1$ at every point in time. Let it take steps of different sizes!\n",
    "\n",
    "We will code a random walk where the steps have a standard normal distribution (with mean $\\mu$ and standard deviation $\\sigma$). Instead of running one trajectory at a time, we will write our code so that we can simulate a large number of trajectories efficiently. We will combine this all into a function ``random_walk_simulator`` that generates $N$ random walks each with $T$ time points efficiently.\n",
    "\n",
    "We will plot 10 random walks for 10000 time steps each."
   ]
  },
  {
   "cell_type": "code",
   "execution_count": 7,
   "metadata": {
    "execution": {
     "iopub.execute_input": "2023-04-17T16:53:38.549931Z",
     "iopub.status.busy": "2023-04-17T16:53:38.549659Z",
     "iopub.status.idle": "2023-04-17T16:53:38.759806Z",
     "shell.execute_reply": "2023-04-17T16:53:38.758670Z"
    }
   },
   "outputs": [
    {
     "ename": "NotImplementedError",
     "evalue": "Complete random_walk_simulator_function",
     "output_type": "error",
     "traceback": [
      "\u001b[0;31m---------------------------------------------------------------------------\u001b[0m",
      "\u001b[0;31mNotImplementedError\u001b[0m                       Traceback (most recent call last)",
      "Cell \u001b[0;32mIn[7], line 34\u001b[0m\n\u001b[1;32m     31\u001b[0m np\u001b[38;5;241m.\u001b[39mrandom\u001b[38;5;241m.\u001b[39mseed(\u001b[38;5;241m2020\u001b[39m) \u001b[38;5;66;03m# set random seed\u001b[39;00m\n\u001b[1;32m     33\u001b[0m \u001b[38;5;66;03m# simulate 1000 random walks for 10000 time steps\u001b[39;00m\n\u001b[0;32m---> 34\u001b[0m sim \u001b[38;5;241m=\u001b[39m \u001b[43mrandom_walk_simulator\u001b[49m\u001b[43m(\u001b[49m\u001b[38;5;241;43m1000\u001b[39;49m\u001b[43m,\u001b[49m\u001b[43m \u001b[49m\u001b[38;5;241;43m10000\u001b[39;49m\u001b[43m,\u001b[49m\u001b[43m  \u001b[49m\u001b[43mmu\u001b[49m\u001b[38;5;241;43m=\u001b[39;49m\u001b[38;5;241;43m0\u001b[39;49m\u001b[43m,\u001b[49m\u001b[43m \u001b[49m\u001b[43msigma\u001b[49m\u001b[38;5;241;43m=\u001b[39;49m\u001b[38;5;241;43m1\u001b[39;49m\u001b[43m)\u001b[49m\n\u001b[1;32m     36\u001b[0m \u001b[38;5;66;03m# take a peek at the first 10 simulations\u001b[39;00m\n\u001b[1;32m     37\u001b[0m plot_random_walk_sims(sim, nsims\u001b[38;5;241m=\u001b[39m\u001b[38;5;241m10\u001b[39m)\n",
      "Cell \u001b[0;32mIn[7], line 19\u001b[0m, in \u001b[0;36mrandom_walk_simulator\u001b[0;34m(N, T, mu, sigma)\u001b[0m\n\u001b[1;32m      2\u001b[0m \u001b[38;5;250m\u001b[39m\u001b[38;5;124;03m'''Simulate N random walks for T time points. At each time point, the step\u001b[39;00m\n\u001b[1;32m      3\u001b[0m \u001b[38;5;124;03m    is drawn from a Gaussian distribution with mean mu and standard deviation\u001b[39;00m\n\u001b[1;32m      4\u001b[0m \u001b[38;5;124;03m    sigma.\u001b[39;00m\n\u001b[0;32m   (...)\u001b[0m\n\u001b[1;32m     13\u001b[0m \u001b[38;5;124;03m  (numpy array) : NxT array in which each row corresponds to trajectory\u001b[39;00m\n\u001b[1;32m     14\u001b[0m \u001b[38;5;124;03m'''\u001b[39;00m\n\u001b[1;32m     16\u001b[0m \u001b[38;5;66;03m###############################################################################\u001b[39;00m\n\u001b[1;32m     17\u001b[0m \u001b[38;5;66;03m## TODO: Code the simulated random steps to take\u001b[39;00m\n\u001b[1;32m     18\u001b[0m \u001b[38;5;66;03m## Hints: you can generate all the random steps in one go in an N x T matrix\u001b[39;00m\n\u001b[0;32m---> 19\u001b[0m \u001b[38;5;28;01mraise\u001b[39;00m \u001b[38;5;167;01mNotImplementedError\u001b[39;00m(\u001b[38;5;124m'\u001b[39m\u001b[38;5;124mComplete random_walk_simulator_function\u001b[39m\u001b[38;5;124m'\u001b[39m)\n\u001b[1;32m     20\u001b[0m \u001b[38;5;66;03m###############################################################################\u001b[39;00m\n\u001b[1;32m     21\u001b[0m \u001b[38;5;66;03m# generate all the random steps for all steps in all simulations in one go\u001b[39;00m\n\u001b[1;32m     22\u001b[0m \u001b[38;5;66;03m# produces a N x T array\u001b[39;00m\n\u001b[1;32m     23\u001b[0m steps \u001b[38;5;241m=\u001b[39m np\u001b[38;5;241m.\u001b[39mrandom\u001b[38;5;241m.\u001b[39mnormal(\u001b[38;5;241m.\u001b[39m\u001b[38;5;241m.\u001b[39m\u001b[38;5;241m.\u001b[39m, \u001b[38;5;241m.\u001b[39m\u001b[38;5;241m.\u001b[39m\u001b[38;5;241m.\u001b[39m, size\u001b[38;5;241m=\u001b[39m(\u001b[38;5;241m.\u001b[39m\u001b[38;5;241m.\u001b[39m\u001b[38;5;241m.\u001b[39m, \u001b[38;5;241m.\u001b[39m\u001b[38;5;241m.\u001b[39m\u001b[38;5;241m.\u001b[39m))\n",
      "\u001b[0;31mNotImplementedError\u001b[0m: Complete random_walk_simulator_function"
     ]
    }
   ],
   "source": [
    "def random_walk_simulator(N, T, mu=0, sigma=1):\n",
    "  '''Simulate N random walks for T time points. At each time point, the step\n",
    "      is drawn from a Gaussian distribution with mean mu and standard deviation\n",
    "      sigma.\n",
    "\n",
    "  Args:\n",
    "    T (integer) : Duration of simulation in time steps\n",
    "    N (integer) : Number of random walks\n",
    "    mu (float) : mean of step distribution\n",
    "    sigma (float) : standard deviation of step distribution\n",
    "\n",
    "  Returns:\n",
    "    (numpy array) : NxT array in which each row corresponds to trajectory\n",
    "  '''\n",
    "\n",
    "  ###############################################################################\n",
    "  ## TODO: Code the simulated random steps to take\n",
    "  ## Hints: you can generate all the random steps in one go in an N x T matrix\n",
    "  raise NotImplementedError('Complete random_walk_simulator_function')\n",
    "  ###############################################################################\n",
    "  # generate all the random steps for all steps in all simulations in one go\n",
    "  # produces a N x T array\n",
    "  steps = np.random.normal(..., ..., size=(..., ...))\n",
    "\n",
    "  # compute the cumulative sum of all the steps over the time axis\n",
    "  sim = np.cumsum(steps, axis=1)\n",
    "\n",
    "  return sim\n",
    "\n",
    "\n",
    "np.random.seed(2020) # set random seed\n",
    "\n",
    "# simulate 1000 random walks for 10000 time steps\n",
    "sim = random_walk_simulator(1000, 10000,  mu=0, sigma=1)\n",
    "\n",
    "# take a peek at the first 10 simulations\n",
    "plot_random_walk_sims(sim, nsims=10)"
   ]
  },
  {
   "cell_type": "markdown",
   "metadata": {
    "colab_type": "text",
    "execution": {}
   },
   "source": [
    "[*Click for solution*](https://github.com/NeuromatchAcademy/course-content/tree/main//tutorials/W2D2_LinearSystems/solutions/W2D2_Tutorial3_Solution_39e8cb46.py)\n",
    "\n",
    "*Example output:*\n",
    "\n",
    "<img alt='Solution hint' align='left' width=831.0 height=544.0 src=https://raw.githubusercontent.com/NeuromatchAcademy/course-content/main/tutorials/W2D2_LinearSystems/static/W2D2_Tutorial3_Solution_39e8cb46_0.png>\n",
    "\n"
   ]
  },
  {
   "cell_type": "markdown",
   "metadata": {
    "execution": {}
   },
   "source": [
    "We see that the trajectories all look a little different from each other. But there are some general observations one can make: at the beginning almost all trajectories are very close to $x=0$, which is where our bacterium started. As time progresses, some trajectories move further and further away from the starting point. However, a lot of trajectories stay close to the starting point of $x=0$. \n",
    "\n",
    "Now let's take a look in the next cell at the distribution of bacteria positions at different points in time, analyzing all the trajectories we just generated above."
   ]
  },
  {
   "cell_type": "markdown",
   "metadata": {},
   "source": [
    " Execute to visualize distribution of bacteria positions\n"
   ]
  },
  {
   "cell_type": "code",
   "execution_count": 8,
   "metadata": {
    "cellView": "form",
    "execution": {
     "iopub.execute_input": "2023-04-17T16:53:38.763221Z",
     "iopub.status.busy": "2023-04-17T16:53:38.762735Z",
     "iopub.status.idle": "2023-04-17T16:53:38.789196Z",
     "shell.execute_reply": "2023-04-17T16:53:38.788433Z"
    },
    "tags": [
     "hide-input"
    ]
   },
   "outputs": [
    {
     "ename": "NameError",
     "evalue": "name 'sim' is not defined",
     "output_type": "error",
     "traceback": [
      "\u001b[0;31m---------------------------------------------------------------------------\u001b[0m",
      "\u001b[0;31mNameError\u001b[0m                                 Traceback (most recent call last)",
      "Cell \u001b[0;32mIn[8], line 7\u001b[0m\n\u001b[1;32m      3\u001b[0m \u001b[38;5;66;03m# look at the distribution of positions at different times\u001b[39;00m\n\u001b[1;32m      4\u001b[0m \u001b[38;5;28;01mfor\u001b[39;00m i, t \u001b[38;5;129;01min\u001b[39;00m \u001b[38;5;28menumerate\u001b[39m([\u001b[38;5;241m1000\u001b[39m,\u001b[38;5;241m2500\u001b[39m,\u001b[38;5;241m10000\u001b[39m]):\n\u001b[1;32m      5\u001b[0m \n\u001b[1;32m      6\u001b[0m     \u001b[38;5;66;03m# get mean and standard deviation of distribution at time t\u001b[39;00m\n\u001b[0;32m----> 7\u001b[0m     mu \u001b[38;5;241m=\u001b[39m \u001b[43msim\u001b[49m[:, t\u001b[38;5;241m-\u001b[39m\u001b[38;5;241m1\u001b[39m]\u001b[38;5;241m.\u001b[39mmean()\n\u001b[1;32m      8\u001b[0m     sig2 \u001b[38;5;241m=\u001b[39m sim[:, t\u001b[38;5;241m-\u001b[39m\u001b[38;5;241m1\u001b[39m]\u001b[38;5;241m.\u001b[39mstd()\n\u001b[1;32m     10\u001b[0m     \u001b[38;5;66;03m# make a plot label\u001b[39;00m\n",
      "\u001b[0;31mNameError\u001b[0m: name 'sim' is not defined"
     ]
    },
    {
     "data": {
      "text/plain": [
       "<Figure size 800x600 with 0 Axes>"
      ]
     },
     "metadata": {},
     "output_type": "display_data"
    }
   ],
   "source": [
    "# @markdown Execute to visualize distribution of bacteria positions\n",
    "fig = plt.figure()\n",
    "# look at the distribution of positions at different times\n",
    "for i, t in enumerate([1000,2500,10000]):\n",
    "\n",
    "    # get mean and standard deviation of distribution at time t\n",
    "    mu = sim[:, t-1].mean()\n",
    "    sig2 = sim[:, t-1].std()\n",
    "\n",
    "    # make a plot label\n",
    "    mytitle = '$t=${time:d} ($\\mu=${mu:.2f}, $\\sigma=${var:.2f})'\n",
    "\n",
    "    # plot histogram\n",
    "    plt.hist(sim[:,t-1],\n",
    "             color=['blue','orange','black'][i],\n",
    "             #make sure the histograms have the same bins!\n",
    "             bins=np.arange(-300,300,20),\n",
    "             # make histograms a little see-through\n",
    "             alpha=0.6,\n",
    "             # draw second histogram behind the first one\n",
    "             zorder=3-i,\n",
    "             label=mytitle.format(time=t, mu=mu, var=sig2))\n",
    "\n",
    "    plt.xlabel('position x')\n",
    "\n",
    "    # plot range\n",
    "    plt.xlim([-500, 250])\n",
    "\n",
    "    # add legend\n",
    "    plt.legend(loc=2)\n",
    "\n",
    "    # add title\n",
    "    plt.title(r'Distribution of trajectory positions at time $t$')"
   ]
  },
  {
   "cell_type": "markdown",
   "metadata": {
    "execution": {}
   },
   "source": [
    "At the beginning of the simulation, the distribution of positions is sharply peaked about $0$. As time progresses, the distribution becomes wider but its center stays closer to $0$. In other words, the mean of the distribution is independent of time, but the variance and standard deviation of the distribution scale with time. Such a process is called a **diffusive process**."
   ]
  },
  {
   "cell_type": "markdown",
   "metadata": {
    "execution": {}
   },
   "source": [
    "## Coding Exercise 1B: Random walk mean & variance\n",
    "\n",
    "Compute and then plot the mean and variance of our bacterium's random walk as a function of time."
   ]
  },
  {
   "cell_type": "code",
   "execution_count": 9,
   "metadata": {
    "cellView": "code",
    "execution": {
     "iopub.execute_input": "2023-04-17T16:53:38.792455Z",
     "iopub.status.busy": "2023-04-17T16:53:38.792089Z",
     "iopub.status.idle": "2023-04-17T16:53:38.817832Z",
     "shell.execute_reply": "2023-04-17T16:53:38.817065Z"
    }
   },
   "outputs": [
    {
     "ename": "NotImplementedError",
     "evalue": "Complete random_walk_simulator_function",
     "output_type": "error",
     "traceback": [
      "\u001b[0;31m---------------------------------------------------------------------------\u001b[0m",
      "\u001b[0;31mNotImplementedError\u001b[0m                       Traceback (most recent call last)",
      "Cell \u001b[0;32mIn[9], line 3\u001b[0m\n\u001b[1;32m      1\u001b[0m \u001b[38;5;66;03m# Simulate random walks\u001b[39;00m\n\u001b[1;32m      2\u001b[0m np\u001b[38;5;241m.\u001b[39mrandom\u001b[38;5;241m.\u001b[39mseed(\u001b[38;5;241m2020\u001b[39m) \u001b[38;5;66;03m# set random seed\u001b[39;00m\n\u001b[0;32m----> 3\u001b[0m sim \u001b[38;5;241m=\u001b[39m \u001b[43mrandom_walk_simulator\u001b[49m\u001b[43m(\u001b[49m\u001b[38;5;241;43m5000\u001b[39;49m\u001b[43m,\u001b[49m\u001b[43m \u001b[49m\u001b[38;5;241;43m1000\u001b[39;49m\u001b[43m,\u001b[49m\u001b[43m \u001b[49m\u001b[43mmu\u001b[49m\u001b[38;5;241;43m=\u001b[39;49m\u001b[38;5;241;43m0\u001b[39;49m\u001b[43m,\u001b[49m\u001b[43m \u001b[49m\u001b[43msigma\u001b[49m\u001b[38;5;241;43m=\u001b[39;49m\u001b[38;5;241;43m1\u001b[39;49m\u001b[43m)\u001b[49m\n\u001b[1;32m      5\u001b[0m \u001b[38;5;66;03m##############################################################################\u001b[39;00m\n\u001b[1;32m      6\u001b[0m \u001b[38;5;66;03m# TODO: Insert your code here to compute the mean and variance of trajectory positions\u001b[39;00m\n\u001b[1;32m      7\u001b[0m \u001b[38;5;66;03m# at every time point:\u001b[39;00m\n\u001b[1;32m      8\u001b[0m \u001b[38;5;28;01mraise\u001b[39;00m \u001b[38;5;167;01mNotImplementedError\u001b[39;00m(\u001b[38;5;124m\"\u001b[39m\u001b[38;5;124mStudent exercise: need to compute mean and variance\u001b[39m\u001b[38;5;124m\"\u001b[39m)\n",
      "Cell \u001b[0;32mIn[7], line 19\u001b[0m, in \u001b[0;36mrandom_walk_simulator\u001b[0;34m(N, T, mu, sigma)\u001b[0m\n\u001b[1;32m      2\u001b[0m \u001b[38;5;250m\u001b[39m\u001b[38;5;124;03m'''Simulate N random walks for T time points. At each time point, the step\u001b[39;00m\n\u001b[1;32m      3\u001b[0m \u001b[38;5;124;03m    is drawn from a Gaussian distribution with mean mu and standard deviation\u001b[39;00m\n\u001b[1;32m      4\u001b[0m \u001b[38;5;124;03m    sigma.\u001b[39;00m\n\u001b[0;32m   (...)\u001b[0m\n\u001b[1;32m     13\u001b[0m \u001b[38;5;124;03m  (numpy array) : NxT array in which each row corresponds to trajectory\u001b[39;00m\n\u001b[1;32m     14\u001b[0m \u001b[38;5;124;03m'''\u001b[39;00m\n\u001b[1;32m     16\u001b[0m \u001b[38;5;66;03m###############################################################################\u001b[39;00m\n\u001b[1;32m     17\u001b[0m \u001b[38;5;66;03m## TODO: Code the simulated random steps to take\u001b[39;00m\n\u001b[1;32m     18\u001b[0m \u001b[38;5;66;03m## Hints: you can generate all the random steps in one go in an N x T matrix\u001b[39;00m\n\u001b[0;32m---> 19\u001b[0m \u001b[38;5;28;01mraise\u001b[39;00m \u001b[38;5;167;01mNotImplementedError\u001b[39;00m(\u001b[38;5;124m'\u001b[39m\u001b[38;5;124mComplete random_walk_simulator_function\u001b[39m\u001b[38;5;124m'\u001b[39m)\n\u001b[1;32m     20\u001b[0m \u001b[38;5;66;03m###############################################################################\u001b[39;00m\n\u001b[1;32m     21\u001b[0m \u001b[38;5;66;03m# generate all the random steps for all steps in all simulations in one go\u001b[39;00m\n\u001b[1;32m     22\u001b[0m \u001b[38;5;66;03m# produces a N x T array\u001b[39;00m\n\u001b[1;32m     23\u001b[0m steps \u001b[38;5;241m=\u001b[39m np\u001b[38;5;241m.\u001b[39mrandom\u001b[38;5;241m.\u001b[39mnormal(\u001b[38;5;241m.\u001b[39m\u001b[38;5;241m.\u001b[39m\u001b[38;5;241m.\u001b[39m, \u001b[38;5;241m.\u001b[39m\u001b[38;5;241m.\u001b[39m\u001b[38;5;241m.\u001b[39m, size\u001b[38;5;241m=\u001b[39m(\u001b[38;5;241m.\u001b[39m\u001b[38;5;241m.\u001b[39m\u001b[38;5;241m.\u001b[39m, \u001b[38;5;241m.\u001b[39m\u001b[38;5;241m.\u001b[39m\u001b[38;5;241m.\u001b[39m))\n",
      "\u001b[0;31mNotImplementedError\u001b[0m: Complete random_walk_simulator_function"
     ]
    }
   ],
   "source": [
    "# Simulate random walks\n",
    "np.random.seed(2020) # set random seed\n",
    "sim = random_walk_simulator(5000, 1000, mu=0, sigma=1)\n",
    "\n",
    "##############################################################################\n",
    "# TODO: Insert your code here to compute the mean and variance of trajectory positions\n",
    "# at every time point:\n",
    "raise NotImplementedError(\"Student exercise: need to compute mean and variance\")\n",
    "##############################################################################\n",
    "\n",
    "# Compute mean\n",
    "mu = ...\n",
    "\n",
    "# Compute variance\n",
    "var = ...\n",
    "\n",
    "# Visualize\n",
    "plot_mean_var_by_timestep(mu, var)"
   ]
  },
  {
   "cell_type": "markdown",
   "metadata": {
    "colab_type": "text",
    "execution": {}
   },
   "source": [
    "[*Click for solution*](https://github.com/NeuromatchAcademy/course-content/tree/main//tutorials/W2D2_LinearSystems/solutions/W2D2_Tutorial3_Solution_796a6346.py)\n",
    "\n",
    "*Example output:*\n",
    "\n",
    "<img alt='Solution hint' align='left' width=832.0 height=544.0 src=https://raw.githubusercontent.com/NeuromatchAcademy/course-content/main/tutorials/W2D2_LinearSystems/static/W2D2_Tutorial3_Solution_796a6346_0.png>\n",
    "\n"
   ]
  },
  {
   "cell_type": "markdown",
   "metadata": {
    "execution": {}
   },
   "source": [
    "The expected value of $x$ stays close to 0, even for random walks of very long time. Cool!\n",
    "\n",
    "The variance, on the other hand, clearly increases with time. In fact, the variance seems to increase linearly with time!"
   ]
  },
  {
   "cell_type": "markdown",
   "metadata": {
    "execution": {}
   },
   "source": [
    "## Interactive Demo 1: Influence of Parameter Choice\n",
    "\n",
    " How do the parameters $\\mu$ and $\\sigma$ of the Gaussian distribution from which we choose the steps affect the mean and variance of the bacterium's random walk?"
   ]
  },
  {
   "cell_type": "markdown",
   "metadata": {},
   "source": [
    "### \n"
   ]
  },
  {
   "cell_type": "markdown",
   "metadata": {},
   "source": [
    " Make sure you execute this cell to enable the widget!\n"
   ]
  },
  {
   "cell_type": "code",
   "execution_count": 10,
   "metadata": {
    "cellView": "form",
    "execution": {
     "iopub.execute_input": "2023-04-17T16:53:38.821162Z",
     "iopub.status.busy": "2023-04-17T16:53:38.820937Z",
     "iopub.status.idle": "2023-04-17T16:53:38.885732Z",
     "shell.execute_reply": "2023-04-17T16:53:38.885157Z"
    },
    "tags": [
     "hide-input"
    ]
   },
   "outputs": [
    {
     "data": {
      "application/vnd.jupyter.widget-view+json": {
       "model_id": "ecc14d98811a49dfa6b068047de46bff",
       "version_major": 2,
       "version_minor": 0
      },
      "text/plain": [
       "interactive(children=(FloatSlider(value=0.0, description='mean', max=0.5, min=-0.5, step=0.02), FloatSlider(va…"
      ]
     },
     "metadata": {},
     "output_type": "display_data"
    }
   ],
   "source": [
    "# @title\n",
    "\n",
    "# @markdown Make sure you execute this cell to enable the widget!\n",
    "\n",
    "\n",
    "@widgets.interact\n",
    "def plot_gaussian(mean=(-0.5, 0.5, .02), std=(.5, 10, .5)):\n",
    "  sim = random_walk_simulator(5000, 1000, mu=mean, sigma=std)\n",
    "\n",
    "  # compute the mean and variance of trajectory positions at every time point\n",
    "  mu = np.mean(sim, axis=0)\n",
    "  var = np.var(sim, axis=0)\n",
    "\n",
    "  #  make a figure\n",
    "  fig, (ah1, ah2) = plt.subplots(2)\n",
    "\n",
    "  # plot mean of distribution as a function of time\n",
    "  ah1.plot(mu)\n",
    "  ah1.set(ylabel='mean')\n",
    "\n",
    "  # plot variance of distribution as a function of time\n",
    "  ah2.plot(var)\n",
    "  ah2.set(xlabel='time')\n",
    "  ah2.set(ylabel='variance')"
   ]
  },
  {
   "cell_type": "markdown",
   "metadata": {
    "colab_type": "text",
    "execution": {}
   },
   "source": [
    "[*Click for solution*](https://github.com/NeuromatchAcademy/course-content/tree/main//tutorials/W2D2_LinearSystems/solutions/W2D2_Tutorial3_Solution_57472c71.py)\n",
    "\n"
   ]
  },
  {
   "cell_type": "markdown",
   "metadata": {
    "execution": {}
   },
   "source": [
    "---\n",
    "# Section 2: The Ornstein-Uhlenbeck (OU) process\n",
    "\n",
    "*Estimated timing to here from start of tutorial: 14 min*"
   ]
  },
  {
   "cell_type": "markdown",
   "metadata": {},
   "source": [
    "##  Video 2: Combining Deterministic & Stochastic Processes\n"
   ]
  },
  {
   "cell_type": "code",
   "execution_count": 11,
   "metadata": {
    "cellView": "form",
    "execution": {
     "iopub.execute_input": "2023-04-17T16:53:38.889425Z",
     "iopub.status.busy": "2023-04-17T16:53:38.889206Z",
     "iopub.status.idle": "2023-04-17T16:53:38.921432Z",
     "shell.execute_reply": "2023-04-17T16:53:38.920756Z"
    },
    "tags": [
     "remove-input"
    ]
   },
   "outputs": [
    {
     "data": {
      "application/vnd.jupyter.widget-view+json": {
       "model_id": "dbf3b45972684c10a8a999dcedf9a6db",
       "version_major": 2,
       "version_minor": 0
      },
      "text/plain": [
       "Tab(children=(Output(), Output()), selected_index=0, titles=('Youtube', 'Bilibili'))"
      ]
     },
     "metadata": {},
     "output_type": "display_data"
    }
   ],
   "source": [
    "# @title Video 2: Combining Deterministic & Stochastic Processes\n",
    "from ipywidgets import widgets\n",
    "\n",
    "out2 = widgets.Output()\n",
    "with out2:\n",
    "  from IPython.display import IFrame\n",
    "  class BiliVideo(IFrame):\n",
    "      def __init__(self, id, page=1, width=400, height=300, **kwargs):\n",
    "          self.id=id\n",
    "          src = 'https://player.bilibili.com/player.html?bvid={0}&page={1}'.format(id, page)\n",
    "          super(BiliVideo, self).__init__(src, width, height, **kwargs)\n",
    "\n",
    "  video = BiliVideo(id=\"BV1o5411Y7N2\", width=730, height=410, fs=1)\n",
    "  print('Video available at https://www.bilibili.com/video/{0}'.format(video.id))\n",
    "  display(video)\n",
    "\n",
    "out1 = widgets.Output()\n",
    "with out1:\n",
    "  from IPython.display import YouTubeVideo\n",
    "  video = YouTubeVideo(id=\"pDNfs5p38fI\", width=730, height=410, fs=1, rel=0)\n",
    "  print('Video available at https://youtube.com/watch?v=' + video.id)\n",
    "  display(video)\n",
    "\n",
    "out = widgets.Tab([out1, out2])\n",
    "out.titles = ['Youtube', 'Bilibili']\n",
    "\n",
    "display(out)"
   ]
  },
  {
   "cell_type": "markdown",
   "metadata": {
    "execution": {}
   },
   "source": [
    "The random walk process we just explored is diffusive, and the distribution of possible trajectories _spreads_, taking on increasing variance with time. Even so, at least in one dimension, the mean remains close to the initial value (in the example above, 0).\n",
    "\n",
    "Our goal is now to build on this model to construct a **drift-diffusion** model (DDM). DDM is a popular model for memory, which as we all know, is often an exercise in hanging on to a value imperfectly. Decision-making and memory will be the topic for tomorrow, so here we build the mathematical foundations and develop some intuition for how such systems behave!"
   ]
  },
  {
   "cell_type": "markdown",
   "metadata": {
    "execution": {}
   },
   "source": [
    "To build such a model, let's combine the random walk model with the first differential equations we explored in Tutorial 1 earlier. Although those models had been written in continuous time as $\\dot{x} = a x$, here let's consider the discrete version of the same system and write:\n",
    "\n",
    "$x_{k+1} = \\lambda x_k$,\n",
    "\n",
    "whose solution can be written as\n",
    "\n",
    "$x_k = x_0 \\lambda^k$,\n",
    "\n",
    "where $x_0$ is the value of $x$ at time $t=0$.\n",
    "\n",
    "Now, let's simulate and plot the solution of the discrete version of our first differential equation from Tutorial 1 below. **Run the code below.**"
   ]
  },
  {
   "cell_type": "code",
   "execution_count": 12,
   "metadata": {
    "cellView": "both",
    "execution": {
     "iopub.execute_input": "2023-04-17T16:53:38.931965Z",
     "iopub.status.busy": "2023-04-17T16:53:38.931765Z",
     "iopub.status.idle": "2023-04-17T16:53:39.335301Z",
     "shell.execute_reply": "2023-04-17T16:53:39.334629Z"
    }
   },
   "outputs": [
    {
     "data": {
      "image/png": "[encoded data removed]",
      "text/plain": [
       "<Figure size 800x600 with 1 Axes>"
      ]
     },
     "metadata": {
      "image/png": {
       "height": 575,
       "width": 775
      }
     },
     "output_type": "display_data"
    }
   ],
   "source": [
    "# parameters\n",
    "lam = 0.9\n",
    "T = 100      # total Time duration in steps\n",
    "x0 = 4.     # initial condition of x at time 0\n",
    "\n",
    "# initialize variables\n",
    "t = np.arange(0, T, 1.)\n",
    "x = np.zeros_like(t)\n",
    "x[0] = x0\n",
    "\n",
    "# Step through in time\n",
    "for k in range(len(t)-1):\n",
    "  x[k+1] = lam * x[k]\n",
    "\n",
    "# plot x as it evolves in time\n",
    "plot_dynamics(x, t, lam)"
   ]
  },
  {
   "cell_type": "markdown",
   "metadata": {
    "execution": {}
   },
   "source": [
    "Notice that this process decays towards position $x=0$. We can make it decay towards any position by adding another parameter $x_\\infty$. The rate of decay is proportional to the difference between $x$ and $x_\\infty$. Our new system is\n",
    "\n",
    "\\begin{equation}\n",
    "x_{k+1} = x_\\infty + \\lambda(x_k - x_{\\infty})\n",
    "\\end{equation}\n",
    "\n",
    "We have to modify our analytic solution slightly to take this into account:\n",
    "\n",
    "\\begin{equation}\n",
    "x_k = x_\\infty(1 - \\lambda^k) + x_0 \\lambda^k.\n",
    "\\end{equation}\n",
    "\n",
    "Let's simulate and plot the dynamics of this process below. Hopefully, we see that it start at $x_0$ and decay towards $x_{\\infty}.$"
   ]
  },
  {
   "cell_type": "code",
   "execution_count": 13,
   "metadata": {
    "cellView": "both",
    "execution": {
     "iopub.execute_input": "2023-04-17T16:53:39.338509Z",
     "iopub.status.busy": "2023-04-17T16:53:39.338077Z",
     "iopub.status.idle": "2023-04-17T16:53:39.645905Z",
     "shell.execute_reply": "2023-04-17T16:53:39.645053Z"
    }
   },
   "outputs": [
    {
     "data": {
      "image/png": "[encoded data removed]",
      "text/plain": [
       "<Figure size 800x600 with 1 Axes>"
      ]
     },
     "metadata": {
      "image/png": {
       "height": 575,
       "width": 775
      }
     },
     "output_type": "display_data"
    }
   ],
   "source": [
    "# parameters\n",
    "lam = 0.9    # decay rate\n",
    "T = 100      # total Time duration in steps\n",
    "x0 = 4.      # initial condition of x at time 0\n",
    "xinfty = 1.  # x drifts towards this value in long time\n",
    "\n",
    "# initialize variables\n",
    "t = np.arange(0, T, 1.)\n",
    "x = np.zeros_like(t)\n",
    "x[0] = x0\n",
    "\n",
    "# Step through in time\n",
    "for k in range(len(t)-1):\n",
    "  x[k+1] = xinfty + lam * (x[k] - xinfty)\n",
    "\n",
    "# plot x as it evolves in time\n",
    "plot_dynamics(x, t, lam, xinfty)"
   ]
  },
  {
   "cell_type": "markdown",
   "metadata": {
    "execution": {}
   },
   "source": [
    "Now we are ready to take this basic, deterministic difference equation and add a diffusion process on top of it! Fun times in Python land.\n",
    "\n",
    "As a point of terminology: this type of process is commonly known as a **drift-diffusion model** or **Ornstein-Uhlenbeck (OU) process**. The model is a combination of a _drift_ term toward $x_{\\infty}$ and a _diffusion_ term that walks randomly. You may sometimes see them written as continuous stochastic differential equations, but here we are doing the discrete version to maintain continuity in the tutorial. The discrete version of our OU process has the following form:\n",
    "\n",
    "\\begin{equation}\n",
    "x_{k+1} = x_\\infty + \\lambda(x_k - x_{\\infty}) + \\sigma \\eta\n",
    "\\end{equation}\n",
    "\n",
    "where $\\eta$ is sampled from a standard normal distribution ($\\mu=0, \\sigma=1$). \n"
   ]
  },
  {
   "cell_type": "markdown",
   "metadata": {
    "execution": {}
   },
   "source": [
    "## Coding Exercise 2: Drift-diffusion model\n",
    "\n",
    "Modify the code below so that each step through time has a _deterministic_ part (_hint_: exactly like the code above) plus a _random, diffusive_ part that is drawn from from a normal distribution with standard deviation of $\\sigma$ (sig in the code). It will plot the dynamics of this process."
   ]
  },
  {
   "cell_type": "code",
   "execution_count": 14,
   "metadata": {
    "execution": {
     "iopub.execute_input": "2023-04-17T16:53:39.649397Z",
     "iopub.status.busy": "2023-04-17T16:53:39.648859Z",
     "iopub.status.idle": "2023-04-17T16:53:39.680923Z",
     "shell.execute_reply": "2023-04-17T16:53:39.680237Z"
    }
   },
   "outputs": [
    {
     "ename": "NotImplementedError",
     "evalue": "Student exercise: need to implement simulation",
     "output_type": "error",
     "traceback": [
      "\u001b[0;31m---------------------------------------------------------------------------\u001b[0m",
      "\u001b[0;31mNotImplementedError\u001b[0m                       Traceback (most recent call last)",
      "Cell \u001b[0;32mIn[14], line 42\u001b[0m\n\u001b[1;32m     40\u001b[0m \u001b[38;5;66;03m# Plot x as it evolves in time\u001b[39;00m\n\u001b[1;32m     41\u001b[0m np\u001b[38;5;241m.\u001b[39mrandom\u001b[38;5;241m.\u001b[39mseed(\u001b[38;5;241m2020\u001b[39m)\n\u001b[0;32m---> 42\u001b[0m t, x \u001b[38;5;241m=\u001b[39m \u001b[43msimulate_ddm\u001b[49m\u001b[43m(\u001b[49m\u001b[43mlam\u001b[49m\u001b[43m,\u001b[49m\u001b[43m \u001b[49m\u001b[43msig\u001b[49m\u001b[43m,\u001b[49m\u001b[43m \u001b[49m\u001b[43mx0\u001b[49m\u001b[43m,\u001b[49m\u001b[43m \u001b[49m\u001b[43mxinfty\u001b[49m\u001b[43m,\u001b[49m\u001b[43m \u001b[49m\u001b[43mT\u001b[49m\u001b[43m)\u001b[49m\n\u001b[1;32m     43\u001b[0m plot_ddm(t, x, xinfty, lam, x0)\n",
      "Cell \u001b[0;32mIn[14], line 24\u001b[0m, in \u001b[0;36msimulate_ddm\u001b[0;34m(lam, sig, x0, xinfty, T)\u001b[0m\n\u001b[1;32m     20\u001b[0m \u001b[38;5;66;03m# Step through in time\u001b[39;00m\n\u001b[1;32m     21\u001b[0m \u001b[38;5;28;01mfor\u001b[39;00m k \u001b[38;5;129;01min\u001b[39;00m \u001b[38;5;28mrange\u001b[39m(\u001b[38;5;28mlen\u001b[39m(t)\u001b[38;5;241m-\u001b[39m\u001b[38;5;241m1\u001b[39m):\n\u001b[1;32m     22\u001b[0m   \u001b[38;5;66;03m##############################################################################\u001b[39;00m\n\u001b[1;32m     23\u001b[0m   \u001b[38;5;66;03m## TODO: Insert your code below then remove\u001b[39;00m\n\u001b[0;32m---> 24\u001b[0m   \u001b[38;5;28;01mraise\u001b[39;00m \u001b[38;5;167;01mNotImplementedError\u001b[39;00m(\u001b[38;5;124m\"\u001b[39m\u001b[38;5;124mStudent exercise: need to implement simulation\u001b[39m\u001b[38;5;124m\"\u001b[39m)\n\u001b[1;32m     25\u001b[0m   \u001b[38;5;66;03m##############################################################################\u001b[39;00m\n\u001b[1;32m     26\u001b[0m   \u001b[38;5;66;03m# update x at time k+1 with a deterministic and a stochastic component\u001b[39;00m\n\u001b[1;32m     27\u001b[0m   \u001b[38;5;66;03m# hint: the deterministic component will be like above, and\u001b[39;00m\n\u001b[1;32m     28\u001b[0m   \u001b[38;5;66;03m#   the stochastic component is drawn from a scaled normal distribution\u001b[39;00m\n\u001b[1;32m     29\u001b[0m   x[k\u001b[38;5;241m+\u001b[39m\u001b[38;5;241m1\u001b[39m] \u001b[38;5;241m=\u001b[39m \u001b[38;5;241m.\u001b[39m\u001b[38;5;241m.\u001b[39m\u001b[38;5;241m.\u001b[39m\n",
      "\u001b[0;31mNotImplementedError\u001b[0m: Student exercise: need to implement simulation"
     ]
    }
   ],
   "source": [
    "def simulate_ddm(lam, sig, x0, xinfty, T):\n",
    "  \"\"\"\n",
    "  Simulate the drift-diffusion model with given parameters and initial condition.\n",
    "  Args:\n",
    "    lam (scalar): decay rate\n",
    "    sig (scalar): standard deviation of normal distribution\n",
    "    x0 (scalar): initial condition (x at time 0)\n",
    "    xinfty (scalar): drift towards convergence in the limit\n",
    "    T (scalar): total duration of the simulation (in steps)\n",
    "\n",
    "  Returns:\n",
    "    ndarray, ndarray: `x` for all simulation steps and the time `t` at each step\n",
    "  \"\"\"\n",
    "\n",
    "  # initialize variables\n",
    "  t = np.arange(0, T, 1.)\n",
    "  x = np.zeros_like(t)\n",
    "  x[0] = x0\n",
    "\n",
    "  # Step through in time\n",
    "  for k in range(len(t)-1):\n",
    "    ##############################################################################\n",
    "    ## TODO: Insert your code below then remove\n",
    "    raise NotImplementedError(\"Student exercise: need to implement simulation\")\n",
    "    ##############################################################################\n",
    "    # update x at time k+1 with a deterministic and a stochastic component\n",
    "    # hint: the deterministic component will be like above, and\n",
    "    #   the stochastic component is drawn from a scaled normal distribution\n",
    "    x[k+1] = ...\n",
    "\n",
    "  return t, x\n",
    "\n",
    "\n",
    "lam = 0.9    # decay rate\n",
    "sig = 0.1   # standard deviation of diffusive process\n",
    "T = 500      # total Time duration in steps\n",
    "x0 = 4.      # initial condition of x at time 0\n",
    "xinfty = 1.  # x drifts towards this value in long time\n",
    "\n",
    "# Plot x as it evolves in time\n",
    "np.random.seed(2020)\n",
    "t, x = simulate_ddm(lam, sig, x0, xinfty, T)\n",
    "plot_ddm(t, x, xinfty, lam, x0)"
   ]
  },
  {
   "cell_type": "markdown",
   "metadata": {
    "colab_type": "text",
    "execution": {}
   },
   "source": [
    "[*Click for solution*](https://github.com/NeuromatchAcademy/course-content/tree/main//tutorials/W2D2_LinearSystems/solutions/W2D2_Tutorial3_Solution_48874ea8.py)\n",
    "\n",
    "*Example output:*\n",
    "\n",
    "<img alt='Solution hint' align='left' width=832.0 height=544.0 src=https://raw.githubusercontent.com/NeuromatchAcademy/course-content/main/tutorials/W2D2_LinearSystems/static/W2D2_Tutorial3_Solution_48874ea8_0.png>\n",
    "\n"
   ]
  },
  {
   "cell_type": "markdown",
   "metadata": {
    "execution": {}
   },
   "source": [
    "## Think! 2: Drift-Diffusion Simulation Observations\n",
    "\n",
    "Describe the behavior of your simulation by making some observations. How does it compare to the deterministic solution? How does it behave in the beginning of the stimulation? At the end?"
   ]
  },
  {
   "cell_type": "markdown",
   "metadata": {
    "colab_type": "text",
    "execution": {}
   },
   "source": [
    "[*Click for solution*](https://github.com/NeuromatchAcademy/course-content/tree/main//tutorials/W2D2_LinearSystems/solutions/W2D2_Tutorial3_Solution_301f6f83.py)\n",
    "\n"
   ]
  },
  {
   "cell_type": "markdown",
   "metadata": {
    "execution": {}
   },
   "source": [
    "---\n",
    "# Section 3: Variance of the OU process\n",
    "\n",
    "*Estimated timing to here from start of tutorial: 35 min*\n"
   ]
  },
  {
   "cell_type": "markdown",
   "metadata": {},
   "source": [
    "##  Video 3: Balance of Variances\n"
   ]
  },
  {
   "cell_type": "code",
   "execution_count": 15,
   "metadata": {
    "cellView": "form",
    "execution": {
     "iopub.execute_input": "2023-04-17T16:53:39.683941Z",
     "iopub.status.busy": "2023-04-17T16:53:39.683368Z",
     "iopub.status.idle": "2023-04-17T16:53:39.791309Z",
     "shell.execute_reply": "2023-04-17T16:53:39.790688Z"
    },
    "tags": [
     "remove-input"
    ]
   },
   "outputs": [
    {
     "data": {
      "application/vnd.jupyter.widget-view+json": {
       "model_id": "504058a7d2554f428dcdc620f11385db",
       "version_major": 2,
       "version_minor": 0
      },
      "text/plain": [
       "Tab(children=(Output(), Output()), selected_index=0, titles=('Youtube', 'Bilibili'))"
      ]
     },
     "metadata": {},
     "output_type": "display_data"
    }
   ],
   "source": [
    "# @title Video 3: Balance of Variances\n",
    "from ipywidgets import widgets\n",
    "\n",
    "out2 = widgets.Output()\n",
    "with out2:\n",
    "  from IPython.display import IFrame\n",
    "  class BiliVideo(IFrame):\n",
    "      def __init__(self, id, page=1, width=400, height=300, **kwargs):\n",
    "          self.id=id\n",
    "          src = 'https://player.bilibili.com/player.html?bvid={0}&page={1}'.format(id, page)\n",
    "          super(BiliVideo, self).__init__(src, width, height, **kwargs)\n",
    "\n",
    "  video = BiliVideo(id=\"BV15f4y1R7PU\", width=730, height=410, fs=1)\n",
    "  print('Video available at https://www.bilibili.com/video/{0}'.format(video.id))\n",
    "  display(video)\n",
    "\n",
    "out1 = widgets.Output()\n",
    "with out1:\n",
    "  from IPython.display import YouTubeVideo\n",
    "  video = YouTubeVideo(id=\"49A-3kftau0\", width=730, height=410, fs=1, rel=0)\n",
    "  print('Video available at https://youtube.com/watch?v=' + video.id)\n",
    "  display(video)\n",
    "\n",
    "out = widgets.Tab([out1, out2])\n",
    "out.titles = ['Youtube', 'Bilibili']\n",
    "\n",
    "display(out)"
   ]
  },
  {
   "cell_type": "markdown",
   "metadata": {
    "execution": {}
   },
   "source": [
    "As we can see, the **mean** of the process follows the solution to the deterministic part of the governing equation. So far, so good!\n",
    "\n",
    "But what about the **variance**? \n",
    "\n",
    "Unlike the random walk, because there's a decay process that \"pulls\" $x$ back towards $x_\\infty$, the variance does not grow without bound with large $t$. Instead, when it gets far from $x_\\infty$, the position of $x$ is restored, until an equilibrium is reached.\n",
    "\n",
    "The equilibrium variance for our drift-diffusion system is\n",
    "\n",
    "\\begin{equation}\n",
    "\\text{Var} = \\frac{\\sigma^2}{1 - \\lambda^2}.\n",
    "\\end{equation}\n",
    "\n",
    "Notice that the value of this equilibrium variance depends on $\\lambda$ and $\\sigma$. It does not depend on $x_0$ and $x_\\infty$."
   ]
  },
  {
   "cell_type": "markdown",
   "metadata": {
    "execution": {}
   },
   "source": [
    "To convince ourselves that things are behaving sensibly, let's compare the empirical variances of the equilibrium solution to the OU equations with the expected formula.\n",
    "\n"
   ]
  },
  {
   "cell_type": "markdown",
   "metadata": {
    "execution": {}
   },
   "source": [
    "## Coding Exercise 3: Computing the variances empirically\n",
    "\n",
    "Write code to compute the analytical variance: $\\text{Var} = \\frac{\\sigma^2}{1 - \\lambda^2}$, and compare against the empirical variances (which is already provided for you using the helper function). You should see that they should be about equal to each other and lie close to the 45 degree ($y=x$) line. "
   ]
  },
  {
   "cell_type": "code",
   "execution_count": 16,
   "metadata": {
    "cellView": "code",
    "execution": {
     "iopub.execute_input": "2023-04-17T16:53:39.802722Z",
     "iopub.status.busy": "2023-04-17T16:53:39.802522Z",
     "iopub.status.idle": "2023-04-17T16:53:41.772443Z",
     "shell.execute_reply": "2023-04-17T16:53:41.771145Z"
    }
   },
   "outputs": [
    {
     "ename": "NotImplementedError",
     "evalue": "Student exercise: need to compute variances",
     "output_type": "error",
     "traceback": [
      "\u001b[0;31m---------------------------------------------------------------------------\u001b[0m",
      "\u001b[0;31mNotImplementedError\u001b[0m                       Traceback (most recent call last)",
      "Cell \u001b[0;32mIn[16], line 37\u001b[0m\n\u001b[1;32m     33\u001b[0m   empirical_variances[i] \u001b[38;5;241m=\u001b[39m ddm_eq_var(\u001b[38;5;241m5000\u001b[39m, x0, xinfty, lambdas[i], sig)\n\u001b[1;32m     35\u001b[0m \u001b[38;5;66;03m##############################################################################\u001b[39;00m\n\u001b[1;32m     36\u001b[0m \u001b[38;5;66;03m## Insert your code below to calculate the analytical variances\u001b[39;00m\n\u001b[0;32m---> 37\u001b[0m \u001b[38;5;28;01mraise\u001b[39;00m \u001b[38;5;167;01mNotImplementedError\u001b[39;00m(\u001b[38;5;124m\"\u001b[39m\u001b[38;5;124mStudent exercise: need to compute variances\u001b[39m\u001b[38;5;124m\"\u001b[39m)\n\u001b[1;32m     38\u001b[0m \u001b[38;5;66;03m##############################################################################\u001b[39;00m\n\u001b[1;32m     39\u001b[0m \n\u001b[1;32m     40\u001b[0m \u001b[38;5;66;03m# Hint: you can also do this in one line outside the loop!\u001b[39;00m\n\u001b[1;32m     41\u001b[0m analytical_variances \u001b[38;5;241m=\u001b[39m \u001b[38;5;241m.\u001b[39m\u001b[38;5;241m.\u001b[39m\u001b[38;5;241m.\u001b[39m\n",
      "\u001b[0;31mNotImplementedError\u001b[0m: Student exercise: need to compute variances"
     ]
    }
   ],
   "source": [
    "def ddm(T, x0, xinfty, lam, sig):\n",
    "  t = np.arange(0, T, 1.)\n",
    "  x = np.zeros_like(t)\n",
    "  x[0] = x0\n",
    "\n",
    "  for k in range(len(t)-1):\n",
    "    x[k+1] = xinfty + lam * (x[k] - xinfty) + sig * np.random.standard_normal(size=1)\n",
    "\n",
    "  return t, x\n",
    "\n",
    "\n",
    "# computes equilibrium variance of ddm\n",
    "# returns variance\n",
    "def ddm_eq_var(T, x0, xinfty, lam, sig):\n",
    "  t, x = ddm(T, x0, xinfty, lam, sig)\n",
    "\n",
    "  # returns variance of the second half of the simulation\n",
    "  # this is a hack: assumes system has settled by second half\n",
    "  return x[-round(T/2):].var()\n",
    "\n",
    "\n",
    "np.random.seed(2020) # set random seed\n",
    "\n",
    "# sweep through values for lambda\n",
    "lambdas = np.arange(0.05, 0.95, 0.01)\n",
    "empirical_variances = np.zeros_like(lambdas)\n",
    "analytical_variances = np.zeros_like(lambdas)\n",
    "\n",
    "sig = 0.87\n",
    "\n",
    "# compute empirical equilibrium variance\n",
    "for i, lam in enumerate(lambdas):\n",
    "  empirical_variances[i] = ddm_eq_var(5000, x0, xinfty, lambdas[i], sig)\n",
    "\n",
    "##############################################################################\n",
    "## Insert your code below to calculate the analytical variances\n",
    "raise NotImplementedError(\"Student exercise: need to compute variances\")\n",
    "##############################################################################\n",
    "\n",
    "# Hint: you can also do this in one line outside the loop!\n",
    "analytical_variances = ...\n",
    "\n",
    "# Plot the empirical variance vs analytical variance\n",
    "var_comparison_plot(empirical_variances, analytical_variances)"
   ]
  },
  {
   "cell_type": "markdown",
   "metadata": {
    "colab_type": "text",
    "execution": {}
   },
   "source": [
    "[*Click for solution*](https://github.com/NeuromatchAcademy/course-content/tree/main//tutorials/W2D2_LinearSystems/solutions/W2D2_Tutorial3_Solution_d35fe99c.py)\n",
    "\n",
    "*Example output:*\n",
    "\n",
    "<img alt='Solution hint' align='left' width=832.0 height=544.0 src=https://raw.githubusercontent.com/NeuromatchAcademy/course-content/main/tutorials/W2D2_LinearSystems/static/W2D2_Tutorial3_Solution_d35fe99c_0.png>\n",
    "\n"
   ]
  },
  {
   "cell_type": "markdown",
   "metadata": {
    "execution": {}
   },
   "source": [
    "---\n",
    "# Summary\n",
    "\n",
    "*Estimated timing of tutorial: 45 minutes*\n",
    "\n",
    "In this tutorial, we have built and observed OU systems, which have both deterministic and stochastic parts. We see that they behave, on average, similar to our expectations from analyzing deterministic dynamical systems. \n",
    "\n",
    "Importantly, **the interplay between the deterministic and stochastic parts** serve to _balance_ the tendency of purely stochastic processes (like the random walk) to increase in variance over time. This behavior is one of the properties of OU systems that make them popular choices for modeling cognitive functions, including short-term memory and decision-making."
   ]
  }
 ],
 "metadata": {
  "colab": {
   "collapsed_sections": [],
   "include_colab_link": true,
   "name": "W2D2_Tutorial3",
   "provenance": [],
   "toc_visible": true
  },
  "kernel": {
   "display_name": "Python 3",
   "language": "python",
   "name": "python3"
  },
  "kernelspec": {
   "display_name": "Python 3",
   "name": "python3"
  },
  "language_info": {
   "codemirror_mode": {
    "name": "ipython",
    "version": 3
   },
   "file_extension": ".py",
   "mimetype": "text/x-python",
   "name": "python",
   "nbconvert_exporter": "python",
   "pygments_lexer": "ipython3",
   "version": "3.11.3"
  },
  "widgets": {
   "application/vnd.jupyter.widget-state+json": {
    "state": {
     "024f0cabc23f43d19d6ff4d30b437fc2": {
      "model_module": "@jupyter-widgets/output",
      "model_module_version": "1.0.0",
      "model_name": "OutputModel",
      "state": {
       "_dom_classes": [],
       "_model_module": "@jupyter-widgets/output",
       "_model_module_version": "1.0.0",
       "_model_name": "OutputModel",
       "_view_count": null,
       "_view_module": "@jupyter-widgets/output",
       "_view_module_version": "1.0.0",
       "_view_name": "OutputView",
       "layout": "IPY_MODEL_1f3ce5df93ff4bb0b41d636fb8569989",
       "msg_id": "",
       "outputs": [
        {
         "name": "stdout",
         "output_type": "stream",
         "text": "Video available at https://youtube.com/watch?v=VHwTBCQJjfw\n"
        },
        {
         "data": {
          "image/jpeg": "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\n",
          "text/html": "\n        <iframe\n            width=\"730\"\n            height=\"410\"\n            src=\"https://www.youtube.com/embed/VHwTBCQJjfw?fs=1&rel=0\"\n            frameborder=\"0\"\n            allowfullscreen\n            \n        ></iframe>\n        ",
          "text/plain": "<IPython.lib.display.YouTubeVideo at 0x7f8388283490>"
         },
         "metadata": {},
         "output_type": "display_data"
        }
       ],
       "tabbable": null,
       "tooltip": null
      }
     },
     "09ee9cbdd4c445989ed99ac67e4841dc": {
      "model_module": "@jupyter-widgets/controls",
      "model_module_version": "2.0.0",
      "model_name": "FloatSliderModel",
      "state": {
       "_dom_classes": [],
       "_model_module": "@jupyter-widgets/controls",
       "_model_module_version": "2.0.0",
       "_model_name": "FloatSliderModel",
       "_view_count": null,
       "_view_module": "@jupyter-widgets/controls",
       "_view_module_version": "2.0.0",
       "_view_name": "FloatSliderView",
       "behavior": "drag-tap",
       "continuous_update": true,
       "description": "std",
       "description_allow_html": false,
       "disabled": false,
       "layout": "IPY_MODEL_1ce0b5d9c7f14733a0b529fa047531f4",
       "max": 10.0,
       "min": 0.5,
       "orientation": "horizontal",
       "readout": true,
       "readout_format": ".2f",
       "step": 0.5,
       "style": "IPY_MODEL_deb593a09ff848529d31f4ba5d7cfb37",
       "tabbable": null,
       "tooltip": null,
       "value": 5.0
      }
     },
     "1ce0b5d9c7f14733a0b529fa047531f4": {
      "model_module": "@jupyter-widgets/base",
      "model_module_version": "2.0.0",
      "model_name": "LayoutModel",
      "state": {
       "_model_module": "@jupyter-widgets/base",
       "_model_module_version": "2.0.0",
       "_model_name": "LayoutModel",
       "_view_count": null,
       "_view_module": "@jupyter-widgets/base",
       "_view_module_version": "2.0.0",
       "_view_name": "LayoutView",
       "align_content": null,
       "align_items": null,
       "align_self": null,
       "border_bottom": null,
       "border_left": null,
       "border_right": null,
       "border_top": null,
       "bottom": null,
       "display": null,
       "flex": null,
       "flex_flow": null,
       "grid_area": null,
       "grid_auto_columns": null,
       "grid_auto_flow": null,
       "grid_auto_rows": null,
       "grid_column": null,
       "grid_gap": null,
       "grid_row": null,
       "grid_template_areas": null,
       "grid_template_columns": null,
       "grid_template_rows": null,
       "height": null,
       "justify_content": null,
       "justify_items": null,
       "left": null,
       "margin": null,
       "max_height": null,
       "max_width": null,
       "min_height": null,
       "min_width": null,
       "object_fit": null,
       "object_position": null,
       "order": null,
       "overflow": null,
       "padding": null,
       "right": null,
       "top": null,
       "visibility": null,
       "width": null
      }
     },
     "1ec0d90fadf54eaa92dd1db7413e3f28": {
      "model_module": "@jupyter-widgets/output",
      "model_module_version": "1.0.0",
      "model_name": "OutputModel",
      "state": {
       "_dom_classes": [],
       "_model_module": "@jupyter-widgets/output",
       "_model_module_version": "1.0.0",
       "_model_name": "OutputModel",
       "_view_count": null,
       "_view_module": "@jupyter-widgets/output",
       "_view_module_version": "1.0.0",
       "_view_name": "OutputView",
       "layout": "IPY_MODEL_371367478b7c462e9ce24718b93a39ff",
       "msg_id": "",
       "outputs": [
        {
         "name": "stdout",
         "output_type": "stream",
         "text": "Video available at https://www.bilibili.com/video/BV1o5411Y7N2\n"
        },
        {
         "data": {
          "text/html": "\n        <iframe\n            width=\"730\"\n            height=\"410\"\n            src=\"https://player.bilibili.com/player.html?bvid=BV1o5411Y7N2&page=1?fs=1\"\n            frameborder=\"0\"\n            allowfullscreen\n            \n        ></iframe>\n        ",
          "text/plain": "<__main__.BiliVideo at 0x7f838810a950>"
         },
         "metadata": {},
         "output_type": "display_data"
        }
       ],
       "tabbable": null,
       "tooltip": null
      }
     },
     "1f3ce5df93ff4bb0b41d636fb8569989": {
      "model_module": "@jupyter-widgets/base",
      "model_module_version": "2.0.0",
      "model_name": "LayoutModel",
      "state": {
       "_model_module": "@jupyter-widgets/base",
       "_model_module_version": "2.0.0",
       "_model_name": "LayoutModel",
       "_view_count": null,
       "_view_module": "@jupyter-widgets/base",
       "_view_module_version": "2.0.0",
       "_view_name": "LayoutView",
       "align_content": null,
       "align_items": null,
       "align_self": null,
       "border_bottom": null,
       "border_left": null,
       "border_right": null,
       "border_top": null,
       "bottom": null,
       "display": null,
       "flex": null,
       "flex_flow": null,
       "grid_area": null,
       "grid_auto_columns": null,
       "grid_auto_flow": null,
       "grid_auto_rows": null,
       "grid_column": null,
       "grid_gap": null,
       "grid_row": null,
       "grid_template_areas": null,
       "grid_template_columns": null,
       "grid_template_rows": null,
       "height": null,
       "justify_content": null,
       "justify_items": null,
       "left": null,
       "margin": null,
       "max_height": null,
       "max_width": null,
       "min_height": null,
       "min_width": null,
       "object_fit": null,
       "object_position": null,
       "order": null,
       "overflow": null,
       "padding": null,
       "right": null,
       "top": null,
       "visibility": null,
       "width": null
      }
     },
     "23e701bee17f480d8d27a5ffd78ed213": {
      "model_module": "@jupyter-widgets/base",
      "model_module_version": "2.0.0",
      "model_name": "LayoutModel",
      "state": {
       "_model_module": "@jupyter-widgets/base",
       "_model_module_version": "2.0.0",
       "_model_name": "LayoutModel",
       "_view_count": null,
       "_view_module": "@jupyter-widgets/base",
       "_view_module_version": "2.0.0",
       "_view_name": "LayoutView",
       "align_content": null,
       "align_items": null,
       "align_self": null,
       "border_bottom": null,
       "border_left": null,
       "border_right": null,
       "border_top": null,
       "bottom": null,
       "display": null,
       "flex": null,
       "flex_flow": null,
       "grid_area": null,
       "grid_auto_columns": null,
       "grid_auto_flow": null,
       "grid_auto_rows": null,
       "grid_column": null,
       "grid_gap": null,
       "grid_row": null,
       "grid_template_areas": null,
       "grid_template_columns": null,
       "grid_template_rows": null,
       "height": null,
       "justify_content": null,
       "justify_items": null,
       "left": null,
       "margin": null,
       "max_height": null,
       "max_width": null,
       "min_height": null,
       "min_width": null,
       "object_fit": null,
       "object_position": null,
       "order": null,
       "overflow": null,
       "padding": null,
       "right": null,
       "top": null,
       "visibility": null,
       "width": null
      }
     },
     "31c2c57a2e2c4de696572924ee529a41": {
      "model_module": "@jupyter-widgets/controls",
      "model_module_version": "2.0.0",
      "model_name": "SliderStyleModel",
      "state": {
       "_model_module": "@jupyter-widgets/controls",
       "_model_module_version": "2.0.0",
       "_model_name": "SliderStyleModel",
       "_view_count": null,
       "_view_module": "@jupyter-widgets/base",
       "_view_module_version": "2.0.0",
       "_view_name": "StyleView",
       "description_width": "",
       "handle_color": null
      }
     },
     "34f45f030fb043959b31290aa9c156cb": {
      "model_module": "@jupyter-widgets/base",
      "model_module_version": "2.0.0",
      "model_name": "LayoutModel",
      "state": {
       "_model_module": "@jupyter-widgets/base",
       "_model_module_version": "2.0.0",
       "_model_name": "LayoutModel",
       "_view_count": null,
       "_view_module": "@jupyter-widgets/base",
       "_view_module_version": "2.0.0",
       "_view_name": "LayoutView",
       "align_content": null,
       "align_items": null,
       "align_self": null,
       "border_bottom": null,
       "border_left": null,
       "border_right": null,
       "border_top": null,
       "bottom": null,
       "display": null,
       "flex": null,
       "flex_flow": null,
       "grid_area": null,
       "grid_auto_columns": null,
       "grid_auto_flow": null,
       "grid_auto_rows": null,
       "grid_column": null,
       "grid_gap": null,
       "grid_row": null,
       "grid_template_areas": null,
       "grid_template_columns": null,
       "grid_template_rows": null,
       "height": null,
       "justify_content": null,
       "justify_items": null,
       "left": null,
       "margin": null,
       "max_height": null,
       "max_width": null,
       "min_height": null,
       "min_width": null,
       "object_fit": null,
       "object_position": null,
       "order": null,
       "overflow": null,
       "padding": null,
       "right": null,
       "top": null,
       "visibility": null,
       "width": null
      }
     },
     "3525c9ce113c4505bfb360feaf76a650": {
      "model_module": "@jupyter-widgets/base",
      "model_module_version": "2.0.0",
      "model_name": "LayoutModel",
      "state": {
       "_model_module": "@jupyter-widgets/base",
       "_model_module_version": "2.0.0",
       "_model_name": "LayoutModel",
       "_view_count": null,
       "_view_module": "@jupyter-widgets/base",
       "_view_module_version": "2.0.0",
       "_view_name": "LayoutView",
       "align_content": null,
       "align_items": null,
       "align_self": null,
       "border_bottom": null,
       "border_left": null,
       "border_right": null,
       "border_top": null,
       "bottom": null,
       "display": null,
       "flex": null,
       "flex_flow": null,
       "grid_area": null,
       "grid_auto_columns": null,
       "grid_auto_flow": null,
       "grid_auto_rows": null,
       "grid_column": null,
       "grid_gap": null,
       "grid_row": null,
       "grid_template_areas": null,
       "grid_template_columns": null,
       "grid_template_rows": null,
       "height": null,
       "justify_content": null,
       "justify_items": null,
       "left": null,
       "margin": null,
       "max_height": null,
       "max_width": null,
       "min_height": null,
       "min_width": null,
       "object_fit": null,
       "object_position": null,
       "order": null,
       "overflow": null,
       "padding": null,
       "right": null,
       "top": null,
       "visibility": null,
       "width": null
      }
     },
     "371367478b7c462e9ce24718b93a39ff": {
      "model_module": "@jupyter-widgets/base",
      "model_module_version": "2.0.0",
      "model_name": "LayoutModel",
      "state": {
       "_model_module": "@jupyter-widgets/base",
       "_model_module_version": "2.0.0",
       "_model_name": "LayoutModel",
       "_view_count": null,
       "_view_module": "@jupyter-widgets/base",
       "_view_module_version": "2.0.0",
       "_view_name": "LayoutView",
       "align_content": null,
       "align_items": null,
       "align_self": null,
       "border_bottom": null,
       "border_left": null,
       "border_right": null,
       "border_top": null,
       "bottom": null,
       "display": null,
       "flex": null,
       "flex_flow": null,
       "grid_area": null,
       "grid_auto_columns": null,
       "grid_auto_flow": null,
       "grid_auto_rows": null,
       "grid_column": null,
       "grid_gap": null,
       "grid_row": null,
       "grid_template_areas": null,
       "grid_template_columns": null,
       "grid_template_rows": null,
       "height": null,
       "justify_content": null,
       "justify_items": null,
       "left": null,
       "margin": null,
       "max_height": null,
       "max_width": null,
       "min_height": null,
       "min_width": null,
       "object_fit": null,
       "object_position": null,
       "order": null,
       "overflow": null,
       "padding": null,
       "right": null,
       "top": null,
       "visibility": null,
       "width": null
      }
     },
     "381761c8d00f4e1eba89a0126fab1132": {
      "model_module": "@jupyter-widgets/base",
      "model_module_version": "2.0.0",
      "model_name": "LayoutModel",
      "state": {
       "_model_module": "@jupyter-widgets/base",
       "_model_module_version": "2.0.0",
       "_model_name": "LayoutModel",
       "_view_count": null,
       "_view_module": "@jupyter-widgets/base",
       "_view_module_version": "2.0.0",
       "_view_name": "LayoutView",
       "align_content": null,
       "align_items": null,
       "align_self": null,
       "border_bottom": null,
       "border_left": null,
       "border_right": null,
       "border_top": null,
       "bottom": null,
       "display": null,
       "flex": null,
       "flex_flow": null,
       "grid_area": null,
       "grid_auto_columns": null,
       "grid_auto_flow": null,
       "grid_auto_rows": null,
       "grid_column": null,
       "grid_gap": null,
       "grid_row": null,
       "grid_template_areas": null,
       "grid_template_columns": null,
       "grid_template_rows": null,
       "height": null,
       "justify_content": null,
       "justify_items": null,
       "left": null,
       "margin": null,
       "max_height": null,
       "max_width": null,
       "min_height": null,
       "min_width": null,
       "object_fit": null,
       "object_position": null,
       "order": null,
       "overflow": null,
       "padding": null,
       "right": null,
       "top": null,
       "visibility": null,
       "width": null
      }
     },
     "3dbefd0d0f1b41d8a05683ff3102b35c": {
      "model_module": "@jupyter-widgets/base",
      "model_module_version": "2.0.0",
      "model_name": "LayoutModel",
      "state": {
       "_model_module": "@jupyter-widgets/base",
       "_model_module_version": "2.0.0",
       "_model_name": "LayoutModel",
       "_view_count": null,
       "_view_module": "@jupyter-widgets/base",
       "_view_module_version": "2.0.0",
       "_view_name": "LayoutView",
       "align_content": null,
       "align_items": null,
       "align_self": null,
       "border_bottom": null,
       "border_left": null,
       "border_right": null,
       "border_top": null,
       "bottom": null,
       "display": null,
       "flex": null,
       "flex_flow": null,
       "grid_area": null,
       "grid_auto_columns": null,
       "grid_auto_flow": null,
       "grid_auto_rows": null,
       "grid_column": null,
       "grid_gap": null,
       "grid_row": null,
       "grid_template_areas": null,
       "grid_template_columns": null,
       "grid_template_rows": null,
       "height": null,
       "justify_content": null,
       "justify_items": null,
       "left": null,
       "margin": null,
       "max_height": null,
       "max_width": null,
       "min_height": null,
       "min_width": null,
       "object_fit": null,
       "object_position": null,
       "order": null,
       "overflow": null,
       "padding": null,
       "right": null,
       "top": null,
       "visibility": null,
       "width": null
      }
     },
     "4f23b2cee94c413fa317b4a92d32f908": {
      "model_module": "@jupyter-widgets/controls",
      "model_module_version": "2.0.0",
      "model_name": "TabModel",
      "state": {
       "_dom_classes": [],
       "_model_module": "@jupyter-widgets/controls",
       "_model_module_version": "2.0.0",
       "_model_name": "TabModel",
       "_view_count": null,
       "_view_module": "@jupyter-widgets/controls",
       "_view_module_version": "2.0.0",
       "_view_name": "TabView",
       "box_style": "",
       "children": [
        "IPY_MODEL_024f0cabc23f43d19d6ff4d30b437fc2",
        "IPY_MODEL_905c28a5cd184d23927f39662b62d40c"
       ],
       "layout": "IPY_MODEL_34f45f030fb043959b31290aa9c156cb",
       "selected_index": 0,
       "tabbable": null,
       "titles": [
        "Youtube",
        "Bilibili"
       ],
       "tooltip": null
      }
     },
     "504058a7d2554f428dcdc620f11385db": {
      "model_module": "@jupyter-widgets/controls",
      "model_module_version": "2.0.0",
      "model_name": "TabModel",
      "state": {
       "_dom_classes": [],
       "_model_module": "@jupyter-widgets/controls",
       "_model_module_version": "2.0.0",
       "_model_name": "TabModel",
       "_view_count": null,
       "_view_module": "@jupyter-widgets/controls",
       "_view_module_version": "2.0.0",
       "_view_name": "TabView",
       "box_style": "",
       "children": [
        "IPY_MODEL_559f2fe3ada44491b6247cb8c1afc5a2",
        "IPY_MODEL_a599a56f58544e0aad7fbd7bb93f16e0"
       ],
       "layout": "IPY_MODEL_6d5291ae3f5547e9b081b70a68c14f25",
       "selected_index": 0,
       "tabbable": null,
       "titles": [
        "Youtube",
        "Bilibili"
       ],
       "tooltip": null
      }
     },
     "55517a0d71ee40c8801e8d76e5c8799d": {
      "model_module": "@jupyter-widgets/controls",
      "model_module_version": "2.0.0",
      "model_name": "FloatSliderModel",
      "state": {
       "_dom_classes": [],
       "_model_module": "@jupyter-widgets/controls",
       "_model_module_version": "2.0.0",
       "_model_name": "FloatSliderModel",
       "_view_count": null,
       "_view_module": "@jupyter-widgets/controls",
       "_view_module_version": "2.0.0",
       "_view_name": "FloatSliderView",
       "behavior": "drag-tap",
       "continuous_update": true,
       "description": "mean",
       "description_allow_html": false,
       "disabled": false,
       "layout": "IPY_MODEL_381761c8d00f4e1eba89a0126fab1132",
       "max": 0.5,
       "min": -0.5,
       "orientation": "horizontal",
       "readout": true,
       "readout_format": ".2f",
       "step": 0.02,
       "style": "IPY_MODEL_31c2c57a2e2c4de696572924ee529a41",
       "tabbable": null,
       "tooltip": null,
       "value": 0.0
      }
     },
     "559f2fe3ada44491b6247cb8c1afc5a2": {
      "model_module": "@jupyter-widgets/output",
      "model_module_version": "1.0.0",
      "model_name": "OutputModel",
      "state": {
       "_dom_classes": [],
       "_model_module": "@jupyter-widgets/output",
       "_model_module_version": "1.0.0",
       "_model_name": "OutputModel",
       "_view_count": null,
       "_view_module": "@jupyter-widgets/output",
       "_view_module_version": "1.0.0",
       "_view_name": "OutputView",
       "layout": "IPY_MODEL_3525c9ce113c4505bfb360feaf76a650",
       "msg_id": "",
       "outputs": [
        {
         "name": "stdout",
         "output_type": "stream",
         "text": "Video available at https://youtube.com/watch?v=49A-3kftau0\n"
        },
        {
         "data": {
          "image/jpeg": "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\n",
          "text/html": "\n        <iframe\n            width=\"730\"\n            height=\"410\"\n            src=\"https://www.youtube.com/embed/49A-3kftau0?fs=1&rel=0\"\n            frameborder=\"0\"\n            allowfullscreen\n            \n        ></iframe>\n        ",
          "text/plain": "<IPython.lib.display.YouTubeVideo at 0x7f838186c990>"
         },
         "metadata": {},
         "output_type": "display_data"
        }
       ],
       "tabbable": null,
       "tooltip": null
      }
     },
     "5ea30d8b590049669672beb5d04736c6": {
      "model_module": "@jupyter-widgets/base",
      "model_module_version": "2.0.0",
      "model_name": "LayoutModel",
      "state": {
       "_model_module": "@jupyter-widgets/base",
       "_model_module_version": "2.0.0",
       "_model_name": "LayoutModel",
       "_view_count": null,
       "_view_module": "@jupyter-widgets/base",
       "_view_module_version": "2.0.0",
       "_view_name": "LayoutView",
       "align_content": null,
       "align_items": null,
       "align_self": null,
       "border_bottom": null,
       "border_left": null,
       "border_right": null,
       "border_top": null,
       "bottom": null,
       "display": null,
       "flex": null,
       "flex_flow": null,
       "grid_area": null,
       "grid_auto_columns": null,
       "grid_auto_flow": null,
       "grid_auto_rows": null,
       "grid_column": null,
       "grid_gap": null,
       "grid_row": null,
       "grid_template_areas": null,
       "grid_template_columns": null,
       "grid_template_rows": null,
       "height": null,
       "justify_content": null,
       "justify_items": null,
       "left": null,
       "margin": null,
       "max_height": null,
       "max_width": null,
       "min_height": null,
       "min_width": null,
       "object_fit": null,
       "object_position": null,
       "order": null,
       "overflow": null,
       "padding": null,
       "right": null,
       "top": null,
       "visibility": null,
       "width": null
      }
     },
     "6b2e57618eb043e0aef2209984fb9e3c": {
      "model_module": "@jupyter-widgets/base",
      "model_module_version": "2.0.0",
      "model_name": "LayoutModel",
      "state": {
       "_model_module": "@jupyter-widgets/base",
       "_model_module_version": "2.0.0",
       "_model_name": "LayoutModel",
       "_view_count": null,
       "_view_module": "@jupyter-widgets/base",
       "_view_module_version": "2.0.0",
       "_view_name": "LayoutView",
       "align_content": null,
       "align_items": null,
       "align_self": null,
       "border_bottom": null,
       "border_left": null,
       "border_right": null,
       "border_top": null,
       "bottom": null,
       "display": null,
       "flex": null,
       "flex_flow": null,
       "grid_area": null,
       "grid_auto_columns": null,
       "grid_auto_flow": null,
       "grid_auto_rows": null,
       "grid_column": null,
       "grid_gap": null,
       "grid_row": null,
       "grid_template_areas": null,
       "grid_template_columns": null,
       "grid_template_rows": null,
       "height": null,
       "justify_content": null,
       "justify_items": null,
       "left": null,
       "margin": null,
       "max_height": null,
       "max_width": null,
       "min_height": null,
       "min_width": null,
       "object_fit": null,
       "object_position": null,
       "order": null,
       "overflow": null,
       "padding": null,
       "right": null,
       "top": null,
       "visibility": null,
       "width": null
      }
     },
     "6d5291ae3f5547e9b081b70a68c14f25": {
      "model_module": "@jupyter-widgets/base",
      "model_module_version": "2.0.0",
      "model_name": "LayoutModel",
      "state": {
       "_model_module": "@jupyter-widgets/base",
       "_model_module_version": "2.0.0",
       "_model_name": "LayoutModel",
       "_view_count": null,
       "_view_module": "@jupyter-widgets/base",
       "_view_module_version": "2.0.0",
       "_view_name": "LayoutView",
       "align_content": null,
       "align_items": null,
       "align_self": null,
       "border_bottom": null,
       "border_left": null,
       "border_right": null,
       "border_top": null,
       "bottom": null,
       "display": null,
       "flex": null,
       "flex_flow": null,
       "grid_area": null,
       "grid_auto_columns": null,
       "grid_auto_flow": null,
       "grid_auto_rows": null,
       "grid_column": null,
       "grid_gap": null,
       "grid_row": null,
       "grid_template_areas": null,
       "grid_template_columns": null,
       "grid_template_rows": null,
       "height": null,
       "justify_content": null,
       "justify_items": null,
       "left": null,
       "margin": null,
       "max_height": null,
       "max_width": null,
       "min_height": null,
       "min_width": null,
       "object_fit": null,
       "object_position": null,
       "order": null,
       "overflow": null,
       "padding": null,
       "right": null,
       "top": null,
       "visibility": null,
       "width": null
      }
     },
     "905c28a5cd184d23927f39662b62d40c": {
      "model_module": "@jupyter-widgets/output",
      "model_module_version": "1.0.0",
      "model_name": "OutputModel",
      "state": {
       "_dom_classes": [],
       "_model_module": "@jupyter-widgets/output",
       "_model_module_version": "1.0.0",
       "_model_name": "OutputModel",
       "_view_count": null,
       "_view_module": "@jupyter-widgets/output",
       "_view_module_version": "1.0.0",
       "_view_name": "OutputView",
       "layout": "IPY_MODEL_5ea30d8b590049669672beb5d04736c6",
       "msg_id": "",
       "outputs": [
        {
         "name": "stdout",
         "output_type": "stream",
         "text": "Video available at https://www.bilibili.com/video/BV1LC4y1h7gD\n"
        },
        {
         "data": {
          "text/html": "\n        <iframe\n            width=\"730\"\n            height=\"410\"\n            src=\"https://player.bilibili.com/player.html?bvid=BV1LC4y1h7gD&page=1?fs=1\"\n            frameborder=\"0\"\n            allowfullscreen\n            \n        ></iframe>\n        ",
          "text/plain": "<__main__.BiliVideo at 0x7f8388282990>"
         },
         "metadata": {},
         "output_type": "display_data"
        }
       ],
       "tabbable": null,
       "tooltip": null
      }
     },
     "a599a56f58544e0aad7fbd7bb93f16e0": {
      "model_module": "@jupyter-widgets/output",
      "model_module_version": "1.0.0",
      "model_name": "OutputModel",
      "state": {
       "_dom_classes": [],
       "_model_module": "@jupyter-widgets/output",
       "_model_module_version": "1.0.0",
       "_model_name": "OutputModel",
       "_view_count": null,
       "_view_module": "@jupyter-widgets/output",
       "_view_module_version": "1.0.0",
       "_view_name": "OutputView",
       "layout": "IPY_MODEL_acaa3f4fc33a432c847b80d5c46efebf",
       "msg_id": "",
       "outputs": [
        {
         "name": "stdout",
         "output_type": "stream",
         "text": "Video available at https://www.bilibili.com/video/BV15f4y1R7PU\n"
        },
        {
         "data": {
          "text/html": "\n        <iframe\n            width=\"730\"\n            height=\"410\"\n            src=\"https://player.bilibili.com/player.html?bvid=BV15f4y1R7PU&page=1?fs=1\"\n            frameborder=\"0\"\n            allowfullscreen\n            \n        ></iframe>\n        ",
          "text/plain": "<__main__.BiliVideo at 0x7f83880d2950>"
         },
         "metadata": {},
         "output_type": "display_data"
        }
       ],
       "tabbable": null,
       "tooltip": null
      }
     },
     "a7f95a58a5534f9bb4c12cb7f764dbf7": {
      "model_module": "@jupyter-widgets/output",
      "model_module_version": "1.0.0",
      "model_name": "OutputModel",
      "state": {
       "_dom_classes": [],
       "_model_module": "@jupyter-widgets/output",
       "_model_module_version": "1.0.0",
       "_model_name": "OutputModel",
       "_view_count": null,
       "_view_module": "@jupyter-widgets/output",
       "_view_module_version": "1.0.0",
       "_view_name": "OutputView",
       "layout": "IPY_MODEL_23e701bee17f480d8d27a5ffd78ed213",
       "msg_id": "",
       "outputs": [
        {
         "ename": "NotImplementedError",
         "evalue": "Complete random_walk_simulator_function",
         "output_type": "error",
         "traceback": [
          "\u001b[0;31m---------------------------------------------------------------------------\u001b[0m",
          "\u001b[0;31mNotImplementedError\u001b[0m                       Traceback (most recent call last)",
          "File \u001b[0;32m~/work/course-content/course-content/.tox/run/lib/python3.11/site-packages/ipywidgets/widgets/interaction.py:240\u001b[0m, in \u001b[0;36minteractive.update\u001b[0;34m(self, *args)\u001b[0m\n\u001b[1;32m    238\u001b[0m     value \u001b[38;5;241m=\u001b[39m widget\u001b[38;5;241m.\u001b[39mget_interact_value()\n\u001b[1;32m    239\u001b[0m     \u001b[38;5;28mself\u001b[39m\u001b[38;5;241m.\u001b[39mkwargs[widget\u001b[38;5;241m.\u001b[39m_kwarg] \u001b[38;5;241m=\u001b[39m value\n\u001b[0;32m--> 240\u001b[0m \u001b[38;5;28mself\u001b[39m\u001b[38;5;241m.\u001b[39mresult \u001b[38;5;241m=\u001b[39m \u001b[38;5;28;43mself\u001b[39;49m\u001b[38;5;241;43m.\u001b[39;49m\u001b[43mf\u001b[49m\u001b[43m(\u001b[49m\u001b[38;5;241;43m*\u001b[39;49m\u001b[38;5;241;43m*\u001b[39;49m\u001b[38;5;28;43mself\u001b[39;49m\u001b[38;5;241;43m.\u001b[39;49m\u001b[43mkwargs\u001b[49m\u001b[43m)\u001b[49m\n\u001b[1;32m    241\u001b[0m show_inline_matplotlib_plots()\n\u001b[1;32m    242\u001b[0m \u001b[38;5;28;01mif\u001b[39;00m \u001b[38;5;28mself\u001b[39m\u001b[38;5;241m.\u001b[39mauto_display \u001b[38;5;129;01mand\u001b[39;00m \u001b[38;5;28mself\u001b[39m\u001b[38;5;241m.\u001b[39mresult \u001b[38;5;129;01mis\u001b[39;00m \u001b[38;5;129;01mnot\u001b[39;00m \u001b[38;5;28;01mNone\u001b[39;00m:\n",
          "Cell \u001b[0;32mIn[10], line 8\u001b[0m, in \u001b[0;36mplot_gaussian\u001b[0;34m(mean, std)\u001b[0m\n\u001b[1;32m      6\u001b[0m \u001b[38;5;129m@widgets\u001b[39m\u001b[38;5;241m.\u001b[39minteract\n\u001b[1;32m      7\u001b[0m \u001b[38;5;28;01mdef\u001b[39;00m \u001b[38;5;21mplot_gaussian\u001b[39m(mean\u001b[38;5;241m=\u001b[39m(\u001b[38;5;241m-\u001b[39m\u001b[38;5;241m0.5\u001b[39m, \u001b[38;5;241m0.5\u001b[39m, \u001b[38;5;241m.02\u001b[39m), std\u001b[38;5;241m=\u001b[39m(\u001b[38;5;241m.5\u001b[39m, \u001b[38;5;241m10\u001b[39m, \u001b[38;5;241m.5\u001b[39m)):\n\u001b[0;32m----> 8\u001b[0m   sim \u001b[38;5;241m=\u001b[39m \u001b[43mrandom_walk_simulator\u001b[49m\u001b[43m(\u001b[49m\u001b[38;5;241;43m5000\u001b[39;49m\u001b[43m,\u001b[49m\u001b[43m \u001b[49m\u001b[38;5;241;43m1000\u001b[39;49m\u001b[43m,\u001b[49m\u001b[43m \u001b[49m\u001b[43mmu\u001b[49m\u001b[38;5;241;43m=\u001b[39;49m\u001b[43mmean\u001b[49m\u001b[43m,\u001b[49m\u001b[43m \u001b[49m\u001b[43msigma\u001b[49m\u001b[38;5;241;43m=\u001b[39;49m\u001b[43mstd\u001b[49m\u001b[43m)\u001b[49m\n\u001b[1;32m     10\u001b[0m   \u001b[38;5;66;03m# compute the mean and variance of trajectory positions at every time point\u001b[39;00m\n\u001b[1;32m     11\u001b[0m   mu \u001b[38;5;241m=\u001b[39m np\u001b[38;5;241m.\u001b[39mmean(sim, axis\u001b[38;5;241m=\u001b[39m\u001b[38;5;241m0\u001b[39m)\n",
          "Cell \u001b[0;32mIn[7], line 19\u001b[0m, in \u001b[0;36mrandom_walk_simulator\u001b[0;34m(N, T, mu, sigma)\u001b[0m\n\u001b[1;32m      2\u001b[0m \u001b[38;5;250m\u001b[39m\u001b[38;5;124;03m'''Simulate N random walks for T time points. At each time point, the step\u001b[39;00m\n\u001b[1;32m      3\u001b[0m \u001b[38;5;124;03m    is drawn from a Gaussian distribution with mean mu and standard deviation\u001b[39;00m\n\u001b[1;32m      4\u001b[0m \u001b[38;5;124;03m    sigma.\u001b[39;00m\n\u001b[0;32m   (...)\u001b[0m\n\u001b[1;32m     13\u001b[0m \u001b[38;5;124;03m  (numpy array) : NxT array in which each row corresponds to trajectory\u001b[39;00m\n\u001b[1;32m     14\u001b[0m \u001b[38;5;124;03m'''\u001b[39;00m\n\u001b[1;32m     16\u001b[0m \u001b[38;5;66;03m###############################################################################\u001b[39;00m\n\u001b[1;32m     17\u001b[0m \u001b[38;5;66;03m## TODO: Code the simulated random steps to take\u001b[39;00m\n\u001b[1;32m     18\u001b[0m \u001b[38;5;66;03m## Hints: you can generate all the random steps in one go in an N x T matrix\u001b[39;00m\n\u001b[0;32m---> 19\u001b[0m \u001b[38;5;28;01mraise\u001b[39;00m \u001b[38;5;167;01mNotImplementedError\u001b[39;00m(\u001b[38;5;124m'\u001b[39m\u001b[38;5;124mComplete random_walk_simulator_function\u001b[39m\u001b[38;5;124m'\u001b[39m)\n\u001b[1;32m     20\u001b[0m \u001b[38;5;66;03m###############################################################################\u001b[39;00m\n\u001b[1;32m     21\u001b[0m \u001b[38;5;66;03m# generate all the random steps for all steps in all simulations in one go\u001b[39;00m\n\u001b[1;32m     22\u001b[0m \u001b[38;5;66;03m# produces a N x T array\u001b[39;00m\n\u001b[1;32m     23\u001b[0m steps \u001b[38;5;241m=\u001b[39m np\u001b[38;5;241m.\u001b[39mrandom\u001b[38;5;241m.\u001b[39mnormal(\u001b[38;5;241m.\u001b[39m\u001b[38;5;241m.\u001b[39m\u001b[38;5;241m.\u001b[39m, \u001b[38;5;241m.\u001b[39m\u001b[38;5;241m.\u001b[39m\u001b[38;5;241m.\u001b[39m, size\u001b[38;5;241m=\u001b[39m(\u001b[38;5;241m.\u001b[39m\u001b[38;5;241m.\u001b[39m\u001b[38;5;241m.\u001b[39m, \u001b[38;5;241m.\u001b[39m\u001b[38;5;241m.\u001b[39m\u001b[38;5;241m.\u001b[39m))\n",
          "\u001b[0;31mNotImplementedError\u001b[0m: Complete random_walk_simulator_function"
         ]
        }
       ],
       "tabbable": null,
       "tooltip": null
      }
     },
     "acaa3f4fc33a432c847b80d5c46efebf": {
      "model_module": "@jupyter-widgets/base",
      "model_module_version": "2.0.0",
      "model_name": "LayoutModel",
      "state": {
       "_model_module": "@jupyter-widgets/base",
       "_model_module_version": "2.0.0",
       "_model_name": "LayoutModel",
       "_view_count": null,
       "_view_module": "@jupyter-widgets/base",
       "_view_module_version": "2.0.0",
       "_view_name": "LayoutView",
       "align_content": null,
       "align_items": null,
       "align_self": null,
       "border_bottom": null,
       "border_left": null,
       "border_right": null,
       "border_top": null,
       "bottom": null,
       "display": null,
       "flex": null,
       "flex_flow": null,
       "grid_area": null,
       "grid_auto_columns": null,
       "grid_auto_flow": null,
       "grid_auto_rows": null,
       "grid_column": null,
       "grid_gap": null,
       "grid_row": null,
       "grid_template_areas": null,
       "grid_template_columns": null,
       "grid_template_rows": null,
       "height": null,
       "justify_content": null,
       "justify_items": null,
       "left": null,
       "margin": null,
       "max_height": null,
       "max_width": null,
       "min_height": null,
       "min_width": null,
       "object_fit": null,
       "object_position": null,
       "order": null,
       "overflow": null,
       "padding": null,
       "right": null,
       "top": null,
       "visibility": null,
       "width": null
      }
     },
     "c0bf3e103adf451796e3e6437dc6c79a": {
      "model_module": "@jupyter-widgets/base",
      "model_module_version": "2.0.0",
      "model_name": "LayoutModel",
      "state": {
       "_model_module": "@jupyter-widgets/base",
       "_model_module_version": "2.0.0",
       "_model_name": "LayoutModel",
       "_view_count": null,
       "_view_module": "@jupyter-widgets/base",
       "_view_module_version": "2.0.0",
       "_view_name": "LayoutView",
       "align_content": null,
       "align_items": null,
       "align_self": null,
       "border_bottom": null,
       "border_left": null,
       "border_right": null,
       "border_top": null,
       "bottom": null,
       "display": null,
       "flex": null,
       "flex_flow": null,
       "grid_area": null,
       "grid_auto_columns": null,
       "grid_auto_flow": null,
       "grid_auto_rows": null,
       "grid_column": null,
       "grid_gap": null,
       "grid_row": null,
       "grid_template_areas": null,
       "grid_template_columns": null,
       "grid_template_rows": null,
       "height": null,
       "justify_content": null,
       "justify_items": null,
       "left": null,
       "margin": null,
       "max_height": null,
       "max_width": null,
       "min_height": null,
       "min_width": null,
       "object_fit": null,
       "object_position": null,
       "order": null,
       "overflow": null,
       "padding": null,
       "right": null,
       "top": null,
       "visibility": null,
       "width": null
      }
     },
     "cb008f1b9d49429bb3ee3a8c459ef9b9": {
      "model_module": "@jupyter-widgets/output",
      "model_module_version": "1.0.0",
      "model_name": "OutputModel",
      "state": {
       "_dom_classes": [],
       "_model_module": "@jupyter-widgets/output",
       "_model_module_version": "1.0.0",
       "_model_name": "OutputModel",
       "_view_count": null,
       "_view_module": "@jupyter-widgets/output",
       "_view_module_version": "1.0.0",
       "_view_name": "OutputView",
       "layout": "IPY_MODEL_6b2e57618eb043e0aef2209984fb9e3c",
       "msg_id": "",
       "outputs": [
        {
         "name": "stdout",
         "output_type": "stream",
         "text": "Video available at https://youtube.com/watch?v=pDNfs5p38fI\n"
        },
        {
         "data": {
          "image/jpeg": "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\n",
          "text/html": "\n        <iframe\n            width=\"730\"\n            height=\"410\"\n            src=\"https://www.youtube.com/embed/pDNfs5p38fI?fs=1&rel=0\"\n            frameborder=\"0\"\n            allowfullscreen\n            \n        ></iframe>\n        ",
          "text/plain": "<IPython.lib.display.YouTubeVideo at 0x7f838186c990>"
         },
         "metadata": {},
         "output_type": "display_data"
        }
       ],
       "tabbable": null,
       "tooltip": null
      }
     },
     "dbf3b45972684c10a8a999dcedf9a6db": {
      "model_module": "@jupyter-widgets/controls",
      "model_module_version": "2.0.0",
      "model_name": "TabModel",
      "state": {
       "_dom_classes": [],
       "_model_module": "@jupyter-widgets/controls",
       "_model_module_version": "2.0.0",
       "_model_name": "TabModel",
       "_view_count": null,
       "_view_module": "@jupyter-widgets/controls",
       "_view_module_version": "2.0.0",
       "_view_name": "TabView",
       "box_style": "",
       "children": [
        "IPY_MODEL_cb008f1b9d49429bb3ee3a8c459ef9b9",
        "IPY_MODEL_1ec0d90fadf54eaa92dd1db7413e3f28"
       ],
       "layout": "IPY_MODEL_3dbefd0d0f1b41d8a05683ff3102b35c",
       "selected_index": 0,
       "tabbable": null,
       "titles": [
        "Youtube",
        "Bilibili"
       ],
       "tooltip": null
      }
     },
     "deb593a09ff848529d31f4ba5d7cfb37": {
      "model_module": "@jupyter-widgets/controls",
      "model_module_version": "2.0.0",
      "model_name": "SliderStyleModel",
      "state": {
       "_model_module": "@jupyter-widgets/controls",
       "_model_module_version": "2.0.0",
       "_model_name": "SliderStyleModel",
       "_view_count": null,
       "_view_module": "@jupyter-widgets/base",
       "_view_module_version": "2.0.0",
       "_view_name": "StyleView",
       "description_width": "",
       "handle_color": null
      }
     },
     "ecc14d98811a49dfa6b068047de46bff": {
      "model_module": "@jupyter-widgets/controls",
      "model_module_version": "2.0.0",
      "model_name": "VBoxModel",
      "state": {
       "_dom_classes": [
        "widget-interact"
       ],
       "_model_module": "@jupyter-widgets/controls",
       "_model_module_version": "2.0.0",
       "_model_name": "VBoxModel",
       "_view_count": null,
       "_view_module": "@jupyter-widgets/controls",
       "_view_module_version": "2.0.0",
       "_view_name": "VBoxView",
       "box_style": "",
       "children": [
        "IPY_MODEL_55517a0d71ee40c8801e8d76e5c8799d",
        "IPY_MODEL_09ee9cbdd4c445989ed99ac67e4841dc",
        "IPY_MODEL_a7f95a58a5534f9bb4c12cb7f764dbf7"
       ],
       "layout": "IPY_MODEL_c0bf3e103adf451796e3e6437dc6c79a",
       "tabbable": null,
       "tooltip": null
      }
     }
    },
    "version_major": 2,
    "version_minor": 0
   }
  }
 },
 "nbformat": 4,
 "nbformat_minor": 0
}
