{
 "cells": [
  {
   "cell_type": "markdown",
   "metadata": {
    "colab_type": "text",
    "execution": {},
    "id": "view-in-github"
   },
   "source": [
    "<a href=\"https://colab.research.google.com/github/NeuromatchAcademy/course-content/blob/main/tutorials/W3D5_NetworkCausality/student/W3D5_Tutorial4.ipynb\" target=\"_blank\"><img alt=\"Open In Colab\" src=\"https://colab.research.google.com/assets/colab-badge.svg\"/></a>   <a href=\"https://kaggle.com/kernels/welcome?src=https://raw.githubusercontent.com/NeuromatchAcademy/course-content/main/tutorials/W3D5_NetworkCausality/student/W3D5_Tutorial4.ipynb\" target=\"_blank\"><img alt=\"Open in Kaggle\" src=\"https://kaggle.com/static/images/open-in-kaggle.svg\"/></a>"
   ]
  },
  {
   "cell_type": "markdown",
   "metadata": {
    "execution": {}
   },
   "source": [
    "# Tutorial 4: Instrumental Variables\n",
    "**Week 3, Day 5: Network Causality**\n",
    "\n",
    "**By Neuromatch Academy**\n",
    "\n",
    "**Content creators**: Ari Benjamin, Tony Liu, Konrad Kording\n",
    "\n",
    "**Content reviewers**: Mike X Cohen, Madineh Sarvestani, Yoni Friedman, Ella Batty, Michael Waskom\n",
    "\n",
    "**Post-production team:** Gagana B, Spiros Chavlis"
   ]
  },
  {
   "cell_type": "markdown",
   "metadata": {
    "execution": {}
   },
   "source": [
    "<p align='center'><img src='https://github.com/NeuromatchAcademy/widgets/blob/master/sponsors.png?raw=True'/></p>"
   ]
  },
  {
   "cell_type": "markdown",
   "metadata": {
    "execution": {}
   },
   "source": [
    "---\n",
    "# Tutorial objectives\n",
    "\n",
    "*Estimated timing of tutorial: 1 hour, 5 min*\n",
    "\n",
    "This is our final tutorial on our day of examining causality. Below is the high level outline of what we've covered today, with the sections we will focus on in this notebook in bold:\n",
    "\n",
    "1.   Master definitions of causality\n",
    "2.   Understand that estimating causality is possible\n",
    "3.   Learn 4 different methods and understand when they fail\n",
    "    1. perturbations\n",
    "    2. correlations\n",
    "    3. simultaneous fitting/regression\n",
    "    4. **instrumental variables**\n",
    "\n",
    "### Notebook 4 Objectives\n",
    "\n",
    "In tutorial 3 we saw that even more sophisticated techniques such as simultaneous fitting fail to capture causality in the presence of omitted variable bias. So what techniques are there for us to obtain valid causal measurements when we can't perturb the system? Here we will:\n",
    "\n",
    "- learn about **instrumental variables,** a method that does not require experimental data for valid causal analysis\n",
    "- explore benefits of instrumental variable analysis and limitations\n",
    "    - addresses **omitted variable bias** seen in regression\n",
    "    - less efficient in terms of sample size than other techniques\n",
    "    - requires a particular form of randomness in the system in order for causal effects to be identified"
   ]
  },
  {
   "cell_type": "markdown",
   "metadata": {},
   "source": [
    "##  Tutorial slides\n"
   ]
  },
  {
   "cell_type": "markdown",
   "metadata": {},
   "source": [
    " These are the slides for the videos in all tutorials today\n"
   ]
  },
  {
   "cell_type": "code",
   "execution_count": 1,
   "metadata": {
    "cellView": "form",
    "execution": {
     "iopub.execute_input": "2023-04-17T16:59:54.743034Z",
     "iopub.status.busy": "2023-04-17T16:59:54.742660Z",
     "iopub.status.idle": "2023-04-17T16:59:54.752966Z",
     "shell.execute_reply": "2023-04-17T16:59:54.752367Z"
    },
    "tags": [
     "remove-input"
    ]
   },
   "outputs": [
    {
     "data": {
      "text/html": [
       "\n",
       "        <iframe\n",
       "            width=\"854\"\n",
       "            height=\"480\"\n",
       "            src=\"https://mfr.ca-1.osf.io/render?url=https://osf.io/gp4m9/?direct%26mode=render%26action=download%26mode=render\"\n",
       "            frameborder=\"0\"\n",
       "            allowfullscreen\n",
       "            \n",
       "        ></iframe>\n",
       "        "
      ],
      "text/plain": [
       "<IPython.lib.display.IFrame at 0x7fd4dc982a90>"
      ]
     },
     "execution_count": 1,
     "metadata": {},
     "output_type": "execute_result"
    }
   ],
   "source": [
    "# @title Tutorial slides\n",
    "\n",
    "# @markdown These are the slides for the videos in all tutorials today\n",
    "from IPython.display import IFrame\n",
    "IFrame(src=f\"https://mfr.ca-1.osf.io/render?url=https://osf.io/gp4m9/?direct%26mode=render%26action=download%26mode=render\", width=854, height=480)"
   ]
  },
  {
   "cell_type": "markdown",
   "metadata": {
    "execution": {}
   },
   "source": [
    "---\n",
    "# Setup"
   ]
  },
  {
   "cell_type": "code",
   "execution_count": 2,
   "metadata": {
    "cellView": "both",
    "execution": {
     "iopub.execute_input": "2023-04-17T16:59:54.755597Z",
     "iopub.status.busy": "2023-04-17T16:59:54.755169Z",
     "iopub.status.idle": "2023-04-17T16:59:55.671105Z",
     "shell.execute_reply": "2023-04-17T16:59:55.670380Z"
    }
   },
   "outputs": [],
   "source": [
    "# Imports\n",
    "\n",
    "import numpy as np\n",
    "import matplotlib.pyplot as plt\n",
    "from mpl_toolkits.axes_grid1 import make_axes_locatable\n",
    "\n",
    "from sklearn.multioutput import MultiOutputRegressor\n",
    "from sklearn.linear_model import LinearRegression, Lasso"
   ]
  },
  {
   "cell_type": "markdown",
   "metadata": {},
   "source": [
    "##  Figure Settings\n"
   ]
  },
  {
   "cell_type": "code",
   "execution_count": 3,
   "metadata": {
    "cellView": "form",
    "execution": {
     "iopub.execute_input": "2023-04-17T16:59:55.674981Z",
     "iopub.status.busy": "2023-04-17T16:59:55.674476Z",
     "iopub.status.idle": "2023-04-17T16:59:55.831107Z",
     "shell.execute_reply": "2023-04-17T16:59:55.830391Z"
    },
    "tags": [
     "hide-input"
    ]
   },
   "outputs": [],
   "source": [
    "#@title Figure Settings\n",
    "import ipywidgets as widgets       # interactive display\n",
    "%config InlineBackend.figure_format = 'retina'\n",
    "plt.style.use(\"https://raw.githubusercontent.com/NeuromatchAcademy/course-content/main/nma.mplstyle\")"
   ]
  },
  {
   "cell_type": "markdown",
   "metadata": {},
   "source": [
    "##  Plotting Functions\n"
   ]
  },
  {
   "cell_type": "code",
   "execution_count": 4,
   "metadata": {
    "cellView": "form",
    "execution": {
     "iopub.execute_input": "2023-04-17T16:59:55.834539Z",
     "iopub.status.busy": "2023-04-17T16:59:55.834276Z",
     "iopub.status.idle": "2023-04-17T16:59:55.849628Z",
     "shell.execute_reply": "2023-04-17T16:59:55.849025Z"
    },
    "tags": [
     "hide-input"
    ]
   },
   "outputs": [],
   "source": [
    "# @title Plotting Functions\n",
    "\n",
    "def see_neurons(A, ax):\n",
    "    \"\"\"\n",
    "    Visualizes the connectivity matrix.\n",
    "\n",
    "    Args:\n",
    "        A (np.ndarray): the connectivity matrix of shape (n_neurons, n_neurons)\n",
    "        ax (plt.axis): the matplotlib axis to display on\n",
    "\n",
    "    Returns:\n",
    "        Nothing, but visualizes A.\n",
    "    \"\"\"\n",
    "    A = A.T  # make up for opposite connectivity\n",
    "    n = len(A)\n",
    "    ax.set_aspect('equal')\n",
    "    thetas = np.linspace(0, np.pi * 2, n,endpoint=False)\n",
    "    x, y = np.cos(thetas), np.sin(thetas),\n",
    "    ax.scatter(x, y, c='k',s=150)\n",
    "    A = A / A.max()\n",
    "    for i in range(n):\n",
    "        for j in range(n):\n",
    "            if A[i, j] > 0:\n",
    "                ax.arrow(x[i], y[i], x[j] - x[i], y[j] - y[i], color='k', alpha=A[i, j], head_width=.15,\n",
    "                        width = A[i,j] / 25, shape='right', length_includes_head=True)\n",
    "    ax.axis('off')\n",
    "\n",
    "def plot_neural_activity(X):\n",
    "  \"\"\"Plot first 10 timesteps of neural activity\n",
    "\n",
    "  Args:\n",
    "    X (ndarray): neural activity (n_neurons by timesteps)\n",
    "\n",
    "  \"\"\"\n",
    "  f, ax = plt.subplots()\n",
    "  im = ax.imshow(X[:, :10], aspect='auto')\n",
    "  divider = make_axes_locatable(ax)\n",
    "  cax1 = divider.append_axes(\"right\", size=\"5%\", pad=0.15)\n",
    "  plt.colorbar(im, cax=cax1)\n",
    "  ax.set(xlabel='Timestep', ylabel='Neuron', title='Simulated Neural Activity')\n",
    "\n",
    "\n",
    "def compare_granger_connectivity(A, reject_null, selected_neuron):\n",
    "  \"\"\"Plot granger connectivity vs true\n",
    "\n",
    "  Args:\n",
    "    A (ndarray): true connectivity (n_neurons by n_neurons)\n",
    "    reject_null (list): outcome of granger causality, length n_neurons\n",
    "    selecte_neuron (int): the neuron we are plotting connectivity from\n",
    "\n",
    "  \"\"\"\n",
    "  fig, axs = plt.subplots(1, 2, figsize=(10, 5))\n",
    "\n",
    "  im = axs[0].imshow(A[:, [selected_neuron]], cmap='coolwarm', aspect='auto')\n",
    "  plt.colorbar(im, ax = axs[0])\n",
    "  axs[0].set_xticks([0])\n",
    "  axs[0].set_xticklabels([selected_neuron])\n",
    "  axs[0].title.set_text(\"True connectivity for neuron {}\".format(selected_neuron))\n",
    "\n",
    "  im = axs[1].imshow(np.array([reject_null]).transpose(), cmap='coolwarm', aspect='auto')\n",
    "  plt.colorbar(im, ax=axs[1])\n",
    "  axs[1].set_xticks([0])\n",
    "  axs[1].set_xticklabels([selected_neuron])\n",
    "  axs[1].title.set_text(\"Granger causality connectivity for neuron {}\".format(selected_neuron))\n",
    "\n",
    "\n",
    "def plot_performance_vs_eta(etas, corr_data):\n",
    "  \"\"\" Plot IV estimation performance as a function of instrument strength\n",
    "\n",
    "    Args:\n",
    "      etas (list): list of instrument strengths\n",
    "      corr_data (ndarray): n_trials x len(etas) array where each element is the correlation\n",
    "        between true and estimated connectivity matries for that trial and\n",
    "        instrument strength\n",
    "\n",
    "  \"\"\"\n",
    "  corr_mean = corr_data.mean(axis=0)\n",
    "  corr_std = corr_data.std(axis=0)\n",
    "\n",
    "  plt.plot(etas, corr_mean)\n",
    "  plt.fill_between(etas,\n",
    "              corr_mean - corr_std,\n",
    "              corr_mean + corr_std,\n",
    "              alpha=.2)\n",
    "  plt.xlim([etas[0], etas[-1]])\n",
    "  plt.title(\"IV performance as a function of instrument strength\")\n",
    "  plt.ylabel(\"Correlation b.t. IV and true connectivity\")\n",
    "  plt.xlabel(\"Strength of instrument (eta)\")\n",
    "  plt.show()"
   ]
  },
  {
   "cell_type": "markdown",
   "metadata": {},
   "source": [
    "##  Helper Functions\n"
   ]
  },
  {
   "cell_type": "code",
   "execution_count": 5,
   "metadata": {
    "cellView": "form",
    "execution": {
     "iopub.execute_input": "2023-04-17T16:59:55.852869Z",
     "iopub.status.busy": "2023-04-17T16:59:55.852603Z",
     "iopub.status.idle": "2023-04-17T16:59:55.874409Z",
     "shell.execute_reply": "2023-04-17T16:59:55.873778Z"
    },
    "tags": [
     "hide-input"
    ]
   },
   "outputs": [],
   "source": [
    "# @title Helper Functions\n",
    "\n",
    "def sigmoid(x):\n",
    "    \"\"\"\n",
    "    Compute sigmoid nonlinearity element-wise on x.\n",
    "\n",
    "    Args:\n",
    "        x (np.ndarray): the numpy data array we want to transform\n",
    "    Returns\n",
    "        (np.ndarray): x with sigmoid nonlinearity applied\n",
    "    \"\"\"\n",
    "    return 1 / (1 + np.exp(-x))\n",
    "\n",
    "\n",
    "def logit(x):\n",
    "    \"\"\"\n",
    "\n",
    "    Applies the logit (inverse sigmoid) transformation\n",
    "\n",
    "    Args:\n",
    "        x (np.ndarray): the numpy data array we want to transform\n",
    "    Returns\n",
    "        (np.ndarray): x with logit nonlinearity applied\n",
    "    \"\"\"\n",
    "    return np.log(x/(1-x))\n",
    "\n",
    "\n",
    "def create_connectivity(n_neurons, random_state=42, p=0.9):\n",
    "    \"\"\"\n",
    "    Generate our nxn causal connectivity matrix.\n",
    "\n",
    "    Args:\n",
    "        n_neurons (int): the number of neurons in our system.\n",
    "        random_state (int): random seed for reproducibility\n",
    "\n",
    "    Returns:\n",
    "        A (np.ndarray): our 0.1 sparse connectivity matrix\n",
    "    \"\"\"\n",
    "    np.random.seed(random_state)\n",
    "    A_0 = np.random.choice([0, 1], size=(n_neurons, n_neurons), p=[p, 1 - p])\n",
    "\n",
    "    # set the timescale of the dynamical system to about 100 steps\n",
    "    _, s_vals, _ = np.linalg.svd(A_0)\n",
    "    A = A_0 / (1.01 * s_vals[0])\n",
    "\n",
    "    # _, s_val_test, _ = np.linalg.svd(A)\n",
    "    # assert s_val_test[0] < 1, \"largest singular value >= 1\"\n",
    "\n",
    "    return A\n",
    "\n",
    "\n",
    "def simulate_neurons(A, timesteps, random_state=42):\n",
    "    \"\"\"\n",
    "    Simulates a dynamical system for the specified number of neurons and timesteps.\n",
    "\n",
    "    Args:\n",
    "        A (np.array): the connectivity matrix\n",
    "        timesteps (int): the number of timesteps to simulate our system.\n",
    "        random_state (int): random seed for reproducibility\n",
    "\n",
    "    Returns:\n",
    "        - X has shape (n_neurons, timeteps).\n",
    "    \"\"\"\n",
    "    np.random.seed(random_state)\n",
    "\n",
    "    n_neurons = len(A)\n",
    "    X = np.zeros((n_neurons, timesteps))\n",
    "\n",
    "    for t in range(timesteps - 1):\n",
    "        # solution\n",
    "        epsilon = np.random.multivariate_normal(np.zeros(n_neurons), np.eye(n_neurons))\n",
    "        X[:, t + 1] = sigmoid(A.dot(X[:, t]) + epsilon)\n",
    "\n",
    "        assert epsilon.shape == (n_neurons,)\n",
    "    return X\n",
    "\n",
    "\n",
    "def get_sys_corr(n_neurons, timesteps, random_state=42, neuron_idx=None):\n",
    "    \"\"\"\n",
    "    A wrapper function for our correlation calculations between A and R.\n",
    "\n",
    "    Args:\n",
    "        n_neurons (int): the number of neurons in our system.\n",
    "        timesteps (int): the number of timesteps to simulate our system.\n",
    "        random_state (int): seed for reproducibility\n",
    "        neuron_idx (int): optionally provide a neuron idx to slice out\n",
    "\n",
    "    Returns:\n",
    "        A single float correlation value representing the similarity between A and R\n",
    "    \"\"\"\n",
    "\n",
    "    A = create_connectivity(n_neurons, random_state)\n",
    "    X = simulate_neurons(A, timesteps)\n",
    "\n",
    "    R = correlation_for_all_neurons(X)\n",
    "\n",
    "    return np.corrcoef(A.flatten(), R.flatten())[0, 1]\n",
    "\n",
    "\n",
    "def correlation_for_all_neurons(X):\n",
    "  \"\"\"Computes the connectivity matrix for the all neurons using correlations\n",
    "\n",
    "    Args:\n",
    "        X: the matrix of activities\n",
    "\n",
    "    Returns:\n",
    "        estimated_connectivity (np.ndarray): estimated connectivity for the selected neuron, of shape (n_neurons,)\n",
    "  \"\"\"\n",
    "  n_neurons = len(X)\n",
    "  S = np.concatenate([X[:, 1:], X[:, :-1]], axis=0)\n",
    "  R = np.corrcoef(S)[:n_neurons, n_neurons:]\n",
    "  return R\n",
    "\n",
    "\n",
    "def print_corr(v1, v2, corrs, idx_dict):\n",
    "    \"\"\"Helper function for formatting print statements for correlations\"\"\"\n",
    "    text_dict = {'Z':'taxes', 'T':'# cigarettes', 'C':'SES status', 'Y':'birth weight'}\n",
    "    print(\"Correlation between {} and {} ({} and {}): {:.3f}\".format(v1, v2, text_dict[v1], text_dict[v2], corrs[idx_dict[v1], idx_dict[v2]]))\n",
    "\n",
    "\n",
    "def get_regression_estimate(X, neuron_idx=None):\n",
    "    \"\"\"\n",
    "    Estimates the connectivity matrix using lasso regression.\n",
    "\n",
    "    Args:\n",
    "        X (np.ndarray): our simulated system of shape (n_neurons, timesteps)\n",
    "        neuron_idx (int): optionally provide a neuron idx to compute connectivity for\n",
    "    Returns:\n",
    "        V (np.ndarray): estimated connectivity matrix of shape (n_neurons, n_neurons).\n",
    "                        if neuron_idx is specified, V is of shape (n_neurons,).\n",
    "    \"\"\"\n",
    "    n_neurons = X.shape[0]\n",
    "\n",
    "    # Extract Y and W as defined above\n",
    "    W = X[:, :-1].transpose()\n",
    "    if neuron_idx is None:\n",
    "        Y = X[:, 1:].transpose()\n",
    "    else:\n",
    "        Y = X[[neuron_idx], 1:].transpose()\n",
    "\n",
    "    # apply inverse sigmoid transformation\n",
    "    Y = logit(Y)\n",
    "\n",
    "    # fit multioutput regression\n",
    "    regression = MultiOutputRegressor(Lasso(fit_intercept=False, alpha=0.01), n_jobs=-1)\n",
    "\n",
    "    regression.fit(W,Y)\n",
    "\n",
    "    if neuron_idx is None:\n",
    "        V = np.zeros((n_neurons, n_neurons))\n",
    "        for i, estimator in enumerate(regression.estimators_):\n",
    "            V[i, :] = estimator.coef_\n",
    "    else:\n",
    "        V = regression.estimators_[0].coef_\n",
    "\n",
    "    return V\n",
    "\n",
    "\n",
    "def get_regression_corr(n_neurons, timesteps, random_state, observed_ratio, regression_args, neuron_idx=None):\n",
    "    \"\"\"\n",
    "    A wrapper function for our correlation calculations between A and the V estimated\n",
    "    from regression.\n",
    "\n",
    "    Args:\n",
    "        n_neurons (int): the number of neurons in our system.\n",
    "        timesteps (int): the number of timesteps to simulate our system.\n",
    "        random_state (int): seed for reproducibility\n",
    "        observed_ratio (float): the proportion of n_neurons observed, must be betweem 0 and 1.\n",
    "        regression_args (dict): dictionary of lasso regression arguments and hyperparameters\n",
    "        neuron_idx (int): optionally provide a neuron idx to compute connectivity for\n",
    "\n",
    "    Returns:\n",
    "        A single float correlation value representing the similarity between A and R\n",
    "    \"\"\"\n",
    "    assert (observed_ratio > 0) and (observed_ratio <= 1)\n",
    "\n",
    "    A = create_connectivity(n_neurons, random_state)\n",
    "    X = simulate_neurons(A, timesteps)\n",
    "\n",
    "    sel_idx = np.clip(int(n_neurons*observed_ratio), 1, n_neurons)\n",
    "\n",
    "    sel_X = X[:sel_idx, :]\n",
    "    sel_A = A[:sel_idx, :sel_idx]\n",
    "\n",
    "    sel_V = get_regression_estimate(sel_X, neuron_idx=neuron_idx)\n",
    "    if neuron_idx is None:\n",
    "        return np.corrcoef(sel_A.flatten(), sel_V.flatten())[1, 0]\n",
    "    else:\n",
    "        return np.corrcoef(sel_A[neuron_idx, :], sel_V)[1, 0]\n",
    "\n",
    "\n",
    "def get_regression_estimate_full_connectivity(X):\n",
    "    \"\"\"\n",
    "    Estimates the connectivity matrix using lasso regression.\n",
    "\n",
    "    Args:\n",
    "        X (np.ndarray): our simulated system of shape (n_neurons, timesteps)\n",
    "        neuron_idx (int): optionally provide a neuron idx to compute connectivity for\n",
    "    Returns:\n",
    "        V (np.ndarray): estimated connectivity matrix of shape (n_neurons, n_neurons).\n",
    "                        if neuron_idx is specified, V is of shape (n_neurons,).\n",
    "    \"\"\"\n",
    "    n_neurons = X.shape[0]\n",
    "\n",
    "    # Extract Y and W as defined above\n",
    "    W = X[:, :-1].transpose()\n",
    "    Y = X[:, 1:].transpose()\n",
    "\n",
    "    # apply inverse sigmoid transformation\n",
    "    Y = logit(Y)\n",
    "\n",
    "    # fit multioutput regression\n",
    "    reg = MultiOutputRegressor(Lasso(fit_intercept=False, alpha=0.01, max_iter=200), n_jobs=-1)\n",
    "    reg.fit(W, Y)\n",
    "\n",
    "    V = np.zeros((n_neurons, n_neurons))\n",
    "    for i, estimator in enumerate(reg.estimators_):\n",
    "        V[i, :] = estimator.coef_\n",
    "\n",
    "    return V\n",
    "\n",
    "\n",
    "def get_regression_corr_full_connectivity(n_neurons, A, X, observed_ratio, regression_args):\n",
    "    \"\"\"\n",
    "    A wrapper function for our correlation calculations between A and the V estimated\n",
    "    from regression.\n",
    "\n",
    "    Args:\n",
    "        n_neurons (int): number of neurons\n",
    "        A (np.ndarray): connectivity matrix\n",
    "        X (np.ndarray): dynamical system\n",
    "        observed_ratio (float): the proportion of n_neurons observed, must be betweem 0 and 1.\n",
    "        regression_args (dict): dictionary of lasso regression arguments and hyperparameters\n",
    "\n",
    "    Returns:\n",
    "        A single float correlation value representing the similarity between A and R\n",
    "    \"\"\"\n",
    "    assert (observed_ratio > 0) and (observed_ratio <= 1)\n",
    "\n",
    "    sel_idx = np.clip(int(n_neurons*observed_ratio), 1, n_neurons)\n",
    "\n",
    "    sel_X = X[:sel_idx, :]\n",
    "    sel_A = A[:sel_idx, :sel_idx]\n",
    "\n",
    "    sel_V = get_regression_estimate_full_connectivity(sel_X)\n",
    "    return np.corrcoef(sel_A.flatten(), sel_V.flatten())[1,0], sel_V"
   ]
  },
  {
   "cell_type": "markdown",
   "metadata": {
    "execution": {}
   },
   "source": [
    "The helper functions defined above are:\n",
    "- `sigmoid`: computes sigmoid nonlinearity element-wise on input, from Tutorial 1\n",
    "- `logit`: applies the logit (inverse sigmoid) transformation, from Tutorial 3\n",
    "- `create_connectivity`: generates nxn causal connectivity matrix., from Tutorial 1\n",
    "- `simulate_neurons`: simulates a dynamical system for the specified number of neurons and timesteps, from Tutorial 1\n",
    "- `get_sys_corr`: a wrapper function for correlation calculations between A and R, from Tutorial 2\n",
    "- `correlation_for_all_neurons`: computes the connectivity matrix for the all neurons using correlations, from Tutorial 2\n",
    "- `print_corr`: formats print statements for correlations\n",
    "- `get_regression_estimate`: estimates the connectivity matrix using lasso regression, from Tutorial 3\n",
    "- `get_regression_corr`: a wrapper function for our correlation calculations between A and the V estimated from regression.\n",
    "- `get_regression_estimate_full_connectivity`: estimates the connectivity matrix using lasso regression, from Tutorial 3\n",
    "- `get_regression_corr_full_connectivity`: a wrapper function for our correlation calculations between A and the V estimated from regression, from Tutorial 3\n",
    "\n"
   ]
  },
  {
   "cell_type": "markdown",
   "metadata": {
    "execution": {}
   },
   "source": [
    "---\n",
    "# Section 1: Instrumental Variables"
   ]
  },
  {
   "cell_type": "markdown",
   "metadata": {},
   "source": [
    "##  Video 1: Instrumental Variables\n"
   ]
  },
  {
   "cell_type": "code",
   "execution_count": 6,
   "metadata": {
    "cellView": "form",
    "execution": {
     "iopub.execute_input": "2023-04-17T16:59:55.877420Z",
     "iopub.status.busy": "2023-04-17T16:59:55.877052Z",
     "iopub.status.idle": "2023-04-17T16:59:55.947858Z",
     "shell.execute_reply": "2023-04-17T16:59:55.947153Z"
    },
    "tags": [
     "remove-input"
    ]
   },
   "outputs": [
    {
     "data": {
      "application/vnd.jupyter.widget-view+json": {
       "model_id": "22b3b0fda394444abee91179214429fb",
       "version_major": 2,
       "version_minor": 0
      },
      "text/plain": [
       "Tab(children=(Output(), Output()), selected_index=0, titles=('Youtube', 'Bilibili'))"
      ]
     },
     "metadata": {},
     "output_type": "display_data"
    }
   ],
   "source": [
    "# @title Video 1: Instrumental Variables\n",
    "from ipywidgets import widgets\n",
    "\n",
    "out2 = widgets.Output()\n",
    "with out2:\n",
    "  from IPython.display import IFrame\n",
    "  class BiliVideo(IFrame):\n",
    "      def __init__(self, id, page=1, width=400, height=300, **kwargs):\n",
    "          self.id=id\n",
    "          src = 'https://player.bilibili.com/player.html?bvid={0}&page={1}'.format(id, page)\n",
    "          super(BiliVideo, self).__init__(src, width, height, **kwargs)\n",
    "\n",
    "  video = BiliVideo(id=\"BV1of4y1R7L1\", width=730, height=410, fs=1)\n",
    "  print('Video available at https://www.bilibili.com/video/{0}'.format(video.id))\n",
    "  display(video)\n",
    "\n",
    "out1 = widgets.Output()\n",
    "with out1:\n",
    "  from IPython.display import YouTubeVideo\n",
    "  video = YouTubeVideo(id=\"0gkav6BS4-w\", width=730, height=410, fs=1, rel=0)\n",
    "  print('Video available at https://youtube.com/watch?v=' + video.id)\n",
    "  display(video)\n",
    "\n",
    "out = widgets.Tab([out1, out2])\n",
    "out.titles = ['Youtube', 'Bilibili']\n",
    "\n",
    "display(out)"
   ]
  },
  {
   "cell_type": "markdown",
   "metadata": {
    "execution": {}
   },
   "source": [
    "If there is randomness naturally occurring in the system *that we can observe*, this in effect becomes the perturbations we can use to recover causal effects. This is called an **instrumental variable**. At high level, an instrumental variable must\n",
    "\n",
    "1. Be observable\n",
    "2. Affect a covariate you care about\n",
    "3. **Not** affect the outcome, except through the covariate\n",
    "\n",
    "It's rare to find these things in the wild, but when you do it's very powerful."
   ]
  },
  {
   "cell_type": "markdown",
   "metadata": {
    "execution": {}
   },
   "source": [
    "<figure>\n",
    "<img src=\"https://raw.githubusercontent.com/NeuromatchAcademy/course-content/main/tutorials/W3D5_NetworkCausality/static/image_t4.png\">\n",
    "</figure>"
   ]
  },
  {
   "cell_type": "markdown",
   "metadata": {
    "execution": {}
   },
   "source": [
    "## Section 1.1: A non-neuro example of an IV\n",
    "A classic example is estimating the effect of smoking cigarettes while pregnant on the birth weight of the infant. There is a (negative) correlation, but is it causal? Unfortunately many confounds affect both birth weight and smoking. Wealth is a big one.\n",
    "\n",
    "Instead of controlling everything imaginable, one can find an IV. Here the instrumental variable is **state taxes on tobacco**. These\n",
    "\n",
    "\n",
    "1.   Are observable\n",
    "2.   Affect tobacco consumption\n",
    "3.   Don't affect birth weight except through tobacco\n",
    "\n",
    "By using the power of IV techniques, you can determine the causal effect without exhaustively controlling for everything.\n"
   ]
  },
  {
   "cell_type": "markdown",
   "metadata": {
    "execution": {}
   },
   "source": [
    "Let's represent our tobacco example above with the following notation:\n",
    "\n",
    "- $Z_{\\text{taxes}}$: our tobacco tax **instrument**, which only affects an individual's tendency to smoke while pregnant within our system\n",
    "- $T_{\\text{smoking}}$: number of cigarettes smoked per day while pregnant, our \"treatment\" if this were a randomized trial\n",
    "- $C_{\\text{SES}}$: socioeconomic status (higher means wealthier), a **confounder** if it is not observed\n",
    "- $Y_{\\text{birthweight}}$: child birthweight in grams, our outcome of interest\n",
    "\n",
    "Let's suppose we have the following function for our system:\n",
    "\n",
    "$Y_{\\text{birthweight}} = 3000 + C_{\\text{SES}} - 2T_{\\text{smoking}},$\n",
    "\n",
    "with the additional fact that $C_{\\text{SES}}$ is negatively correlated with $T_{\\text{smoking}}$. \n",
    "\n",
    "The causal effect we wish to estimate is the coefficient $-2$ for $T_{\\text{smoking}}$, which means that if a mother smokes one additional cigarette per day while pregnant her baby will be 2 grams lighter at birth.\n",
    "\n",
    "We've provided a covariance matrix with the desired structure in the code cell below, so please run it to look at the correlations between our variables."
   ]
  },
  {
   "cell_type": "markdown",
   "metadata": {},
   "source": [
    " Execute this cell to see correlations with C\n"
   ]
  },
  {
   "cell_type": "code",
   "execution_count": 7,
   "metadata": {
    "cellView": "form",
    "execution": {
     "iopub.execute_input": "2023-04-17T16:59:55.959903Z",
     "iopub.status.busy": "2023-04-17T16:59:55.959675Z",
     "iopub.status.idle": "2023-04-17T16:59:55.968263Z",
     "shell.execute_reply": "2023-04-17T16:59:55.967603Z"
    },
    "tags": [
     "hide-input"
    ]
   },
   "outputs": [
    {
     "name": "stdout",
     "output_type": "stream",
     "text": [
      "Correlation between C and T (SES status and # cigarettes): -0.483\n",
      "Correlation between C and Y (SES status and birth weight): 0.740\n"
     ]
    }
   ],
   "source": [
    "# @markdown Execute this cell to see correlations with C\n",
    "# run this code below to generate our setup\n",
    "idx_dict = {\n",
    "    'Z': 0,\n",
    "    'T': 1,\n",
    "    'C': 2,\n",
    "    'Y': 3\n",
    "}\n",
    "# vars:             Z    T    C\n",
    "covar = np.array([[1.0, 0.5, 0.0],  # Z\n",
    "                  [0.5, 1.0, -0.5],  # T\n",
    "                  [0.0, -0.5, 1.0]])  # C\n",
    "# vars:  Z  T  C\n",
    "means = [0, 5, 2]\n",
    "\n",
    "# generate some data\n",
    "np.random.seed(42)\n",
    "data = np.random.multivariate_normal(mean=means, cov=2 * covar, size=2000)\n",
    "\n",
    "# generate Y from our equation above\n",
    "Y = 3000 + data[:, idx_dict['C']] - (2 * (data[:, idx_dict['T']]))\n",
    "\n",
    "data = np.concatenate([data, Y.reshape(-1, 1)], axis=1)\n",
    "\n",
    "Z = data[:, [idx_dict['Z']]]\n",
    "T = data[:, [idx_dict['T']]]\n",
    "C = data[:, [idx_dict['C']]]\n",
    "Y = data[:, [idx_dict['Y']]]\n",
    "\n",
    "corrs = np.corrcoef(data.transpose())\n",
    "\n",
    "print_corr('C', 'T', corrs, idx_dict)\n",
    "print_corr('C', 'Y', corrs, idx_dict)"
   ]
  },
  {
   "cell_type": "markdown",
   "metadata": {
    "execution": {}
   },
   "source": [
    "We see what is exactly represented in our graph above: $C_{\\text{SES}}$ is correlated with both $T_{\\text{smoking}}$ and $Y_{\\text{birthweight}}$, so $C_{\\text{SES}}$ is a potential confounder if not included in our analysis. Let's say that it is difficult to observe and quantify $C_{\\text{SES}}$, so we do not have it available to regress against. This is another example of the **omitted variable bias** we saw in the last tutorial.\n",
    "\n",
    "What about $Z_{\\text{taxes}}$? Does it satisfy conditions 1, 2, and 3 of an instrument?"
   ]
  },
  {
   "cell_type": "markdown",
   "metadata": {},
   "source": [
    " Execute this cell to see correlations of Z\n"
   ]
  },
  {
   "cell_type": "code",
   "execution_count": 8,
   "metadata": {
    "cellView": "form",
    "execution": {
     "iopub.execute_input": "2023-04-17T16:59:55.970985Z",
     "iopub.status.busy": "2023-04-17T16:59:55.970626Z",
     "iopub.status.idle": "2023-04-17T16:59:55.974699Z",
     "shell.execute_reply": "2023-04-17T16:59:55.974162Z"
    },
    "tags": [
     "hide-input"
    ]
   },
   "outputs": [
    {
     "name": "stdout",
     "output_type": "stream",
     "text": [
      "Condition 2?\n",
      "Correlation between Z and T (taxes and # cigarettes): 0.519\n",
      "Condition 3?\n",
      "Correlation between Z and C (taxes and SES status): 0.009\n"
     ]
    }
   ],
   "source": [
    "#@markdown Execute this cell to see correlations of Z\n",
    "print(\"Condition 2?\")\n",
    "print_corr('Z', 'T', corrs, idx_dict)\n",
    "print(\"Condition 3?\")\n",
    "print_corr('Z', 'C', corrs, idx_dict)"
   ]
  },
  {
   "cell_type": "markdown",
   "metadata": {
    "execution": {}
   },
   "source": [
    "Perfect! We see that $Z_{\\text{taxes}}$ is correlated with $T_{\\text{smoking}}$ (#2) but is uncorrelated with $C_{\\text{SES}}$ (#3).  $Z_\\text{taxes}$ is also observable (#1), so we've satisfied our three criteria for an instrument:\n",
    "\n",
    "1.   $Z_\\text{taxes}$ is observable\n",
    "2.   $Z_\\text{taxes}$ affects $T_{\\text{smoking}}$\n",
    "3.   $Z_\\text{taxes}$ doesn't affect $Y_{\\text{birthweight}}$ except through $T_{\\text{smoking}}$ (ie $Z_\\text{taxes}$ doesn't affect or is affected by $C_\\text{SES}$)"
   ]
  },
  {
   "cell_type": "markdown",
   "metadata": {
    "execution": {}
   },
   "source": [
    "## Section 1.2: How IV works, at high level\n",
    "\n",
    "The easiest way to imagine IV is that the instrument is **an observable source of \"randomness\"** that affects the treatment. In this way it's similar to the interventions we talked about in Tutorial 1.\n",
    "\n",
    "But how do you actually use the instrument? The key is that we need to extract **the component of the treatment that is due only to the effect of the instrument**. We will call this component $\\hat{T}$.\n",
    "$$\n",
    "\\hat{T}\\leftarrow \\text{The unconfounded component of }T\n",
    "$$\n",
    "Getting $\\hat{T}$ is fairly simple. It is simply the predicted value of $T$ found in a regression that has only the instrument $Z$ as input.\n",
    "\n",
    "Once we have the unconfounded component in hand, getting the causal effect is as easy as regressing the outcome on $\\hat{T}$."
   ]
  },
  {
   "cell_type": "markdown",
   "metadata": {
    "execution": {}
   },
   "source": [
    "## Section 1.3: IV estimation using two-stage least squares\n",
    "\n",
    "The fundamental technique for instrumental variable estimation is **two-stage least squares**. \n",
    "\n",
    "We run two regressions:\n",
    "\n",
    "1. The first stage gets  $\\hat{T}_{\\text{smoking}}$ by regressing $T_{\\text{smoking}}$ on $Z_\\text{taxes}$, fitting the parameter $\\hat{\\alpha}$:\n",
    "\n",
    "\\begin{equation}\n",
    "\\hat{T}_{\\text{smoking}} = \\hat{\\alpha} Z_\\text{taxes}\n",
    "\\end{equation}\n",
    "\n",
    "2. The second stage then regresses $Y_{\\text{birthweight}}$ on $\\hat{T}_{\\text{smoking}}$ to obtain an estimate $\\hat{\\beta}$ of the causal effect:\n",
    "\n",
    "\\begin{equation}\n",
    "\\hat{Y}_{\\text{birthweight}} = \\hat{\\beta} \\hat{T}_{\\text{smoking}} \n",
    "\\end{equation}\n",
    "\n",
    "The first stage estimates the **unconfounded component** of $T_{\\text{smoking}}$ (ie, unaffected by the confounder $C_{\\text{SES}}$), as we discussed above. \n",
    "\n",
    "Then, the second stage uses this unconfounded component $\\hat{T}_{\\text{smoking}}$ to estimate the effect of smoking on $\\hat{Y}_{\\text{birthweight}}$. \n",
    "\n",
    "We will explore how all this works in the next two exercises.\n"
   ]
  },
  {
   "cell_type": "markdown",
   "metadata": {
    "execution": {}
   },
   "source": [
    "### Section 1.3.1: Least squares regression stage 1"
   ]
  },
  {
   "cell_type": "markdown",
   "metadata": {},
   "source": [
    "####  Video 2: Stage 1\n"
   ]
  },
  {
   "cell_type": "code",
   "execution_count": 9,
   "metadata": {
    "cellView": "form",
    "execution": {
     "iopub.execute_input": "2023-04-17T16:59:55.977708Z",
     "iopub.status.busy": "2023-04-17T16:59:55.977140Z",
     "iopub.status.idle": "2023-04-17T16:59:56.034939Z",
     "shell.execute_reply": "2023-04-17T16:59:56.034375Z"
    },
    "tags": [
     "remove-input"
    ]
   },
   "outputs": [
    {
     "data": {
      "application/vnd.jupyter.widget-view+json": {
       "model_id": "dec0a752f8224bb2aae29889134e278d",
       "version_major": 2,
       "version_minor": 0
      },
      "text/plain": [
       "Tab(children=(Output(), Output()), selected_index=0, titles=('Youtube', 'Bilibili'))"
      ]
     },
     "metadata": {},
     "output_type": "display_data"
    }
   ],
   "source": [
    "# @title Video 2: Stage 1\n",
    "from ipywidgets import widgets\n",
    "\n",
    "out2 = widgets.Output()\n",
    "with out2:\n",
    "  from IPython.display import IFrame\n",
    "  class BiliVideo(IFrame):\n",
    "      def __init__(self, id, page=1, width=400, height=300, **kwargs):\n",
    "          self.id=id\n",
    "          src = 'https://player.bilibili.com/player.html?bvid={0}&page={1}'.format(id, page)\n",
    "          super(BiliVideo, self).__init__(src, width, height, **kwargs)\n",
    "\n",
    "  video = BiliVideo(id=\"BV1jK4y1x7q5\", width=730, height=410, fs=1)\n",
    "  print('Video available at https://www.bilibili.com/video/{0}'.format(video.id))\n",
    "  display(video)\n",
    "\n",
    "out1 = widgets.Output()\n",
    "with out1:\n",
    "  from IPython.display import YouTubeVideo\n",
    "  video = YouTubeVideo(id=\"4WT0KrySRTg\", width=730, height=410, fs=1, rel=0)\n",
    "  print('Video available at https://youtube.com/watch?v=' + video.id)\n",
    "  display(video)\n",
    "\n",
    "out = widgets.Tab([out1, out2])\n",
    "out.titles = ['Youtube', 'Bilibili']\n",
    "\n",
    "display(out)"
   ]
  },
  {
   "cell_type": "markdown",
   "metadata": {
    "execution": {}
   },
   "source": [
    "#### Coding Exercise 1.3.1: Compute regression stage 1\n",
    "\n",
    "Let's run the regression of $T_{\\text{smoking}}$ on $Z_\\text{taxes}$ to compute $\\hat{T}_{\\text{smoking}}$. We will then check whether our estimate is still confounded with $C_{\\text{SES}}$ by comparing the correlation of $C_{\\text{SES}}$  with $T_{\\text{smoking}}$ vs $\\hat{T}_{\\text{smoking}}$.\n",
    "\n",
    "### Suggestions\n",
    "\n",
    "- use the `LinearRegression()` model, already imported from scikit-learn\n",
    "    - use `fit_intercept=True` as the only parameter setting\n",
    "- be sure to check the ordering of the parameters passed to `LinearRegression.fit()`"
   ]
  },
  {
   "cell_type": "code",
   "execution_count": 10,
   "metadata": {
    "execution": {
     "iopub.execute_input": "2023-04-17T16:59:56.045924Z",
     "iopub.status.busy": "2023-04-17T16:59:56.045692Z",
     "iopub.status.idle": "2023-04-17T16:59:56.317697Z",
     "shell.execute_reply": "2023-04-17T16:59:56.316792Z"
    }
   },
   "outputs": [
    {
     "ename": "NotImplementedError",
     "evalue": "Please complete fit_first_stage function",
     "output_type": "error",
     "traceback": [
      "\u001b[0;31m---------------------------------------------------------------------------\u001b[0m",
      "\u001b[0;31mNotImplementedError\u001b[0m                       Traceback (most recent call last)",
      "Cell \u001b[0;32mIn[10], line 33\u001b[0m\n\u001b[1;32m     29\u001b[0m     \u001b[38;5;28;01mreturn\u001b[39;00m T_hat\n\u001b[1;32m     32\u001b[0m \u001b[38;5;66;03m# Estimate T_hat\u001b[39;00m\n\u001b[0;32m---> 33\u001b[0m T_hat \u001b[38;5;241m=\u001b[39m \u001b[43mfit_first_stage\u001b[49m\u001b[43m(\u001b[49m\u001b[43mT\u001b[49m\u001b[43m,\u001b[49m\u001b[43m \u001b[49m\u001b[43mZ\u001b[49m\u001b[43m)\u001b[49m\n\u001b[1;32m     35\u001b[0m \u001b[38;5;66;03m# Get correlations\u001b[39;00m\n\u001b[1;32m     36\u001b[0m T_C_corr \u001b[38;5;241m=\u001b[39m np\u001b[38;5;241m.\u001b[39mcorrcoef(T\u001b[38;5;241m.\u001b[39mtranspose(), C\u001b[38;5;241m.\u001b[39mtranspose())[\u001b[38;5;241m0\u001b[39m, \u001b[38;5;241m1\u001b[39m]\n",
      "Cell \u001b[0;32mIn[10], line 17\u001b[0m, in \u001b[0;36mfit_first_stage\u001b[0;34m(T, Z)\u001b[0m\n\u001b[1;32m      2\u001b[0m \u001b[38;5;250m\u001b[39m\u001b[38;5;124;03m\"\"\"\u001b[39;00m\n\u001b[1;32m      3\u001b[0m \u001b[38;5;124;03mEstimates T_hat as the first stage of a two-stage least squares.\u001b[39;00m\n\u001b[1;32m      4\u001b[0m \n\u001b[0;32m   (...)\u001b[0m\n\u001b[1;32m     10\u001b[0m \u001b[38;5;124;03m    T_hat (np.ndarray): our estimate of the unconfounded portion of T\u001b[39;00m\n\u001b[1;32m     11\u001b[0m \u001b[38;5;124;03m\"\"\"\u001b[39;00m\n\u001b[1;32m     13\u001b[0m \u001b[38;5;66;03m############################################################################\u001b[39;00m\n\u001b[1;32m     14\u001b[0m \u001b[38;5;66;03m## Insert your code here to fit the first stage of the 2-stage least squares\u001b[39;00m\n\u001b[1;32m     15\u001b[0m \u001b[38;5;66;03m## estimate.\u001b[39;00m\n\u001b[1;32m     16\u001b[0m \u001b[38;5;66;03m## Fill out function and remove\u001b[39;00m\n\u001b[0;32m---> 17\u001b[0m \u001b[38;5;28;01mraise\u001b[39;00m \u001b[38;5;167;01mNotImplementedError\u001b[39;00m(\u001b[38;5;124m'\u001b[39m\u001b[38;5;124mPlease complete fit_first_stage function\u001b[39m\u001b[38;5;124m'\u001b[39m)\n\u001b[1;32m     18\u001b[0m \u001b[38;5;66;03m############################################################################\u001b[39;00m\n\u001b[1;32m     19\u001b[0m \n\u001b[1;32m     20\u001b[0m \u001b[38;5;66;03m# Initialize linear regression model\u001b[39;00m\n\u001b[1;32m     21\u001b[0m stage1 \u001b[38;5;241m=\u001b[39m LinearRegression(\u001b[38;5;241m.\u001b[39m\u001b[38;5;241m.\u001b[39m\u001b[38;5;241m.\u001b[39m)\n",
      "\u001b[0;31mNotImplementedError\u001b[0m: Please complete fit_first_stage function"
     ]
    }
   ],
   "source": [
    "def fit_first_stage(T, Z):\n",
    "    \"\"\"\n",
    "    Estimates T_hat as the first stage of a two-stage least squares.\n",
    "\n",
    "    Args:\n",
    "        T (np.ndarray): our observed, possibly confounded, treatment of shape (n, 1)\n",
    "        Z (np.ndarray): our observed instruments of shape (n, 1)\n",
    "\n",
    "    Returns\n",
    "        T_hat (np.ndarray): our estimate of the unconfounded portion of T\n",
    "    \"\"\"\n",
    "\n",
    "    ############################################################################\n",
    "    ## Insert your code here to fit the first stage of the 2-stage least squares\n",
    "    ## estimate.\n",
    "    ## Fill out function and remove\n",
    "    raise NotImplementedError('Please complete fit_first_stage function')\n",
    "    ############################################################################\n",
    "\n",
    "    # Initialize linear regression model\n",
    "    stage1 = LinearRegression(...)\n",
    "\n",
    "    # Fit linear regression model\n",
    "    stage1.fit(...)\n",
    "\n",
    "    # Predict T_hat using linear regression model\n",
    "    T_hat = stage1.predict(...)\n",
    "\n",
    "    return T_hat\n",
    "\n",
    "\n",
    "# Estimate T_hat\n",
    "T_hat = fit_first_stage(T, Z)\n",
    "\n",
    "# Get correlations\n",
    "T_C_corr = np.corrcoef(T.transpose(), C.transpose())[0, 1]\n",
    "T_hat_C_corr = np.corrcoef(T_hat.transpose(), C.transpose())[0, 1]\n",
    "\n",
    "# Print correlations\n",
    "print(\"Correlation between T and C: {:.3f}\".format(T_C_corr))\n",
    "print(\"Correlation between T_hat and C: {:.3f}\".format(T_hat_C_corr))"
   ]
  },
  {
   "cell_type": "markdown",
   "metadata": {
    "colab_type": "text",
    "execution": {}
   },
   "source": [
    "[*Click for solution*](https://github.com/NeuromatchAcademy/course-content/tree/main//tutorials/W3D5_NetworkCausality/solutions/W3D5_Tutorial4_Solution_009bc559.py)\n",
    "\n"
   ]
  },
  {
   "cell_type": "markdown",
   "metadata": {
    "execution": {}
   },
   "source": [
    "You should see a correlation between $T$ and $C$ of `-0.483` and between $\\hat{T}$ and $C$ of `0.009`."
   ]
  },
  {
   "cell_type": "markdown",
   "metadata": {
    "execution": {}
   },
   "source": [
    "### Section 1.3.2: Least squares regression stage 2"
   ]
  },
  {
   "cell_type": "markdown",
   "metadata": {},
   "source": [
    "####  Video 3: Stage 2\n"
   ]
  },
  {
   "cell_type": "code",
   "execution_count": 11,
   "metadata": {
    "cellView": "form",
    "execution": {
     "iopub.execute_input": "2023-04-17T16:59:56.321797Z",
     "iopub.status.busy": "2023-04-17T16:59:56.321564Z",
     "iopub.status.idle": "2023-04-17T16:59:56.410948Z",
     "shell.execute_reply": "2023-04-17T16:59:56.410266Z"
    },
    "tags": [
     "remove-input"
    ]
   },
   "outputs": [
    {
     "data": {
      "application/vnd.jupyter.widget-view+json": {
       "model_id": "5a54925a126a4b4284c44789134b1172",
       "version_major": 2,
       "version_minor": 0
      },
      "text/plain": [
       "Tab(children=(Output(), Output()), selected_index=0, titles=('Youtube', 'Bilibili'))"
      ]
     },
     "metadata": {},
     "output_type": "display_data"
    }
   ],
   "source": [
    "# @title Video 3: Stage 2\n",
    "from ipywidgets import widgets\n",
    "\n",
    "out2 = widgets.Output()\n",
    "with out2:\n",
    "  from IPython.display import IFrame\n",
    "  class BiliVideo(IFrame):\n",
    "      def __init__(self, id, page=1, width=400, height=300, **kwargs):\n",
    "          self.id=id\n",
    "          src = 'https://player.bilibili.com/player.html?bvid={0}&page={1}'.format(id, page)\n",
    "          super(BiliVideo, self).__init__(src, width, height, **kwargs)\n",
    "\n",
    "  video = BiliVideo(id=\"BV1Kv411q7Wx\", width=730, height=410, fs=1)\n",
    "  print('Video available at https://www.bilibili.com/video/{0}'.format(video.id))\n",
    "  display(video)\n",
    "\n",
    "out1 = widgets.Output()\n",
    "with out1:\n",
    "  from IPython.display import YouTubeVideo\n",
    "  video = YouTubeVideo(id=\"F-_m_Vgv75I\", width=730, height=410, fs=1, rel=0)\n",
    "  print('Video available at https://youtube.com/watch?v=' + video.id)\n",
    "  display(video)\n",
    "\n",
    "out = widgets.Tab([out1, out2])\n",
    "out.titles = ['Youtube', 'Bilibili']\n",
    "\n",
    "display(out)"
   ]
  },
  {
   "cell_type": "markdown",
   "metadata": {
    "execution": {}
   },
   "source": [
    "#### Coding Exercise 1.3.2: Compute the IV estimate\n",
    "\n",
    "Now let's implement the second stage! Complete the `fit_second_stage()` function below. We will again use a linear regression model with an intercept. We will then use the function from Exercise 1 (`fit_first_stage`) and this function to estimate the full two-stage regression model. We will obtain the estimated causal effect of the number of cigarettes ($T$) on birth weight ($Y$).\n",
    "\n"
   ]
  },
  {
   "cell_type": "code",
   "execution_count": 12,
   "metadata": {
    "execution": {
     "iopub.execute_input": "2023-04-17T16:59:56.422695Z",
     "iopub.status.busy": "2023-04-17T16:59:56.422478Z",
     "iopub.status.idle": "2023-04-17T16:59:56.448997Z",
     "shell.execute_reply": "2023-04-17T16:59:56.448293Z"
    }
   },
   "outputs": [
    {
     "ename": "NotImplementedError",
     "evalue": "Please complete fit_first_stage function",
     "output_type": "error",
     "traceback": [
      "\u001b[0;31m---------------------------------------------------------------------------\u001b[0m",
      "\u001b[0;31mNotImplementedError\u001b[0m                       Traceback (most recent call last)",
      "Cell \u001b[0;32mIn[12], line 30\u001b[0m\n\u001b[1;32m     26\u001b[0m     \u001b[38;5;28;01mreturn\u001b[39;00m stage2\u001b[38;5;241m.\u001b[39mcoef_\n\u001b[1;32m     29\u001b[0m \u001b[38;5;66;03m# Fit first stage\u001b[39;00m\n\u001b[0;32m---> 30\u001b[0m T_hat \u001b[38;5;241m=\u001b[39m \u001b[43mfit_first_stage\u001b[49m\u001b[43m(\u001b[49m\u001b[43mT\u001b[49m\u001b[43m,\u001b[49m\u001b[43m \u001b[49m\u001b[43mZ\u001b[49m\u001b[43m)\u001b[49m\n\u001b[1;32m     32\u001b[0m \u001b[38;5;66;03m# Fit second stage\u001b[39;00m\n\u001b[1;32m     33\u001b[0m beta \u001b[38;5;241m=\u001b[39m fit_second_stage(T_hat, Y)\n",
      "Cell \u001b[0;32mIn[10], line 17\u001b[0m, in \u001b[0;36mfit_first_stage\u001b[0;34m(T, Z)\u001b[0m\n\u001b[1;32m      2\u001b[0m \u001b[38;5;250m\u001b[39m\u001b[38;5;124;03m\"\"\"\u001b[39;00m\n\u001b[1;32m      3\u001b[0m \u001b[38;5;124;03mEstimates T_hat as the first stage of a two-stage least squares.\u001b[39;00m\n\u001b[1;32m      4\u001b[0m \n\u001b[0;32m   (...)\u001b[0m\n\u001b[1;32m     10\u001b[0m \u001b[38;5;124;03m    T_hat (np.ndarray): our estimate of the unconfounded portion of T\u001b[39;00m\n\u001b[1;32m     11\u001b[0m \u001b[38;5;124;03m\"\"\"\u001b[39;00m\n\u001b[1;32m     13\u001b[0m \u001b[38;5;66;03m############################################################################\u001b[39;00m\n\u001b[1;32m     14\u001b[0m \u001b[38;5;66;03m## Insert your code here to fit the first stage of the 2-stage least squares\u001b[39;00m\n\u001b[1;32m     15\u001b[0m \u001b[38;5;66;03m## estimate.\u001b[39;00m\n\u001b[1;32m     16\u001b[0m \u001b[38;5;66;03m## Fill out function and remove\u001b[39;00m\n\u001b[0;32m---> 17\u001b[0m \u001b[38;5;28;01mraise\u001b[39;00m \u001b[38;5;167;01mNotImplementedError\u001b[39;00m(\u001b[38;5;124m'\u001b[39m\u001b[38;5;124mPlease complete fit_first_stage function\u001b[39m\u001b[38;5;124m'\u001b[39m)\n\u001b[1;32m     18\u001b[0m \u001b[38;5;66;03m############################################################################\u001b[39;00m\n\u001b[1;32m     19\u001b[0m \n\u001b[1;32m     20\u001b[0m \u001b[38;5;66;03m# Initialize linear regression model\u001b[39;00m\n\u001b[1;32m     21\u001b[0m stage1 \u001b[38;5;241m=\u001b[39m LinearRegression(\u001b[38;5;241m.\u001b[39m\u001b[38;5;241m.\u001b[39m\u001b[38;5;241m.\u001b[39m)\n",
      "\u001b[0;31mNotImplementedError\u001b[0m: Please complete fit_first_stage function"
     ]
    }
   ],
   "source": [
    "def fit_second_stage(T_hat, Y):\n",
    "    \"\"\"\n",
    "    Estimates a scalar causal effect from 2-stage least squares regression using\n",
    "    an instrument.\n",
    "\n",
    "    Args:\n",
    "        T_hat (np.ndarray): the output of the first stage regression\n",
    "        Y (np.ndarray): our observed response (n, 1)\n",
    "\n",
    "    Returns:\n",
    "        beta (float): the estimated causal effect\n",
    "    \"\"\"\n",
    "    ############################################################################\n",
    "    ## Insert your code here to fit the second stage of the 2-stage least squares\n",
    "    ## estimate.\n",
    "    ## Fill out function and remove\n",
    "    raise NotImplementedError('Please complete fit_second_stage function')\n",
    "    ############################################################################\n",
    "\n",
    "    # Initialize linear regression model\n",
    "    stage2 = LinearRegression(...)\n",
    "\n",
    "    # Fit model to data\n",
    "    stage2.fit(...)\n",
    "\n",
    "    return stage2.coef_\n",
    "\n",
    "\n",
    "# Fit first stage\n",
    "T_hat = fit_first_stage(T, Z)\n",
    "\n",
    "# Fit second stage\n",
    "beta = fit_second_stage(T_hat, Y)\n",
    "\n",
    "# Print\n",
    "print(\"Estimated causal effect is: {:.3f}\".format(beta[0, 0]))"
   ]
  },
  {
   "cell_type": "markdown",
   "metadata": {
    "colab_type": "text",
    "execution": {}
   },
   "source": [
    "[*Click for solution*](https://github.com/NeuromatchAcademy/course-content/tree/main//tutorials/W3D5_NetworkCausality/solutions/W3D5_Tutorial4_Solution_6b49df33.py)\n",
    "\n"
   ]
  },
  {
   "cell_type": "markdown",
   "metadata": {
    "execution": {}
   },
   "source": [
    "You should obtain an estimated causal effect of `-1.984`. This is quite close to the true causal effect of $-2$!"
   ]
  },
  {
   "cell_type": "markdown",
   "metadata": {
    "execution": {}
   },
   "source": [
    "---\n",
    "# Section 2: IVs in our simulated neural system\n",
    "\n",
    "*Estimated timing to here from start of tutorial: 30 min*\n",
    "\n"
   ]
  },
  {
   "cell_type": "markdown",
   "metadata": {},
   "source": [
    "##  Video 4: IVs in simulated neural systems\n"
   ]
  },
  {
   "cell_type": "code",
   "execution_count": 13,
   "metadata": {
    "cellView": "form",
    "execution": {
     "iopub.execute_input": "2023-04-17T16:59:56.452028Z",
     "iopub.status.busy": "2023-04-17T16:59:56.451676Z",
     "iopub.status.idle": "2023-04-17T16:59:56.548082Z",
     "shell.execute_reply": "2023-04-17T16:59:56.547386Z"
    },
    "tags": [
     "remove-input"
    ]
   },
   "outputs": [
    {
     "data": {
      "application/vnd.jupyter.widget-view+json": {
       "model_id": "3ed3c2b4d0c34f1b946f8cf68788857c",
       "version_major": 2,
       "version_minor": 0
      },
      "text/plain": [
       "Tab(children=(Output(), Output()), selected_index=0, titles=('Youtube', 'Bilibili'))"
      ]
     },
     "metadata": {},
     "output_type": "display_data"
    }
   ],
   "source": [
    "# @title Video 4: IVs in simulated neural systems\n",
    "from ipywidgets import widgets\n",
    "\n",
    "out2 = widgets.Output()\n",
    "with out2:\n",
    "  from IPython.display import IFrame\n",
    "  class BiliVideo(IFrame):\n",
    "      def __init__(self, id, page=1, width=400, height=300, **kwargs):\n",
    "          self.id=id\n",
    "          src = 'https://player.bilibili.com/player.html?bvid={0}&page={1}'.format(id, page)\n",
    "          super(BiliVideo, self).__init__(src, width, height, **kwargs)\n",
    "\n",
    "  video = BiliVideo(id=\"BV1nA411v7Hs\", width=730, height=410, fs=1)\n",
    "  print('Video available at https://www.bilibili.com/video/{0}'.format(video.id))\n",
    "  display(video)\n",
    "\n",
    "out1 = widgets.Output()\n",
    "with out1:\n",
    "  from IPython.display import YouTubeVideo\n",
    "  video = YouTubeVideo(id=\"b6a3Mrefk44\", width=730, height=410, fs=1, rel=0)\n",
    "  print('Video available at https://youtube.com/watch?v=' + video.id)\n",
    "  display(video)\n",
    "\n",
    "out = widgets.Tab([out1, out2])\n",
    "out.titles = ['Youtube', 'Bilibili']\n",
    "\n",
    "display(out)"
   ]
  },
  {
   "cell_type": "markdown",
   "metadata": {
    "execution": {}
   },
   "source": [
    "Now, say we have the neural system we have been simulating, except with an additional variable $\\vec{z}$. This will be our instrumental variable. \n",
    "\n",
    "We treat $\\vec{z}$ as a source of noise in the dynamics of our neurons:\n",
    "\n",
    "\\begin{equation}\n",
    "\\vec{x}_{t+1} = \\sigma(A\\vec{x}_t + \\eta \\vec{z}_{t+1} + \\epsilon_t)\n",
    "\\end{equation}\n",
    "\n",
    "- $\\eta$ is what we'll call the \"strength\" of our IV\n",
    "- $\\vec{z}_t$ is a random binary variable, $\\vec{z}_t \\sim Bernoulli(0.5)$\n",
    "\n",
    "Remember that for each neuron $i$, we are trying to figure out whether $i$ is connected to (causally affects) the other neurons in our system *at the next time step*. So for timestep $t$, we want to determine whether $\\vec{x}_{i,t}$ affects all the other neurons at $\\vec{x}_{t+1}$. For a given neuron $i$, $\\vec{z}_{i,t}$ satisfies the 3 criteria for a valid instrument. \n",
    "\n",
    "\n",
    "**What could $z$ be, biologically?**\n",
    "\n",
    "Imagine $z$ to be some injected current through an *in vivo* patch clamp. It affects each neuron individually, and only affects dynamics through that neuron.\n",
    "\n",
    "The cool thing about IV is that you don't have to control $z$ yourself - it can be observed. So if you mess up your wiring and accidentally connect the injected voltage to an AM radio, no worries. As long as you can observe the signal the method will work."
   ]
  },
  {
   "cell_type": "markdown",
   "metadata": {
    "execution": {}
   },
   "source": [
    "<figure>\n",
    "<img src=\"https://raw.githubusercontent.com/NeuromatchAcademy/course-content/main/tutorials/W3D5_NetworkCausality/static/neuron_iv.png\">\n",
    "</figure>"
   ]
  },
  {
   "cell_type": "markdown",
   "metadata": {
    "execution": {}
   },
   "source": [
    "## Section 2.1: Simulate a system with IV"
   ]
  },
  {
   "cell_type": "markdown",
   "metadata": {
    "execution": {}
   },
   "source": [
    "### Coding Exercise 2.1: Simulate a system with IV\n",
    "\n",
    "Here we'll modify the function that simulates the neural system, but this time make the update rule include the effect of the instrumental variable $z$."
   ]
  },
  {
   "cell_type": "code",
   "execution_count": 14,
   "metadata": {
    "execution": {
     "iopub.execute_input": "2023-04-17T16:59:56.560105Z",
     "iopub.status.busy": "2023-04-17T16:59:56.559884Z",
     "iopub.status.idle": "2023-04-17T16:59:56.604048Z",
     "shell.execute_reply": "2023-04-17T16:59:56.603440Z"
    }
   },
   "outputs": [
    {
     "ename": "NotImplementedError",
     "evalue": "Complete simulate_neurons_iv function",
     "output_type": "error",
     "traceback": [
      "\u001b[0;31m---------------------------------------------------------------------------\u001b[0m",
      "\u001b[0;31mNotImplementedError\u001b[0m                       Traceback (most recent call last)",
      "Cell \u001b[0;32mIn[14], line 46\u001b[0m\n\u001b[1;32m     43\u001b[0m eta \u001b[38;5;241m=\u001b[39m \u001b[38;5;241m2\u001b[39m  \u001b[38;5;66;03m# the strength of our instrument, higher is stronger\u001b[39;00m\n\u001b[1;32m     45\u001b[0m \u001b[38;5;66;03m# Simulate our dynamical system for the given amount of time\u001b[39;00m\n\u001b[0;32m---> 46\u001b[0m A, X, Z \u001b[38;5;241m=\u001b[39m \u001b[43msimulate_neurons_iv\u001b[49m\u001b[43m(\u001b[49m\u001b[43mn_neurons\u001b[49m\u001b[43m,\u001b[49m\u001b[43m \u001b[49m\u001b[43mtimesteps\u001b[49m\u001b[43m,\u001b[49m\u001b[43m \u001b[49m\u001b[43meta\u001b[49m\u001b[43m)\u001b[49m\n\u001b[1;32m     48\u001b[0m \u001b[38;5;66;03m# Visualize\u001b[39;00m\n\u001b[1;32m     49\u001b[0m plot_neural_activity(X)\n",
      "Cell \u001b[0;32mIn[14], line 30\u001b[0m, in \u001b[0;36msimulate_neurons_iv\u001b[0;34m(n_neurons, timesteps, eta, random_state)\u001b[0m\n\u001b[1;32m     21\u001b[0m Z \u001b[38;5;241m=\u001b[39m np\u001b[38;5;241m.\u001b[39mrandom\u001b[38;5;241m.\u001b[39mchoice([\u001b[38;5;241m0\u001b[39m, \u001b[38;5;241m1\u001b[39m], size\u001b[38;5;241m=\u001b[39m(n_neurons, timesteps))\n\u001b[1;32m     22\u001b[0m \u001b[38;5;28;01mfor\u001b[39;00m t \u001b[38;5;129;01min\u001b[39;00m \u001b[38;5;28mrange\u001b[39m(timesteps \u001b[38;5;241m-\u001b[39m \u001b[38;5;241m1\u001b[39m):\n\u001b[1;32m     23\u001b[0m \n\u001b[1;32m     24\u001b[0m   \u001b[38;5;66;03m############################################################################\u001b[39;00m\n\u001b[0;32m   (...)\u001b[0m\n\u001b[1;32m     28\u001b[0m   \u001b[38;5;66;03m##  Your task is to slice it appropriately. Don't forget eta.\u001b[39;00m\n\u001b[1;32m     29\u001b[0m   \u001b[38;5;66;03m## Fill out function and remove\u001b[39;00m\n\u001b[0;32m---> 30\u001b[0m   \u001b[38;5;28;01mraise\u001b[39;00m \u001b[38;5;167;01mNotImplementedError\u001b[39;00m(\u001b[38;5;124m'\u001b[39m\u001b[38;5;124mComplete simulate_neurons_iv function\u001b[39m\u001b[38;5;124m'\u001b[39m)\n\u001b[1;32m     31\u001b[0m   \u001b[38;5;66;03m############################################################################\u001b[39;00m\n\u001b[1;32m     33\u001b[0m   IV_on_this_timestep \u001b[38;5;241m=\u001b[39m \u001b[38;5;241m.\u001b[39m\u001b[38;5;241m.\u001b[39m\u001b[38;5;241m.\u001b[39m\n",
      "\u001b[0;31mNotImplementedError\u001b[0m: Complete simulate_neurons_iv function"
     ]
    }
   ],
   "source": [
    "def simulate_neurons_iv(n_neurons, timesteps, eta, random_state=42):\n",
    "    \"\"\"\n",
    "    Simulates a dynamical system for the specified number of neurons and timesteps.\n",
    "\n",
    "    Args:\n",
    "        n_neurons (int): the number of neurons in our system.\n",
    "        timesteps (int): the number of timesteps to simulate our system.\n",
    "        eta (float): the strength of the instrument\n",
    "        random_state (int): seed for reproducibility\n",
    "\n",
    "    Returns:\n",
    "        The tuple (A,X,Z) of the connectivity matrix, simulated system, and instruments.\n",
    "        - A has shape (n_neurons, n_neurons)\n",
    "        - X has shape (n_neurons, timesteps)\n",
    "        - Z has shape (n_neurons, timesteps)\n",
    "    \"\"\"\n",
    "    np.random.seed(random_state)\n",
    "    A = create_connectivity(n_neurons, random_state)\n",
    "\n",
    "    X = np.zeros((n_neurons, timesteps))\n",
    "    Z = np.random.choice([0, 1], size=(n_neurons, timesteps))\n",
    "    for t in range(timesteps - 1):\n",
    "\n",
    "      ############################################################################\n",
    "      ## Insert your code here to adjust the update rule to include the\n",
    "      ## instrumental variable.\n",
    "      ##  We've already created Z for you. (We need to return it to regress on it).\n",
    "      ##  Your task is to slice it appropriately. Don't forget eta.\n",
    "      ## Fill out function and remove\n",
    "      raise NotImplementedError('Complete simulate_neurons_iv function')\n",
    "      ############################################################################\n",
    "\n",
    "      IV_on_this_timestep = ...\n",
    "\n",
    "      X[:, t + 1] = sigmoid(A.dot(X[:, t]) + IV_on_this_timestep + np.random.multivariate_normal(np.zeros(n_neurons), np.eye(n_neurons)))\n",
    "\n",
    "    return A, X, Z\n",
    "\n",
    "\n",
    "# Set parameters\n",
    "timesteps = 5000  # Simulate for 5000 timesteps.\n",
    "n_neurons = 100  # the size of our system\n",
    "eta = 2  # the strength of our instrument, higher is stronger\n",
    "\n",
    "# Simulate our dynamical system for the given amount of time\n",
    "A, X, Z = simulate_neurons_iv(n_neurons, timesteps, eta)\n",
    "\n",
    "# Visualize\n",
    "plot_neural_activity(X)"
   ]
  },
  {
   "cell_type": "markdown",
   "metadata": {
    "colab_type": "text",
    "execution": {}
   },
   "source": [
    "[*Click for solution*](https://github.com/NeuromatchAcademy/course-content/tree/main//tutorials/W3D5_NetworkCausality/solutions/W3D5_Tutorial4_Solution_69480bae.py)\n",
    "\n"
   ]
  },
  {
   "cell_type": "markdown",
   "metadata": {
    "execution": {}
   },
   "source": [
    "## Section 2.2: Estimate IV for simulated neural system"
   ]
  },
  {
   "cell_type": "markdown",
   "metadata": {
    "execution": {}
   },
   "source": [
    "Since you just implemented two-stage least squares, we've provided the network implementation for you, with the function `get_iv_estimate_network()`. Now, let's see how our IV estimates do in recovering the connectivity matrix."
   ]
  },
  {
   "cell_type": "code",
   "execution_count": 15,
   "metadata": {
    "execution": {
     "iopub.execute_input": "2023-04-17T16:59:56.607314Z",
     "iopub.status.busy": "2023-04-17T16:59:56.606940Z",
     "iopub.status.idle": "2023-04-17T16:59:56.612370Z",
     "shell.execute_reply": "2023-04-17T16:59:56.611840Z"
    }
   },
   "outputs": [],
   "source": [
    "def get_iv_estimate_network(X, Z):\n",
    "    \"\"\"\n",
    "    Estimates the connectivity matrix from 2-stage least squares regression\n",
    "    using an instrument.\n",
    "\n",
    "    Args:\n",
    "        X (np.ndarray): our simulated system of shape (n_neurons, timesteps)\n",
    "        Z (np.ndarray): our observed instruments of shape (n_neurons, timesteps)\n",
    "\n",
    "    Returns:\n",
    "\n",
    "        V (np.ndarray): the estimated connectivity matrix\n",
    "    \"\"\"\n",
    "    n_neurons = X.shape[0]\n",
    "    Y = X[:, 1:].transpose()\n",
    "\n",
    "    # apply inverse sigmoid transformation\n",
    "    Y = logit(Y)\n",
    "\n",
    "    # Stage 1: regress X on Z\n",
    "    stage1 = MultiOutputRegressor(LinearRegression(fit_intercept=True), n_jobs=-1)\n",
    "    stage1.fit(Z[:, :-1].transpose(), X[:, :-1].transpose())\n",
    "    X_hat = stage1.predict(Z[:, :-1].transpose())\n",
    "\n",
    "    # Stage 2: regress Y on X_hatI\n",
    "    stage2 = MultiOutputRegressor(LinearRegression(fit_intercept=True), n_jobs=-1)\n",
    "    stage2.fit(X_hat, Y)\n",
    "\n",
    "    # Get estimated effects\n",
    "    V = np.zeros((n_neurons, n_neurons))\n",
    "    for i, estimator in enumerate(stage2.estimators_):\n",
    "        V[i, :] = estimator.coef_\n",
    "\n",
    "    return V"
   ]
  },
  {
   "cell_type": "markdown",
   "metadata": {
    "execution": {}
   },
   "source": [
    "Now let's see how well it works in our system."
   ]
  },
  {
   "cell_type": "markdown",
   "metadata": {},
   "source": [
    " Execute this cell to visualize IV estimated connectivity matrix\n"
   ]
  },
  {
   "cell_type": "code",
   "execution_count": 16,
   "metadata": {
    "cellView": "form",
    "execution": {
     "iopub.execute_input": "2023-04-17T16:59:56.615263Z",
     "iopub.status.busy": "2023-04-17T16:59:56.614903Z",
     "iopub.status.idle": "2023-04-17T16:59:56.651989Z",
     "shell.execute_reply": "2023-04-17T16:59:56.651371Z"
    },
    "tags": [
     "hide-input"
    ]
   },
   "outputs": [
    {
     "ename": "NotImplementedError",
     "evalue": "Complete simulate_neurons_iv function",
     "output_type": "error",
     "traceback": [
      "\u001b[0;31m---------------------------------------------------------------------------\u001b[0m",
      "\u001b[0;31mNotImplementedError\u001b[0m                       Traceback (most recent call last)",
      "Cell \u001b[0;32mIn[16], line 7\u001b[0m\n\u001b[1;32m      4\u001b[0m random_state \u001b[38;5;241m=\u001b[39m \u001b[38;5;241m42\u001b[39m\n\u001b[1;32m      5\u001b[0m eta \u001b[38;5;241m=\u001b[39m \u001b[38;5;241m2\u001b[39m\n\u001b[0;32m----> 7\u001b[0m A, X, Z \u001b[38;5;241m=\u001b[39m \u001b[43msimulate_neurons_iv\u001b[49m\u001b[43m(\u001b[49m\u001b[43mn_neurons\u001b[49m\u001b[43m,\u001b[49m\u001b[43m \u001b[49m\u001b[43mtimesteps\u001b[49m\u001b[43m,\u001b[49m\u001b[43m \u001b[49m\u001b[43meta\u001b[49m\u001b[43m,\u001b[49m\u001b[43m \u001b[49m\u001b[43mrandom_state\u001b[49m\u001b[43m)\u001b[49m\n\u001b[1;32m      8\u001b[0m V \u001b[38;5;241m=\u001b[39m get_iv_estimate_network(X, Z)\n\u001b[1;32m      9\u001b[0m \u001b[38;5;28mprint\u001b[39m(\u001b[38;5;124m\"\u001b[39m\u001b[38;5;124mIV estimated correlation: \u001b[39m\u001b[38;5;132;01m{:.3f}\u001b[39;00m\u001b[38;5;124m\"\u001b[39m\u001b[38;5;241m.\u001b[39mformat(np\u001b[38;5;241m.\u001b[39mcorrcoef(A\u001b[38;5;241m.\u001b[39mflatten(), V\u001b[38;5;241m.\u001b[39mflatten())[\u001b[38;5;241m1\u001b[39m, \u001b[38;5;241m0\u001b[39m]))\n",
      "Cell \u001b[0;32mIn[14], line 30\u001b[0m, in \u001b[0;36msimulate_neurons_iv\u001b[0;34m(n_neurons, timesteps, eta, random_state)\u001b[0m\n\u001b[1;32m     21\u001b[0m Z \u001b[38;5;241m=\u001b[39m np\u001b[38;5;241m.\u001b[39mrandom\u001b[38;5;241m.\u001b[39mchoice([\u001b[38;5;241m0\u001b[39m, \u001b[38;5;241m1\u001b[39m], size\u001b[38;5;241m=\u001b[39m(n_neurons, timesteps))\n\u001b[1;32m     22\u001b[0m \u001b[38;5;28;01mfor\u001b[39;00m t \u001b[38;5;129;01min\u001b[39;00m \u001b[38;5;28mrange\u001b[39m(timesteps \u001b[38;5;241m-\u001b[39m \u001b[38;5;241m1\u001b[39m):\n\u001b[1;32m     23\u001b[0m \n\u001b[1;32m     24\u001b[0m   \u001b[38;5;66;03m############################################################################\u001b[39;00m\n\u001b[0;32m   (...)\u001b[0m\n\u001b[1;32m     28\u001b[0m   \u001b[38;5;66;03m##  Your task is to slice it appropriately. Don't forget eta.\u001b[39;00m\n\u001b[1;32m     29\u001b[0m   \u001b[38;5;66;03m## Fill out function and remove\u001b[39;00m\n\u001b[0;32m---> 30\u001b[0m   \u001b[38;5;28;01mraise\u001b[39;00m \u001b[38;5;167;01mNotImplementedError\u001b[39;00m(\u001b[38;5;124m'\u001b[39m\u001b[38;5;124mComplete simulate_neurons_iv function\u001b[39m\u001b[38;5;124m'\u001b[39m)\n\u001b[1;32m     31\u001b[0m   \u001b[38;5;66;03m############################################################################\u001b[39;00m\n\u001b[1;32m     33\u001b[0m   IV_on_this_timestep \u001b[38;5;241m=\u001b[39m \u001b[38;5;241m.\u001b[39m\u001b[38;5;241m.\u001b[39m\u001b[38;5;241m.\u001b[39m\n",
      "\u001b[0;31mNotImplementedError\u001b[0m: Complete simulate_neurons_iv function"
     ]
    }
   ],
   "source": [
    "#@markdown Execute this cell to visualize IV estimated connectivity matrix\n",
    "n_neurons = 6\n",
    "timesteps = 10000\n",
    "random_state = 42\n",
    "eta = 2\n",
    "\n",
    "A, X, Z = simulate_neurons_iv(n_neurons, timesteps, eta, random_state)\n",
    "V = get_iv_estimate_network(X, Z)\n",
    "print(\"IV estimated correlation: {:.3f}\".format(np.corrcoef(A.flatten(), V.flatten())[1, 0]))\n",
    "\n",
    "fig, axs = plt.subplots(1, 2, figsize=(10, 5))\n",
    "\n",
    "im = axs[0].imshow(A, cmap=\"coolwarm\")\n",
    "fig.colorbar(im, ax=axs[0],fraction=0.046, pad=0.04)\n",
    "axs[0].title.set_text(\"True connectivity matrix\")\n",
    "axs[0].set(xlabel='Connectivity from', ylabel='Connectivity to')\n",
    "\n",
    "im = axs[1].imshow(V, cmap=\"coolwarm\")\n",
    "fig.colorbar(im, ax=axs[1],fraction=0.046, pad=0.04)\n",
    "axs[1].title.set_text(\"IV estimated connectivity matrix\")\n",
    "axs[1].set(xlabel='Connectivity from')\n",
    "\n",
    "plt.show()"
   ]
  },
  {
   "cell_type": "markdown",
   "metadata": {
    "execution": {}
   },
   "source": [
    "The IV estimates seem to perform pretty well! In the next section, we will see how they behave in the face of omitted variable bias."
   ]
  },
  {
   "cell_type": "markdown",
   "metadata": {
    "execution": {}
   },
   "source": [
    "---\n",
    "# Section 3: IVs and omitted variable bias\n",
    "\n",
    "*Estimated timing to here from start of tutorial: 40 min*\n"
   ]
  },
  {
   "cell_type": "markdown",
   "metadata": {},
   "source": [
    "##  Video 5: IV vs regression\n"
   ]
  },
  {
   "cell_type": "code",
   "execution_count": 17,
   "metadata": {
    "cellView": "form",
    "execution": {
     "iopub.execute_input": "2023-04-17T16:59:56.655247Z",
     "iopub.status.busy": "2023-04-17T16:59:56.654937Z",
     "iopub.status.idle": "2023-04-17T16:59:56.757652Z",
     "shell.execute_reply": "2023-04-17T16:59:56.756991Z"
    },
    "tags": [
     "remove-input"
    ]
   },
   "outputs": [
    {
     "data": {
      "application/vnd.jupyter.widget-view+json": {
       "model_id": "604c3ccc5daa4946ad00c879d398d9f9",
       "version_major": 2,
       "version_minor": 0
      },
      "text/plain": [
       "Tab(children=(Output(), Output()), selected_index=0, titles=('Youtube', 'Bilibili'))"
      ]
     },
     "metadata": {},
     "output_type": "display_data"
    }
   ],
   "source": [
    "# @title Video 5: IV vs regression\n",
    "from ipywidgets import widgets\n",
    "\n",
    "out2 = widgets.Output()\n",
    "with out2:\n",
    "  from IPython.display import IFrame\n",
    "  class BiliVideo(IFrame):\n",
    "      def __init__(self, id, page=1, width=400, height=300, **kwargs):\n",
    "          self.id=id\n",
    "          src = 'https://player.bilibili.com/player.html?bvid={0}&page={1}'.format(id, page)\n",
    "          super(BiliVideo, self).__init__(src, width, height, **kwargs)\n",
    "\n",
    "  video = BiliVideo(id=\"BV1pv411q7Hc\", width=730, height=410, fs=1)\n",
    "  print('Video available at https://www.bilibili.com/video/{0}'.format(video.id))\n",
    "  display(video)\n",
    "\n",
    "out1 = widgets.Output()\n",
    "with out1:\n",
    "  from IPython.display import YouTubeVideo\n",
    "  video = YouTubeVideo(id=\"zceWyoQn09s\", width=730, height=410, fs=1, rel=0)\n",
    "  print('Video available at https://youtube.com/watch?v=' + video.id)\n",
    "  display(video)\n",
    "\n",
    "out = widgets.Tab([out1, out2])\n",
    "out.titles = ['Youtube', 'Bilibili']\n",
    "\n",
    "display(out)"
   ]
  },
  {
   "cell_type": "markdown",
   "metadata": {
    "execution": {}
   },
   "source": [
    "## Interactive Demo 3: Estimating connectivity with IV vs regression on a subset of observed neurons\n",
    "\n",
    "Change the ratio of observed neurons and look at the impact on the quality of connectivity estimation using IV vs regression. Which method does better with fewer observed neurons?\n",
    "\n"
   ]
  },
  {
   "cell_type": "markdown",
   "metadata": {},
   "source": [
    " Execute this cell to enable demo. This simulation will take about a minute to run!\n"
   ]
  },
  {
   "cell_type": "code",
   "execution_count": 18,
   "metadata": {
    "cellView": "form",
    "execution": {
     "iopub.execute_input": "2023-04-17T16:59:56.769843Z",
     "iopub.status.busy": "2023-04-17T16:59:56.769602Z",
     "iopub.status.idle": "2023-04-17T16:59:56.826638Z",
     "shell.execute_reply": "2023-04-17T16:59:56.825715Z"
    },
    "tags": [
     "hide-input"
    ]
   },
   "outputs": [
    {
     "ename": "NotImplementedError",
     "evalue": "Complete simulate_neurons_iv function",
     "output_type": "error",
     "traceback": [
      "\u001b[0;31m---------------------------------------------------------------------------\u001b[0m",
      "\u001b[0;31mNotImplementedError\u001b[0m                       Traceback (most recent call last)",
      "Cell \u001b[0;32mIn[18], line 6\u001b[0m\n\u001b[1;32m      4\u001b[0m random_state \u001b[38;5;241m=\u001b[39m \u001b[38;5;241m42\u001b[39m\n\u001b[1;32m      5\u001b[0m eta \u001b[38;5;241m=\u001b[39m \u001b[38;5;241m2\u001b[39m\n\u001b[0;32m----> 6\u001b[0m A, X, Z \u001b[38;5;241m=\u001b[39m \u001b[43msimulate_neurons_iv\u001b[49m\u001b[43m(\u001b[49m\u001b[43mn_neurons\u001b[49m\u001b[43m,\u001b[49m\u001b[43m \u001b[49m\u001b[43mtimesteps\u001b[49m\u001b[43m,\u001b[49m\u001b[43m \u001b[49m\u001b[43meta\u001b[49m\u001b[43m,\u001b[49m\u001b[43m \u001b[49m\u001b[43mrandom_state\u001b[49m\u001b[43m)\u001b[49m\n\u001b[1;32m      9\u001b[0m reg_args \u001b[38;5;241m=\u001b[39m {\n\u001b[1;32m     10\u001b[0m     \u001b[38;5;124m\"\u001b[39m\u001b[38;5;124mfit_intercept\u001b[39m\u001b[38;5;124m\"\u001b[39m: \u001b[38;5;28;01mFalse\u001b[39;00m,\n\u001b[1;32m     11\u001b[0m     \u001b[38;5;124m\"\u001b[39m\u001b[38;5;124malpha\u001b[39m\u001b[38;5;124m\"\u001b[39m: \u001b[38;5;241m0.001\u001b[39m\n\u001b[1;32m     12\u001b[0m }\n\u001b[1;32m     14\u001b[0m \u001b[38;5;129m@widgets\u001b[39m\u001b[38;5;241m.\u001b[39minteract\n\u001b[1;32m     15\u001b[0m \u001b[38;5;28;01mdef\u001b[39;00m \u001b[38;5;21mplot_observed\u001b[39m(ratio\u001b[38;5;241m=\u001b[39m[\u001b[38;5;241m0.2\u001b[39m, \u001b[38;5;241m0.4\u001b[39m, \u001b[38;5;241m0.6\u001b[39m, \u001b[38;5;241m0.8\u001b[39m, \u001b[38;5;241m1.0\u001b[39m]):\n",
      "Cell \u001b[0;32mIn[14], line 30\u001b[0m, in \u001b[0;36msimulate_neurons_iv\u001b[0;34m(n_neurons, timesteps, eta, random_state)\u001b[0m\n\u001b[1;32m     21\u001b[0m Z \u001b[38;5;241m=\u001b[39m np\u001b[38;5;241m.\u001b[39mrandom\u001b[38;5;241m.\u001b[39mchoice([\u001b[38;5;241m0\u001b[39m, \u001b[38;5;241m1\u001b[39m], size\u001b[38;5;241m=\u001b[39m(n_neurons, timesteps))\n\u001b[1;32m     22\u001b[0m \u001b[38;5;28;01mfor\u001b[39;00m t \u001b[38;5;129;01min\u001b[39;00m \u001b[38;5;28mrange\u001b[39m(timesteps \u001b[38;5;241m-\u001b[39m \u001b[38;5;241m1\u001b[39m):\n\u001b[1;32m     23\u001b[0m \n\u001b[1;32m     24\u001b[0m   \u001b[38;5;66;03m############################################################################\u001b[39;00m\n\u001b[0;32m   (...)\u001b[0m\n\u001b[1;32m     28\u001b[0m   \u001b[38;5;66;03m##  Your task is to slice it appropriately. Don't forget eta.\u001b[39;00m\n\u001b[1;32m     29\u001b[0m   \u001b[38;5;66;03m## Fill out function and remove\u001b[39;00m\n\u001b[0;32m---> 30\u001b[0m   \u001b[38;5;28;01mraise\u001b[39;00m \u001b[38;5;167;01mNotImplementedError\u001b[39;00m(\u001b[38;5;124m'\u001b[39m\u001b[38;5;124mComplete simulate_neurons_iv function\u001b[39m\u001b[38;5;124m'\u001b[39m)\n\u001b[1;32m     31\u001b[0m   \u001b[38;5;66;03m############################################################################\u001b[39;00m\n\u001b[1;32m     33\u001b[0m   IV_on_this_timestep \u001b[38;5;241m=\u001b[39m \u001b[38;5;241m.\u001b[39m\u001b[38;5;241m.\u001b[39m\u001b[38;5;241m.\u001b[39m\n",
      "\u001b[0;31mNotImplementedError\u001b[0m: Complete simulate_neurons_iv function"
     ]
    }
   ],
   "source": [
    "# @markdown Execute this cell to enable demo. This simulation will take about a minute to run!\n",
    "n_neurons = 30\n",
    "timesteps = 20000\n",
    "random_state = 42\n",
    "eta = 2\n",
    "A, X, Z = simulate_neurons_iv(n_neurons, timesteps, eta, random_state)\n",
    "\n",
    "\n",
    "reg_args = {\n",
    "    \"fit_intercept\": False,\n",
    "    \"alpha\": 0.001\n",
    "}\n",
    "\n",
    "@widgets.interact\n",
    "def plot_observed(ratio=[0.2, 0.4, 0.6, 0.8, 1.0]):\n",
    "  fig, axs = plt.subplots(1, 3, figsize=(15, 5))\n",
    "  sel_idx = int(ratio * n_neurons)\n",
    "  n_observed = sel_idx\n",
    "  offset = np.zeros((n_neurons, n_neurons))\n",
    "  offset[:sel_idx, :sel_idx] =  1 + A[:sel_idx, :sel_idx]\n",
    "  im = axs[0].imshow(offset, cmap=\"coolwarm\", vmin=0, vmax=A.max() + 1)\n",
    "  axs[0].title.set_text(\"True connectivity\")\n",
    "  axs[0].set_xlabel(\"Connectivity to\")\n",
    "  axs[0].set_ylabel(\"Connectivity from\")\n",
    "  plt.colorbar(im, ax=axs[0],fraction=0.046, pad=0.04)\n",
    "\n",
    "  sel_A = A[:sel_idx, :sel_idx]\n",
    "  sel_X = X[:sel_idx, :]\n",
    "  sel_Z = Z[:sel_idx, :]\n",
    "\n",
    "  V = get_iv_estimate_network(sel_X, sel_Z)\n",
    "  iv_corr = np.corrcoef(sel_A.flatten(), V.flatten())[1, 0]\n",
    "\n",
    "  big_V = np.zeros(A.shape)\n",
    "  big_V[:sel_idx, :sel_idx] =  1 + V\n",
    "\n",
    "  im = axs[1].imshow(big_V, cmap=\"coolwarm\", vmin=0, vmax=A.max() + 1)\n",
    "  plt.colorbar(im, ax=axs[1], fraction=0.046, pad=0.04)\n",
    "  c = 'w' if n_observed < (n_neurons - 3) else 'k'\n",
    "  axs[1].text(0,n_observed + 2, \"Correlation : {:.2f}\".format(iv_corr), color=c, size=15)\n",
    "  axs[1].axis(\"off\")\n",
    "\n",
    "\n",
    "  reg_corr, R = get_regression_corr_full_connectivity(n_neurons,\n",
    "                                  A,\n",
    "                                  X,\n",
    "                                  ratio,\n",
    "                                  reg_args)\n",
    "\n",
    "\n",
    "  big_R = np.zeros(A.shape)\n",
    "  big_R[:sel_idx, :sel_idx] =  1 + R\n",
    "\n",
    "  im = axs[2].imshow(big_R, cmap=\"coolwarm\", vmin=0, vmax=A.max() + 1)\n",
    "  plt.colorbar(im, ax=axs[2], fraction=0.046, pad=0.04)\n",
    "  c = 'w' if n_observed<(n_neurons-3) else 'k'\n",
    "  axs[1].title.set_text(\"Estimated connectivity (IV)\")\n",
    "  axs[1].set_xlabel(\"Connectivity to\")\n",
    "  axs[1].set_ylabel(\"Connectivity from\")\n",
    "\n",
    "  axs[2].text(0, n_observed + 2,\"Correlation : {:.2f}\".format(reg_corr), color=c, size=15)\n",
    "  axs[2].axis(\"off\")\n",
    "  axs[2].title.set_text(\"Estimated connectivity (regression)\")\n",
    "  axs[2].set_xlabel(\"Connectivity to\")\n",
    "  axs[2].set_ylabel(\"Connectivity from\")"
   ]
  },
  {
   "cell_type": "markdown",
   "metadata": {
    "execution": {}
   },
   "source": [
    "We can also visualize the performance of regression and IV as a function of the observed neuron ratio below.\n",
    "\n",
    "**Note** that this code takes about a minute to run!"
   ]
  },
  {
   "cell_type": "markdown",
   "metadata": {},
   "source": [
    " Execute this cell to visualize connectivity estimation performance\n"
   ]
  },
  {
   "cell_type": "code",
   "execution_count": 19,
   "metadata": {
    "cellView": "form",
    "execution": {
     "iopub.execute_input": "2023-04-17T16:59:56.829844Z",
     "iopub.status.busy": "2023-04-17T16:59:56.829368Z",
     "iopub.status.idle": "2023-04-17T16:59:56.876632Z",
     "shell.execute_reply": "2023-04-17T16:59:56.876066Z"
    },
    "tags": [
     "hide-input"
    ]
   },
   "outputs": [
    {
     "ename": "NotImplementedError",
     "evalue": "Complete simulate_neurons_iv function",
     "output_type": "error",
     "traceback": [
      "\u001b[0;31m---------------------------------------------------------------------------\u001b[0m",
      "\u001b[0;31mNotImplementedError\u001b[0m                       Traceback (most recent call last)",
      "Cell \u001b[0;32mIn[19], line 42\u001b[0m\n\u001b[1;32m     39\u001b[0m random_state \u001b[38;5;241m=\u001b[39m \u001b[38;5;241m42\u001b[39m\n\u001b[1;32m     40\u001b[0m eta \u001b[38;5;241m=\u001b[39m \u001b[38;5;241m2\u001b[39m  \u001b[38;5;66;03m# the strength of our instrument\u001b[39;00m\n\u001b[0;32m---> 42\u001b[0m A, X, Z \u001b[38;5;241m=\u001b[39m \u001b[43msimulate_neurons_iv\u001b[49m\u001b[43m(\u001b[49m\u001b[43mn_neurons\u001b[49m\u001b[43m,\u001b[49m\u001b[43m \u001b[49m\u001b[43mtimesteps\u001b[49m\u001b[43m,\u001b[49m\u001b[43m \u001b[49m\u001b[43meta\u001b[49m\u001b[43m,\u001b[49m\u001b[43m \u001b[49m\u001b[43mrandom_state\u001b[49m\u001b[43m)\u001b[49m\n\u001b[1;32m     44\u001b[0m observed_ratio \u001b[38;5;241m=\u001b[39m [\u001b[38;5;241m1\u001b[39m, \u001b[38;5;241m0.8\u001b[39m, \u001b[38;5;241m0.6\u001b[39m, \u001b[38;5;241m0.4\u001b[39m, \u001b[38;5;241m0.2\u001b[39m]\n\u001b[1;32m     46\u001b[0m compare_iv_estimate_to_regression(observed_ratio)\n",
      "Cell \u001b[0;32mIn[14], line 30\u001b[0m, in \u001b[0;36msimulate_neurons_iv\u001b[0;34m(n_neurons, timesteps, eta, random_state)\u001b[0m\n\u001b[1;32m     21\u001b[0m Z \u001b[38;5;241m=\u001b[39m np\u001b[38;5;241m.\u001b[39mrandom\u001b[38;5;241m.\u001b[39mchoice([\u001b[38;5;241m0\u001b[39m, \u001b[38;5;241m1\u001b[39m], size\u001b[38;5;241m=\u001b[39m(n_neurons, timesteps))\n\u001b[1;32m     22\u001b[0m \u001b[38;5;28;01mfor\u001b[39;00m t \u001b[38;5;129;01min\u001b[39;00m \u001b[38;5;28mrange\u001b[39m(timesteps \u001b[38;5;241m-\u001b[39m \u001b[38;5;241m1\u001b[39m):\n\u001b[1;32m     23\u001b[0m \n\u001b[1;32m     24\u001b[0m   \u001b[38;5;66;03m############################################################################\u001b[39;00m\n\u001b[0;32m   (...)\u001b[0m\n\u001b[1;32m     28\u001b[0m   \u001b[38;5;66;03m##  Your task is to slice it appropriately. Don't forget eta.\u001b[39;00m\n\u001b[1;32m     29\u001b[0m   \u001b[38;5;66;03m## Fill out function and remove\u001b[39;00m\n\u001b[0;32m---> 30\u001b[0m   \u001b[38;5;28;01mraise\u001b[39;00m \u001b[38;5;167;01mNotImplementedError\u001b[39;00m(\u001b[38;5;124m'\u001b[39m\u001b[38;5;124mComplete simulate_neurons_iv function\u001b[39m\u001b[38;5;124m'\u001b[39m)\n\u001b[1;32m     31\u001b[0m   \u001b[38;5;66;03m############################################################################\u001b[39;00m\n\u001b[1;32m     33\u001b[0m   IV_on_this_timestep \u001b[38;5;241m=\u001b[39m \u001b[38;5;241m.\u001b[39m\u001b[38;5;241m.\u001b[39m\u001b[38;5;241m.\u001b[39m\n",
      "\u001b[0;31mNotImplementedError\u001b[0m: Complete simulate_neurons_iv function"
     ]
    }
   ],
   "source": [
    "# @markdown Execute this cell to visualize connectivity estimation performance\n",
    "def compare_iv_estimate_to_regression(observed_ratio):\n",
    "  \"\"\"\n",
    "  A wrapper function to compare IV and Regressor performance as a function of observed neurons\n",
    "\n",
    "  Args:\n",
    "        observed_ratio(list): a list of different observed ratios (out of the whole system)\n",
    "  \"\"\"\n",
    "\n",
    "  #Let's compare IV estimates to our regression estimates, uncomment the code below\n",
    "\n",
    "  reg_corrs = np.zeros((len(observed_ratio),))\n",
    "  iv_corrs = np.zeros((len(observed_ratio),))\n",
    "  for j, ratio in enumerate(observed_ratio):\n",
    "      print(ratio)\n",
    "      sel_idx = int(ratio * n_neurons)\n",
    "\n",
    "      sel_X = X[:sel_idx, :]\n",
    "      sel_Z = X[:sel_idx, :]\n",
    "      sel_A = A[:sel_idx, :sel_idx]\n",
    "\n",
    "      sel_reg_V = get_regression_estimate(sel_X)\n",
    "      reg_corrs[j] = np.corrcoef(sel_A.flatten(), sel_reg_V.flatten())[1, 0]\n",
    "\n",
    "      sel_iv_V = get_iv_estimate_network(sel_X, sel_Z)\n",
    "      iv_corrs[j] = np.corrcoef(sel_A.flatten(), sel_iv_V.flatten())[1, 0]\n",
    "\n",
    "  # Plotting IV vs lasso performance\n",
    "  plt.plot(observed_ratio, reg_corrs)\n",
    "  plt.plot(observed_ratio, iv_corrs)\n",
    "  plt.xlim([1, 0.2])\n",
    "  plt.ylabel(\"Connectivity matrices correlation with truth\")\n",
    "  plt.xlabel(\"Fraction of observed variables\")\n",
    "  plt.title(\"IV and lasso performance as a function of observed neuron ratio\")\n",
    "  plt.legend(['Regression', 'IV'])\n",
    "\n",
    "n_neurons = 40  # the size of the system\n",
    "timesteps = 20000\n",
    "random_state = 42\n",
    "eta = 2  # the strength of our instrument\n",
    "\n",
    "A, X, Z = simulate_neurons_iv(n_neurons, timesteps, eta, random_state)\n",
    "\n",
    "observed_ratio = [1, 0.8, 0.6, 0.4, 0.2]\n",
    "\n",
    "compare_iv_estimate_to_regression(observed_ratio)"
   ]
  },
  {
   "cell_type": "markdown",
   "metadata": {
    "execution": {}
   },
   "source": [
    "We see that IVs handle omitted variable bias (when the instrument is strong and we have enough data).\n",
    "\n",
    "**The costs of IV analysis**\n",
    "\n",
    "- we need to find an appropriate and valid instrument\n",
    "- Because of the 2-stage estimation process, we need strong instruments or else our standard errors will be large"
   ]
  },
  {
   "cell_type": "markdown",
   "metadata": {
    "execution": {}
   },
   "source": [
    "---\n",
    "# Section 4: Thinking about causality in your work\n",
    "\n",
    "*Estimated timing to here from start of tutorial: 50 min*"
   ]
  },
  {
   "cell_type": "markdown",
   "metadata": {
    "execution": {}
   },
   "source": [
    "## Think 4!: Discussion questions\n",
    "\n",
    "Please discuss the following in groups for around 10 minutes.\n",
    "\n",
    "*   Think back to your most recent work. Can you create a causal diagram of the fundamental question? Are there sources of bias (omitted variables or otherwise) that might be a threat to causal validity?\n",
    "*   Can you think of any possibilities for instrumental variables? What sources of observed randomness could studies in your field leverage in identifying causal effects?\n",
    "\n",
    "\n"
   ]
  },
  {
   "cell_type": "markdown",
   "metadata": {
    "execution": {}
   },
   "source": [
    "---\n",
    "# Summary\n",
    "\n",
    "*Estimated timing of tutorial: 1 hour, 5 min*\n"
   ]
  },
  {
   "cell_type": "markdown",
   "metadata": {},
   "source": [
    "##  Video 6: Summary\n"
   ]
  },
  {
   "cell_type": "code",
   "execution_count": 20,
   "metadata": {
    "cellView": "form",
    "execution": {
     "iopub.execute_input": "2023-04-17T16:59:56.879504Z",
     "iopub.status.busy": "2023-04-17T16:59:56.879281Z",
     "iopub.status.idle": "2023-04-17T16:59:56.935310Z",
     "shell.execute_reply": "2023-04-17T16:59:56.934752Z"
    },
    "tags": [
     "remove-input"
    ]
   },
   "outputs": [
    {
     "data": {
      "application/vnd.jupyter.widget-view+json": {
       "model_id": "68201f4b5f134bc8ae68e77a1e14d30f",
       "version_major": 2,
       "version_minor": 0
      },
      "text/plain": [
       "Tab(children=(Output(), Output()), selected_index=0, titles=('Youtube', 'Bilibili'))"
      ]
     },
     "metadata": {},
     "output_type": "display_data"
    }
   ],
   "source": [
    "# @title Video 6: Summary\n",
    "from ipywidgets import widgets\n",
    "\n",
    "out2 = widgets.Output()\n",
    "with out2:\n",
    "  from IPython.display import IFrame\n",
    "  class BiliVideo(IFrame):\n",
    "      def __init__(self, id, page=1, width=400, height=300, **kwargs):\n",
    "          self.id=id\n",
    "          src = 'https://player.bilibili.com/player.html?bvid={0}&page={1}'.format(id, page)\n",
    "          super(BiliVideo, self).__init__(src, width, height, **kwargs)\n",
    "\n",
    "  video = BiliVideo(id=\"BV1Gt4y1X76z\", width=730, height=410, fs=1)\n",
    "  print('Video available at https://www.bilibili.com/video/{0}'.format(video.id))\n",
    "  display(video)\n",
    "\n",
    "out1 = widgets.Output()\n",
    "with out1:\n",
    "  from IPython.display import YouTubeVideo\n",
    "  video = YouTubeVideo(id=\"1qxW8CPW77U\", width=730, height=410, fs=1, rel=0)\n",
    "  print('Video available at https://youtube.com/watch?v=' + video.id)\n",
    "  display(video)\n",
    "\n",
    "out = widgets.Tab([out1, out2])\n",
    "out.titles = ['Youtube', 'Bilibili']\n",
    "\n",
    "display(out)"
   ]
  },
  {
   "cell_type": "markdown",
   "metadata": {
    "execution": {}
   },
   "source": [
    "In this tutorial, we:\n",
    "\n",
    "* Explored instrumental variables and how we can use them for causality estimates\n",
    "* Compared IV estimates to regression estimates"
   ]
  },
  {
   "cell_type": "markdown",
   "metadata": {
    "execution": {}
   },
   "source": [
    "---\n",
    "# Bonus"
   ]
  },
  {
   "cell_type": "markdown",
   "metadata": {
    "execution": {}
   },
   "source": [
    "---\n",
    "## Bonus Section 1: Exploring Instrument Strength"
   ]
  },
  {
   "cell_type": "markdown",
   "metadata": {
    "execution": {}
   },
   "source": [
    "### Bonus Exercise 1: Exploring instrument strength\n",
    "\n",
    "Explore how the strength of the instrument $\\eta$ affects the quality of estimates with instrumental variables. \n",
    "\n"
   ]
  },
  {
   "cell_type": "code",
   "execution_count": 21,
   "metadata": {
    "execution": {
     "iopub.execute_input": "2023-04-17T16:59:56.950840Z",
     "iopub.status.busy": "2023-04-17T16:59:56.949661Z",
     "iopub.status.idle": "2023-04-17T16:59:56.986398Z",
     "shell.execute_reply": "2023-04-17T16:59:56.985823Z"
    }
   },
   "outputs": [
    {
     "name": "stdout",
     "output_type": "stream",
     "text": [
      "Trial 1 of 3\n"
     ]
    },
    {
     "ename": "NotImplementedError",
     "evalue": "Student exercise: complete instrument_strength_effect",
     "output_type": "error",
     "traceback": [
      "\u001b[0;31m---------------------------------------------------------------------------\u001b[0m",
      "\u001b[0;31mNotImplementedError\u001b[0m                       Traceback (most recent call last)",
      "Cell \u001b[0;32mIn[21], line 51\u001b[0m\n\u001b[1;32m     48\u001b[0m etas \u001b[38;5;241m=\u001b[39m [\u001b[38;5;241m2\u001b[39m, \u001b[38;5;241m1\u001b[39m, \u001b[38;5;241m0.5\u001b[39m, \u001b[38;5;241m0.25\u001b[39m, \u001b[38;5;241m0.12\u001b[39m]  \u001b[38;5;66;03m# instrument strengths to search over\u001b[39;00m\n\u001b[1;32m     50\u001b[0m \u001b[38;5;66;03m# Get IV estimate performances\u001b[39;00m\n\u001b[0;32m---> 51\u001b[0m corr_data \u001b[38;5;241m=\u001b[39m \u001b[43minstrument_strength_effect\u001b[49m\u001b[43m(\u001b[49m\u001b[43metas\u001b[49m\u001b[43m,\u001b[49m\u001b[43m \u001b[49m\u001b[43mn_neurons\u001b[49m\u001b[43m,\u001b[49m\u001b[43m \u001b[49m\u001b[43mtimesteps\u001b[49m\u001b[43m,\u001b[49m\u001b[43m \u001b[49m\u001b[43mn_trials\u001b[49m\u001b[43m)\u001b[49m\n\u001b[1;32m     53\u001b[0m \u001b[38;5;66;03m# Visualize\u001b[39;00m\n\u001b[1;32m     54\u001b[0m plot_performance_vs_eta(etas, corr_data)\n",
      "Cell \u001b[0;32mIn[21], line 29\u001b[0m, in \u001b[0;36minstrument_strength_effect\u001b[0;34m(etas, n_neurons, timesteps, n_trials)\u001b[0m\n\u001b[1;32m     23\u001b[0m \u001b[38;5;66;03m# Loop over instrument strengths\u001b[39;00m\n\u001b[1;32m     24\u001b[0m \u001b[38;5;28;01mfor\u001b[39;00m j, eta \u001b[38;5;129;01min\u001b[39;00m \u001b[38;5;28menumerate\u001b[39m(etas):\n\u001b[1;32m     25\u001b[0m   \u001b[38;5;66;03m########################################################################\u001b[39;00m\n\u001b[1;32m     26\u001b[0m   \u001b[38;5;66;03m## TODO: Simulate system with a given instrument strength, get IV estimate,\u001b[39;00m\n\u001b[1;32m     27\u001b[0m   \u001b[38;5;66;03m## and compute correlation\u001b[39;00m\n\u001b[1;32m     28\u001b[0m   \u001b[38;5;66;03m# Fill out function and remove\u001b[39;00m\n\u001b[0;32m---> 29\u001b[0m   \u001b[38;5;28;01mraise\u001b[39;00m \u001b[38;5;167;01mNotImplementedError\u001b[39;00m(\u001b[38;5;124m'\u001b[39m\u001b[38;5;124mStudent exercise: complete instrument_strength_effect\u001b[39m\u001b[38;5;124m'\u001b[39m)\n\u001b[1;32m     30\u001b[0m   \u001b[38;5;66;03m########################################################################\u001b[39;00m\n\u001b[1;32m     31\u001b[0m \n\u001b[1;32m     32\u001b[0m   \u001b[38;5;66;03m# Simulate system\u001b[39;00m\n\u001b[1;32m     33\u001b[0m   A, X, Z \u001b[38;5;241m=\u001b[39m simulate_neurons_iv(\u001b[38;5;241m.\u001b[39m\u001b[38;5;241m.\u001b[39m\u001b[38;5;241m.\u001b[39m)\n",
      "\u001b[0;31mNotImplementedError\u001b[0m: Student exercise: complete instrument_strength_effect"
     ]
    }
   ],
   "source": [
    "def instrument_strength_effect(etas, n_neurons, timesteps, n_trials):\n",
    "  \"\"\" Compute IV estimation performance for different instrument strengths\n",
    "\n",
    "  Args:\n",
    "    etas (list): different instrument strengths to compare\n",
    "    n_neurons (int): number of neurons in simulation\n",
    "    timesteps (int): number of timesteps in simulation\n",
    "    n_trials (int): number of trials to compute\n",
    "\n",
    "  Returns:\n",
    "    ndarray: n_trials x len(etas) array where each element is the correlation\n",
    "        between true and estimated connectivity matrices for that trial and\n",
    "        instrument strength\n",
    "  \"\"\"\n",
    "\n",
    "  # Initialize corr array\n",
    "  corr_data = np.zeros((n_trials, len(etas)))\n",
    "\n",
    "  # Loop over trials\n",
    "  for trial in range(n_trials):\n",
    "    print(\"Trial {} of {}\".format(trial + 1, n_trials))\n",
    "\n",
    "    # Loop over instrument strengths\n",
    "    for j, eta in enumerate(etas):\n",
    "      ########################################################################\n",
    "      ## TODO: Simulate system with a given instrument strength, get IV estimate,\n",
    "      ## and compute correlation\n",
    "      # Fill out function and remove\n",
    "      raise NotImplementedError('Student exercise: complete instrument_strength_effect')\n",
    "      ########################################################################\n",
    "\n",
    "      # Simulate system\n",
    "      A, X, Z = simulate_neurons_iv(...)\n",
    "\n",
    "      # Compute IV estimate\n",
    "      iv_V = get_iv_estimate_network(...)\n",
    "\n",
    "      # Compute correlation\n",
    "      corr_data[trial, j] =  np.corrcoef(A.flatten(), iv_V.flatten())[1, 0]\n",
    "\n",
    "  return corr_data\n",
    "\n",
    "\n",
    "# Parameters of system\n",
    "n_neurons = 20\n",
    "timesteps = 10000\n",
    "n_trials = 3\n",
    "etas = [2, 1, 0.5, 0.25, 0.12]  # instrument strengths to search over\n",
    "\n",
    "# Get IV estimate performances\n",
    "corr_data = instrument_strength_effect(etas, n_neurons, timesteps, n_trials)\n",
    "\n",
    "# Visualize\n",
    "plot_performance_vs_eta(etas, corr_data)"
   ]
  },
  {
   "cell_type": "markdown",
   "metadata": {
    "colab_type": "text",
    "execution": {}
   },
   "source": [
    "[*Click for solution*](https://github.com/NeuromatchAcademy/course-content/tree/main//tutorials/W3D5_NetworkCausality/solutions/W3D5_Tutorial4_Solution_71c2c0b4.py)\n",
    "\n"
   ]
  },
  {
   "cell_type": "markdown",
   "metadata": {
    "execution": {}
   },
   "source": [
    "---\n",
    "## Bonus Section 2: Granger Causality\n",
    "\n",
    "Another potential solution to temporal causation that we might consider: [*Granger Causality*](https://en.wikipedia.org/wiki/Granger_causality).\n",
    "\n",
    "But, like the simultaneous fitting we explored in Tutorial 3, this method still fails in the presence of unobserved variables.\n",
    "\n",
    "We are testing whether a time series $X$ Granger-causes a time series $Y$ through a hypothesis test:\n",
    "\n",
    "- the null hypothesis $H_0$: lagged values of $X$ do not help predict values of $Y$ \n",
    "\n",
    "- the alternative hypothesis $H_a$: lagged values of $X$ **do** help predict values of $Y$ \n",
    "\n",
    "Mechanically, this is accomplished by fitting autoregressive models for $y_{t}$. We fail to reject the hypothesis if none of the $x_{t-k}$ terms are retained as significant in the regression. For simplicity, we will consider only one time lag. So, we have:\n",
    "\n",
    "\\begin{align}\n",
    "H_0: y_t &= a_0 + a_1 y_{t-1} +\\epsilon_t \\\\\n",
    "H_a: y_t &= a_0 + a_1 y_{t-1} + b_1 x_{t-1} +\\epsilon_t\n",
    "\\end{align}"
   ]
  },
  {
   "cell_type": "markdown",
   "metadata": {},
   "source": [
    " Execute this cell to get custom imports from stats models\n"
   ]
  },
  {
   "cell_type": "code",
   "execution_count": 22,
   "metadata": {
    "cellView": "form",
    "execution": {
     "iopub.execute_input": "2023-04-17T16:59:56.990505Z",
     "iopub.status.busy": "2023-04-17T16:59:56.989220Z",
     "iopub.status.idle": "2023-04-17T17:00:08.650000Z",
     "shell.execute_reply": "2023-04-17T17:00:08.649250Z"
    },
    "tags": [
     "hide-input"
    ]
   },
   "outputs": [
    {
     "ename": "ModuleNotFoundError",
     "evalue": "No module named 'pandas.util.testing'",
     "output_type": "error",
     "traceback": [
      "\u001b[0;31m---------------------------------------------------------------------------\u001b[0m",
      "\u001b[0;31mModuleNotFoundError\u001b[0m                       Traceback (most recent call last)",
      "Cell \u001b[0;32mIn[22], line 5\u001b[0m\n\u001b[1;32m      3\u001b[0m get_ipython()\u001b[38;5;241m.\u001b[39msystem(\u001b[38;5;124m'\u001b[39m\u001b[38;5;124mpip install statsmodels --quiet\u001b[39m\u001b[38;5;124m'\u001b[39m)\n\u001b[1;32m      4\u001b[0m \u001b[38;5;28;01mfrom\u001b[39;00m \u001b[38;5;21;01mstatsmodels\u001b[39;00m\u001b[38;5;21;01m.\u001b[39;00m\u001b[38;5;21;01mtsa\u001b[39;00m\u001b[38;5;21;01m.\u001b[39;00m\u001b[38;5;21;01mstattools\u001b[39;00m \u001b[38;5;28;01mimport\u001b[39;00m grangercausalitytests\n\u001b[0;32m----> 5\u001b[0m \u001b[38;5;28;01mimport\u001b[39;00m \u001b[38;5;21;01mpandas\u001b[39;00m\u001b[38;5;21;01m.\u001b[39;00m\u001b[38;5;21;01mutil\u001b[39;00m\u001b[38;5;21;01m.\u001b[39;00m\u001b[38;5;21;01mtesting\u001b[39;00m \u001b[38;5;28;01mas\u001b[39;00m \u001b[38;5;21;01mtm\u001b[39;00m\n",
      "\u001b[0;31mModuleNotFoundError\u001b[0m: No module named 'pandas.util.testing'"
     ]
    }
   ],
   "source": [
    "# @markdown Execute this cell to get custom imports from stats models\n",
    "# we need custom imports from stats models\n",
    "!pip install statsmodels --quiet\n",
    "from statsmodels.tsa.stattools import grangercausalitytests\n",
    "import pandas.util.testing as tm"
   ]
  },
  {
   "cell_type": "markdown",
   "metadata": {
    "execution": {}
   },
   "source": [
    "### Bonus Section 2.1: Granger causality in small systems\n",
    "\n",
    "We will first evaluate Granger causality in a small system.\n",
    "\n"
   ]
  },
  {
   "cell_type": "markdown",
   "metadata": {
    "execution": {}
   },
   "source": [
    "#### Bonus Coding Exercise 2.1: Evaluate Granger causality\n",
    "\n",
    "Complete the following definition to evaluate the Granger causality between our neurons. Then run the cells below to evaluate how well it works. You will use the `grangercausalitytests()` function already imported from statsmodels. We will then check whether a neuron in a small system Granger-causes the others.\n"
   ]
  },
  {
   "cell_type": "code",
   "execution_count": 23,
   "metadata": {
    "execution": {
     "iopub.execute_input": "2023-04-17T17:00:08.653478Z",
     "iopub.status.busy": "2023-04-17T17:00:08.652952Z",
     "iopub.status.idle": "2023-04-17T17:00:09.230393Z",
     "shell.execute_reply": "2023-04-17T17:00:09.229717Z"
    }
   },
   "outputs": [
    {
     "ename": "NotImplementedError",
     "evalue": "Student exercise: complete get_granger_causality function",
     "output_type": "error",
     "traceback": [
      "\u001b[0;31m---------------------------------------------------------------------------\u001b[0m",
      "\u001b[0;31mNotImplementedError\u001b[0m                       Traceback (most recent call last)",
      "Cell \u001b[0;32mIn[23], line 55\u001b[0m\n\u001b[1;32m     52\u001b[0m X \u001b[38;5;241m=\u001b[39m simulate_neurons(A, timesteps, random_state)\n\u001b[1;32m     54\u001b[0m \u001b[38;5;66;03m# Estimate Granger causality\u001b[39;00m\n\u001b[0;32m---> 55\u001b[0m reject_null, p_vals \u001b[38;5;241m=\u001b[39m \u001b[43mget_granger_causality\u001b[49m\u001b[43m(\u001b[49m\u001b[43mX\u001b[49m\u001b[43m,\u001b[49m\u001b[43m \u001b[49m\u001b[43mselected_neuron\u001b[49m\u001b[43m)\u001b[49m\n\u001b[1;32m     57\u001b[0m \u001b[38;5;66;03m# Visualize\u001b[39;00m\n\u001b[1;32m     58\u001b[0m compare_granger_connectivity(A, reject_null, selected_neuron)\n",
      "Cell \u001b[0;32mIn[23], line 32\u001b[0m, in \u001b[0;36mget_granger_causality\u001b[0;34m(X, selected_neuron, alpha)\u001b[0m\n\u001b[1;32m     23\u001b[0m ts_data \u001b[38;5;241m=\u001b[39m X[[target_neuron, selected_neuron], :]\u001b[38;5;241m.\u001b[39mtranspose()\n\u001b[1;32m     25\u001b[0m \u001b[38;5;66;03m########################################################################\u001b[39;00m\n\u001b[1;32m     26\u001b[0m \u001b[38;5;66;03m## Insert your code here to run Granger causality tests.\u001b[39;00m\n\u001b[1;32m     27\u001b[0m \u001b[38;5;66;03m##\u001b[39;00m\n\u001b[0;32m   (...)\u001b[0m\n\u001b[1;32m     30\u001b[0m \u001b[38;5;66;03m##     Granger causality -> grangercausalitytests\u001b[39;00m\n\u001b[1;32m     31\u001b[0m \u001b[38;5;66;03m## Fill out this function and then remove\u001b[39;00m\n\u001b[0;32m---> 32\u001b[0m \u001b[38;5;28;01mraise\u001b[39;00m \u001b[38;5;167;01mNotImplementedError\u001b[39;00m(\u001b[38;5;124m'\u001b[39m\u001b[38;5;124mStudent exercise: complete get_granger_causality function\u001b[39m\u001b[38;5;124m'\u001b[39m)\n\u001b[1;32m     33\u001b[0m \u001b[38;5;66;03m########################################################################\u001b[39;00m\n\u001b[1;32m     34\u001b[0m res \u001b[38;5;241m=\u001b[39m grangercausalitytests(\u001b[38;5;241m.\u001b[39m\u001b[38;5;241m.\u001b[39m\u001b[38;5;241m.\u001b[39m)\n",
      "\u001b[0;31mNotImplementedError\u001b[0m: Student exercise: complete get_granger_causality function"
     ]
    }
   ],
   "source": [
    "def get_granger_causality(X, selected_neuron, alpha=0.05):\n",
    "  \"\"\"\n",
    "  Estimates the lag-1 granger causality of the given neuron on the other neurons in the system.\n",
    "\n",
    "  Args:\n",
    "      X (np.ndarray): the matrix holding our dynamical system of shape (n_neurons, timesteps)\n",
    "      selected_neuron (int): the index of the neuron we want to estimate granger causality for\n",
    "      alpha (float): Bonferroni multiple comparisons correction\n",
    "\n",
    "  Returns:\n",
    "      A tuple (reject_null, p_vals)\n",
    "      reject_null (list): a binary list of length n_neurons whether the null was\n",
    "          rejected for the selected neuron granger causing the other neurons\n",
    "      p_vals (list): a list of the p-values for the corresponding Granger causality tests\n",
    "  \"\"\"\n",
    "  n_neurons = X.shape[0]\n",
    "  max_lag = 1\n",
    "\n",
    "  reject_null = []\n",
    "  p_vals = []\n",
    "\n",
    "  for target_neuron in range(n_neurons):\n",
    "    ts_data = X[[target_neuron, selected_neuron], :].transpose()\n",
    "\n",
    "    ########################################################################\n",
    "    ## Insert your code here to run Granger causality tests.\n",
    "    ##\n",
    "    ## Function Hints:\n",
    "    ##     Pass the ts_data defined above as the first argument\n",
    "    ##     Granger causality -> grangercausalitytests\n",
    "    ## Fill out this function and then remove\n",
    "    raise NotImplementedError('Student exercise: complete get_granger_causality function')\n",
    "    ########################################################################\n",
    "    res = grangercausalitytests(...)\n",
    "\n",
    "    # Gets the p-value for the log-ratio test\n",
    "    pval = res[1][0]['lrtest'][1]\n",
    "\n",
    "    p_vals.append(pval)\n",
    "    reject_null.append(int(pval < alpha))\n",
    "\n",
    "  return reject_null, p_vals\n",
    "\n",
    "\n",
    "# Set up small system\n",
    "n_neurons = 6\n",
    "timesteps = 5000\n",
    "random_state = 42\n",
    "selected_neuron = 1\n",
    "\n",
    "A = create_connectivity(n_neurons, random_state)\n",
    "X = simulate_neurons(A, timesteps, random_state)\n",
    "\n",
    "# Estimate Granger causality\n",
    "reject_null, p_vals = get_granger_causality(X, selected_neuron)\n",
    "\n",
    "# Visualize\n",
    "compare_granger_connectivity(A, reject_null, selected_neuron)"
   ]
  },
  {
   "cell_type": "markdown",
   "metadata": {
    "colab_type": "text",
    "execution": {}
   },
   "source": [
    "[*Click for solution*](https://github.com/NeuromatchAcademy/course-content/tree/main//tutorials/W3D5_NetworkCausality/solutions/W3D5_Tutorial4_Solution_2e17e047.py)\n",
    "\n",
    "*Example output:*\n",
    "\n",
    "<img alt='Solution hint' align='left' width=1384.0 height=683.0 src=https://raw.githubusercontent.com/NeuromatchAcademy/course-content/main/tutorials/W3D5_NetworkCausality/static/W3D5_Tutorial4_Solution_2e17e047_0.png>\n",
    "\n"
   ]
  },
  {
   "cell_type": "markdown",
   "metadata": {
    "execution": {}
   },
   "source": [
    "Looks good! Let's also check the correlation between Granger estimates and the true connectivity.\n"
   ]
  },
  {
   "cell_type": "code",
   "execution_count": 24,
   "metadata": {
    "execution": {
     "iopub.execute_input": "2023-04-17T17:00:09.233587Z",
     "iopub.status.busy": "2023-04-17T17:00:09.233235Z",
     "iopub.status.idle": "2023-04-17T17:00:09.250845Z",
     "shell.execute_reply": "2023-04-17T17:00:09.250255Z"
    }
   },
   "outputs": [
    {
     "ename": "NameError",
     "evalue": "name 'reject_null' is not defined",
     "output_type": "error",
     "traceback": [
      "\u001b[0;31m---------------------------------------------------------------------------\u001b[0m",
      "\u001b[0;31mNameError\u001b[0m                                 Traceback (most recent call last)",
      "Cell \u001b[0;32mIn[24], line 1\u001b[0m\n\u001b[0;32m----> 1\u001b[0m np\u001b[38;5;241m.\u001b[39mcorrcoef(A[:,selected_neuron], np\u001b[38;5;241m.\u001b[39marray(\u001b[43mreject_null\u001b[49m))[\u001b[38;5;241m1\u001b[39m, \u001b[38;5;241m0\u001b[39m]\n",
      "\u001b[0;31mNameError\u001b[0m: name 'reject_null' is not defined"
     ]
    }
   ],
   "source": [
    "np.corrcoef(A[:,selected_neuron], np.array(reject_null))[1, 0]"
   ]
  },
  {
   "cell_type": "markdown",
   "metadata": {
    "execution": {}
   },
   "source": [
    "When we have a small system, we correctly identify the causality of neuron 1."
   ]
  },
  {
   "cell_type": "markdown",
   "metadata": {
    "execution": {}
   },
   "source": [
    "### Bonus Section 2.2: Granger causality in large systems"
   ]
  },
  {
   "cell_type": "markdown",
   "metadata": {
    "execution": {}
   },
   "source": [
    "We will now run Granger causality on a large system with 100 neurons. Does it still work well? How does the number of timesteps matter?"
   ]
  },
  {
   "cell_type": "markdown",
   "metadata": {},
   "source": [
    " Execute this cell to examine Granger causality in a large system\n"
   ]
  },
  {
   "cell_type": "code",
   "execution_count": 25,
   "metadata": {
    "cellView": "form",
    "execution": {
     "iopub.execute_input": "2023-04-17T17:00:09.253747Z",
     "iopub.status.busy": "2023-04-17T17:00:09.253385Z",
     "iopub.status.idle": "2023-04-17T17:00:12.737426Z",
     "shell.execute_reply": "2023-04-17T17:00:12.736854Z"
    },
    "tags": [
     "hide-input"
    ]
   },
   "outputs": [
    {
     "ename": "NotImplementedError",
     "evalue": "Student exercise: complete get_granger_causality function",
     "output_type": "error",
     "traceback": [
      "\u001b[0;31m---------------------------------------------------------------------------\u001b[0m",
      "\u001b[0;31mNotImplementedError\u001b[0m                       Traceback (most recent call last)",
      "Cell \u001b[0;32mIn[25], line 10\u001b[0m\n\u001b[1;32m      7\u001b[0m X \u001b[38;5;241m=\u001b[39m simulate_neurons(A, timesteps, random_state)\n\u001b[1;32m      9\u001b[0m \u001b[38;5;66;03m# get granger causality estimates\u001b[39;00m\n\u001b[0;32m---> 10\u001b[0m reject_null, p_vals \u001b[38;5;241m=\u001b[39m \u001b[43mget_granger_causality\u001b[49m\u001b[43m(\u001b[49m\u001b[43mX\u001b[49m\u001b[43m,\u001b[49m\u001b[43m \u001b[49m\u001b[43mselected_neuron\u001b[49m\u001b[43m)\u001b[49m\n\u001b[1;32m     11\u001b[0m compare_granger_connectivity(A, reject_null, selected_neuron)\n",
      "Cell \u001b[0;32mIn[23], line 32\u001b[0m, in \u001b[0;36mget_granger_causality\u001b[0;34m(X, selected_neuron, alpha)\u001b[0m\n\u001b[1;32m     23\u001b[0m ts_data \u001b[38;5;241m=\u001b[39m X[[target_neuron, selected_neuron], :]\u001b[38;5;241m.\u001b[39mtranspose()\n\u001b[1;32m     25\u001b[0m \u001b[38;5;66;03m########################################################################\u001b[39;00m\n\u001b[1;32m     26\u001b[0m \u001b[38;5;66;03m## Insert your code here to run Granger causality tests.\u001b[39;00m\n\u001b[1;32m     27\u001b[0m \u001b[38;5;66;03m##\u001b[39;00m\n\u001b[0;32m   (...)\u001b[0m\n\u001b[1;32m     30\u001b[0m \u001b[38;5;66;03m##     Granger causality -> grangercausalitytests\u001b[39;00m\n\u001b[1;32m     31\u001b[0m \u001b[38;5;66;03m## Fill out this function and then remove\u001b[39;00m\n\u001b[0;32m---> 32\u001b[0m \u001b[38;5;28;01mraise\u001b[39;00m \u001b[38;5;167;01mNotImplementedError\u001b[39;00m(\u001b[38;5;124m'\u001b[39m\u001b[38;5;124mStudent exercise: complete get_granger_causality function\u001b[39m\u001b[38;5;124m'\u001b[39m)\n\u001b[1;32m     33\u001b[0m \u001b[38;5;66;03m########################################################################\u001b[39;00m\n\u001b[1;32m     34\u001b[0m res \u001b[38;5;241m=\u001b[39m grangercausalitytests(\u001b[38;5;241m.\u001b[39m\u001b[38;5;241m.\u001b[39m\u001b[38;5;241m.\u001b[39m)\n",
      "\u001b[0;31mNotImplementedError\u001b[0m: Student exercise: complete get_granger_causality function"
     ]
    }
   ],
   "source": [
    "# @markdown Execute this cell to examine Granger causality in a large system\n",
    "n_neurons = 100\n",
    "timesteps = 5000\n",
    "random_state = 42\n",
    "selected_neuron = 1\n",
    "A = create_connectivity(n_neurons, random_state)\n",
    "X = simulate_neurons(A, timesteps, random_state)\n",
    "\n",
    "# get granger causality estimates\n",
    "reject_null, p_vals = get_granger_causality(X, selected_neuron)\n",
    "compare_granger_connectivity(A, reject_null, selected_neuron)"
   ]
  },
  {
   "cell_type": "markdown",
   "metadata": {
    "execution": {}
   },
   "source": [
    "Let's again check the correlation between the Granger estimates and the true connectivity. Are we able to recover the true connectivity well in this larger system?"
   ]
  },
  {
   "cell_type": "code",
   "execution_count": 26,
   "metadata": {
    "execution": {
     "iopub.execute_input": "2023-04-17T17:00:12.740451Z",
     "iopub.status.busy": "2023-04-17T17:00:12.740032Z",
     "iopub.status.idle": "2023-04-17T17:00:12.755062Z",
     "shell.execute_reply": "2023-04-17T17:00:12.754538Z"
    }
   },
   "outputs": [
    {
     "ename": "NameError",
     "evalue": "name 'reject_null' is not defined",
     "output_type": "error",
     "traceback": [
      "\u001b[0;31m---------------------------------------------------------------------------\u001b[0m",
      "\u001b[0;31mNameError\u001b[0m                                 Traceback (most recent call last)",
      "Cell \u001b[0;32mIn[26], line 1\u001b[0m\n\u001b[0;32m----> 1\u001b[0m np\u001b[38;5;241m.\u001b[39mcorrcoef(A[:,selected_neuron], np\u001b[38;5;241m.\u001b[39marray(\u001b[43mreject_null\u001b[49m))[\u001b[38;5;241m1\u001b[39m, \u001b[38;5;241m0\u001b[39m]\n",
      "\u001b[0;31mNameError\u001b[0m: name 'reject_null' is not defined"
     ]
    }
   ],
   "source": [
    "np.corrcoef(A[:,selected_neuron], np.array(reject_null))[1, 0]"
   ]
  },
  {
   "cell_type": "markdown",
   "metadata": {
    "execution": {}
   },
   "source": [
    "**Notes on Granger Causality**\n",
    "\n",
    "Here we considered bivariate Granger causality -- for each pair of neurons $A, B$, does one Granger-cause the other? You might wonder whether considering more variables will help with estimation. *Conditional Granger Causality* is a technique that allows for a multivariate system, where we test whether $A$ Granger-causes $B$ conditional on the other variables in the system. \n",
    "\n",
    "Even after controlling for variables in the system, conditional Granger causality will also likely perform poorly as our system gets larger. Plus, measuring the additional variables to condition on may be infeasible in practical applications, which would introduce omitted variable bias as we saw in the regression exercise.\n",
    "\n",
    "One takeaway here is that as our estimation procedures become more sophisticated, they also become more difficult to interpret. We always need to understand the methods and the assumptions that are made."
   ]
  }
 ],
 "metadata": {
  "colab": {
   "collapsed_sections": [],
   "include_colab_link": true,
   "name": "W3D5_Tutorial4",
   "provenance": [],
   "toc_visible": true
  },
  "kernel": {
   "display_name": "Python 3",
   "language": "python",
   "name": "python3"
  },
  "kernelspec": {
   "display_name": "Python 3",
   "name": "python3"
  },
  "language_info": {
   "codemirror_mode": {
    "name": "ipython",
    "version": 3
   },
   "file_extension": ".py",
   "mimetype": "text/x-python",
   "name": "python",
   "nbconvert_exporter": "python",
   "pygments_lexer": "ipython3",
   "version": "3.11.3"
  },
  "widgets": {
   "application/vnd.jupyter.widget-state+json": {
    "state": {
     "0d1a70415c52489da94cc775fe9ecef9": {
      "model_module": "@jupyter-widgets/base",
      "model_module_version": "2.0.0",
      "model_name": "LayoutModel",
      "state": {
       "_model_module": "@jupyter-widgets/base",
       "_model_module_version": "2.0.0",
       "_model_name": "LayoutModel",
       "_view_count": null,
       "_view_module": "@jupyter-widgets/base",
       "_view_module_version": "2.0.0",
       "_view_name": "LayoutView",
       "align_content": null,
       "align_items": null,
       "align_self": null,
       "border_bottom": null,
       "border_left": null,
       "border_right": null,
       "border_top": null,
       "bottom": null,
       "display": null,
       "flex": null,
       "flex_flow": null,
       "grid_area": null,
       "grid_auto_columns": null,
       "grid_auto_flow": null,
       "grid_auto_rows": null,
       "grid_column": null,
       "grid_gap": null,
       "grid_row": null,
       "grid_template_areas": null,
       "grid_template_columns": null,
       "grid_template_rows": null,
       "height": null,
       "justify_content": null,
       "justify_items": null,
       "left": null,
       "margin": null,
       "max_height": null,
       "max_width": null,
       "min_height": null,
       "min_width": null,
       "object_fit": null,
       "object_position": null,
       "order": null,
       "overflow": null,
       "padding": null,
       "right": null,
       "top": null,
       "visibility": null,
       "width": null
      }
     },
     "0d415170be434220bc36f9c3a244380c": {
      "model_module": "@jupyter-widgets/base",
      "model_module_version": "2.0.0",
      "model_name": "LayoutModel",
      "state": {
       "_model_module": "@jupyter-widgets/base",
       "_model_module_version": "2.0.0",
       "_model_name": "LayoutModel",
       "_view_count": null,
       "_view_module": "@jupyter-widgets/base",
       "_view_module_version": "2.0.0",
       "_view_name": "LayoutView",
       "align_content": null,
       "align_items": null,
       "align_self": null,
       "border_bottom": null,
       "border_left": null,
       "border_right": null,
       "border_top": null,
       "bottom": null,
       "display": null,
       "flex": null,
       "flex_flow": null,
       "grid_area": null,
       "grid_auto_columns": null,
       "grid_auto_flow": null,
       "grid_auto_rows": null,
       "grid_column": null,
       "grid_gap": null,
       "grid_row": null,
       "grid_template_areas": null,
       "grid_template_columns": null,
       "grid_template_rows": null,
       "height": null,
       "justify_content": null,
       "justify_items": null,
       "left": null,
       "margin": null,
       "max_height": null,
       "max_width": null,
       "min_height": null,
       "min_width": null,
       "object_fit": null,
       "object_position": null,
       "order": null,
       "overflow": null,
       "padding": null,
       "right": null,
       "top": null,
       "visibility": null,
       "width": null
      }
     },
     "10e2017896d0415bbbd0229dda159da6": {
      "model_module": "@jupyter-widgets/base",
      "model_module_version": "2.0.0",
      "model_name": "LayoutModel",
      "state": {
       "_model_module": "@jupyter-widgets/base",
       "_model_module_version": "2.0.0",
       "_model_name": "LayoutModel",
       "_view_count": null,
       "_view_module": "@jupyter-widgets/base",
       "_view_module_version": "2.0.0",
       "_view_name": "LayoutView",
       "align_content": null,
       "align_items": null,
       "align_self": null,
       "border_bottom": null,
       "border_left": null,
       "border_right": null,
       "border_top": null,
       "bottom": null,
       "display": null,
       "flex": null,
       "flex_flow": null,
       "grid_area": null,
       "grid_auto_columns": null,
       "grid_auto_flow": null,
       "grid_auto_rows": null,
       "grid_column": null,
       "grid_gap": null,
       "grid_row": null,
       "grid_template_areas": null,
       "grid_template_columns": null,
       "grid_template_rows": null,
       "height": null,
       "justify_content": null,
       "justify_items": null,
       "left": null,
       "margin": null,
       "max_height": null,
       "max_width": null,
       "min_height": null,
       "min_width": null,
       "object_fit": null,
       "object_position": null,
       "order": null,
       "overflow": null,
       "padding": null,
       "right": null,
       "top": null,
       "visibility": null,
       "width": null
      }
     },
     "120ca6610fa8467fb296a33a77f53a13": {
      "model_module": "@jupyter-widgets/base",
      "model_module_version": "2.0.0",
      "model_name": "LayoutModel",
      "state": {
       "_model_module": "@jupyter-widgets/base",
       "_model_module_version": "2.0.0",
       "_model_name": "LayoutModel",
       "_view_count": null,
       "_view_module": "@jupyter-widgets/base",
       "_view_module_version": "2.0.0",
       "_view_name": "LayoutView",
       "align_content": null,
       "align_items": null,
       "align_self": null,
       "border_bottom": null,
       "border_left": null,
       "border_right": null,
       "border_top": null,
       "bottom": null,
       "display": null,
       "flex": null,
       "flex_flow": null,
       "grid_area": null,
       "grid_auto_columns": null,
       "grid_auto_flow": null,
       "grid_auto_rows": null,
       "grid_column": null,
       "grid_gap": null,
       "grid_row": null,
       "grid_template_areas": null,
       "grid_template_columns": null,
       "grid_template_rows": null,
       "height": null,
       "justify_content": null,
       "justify_items": null,
       "left": null,
       "margin": null,
       "max_height": null,
       "max_width": null,
       "min_height": null,
       "min_width": null,
       "object_fit": null,
       "object_position": null,
       "order": null,
       "overflow": null,
       "padding": null,
       "right": null,
       "top": null,
       "visibility": null,
       "width": null
      }
     },
     "12a264d1fb10487788dccf025dfff221": {
      "model_module": "@jupyter-widgets/output",
      "model_module_version": "1.0.0",
      "model_name": "OutputModel",
      "state": {
       "_dom_classes": [],
       "_model_module": "@jupyter-widgets/output",
       "_model_module_version": "1.0.0",
       "_model_name": "OutputModel",
       "_view_count": null,
       "_view_module": "@jupyter-widgets/output",
       "_view_module_version": "1.0.0",
       "_view_name": "OutputView",
       "layout": "IPY_MODEL_75f0a675d4fc4b7cb018aaf96a7b1fb8",
       "msg_id": "",
       "outputs": [
        {
         "name": "stdout",
         "output_type": "stream",
         "text": "Video available at https://youtube.com/watch?v=4WT0KrySRTg\n"
        },
        {
         "data": {
          "image/jpeg": "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\n",
          "text/html": "\n        <iframe\n            width=\"730\"\n            height=\"410\"\n            src=\"https://www.youtube.com/embed/4WT0KrySRTg?fs=1&rel=0\"\n            frameborder=\"0\"\n            allowfullscreen\n            \n        ></iframe>\n        ",
          "text/plain": "<IPython.lib.display.YouTubeVideo at 0x7fd4a4cfb4d0>"
         },
         "metadata": {},
         "output_type": "display_data"
        }
       ],
       "tabbable": null,
       "tooltip": null
      }
     },
     "22b3b0fda394444abee91179214429fb": {
      "model_module": "@jupyter-widgets/controls",
      "model_module_version": "2.0.0",
      "model_name": "TabModel",
      "state": {
       "_dom_classes": [],
       "_model_module": "@jupyter-widgets/controls",
       "_model_module_version": "2.0.0",
       "_model_name": "TabModel",
       "_view_count": null,
       "_view_module": "@jupyter-widgets/controls",
       "_view_module_version": "2.0.0",
       "_view_name": "TabView",
       "box_style": "",
       "children": [
        "IPY_MODEL_b785c46c14de491fb993f871cca7f60d",
        "IPY_MODEL_443a59b25fa6405790c5aac2d1bd538a"
       ],
       "layout": "IPY_MODEL_6c511b464c794ab780ba908a33c35855",
       "selected_index": 0,
       "tabbable": null,
       "titles": [
        "Youtube",
        "Bilibili"
       ],
       "tooltip": null
      }
     },
     "3149891ffce549428748ee81d612feb1": {
      "model_module": "@jupyter-widgets/base",
      "model_module_version": "2.0.0",
      "model_name": "LayoutModel",
      "state": {
       "_model_module": "@jupyter-widgets/base",
       "_model_module_version": "2.0.0",
       "_model_name": "LayoutModel",
       "_view_count": null,
       "_view_module": "@jupyter-widgets/base",
       "_view_module_version": "2.0.0",
       "_view_name": "LayoutView",
       "align_content": null,
       "align_items": null,
       "align_self": null,
       "border_bottom": null,
       "border_left": null,
       "border_right": null,
       "border_top": null,
       "bottom": null,
       "display": null,
       "flex": null,
       "flex_flow": null,
       "grid_area": null,
       "grid_auto_columns": null,
       "grid_auto_flow": null,
       "grid_auto_rows": null,
       "grid_column": null,
       "grid_gap": null,
       "grid_row": null,
       "grid_template_areas": null,
       "grid_template_columns": null,
       "grid_template_rows": null,
       "height": null,
       "justify_content": null,
       "justify_items": null,
       "left": null,
       "margin": null,
       "max_height": null,
       "max_width": null,
       "min_height": null,
       "min_width": null,
       "object_fit": null,
       "object_position": null,
       "order": null,
       "overflow": null,
       "padding": null,
       "right": null,
       "top": null,
       "visibility": null,
       "width": null
      }
     },
     "330edaa577204303b51edb4f4f00fd37": {
      "model_module": "@jupyter-widgets/output",
      "model_module_version": "1.0.0",
      "model_name": "OutputModel",
      "state": {
       "_dom_classes": [],
       "_model_module": "@jupyter-widgets/output",
       "_model_module_version": "1.0.0",
       "_model_name": "OutputModel",
       "_view_count": null,
       "_view_module": "@jupyter-widgets/output",
       "_view_module_version": "1.0.0",
       "_view_name": "OutputView",
       "layout": "IPY_MODEL_68ae0df6ff33464b8f3a595faed20160",
       "msg_id": "",
       "outputs": [
        {
         "name": "stdout",
         "output_type": "stream",
         "text": "Video available at https://www.bilibili.com/video/BV1pv411q7Hc\n"
        },
        {
         "data": {
          "text/html": "\n        <iframe\n            width=\"730\"\n            height=\"410\"\n            src=\"https://player.bilibili.com/player.html?bvid=BV1pv411q7Hc&page=1?fs=1\"\n            frameborder=\"0\"\n            allowfullscreen\n            \n        ></iframe>\n        ",
          "text/plain": "<__main__.BiliVideo at 0x7fd49fd826d0>"
         },
         "metadata": {},
         "output_type": "display_data"
        }
       ],
       "tabbable": null,
       "tooltip": null
      }
     },
     "342fc2e37e0e45fd84befe9a8532c87a": {
      "model_module": "@jupyter-widgets/base",
      "model_module_version": "2.0.0",
      "model_name": "LayoutModel",
      "state": {
       "_model_module": "@jupyter-widgets/base",
       "_model_module_version": "2.0.0",
       "_model_name": "LayoutModel",
       "_view_count": null,
       "_view_module": "@jupyter-widgets/base",
       "_view_module_version": "2.0.0",
       "_view_name": "LayoutView",
       "align_content": null,
       "align_items": null,
       "align_self": null,
       "border_bottom": null,
       "border_left": null,
       "border_right": null,
       "border_top": null,
       "bottom": null,
       "display": null,
       "flex": null,
       "flex_flow": null,
       "grid_area": null,
       "grid_auto_columns": null,
       "grid_auto_flow": null,
       "grid_auto_rows": null,
       "grid_column": null,
       "grid_gap": null,
       "grid_row": null,
       "grid_template_areas": null,
       "grid_template_columns": null,
       "grid_template_rows": null,
       "height": null,
       "justify_content": null,
       "justify_items": null,
       "left": null,
       "margin": null,
       "max_height": null,
       "max_width": null,
       "min_height": null,
       "min_width": null,
       "object_fit": null,
       "object_position": null,
       "order": null,
       "overflow": null,
       "padding": null,
       "right": null,
       "top": null,
       "visibility": null,
       "width": null
      }
     },
     "3ed3c2b4d0c34f1b946f8cf68788857c": {
      "model_module": "@jupyter-widgets/controls",
      "model_module_version": "2.0.0",
      "model_name": "TabModel",
      "state": {
       "_dom_classes": [],
       "_model_module": "@jupyter-widgets/controls",
       "_model_module_version": "2.0.0",
       "_model_name": "TabModel",
       "_view_count": null,
       "_view_module": "@jupyter-widgets/controls",
       "_view_module_version": "2.0.0",
       "_view_name": "TabView",
       "box_style": "",
       "children": [
        "IPY_MODEL_6ffb3d5850414775afcd8fee735466db",
        "IPY_MODEL_bc1724a6fcb34c5bb53cdc30b9ef8141"
       ],
       "layout": "IPY_MODEL_5af53e31e8d2464a943406947a991a9c",
       "selected_index": 0,
       "tabbable": null,
       "titles": [
        "Youtube",
        "Bilibili"
       ],
       "tooltip": null
      }
     },
     "443a59b25fa6405790c5aac2d1bd538a": {
      "model_module": "@jupyter-widgets/output",
      "model_module_version": "1.0.0",
      "model_name": "OutputModel",
      "state": {
       "_dom_classes": [],
       "_model_module": "@jupyter-widgets/output",
       "_model_module_version": "1.0.0",
       "_model_name": "OutputModel",
       "_view_count": null,
       "_view_module": "@jupyter-widgets/output",
       "_view_module_version": "1.0.0",
       "_view_name": "OutputView",
       "layout": "IPY_MODEL_77443a8893894225b971db66b0d1de4b",
       "msg_id": "",
       "outputs": [
        {
         "name": "stdout",
         "output_type": "stream",
         "text": "Video available at https://www.bilibili.com/video/BV1of4y1R7L1\n"
        },
        {
         "data": {
          "text/html": "\n        <iframe\n            width=\"730\"\n            height=\"410\"\n            src=\"https://player.bilibili.com/player.html?bvid=BV1of4y1R7L1&page=1?fs=1\"\n            frameborder=\"0\"\n            allowfullscreen\n            \n        ></iframe>\n        ",
          "text/plain": "<__main__.BiliVideo at 0x7fd4a25435d0>"
         },
         "metadata": {},
         "output_type": "display_data"
        }
       ],
       "tabbable": null,
       "tooltip": null
      }
     },
     "5a54925a126a4b4284c44789134b1172": {
      "model_module": "@jupyter-widgets/controls",
      "model_module_version": "2.0.0",
      "model_name": "TabModel",
      "state": {
       "_dom_classes": [],
       "_model_module": "@jupyter-widgets/controls",
       "_model_module_version": "2.0.0",
       "_model_name": "TabModel",
       "_view_count": null,
       "_view_module": "@jupyter-widgets/controls",
       "_view_module_version": "2.0.0",
       "_view_name": "TabView",
       "box_style": "",
       "children": [
        "IPY_MODEL_8de5ce41fddf42e1b83ee91336ce971d",
        "IPY_MODEL_f9d5c2a902e74c89a61401b21c37ae56"
       ],
       "layout": "IPY_MODEL_3149891ffce549428748ee81d612feb1",
       "selected_index": 0,
       "tabbable": null,
       "titles": [
        "Youtube",
        "Bilibili"
       ],
       "tooltip": null
      }
     },
     "5af53e31e8d2464a943406947a991a9c": {
      "model_module": "@jupyter-widgets/base",
      "model_module_version": "2.0.0",
      "model_name": "LayoutModel",
      "state": {
       "_model_module": "@jupyter-widgets/base",
       "_model_module_version": "2.0.0",
       "_model_name": "LayoutModel",
       "_view_count": null,
       "_view_module": "@jupyter-widgets/base",
       "_view_module_version": "2.0.0",
       "_view_name": "LayoutView",
       "align_content": null,
       "align_items": null,
       "align_self": null,
       "border_bottom": null,
       "border_left": null,
       "border_right": null,
       "border_top": null,
       "bottom": null,
       "display": null,
       "flex": null,
       "flex_flow": null,
       "grid_area": null,
       "grid_auto_columns": null,
       "grid_auto_flow": null,
       "grid_auto_rows": null,
       "grid_column": null,
       "grid_gap": null,
       "grid_row": null,
       "grid_template_areas": null,
       "grid_template_columns": null,
       "grid_template_rows": null,
       "height": null,
       "justify_content": null,
       "justify_items": null,
       "left": null,
       "margin": null,
       "max_height": null,
       "max_width": null,
       "min_height": null,
       "min_width": null,
       "object_fit": null,
       "object_position": null,
       "order": null,
       "overflow": null,
       "padding": null,
       "right": null,
       "top": null,
       "visibility": null,
       "width": null
      }
     },
     "604c3ccc5daa4946ad00c879d398d9f9": {
      "model_module": "@jupyter-widgets/controls",
      "model_module_version": "2.0.0",
      "model_name": "TabModel",
      "state": {
       "_dom_classes": [],
       "_model_module": "@jupyter-widgets/controls",
       "_model_module_version": "2.0.0",
       "_model_name": "TabModel",
       "_view_count": null,
       "_view_module": "@jupyter-widgets/controls",
       "_view_module_version": "2.0.0",
       "_view_name": "TabView",
       "box_style": "",
       "children": [
        "IPY_MODEL_7fb9c28b9c3e4265b752cdb2e7ee83bc",
        "IPY_MODEL_330edaa577204303b51edb4f4f00fd37"
       ],
       "layout": "IPY_MODEL_120ca6610fa8467fb296a33a77f53a13",
       "selected_index": 0,
       "tabbable": null,
       "titles": [
        "Youtube",
        "Bilibili"
       ],
       "tooltip": null
      }
     },
     "68201f4b5f134bc8ae68e77a1e14d30f": {
      "model_module": "@jupyter-widgets/controls",
      "model_module_version": "2.0.0",
      "model_name": "TabModel",
      "state": {
       "_dom_classes": [],
       "_model_module": "@jupyter-widgets/controls",
       "_model_module_version": "2.0.0",
       "_model_name": "TabModel",
       "_view_count": null,
       "_view_module": "@jupyter-widgets/controls",
       "_view_module_version": "2.0.0",
       "_view_name": "TabView",
       "box_style": "",
       "children": [
        "IPY_MODEL_cdc0c9c2ca004b1088163870c617e765",
        "IPY_MODEL_e3ba3adefe534e17b5db39e556f55d40"
       ],
       "layout": "IPY_MODEL_7c6fcf374e5642ea90a79bacd550b0db",
       "selected_index": 0,
       "tabbable": null,
       "titles": [
        "Youtube",
        "Bilibili"
       ],
       "tooltip": null
      }
     },
     "68ae0df6ff33464b8f3a595faed20160": {
      "model_module": "@jupyter-widgets/base",
      "model_module_version": "2.0.0",
      "model_name": "LayoutModel",
      "state": {
       "_model_module": "@jupyter-widgets/base",
       "_model_module_version": "2.0.0",
       "_model_name": "LayoutModel",
       "_view_count": null,
       "_view_module": "@jupyter-widgets/base",
       "_view_module_version": "2.0.0",
       "_view_name": "LayoutView",
       "align_content": null,
       "align_items": null,
       "align_self": null,
       "border_bottom": null,
       "border_left": null,
       "border_right": null,
       "border_top": null,
       "bottom": null,
       "display": null,
       "flex": null,
       "flex_flow": null,
       "grid_area": null,
       "grid_auto_columns": null,
       "grid_auto_flow": null,
       "grid_auto_rows": null,
       "grid_column": null,
       "grid_gap": null,
       "grid_row": null,
       "grid_template_areas": null,
       "grid_template_columns": null,
       "grid_template_rows": null,
       "height": null,
       "justify_content": null,
       "justify_items": null,
       "left": null,
       "margin": null,
       "max_height": null,
       "max_width": null,
       "min_height": null,
       "min_width": null,
       "object_fit": null,
       "object_position": null,
       "order": null,
       "overflow": null,
       "padding": null,
       "right": null,
       "top": null,
       "visibility": null,
       "width": null
      }
     },
     "6c511b464c794ab780ba908a33c35855": {
      "model_module": "@jupyter-widgets/base",
      "model_module_version": "2.0.0",
      "model_name": "LayoutModel",
      "state": {
       "_model_module": "@jupyter-widgets/base",
       "_model_module_version": "2.0.0",
       "_model_name": "LayoutModel",
       "_view_count": null,
       "_view_module": "@jupyter-widgets/base",
       "_view_module_version": "2.0.0",
       "_view_name": "LayoutView",
       "align_content": null,
       "align_items": null,
       "align_self": null,
       "border_bottom": null,
       "border_left": null,
       "border_right": null,
       "border_top": null,
       "bottom": null,
       "display": null,
       "flex": null,
       "flex_flow": null,
       "grid_area": null,
       "grid_auto_columns": null,
       "grid_auto_flow": null,
       "grid_auto_rows": null,
       "grid_column": null,
       "grid_gap": null,
       "grid_row": null,
       "grid_template_areas": null,
       "grid_template_columns": null,
       "grid_template_rows": null,
       "height": null,
       "justify_content": null,
       "justify_items": null,
       "left": null,
       "margin": null,
       "max_height": null,
       "max_width": null,
       "min_height": null,
       "min_width": null,
       "object_fit": null,
       "object_position": null,
       "order": null,
       "overflow": null,
       "padding": null,
       "right": null,
       "top": null,
       "visibility": null,
       "width": null
      }
     },
     "6ffb3d5850414775afcd8fee735466db": {
      "model_module": "@jupyter-widgets/output",
      "model_module_version": "1.0.0",
      "model_name": "OutputModel",
      "state": {
       "_dom_classes": [],
       "_model_module": "@jupyter-widgets/output",
       "_model_module_version": "1.0.0",
       "_model_name": "OutputModel",
       "_view_count": null,
       "_view_module": "@jupyter-widgets/output",
       "_view_module_version": "1.0.0",
       "_view_name": "OutputView",
       "layout": "IPY_MODEL_0d1a70415c52489da94cc775fe9ecef9",
       "msg_id": "",
       "outputs": [
        {
         "name": "stdout",
         "output_type": "stream",
         "text": "Video available at https://youtube.com/watch?v=b6a3Mrefk44\n"
        },
        {
         "data": {
          "image/jpeg": "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\n",
          "text/html": "\n        <iframe\n            width=\"730\"\n            height=\"410\"\n            src=\"https://www.youtube.com/embed/b6a3Mrefk44?fs=1&rel=0\"\n            frameborder=\"0\"\n            allowfullscreen\n            \n        ></iframe>\n        ",
          "text/plain": "<IPython.lib.display.YouTubeVideo at 0x7fd4a2362050>"
         },
         "metadata": {},
         "output_type": "display_data"
        }
       ],
       "tabbable": null,
       "tooltip": null
      }
     },
     "75f0a675d4fc4b7cb018aaf96a7b1fb8": {
      "model_module": "@jupyter-widgets/base",
      "model_module_version": "2.0.0",
      "model_name": "LayoutModel",
      "state": {
       "_model_module": "@jupyter-widgets/base",
       "_model_module_version": "2.0.0",
       "_model_name": "LayoutModel",
       "_view_count": null,
       "_view_module": "@jupyter-widgets/base",
       "_view_module_version": "2.0.0",
       "_view_name": "LayoutView",
       "align_content": null,
       "align_items": null,
       "align_self": null,
       "border_bottom": null,
       "border_left": null,
       "border_right": null,
       "border_top": null,
       "bottom": null,
       "display": null,
       "flex": null,
       "flex_flow": null,
       "grid_area": null,
       "grid_auto_columns": null,
       "grid_auto_flow": null,
       "grid_auto_rows": null,
       "grid_column": null,
       "grid_gap": null,
       "grid_row": null,
       "grid_template_areas": null,
       "grid_template_columns": null,
       "grid_template_rows": null,
       "height": null,
       "justify_content": null,
       "justify_items": null,
       "left": null,
       "margin": null,
       "max_height": null,
       "max_width": null,
       "min_height": null,
       "min_width": null,
       "object_fit": null,
       "object_position": null,
       "order": null,
       "overflow": null,
       "padding": null,
       "right": null,
       "top": null,
       "visibility": null,
       "width": null
      }
     },
     "760a0f9ec065468388c0a2d85e5b5f99": {
      "model_module": "@jupyter-widgets/base",
      "model_module_version": "2.0.0",
      "model_name": "LayoutModel",
      "state": {
       "_model_module": "@jupyter-widgets/base",
       "_model_module_version": "2.0.0",
       "_model_name": "LayoutModel",
       "_view_count": null,
       "_view_module": "@jupyter-widgets/base",
       "_view_module_version": "2.0.0",
       "_view_name": "LayoutView",
       "align_content": null,
       "align_items": null,
       "align_self": null,
       "border_bottom": null,
       "border_left": null,
       "border_right": null,
       "border_top": null,
       "bottom": null,
       "display": null,
       "flex": null,
       "flex_flow": null,
       "grid_area": null,
       "grid_auto_columns": null,
       "grid_auto_flow": null,
       "grid_auto_rows": null,
       "grid_column": null,
       "grid_gap": null,
       "grid_row": null,
       "grid_template_areas": null,
       "grid_template_columns": null,
       "grid_template_rows": null,
       "height": null,
       "justify_content": null,
       "justify_items": null,
       "left": null,
       "margin": null,
       "max_height": null,
       "max_width": null,
       "min_height": null,
       "min_width": null,
       "object_fit": null,
       "object_position": null,
       "order": null,
       "overflow": null,
       "padding": null,
       "right": null,
       "top": null,
       "visibility": null,
       "width": null
      }
     },
     "77443a8893894225b971db66b0d1de4b": {
      "model_module": "@jupyter-widgets/base",
      "model_module_version": "2.0.0",
      "model_name": "LayoutModel",
      "state": {
       "_model_module": "@jupyter-widgets/base",
       "_model_module_version": "2.0.0",
       "_model_name": "LayoutModel",
       "_view_count": null,
       "_view_module": "@jupyter-widgets/base",
       "_view_module_version": "2.0.0",
       "_view_name": "LayoutView",
       "align_content": null,
       "align_items": null,
       "align_self": null,
       "border_bottom": null,
       "border_left": null,
       "border_right": null,
       "border_top": null,
       "bottom": null,
       "display": null,
       "flex": null,
       "flex_flow": null,
       "grid_area": null,
       "grid_auto_columns": null,
       "grid_auto_flow": null,
       "grid_auto_rows": null,
       "grid_column": null,
       "grid_gap": null,
       "grid_row": null,
       "grid_template_areas": null,
       "grid_template_columns": null,
       "grid_template_rows": null,
       "height": null,
       "justify_content": null,
       "justify_items": null,
       "left": null,
       "margin": null,
       "max_height": null,
       "max_width": null,
       "min_height": null,
       "min_width": null,
       "object_fit": null,
       "object_position": null,
       "order": null,
       "overflow": null,
       "padding": null,
       "right": null,
       "top": null,
       "visibility": null,
       "width": null
      }
     },
     "7c6fcf374e5642ea90a79bacd550b0db": {
      "model_module": "@jupyter-widgets/base",
      "model_module_version": "2.0.0",
      "model_name": "LayoutModel",
      "state": {
       "_model_module": "@jupyter-widgets/base",
       "_model_module_version": "2.0.0",
       "_model_name": "LayoutModel",
       "_view_count": null,
       "_view_module": "@jupyter-widgets/base",
       "_view_module_version": "2.0.0",
       "_view_name": "LayoutView",
       "align_content": null,
       "align_items": null,
       "align_self": null,
       "border_bottom": null,
       "border_left": null,
       "border_right": null,
       "border_top": null,
       "bottom": null,
       "display": null,
       "flex": null,
       "flex_flow": null,
       "grid_area": null,
       "grid_auto_columns": null,
       "grid_auto_flow": null,
       "grid_auto_rows": null,
       "grid_column": null,
       "grid_gap": null,
       "grid_row": null,
       "grid_template_areas": null,
       "grid_template_columns": null,
       "grid_template_rows": null,
       "height": null,
       "justify_content": null,
       "justify_items": null,
       "left": null,
       "margin": null,
       "max_height": null,
       "max_width": null,
       "min_height": null,
       "min_width": null,
       "object_fit": null,
       "object_position": null,
       "order": null,
       "overflow": null,
       "padding": null,
       "right": null,
       "top": null,
       "visibility": null,
       "width": null
      }
     },
     "7fb9c28b9c3e4265b752cdb2e7ee83bc": {
      "model_module": "@jupyter-widgets/output",
      "model_module_version": "1.0.0",
      "model_name": "OutputModel",
      "state": {
       "_dom_classes": [],
       "_model_module": "@jupyter-widgets/output",
       "_model_module_version": "1.0.0",
       "_model_name": "OutputModel",
       "_view_count": null,
       "_view_module": "@jupyter-widgets/output",
       "_view_module_version": "1.0.0",
       "_view_name": "OutputView",
       "layout": "IPY_MODEL_bb53d9e446e345d3967160c8ade4913b",
       "msg_id": "",
       "outputs": [
        {
         "name": "stdout",
         "output_type": "stream",
         "text": "Video available at https://youtube.com/watch?v=zceWyoQn09s\n"
        },
        {
         "data": {
          "image/jpeg": "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\n",
          "text/html": "\n        <iframe\n            width=\"730\"\n            height=\"410\"\n            src=\"https://www.youtube.com/embed/zceWyoQn09s?fs=1&rel=0\"\n            frameborder=\"0\"\n            allowfullscreen\n            \n        ></iframe>\n        ",
          "text/plain": "<IPython.lib.display.YouTubeVideo at 0x7fd49fd92990>"
         },
         "metadata": {},
         "output_type": "display_data"
        }
       ],
       "tabbable": null,
       "tooltip": null
      }
     },
     "88a7dbaa528243118b0932a590818b91": {
      "model_module": "@jupyter-widgets/base",
      "model_module_version": "2.0.0",
      "model_name": "LayoutModel",
      "state": {
       "_model_module": "@jupyter-widgets/base",
       "_model_module_version": "2.0.0",
       "_model_name": "LayoutModel",
       "_view_count": null,
       "_view_module": "@jupyter-widgets/base",
       "_view_module_version": "2.0.0",
       "_view_name": "LayoutView",
       "align_content": null,
       "align_items": null,
       "align_self": null,
       "border_bottom": null,
       "border_left": null,
       "border_right": null,
       "border_top": null,
       "bottom": null,
       "display": null,
       "flex": null,
       "flex_flow": null,
       "grid_area": null,
       "grid_auto_columns": null,
       "grid_auto_flow": null,
       "grid_auto_rows": null,
       "grid_column": null,
       "grid_gap": null,
       "grid_row": null,
       "grid_template_areas": null,
       "grid_template_columns": null,
       "grid_template_rows": null,
       "height": null,
       "justify_content": null,
       "justify_items": null,
       "left": null,
       "margin": null,
       "max_height": null,
       "max_width": null,
       "min_height": null,
       "min_width": null,
       "object_fit": null,
       "object_position": null,
       "order": null,
       "overflow": null,
       "padding": null,
       "right": null,
       "top": null,
       "visibility": null,
       "width": null
      }
     },
     "88b6b0ec820d4c889ba499950aa0aa83": {
      "model_module": "@jupyter-widgets/base",
      "model_module_version": "2.0.0",
      "model_name": "LayoutModel",
      "state": {
       "_model_module": "@jupyter-widgets/base",
       "_model_module_version": "2.0.0",
       "_model_name": "LayoutModel",
       "_view_count": null,
       "_view_module": "@jupyter-widgets/base",
       "_view_module_version": "2.0.0",
       "_view_name": "LayoutView",
       "align_content": null,
       "align_items": null,
       "align_self": null,
       "border_bottom": null,
       "border_left": null,
       "border_right": null,
       "border_top": null,
       "bottom": null,
       "display": null,
       "flex": null,
       "flex_flow": null,
       "grid_area": null,
       "grid_auto_columns": null,
       "grid_auto_flow": null,
       "grid_auto_rows": null,
       "grid_column": null,
       "grid_gap": null,
       "grid_row": null,
       "grid_template_areas": null,
       "grid_template_columns": null,
       "grid_template_rows": null,
       "height": null,
       "justify_content": null,
       "justify_items": null,
       "left": null,
       "margin": null,
       "max_height": null,
       "max_width": null,
       "min_height": null,
       "min_width": null,
       "object_fit": null,
       "object_position": null,
       "order": null,
       "overflow": null,
       "padding": null,
       "right": null,
       "top": null,
       "visibility": null,
       "width": null
      }
     },
     "8de5ce41fddf42e1b83ee91336ce971d": {
      "model_module": "@jupyter-widgets/output",
      "model_module_version": "1.0.0",
      "model_name": "OutputModel",
      "state": {
       "_dom_classes": [],
       "_model_module": "@jupyter-widgets/output",
       "_model_module_version": "1.0.0",
       "_model_name": "OutputModel",
       "_view_count": null,
       "_view_module": "@jupyter-widgets/output",
       "_view_module_version": "1.0.0",
       "_view_name": "OutputView",
       "layout": "IPY_MODEL_99163c68c9034aeab8a228a7f1e2d6c4",
       "msg_id": "",
       "outputs": [
        {
         "name": "stdout",
         "output_type": "stream",
         "text": "Video available at https://youtube.com/watch?v=F-_m_Vgv75I\n"
        },
        {
         "data": {
          "image/jpeg": "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\n",
          "text/html": "\n        <iframe\n            width=\"730\"\n            height=\"410\"\n            src=\"https://www.youtube.com/embed/F-_m_Vgv75I?fs=1&rel=0\"\n            frameborder=\"0\"\n            allowfullscreen\n            \n        ></iframe>\n        ",
          "text/plain": "<IPython.lib.display.YouTubeVideo at 0x7fd49feb0a50>"
         },
         "metadata": {},
         "output_type": "display_data"
        }
       ],
       "tabbable": null,
       "tooltip": null
      }
     },
     "99163c68c9034aeab8a228a7f1e2d6c4": {
      "model_module": "@jupyter-widgets/base",
      "model_module_version": "2.0.0",
      "model_name": "LayoutModel",
      "state": {
       "_model_module": "@jupyter-widgets/base",
       "_model_module_version": "2.0.0",
       "_model_name": "LayoutModel",
       "_view_count": null,
       "_view_module": "@jupyter-widgets/base",
       "_view_module_version": "2.0.0",
       "_view_name": "LayoutView",
       "align_content": null,
       "align_items": null,
       "align_self": null,
       "border_bottom": null,
       "border_left": null,
       "border_right": null,
       "border_top": null,
       "bottom": null,
       "display": null,
       "flex": null,
       "flex_flow": null,
       "grid_area": null,
       "grid_auto_columns": null,
       "grid_auto_flow": null,
       "grid_auto_rows": null,
       "grid_column": null,
       "grid_gap": null,
       "grid_row": null,
       "grid_template_areas": null,
       "grid_template_columns": null,
       "grid_template_rows": null,
       "height": null,
       "justify_content": null,
       "justify_items": null,
       "left": null,
       "margin": null,
       "max_height": null,
       "max_width": null,
       "min_height": null,
       "min_width": null,
       "object_fit": null,
       "object_position": null,
       "order": null,
       "overflow": null,
       "padding": null,
       "right": null,
       "top": null,
       "visibility": null,
       "width": null
      }
     },
     "b785c46c14de491fb993f871cca7f60d": {
      "model_module": "@jupyter-widgets/output",
      "model_module_version": "1.0.0",
      "model_name": "OutputModel",
      "state": {
       "_dom_classes": [],
       "_model_module": "@jupyter-widgets/output",
       "_model_module_version": "1.0.0",
       "_model_name": "OutputModel",
       "_view_count": null,
       "_view_module": "@jupyter-widgets/output",
       "_view_module_version": "1.0.0",
       "_view_name": "OutputView",
       "layout": "IPY_MODEL_342fc2e37e0e45fd84befe9a8532c87a",
       "msg_id": "",
       "outputs": [
        {
         "name": "stdout",
         "output_type": "stream",
         "text": "Video available at https://youtube.com/watch?v=0gkav6BS4-w\n"
        },
        {
         "data": {
          "image/jpeg": "/9j/4AAQSkZJRgABAQAAAQABAAD/2wCEAAUDBBAOCg8QCg4QDQoODQ4NCwoKCwoLDwoLCgsKDQoNDQoNChALDQoQCgoKDRUNDhERExMTCgsWGBYSGBASExIBBQUFCAcIDwkJDxISERUSEhUVEhYVFRUVEhIVEhUVFRIWEhIVFhIVFxIXFRUSFRYVFRUVFxUVFRUSFRUVEhUSEv/AABEIAWgB4AMBIgACEQEDEQH/xAAdAAEAAwADAQEBAAAAAAAAAAAABQYHAwQIAgEJ/8QAXBAAAgEDAgMDCAQICgUJBgYDAQIDAAQRBRIGITETIkEHFBZRUmGR0ggjMnEVGDNCcoGisTRTVWJzk5Shs9UkQ2PR4jY3dZKyweHw8Rclg7S1xXR2goaV0wkmVP/EABsBAQACAwEBAAAAAAAAAAAAAAABBQIDBAYH/8QANBEAAgECBAMHAwMEAwEAAAAAAAECAxEEEiExQVFhBRNxgZGx8CIywRSh0UJSsuEVYvEG/9oADAMBAAIRAxEAPwDxlSlKAUpSgFKUoBSlKAUpSgFKUoBSlKAUpSgFKUoBSlKAUpSgFKUoBSlKAUpSgFKUoBSlKAUpSgFKUoBSlKAUpSgFKUoBSlKAUpSgFKUoBSlKAUpSgFKUoBSlKAUpSgFKUoBSlKAUpSgFKUoBSlKAUpSgFKUoBSlKAUpSgFKUoBSlKAUpSgFKUoBSlKAUpSgFKUoBSlKAUpSgFKUoBSlKAUpSgFKUoBSlKAUpSgFKUoBSlKAUpSgFKUoBSlKAUpSgFKUoBSp/0Uk9pPi/yU9FJPaT4v8AJQEBSp/0Uk9pPi/yU9FJPaT4v8lAQFKn/RST2k+L/JT0Uk9pPi/yUBAUqf8ARST2k+L/ACU9FJPaT4v8lAQFKn/RST2k+L/JT0Uk9pPi/wAlAQFKn/RST2k+L/JT0Uk9pPi/yUBAUqf9FJPaT4v8lPRST2k+L/JQEBSp/wBFJPaT4v8AJT0Uk9pPi/yUBAUqf9FJPaT4v8lPRST2k+L/ACUBAUqf9FJPaT4v8lPRST2k+L/JQEBSp/0Uk9pPi/yU9FJPaT4v8lAQFKn/AEUk9pPi/wAlPRST2k+L/JQEBSp/0Uk9pPi/yU9FJPaT4v8AJQEBSp/0Uk9pPi/yU9FJPaT4v8lAQFKn/RST2k+L/JT0Uk9pPi/yUBAUqf8ARST2k+L/ACU9FJPaT4v8lAQFKn/RST2k+L/JT0Uk9pPi/wAlAQFKn/RST2k+L/JT0Uk9pPi/yUBAUqf9FJPaT4v8lPRST2k+L/JQEBSp/wBFJPaT4v8AJT0Uk9pPi/yUBAUqf9FJPaT4v8lPRST2k+L/ACUBAUqf9FJPaT4v8lPRST2k+L/JQEBSp/0Uk9pPi/yU9FJPaT4v8lAQFKn/AEUk9pPi/wAlPRST2k+L/JQEBSp/0Uk9pPi/yU9FJPaT4v8AJQEBSp/0Uk9pPi/yU9FJPaT4v8lAQFKn/RST2k+L/JT0Uk9pPi/yUBAUqf8ARST2k+L/ACU9FJPaT4v8lAQFKn/RST2k+L/JT0Uk9pPi/wAlAQFKn/RST2k+L/JT0Uk9pPi/yUBc6UpWRiKVWOKdVkjlAjbC7AcbUPMlvEqT4Con0hm9v9iP5KgmxfaVQvSGb2/2I/kp6Qze3+xH8lLixfaVQvSGb2/2I/kp6Qze3+xH8lLixfaVQvSGb2/2I/kp6Qze3+xH8lLixfaVQvSGb2/2I/kp6Qze3+xH8lLixfaVQvSGb2/2I/kp6Qze3+xH8lLixfaVQvSGb2/2I/kp6Qze3+xH8lLixfaVQvSGb2/2I/kp6Qze3+xH8lLixfaVQvSGb2/2I/kp6Qze3+xH8lLixfaVQvSGb2/2I/kp6Qze3+xH8lLixfaVQvSGb2/2I/kp6Qze3+xH8lLixfaVQvSGb2/2I/kp6Qze3+xH8lLixfaVQvSGb2/2I/kp6Qze3+xH8lLixfaVQvSGb2/2I/kp6Qze3+xH8lLixfaVQvSGb2/2I/kp6Qze3+xH8lLixfaVQvSGb2/2I/kp6Qze3+xH8lLixfaV1tKlLRIW5sVBJ5DJI58hyrs1JApSlAKUpQClKUApSlAKUpQClKUApSlAKUpQClKUApSlAKUpQClKUApSlAUrjf8ALj9AfvaoKp3jf8uP0B+9q+eBeFpr+9itbJQ9zMWESM6xglI3kbLsQo7iMefqrEyISlTvHfCVxp95JbX8ZiuY8bkyrAq6hkZXUlWRlIIIPuOCCB27HgK5k0mXUURTp8M4tpZDIgYTMISAIs7yMTxd4DHM+o0BV6UpQClKUApSlAKUpQClKvfkM8nLaxqS2kcywM0cknauhkAEQBI2hlOTnrmgKJSu5rlh2NxLETuMUrxFgMbjE7KSB4A7c4rp0ApVy8mHkwvtVkK6ZbtKEI7WYlY4od3TfM5CbsZOwEuQDhTitMn+iVqu1jC1nO6jnDBeqXBHh9ZGiA/ewHvoDAaV29Z054J5IZ12TwyPFKmVbZLE5SRdykqcOpGVJBxyJrqUApSlAKUpQClKUApWh615L2i4bttWM6tHc3TWotRGwaMp553zLu2kf6IeQH549VQ+o+T66j0iHUZEUadcTG3hlEiFmlXzjIMQO9R/o03MjHdHrFAVSlKUApSlAaNof5CP9Bf3V3K6eh/kI/0F/dXcrIgUpShApSlAKUpQClKUApSlAKUpQClKUApSlAKUpQClKUApSlAKUpQClKUBSuN/y4/QH72rQPob/wDK3T/05v8A5O5rP+N/y4/QH72rQPob/wDK3T/05v8A5O5rEyN7+kLocXEWnXdxYoBrmiXVza3Vunee4s7e4nCYH223Ro08fXvrdxqGJzWY8H/82eo/9Mx/9jSqiNE8p0mj8aX1wu5rZtSvYr2BcfXWz3k27APLtUOJEOR3k2khWbO7fSI4St7Tg3UX01lawv8AULbUbZYhhI0uxYKyoc4MZkheRQAoVZVTHcyQMB8nPkvsk0UatxHNcJYST9hY2mnCIz3siM4kbfIDGkQMMy4O0/VOdynYH4/LJ5MLSPSbfVdAlnl0ueVreaC+VO3srgbyoZol2GMhGTnnB7LDydqNu56JxdN6B2E+k2VrqUlk5t760vLRr02wTtQ0qwpKrBsNDISNx7O4DEAKxGIceeWu/wBQ0aW2On2lvphljeWbTrG5gSOVXUpmTzh4FZmCqdy5PIUBtfE1hofoRp3nD6gukG9fsJoUs/O3uQ2pbxNmIx9hu84C4G7Cw++sR4m8l9m3Cx1TS5biRotRltbmO5aDbHbGWUWr7EhVlnMMlgWBcjdM5AAwKuPGtqz+TDTDGpdYtSlaYopbskM2rqGcgd1d8sS5OBmRB+cK4vofL59p2taO+C11Z+c2iSYCpdW5CBiSOR7drJvWBASOhoDo8LfR9jm4Ol1R5ZV1ARz3VvbholiNnZyKsrPEYjMzGOOdw6uq9+DkR9ql8CeTuCXhzUdTvXlUW0kVtYRwPEomvJdvaCVXiYmJFnt3wjKxUS+oV6V0jiuODjW20hSW06HSBozISNjTNbpcvIR4yOIoYCTz3bvWScn+lRY/grRtK0VXDyxiXUL5gv2p55JUtyCDtwoe7THM7Ui5+LAdOx8k+m6bpVrecUzXRnvl7S00zTFhEnYbVbfM8wx9iSJiu6MqXC98hgIryoeSa0/Aq6tw7cTT6YJBDeW16IhcWEzFQN7RgRsu+SFCgBI7aJg0iuSt5+m5btd2OkahaAyac1kIzJGCyW8jdmyrIRkI5JaPBx3oHXqMV+cEWzWHk41Fr9TF5/dKtjFMNjT7xaKsiIeeMQzyDIBK2xYZG0kCG8nfkMsLjhqDVNQvZbRBcSC+cmN0FtE88apbwi3MrXckqwIMuwG9ztbAUz/0Wo9PHGkQ0Jp3svMJctfbRKZwpEhO1VXaQEPIAcz06CH4l/5sLL/pV/8AtajUV9AT/lRH/wDhbj/sLQHDwZ5I47u41G/1mZ7PQbW4ue0uI9olupu2kCQ229GUsHZQW2tlisagli0eI6w0ZmfzYOtvvbsVndJJBHk7BI6RojSbcZKqoznAr2DxpFHxPpD2mmsLXWNHmnb8Dq/ZwahGshjaeNScGVvzZXJMck0qOQtwsx8cXdsyOySKySIxR43UqyOhIdWQgMrBgQQRkEGgPV/0h9RfRuE9J06wPYG9hafUZYWKvMwjt3njL7Q5jlmuSCcg7LeOP7BK15S0+8eKRXhdo5VOUkidkZD61dSGB94NeufLJoT8QcJaZe6WDcXenxG3vbWEbpN3ZW63OIhlzIkkEcixjvNFcBufLPljROFbm4nMNtbTTXAOGhigld0J9tAuU6Hm2AMH1UBPeTWCwnuppOIrq4ji2NKDap21xe3LyLle0kR0ViGkcyS8iR1yeepXXkx0jUNDvr3h2S9iuNNRXuLXUzbESw7WcuOxDbWaNJtpD43QFSihg9ff0cPJZCbbVbvU7Rr650rMcejq5G+5jEhk7Xs8l1Vo9oA3KQs3dfCitJ8lmsz3XC/EEk2lWumQHT2Fu2n6e1kLvZbX5m3uzFpxEOzw3Re1k9ZwBg/kc8mMF9omsXdw8yz6dCslukLxLG7NHcMRKrQs7LmJfsMnU/q/PoqeTKDWdUltr15o4ks5LhWtWiRzJHNbIoJkhkXZtmYkAA5C8/Xf/onWzS8NcSxQqZJ2tItsSKWZ8wX+0KoGWYlSAoyScDxFWH//AB++T+7iv7i9uYWgtDaSW0RuFaJp5ZJraQmKNlBaJFhYNJ0yygZIbaBjX0Z/JUmsX0q3Urw2VrbtcXLW6h5pFBCrHECrAOclt2x/sY2ksMcPlF/ALWbNov4SivlaMLFqPmZiljJbtWzDvYSAbTzZRz5A+EX5FOItQsbtrzRo3keBNt1sgknj83lYErcKgyIWeJe9lcMi4YHFbvxvb2evcLXmrPYLpmp2jjN1DhYdQbdGHBO1RKztJsywLpJ2Q3sCykDFPJjZ6KLR5ddnvTdCcpFYaZHCC0ASIiV5507LaztImxXVx2efzhVp8uXkvsYdFs9V0KWdrC7maBre+7MywzAXBwCigYU2syEEvzCkOwarPwbwlb6fwjb6qNNTV9Ru53iAu1lntrCJZbmNWe1jO2TL2yqS+0hpsB1xtexfSEeaXyf6e9zZR2Ev4TDyWdraNZxQRlNVWJ/NjzjWQNG25vtNKD+cKAqvHH/Njpf/AEvJ/wDeaq3FPBCx8D2N+Lm6aSfUHgNk84a0iCnUvrIrfswVmPm4728/lJeXe5Wnjj/mx0v/AKXk/wDvNfvHX/Nhpf8A0tJ+/WqA0HWrDQ/Qaw85e/XSjfns5oUs/Onuwuo7xJmIxm3B85C4G7Cw8+tY/D5KLK74avtQ0mS6a5sLuRWt7lrciTTxLmGXs0hV1lFnIjuS5G63ucLgrizcT2Ty+TCwMKlxBqkkk5QZ7GPfqabn9S754Rn/AGi1C/Qe4oSLWZLK7Aay1SB7SaJ8bWlCSGEODzIZWngC+JuRQFb+j35MoL+O/udTeWLS9PtWmlktWjSSSc5aKJDLDIhzHFNkYzuMI/OrJK9T/SG0pdA4Zh0eJw91fXc13eyrjv29vMotsqTldwjtMAct1tP0zXligNG0P8hH+gv7q7ldPQ/yEf6C/uruVkQKUpQgUpSgFKUoBSlKAUpSgFKUoBSlKAUpSgFKUoBSlKAUpSgFKUoBSlKApXG/5cfoD97VwcIcRzWV3HcWUnZXURJilCxvsLoyN3ZFZDlHYcwetc/G/wCXH6A/e1QVYmR29Z1J555Jp23zzSPLNJhV3yyuXkbaoCjLsTgADnyFWGTyj3p0sae1wx0wNuFqUhIUiTtRiQx9sB2pLbQ+Mk8qqdKAtHk78oN7pkrSaXcvbu4AkChHSULnbvhkRonK7mwWUldzYxk5nfKD5btU1K3MGo3hltiysYVgtYVZkOVJ7GBGOG58yazqlAX3yb+WHUtLiaPTLtoYXbe0Rit503kAF1WeJwjEBclcZ2rnOBURw5x7d2uoNe2s5iv3aVnnCRHe1zuM2Y2jMRDFicbcA4IwQMVmlATTcVXB1Dz0ynz/AM48685wmfORJ2ok2bez/Kc9u3b4Yxyr7464vudQujcajMZ7llVTIyxp3Y12ooSNFjUAeyBkkk8yTUFSgL75OfLFqWmRmPTbx4YWO4wskE8YbxKxzxSKjHxKBScDOcCo3yi+UW91ORX1S5e4ZARGrBI0jz9opBEiQqzYGWVQW2rknAxw6L5P7+4hWW1sLueB87J7eyupY32MyNtkSIo2HVlODyKsOoruf+yrVP5Lv/8A+Ovf/wCigOjc8c3TaYlg0xOmxymeO27OHCzEyEt2oj7Y85ZORYjvdOQri4D4xudPuhcadL2FyFZBKEikwkgw42yo6cx7qjdZ0uWCVorqKSCdMb4Z43ikTcoZd0bqHXKsrDI6EHxrp0BN6Dxbc218Lu1maK9EjSCdNoO+Td2mV27CrbmBQqVIYgjBxX5xpxRPfXTXF84luXA7SURQwmTYoVSywxohbaANxGTgZJxULSgLP5PfKBeabK0ml3L27uAJAmx0lC529pDIrQybdzY3qcbmxjJrRNW+lNrcse3zwRjGGaC1tUds/wA/sSyn3ptNYpSgLfwH5Tb/AE+6knsLqSO4mz5w77J/OCzFi0qTK6SSb2Y9owLAu+CNxzYo/pCayLw3P4QkNwYjD3o7ZohGWViFtDCbVW3Ip3rGG5dcE1mEaEkBQSxIAAGSSeQAA5kk+Fd7X9EmtpTHeQS284AYw3MMkDhW+yTHIqtgjocc6AsHCXlNvrO+lu7K5aG7nLtcSKkJWYzOXffA0ZgI3ksBswpPdxU7N5fNXa9F01+5ulha3V+ytdiQyvE8qpb9h5ujO8MRZ1QM3ZpknArMqs3k34DutTuWg06MSzpE0zI0sUWIo2RWbdI6qcNInIHPP3GgOTyc+UO90yV5NLuDbySKFkISGQOqklQySxuhwSccvE1KeUfyyalqcQj1K8aaBTuEKxwQIWHQskESByPAvuxk4xVBpQGgeTryzanpkBh028aG3Zi5iaK2nVXPUoJ4ZNmep2YyeZzXInlu1Xze6ha+kkgvu088SdIJzKJ4hFKFeWJniUwgIFiKBQq7cYGM7pQFiveN7qTTIrCSYnToZTPDbdnCAkzdtl+0EfbH+ETcixHf6chj9vuOLqTTIrCSYtpsEpnhtuzhAjmbtsv2gjEx/hE3JmI7/TkMVylAXrya+V3UdLjdNLumgikbe8RjgmQybQu8JNE6rIVCgsoBYIgOQoFSPkRUXvEtvNqN1Hbr52b68vbiaC1G6KQ3D4dnjRZJZwqAR81MmQMKcZpSgNN+k/x3+E9fuZ0bfbI3m9oQQV83tsqrIR1SSTtJxn+ONZlSlAaNof5CP9Bf3V3K6eh/kI/0F/dXcrIgUpShApXcttOZl3clT23IQH7iTz/VXfXh1iO6ysfUrZI/V1x7xWDqRTs2ZqnJ8CEpXbu7BkOGBFdSsk09jFqwpSlSQKUpQClAKEUApSlAKUpQClKUApSlAKUpQClKUApSlAUrjf8ALj9AfvaoKp3jf8uP0B+9qgqxMhSlKAUpSgFKUoBSlKAuHD3lQ1G1t1hs7+5gtk3dnDDcSRom92d9qqwAy7sxx4sa9I/TU8oN9Z3GnCxvbi3EunpJKIJ5EEkm85dgDzfHiedePq9N/T8/hOl/9GJ/2zQGdcEcEy61batf3l6/nGn2y3MhmjNw97iG42o0xnQx4S0VA2H5MOXdwej5C/Jd+FmvB5x5v5pZvd57Dt+27Mgdn+Xj2Zz9rvfdWlfRDtmk0TiWOJS8z6aojiQFnkPY6kMIg7zMSVAABJLAdSKsH0LuCLqC21W6uYHgtpNOmghM6tE07hd7tHGwDNEgUAyfZ3OACSG2gQ/0WeAdNutD1aW+njNwlq3aGWwmmbRUCXey7jcNid2VTJ2cWGXsAM5IrNNA8lC3+trY6DeC/hMYkfUJLWeySGNcdszwSFpcISqg/nM6AYzmtD+iBbtJo3EscSl5n0sCOJAWeQ9hqIARB3mYsygAAklgPGvn6BF0n4TvYMhLq602aO0diAS6sjOiEnJYqO1wPC3cn7NAdLSvIfpl5M1ppGvJcasok7OKWxmht7t4QxdIrney4wpO9DLuVSyhl5im+RPyPPqeszafcSmyngSdpSYRcFJbWVIpIignjGd7HvByO745zXe+jXwbdniuziEMsU1rdpJeBonHm0Vud8wmyMRh0RowWxuMigZJGd08h+qxz+UrU5LYhojDcqHXo7QtZxSMpHIqZI3IYciCCOtAYNx35ObXT1gjTVEuNdF1DHdWVtA7RWAYSdp/peTDNNDcJGjICpyxBUbSakfpK8LzpxMltqmoi6mkFqkmpz28dokMUxChnijkZBHEpLFs8wD0rJeGzm7hz17ePJPj9YtepvpBcEpqnlEhs5pDFFPBF2kibdwjhtZ5nVCwKiRliKKxDAFgcNjBAqHCXkK0u/ke10rXfONVWN5ER9NuIIJuy+0qyu/QEr31L8tzBWAOOz9AO3KcR3KuMOmnXKsp/NZbi0DD9RBFap5BEii4qe10/QhZWtobmKTUpxez3B2B0jc3Mj9lGs/IhMOCr904GaoP0NIyvGOohgQwtr8FSMEEXtsCCPAg+FAeWKUpQClKUApSlAKUpQClKUBo2h/kI/0F/dXcrp6H+Qj/AEF/dXft4izBVGWJAAHiT0FSQdnSdOaV8L06sxzhR6ycf3VY47JETcoGOYU4DNIRnc2eZXmCoA58iT0qasdDKokSci4DMV5F92erc8LtUnPqPIZxnvarpPZHKrzC9nEox9WABk/pHln7/dyqq+KzOy2LXD4Syu9yi3FnIzh51KxjmituUDxG0eJ/TP8A4cKX0auxKkE9GWR5PX1VpMePhU9bcBXFy25m7NfAjJPx6/Cv3WPJPtGO0Yt455/+n6q1qrHi/Q6P0tTgvUibfWMsO1YPEw5N1C49YwXDD1dPHlXQ1Sw2nkc+rl4V09Z4JlhyVOR6jnn9/h/61x8PXjZCXB+rJ25x+SflgjnnZ0zn1+FddGaWsWcNejJaSVj8pXLeQlXKt1Bwaunk201V/wBIkw20Hs4yuRuBALHljl4ermfCuyU0o3OKMW3Y49F8ncrqGndIAcbVlOCc9AxAOzI6Eg8/DkasWp8JWiqEQt2mQWcktkL9pQxTkSQeYX1evFVy+43ZnJC5GM7gOgJ6HnnpjmefI+qo+z41YKzSysxxuCZIUbiCucc8hsHJGfvwDXDKpUkzqVOCLT2MKPsTskJGWR4kkOASEJcqBjryKk+vn07sPCsEg/1RJXGEUwnI6NuEhGeWPs+v7qpllxJHJHhpFQtnv7C78+eVTntPQ7jn9fh1jqQgBaBZJ+mxpgQjMDgMUBLsQe7htuD1z1rmfeXsm0zasltkd3ivhZY0LwMxCHE8Egw8OThXBwO0hJ/OwMZHUcxVKu/DnFO9T5yAZ0PaAuefYvkOgyo7uN3dIKkAnIySYnjLTkUrJAAIZPzUbcqt7vEAjntPNSCDjlXbh68r5J78zmq0lbNH0K9SlK7TmFKUoBSlKAUpSgFKUoBSlKApXG/5cfoD97VBVO8b/lx+gP3tUFWJkKUpQClKUApSlAKUpQCrFxxxvdX7RNqE5naGMRQlljXs4gchRsRcjPicmq7SgLBwDxpdadc9vps7W9xtKF0CMHRiCUeN1aN03KrbXUjKqeoBqzah5ctWkneWW/kaWSBrZyUgC+bylTIiQiLsowxVSTGqk7VyeQrOaUBP8BcZ3WnXPb6bO1vcbShdAjBo2ILI8bq0boWVW2upGUU9VBHPxVx9eXd+Ly6uHa/GzbdRBLd0MQxGU7BYwjL4FQDVZpQGpa39IXWZ7cwzajIYWXawjjtoXZfEGeKBJyCOR7/MEg5zVM4E4yudPuDNp0xguCjRmRVjY9m5UsuHRlwSinOM8qgKUByW8xVgynDKQyn1MpyD+oirHxB5QLy5v1vLi5dtQTZ2d0uyJ07H8nt7NVAI9w++qxSgNP1r6QGszvE02oy7oHEkXZpbwrvX7JkjihRJvEYlDg5PLmajP/bBqX4SkvhdkajLF2EtysNspeECMbOzWERAYij5hQe6OdUOlAKUpQClKUApSlAKUpQClKUBo2h/kI/0F/dVz8mKg3yhhnuvj7wp+HLNUzQ/yEf6C/uqx8FzhL2FicASKCT0Ablz93OoqK8WuhlTdpJ9T0B5OOGu0v5GfOxU5DJI3sEGQD0AVQoHhtPrObhecIxdp38kDovgTknn6xzNfnkxwZpNnQKPjk/35z/dXJxbxfFA7Zy5H2hGu7Hr+8j3VSygra8z0VGbWx17+AJyUAD1DlVZ1jnzrsWvGMNySIw6kfxiFa6V/dKEJJ6df1VpkjvptWuUriBMjB8azniTTTG6tjkzjp6vzuXrxirVq/HMJkKqrNjxAUc/dk10uIb+KW0BidSRIvcyu9STjBTOeZ5Z6VspRlFnFi5wnF2ZAcWxd9G8XQZ/SUkHPq5AVdOC9O3acSCRzIIyoDBwcn3FSSOZ54PLlypHE0uSgznCDmPhz94Kmrp5D5O2mNq57jjeuOo2kbz9wUnHqJq0yt0kUF0qrK7d8Hyq4O1sNz5BgMHJzkgDBHPn4fqz0dS4ZJcI6jeQSFXOFXngkZxyyPV1FesNS4aV+nLlgHA7oxywMY5e8eA8BiqJN5O2EjMWMjt1k5Kdo5BcDA+HLkvqFVlWvkLenhVIw/QOB03AHPJuZH532QRnw8enq99aFqPCYWOIkExoykJgAsB1A9QAJIHrGetaDofBPZcyPfjr/wCRUnrkQMZGOnTpyrgnjJSkb/0kYx0MB1uyBkbLANGoDfeU6gE5ZSwI55OC58a/Fsz2EiDGwnZgcwCCrRMPUuAG5dMMPHFSPH1jubIG1hnJHXC8z4ZOB3h/+v3V1tIVl5EbgRzYHmpjznkOXPBBA6fcas4ttJlXJW0KARSuzqoxNJ/SP0/SP91darlO6K1ilKVJApSlAKUpQClKUApSlAQmuaD2sm7ft7oGNuehJ67h666Hoj/tP2P+OrVSoJuVX0R/2n7H/HT0R/2n7H/HVqpQXKr6I/7T9j/jrS/Iv9HOXVkmaC7jhEDIrCWKRtxkViCNreG3x9dV6vV30DP4Pf8A9LB/hy0Bmf4kF1/KEH9RN81PxILr+UIP6ib5q9yVDcZcTw2Vv214xSEPHHuVHkO+4kSKIbUUtzkdRnHLOTUEnjT8SC6/lCD+om+an4kF1/KEH9RN81ex9c4sggure3lc+d3RYW8EaPIzLGMyyMEUiOFB1kfC88ZzU7QHhv8AEguv5Qg/qJvmp+JBdfyhB/UTfNXuSlAeG/xILr+UIP6ib5qfiQXX8oQf1E3zV7kpQHhv8SC6/lCD+om+an4kF1/KEH9RN81e5KrnCnF8d1c3kMaur2M628zSBAru8McoMe1ySmyRR3gpznlQHj78SC6/lCD+om+an4kF1/KEH9RN81eydJ4rgmnuoo3+tsmRLvcrIsTSxCZO+wCMOyIYlSQPHFfvBfFEN9biezZntmZ1jlaOSMS9mxVnj3qpeIsCBIBtbBwTQHjX8SC6/lCD+om+an4kF1/KEH9RN81e5KUB4b/Eguv5Qg/qJvmp+JBdfyhB/UTfNXt6/uQkbuckIrOQMZIRSSBnlnAqpaN5SbeWwsroiWOLUJIYbVGiaRxLdb+yWQQ71jXuNmRjsXllhmgPJ34kF1/KEH9RN81PxILr+UIP6ib5q9yUoDw3+JBdfyhB/UTfNT8SC6/lCD+om+avclKA8N/iQXX8oQf1E3zV54vOCikjKZQSjshIQ8yjFSft9OVf1rr+Yuufwib+ml/xHqUCk+iP+0/Y/wCOnoj/ALT9j/jq1UoRcqvoj/tP2P8Ajp6I/wC0/Y/46tVKC5w2MGyNVznaoGemcD1Vb/JToCXeoxwyuyK24gx7dxdBlANwIxnvHl0Vqq1WTyX6n2Gp28mcYk2ZPMDt0eLJ9wMmf1VjUvlduRso27yOba6v6m+a9w3cfg+8S0YxTrGJFkSWTM5X63aGGCu4KVxzAL+qorX9MYxZt0iEeFKkpFmXcFOeeCMqzntDu545HJxq3BCttbtye1fvMH6oQ7rtx4AAKQPU3qqq8UcMKnKF3iQfZiVkZEA6BVlR9iDoETCgYAAAqmz5opno1QUZygn86GScL6JgStehQkaO7yxjs2jC7mbZNHtZQIwDyYc88qqvG+g3cKQSXs7FJAoktS7/AFLSp9WG73fO/arDwLY5it14f0ESkrLI8sYIdo3MMadxgRv7OKPcgYDKsSD4g1BeXKzEqFGIbmNuOW7kSOfX1YNFNrXqbXh0049Ofy5iemQTqMxFQmCThY+u0YGMAjv55+rHIV22jaRFJUCeOeKZVdcqWgYysc+yY42BweYNTui6cCgO5yMfxjerxP2v76lLCxVUmdVy4iZQzMznv4AUM7EgF9vIEDkPVWXe6nPPCtQ12fUz7iS3ACt0diSVGCir1CoeuASRU15ELoprNsQcAuyueg2NG+7Pu5A/qqvcRMwcLJ9pFAIPgzd8j78MAfeK7fDl0IzG6gGXtQu5snbzjIwNwxuQyL8eYqypJ92r8imxGXv3k2T9tz1Vd8d25cpHKu8fm9CfuJ7p/UahOKOOUhGSc+5SMtnp9wyeprPeIuFZSQVwrl2zGEyCh5IAOQXA3ZYnGDXJxBwSyafZyxyMzNF9ap2qI47lo5A690fk12rlskjBJ7pNU9SlB6tl1TqTW0SfTyosTzjVFyMhnLNjlyCqvXBHxqWj4zt5Ackq4C74irkqshcRlgF7oYxuBuxzU1Q9P4HDoqzNGyq7MsryhAd+MkjkWOAORJHKpyHg0Qzg28jYMex+9hW2tuj5lNxVS0hAVgO8fteHLKlQurt+JslKuk7JXIPi5S0gNuC0feK9shDbh+aMA/Vtlhl8Dr6s10OGdFLS77iTskUECNIRIzqQA27E+1QMD1nKmtXudLXzdkHJmO5nAALOTls4xyOelRFlpkkU+Fx5qUCyOyDAYq5kw2MiTmO6DzGPeRnLFWhaGn7s10cEpVb1LPi+CPOvEEBS5lVvtLLICR44duY9x6/rro13uIL0S3Ejr9lnJTPsDkmffsAz7810a9JC+VX3sjzlSyk8u13bwFK+ZHAGScD1muHzxcZzy9eGx8cVsSb2NUpxju0jsUrihnDfZP7x/ca5AahqxkmnsftKUoBSlKAUpSgFKUoBSlKAV6u+gZ/B7/8ApYP8OWvKNervoGfwe/8A6WD/AA5agk9MVkf0uCfwA20At55p+0MxUE/hG1wCwVioz1IVseo9K1yqz5TODk1GzNvK7RoZYJd8YUtutZ45kHeBGC0YB9xNQSZp9HC7WW+1GTU8jihZjFfQS4xaWCuWsIrH16aY2STtAA0kjbn3ZjZvrRrafWNT1Ptb+7s7SwuhY2dtpk4tT2kUKPPczybGadmeRdkb/VhVOVfOavPG/k6jur62vIpHtdRtThLq3CEz27ZL2twjArLbMxJ2nBUlipUsTUbrvkvc309zpmoXGnS3fZ+fRwR2lxFcPCmxJVjuYH7G4MeFZ4yN21SRnJIGYajx9fvwwSLgDVbXWk0tr5UMSXRh1COESPGh/JyRuodUPPD4xnlZtNtLrT+JbCGTUbq/j1G2vWu0vWh7NJ7KOCRJLaCKJEtlJkYdmuRjqSedWs+SC3XSYbCF5UhhuYbozMyyzXFxDci5eSaRlwzyzAliAMA4UKAAJ/XeDUm1SzvWdllskuUjiULskF8kaOXJG7KiMEYI6nNAZb5IbO7v9R1GW51K6W0sdduYrayt3SNXEHYt2dxIY2eSz2OirbqUA+tJLbhtq/lH4t7Njd6VqOqXMkeowxvIyN+CjHNepDPaL/o8drKiAlBJGZHDAfWd7Nbx5PuCksTeGJ3k89v57+TtNv1clyIw0abVH1aiIYzk8zk1nB+jwosGso9SvE01ZO2srNRabbObzjzhWMvYdtcIsxJEcr7e8T9oKwA7vEzzahxHJYi7ns9PsrGG5kXT5TbTXV1dSyCPfcgFxbRxR/k027mY7iw7o+Po42LxX2txyzPcumpRg3E6xLJKPMbbYXESJGXCbVLKq7tucAk1N8S+StpbuG7t9QuLTVEtVs7m8gitGF9CpDEy20kLW6y9rucMijbuxjCriV8lvk6j003Jimmna7mWeWS8kEshlWJI3ZpcAszlN55AAsQoVQFAHnPyjX7pq+rJc74+HZdVsY9curVn7ZLdtOgEMTqqho7CWcok0sbb9pKAd7D7j5cOJHstFhGkNHC9xPZ2FlPGkbxWkd26RpLHGPqmRIAdg+z9jqBg2TR+AoY7jUJH+uTU2Rrm3mVGjCx2wtzGF296N4x3g2c5NV2w8jEC6TNp0s88unPJvtFaQCbTNsnawrbXQXftilCMnabiMENuVitAV3XrafRtR0wxX93eWl/eCwvLbUphdEyTxO0FzA+xWgKPGd8afVlWGFTGT+cH6fdX2t6l22o3UNjY6lD2FnaOkfassFrM0c0rRs5sT9k28ezf2su4nugWnQ/Jc/nsFzqeoXGoyWm82MU8dpbxW7ypsaVo7eBO2uBHlVkkJ27mIGcEWThDhBLW5vZkdna+uFuJFcLiNlhjhCpgZ27YweeTkmgMi4Xs7nVra/vpdRu7Yrc3tvYWtnJGlvb21mzRJ29o8Tx3M0hRmdpc8m7nZ8sQula7Nb8McLebStF2+q6VbT9mcdtbT+c9rE/rjbauR7hWgz+RICW5FtqN5a6dezPcXem27QKjzT47fs7kwm5hhkI78cTrkFgCoxiSbyQwnT9Mte2k7PSry1vIJMR7p3se17NJO7tCN2pztAPIYoCraxaXd9xPfWiajcWenRWVnLIlkyJMXm84AEM7xuIFYrukdF3tsjAKgtVcg4+vYeGZVS4aTUF1qTRbfUblVkdEN92KXEowFkmWEsNxHNghOeedv0vg9I9Vub0OxluoIIHiIXYi2hlKFTjduPatnJ8BVN4p8nFrBol9BcpdXlrc3ct7JHZxmS5jmu7qOQNbJEN5MMu2QcmO1GyHGVIEDr2jXGnato8cOp31xbXV3LHdQX1wlwJmS0mkD9p2Syqu5ecIbsx3dqrjnu1eZeEuGDc69p0lv+FbqKyaaa61PiCOe37JGtXht7S1ilt4A8jzMJJXWPd3ELO/IL6aoBX8xdc/hE39NL/iPX9Oq/mLrn8Im/ppf8R6lEM6dKUqSBSlKAU/85Hh+ulKA9PeSPyoedlRKhW4ijC3Eg2lZy2Asg57gx7LLAjlnkT4SHlN1ghE2EAOxDOSAI1QEuxJ5dBy++sD8j2qiK/AY4WZTFk/mueaH4jH/wCqt0nsVniaN+8FZWAPMHkN4x7JHgfXjwqjxkHCbS2ep6Ps+rnipN6rT+D4SeNrYdjtmQjDBSsgb3HGVOT1z6qyvyiPLIAJMIFOUSMhQmzkg5AYwD0Fbhp+mi3tsWxEcYyREVUqmQQQB1C8yQM8unTlWbcb3ssoIMwVgxP1McYJywYglw/LkOmKwtY780pJpe5n/D+q4dUGCGO07WB2k9M4PLJruajr2yCUJzbco5+vcDzHuIHwr70ezSCN5AoLnJ3nqz4IBJ93gOlUq8uPqsZyWfJ9+Bz/AGjgfca2UYZ6luBxYyq4U9XqdKeYsxZySzElmPUk8yT+upTg+YC7gEmDC1xAJVIBBTtVDH1hgrNgjBGTURSrq2ljzd9bnrfXtNU3AWRzsdtrKzkjaft5Gdp7ueoP99dvX+KrYLsdgijkGyBgKMADw8KzjhXiPzoQTTE90bJgoLHt4woY7QCe+h7QD3keFSN9axzqJbZHmiclUZECjcGZX7xIwQ6lTnxUjwrz9am5Zk9LM9bSqxtFx5Locen6mqSN2ZLQBiEcAAleozgc8EkZ91TNlqq558weh61SNfvTFEAIhvOAsfbLvYkAjChfURXZ0hzjJGDjmuc8wB4/ecZ9wrhasjplVuaPYPuHI58Qfcen66oPle4uaGxMUQYSTl42c4wsRLdrtI/OI7g9QYn1Zs/D9xjA/wDPrrIfL8T57H7PYAjn4tNPnl4eH91deCoxnUV+GpVY2vKFN246GdVxzTAdTz8B66+Lyfavv8B/58KjYznr9o+7r/416mnTzavY8nicSqast/Y7E0+4fZzjwz/u611vOvWoA93L++u7FaFU3Hx9fLI8ffUXcOM8vhXXGKWiKfP3sm3r1PmUYP8ANrn3EdOR+FdeRu7X3LJke+smkzZdqxNWU+5ff4/fXPVc06fa4Ph0P3GrHXDVhlZcUKmeOu4pSlazcKUpQClKUApSlAK9XfQM/g9//Swf4cteUa9XfQM/g9//AEsH+HLUEnpilKVBIpSlAKjuJdSaG3eSKCS6ddu22tux7SXc6qdnayxxd0MXO5xyVsZOAZGlAZF/7bG8+8z/AAPqPn3m/nfm/wD7rz5r2vY9ru/CWzb23cxnPuxzrS+GdSae3SSWCS1dt2ba57HtI9rso3djLJF3gocbXPJ1zg5Ayo/84f8A+2P/ALzXD5QLbz/iyDTr1n/BcekvqBto5ZYVvLo3otwsxjdWlijjG8RZxknIIOKA22led9O3Wk/EVhbSyNp9vpiXVrFJNLMdOlubO57WGOZ3aVY27NJljLYXOVA3MTVTwkIOH9H1IXF1Jqxl0gi6kvLnC291JbI1qLYS+b+bCF9hGzc+GLlt7ZA9ZV1NavxDBJKwJWKN5WVcZKxIzEDJA3EKQMkVhfFHGA0PXdQa6Zjp99p7ajZrJINv4R09ezurWEE5Dzq0Mp8MsMeOLZwZoEttwtIt6zPfy2l1dXryHLedXkcs0ynwAjLiIBeWIhQF44D4kS+sILqFWSK4iWZEl2h1VxkBgrMu77ia5tC1gyyTq0EsIgl7JZJ0VVuhtVu1gIYloe9tycHKtyqo/Rp/5M6b/wDgof8AsVmt7ev+DeLjvbMc932R3tmIDTIGGw5yuGJPdxzNAejaVgHld1Fl07hkLIVeTWdFDgSENLGYZO0DYOXQlk3ZyMlc9RW/0ApSlAKUpQCv5i65/CJv6aX/ABHr+nVfzF1z+ETf00v+I9SiGdOlKVJApSlAKUpQErwa2L+2yMjzq3yD0I7ePP8AdXqHX4/NLgnA7GQlYz7JPWNifeSQSeY+6vM/DOnsstrM6MYZL6GCLHLtZBLGWAYgjaoIyfvHhXsLX4lfckqho2JyrgMDz5cjVZj7NpFx2amk34FKn4iV1IIwpHTwbPU1nvEM8eC2emeQP7xnr0qy8X8DsufNZCgI7sbgsB9zZ3Dp7+tY3xLpM6swlYDnz27jy6Y59Bgj11XpSbsy4VdRWiODXdYaVuziAUHly6AZwfh1P/iKitdtwku1egRP+wuT95OT+uu9pdgF95zzJroccakUuEztMbRLyYHO5HcNg5yCFZOmPfXfhXlnZcipxkXOnmlzOlSu3qViU2H8yRA6H+afA8uoI/WMHxrqVZppq6KZqzsWbyc8Tea3IL87dyomUc9uD3JAPaQknHipYeIreeIraNRvRSY5Qr92RuzY82DKnNF3btxK43cickA15grZ/I3xevmLW8x70TEwlsfkn5sq5PMo5Jx4B19VceKpaOS8yy7PxOWWR7cPE7dlbRgns4kX+jQD4t9o/rP3YrtJFtznpXzqPESL9kL7zjmf99Qs+s7z6h4DpmvPTjJyL2dZNFot7nvgL08aqH0grPu2kuOTM1uX8A7ZkhVvUGIkUH1kZ9Yn9Gk5inlYuF/BEiyYOWj258HSVGUj3gKT+o1tw1ZwrRtzt6nLiKKlRlfx9Dz1HbmSUheZ29wfcN2PvJ5ffgVYfRGZo0aKLfuUOoXrtIGDtzuGOmfWDX35NNNE17aRqSJJbgAkYPLtIzj7+z3/AKytex+HvJ1BZptt1ABJZmPMsWOTk+odMV6DHdo/pkkld2PG4Ts5YypKU3ZJtb6+h4b1TTZUGZlYD1MrAD4+NQUy46fCvb3G3DMUyMJYlOeW7aM48fDocVgXE/klQyAWkjJyJKSd8DHTDfaH680wfbdOppNZX+x01v8A5+tS1pvMuWz/AIMbc46eNcZerjrfk/miHPDevb/6dKgrjRHUd5fhz/u61bQxFOavFplZUozpffFryIrHOrHp8u5AfHofvFQU1uVPeGPv5V39Al+0P1/9x/7qV1eNzbhZ2nYlqUpXEWIpSlAKUpQClKUAr1d9Az+D3/8ASwf4cteUa9XfQM/g9/8A0sH+HLUEnpilKVBIpSq15UeLl07TLi7kXeIIiyRbtvbTMQlvEG2sVMk7xx52tjfnBxigLLSqX5FuPRqmmJciI28u+SK5tHbc1rcQSMkkTkqp3YCvgqpw65APKrMuswlkUTR75GZYkEseZXiBMiou7LMoBLAZIwc0BH+iMH4U8/2t595n5jv3tt827ft9vZ/Z3dtz3dccq6fHnANvfNE8/axXVuWNteWc8trPAJRiVVmjYExuowyNlT6q7vAmry3FoslzEkEzNIGhhuY7tFEcrohFxGAjFkVWIA7pYqeYrGpfpA3UentqE+lKdHjuXt557fUUeeER3Jtu080ktY1cGbaoUS574yQMkAahw35M7S2tbmGJZG89Di+ubi4mnuLsyRGItJdSO0hIjJCgEBcsQAWYnnvPJ/bPp1vZsreaWptjAokYMvmBQ22X+02DGmc9cc6ntT1eKGMPcSxwxkgCSeRIlJbmBucgbiPDrXLNeoqB2dVjO3bIzqFbfjZhicHdkY9eRQGZeWvgZ9S1HSUa3DWNtdve3d4zxgx+bx/6PbLEW3ulxMV7TC4Cwrzya03VLJZYXjk/JyI0bgHBKSKVbB8DgnnXHaatE8rxxyxvNH+ViSRGeL9OMMWXn6wKj+H9XkkmulmjSOOCUJDIlzHMZozGrM8kagG3YMSux+ZC56GgKhofkWtbcRrb3GoxxRbeygXWNRESLGQVQQ9v2fZ8sbMYxkYqy2nAlsq3q9mXj1F3e+jkdmWUzQrDIBzyimJQuFI9fWpbS9chmZlt54pWT7awzRyFP0grEr+uvy912CNSZZ4kVX7NmkmiQLLjPZkswAkxz2nnQGeaV5A9PjNuxFxNJZzwTWUl1e3E5tBZktBBDvfbHaBtpMKABuzj3Z2LjVK6UurRLKsTSxidxujhaVBJIozkrGW3svI8wPA10I9Xl/CTQGJPNRarMLnzmMyGYzFDEbPHaCIIA3bk7STtxmgJylRsuvwDZunhHasUizNEO1dTtKx5bvsG5ELk55VJUApSlAK/mLrn8Im/ppf8R6/p1X8xdc/hE39NL/iPUohnTpSlSQKUoaAVyW0DO6rGC0jsFRB1Z3ICqPeWIH66sHDPBFxc4KqIoT0nuG7NDjGdowXfr+YpHvrZOEOFrPTcTbhdXIGUu5MJHEwGcQxlsbiRgOxYgZ+znFa5VFE2QpykfPli4UFpaaYkbd3TZ7eebC/lnSUyXRwGOCTIX6e49RjQxrCyoGQgggEEH11WtRvhcxNnvB1OQSchyOn6LKeWPGMj11mGmatJYyFGJaAPjoR2e7mMD2D3gP0feM1dZNs9DhaWSlmfOxudxOCnPqKxvynQ759yjChcYHifGrnpfEIkTKNyIqt8VIW8a57nQoooFvb93NU3yjw74gcZZDlcdeeAR+sDp6wKv+svsUKPvqg8S3w7TavMj7fXkfzVz6zz6dMY65x0YeMnNNHLi5RVNp8ixaVbLLpSLLKqTwY2Bwx7QSACRMqpOQQuOv2DUM1jj7ZHuC8yffg4wK6lhEcZY5x08AuOuOWBy5eFfGqXXd5Z58s55+4D93QVbQhlR5+cszPwyAthTnB7zeC+7HRnPgP/ABInuH5Nl3Y7OQa+tf8AqR3Ebv8AeORJPjg+s1VLa4MZKOeZZSY881YA7W8dpBfBzjK7getfcmoMZrdvESjYBnpvZunrxjn1NTJ2i/AiH3I9O8d8JIXLwgKSe8AABnxIHhVOtdKCvzPSrRZcXho8T9SBhx16fnDpn3jr6qhYdRhDktIAPeR+7OT+qvP16Tbuj0FKpDiyTsVAPL4Vm3l21/JSBfDvv7i2QvwTcf8A4gq1ahxdGisUBcjoByHu54z/AHVjnFt8ZLkuw+13iwxgg8uWefI5GPAKKzwOFfeZ5bL3NGPxa7vJHj7Fv+jfb7tbtB7EvafcAp3E+oYA+NenPKX5TDAW81hedFyGkjR3DN6kwMFR4v8AZ9WeeMU+iDoW7VGc/mW8rHPgGMCDPLIJLsR+jW4eUjiVLb6uC2kuJGHeeKJ+yiJ6CSfb2MeAMne6nGMbiQDs7VkpYlRy5kktL25lV2PFrDuSdm23e17bcPIzHT/LSZ5gj2kyHP2iNwxnmWUDIHxqT1y5RZS/QYGAfAsPV685rM7HjiSa870DREMQDh2VgMk82jRlOATgj4HAOieWq0EWnJL+cR3hnxABFc9fDxhVjFRy34XuXOCrN0pTc89uNrbK+xlnHPEkvabLWBmx1co77jy5DaPDNUTUb24Vszxsn810Kj39Rmtn0vX5IbSM2Np5zM8ZkkbDssQ8AdqlmlY5woxgLkkZUNmnEWu3Mj5urbAJOU2sDz68ic/3VcYOf9KhFJaXvq/Io8fSu3J1JN7r6XlV+q0Krr8okUOP0SD+aRzH9x/uqO0d8Sj35HxH+8Crg+nh7dwqlfzl3jB5DOMffkVSrP7a48CP31a05KUGipySpyTlx1LPSlK5CzFKUoBSlKAUpSgFervoGfwe/wD6WD/DlryjXq76Bn8Hv/6WD/DlqCT0xSlKgkVhfl9v5rnWNPsLK2N55sw1i/thOlqrR27mLT0edwYirXZaRoSCSIFOMcxulR1loUMdzLPHGq3M4jWeYDvSrApWFSfZUM2AMDmaAwnyNajPZ8UXttf23mMWrqdRsrc3ENwvnkAC6iqSxgBpZRm4Zcd1Yl+8yP0WeDLXsZ7x4EkvzqeoKl1MqySW6JeXKBLd2BMEZDylhHjcZZM5zy2LVuHYJp4Jp4ke4tmdrWZh37dpQqy7G6gOqqGHQgDNcmg6JFbRlLWNYo2d5WRBgGSZi8r/AKTOSx95oDMvof8A/JuD+nvv/qV5WD22jOnC73z3m+1tNTu7h9DvuzWyvux1CULExiEdw0pkKyokrzRtIiKY8Hl7E4c0OG1gENpGsMClmWKMYVWldnkIHraR2Y+8mqnF5GNKEvafg21Mu7fveBHy5O4sQ+QTu58x1oDH+LO2v+KowLeym36JDNZWWvGdolS5kZr1oYkgkia7zsjkJUN2aDqoOPzyh8Fz2fBptLyRAw1O3ERsJZSLSC51OB4oopJYxIrRdqwUkHACda33jXgm0v1RdQto7gRtuiaRe/CxxkxyqRImdq52sM7VznArhsvJ9ZR2YtY7WJbMSLN5uFO0zI6ush55aQOituJJyooDJde4SttO4r4eTTIEtlmj1aK5MK4e6SCxiki84lOZJ3Evf7SVmYtzJNfNnxBBZjime+j7a0S7RZrcAHt0msLWLsiDy2u0oQk8gGJrX+NtFL9ncW1vBPqdru8xN5JJCsYuOzS8AnSKRo2e2DKDsYFggOBk1WfJnwJIseoNrEcDyanctNPZxFriGKDsIoY4WkkiQytsjJZtijLchyoDNNHsjDxXoxa0sNPa4s9QHm2kyhy0CwRSQpOy2sCOFYMUKKVykuCQua/eFuBLS6m4kmvbdLiVL67jh84USrbjzK3dnhjbKxTs23MyAPiOMZG2tY0nyOaXD2XYWEEbQzC4hkjVldJ1+y3bBu1YD2GYr7qs9jw5BGJ+ziVRdO0l1tH5eSRAjs/PmxRQp9wFAeW4uC7WLhLSLtIVOotdaPKdQcb7gE3NtGqLctmVYEhVIkhUhFWNAByzWuWQ/wD97m//AC/D/wDU560F+ELY2kdsYE80hMZht8HZEbdg0BUZ5bGUEerArtrocIuzciNfPDCLc3GO+YFcyLHn2BIS2PWaA8maJ5P7N+BtQu5rdJb0jUWS5nUSvbebX12IltmYEwRhgzlY9u5pJC2d2K9ZcKylrOBmJLNBEWYnJZmjUkk+JJOa6kHB9qtk1osCCxcSCS2A7jid2ebIz+e7sx97Gpm1gCIqoMIqhVUdFVQAoHuAAFAclKUoBX8xdc/hE39NL/iPX9Oq/mLrn8Im/ppf8R6lEM6dK/Y0JIAGSSAAOpJOAB7yeVajwvootV+rXtNQZQO3IDLaNIjnZCpBHbjaN0zAnJxGMd9olLKZ06bm7IqFlwjJgNc/6PGcECVT2jgkgbYftcyMZfaPvqX0+SGGZUghBc42zzlZJAwxzUbTCnXlhSffVvl4TdpWMpADbZTnGS6SDJLtufcVPsiune6DGL9iJCBGY8flF3d0AnO85B3D+6uPvs5b1MNHC2Ss2+LXVrRH3cQncpkeR2ZQxBOMM0YK7cd5MbiAVwceNV7Xbo7nAJKxxtuZncgSSSBeTOxxyJ9/2j4mtcu+G13Rskgw4H5zoM5VeRDE+B+IqN4p4Xjijm3bnZxu5FmCKZFx3j/Obdyx0FaoTi2Yxrzh9tl14+u5n/k04qJjCyNzQ4fvAmQDmgGG6lVByeZZW5gGpnyr87GW5hVWkSLPMAgrJhjIB6gBu8MEH766a8Po8JMSOsx2AOMcmzjOM+J8eWMg+FcfFUjrYPbKe0vbmM5iGT5ta7sXUjY6PJnai9NuSN2DWUbZmzfiq0nRgnyfvYpXk44mYqFYntME8ujoCq7uvJtxwRy/N9daRb3G/rULw55Nz2EbpJEd0ZjDESK0Lg/zRzU4LEN4AdCAamE22sjR3UiIyYy7MIlIZQwK72Bx1GfWDXNWyuV4k4Sq8tpblH431Qbh2cblB+VmbKBQR9XtBxkZYEjDHGM9cDPpMCU4OcMoJPPcQrsxyCc95/WfCto1nhxRDNc3EiBUyyAOZDOqrlBtKhEBXGT3idxHLqcR0wFiTjnuYkAchkL+oDrirDC2toVWKlJv6mT89yBAeXP/ALJ8D1+ycgV0pB3gfAYwDk5J5Z68+RPxNNQlGyMeJ2g45cup5DwyM1+sMsP0gTnpgEe7piutnGdCxg7zk8yXY88dCzHny6867sNvm4gX1d74ba+NNHcHvUczgcyBnA9WfXXe4fi3X6/zUH9+fVy6CtFd2gzOmvqRq1mhKYAB5dDy/wC410Z9OJPKPJ8TkAf9/wC6p/R7SpaeNYoizdFBJx7hk/3VVqeljtaMo4zJjxGNqsRuZV3Hr9gFjjPicYH5tVVzlSjEx5GC/IFQxGSDjlHhQGxzwT6qmL67MsrOx5sScHw9Q6eAwK6OokEDKhh0VT+cxzhAeuTtYk+Cq59QNnTjlikcM5Znc9b/AEeuFPN7jUGAIiZoorfP8VC1xG2DjJy0S5JySVJJJJq2cYzsilVO0EHmDjGep9VRf0dNSaawieQ7m82SKU4AzPbTXCSMVH2TICkmOneNc/lcv1jTcxxy5D1nwGK8vis0p/Vve3poehwigqjUFaL+rwvr+Sj8N8JRTXO92Z2U57xGM8+uFHLNcH0jlHmiIBleeauHk9nVbYy3EiW6sy8pSq4XwGScZP31T/pEXkXZptbKNzGWHNeXMEcsYPWlFzdeN+DOys42kuj9jKPJRPuBikyQOQIJBIOeec1edV4ahVCyxln9bEsenvPKsihuDaSxyQvu3vtZOR3KRnII5ZXAz99a9dawHt94PUcwPA4q0xsJKopx2fucOBlFwdOS1j7cDO7yId4HkOmPV41kVtHz7vUEEfqYVrGq3oYEfnE/vrPuzBmdgMI3QDwCtjn/AD2MYfA6AmrjBNxi7nnu1I56kcvX55HapSlZgUpSgFKUoBSlKAVffJT5WrrSklWxS3YTMjSedxTyEGMMF29ndRADDHOc+HSqFSgNz/Go1T+KsP7Le/5nT8ajVP4qw/st7/mdYZSoJNz/ABqNU/irD+y3v+Z0/Go1T+KsP7Le/wCZ1hlKA3P8ajVP4qw/st7/AJnT8ajVP4qw/st7/mdYZSgNz/Go1T+KsP7Le/5nT8ajVP4qw/st7/mdYZSgNz/Go1T+KsP7Le/5nT8ajVP4qw/st7/mdYZSgNz/ABqNU/irD+y3v+Z0/Go1T+KsP7Le/wCZ1hlKA3P8ajVP4qw/st7/AJnT8ajVP4qw/st7/mdYZSgNz/Go1T+KsP7Le/5nT8ajVP4qw/st7/mdYZSgNz/Go1T+KsP7Le/5nT8ajVP4qw/st7/mdYZSgNz/ABqNU/irD+y3v+Z0/Go1T+KsP7Le/wCZ1hlKA3P8ajVP4qw/st7/AJnWIXUxd2ZsbmZmOOmXYscZJOMn11x0oCycBWh7Xtf4tl2Ag96Rsk45dViSRvv2VtGqXqRrG0G1IS2e2c5JV8Y5k4yY5Fz6/wBVZjY2fY2q5yHFu9ywIYEtcKFiKsB9nsmi9WDu9RNVmfid5rZUZ+cLFVwOZDqGQg9EGUK5Az3R1rkqJyk+RcRjTjhof3Zn5ppGra/xVGswVe8+0b+0J3ENy7sYUuQDg4ITlVN13jFjcuQp70anBSMc43Bxt37sfV45k8iedVDSdQLXWRyB5cuZbcD1b7R5np7uQFcPmLNzK9El5kqOiMw6sD1JrTTjGLaZ34qnOvTjOKb3/B6I0Di/tbSEiLo5wDC3TvMRkyYAxgVB+Vji5jNsBCKY2AG4KAeyBXupuk+0RyzVb8ntoTYMMY2uGUkgAZQA+PtZz/5xweUeA9tG5Kr9ZHnqeW7afD1DpURyRkcSwdaS+1+3uVbQeLZMFDKMEMOb3PXGRgAY6r1Prr81TiIpJFcbhuJxcFTLulVspNukzvLbWz96iq5p8AEg74646HxOD4++paeyDQOpcHDHACnxBPifWBUynGMy1o9n1auFlGyur21XR8/E1XgHiuRonQGNio3L3l7xzhsDYGI+yQf55qh+XJzdT2s5UZYi1nPXu796kns17oBm9fJhz6VweSmU5XDLkHsu9uH2h3c8veo+8LX5q1q4lnR2BG5ezQyM/wBa+4FlZkyq7NwA5dF6ZqYuMKl0VEsHUcdvY5ePuLHks1hbl2nPw8W7uCDjHZoBgjPeqj6GvN8+zz9xB548SMeH+6nE0uZ+mFUbFX3DHeBzjn1z91cumnm4PJjGcnBAYd3Dch158wM+7rXfh4KMdOOpV4hvM0+Gh1b2bvRZ/ne/91d1D18eTE4/mqT4nGMio2aLDxhuodufUMuSVZTnDKfWKkYm5N+iwAx/MYeo/wDn41mzUcllHy+77/D15qa8ntsWupW67SFB65woPLHq51ERAeHI/wB/XPif7vuqw+TaEkSuAe8TzOcFEzI362JROXPAP6uXE6xsbaW9zW9KjO0YB5rn7J6Yz0xnI8fGoHyvahst0iHJ5Dk48I0Iz/1n2j3hXqe0mJm7M7jsL7Ng8RGOec9SWjPT2uprJfKDrfb30rqe4p7KL1bIcru6/ZZ+0fPqcequelRWa5tqVHYhLg8vu6kfHp6v93vr60xMsWb83Krkjm2R2jZzz5gRg8+Scjg105XJO0HDE4B9WBl25n8xSCOXJ3i9RqQgQDCr9kAADwAGMDp6q7jlPQv0UuKFVns2UiVma4jkDd1lCwCSIoeYYLGzgjkRvyBgZsPlJBm1ZY5TiGJY5ME8pHldwCSfzV2Dl4lxXnXhbiQ2l1FcJzaJwxQct6c1lTPhvjZkz4b69T6/aw3scFzDtlgkTaTgESQTjBDD1gnBU9CGB6GvP9o0+6qqpwd/UvOzJ5048V7E7JpSiJVdY9g54l2n4buXqrJ/KPosM+5JxGkSA9m4kAG7rgKGwenxq9cH+Ti2s0kMURmikZWZHYyvBtIyIy5J7PaPsfDqagOMNLsJk2mGQFYnG0xSx98cl3EfVZwTg5wcDPTFcVJqE7xbtztr6XLCKzxakr9N188jzbq+hxxNmORAf0lz8c+4V3ODriWSU4bMADCUj7O0I5znpkMBgj148a5ONtFty22CPsYlYkbdpdgwTuk/ZB3KehbqTkZIrlu7hYLbs4uW/unHgBzYfrPX18zXpnPPTS3b5rY8+8P3NVv7YrWye75WIJ5+rZ8OX34IH9+KjUbCBfzR0A9Z61yS3ORgfZH95rirptbQ44yT1XqKUpUgUpSgFKUoBSlKAUpSgFKUoBSlKAUpSgFKUoBSlKAUpSgFKUoBSlKAUpSgFKUoBXd0HTTPcxQp9qaVIgR4dq6rn9QOf1V0qt3kjj/94K/8SjygkEgNt2ITjwDyA591Q9jKKu7Gl+WpBHAewHZs8iQ4yABHhj3VYbDlFUEd0HxzWC6jpxhnKv3dyBjjOC2d0e0Hx2hgV6gye47dU8qeu9ppzmYZIuFEb788gGBw/wCccggqxyOVff4JjvNI84U5ljVo1kbo+0hFLcuUihM5AzzXqOVcTnlWpZuDjJJ9H5GV8KzYuOWFUkd5ubHHMY8fa6VJaYy73ADH6qTG5gOZjfnjn6zVatI2SbL5BEijLEDHf6AHqQcggeKmrtp+istyO42CWXLSJFyIZeakHoD4H1VHdLNd8i1/5N9woxWzfo+m3Bl14IkCWD5XxXqxPhGPBRy5jx8KiuO58AckH5PwJ/PcnPPGfv8AVVx0TQ2NoQFTnt/PZvtLH4xtjqPVUbxvwpKUB2gHs1xiGQ5IL/xi46EePgKwUYKRwvH1Wt/2X8GMtckTfm8n9kcsMKkor4gP9nG8fmL6/wDxxU5LwjL2jdeUh/1duvR+f5wPhjmK7jcIS9/17gfydqcc/wBPrnHPl1pUjDMvnEssDjaypT1fHj/1ZU+DL3ZdlSFIMgOMYzj6wcwR/FVduILTdethR7XdBwSAqjJyeanaeY/OqDn4XkS7iO3Ks0YOUTmCXQ8oWLdG/vNX3ia0aG3ubhlTCQAp3Jhh3UqACcD8oifaJ/urOUY3Kr9ZUWjfsYJqV4POJARmMMVUZ5gR90MrAeO3PTxrsIwXoGJKkBWKEMuM8nU58PZH3ioaziJPu8WJ5+NWryb8Pm/1OKFOzWKP66dpSyr5vAydqndBYs+5YwB4v1AGasMypxu9kVNpVJ6atv8AdkRo9o7yEIrSxnLIFVnAJb8xlGUl54IGPHcDVqteCbvmBaXJVjiMtZ3C5ZgowWMYT7RxnI6E4Fe149UtrYBYFjWNQFRERERQuAMIqgf+ldqbiyPbnauAOecDd+vNU9TtRxdsv7ljHsybPB2r6c8EjpPGYZkDb42XGCgyfHBHjlcg5zVx8nx+oUDug7EJO7JyqggdACGlB3D1geBr1Hx09tfWEkXYKXlRkGVztZgQrbs90BjncqlgAcYODXn/AIW0WS2Yx3IKyLtyBzBI3EMjADcrZ+0Bjun1csni4VbW35GqWFnSeqdjs69xCYbOWSP7QX6vLbyss4VUIOcbUZiSo5dxx4VjEIwvLAAGMHwHrPLkAASfuNajxto810YYLaNj3+1nlxlIY1zGhkfHJWeViB49m55BWI59L0jT40aFts132ZZL65Yi1+yp2NEWVOyYc1kchWDDG/kD10n9N0v9LqcOIqxhK0n/ALMo0c7stzJYYQHqsYPd5eBZiXI9bY8KlUtHP2Uds8xtVjkDrgAeHjVwTiMIjQ3s8KxF9pht7ZJmt92frkdIhHgZXKZw6nlggg1ax1h45Xg7ZUDuU7ZoBGxjcdGKp2ixSjaGQN+dzON1dcaUn8e3oV0seltH+To32hzlAxiaNGJVXnKQhyv2gvaMpYj+aD41vv0RoJUt7pJJFe135SNSx2Sg7Loxs2N8eDAxZAU3N9oszVk2javB2DQhA89zGoE87uqW94DtXs4442d327AZHKruDE8sA6j5B9TjTiI2dvnsLbSpLUklcTXMV1bS3UyqOgkneVsHmMYri7Ro3oTi+GvkuP4Ozs7GylXi1ZdOPHjt1N01G7MRA8JAQp8N6jmP1jnWVcZLMxPPCnI2ge7xPTOeVaprdueyIILKpDoVGWjZTlSB1OD6vDIrM+J+JYgzbpF3c+TMQAQTju4z0615TD3zaK57aEklvbqY/Pw82Wkk5JH6+WM9APeeQqg8WX2SFHh1+88zVu8o3G6sOzgOVzk48T6z8ThfDJrNokLNlvXzNexwVKds9TTkjyHa+Kg33VHXmyQU4IH8wfHc2f18xXI3LGeWemfHHXHr51GXd7lGBUFQ4w2O8CIyMB8fZyAdvjjwriunyka95iAxwxyEDEEbR+byyT6+vKu7ublVDFuKtYmKV1Fvu0fGBDGvXslDbIxgdHYMzfe/MnwrntHDuTuZIVGWbskYhfzTtMoBkY45bgOZ8Bz1ulJG5Y2HG5yUpStZ2ClT/A/Dq3ckyGdYHjtLi5iVo3lN09pG0rQIqEEOYklbd3iBE2FboOtoPDFzcrus7W4uI+f1ltbTzJkdR2kcZTOeWM5oCJpXY1GxkikKTxvDKBkxTxvE4BzgmN1Dgcj1Hga69AKUpQClKUApSlAKUpQClKUApSvzNAftKV2LWwkdXaON3SJQ0zxxu6woTgNIyqVjQnkGYgZoDr0pSgFKUoBSlKAUpSgFaD5JIgI53PVikS56HCySOM+HSOs+rTOBe5Zwg4+tmnkwfFUVYhz657rdPX91aa7ahoWPZUYSxMc+2pCeVJdli65ILMm0eDFdxc+ojv8Ah4muTyBa9izmtpBmJzvwT9nuDJBPIdP+sFHLINdDyqSd3AJAwxKsMjJb2h7l8cVW/JnqHZSvgcxAwweYJYgDunqueo/31wwvKnZl123RhHFXpvSy9vnIk7m1iklkJbmGLcgS+MlnXPRcEM2eedx5jArYdOkIZGVFQYR89CSyxuc7fHmSc+1XnPS9aMTsVJG8uVP2tpDZiIB8cqRz5EOOXKrrqOtt3SWH5ND3Y+02nswMd8gDBBHL1VtcGmkVNL6oStzX5PUugTE2zAugxjPMfmu3rPqUVCcfXKiBS02cKMhBnqR4oCepx0586z/gnXmaE7WYkoxwFVOZVXAyAcflKi/KbfnzXnvPdT7cueYKcsYHxBrWqX1mvWx2L7UUE0g3yflCR3ZAPtjPVB66+rvVE3ON0nLb7fgQTywfXWR6xcfXP3V/KN1Mnr/T9wpf3Pfk7q+Bxl+fMfzs9OVZVIK6+ci0wV1Sn8/pkabqF+u1SruGVlwWDH/WIw6rgDI8fd+vu+XvXgNIaJZl3zzx5XKg9nGUmY4Bzs37R0P2gKyDzjMTd0DBiwVaTI/0iEcsuR0JH66lOI7hLi4AkeQrEhQdW2Mzc1UgbmlZuigEfVjIGM1vhQzTXTUpq08qZQI7vYO6pfPMsVYD3YHX41uf0XNHR0urq7Jijdks43XC9nGqrNdAZ7oZn81XeenPr0rPtQ4UUr9Wrk+JLgn3g/WbT/f+qvQfkx4Sc8OW0KqY9zSySuE3MFmu5e/sH2mWIoceyn3VnjdKbSMuzUpVk3pYvk9xZSoCyq4AwO+eezljduBbGPEmqzqmmRvkwSPbnPJVJkjI8MxSEqPvjKk+uu3HoGnwWpgXcwUsxWeU7mlkOXYqNuNzEtgDGWOBUDYcMxIwMMskYPWPtZHT/qMxUfqxVFiIrn6HoaOZJ6OxPaBp8ynJkjkx7AkU/wDULHb9241z6z9auyRRkc43A70b8vsnqUboy/DnX5HpzKmUlGOo3ZXP3Z5109NuY1ctc5eNVZ5VVtoZfsjvE8mLsqhfzjgDxxxwhJzWXcnEVIQoylPaxXr/AFGS1vOzji3yGZoLYlhtuoZFRWLLk5LTN2ZlCYjViOYd2rKvKNcW6XVpMEE27dJdQLJiFJlndHt1H2u6EXc2MMHUjkcCVl4llvXlEzmO7Cyx2zoVA2Mjie2LjujMOQm0DcQreIqi8RWQjtvrkdZe1R0QnARJUmWbch5qxmtlI8cdfCvZYehlf1aPZ247/PU+Z1a2dvdpttX4fPYlvKrfxfhO5/0ZFVyrRiJ5ECK0aFCoK4OVI8MZri4rtUvJ42s9yzebwI1tLIZZZpowUZo3xsI7NEG1iGJHJa++PtZg8+tZktU7LzW23wdoSJSqlG3uADvwAM88FFJzjFRmtTQoWa3MisSAiOMtGdituE4YEtvJHNSQByI5Vvpx+mOjTt4+uphOVm7cX8sTlvrKxKIZrSM3MbwZkCvC8AjdG7IjYTvciQyswBJduuBiW8iWudlxLAWTsopmmREycItyjlQrMAzIZVTGfWKrnBWpMiO7JFNI0kSxPOA7xztInZyM3aK4iDYy7gx7lUHqQ0ZHY3EReVUfsoJIyHOSvaQyRshDjIzhQcrywx8DWutSU4Sg+Ka34tG3C1XTqxnyd9uCfge+7ibFZ35U3RoGMi7iBgDGc+r3iuzwPxct3aJIp57QT8PGutxXch059PEV4CEZQqWlumfTKSTjdapo803nDu6TkuM9AB0zVe4stOx5eJrbtYtdis+OXRfeazO8sFaUyTL2iRgHsy+0SSytiNWx3jHtSViBgns8ZAJNeuwOJlUkr7Hme18PToUnJLV8TPJWdYwhyFbvhWzg5A7wz7vzh4V+rcMGwpO5hs3LkEocArgHJB6Y8akZoGkvkVtq9rKq5G3ZGJJNhPJiERTnlnkFrs8RW6QELAzPNHKc3H2FfbyAijBLbTjcHJ5gDpV5dbHlL7He0xJEHY3MrwQGYdqF2vI5iyoCxAbhtHLLNjOOpGK7LcUNtNvGGlgafcFuezdpMttQNhe0B6nCFcE10+G9KQyI93L2SkTSsojMr7Y9nZsVPLvyS4G7+LJ8RXc0ea2hjmlCySSpFIkHbFUXt7hBBG/ZjmezMk0wHh2Yz0rVJR5X9rmCvdK/z+CJpSlch6I3vyQce+bwQXWqvb3FvbhdN061gtbWTULdsKDKH2pKlqLUurZdjISg27my/S8vvFam5vIpRqFpqEE6RWkEd6DYm2jf8sLdUjaEy22JFC78l4+8MMKpnAtss+k6jAkMb38YgvreXsg1w0FvJtv44pPtAJEySiNebBp+R5YqPaS3Nwu5nuLqZ0jVpZGlkmkcrHCpkkYsxJ2INx5DaOQFCS7cFcWG6ZLHWJGuLKZxFBczkyz6XcSnbDPBcNmXse0ZFkhdihTOAMENRdasHgmlimGJYZJIpQM4EkDsj4JGSu5Tg+IxWocOeS+581mC2FwuuWl9auhnKpbvayB+Sl/9GmEc8O92ViNkqEMwDLVR8sdwsmqXEiXUV6ZSrvd2kDW8MkjRqHEcZkkyoIxvDsHOWySTQFu13yU2tmYDqeqrbx3FvFNEI7GeeTdICZd8cchEdvGSmJmOZCXAVdhJjrzyPzrrRsFljbEPnRvjlIlscZa4ZdxZQG+r2Anv47207xzfSbvklu7MwusijRrNS0Tq4D77wlSVJAfayHb1wy+utS1LjW2i4iHaTxLb3Wgw2nnn1U8VtO7yyRGUHdF2W3G5XBXvx7htJNCDH77gS2ktbiXSNQ89azjE13BJZTWbG3yQ9xC0kjCSNDzZDhlXBJyVVonyhcHGyisnMva+e2MV5tEezse2GeyzvbfgEd/u5590VpPEUWoQWdybq+0mCGS2lixZR6YZdRSVMNBB2Fks22Qct5K7e6xxjK/PGXD41XTNMltLuzjS006OzvheXSwNaS26oGZkKlihw5HQkBCu4PkAQtr5GS2r29iLobrjTlv+383zsLib6ns+3G7vxflNy8m+zy59XTvJXHPcpb2eoxT3aCSTUmW3nS206GBV7WQXrkJchZWEY7MLuLAnYAxGuW2tW44vsnjuYmtl0JI1uDLGqkjzx1DEthZDEVfYTkBhyrGfo863DE11b3sgt4dQ06Wz87fkttLImI2kJ5LGQzgsSACEzgZIEnYk8m1vPbzvo2oi+mtYjNPavZT2byQJ+UltzI7dqo9gDPNeeWUN9Q+TKCPTrO91DUVtrW7RzsWzmuZQ6PhEjjicmRTGGd5SFCEIuHLjFm8nuh/gQ3N5qNzaM5spreztLO6W5e8mnaIgqFUEW47Ncuw5B8nbt51nypXiNoOhJHIrvHb3qyIjqzRntrUAOoOVJKNjdjO1vVQg72veSS2s5U/COrRxWtwFawmis553uYnVCZZIlfbbwKZFG9nYNzPdwcR6+Ryf8MzWLyxoltEbifUHUiKO02IwmKbs7jvC9mWHeWTvbVL1+/SKvUkg0sROshXRLZHEbq5R9rDawUna+QRtPPlWqcX8S2r69qNtJcxRw6lpMVpHfdojww3HZSdmJJFbaqMs5JJIHJB+eKAznh/yUWt4ZjpmqLOlvbyTSrLYT28u6NcxbY5JAHt3YMDIDmMhAVbeCJ204W088KqzX6oh1IM2o/gm6d0mNoN1n2Ibt2QDLdqG7M46Zrt+RrhEabcXb6jeWazPplzHDbwXkcxdD2byys2FCIOyQIGwz7pDtHZmq55P7Vb7hmSxhmgi1CPUVu1gu50t+3gNskRMbvyZgxfI8NozjcuRJC6Z5O4EsorrVr8WUFyX8xjSzmu5rmKMgduYUcGKHmrc85Dx8wWUG7+SfhmNbfXLeC9gnt5NPtmGojfHFHHIb0u0yHLxPEqszx5YgbfE4HT17Rhq+m6ctlcWyXunW5sbyzurmOE4h7NEnhfJSSFuyLb1JUh155UiuvwdYxWVjrsDXdtPI2nW+Htpg0bTFrsSQxO23tnRnjUsgxmRRyOQBBXNW8nlu2mzXelah58to0YvIXsp7J41nYKkqCVyzR5J5EDkknPKlazqtP8AJPfImh66sjojyW9mIkd1VpSJroEIpOWILoCFzjcvrrMKAUpSgFKUoBSlKAVt9pws6x2QA5C1V2VgHXdMpkPRt6HMgzgY5czjNYvptr2kqJ7bomefLewXwBPjXo2912JrxezYoE3KM4ZMIuF7ykrjkBzI6iubEytE7sBFuorc0Yp5VrMhO9le6OveUnBPdkXmevTHL11megzlZcDGXBQBuQIbkOZ6c8c/cPVXqHyo2KyQEsmWK85IjgkbRgttIz+vPSvLnE9r2d04XIAY9ev2mXn8D8DWqk1JWOvGVZKtn5M6+qhVjGMhtxAH81RyPryfVWgXkK9kp3dUx9k+Bz4kc+9Wa6iTt55wCMfr9R+799aLLfZt48bR3M8lXxCe730qqV426nf2bUotVc60ywt69GjQfJaV7F+ZwEyeQ8UQdcn2K+PKOitajAZj158s4K9O7nxzn/fXV8j94WVwWP5HPIY5iSYH831AV2+PJibYc26N6xzDL/dgGteSeYn9Thkvt/Zflsz/AFy3+sb6tsl26ljzLffivi+jy0n1Z/NHV/Ej3+6vvXrd+0+y5758GPiKjZYX7+VfmR4N4MtROnK61+XR34bG0lTlaP8Aj/a+h2rOEFHHZkcozkFuW24hOepz0zUlsVM9mPrGlfaDjlhjuY+7AH34UdM5hNH3BjkMMhR+cP8AXxe+p7biRznJDuB1/PwSffkYGfv99d+GTTa6Hm+0a0KqWVW16fhIsmjW68t5yARuz44PeJ8MdeQ5ACvSvDd0I9OhyxiPYxuApzt3qHCMD1A3beX6vCvJuoXu22m29Vt5T92Yyqn/AK7D41ufDPE8dzp0JB3P2cauOeNyIATuHPwNY455Ul4mrs1Jyb8Cc1rjxEH+ldk2ThDKqPknoACCc+4dKiY9Rt5B3oI9x57rVjA3uJ7JlJ/XmuK9miRu7GC/tlckesDlnr+qqrxGN/e5RFeYlZgrYHUJzADYzjOefLlnIoasE+Op6GMkl8/BaNXvkxhA4Hs7i2R95HWo38M28ukXK3IMTds6Q3NuA8hjtWjYtIo+1CJ3Qcu7kLnBFVfhfjOOW7EDFnUY33W3b2YGN/aKcZIXqwGd3dwTmpDQpoNSu5Y4mFncRTOEtjkQzW8UrSu6khWjmbadxGD08OQ6cFh7NzmnZWd+Xz/08929jFOMaVNpt3uufD+eJSfLXp0VvcgWcgeGdUuLmBd22OWUFgV5/kT2hK4+zj3CqRdy7zIZ2dt0WEk+32k0TRbQWP5hh3HPXJUnOTVj8qlnK9zLP2bIkcmx15MsUUruYCCAMxNJ2wDeB2g8zzhNUuVnkOGWJV2LIqA7CFQRmZV5ZYsRlR03E9M49NQ+xJu+m54+f3NpWXmfHEV3BJbWvZpIJUQRzSM4YP33ICx9RgH1jrivvV9KWSC4mgl3LDLGDHIuyRln3KrKAdpwUwQOfQ10EWPsMF33rMnPaCnZ4k3HGc7s7eXjk+qpnStP3adfNGyyERwSELkPGEuo1ZypXmv1m07Ty3A9Kyf0rS+/u0IO8vU+uENYlh0+4McjIGmtUxzwwVppGGCpB5hSRkfrzX3YCKSOWOXMckksRimh7JExICrB4twVolYg5Ru73u6eWOhpvEcqacIkYdm10ZGVlRstHFGFzuOcD1YxVx1LWLefTFM1uYbxPOYluLMKquyQo8DSwnvd1m5kcgM+8DCV09t3uvnQPfdfHqSPkT1iS1mMFx3QcPGxztljfIWSNiBuhbGVYf7xWwXMm5uXT/urAdU0e42CdUc2ymKeJ0kEiWi3jRSOowRtjMkjqVC4zgn7Oa3Lg6NmjUsc8gTXmO1qEYz71Na7+J7rsDFudJ02vt9jucQ6AZkVcgIoLSN0AVRliT0ACgknwANZNqvGFrFpjuESSeW8V7aGZnBENqNsbGFPDduYh2AHaMOpGb55ZeL/ADWWCE7uz7txd7MgvAWMccQ9oFg8jJ4rEPAmvP8A5TdHW3njt+0ErxpvmeEh133AR0CuPtYh7IfePfgdfY+F+hSnfXVeC39dPKxU9uY9Vazpx2jdPxt+NV4lbuNQMjPJJzcnd3QqruJz9kDG3HQD3VKcPBp7+ITOXZ5U3s7FmZmPMknJJyfVXxqcESwQKgdppN0spfCgKzFIlVep5KWLH2gB41ceB9eaDWZXgSOLY8pC9mG7NLaOTAQsN2/anhzY+FegnK0W4rgzzrafmR9joAVrgXEyW3ZmOLEu+Ri0uZGARPEALndnB5HoTVp8n9nZrewLua72u7YePs4pLnsmMDdmcl44vrTgjLO8XQA1VeHeGZJoo5HdI4pp5XaeeYLyjHfZh+UODnoSST+uuLVNHdAy7gkolWBcllMjzKzNzPNYVjkyWbwx6xWuSU04uXp6eP7mEW4yTS4rf5YjqUpXKeiO3o2pyQTpNbO0VxE2+KWMgMjAEZGQQQQSpVgVZWZSCCQblLxTYTtvvdPkhuSdzzaPdi2SaTOS3mc0EsULE4JMLDJJOBVCpQHoDyU+Vxu3NpZiKxtZo7plvNUvri8eO882draZ7id1gWMyxxhoFj2kuxBLHvY9xbxGLlIR5ra20kIkWSWwt47bzsyOpDSJGBHlAmF2gDvuRgEKIClCQK/AK/aUIPwLQrX7SgPzFftKUB+BfVTFftKAmtK4SuZoTLBAzw98hl2AydiN0xijLCWbYPtGJW24OcYrjXhi48184ELeahS/a938kH2NKI93amASd0zBdgOQW5Gr35O+JrSBbNpXWN4e3W5D2DXczPO9wI5ILp2KW1qsMsJZIAku6OfuyGXdUHqV/ayQxu1xOs0Wmw6ebS3jaIzNbQi3JNywMXmE0QMrxsN5Mjpt57qAhNU4OuYYw81u6RlkXorMrygmFJIlYyxSOAdqSKrNjkDUhqnk/uIrbtJ4mWU3cNnFbBFlaaW4iunIDRyNidGtkjNuV35nTO3kGvXpxZxPK8DI6m9sby3t009oZGisLwzGG5vpGeee9MTj6yV2i3ROwfMm0RfDXE1pZFDFNJd/+847twbZottv5lqdsxxI+HvVa9R2HJGKoFc94qBTbngm6EyRNbOZpFkaFE2S9qLdS04Ro2ZGeNVJZASy8gQCQDy3/Al5HG0klswiSMymTdCwMSLmSSMrIe1jRebtFuCDO7bVpHF0ESLFE8bIItRYtY6f5jEs17pctnbBYzmdpS5XtJDtRVEQG/YWqM0biaFDZ7i2LfS9QtJMITtnvPwz2IX1qfPbfLDkMtn7JoCr3WgTI8qvEyvboslwDt+pjkMSozHOMMZ4QME57RcZqOrR+NtR26Raq6PHf3cUC3ayqVL2ejvcQ6fJtbD7Z1eE7iO9+DlIJBGc4oBSlKAUpSgFKUoCf8n0eb2M+Ee6T9cakr+3spd6sRcMw5ENjchKHvNnoO7jl6vGu3wD3VuHBAKxqgLdPrWYkerpF41FtF3xlPtEuTGcYXwPLK/ZA8Kr8VVs7Hq+w+zu9pqonxf8LYsuocSsQy7s7mAIz2WTyGcjMbdANxA6VknF11vlDn85n/ORs7m3DmoHrPWrXNcBsEHoSxVsg93LHmAfCq/rmmf6LkY3LhhzHPm2cePTNTTaVjhx+Gnnk1tqzrG0TapU4YEZBHIsxA6jljn6q06w4QkFnDjn3MAqkB5bUx32ZWPh1/8AGsTj1BguAeXXHvHSvSXD+rIdNjLOykDaVXJHd3KT0xzCA/rNZVc0beJqw81PNZf0ezRN+Rzg+Tnlm5owCh1G3vk55MRnn4ev31NcRcEu0ILOwHfUgzPjBzjkFb1A9OpPrr48jetRb8Zfq4OSvRgpH53jzNWLiTWIhB+d1YZ3R+IbP+srTKUsxosjJOI+BvrGPI9882lfJ7wPhD15+v8AfUDd8E4D81+0OrvnmR/M6f8AjV61bWoN57pPfH+sh5bipH+u/XVU1fiCEGQbcjep5SJz6eqT7jSblmXziWeDS7md+v8AiyO0vg3ByCAQF+xK/XtY+mYxz5+sdOtc3H9gLeSMMW7Rkdm3lT9Ws0gUkhyc57v6hzruaLrcJ6A8yg3b1OPrF/2meoB6c60PzK2lktXnBd4pmKbo84YSSFc5jJxuw3LHNF+6tjrSpyTKpwUk0eeuILj/AEa5Ph2Kr/15oF+FVjhHjm5swRbPhSc7HBYA+sDIxWteWvh2NZJfNSNk4cNFhl2yqyyoVG0AIWUZHIA58DywaS2I8PHH3EdQR1De44NdrnGtFM5FmpS0NKsfLTd5O9YnGDklZBy8T+UIz78CurrnlHmuEUbEiOcPIjOzFT4AscJy8Rz58sVRJl2qBy3NzPuXkVB9RJ548AF9dWjgbTBLewq32ftMCVwwCk4LHugZGOeR1rV+mpXvY2PF1VFrMzUPIXpdzaO5jAjkaMKVuIwyyvMpZEALAERwGSRsNkYIxzr98ocsSXEl5p6kQzJJa3MZDgRXUyusjLuGQjKCwQ7SDuA5CpDyL8eywWt48qLNawwsVjlGRHNcyLFGqvg7dxkdip8Izjxrn4O0y1u7C6ihle1Yxg9jcyDsXuO0TzYrMc4ckSLn1TN4cxus6c3KS0VldbO+9+J52VR1NL6u7s+Hg9uhn/C+uTlewjcmNu7sYghhuVuzO77SMU/JnHNuXM1Vb4DtWMfKPJKgEnaM8hz58unOp13kspdksbRXsUySAyDkOxZXRWToyl1U5BII5VGa3seeV4F7OFmZ0h3A9mrsSqKfFVzj7hVjG17peZzxTTd35BrdNsn1oJAVlwGw+WAIBOCCN2f1GpzSeHJmsJp4sNAkOZjE+WRTNCuHjHe2bwG55Xu58Kq1lFlH7wBCg4ORuAYAgetvHH31onBEEtvpU9wgIScC1WVcMOZLSqwztHIbSHH5wIIrGrJxWm91uS1be/xFRsdbIgSNkjdA7Ph055cBTl1IbGFHLNaJA1nPYRoA1nNJPOUY5mt2fsVChuZMedyrkDI5HpWYWl2m4CSMMAOqnYft5Jz0zjI6er1Vod7pdu8FkLecxSyBiYbtSOcrGPIlVSNpZCMnlzBxjNYVUtN1ruvP5sRrd6Lz8eBz8P6ND+BJHuu3F19UbVYt5hdBuZS+0GL7aPv7QgqqKR3uTbdwbchIA7DupHuP3KuTz+4GvLuo2E9s8kUqyJsdN6Zbbgh2XODsIKsxB6YLVtkmvoLaOGYN2VzGyXEqdYICuwv7zvcAe4OfCqbtPCuo4pO9234Ky2PQdkYyNClUk9LJebbe/m7eBVtX1oXcYu5SvnEMhSOF2z52bm4cwOu5B9XGzvEg8AikgLuqkW+gRy3ZRrxZJHmESyrE7CaSRlUuvj2e5zjlzC8sVLSqJrx+ymhWG2DRxTu4jV3KuvaqoQ7ii5PdAG4gqcEVJcO6LFbQz3JvIGkggZbeOEyOxubgNDEwycdwtK+ccsA1aRtTjpdclba+y2+X6FE3KT134vmRWmm0l1c92aS1E0UNttMcW6GAbAxGQBv2B8DH2jnma5tC11Y7nU57WJUCxXBhkYmRoPOZkiTY27Zv2u3e59TjOK73kx06zjulLTzN2KPITDb8i0arswx7wyVfGRzOB1POvNqMMej3QjjYzXd3EkcsjoTHb25llOEzuDEsiluh/UKlq7sk3pFa9XqZQ1d9N3bpZaHQ0XT2aGJnjZrcMiPyHfFzOV2xqxw0jbWUYwc451JcVW0zTzySqWKzOjTMuFMqyKs7Bm5Be0Xs1wM4XHKozhrWpoZ7Z03PJEd1sj5Ze27ywlUY7SVlfcOXJgKs3lKvJHi063UsY0tULKP9dcTSu1zK/MCR2lLMXPLJPM8zW1uSmtuPl8+bGq0XF3epVaVTPSuT2U+D/PT0rk9lPg/z1xHo7FzpVM9K5PZT4P8APT0rk9lPg/z0Fi50qmelcnsp8H+enpXJ7KfB/noLFzpVM9K5PZT4P89PSuT2U+D/AD0Fi50qmelcnsp8H+enpXJ7KfB/noLFzpVM9K5PZT4P89PSuT2U+D/PQWLnSqZ6Vyeynwf56elcnsp8H+egsXOlUz0rk9lPg/z09K5PZT4P89BYudKpnpXJ7KfB/np6Vyeynwf56Cxc6VTPSuT2U+D/AD09K5PZT4P89BYujHPXmeXM8+gAHwAA+4CvyqZ6Vyeynwf56elcnsp8H+egsXOlUz0rk9lPg/z09K5PZT4P89BYudKpnpXJ7KfB/np6Vyeynwf56Cxc6VTPSuT2U+D/AD09K5PZT4P89BY1bhInsZwCBnss5zzx2/j0GAT1I61X9TuQrMVzzyqmNgRtGc4ZTjpkfrFQdp5S5UhMccFuu5VEkgW5ZpSm7azB7pogw3t9hFHPpUDc8Rs3WOLPrCyD1eqXHh++uepTzSvwLfC49UKGWL+rX5fzZaI9WwG5AkgKu8DkX+0c9cbA4/WK7V1cAxgYXJPQZ5AY8N368n2qpVvxAykFUQFSSPyvMnHX63mBgV3k41lBBCR8hjpKR0IPIy48aiVHkjT+vm92dO0st0+0fZ3c/coOT/dyrQLyXFtjap7wIJL5/P8AANjHOs5s9bdGLAKS3XcGPr6d73135eL5Cm1o4iOXeKyZOCSP9bjxx0rKpGTStzGCrU4ued2vFpacfI2TyJzHtvsr68BemQM/3ffVo4oci3PJftN0TPPY5xzU+FYHw95RZrdt0UcOf5yS+oj82YcsGpC/8rlxIhVobfBO7Ijnzkrt/wD+j1eusJQm3sZ5qH937Mt91MSVPd59mfsJ7Ef83rVX1Wc7n+zncP8AVx+JH82oL09l5fVQ8tuO5J+YAB/rfUorpXXFTsTmOIZwThH8P/iVDhNyvY7IYnDRpOOZ314PlYtOh3J58l6p+YntjpgZHTwrTortgsB2Lt7UnI3c/rHzkl+fOsHtOKXTpHF4dVf80gjpIPEVM/8AtMn7v1cPdbcDtmOTknnmfpkmspwk+BX5qS4/sy4+VOcmReRI7Ug5ZsEmMZ9WMe4moHTsEhsBSUZScbgQFJyd2ckEePTJxjJqta3xpLMwMiRght3cWQcwMeMh5YrqJxK4UAKgwRzw+eXhkydD0PuJqckstiaNalCed621S5nVmXLE/rP6+Z/fWteRPyfy38U5ijLdjEQNpVAZHVzGrOwIxhXI5HntHLmax3zw5PIc/v8A99XjgTyt3VjbtDbrGYmLswc3Qy0iqpY9lcxqSEQKCQcDOOZzW6blb6NysnHMmmXvgjVbeO0nstQjkjna43vdQgFouxTYiOucsqyF25ZHezzqU1/h7stDQ2sqzpdXPbOEysgggUrGrxE7WxJuyQOqrWFXvErvIX2qrHrtMpyTnJJeVnJOTnnXa1DjSaQqSEXZGsadmrrhE9ffySTkknOSxre3HMmm97tcL/PYqnhKr4Lay6fz/s0bjW6afSoJZjvlWd4C0gPaIIYoiq9oeZQrIO6x/NGM4OKGuMYJwQMr7z6j6uVfd95RZpLBLV44SiSNIs+yQTEyY3KzibYychyZSRjkarp1ZvUv34b5q2060UrdX7mSwdS2vv0LBp0JZiBjO1j3iF+yCTzPjgHlVy4M4kkt7VFQ7ojPK8sD96KbMUKbXTHM7C3Mc+nI45Zf+GW3ZwufuPiMe1Xc0Xil4S2EjkR1KvHKrlTkHDYWRWDqTkMCCOfgSDM60JLXUSwdV7aFjvDH2w3KUUrkiMhsZ3HkCenMcifCrfxzpChYfN7iOVUtozsb6p13NvwUI2E5fPrrKdU4jeSUuVRScd1e0IAAAwN8jP4eLGuTU+KZJGyyoO6qgAScgigD7UhPQev4VHfRundmv9DVstvXY0PyhQzwzbJe0QvBbuyszkMCjYPNm3LzYA59dWbjzU44rCCIb/wiUYXSr0IYs1qC5OQ0ZfayqOvaDkTmsok8otw0kLSbZFhWJVikMzRyJbPuRJFM2ShJIIUryJAxUdrfFks8xklC9oxyxHad5iSSxzITuJPrrWpxbjm4e5msHUSaVrP8fPlzReFOFma3di8KMZuwxNMEYGJe0lP2SNhJRc56irHd8IhbINJeWyq822PbJM+7slwzYC9PzunVqxVeKJAirtTapYjutklyCxJ3de6o+4Cu1f8AGsrxRoUjVIgwXYsg3byCzNmUjdyAyAOQrJ1bv7uPI1vAVG22l6mrcOWMCQXDSXi7iojXs4ZJCT9pj315LvIXPjk9Ko2vTIXWO2ZmjUkB5QqDvEDdtBIUYGST4YqurxhKITGAgQtuJHaZJ9/1mPD1VxaTxRJExaNU3FSu5kLFdwwSuW5N6jWSqxTbu2TDA1Ful6l30q77W9hFzKVgjCL2njFEgLDYoHXlnlzJ++tB4w1+0/BUYswwuyPNtxUGQW5ZmlZ5eiyOQq4X81yCeeBg8fFEm/cQjNtC95W5KqhVGAw6KAM1IxceyCJYzFCyq7PuZZt7M+OrrOGwMcgMe/NYTnCTT10exKwdZXso7WKjSlK5y5FKUoBSlKAUpSgFKUoBSlKAUpSgFKUoBSlKAUpSgFKUoBSlKAUpSgFKUoBSlKAUpSgFKUoBSlKAUpSgFKUoBSlKAUpSgFKUoBSlKAUpSgFKUoBSlKAUpSgFKUoBSlKAUpSgFKUoBSlKAUpSgFKUoBSlKAUpSgFKUoBSlKAUpSgFKUoBSlKAUpSgFKUoBSlKAUpSgFKUoBSlKAUpSgFKUoBSlKAUpSgFKUoBSlKAUpSgFKUoBSlKAUpSgFKUoBSlKAUpSgFKUoBSlKAUpSgFKUoBSlKAUpSgFKUoBSlKAUpSgFKUoBSlKAUpSgFKUoBSlKAUpSgFKUoBSlKAUpSgFKUoBSlKAUpSgFKUoBSlKAUpSgFKUoBSlKAUpSgFKUoBSlKA/9k=\n",
          "text/html": "\n        <iframe\n            width=\"730\"\n            height=\"410\"\n            src=\"https://www.youtube.com/embed/0gkav6BS4-w?fs=1&rel=0\"\n            frameborder=\"0\"\n            allowfullscreen\n            \n        ></iframe>\n        ",
          "text/plain": "<IPython.lib.display.YouTubeVideo at 0x7fd4dce0aa50>"
         },
         "metadata": {},
         "output_type": "display_data"
        }
       ],
       "tabbable": null,
       "tooltip": null
      }
     },
     "babf5856e4c14659b48b60ce108fdf15": {
      "model_module": "@jupyter-widgets/base",
      "model_module_version": "2.0.0",
      "model_name": "LayoutModel",
      "state": {
       "_model_module": "@jupyter-widgets/base",
       "_model_module_version": "2.0.0",
       "_model_name": "LayoutModel",
       "_view_count": null,
       "_view_module": "@jupyter-widgets/base",
       "_view_module_version": "2.0.0",
       "_view_name": "LayoutView",
       "align_content": null,
       "align_items": null,
       "align_self": null,
       "border_bottom": null,
       "border_left": null,
       "border_right": null,
       "border_top": null,
       "bottom": null,
       "display": null,
       "flex": null,
       "flex_flow": null,
       "grid_area": null,
       "grid_auto_columns": null,
       "grid_auto_flow": null,
       "grid_auto_rows": null,
       "grid_column": null,
       "grid_gap": null,
       "grid_row": null,
       "grid_template_areas": null,
       "grid_template_columns": null,
       "grid_template_rows": null,
       "height": null,
       "justify_content": null,
       "justify_items": null,
       "left": null,
       "margin": null,
       "max_height": null,
       "max_width": null,
       "min_height": null,
       "min_width": null,
       "object_fit": null,
       "object_position": null,
       "order": null,
       "overflow": null,
       "padding": null,
       "right": null,
       "top": null,
       "visibility": null,
       "width": null
      }
     },
     "bb53d9e446e345d3967160c8ade4913b": {
      "model_module": "@jupyter-widgets/base",
      "model_module_version": "2.0.0",
      "model_name": "LayoutModel",
      "state": {
       "_model_module": "@jupyter-widgets/base",
       "_model_module_version": "2.0.0",
       "_model_name": "LayoutModel",
       "_view_count": null,
       "_view_module": "@jupyter-widgets/base",
       "_view_module_version": "2.0.0",
       "_view_name": "LayoutView",
       "align_content": null,
       "align_items": null,
       "align_self": null,
       "border_bottom": null,
       "border_left": null,
       "border_right": null,
       "border_top": null,
       "bottom": null,
       "display": null,
       "flex": null,
       "flex_flow": null,
       "grid_area": null,
       "grid_auto_columns": null,
       "grid_auto_flow": null,
       "grid_auto_rows": null,
       "grid_column": null,
       "grid_gap": null,
       "grid_row": null,
       "grid_template_areas": null,
       "grid_template_columns": null,
       "grid_template_rows": null,
       "height": null,
       "justify_content": null,
       "justify_items": null,
       "left": null,
       "margin": null,
       "max_height": null,
       "max_width": null,
       "min_height": null,
       "min_width": null,
       "object_fit": null,
       "object_position": null,
       "order": null,
       "overflow": null,
       "padding": null,
       "right": null,
       "top": null,
       "visibility": null,
       "width": null
      }
     },
     "bc1724a6fcb34c5bb53cdc30b9ef8141": {
      "model_module": "@jupyter-widgets/output",
      "model_module_version": "1.0.0",
      "model_name": "OutputModel",
      "state": {
       "_dom_classes": [],
       "_model_module": "@jupyter-widgets/output",
       "_model_module_version": "1.0.0",
       "_model_name": "OutputModel",
       "_view_count": null,
       "_view_module": "@jupyter-widgets/output",
       "_view_module_version": "1.0.0",
       "_view_name": "OutputView",
       "layout": "IPY_MODEL_88b6b0ec820d4c889ba499950aa0aa83",
       "msg_id": "",
       "outputs": [
        {
         "name": "stdout",
         "output_type": "stream",
         "text": "Video available at https://www.bilibili.com/video/BV1nA411v7Hs\n"
        },
        {
         "data": {
          "text/html": "\n        <iframe\n            width=\"730\"\n            height=\"410\"\n            src=\"https://player.bilibili.com/player.html?bvid=BV1nA411v7Hs&page=1?fs=1\"\n            frameborder=\"0\"\n            allowfullscreen\n            \n        ></iframe>\n        ",
          "text/plain": "<__main__.BiliVideo at 0x7fd4a2360390>"
         },
         "metadata": {},
         "output_type": "display_data"
        }
       ],
       "tabbable": null,
       "tooltip": null
      }
     },
     "cdc0c9c2ca004b1088163870c617e765": {
      "model_module": "@jupyter-widgets/output",
      "model_module_version": "1.0.0",
      "model_name": "OutputModel",
      "state": {
       "_dom_classes": [],
       "_model_module": "@jupyter-widgets/output",
       "_model_module_version": "1.0.0",
       "_model_name": "OutputModel",
       "_view_count": null,
       "_view_module": "@jupyter-widgets/output",
       "_view_module_version": "1.0.0",
       "_view_name": "OutputView",
       "layout": "IPY_MODEL_760a0f9ec065468388c0a2d85e5b5f99",
       "msg_id": "",
       "outputs": [
        {
         "name": "stdout",
         "output_type": "stream",
         "text": "Video available at https://youtube.com/watch?v=1qxW8CPW77U\n"
        },
        {
         "data": {
          "image/jpeg": "/9j/4AAQSkZJRgABAQAAAQABAAD/2wCEAAUDBBAOCg8QCg4QDQoODQ4NCwoKCwoLDwoLCgsKDQoNDQoNChALDQoQCgoKDRUNDhERExMTCgsWGBYSGBASExIBBQUFCAcIDwkJDxISERUSEhUVEhYVFRUVEhIVEhUVFRIWEhIVFhIVFxIXFRUSFRYVFRUVFxUVFRUSFRUVEhUSEv/AABEIAWgB4AMBIgACEQEDEQH/xAAdAAEAAwADAQEBAAAAAAAAAAAABQYHAwQIAgEJ/8QAXBAAAgEDAgMDCAQICgUJBgYDAQIDAAQRBRIGITETIkEHFBZRUmGR0ggjMnEVGDNCcoGisTRTVWJzk5Shs9UkQ2PR4jY3dZKyweHw8Rclg7S1xXR2goaV0wkmVP/EABsBAQACAwEBAAAAAAAAAAAAAAABBQIDBAYH/8QANBEAAgECBAMHAwMEAwEAAAAAAAECAxEEEiExQVFhBRNxgZGx8CIywRSh0UJSsuEVYvEG/9oADAMBAAIRAxEAPwDxlSlKAUpSgFKUoBSlKAUpSgFKUoBSlKAUpSgFKUoBSlKAUpSgFKUoBSlKAUpSgFKUoBSlKAUpSgFKUoBSlKAUpSgFKUoBSlKAUpSgFKUoBSlKAUpSgFKUoBSlKAUpSgFKUoBSlKAUpSgFKUoBSlKAUpSgFKUoBSlKAUpSgFKUoBSlKAUpSgFKUoBSlKAUpSgFKUoBSlKAUpSgFKUoBSlKAUpSgFKUoBSlKAUpSgFKUoBSlKAUpSgFKUoBSlKAUpSgFKUoBSp/0Uk9pPi/yU9FJPaT4v8AJQEBSp/0Uk9pPi/yU9FJPaT4v8lAQFKn/RST2k+L/JT0Uk9pPi/yUBAUqf8ARST2k+L/ACU9FJPaT4v8lAQFKn/RST2k+L/JT0Uk9pPi/wAlAQFKn/RST2k+L/JT0Uk9pPi/yUBAUqf9FJPaT4v8lPRST2k+L/JQEBSp/wBFJPaT4v8AJT0Uk9pPi/yUBAUqf9FJPaT4v8lPRST2k+L/ACUBAUqf9FJPaT4v8lPRST2k+L/JQEBSp/0Uk9pPi/yU9FJPaT4v8lAQFKn/AEUk9pPi/wAlPRST2k+L/JQEBSp/0Uk9pPi/yU9FJPaT4v8AJQEBSp/0Uk9pPi/yU9FJPaT4v8lAQFKn/RST2k+L/JT0Uk9pPi/yUBAUqf8ARST2k+L/ACU9FJPaT4v8lAQFKn/RST2k+L/JT0Uk9pPi/wAlAQFKn/RST2k+L/JT0Uk9pPi/yUBAUqf9FJPaT4v8lPRST2k+L/JQEBSp/wBFJPaT4v8AJT0Uk9pPi/yUBAUqf9FJPaT4v8lPRST2k+L/ACUBAUqf9FJPaT4v8lPRST2k+L/JQEBSp/0Uk9pPi/yU9FJPaT4v8lAQFKn/AEUk9pPi/wAlPRST2k+L/JQEBSp/0Uk9pPi/yU9FJPaT4v8AJQEBSp/0Uk9pPi/yU9FJPaT4v8lAQFKn/RST2k+L/JT0Uk9pPi/yUBAUqf8ARST2k+L/ACU9FJPaT4v8lAQFKn/RST2k+L/JT0Uk9pPi/wAlAQFKn/RST2k+L/JT0Uk9pPi/yUBc6UpWRiKVWOKdVkjlAjbC7AcbUPMlvEqT4Con0hm9v9iP5KgmxfaVQvSGb2/2I/kp6Qze3+xH8lLixfaVQvSGb2/2I/kp6Qze3+xH8lLixfaVQvSGb2/2I/kp6Qze3+xH8lLixfaVQvSGb2/2I/kp6Qze3+xH8lLixfaVQvSGb2/2I/kp6Qze3+xH8lLixfaVQvSGb2/2I/kp6Qze3+xH8lLixfaVQvSGb2/2I/kp6Qze3+xH8lLixfaVQvSGb2/2I/kp6Qze3+xH8lLixfaVQvSGb2/2I/kp6Qze3+xH8lLixfaVQvSGb2/2I/kp6Qze3+xH8lLixfaVQvSGb2/2I/kp6Qze3+xH8lLixfaVQvSGb2/2I/kp6Qze3+xH8lLixfaVQvSGb2/2I/kp6Qze3+xH8lLixfaVQvSGb2/2I/kp6Qze3+xH8lLixfaVQvSGb2/2I/kp6Qze3+xH8lLixfaV1tKlLRIW5sVBJ5DJI58hyrs1JApSlAKUpQClKUApSlAKUpQClKUApSlAKUpQClKUApSlAKUpQClKUApSlAUrjf8ALj9AfvaoKp3jf8uP0B+9q+eBeFpr+9itbJQ9zMWESM6xglI3kbLsQo7iMefqrEyISlTvHfCVxp95JbX8ZiuY8bkyrAq6hkZXUlWRlIIIPuOCCB27HgK5k0mXUURTp8M4tpZDIgYTMISAIs7yMTxd4DHM+o0BV6UpQClKUApSlAKUpQClKvfkM8nLaxqS2kcywM0cknauhkAEQBI2hlOTnrmgKJSu5rlh2NxLETuMUrxFgMbjE7KSB4A7c4rp0ApVy8mHkwvtVkK6ZbtKEI7WYlY4od3TfM5CbsZOwEuQDhTitMn+iVqu1jC1nO6jnDBeqXBHh9ZGiA/ewHvoDAaV29Z054J5IZ12TwyPFKmVbZLE5SRdykqcOpGVJBxyJrqUApSlAKUpQClKUApWh615L2i4bttWM6tHc3TWotRGwaMp553zLu2kf6IeQH549VQ+o+T66j0iHUZEUadcTG3hlEiFmlXzjIMQO9R/o03MjHdHrFAVSlKUApSlAaNof5CP9Bf3V3K6eh/kI/0F/dXcrIgUpShApSlAKUpQClKUApSlAKUpQClKUApSlAKUpQClKUApSlAKUpQClKUBSuN/y4/QH72rQPob/wDK3T/05v8A5O5rP+N/y4/QH72rQPob/wDK3T/05v8A5O5rEyN7+kLocXEWnXdxYoBrmiXVza3Vunee4s7e4nCYH223Ro08fXvrdxqGJzWY8H/82eo/9Mx/9jSqiNE8p0mj8aX1wu5rZtSvYr2BcfXWz3k27APLtUOJEOR3k2khWbO7fSI4St7Tg3UX01lawv8AULbUbZYhhI0uxYKyoc4MZkheRQAoVZVTHcyQMB8nPkvsk0UatxHNcJYST9hY2mnCIz3siM4kbfIDGkQMMy4O0/VOdynYH4/LJ5MLSPSbfVdAlnl0ueVreaC+VO3srgbyoZol2GMhGTnnB7LDydqNu56JxdN6B2E+k2VrqUlk5t760vLRr02wTtQ0qwpKrBsNDISNx7O4DEAKxGIceeWu/wBQ0aW2On2lvphljeWbTrG5gSOVXUpmTzh4FZmCqdy5PIUBtfE1hofoRp3nD6gukG9fsJoUs/O3uQ2pbxNmIx9hu84C4G7Cw++sR4m8l9m3Cx1TS5biRotRltbmO5aDbHbGWUWr7EhVlnMMlgWBcjdM5AAwKuPGtqz+TDTDGpdYtSlaYopbskM2rqGcgd1d8sS5OBmRB+cK4vofL59p2taO+C11Z+c2iSYCpdW5CBiSOR7drJvWBASOhoDo8LfR9jm4Ol1R5ZV1ARz3VvbholiNnZyKsrPEYjMzGOOdw6uq9+DkR9ql8CeTuCXhzUdTvXlUW0kVtYRwPEomvJdvaCVXiYmJFnt3wjKxUS+oV6V0jiuODjW20hSW06HSBozISNjTNbpcvIR4yOIoYCTz3bvWScn+lRY/grRtK0VXDyxiXUL5gv2p55JUtyCDtwoe7THM7Ui5+LAdOx8k+m6bpVrecUzXRnvl7S00zTFhEnYbVbfM8wx9iSJiu6MqXC98hgIryoeSa0/Aq6tw7cTT6YJBDeW16IhcWEzFQN7RgRsu+SFCgBI7aJg0iuSt5+m5btd2OkahaAyac1kIzJGCyW8jdmyrIRkI5JaPBx3oHXqMV+cEWzWHk41Fr9TF5/dKtjFMNjT7xaKsiIeeMQzyDIBK2xYZG0kCG8nfkMsLjhqDVNQvZbRBcSC+cmN0FtE88apbwi3MrXckqwIMuwG9ztbAUz/0Wo9PHGkQ0Jp3svMJctfbRKZwpEhO1VXaQEPIAcz06CH4l/5sLL/pV/8AtajUV9AT/lRH/wDhbj/sLQHDwZ5I47u41G/1mZ7PQbW4ue0uI9olupu2kCQ229GUsHZQW2tlisagli0eI6w0ZmfzYOtvvbsVndJJBHk7BI6RojSbcZKqoznAr2DxpFHxPpD2mmsLXWNHmnb8Dq/ZwahGshjaeNScGVvzZXJMck0qOQtwsx8cXdsyOySKySIxR43UqyOhIdWQgMrBgQQRkEGgPV/0h9RfRuE9J06wPYG9hafUZYWKvMwjt3njL7Q5jlmuSCcg7LeOP7BK15S0+8eKRXhdo5VOUkidkZD61dSGB94NeufLJoT8QcJaZe6WDcXenxG3vbWEbpN3ZW63OIhlzIkkEcixjvNFcBufLPljROFbm4nMNtbTTXAOGhigld0J9tAuU6Hm2AMH1UBPeTWCwnuppOIrq4ji2NKDap21xe3LyLle0kR0ViGkcyS8iR1yeepXXkx0jUNDvr3h2S9iuNNRXuLXUzbESw7WcuOxDbWaNJtpD43QFSihg9ff0cPJZCbbVbvU7Rr650rMcejq5G+5jEhk7Xs8l1Vo9oA3KQs3dfCitJ8lmsz3XC/EEk2lWumQHT2Fu2n6e1kLvZbX5m3uzFpxEOzw3Re1k9ZwBg/kc8mMF9omsXdw8yz6dCslukLxLG7NHcMRKrQs7LmJfsMnU/q/PoqeTKDWdUltr15o4ks5LhWtWiRzJHNbIoJkhkXZtmYkAA5C8/Xf/onWzS8NcSxQqZJ2tItsSKWZ8wX+0KoGWYlSAoyScDxFWH//AB++T+7iv7i9uYWgtDaSW0RuFaJp5ZJraQmKNlBaJFhYNJ0yygZIbaBjX0Z/JUmsX0q3Urw2VrbtcXLW6h5pFBCrHECrAOclt2x/sY2ksMcPlF/ALWbNov4SivlaMLFqPmZiljJbtWzDvYSAbTzZRz5A+EX5FOItQsbtrzRo3keBNt1sgknj83lYErcKgyIWeJe9lcMi4YHFbvxvb2evcLXmrPYLpmp2jjN1DhYdQbdGHBO1RKztJsywLpJ2Q3sCykDFPJjZ6KLR5ddnvTdCcpFYaZHCC0ASIiV5507LaztImxXVx2efzhVp8uXkvsYdFs9V0KWdrC7maBre+7MywzAXBwCigYU2syEEvzCkOwarPwbwlb6fwjb6qNNTV9Ru53iAu1lntrCJZbmNWe1jO2TL2yqS+0hpsB1xtexfSEeaXyf6e9zZR2Ev4TDyWdraNZxQRlNVWJ/NjzjWQNG25vtNKD+cKAqvHH/Njpf/AEvJ/wDeaq3FPBCx8D2N+Lm6aSfUHgNk84a0iCnUvrIrfswVmPm4728/lJeXe5Wnjj/mx0v/AKXk/wDvNfvHX/Nhpf8A0tJ+/WqA0HWrDQ/Qaw85e/XSjfns5oUs/Onuwuo7xJmIxm3B85C4G7Cw8+tY/D5KLK74avtQ0mS6a5sLuRWt7lrciTTxLmGXs0hV1lFnIjuS5G63ucLgrizcT2Ty+TCwMKlxBqkkk5QZ7GPfqabn9S754Rn/AGi1C/Qe4oSLWZLK7Aay1SB7SaJ8bWlCSGEODzIZWngC+JuRQFb+j35MoL+O/udTeWLS9PtWmlktWjSSSc5aKJDLDIhzHFNkYzuMI/OrJK9T/SG0pdA4Zh0eJw91fXc13eyrjv29vMotsqTldwjtMAct1tP0zXligNG0P8hH+gv7q7ldPQ/yEf6C/uruVkQKUpQgUpSgFKUoBSlKAUpSgFKUoBSlKAUpSgFKUoBSlKAUpSgFKUoBSlKApXG/5cfoD97VwcIcRzWV3HcWUnZXURJilCxvsLoyN3ZFZDlHYcwetc/G/wCXH6A/e1QVYmR29Z1J555Jp23zzSPLNJhV3yyuXkbaoCjLsTgADnyFWGTyj3p0sae1wx0wNuFqUhIUiTtRiQx9sB2pLbQ+Mk8qqdKAtHk78oN7pkrSaXcvbu4AkChHSULnbvhkRonK7mwWUldzYxk5nfKD5btU1K3MGo3hltiysYVgtYVZkOVJ7GBGOG58yazqlAX3yb+WHUtLiaPTLtoYXbe0Rit503kAF1WeJwjEBclcZ2rnOBURw5x7d2uoNe2s5iv3aVnnCRHe1zuM2Y2jMRDFicbcA4IwQMVmlATTcVXB1Dz0ynz/AM48685wmfORJ2ok2bez/Kc9u3b4Yxyr7464vudQujcajMZ7llVTIyxp3Y12ooSNFjUAeyBkkk8yTUFSgL75OfLFqWmRmPTbx4YWO4wskE8YbxKxzxSKjHxKBScDOcCo3yi+UW91ORX1S5e4ZARGrBI0jz9opBEiQqzYGWVQW2rknAxw6L5P7+4hWW1sLueB87J7eyupY32MyNtkSIo2HVlODyKsOoruf+yrVP5Lv/8A+Ovf/wCigOjc8c3TaYlg0xOmxymeO27OHCzEyEt2oj7Y85ZORYjvdOQri4D4xudPuhcadL2FyFZBKEikwkgw42yo6cx7qjdZ0uWCVorqKSCdMb4Z43ikTcoZd0bqHXKsrDI6EHxrp0BN6Dxbc218Lu1maK9EjSCdNoO+Td2mV27CrbmBQqVIYgjBxX5xpxRPfXTXF84luXA7SURQwmTYoVSywxohbaANxGTgZJxULSgLP5PfKBeabK0ml3L27uAJAmx0lC529pDIrQybdzY3qcbmxjJrRNW+lNrcse3zwRjGGaC1tUds/wA/sSyn3ptNYpSgLfwH5Tb/AE+6knsLqSO4mz5w77J/OCzFi0qTK6SSb2Y9owLAu+CNxzYo/pCayLw3P4QkNwYjD3o7ZohGWViFtDCbVW3Ip3rGG5dcE1mEaEkBQSxIAAGSSeQAA5kk+Fd7X9EmtpTHeQS284AYw3MMkDhW+yTHIqtgjocc6AsHCXlNvrO+lu7K5aG7nLtcSKkJWYzOXffA0ZgI3ksBswpPdxU7N5fNXa9F01+5ulha3V+ytdiQyvE8qpb9h5ujO8MRZ1QM3ZpknArMqs3k34DutTuWg06MSzpE0zI0sUWIo2RWbdI6qcNInIHPP3GgOTyc+UO90yV5NLuDbySKFkISGQOqklQySxuhwSccvE1KeUfyyalqcQj1K8aaBTuEKxwQIWHQskESByPAvuxk4xVBpQGgeTryzanpkBh028aG3Zi5iaK2nVXPUoJ4ZNmep2YyeZzXInlu1Xze6ha+kkgvu088SdIJzKJ4hFKFeWJniUwgIFiKBQq7cYGM7pQFiveN7qTTIrCSYnToZTPDbdnCAkzdtl+0EfbH+ETcixHf6chj9vuOLqTTIrCSYtpsEpnhtuzhAjmbtsv2gjEx/hE3JmI7/TkMVylAXrya+V3UdLjdNLumgikbe8RjgmQybQu8JNE6rIVCgsoBYIgOQoFSPkRUXvEtvNqN1Hbr52b68vbiaC1G6KQ3D4dnjRZJZwqAR81MmQMKcZpSgNN+k/x3+E9fuZ0bfbI3m9oQQV83tsqrIR1SSTtJxn+ONZlSlAaNof5CP9Bf3V3K6eh/kI/0F/dXcrIgUpShApXcttOZl3clT23IQH7iTz/VXfXh1iO6ysfUrZI/V1x7xWDqRTs2ZqnJ8CEpXbu7BkOGBFdSsk09jFqwpSlSQKUpQClAKEUApSlAKUpQClKUApSlAKUpQClKUApSlAUrjf8ALj9AfvaoKp3jf8uP0B+9qgqxMhSlKAUpSgFKUoBSlKAuHD3lQ1G1t1hs7+5gtk3dnDDcSRom92d9qqwAy7sxx4sa9I/TU8oN9Z3GnCxvbi3EunpJKIJ5EEkm85dgDzfHiedePq9N/T8/hOl/9GJ/2zQGdcEcEy61batf3l6/nGn2y3MhmjNw97iG42o0xnQx4S0VA2H5MOXdwej5C/Jd+FmvB5x5v5pZvd57Dt+27Mgdn+Xj2Zz9rvfdWlfRDtmk0TiWOJS8z6aojiQFnkPY6kMIg7zMSVAABJLAdSKsH0LuCLqC21W6uYHgtpNOmghM6tE07hd7tHGwDNEgUAyfZ3OACSG2gQ/0WeAdNutD1aW+njNwlq3aGWwmmbRUCXey7jcNid2VTJ2cWGXsAM5IrNNA8lC3+trY6DeC/hMYkfUJLWeySGNcdszwSFpcISqg/nM6AYzmtD+iBbtJo3EscSl5n0sCOJAWeQ9hqIARB3mYsygAAklgPGvn6BF0n4TvYMhLq602aO0diAS6sjOiEnJYqO1wPC3cn7NAdLSvIfpl5M1ppGvJcasok7OKWxmht7t4QxdIrney4wpO9DLuVSyhl5im+RPyPPqeszafcSmyngSdpSYRcFJbWVIpIignjGd7HvByO745zXe+jXwbdniuziEMsU1rdpJeBonHm0Vud8wmyMRh0RowWxuMigZJGd08h+qxz+UrU5LYhojDcqHXo7QtZxSMpHIqZI3IYciCCOtAYNx35ObXT1gjTVEuNdF1DHdWVtA7RWAYSdp/peTDNNDcJGjICpyxBUbSakfpK8LzpxMltqmoi6mkFqkmpz28dokMUxChnijkZBHEpLFs8wD0rJeGzm7hz17ePJPj9YtepvpBcEpqnlEhs5pDFFPBF2kibdwjhtZ5nVCwKiRliKKxDAFgcNjBAqHCXkK0u/ke10rXfONVWN5ER9NuIIJuy+0qyu/QEr31L8tzBWAOOz9AO3KcR3KuMOmnXKsp/NZbi0DD9RBFap5BEii4qe10/QhZWtobmKTUpxez3B2B0jc3Mj9lGs/IhMOCr904GaoP0NIyvGOohgQwtr8FSMEEXtsCCPAg+FAeWKUpQClKUApSlAKUpQClKUBo2h/kI/0F/dXcrp6H+Qj/AEF/dXft4izBVGWJAAHiT0FSQdnSdOaV8L06sxzhR6ycf3VY47JETcoGOYU4DNIRnc2eZXmCoA58iT0qasdDKokSci4DMV5F92erc8LtUnPqPIZxnvarpPZHKrzC9nEox9WABk/pHln7/dyqq+KzOy2LXD4Syu9yi3FnIzh51KxjmituUDxG0eJ/TP8A4cKX0auxKkE9GWR5PX1VpMePhU9bcBXFy25m7NfAjJPx6/Cv3WPJPtGO0Yt455/+n6q1qrHi/Q6P0tTgvUibfWMsO1YPEw5N1C49YwXDD1dPHlXQ1Sw2nkc+rl4V09Z4JlhyVOR6jnn9/h/61x8PXjZCXB+rJ25x+SflgjnnZ0zn1+FddGaWsWcNejJaSVj8pXLeQlXKt1Bwaunk201V/wBIkw20Hs4yuRuBALHljl4ermfCuyU0o3OKMW3Y49F8ncrqGndIAcbVlOCc9AxAOzI6Eg8/DkasWp8JWiqEQt2mQWcktkL9pQxTkSQeYX1evFVy+43ZnJC5GM7gOgJ6HnnpjmefI+qo+z41YKzSysxxuCZIUbiCucc8hsHJGfvwDXDKpUkzqVOCLT2MKPsTskJGWR4kkOASEJcqBjryKk+vn07sPCsEg/1RJXGEUwnI6NuEhGeWPs+v7qpllxJHJHhpFQtnv7C78+eVTntPQ7jn9fh1jqQgBaBZJ+mxpgQjMDgMUBLsQe7htuD1z1rmfeXsm0zasltkd3ivhZY0LwMxCHE8Egw8OThXBwO0hJ/OwMZHUcxVKu/DnFO9T5yAZ0PaAuefYvkOgyo7uN3dIKkAnIySYnjLTkUrJAAIZPzUbcqt7vEAjntPNSCDjlXbh68r5J78zmq0lbNH0K9SlK7TmFKUoBSlKAUpSgFKUoBSlKApXG/5cfoD97VBVO8b/lx+gP3tUFWJkKUpQClKUApSlAKUpQCrFxxxvdX7RNqE5naGMRQlljXs4gchRsRcjPicmq7SgLBwDxpdadc9vps7W9xtKF0CMHRiCUeN1aN03KrbXUjKqeoBqzah5ctWkneWW/kaWSBrZyUgC+bylTIiQiLsowxVSTGqk7VyeQrOaUBP8BcZ3WnXPb6bO1vcbShdAjBo2ILI8bq0boWVW2upGUU9VBHPxVx9eXd+Ly6uHa/GzbdRBLd0MQxGU7BYwjL4FQDVZpQGpa39IXWZ7cwzajIYWXawjjtoXZfEGeKBJyCOR7/MEg5zVM4E4yudPuDNp0xguCjRmRVjY9m5UsuHRlwSinOM8qgKUByW8xVgynDKQyn1MpyD+oirHxB5QLy5v1vLi5dtQTZ2d0uyJ07H8nt7NVAI9w++qxSgNP1r6QGszvE02oy7oHEkXZpbwrvX7JkjihRJvEYlDg5PLmajP/bBqX4SkvhdkajLF2EtysNspeECMbOzWERAYij5hQe6OdUOlAKUpQClKUApSlAKUpQClKUBo2h/kI/0F/dVz8mKg3yhhnuvj7wp+HLNUzQ/yEf6C/uqx8FzhL2FicASKCT0Ablz93OoqK8WuhlTdpJ9T0B5OOGu0v5GfOxU5DJI3sEGQD0AVQoHhtPrObhecIxdp38kDovgTknn6xzNfnkxwZpNnQKPjk/35z/dXJxbxfFA7Zy5H2hGu7Hr+8j3VSygra8z0VGbWx17+AJyUAD1DlVZ1jnzrsWvGMNySIw6kfxiFa6V/dKEJJ6df1VpkjvptWuUriBMjB8azniTTTG6tjkzjp6vzuXrxirVq/HMJkKqrNjxAUc/dk10uIb+KW0BidSRIvcyu9STjBTOeZ5Z6VspRlFnFi5wnF2ZAcWxd9G8XQZ/SUkHPq5AVdOC9O3acSCRzIIyoDBwcn3FSSOZ54PLlypHE0uSgznCDmPhz94Kmrp5D5O2mNq57jjeuOo2kbz9wUnHqJq0yt0kUF0qrK7d8Hyq4O1sNz5BgMHJzkgDBHPn4fqz0dS4ZJcI6jeQSFXOFXngkZxyyPV1FesNS4aV+nLlgHA7oxywMY5e8eA8BiqJN5O2EjMWMjt1k5Kdo5BcDA+HLkvqFVlWvkLenhVIw/QOB03AHPJuZH532QRnw8enq99aFqPCYWOIkExoykJgAsB1A9QAJIHrGetaDofBPZcyPfjr/wCRUnrkQMZGOnTpyrgnjJSkb/0kYx0MB1uyBkbLANGoDfeU6gE5ZSwI55OC58a/Fsz2EiDGwnZgcwCCrRMPUuAG5dMMPHFSPH1jubIG1hnJHXC8z4ZOB3h/+v3V1tIVl5EbgRzYHmpjznkOXPBBA6fcas4ttJlXJW0KARSuzqoxNJ/SP0/SP91darlO6K1ilKVJApSlAKUpQClKUApSlAQmuaD2sm7ft7oGNuehJ67h666Hoj/tP2P+OrVSoJuVX0R/2n7H/HT0R/2n7H/HVqpQXKr6I/7T9j/jrS/Iv9HOXVkmaC7jhEDIrCWKRtxkViCNreG3x9dV6vV30DP4Pf8A9LB/hy0Bmf4kF1/KEH9RN81PxILr+UIP6ib5q9yVDcZcTw2Vv214xSEPHHuVHkO+4kSKIbUUtzkdRnHLOTUEnjT8SC6/lCD+om+an4kF1/KEH9RN81ex9c4sggure3lc+d3RYW8EaPIzLGMyyMEUiOFB1kfC88ZzU7QHhv8AEguv5Qg/qJvmp+JBdfyhB/UTfNXuSlAeG/xILr+UIP6ib5qfiQXX8oQf1E3zV7kpQHhv8SC6/lCD+om+an4kF1/KEH9RN81e5KrnCnF8d1c3kMaur2M628zSBAru8McoMe1ySmyRR3gpznlQHj78SC6/lCD+om+an4kF1/KEH9RN81eydJ4rgmnuoo3+tsmRLvcrIsTSxCZO+wCMOyIYlSQPHFfvBfFEN9biezZntmZ1jlaOSMS9mxVnj3qpeIsCBIBtbBwTQHjX8SC6/lCD+om+an4kF1/KEH9RN81e5KUB4b/Eguv5Qg/qJvmp+JBdfyhB/UTfNXt6/uQkbuckIrOQMZIRSSBnlnAqpaN5SbeWwsroiWOLUJIYbVGiaRxLdb+yWQQ71jXuNmRjsXllhmgPJ34kF1/KEH9RN81PxILr+UIP6ib5q9yUoDw3+JBdfyhB/UTfNT8SC6/lCD+om+avclKA8N/iQXX8oQf1E3zV54vOCikjKZQSjshIQ8yjFSft9OVf1rr+Yuufwib+ml/xHqUCk+iP+0/Y/wCOnoj/ALT9j/jq1UoRcqvoj/tP2P8Ajp6I/wC0/Y/46tVKC5w2MGyNVznaoGemcD1Vb/JToCXeoxwyuyK24gx7dxdBlANwIxnvHl0Vqq1WTyX6n2Gp28mcYk2ZPMDt0eLJ9wMmf1VjUvlduRso27yOba6v6m+a9w3cfg+8S0YxTrGJFkSWTM5X63aGGCu4KVxzAL+qorX9MYxZt0iEeFKkpFmXcFOeeCMqzntDu545HJxq3BCttbtye1fvMH6oQ7rtx4AAKQPU3qqq8UcMKnKF3iQfZiVkZEA6BVlR9iDoETCgYAAAqmz5opno1QUZygn86GScL6JgStehQkaO7yxjs2jC7mbZNHtZQIwDyYc88qqvG+g3cKQSXs7FJAoktS7/AFLSp9WG73fO/arDwLY5it14f0ESkrLI8sYIdo3MMadxgRv7OKPcgYDKsSD4g1BeXKzEqFGIbmNuOW7kSOfX1YNFNrXqbXh0049Ofy5iemQTqMxFQmCThY+u0YGMAjv55+rHIV22jaRFJUCeOeKZVdcqWgYysc+yY42BweYNTui6cCgO5yMfxjerxP2v76lLCxVUmdVy4iZQzMznv4AUM7EgF9vIEDkPVWXe6nPPCtQ12fUz7iS3ACt0diSVGCir1CoeuASRU15ELoprNsQcAuyueg2NG+7Pu5A/qqvcRMwcLJ9pFAIPgzd8j78MAfeK7fDl0IzG6gGXtQu5snbzjIwNwxuQyL8eYqypJ92r8imxGXv3k2T9tz1Vd8d25cpHKu8fm9CfuJ7p/UahOKOOUhGSc+5SMtnp9wyeprPeIuFZSQVwrl2zGEyCh5IAOQXA3ZYnGDXJxBwSyafZyxyMzNF9ap2qI47lo5A690fk12rlskjBJ7pNU9SlB6tl1TqTW0SfTyosTzjVFyMhnLNjlyCqvXBHxqWj4zt5Ackq4C74irkqshcRlgF7oYxuBuxzU1Q9P4HDoqzNGyq7MsryhAd+MkjkWOAORJHKpyHg0Qzg28jYMex+9hW2tuj5lNxVS0hAVgO8fteHLKlQurt+JslKuk7JXIPi5S0gNuC0feK9shDbh+aMA/Vtlhl8Dr6s10OGdFLS77iTskUECNIRIzqQA27E+1QMD1nKmtXudLXzdkHJmO5nAALOTls4xyOelRFlpkkU+Fx5qUCyOyDAYq5kw2MiTmO6DzGPeRnLFWhaGn7s10cEpVb1LPi+CPOvEEBS5lVvtLLICR44duY9x6/rro13uIL0S3Ejr9lnJTPsDkmffsAz7810a9JC+VX3sjzlSyk8u13bwFK+ZHAGScD1muHzxcZzy9eGx8cVsSb2NUpxju0jsUrihnDfZP7x/ca5AahqxkmnsftKUoBSlKAUpSgFKUoBSlKAV6u+gZ/B7/8ApYP8OWvKNervoGfwe/8A6WD/AA5agk9MVkf0uCfwA20At55p+0MxUE/hG1wCwVioz1IVseo9K1yqz5TODk1GzNvK7RoZYJd8YUtutZ45kHeBGC0YB9xNQSZp9HC7WW+1GTU8jihZjFfQS4xaWCuWsIrH16aY2STtAA0kjbn3ZjZvrRrafWNT1Ptb+7s7SwuhY2dtpk4tT2kUKPPczybGadmeRdkb/VhVOVfOavPG/k6jur62vIpHtdRtThLq3CEz27ZL2twjArLbMxJ2nBUlipUsTUbrvkvc309zpmoXGnS3fZ+fRwR2lxFcPCmxJVjuYH7G4MeFZ4yN21SRnJIGYajx9fvwwSLgDVbXWk0tr5UMSXRh1COESPGh/JyRuodUPPD4xnlZtNtLrT+JbCGTUbq/j1G2vWu0vWh7NJ7KOCRJLaCKJEtlJkYdmuRjqSedWs+SC3XSYbCF5UhhuYbozMyyzXFxDci5eSaRlwzyzAliAMA4UKAAJ/XeDUm1SzvWdllskuUjiULskF8kaOXJG7KiMEYI6nNAZb5IbO7v9R1GW51K6W0sdduYrayt3SNXEHYt2dxIY2eSz2OirbqUA+tJLbhtq/lH4t7Njd6VqOqXMkeowxvIyN+CjHNepDPaL/o8drKiAlBJGZHDAfWd7Nbx5PuCksTeGJ3k89v57+TtNv1clyIw0abVH1aiIYzk8zk1nB+jwosGso9SvE01ZO2srNRabbObzjzhWMvYdtcIsxJEcr7e8T9oKwA7vEzzahxHJYi7ns9PsrGG5kXT5TbTXV1dSyCPfcgFxbRxR/k027mY7iw7o+Po42LxX2txyzPcumpRg3E6xLJKPMbbYXESJGXCbVLKq7tucAk1N8S+StpbuG7t9QuLTVEtVs7m8gitGF9CpDEy20kLW6y9rucMijbuxjCriV8lvk6j003Jimmna7mWeWS8kEshlWJI3ZpcAszlN55AAsQoVQFAHnPyjX7pq+rJc74+HZdVsY9curVn7ZLdtOgEMTqqho7CWcok0sbb9pKAd7D7j5cOJHstFhGkNHC9xPZ2FlPGkbxWkd26RpLHGPqmRIAdg+z9jqBg2TR+AoY7jUJH+uTU2Rrm3mVGjCx2wtzGF296N4x3g2c5NV2w8jEC6TNp0s88unPJvtFaQCbTNsnawrbXQXftilCMnabiMENuVitAV3XrafRtR0wxX93eWl/eCwvLbUphdEyTxO0FzA+xWgKPGd8afVlWGFTGT+cH6fdX2t6l22o3UNjY6lD2FnaOkfassFrM0c0rRs5sT9k28ezf2su4nugWnQ/Jc/nsFzqeoXGoyWm82MU8dpbxW7ypsaVo7eBO2uBHlVkkJ27mIGcEWThDhBLW5vZkdna+uFuJFcLiNlhjhCpgZ27YweeTkmgMi4Xs7nVra/vpdRu7Yrc3tvYWtnJGlvb21mzRJ29o8Tx3M0hRmdpc8m7nZ8sQula7Nb8McLebStF2+q6VbT9mcdtbT+c9rE/rjbauR7hWgz+RICW5FtqN5a6dezPcXem27QKjzT47fs7kwm5hhkI78cTrkFgCoxiSbyQwnT9Mte2k7PSry1vIJMR7p3se17NJO7tCN2pztAPIYoCraxaXd9xPfWiajcWenRWVnLIlkyJMXm84AEM7xuIFYrukdF3tsjAKgtVcg4+vYeGZVS4aTUF1qTRbfUblVkdEN92KXEowFkmWEsNxHNghOeedv0vg9I9Vub0OxluoIIHiIXYi2hlKFTjduPatnJ8BVN4p8nFrBol9BcpdXlrc3ct7JHZxmS5jmu7qOQNbJEN5MMu2QcmO1GyHGVIEDr2jXGnato8cOp31xbXV3LHdQX1wlwJmS0mkD9p2Syqu5ecIbsx3dqrjnu1eZeEuGDc69p0lv+FbqKyaaa61PiCOe37JGtXht7S1ilt4A8jzMJJXWPd3ELO/IL6aoBX8xdc/hE39NL/iPX9Oq/mLrn8Im/ppf8R6lEM6dKUqSBSlKAU/85Hh+ulKA9PeSPyoedlRKhW4ijC3Eg2lZy2Asg57gx7LLAjlnkT4SHlN1ghE2EAOxDOSAI1QEuxJ5dBy++sD8j2qiK/AY4WZTFk/mueaH4jH/wCqt0nsVniaN+8FZWAPMHkN4x7JHgfXjwqjxkHCbS2ep6Ps+rnipN6rT+D4SeNrYdjtmQjDBSsgb3HGVOT1z6qyvyiPLIAJMIFOUSMhQmzkg5AYwD0Fbhp+mi3tsWxEcYyREVUqmQQQB1C8yQM8unTlWbcb3ssoIMwVgxP1McYJywYglw/LkOmKwtY780pJpe5n/D+q4dUGCGO07WB2k9M4PLJruajr2yCUJzbco5+vcDzHuIHwr70ezSCN5AoLnJ3nqz4IBJ93gOlUq8uPqsZyWfJ9+Bz/AGjgfca2UYZ6luBxYyq4U9XqdKeYsxZySzElmPUk8yT+upTg+YC7gEmDC1xAJVIBBTtVDH1hgrNgjBGTURSrq2ljzd9bnrfXtNU3AWRzsdtrKzkjaft5Gdp7ueoP99dvX+KrYLsdgijkGyBgKMADw8KzjhXiPzoQTTE90bJgoLHt4woY7QCe+h7QD3keFSN9axzqJbZHmiclUZECjcGZX7xIwQ6lTnxUjwrz9am5Zk9LM9bSqxtFx5Locen6mqSN2ZLQBiEcAAleozgc8EkZ91TNlqq558weh61SNfvTFEAIhvOAsfbLvYkAjChfURXZ0hzjJGDjmuc8wB4/ecZ9wrhasjplVuaPYPuHI58Qfcen66oPle4uaGxMUQYSTl42c4wsRLdrtI/OI7g9QYn1Zs/D9xjA/wDPrrIfL8T57H7PYAjn4tNPnl4eH91deCoxnUV+GpVY2vKFN246GdVxzTAdTz8B66+Lyfavv8B/58KjYznr9o+7r/416mnTzavY8nicSqast/Y7E0+4fZzjwz/u611vOvWoA93L++u7FaFU3Hx9fLI8ffUXcOM8vhXXGKWiKfP3sm3r1PmUYP8ANrn3EdOR+FdeRu7X3LJke+smkzZdqxNWU+5ff4/fXPVc06fa4Ph0P3GrHXDVhlZcUKmeOu4pSlazcKUpQClKUApSlAK9XfQM/g9//Swf4cteUa9XfQM/g9//AEsH+HLUEnpilKVBIpSlAKjuJdSaG3eSKCS6ddu22tux7SXc6qdnayxxd0MXO5xyVsZOAZGlAZF/7bG8+8z/AAPqPn3m/nfm/wD7rz5r2vY9ru/CWzb23cxnPuxzrS+GdSae3SSWCS1dt2ba57HtI9rso3djLJF3gocbXPJ1zg5Ayo/84f8A+2P/ALzXD5QLbz/iyDTr1n/BcekvqBto5ZYVvLo3otwsxjdWlijjG8RZxknIIOKA22led9O3Wk/EVhbSyNp9vpiXVrFJNLMdOlubO57WGOZ3aVY27NJljLYXOVA3MTVTwkIOH9H1IXF1Jqxl0gi6kvLnC291JbI1qLYS+b+bCF9hGzc+GLlt7ZA9ZV1NavxDBJKwJWKN5WVcZKxIzEDJA3EKQMkVhfFHGA0PXdQa6Zjp99p7ajZrJINv4R09ezurWEE5Dzq0Mp8MsMeOLZwZoEttwtIt6zPfy2l1dXryHLedXkcs0ynwAjLiIBeWIhQF44D4kS+sILqFWSK4iWZEl2h1VxkBgrMu77ia5tC1gyyTq0EsIgl7JZJ0VVuhtVu1gIYloe9tycHKtyqo/Rp/5M6b/wDgof8AsVmt7ev+DeLjvbMc932R3tmIDTIGGw5yuGJPdxzNAejaVgHld1Fl07hkLIVeTWdFDgSENLGYZO0DYOXQlk3ZyMlc9RW/0ApSlAKUpQCv5i65/CJv6aX/ABHr+nVfzF1z+ETf00v+I9SiGdOlKVJApSlAKUpQErwa2L+2yMjzq3yD0I7ePP8AdXqHX4/NLgnA7GQlYz7JPWNifeSQSeY+6vM/DOnsstrM6MYZL6GCLHLtZBLGWAYgjaoIyfvHhXsLX4lfckqho2JyrgMDz5cjVZj7NpFx2amk34FKn4iV1IIwpHTwbPU1nvEM8eC2emeQP7xnr0qy8X8DsufNZCgI7sbgsB9zZ3Dp7+tY3xLpM6swlYDnz27jy6Y59Bgj11XpSbsy4VdRWiODXdYaVuziAUHly6AZwfh1P/iKitdtwku1egRP+wuT95OT+uu9pdgF95zzJroccakUuEztMbRLyYHO5HcNg5yCFZOmPfXfhXlnZcipxkXOnmlzOlSu3qViU2H8yRA6H+afA8uoI/WMHxrqVZppq6KZqzsWbyc8Tea3IL87dyomUc9uD3JAPaQknHipYeIreeIraNRvRSY5Qr92RuzY82DKnNF3btxK43cickA15grZ/I3xevmLW8x70TEwlsfkn5sq5PMo5Jx4B19VceKpaOS8yy7PxOWWR7cPE7dlbRgns4kX+jQD4t9o/rP3YrtJFtznpXzqPESL9kL7zjmf99Qs+s7z6h4DpmvPTjJyL2dZNFot7nvgL08aqH0grPu2kuOTM1uX8A7ZkhVvUGIkUH1kZ9Yn9Gk5inlYuF/BEiyYOWj258HSVGUj3gKT+o1tw1ZwrRtzt6nLiKKlRlfx9Dz1HbmSUheZ29wfcN2PvJ5ffgVYfRGZo0aKLfuUOoXrtIGDtzuGOmfWDX35NNNE17aRqSJJbgAkYPLtIzj7+z3/AKytex+HvJ1BZptt1ABJZmPMsWOTk+odMV6DHdo/pkkld2PG4Ts5YypKU3ZJtb6+h4b1TTZUGZlYD1MrAD4+NQUy46fCvb3G3DMUyMJYlOeW7aM48fDocVgXE/klQyAWkjJyJKSd8DHTDfaH680wfbdOppNZX+x01v8A5+tS1pvMuWz/AIMbc46eNcZerjrfk/miHPDevb/6dKgrjRHUd5fhz/u61bQxFOavFplZUozpffFryIrHOrHp8u5AfHofvFQU1uVPeGPv5V39Al+0P1/9x/7qV1eNzbhZ2nYlqUpXEWIpSlAKUpQClKUAr1d9Az+D3/8ASwf4cteUa9XfQM/g9/8A0sH+HLUEnpilKVBIpSq15UeLl07TLi7kXeIIiyRbtvbTMQlvEG2sVMk7xx52tjfnBxigLLSqX5FuPRqmmJciI28u+SK5tHbc1rcQSMkkTkqp3YCvgqpw65APKrMuswlkUTR75GZYkEseZXiBMiou7LMoBLAZIwc0BH+iMH4U8/2t595n5jv3tt827ft9vZ/Z3dtz3dccq6fHnANvfNE8/axXVuWNteWc8trPAJRiVVmjYExuowyNlT6q7vAmry3FoslzEkEzNIGhhuY7tFEcrohFxGAjFkVWIA7pYqeYrGpfpA3UentqE+lKdHjuXt557fUUeeER3Jtu080ktY1cGbaoUS574yQMkAahw35M7S2tbmGJZG89Di+ubi4mnuLsyRGItJdSO0hIjJCgEBcsQAWYnnvPJ/bPp1vZsreaWptjAokYMvmBQ22X+02DGmc9cc6ntT1eKGMPcSxwxkgCSeRIlJbmBucgbiPDrXLNeoqB2dVjO3bIzqFbfjZhicHdkY9eRQGZeWvgZ9S1HSUa3DWNtdve3d4zxgx+bx/6PbLEW3ulxMV7TC4Cwrzya03VLJZYXjk/JyI0bgHBKSKVbB8DgnnXHaatE8rxxyxvNH+ViSRGeL9OMMWXn6wKj+H9XkkmulmjSOOCUJDIlzHMZozGrM8kagG3YMSux+ZC56GgKhofkWtbcRrb3GoxxRbeygXWNRESLGQVQQ9v2fZ8sbMYxkYqy2nAlsq3q9mXj1F3e+jkdmWUzQrDIBzyimJQuFI9fWpbS9chmZlt54pWT7awzRyFP0grEr+uvy912CNSZZ4kVX7NmkmiQLLjPZkswAkxz2nnQGeaV5A9PjNuxFxNJZzwTWUl1e3E5tBZktBBDvfbHaBtpMKABuzj3Z2LjVK6UurRLKsTSxidxujhaVBJIozkrGW3svI8wPA10I9Xl/CTQGJPNRarMLnzmMyGYzFDEbPHaCIIA3bk7STtxmgJylRsuvwDZunhHasUizNEO1dTtKx5bvsG5ELk55VJUApSlAK/mLrn8Im/ppf8R6/p1X8xdc/hE39NL/iPUohnTpSlSQKUoaAVyW0DO6rGC0jsFRB1Z3ICqPeWIH66sHDPBFxc4KqIoT0nuG7NDjGdowXfr+YpHvrZOEOFrPTcTbhdXIGUu5MJHEwGcQxlsbiRgOxYgZ+znFa5VFE2QpykfPli4UFpaaYkbd3TZ7eebC/lnSUyXRwGOCTIX6e49RjQxrCyoGQgggEEH11WtRvhcxNnvB1OQSchyOn6LKeWPGMj11mGmatJYyFGJaAPjoR2e7mMD2D3gP0feM1dZNs9DhaWSlmfOxudxOCnPqKxvynQ759yjChcYHifGrnpfEIkTKNyIqt8VIW8a57nQoooFvb93NU3yjw74gcZZDlcdeeAR+sDp6wKv+svsUKPvqg8S3w7TavMj7fXkfzVz6zz6dMY65x0YeMnNNHLi5RVNp8ixaVbLLpSLLKqTwY2Bwx7QSACRMqpOQQuOv2DUM1jj7ZHuC8yffg4wK6lhEcZY5x08AuOuOWBy5eFfGqXXd5Z58s55+4D93QVbQhlR5+cszPwyAthTnB7zeC+7HRnPgP/ABInuH5Nl3Y7OQa+tf8AqR3Ebv8AeORJPjg+s1VLa4MZKOeZZSY881YA7W8dpBfBzjK7getfcmoMZrdvESjYBnpvZunrxjn1NTJ2i/AiH3I9O8d8JIXLwgKSe8AABnxIHhVOtdKCvzPSrRZcXho8T9SBhx16fnDpn3jr6qhYdRhDktIAPeR+7OT+qvP16Tbuj0FKpDiyTsVAPL4Vm3l21/JSBfDvv7i2QvwTcf8A4gq1ahxdGisUBcjoByHu54z/AHVjnFt8ZLkuw+13iwxgg8uWefI5GPAKKzwOFfeZ5bL3NGPxa7vJHj7Fv+jfb7tbtB7EvafcAp3E+oYA+NenPKX5TDAW81hedFyGkjR3DN6kwMFR4v8AZ9WeeMU+iDoW7VGc/mW8rHPgGMCDPLIJLsR+jW4eUjiVLb6uC2kuJGHeeKJ+yiJ6CSfb2MeAMne6nGMbiQDs7VkpYlRy5kktL25lV2PFrDuSdm23e17bcPIzHT/LSZ5gj2kyHP2iNwxnmWUDIHxqT1y5RZS/QYGAfAsPV685rM7HjiSa870DREMQDh2VgMk82jRlOATgj4HAOieWq0EWnJL+cR3hnxABFc9fDxhVjFRy34XuXOCrN0pTc89uNrbK+xlnHPEkvabLWBmx1co77jy5DaPDNUTUb24Vszxsn810Kj39Rmtn0vX5IbSM2Np5zM8ZkkbDssQ8AdqlmlY5woxgLkkZUNmnEWu3Mj5urbAJOU2sDz68ic/3VcYOf9KhFJaXvq/Io8fSu3J1JN7r6XlV+q0Krr8okUOP0SD+aRzH9x/uqO0d8Sj35HxH+8Crg+nh7dwqlfzl3jB5DOMffkVSrP7a48CP31a05KUGipySpyTlx1LPSlK5CzFKUoBSlKAUpSgFervoGfwe/wD6WD/DlryjXq76Bn8Hv/6WD/DlqCT0xSlKgkVhfl9v5rnWNPsLK2N55sw1i/thOlqrR27mLT0edwYirXZaRoSCSIFOMcxulR1loUMdzLPHGq3M4jWeYDvSrApWFSfZUM2AMDmaAwnyNajPZ8UXttf23mMWrqdRsrc3ENwvnkAC6iqSxgBpZRm4Zcd1Yl+8yP0WeDLXsZ7x4EkvzqeoKl1MqySW6JeXKBLd2BMEZDylhHjcZZM5zy2LVuHYJp4Jp4ke4tmdrWZh37dpQqy7G6gOqqGHQgDNcmg6JFbRlLWNYo2d5WRBgGSZi8r/AKTOSx95oDMvof8A/JuD+nvv/qV5WD22jOnC73z3m+1tNTu7h9DvuzWyvux1CULExiEdw0pkKyokrzRtIiKY8Hl7E4c0OG1gENpGsMClmWKMYVWldnkIHraR2Y+8mqnF5GNKEvafg21Mu7fveBHy5O4sQ+QTu58x1oDH+LO2v+KowLeym36JDNZWWvGdolS5kZr1oYkgkia7zsjkJUN2aDqoOPzyh8Fz2fBptLyRAw1O3ERsJZSLSC51OB4oopJYxIrRdqwUkHACda33jXgm0v1RdQto7gRtuiaRe/CxxkxyqRImdq52sM7VznArhsvJ9ZR2YtY7WJbMSLN5uFO0zI6ush55aQOituJJyooDJde4SttO4r4eTTIEtlmj1aK5MK4e6SCxiki84lOZJ3Evf7SVmYtzJNfNnxBBZjime+j7a0S7RZrcAHt0msLWLsiDy2u0oQk8gGJrX+NtFL9ncW1vBPqdru8xN5JJCsYuOzS8AnSKRo2e2DKDsYFggOBk1WfJnwJIseoNrEcDyanctNPZxFriGKDsIoY4WkkiQytsjJZtijLchyoDNNHsjDxXoxa0sNPa4s9QHm2kyhy0CwRSQpOy2sCOFYMUKKVykuCQua/eFuBLS6m4kmvbdLiVL67jh84USrbjzK3dnhjbKxTs23MyAPiOMZG2tY0nyOaXD2XYWEEbQzC4hkjVldJ1+y3bBu1YD2GYr7qs9jw5BGJ+ziVRdO0l1tH5eSRAjs/PmxRQp9wFAeW4uC7WLhLSLtIVOotdaPKdQcb7gE3NtGqLctmVYEhVIkhUhFWNAByzWuWQ/wD97m//AC/D/wDU560F+ELY2kdsYE80hMZht8HZEbdg0BUZ5bGUEerArtrocIuzciNfPDCLc3GO+YFcyLHn2BIS2PWaA8maJ5P7N+BtQu5rdJb0jUWS5nUSvbebX12IltmYEwRhgzlY9u5pJC2d2K9ZcKylrOBmJLNBEWYnJZmjUkk+JJOa6kHB9qtk1osCCxcSCS2A7jid2ebIz+e7sx97Gpm1gCIqoMIqhVUdFVQAoHuAAFAclKUoBX8xdc/hE39NL/iPX9Oq/mLrn8Im/ppf8R6lEM6dK/Y0JIAGSSAAOpJOAB7yeVajwvootV+rXtNQZQO3IDLaNIjnZCpBHbjaN0zAnJxGMd9olLKZ06bm7IqFlwjJgNc/6PGcECVT2jgkgbYftcyMZfaPvqX0+SGGZUghBc42zzlZJAwxzUbTCnXlhSffVvl4TdpWMpADbZTnGS6SDJLtufcVPsiune6DGL9iJCBGY8flF3d0AnO85B3D+6uPvs5b1MNHC2Ss2+LXVrRH3cQncpkeR2ZQxBOMM0YK7cd5MbiAVwceNV7Xbo7nAJKxxtuZncgSSSBeTOxxyJ9/2j4mtcu+G13Rskgw4H5zoM5VeRDE+B+IqN4p4Xjijm3bnZxu5FmCKZFx3j/Obdyx0FaoTi2Yxrzh9tl14+u5n/k04qJjCyNzQ4fvAmQDmgGG6lVByeZZW5gGpnyr87GW5hVWkSLPMAgrJhjIB6gBu8MEH766a8Po8JMSOsx2AOMcmzjOM+J8eWMg+FcfFUjrYPbKe0vbmM5iGT5ta7sXUjY6PJnai9NuSN2DWUbZmzfiq0nRgnyfvYpXk44mYqFYntME8ujoCq7uvJtxwRy/N9daRb3G/rULw55Nz2EbpJEd0ZjDESK0Lg/zRzU4LEN4AdCAamE22sjR3UiIyYy7MIlIZQwK72Bx1GfWDXNWyuV4k4Sq8tpblH431Qbh2cblB+VmbKBQR9XtBxkZYEjDHGM9cDPpMCU4OcMoJPPcQrsxyCc95/WfCto1nhxRDNc3EiBUyyAOZDOqrlBtKhEBXGT3idxHLqcR0wFiTjnuYkAchkL+oDrirDC2toVWKlJv6mT89yBAeXP/ALJ8D1+ycgV0pB3gfAYwDk5J5Z68+RPxNNQlGyMeJ2g45cup5DwyM1+sMsP0gTnpgEe7piutnGdCxg7zk8yXY88dCzHny6867sNvm4gX1d74ba+NNHcHvUczgcyBnA9WfXXe4fi3X6/zUH9+fVy6CtFd2gzOmvqRq1mhKYAB5dDy/wC410Z9OJPKPJ8TkAf9/wC6p/R7SpaeNYoizdFBJx7hk/3VVqeljtaMo4zJjxGNqsRuZV3Hr9gFjjPicYH5tVVzlSjEx5GC/IFQxGSDjlHhQGxzwT6qmL67MsrOx5sScHw9Q6eAwK6OokEDKhh0VT+cxzhAeuTtYk+Cq59QNnTjlikcM5Znc9b/AEeuFPN7jUGAIiZoorfP8VC1xG2DjJy0S5JySVJJJJq2cYzsilVO0EHmDjGep9VRf0dNSaawieQ7m82SKU4AzPbTXCSMVH2TICkmOneNc/lcv1jTcxxy5D1nwGK8vis0p/Vve3poehwigqjUFaL+rwvr+Sj8N8JRTXO92Z2U57xGM8+uFHLNcH0jlHmiIBleeauHk9nVbYy3EiW6sy8pSq4XwGScZP31T/pEXkXZptbKNzGWHNeXMEcsYPWlFzdeN+DOys42kuj9jKPJRPuBikyQOQIJBIOeec1edV4ahVCyxln9bEsenvPKsihuDaSxyQvu3vtZOR3KRnII5ZXAz99a9dawHt94PUcwPA4q0xsJKopx2fucOBlFwdOS1j7cDO7yId4HkOmPV41kVtHz7vUEEfqYVrGq3oYEfnE/vrPuzBmdgMI3QDwCtjn/AD2MYfA6AmrjBNxi7nnu1I56kcvX55HapSlZgUpSgFKUoBSlKAVffJT5WrrSklWxS3YTMjSedxTyEGMMF29ndRADDHOc+HSqFSgNz/Go1T+KsP7Le/5nT8ajVP4qw/st7/mdYZSoJNz/ABqNU/irD+y3v+Z0/Go1T+KsP7Le/wCZ1hlKA3P8ajVP4qw/st7/AJnT8ajVP4qw/st7/mdYZSgNz/Go1T+KsP7Le/5nT8ajVP4qw/st7/mdYZSgNz/Go1T+KsP7Le/5nT8ajVP4qw/st7/mdYZSgNz/ABqNU/irD+y3v+Z0/Go1T+KsP7Le/wCZ1hlKA3P8ajVP4qw/st7/AJnT8ajVP4qw/st7/mdYZSgNz/Go1T+KsP7Le/5nT8ajVP4qw/st7/mdYZSgNz/Go1T+KsP7Le/5nT8ajVP4qw/st7/mdYZSgNz/ABqNU/irD+y3v+Z0/Go1T+KsP7Le/wCZ1hlKA3P8ajVP4qw/st7/AJnWIXUxd2ZsbmZmOOmXYscZJOMn11x0oCycBWh7Xtf4tl2Ag96Rsk45dViSRvv2VtGqXqRrG0G1IS2e2c5JV8Y5k4yY5Fz6/wBVZjY2fY2q5yHFu9ywIYEtcKFiKsB9nsmi9WDu9RNVmfid5rZUZ+cLFVwOZDqGQg9EGUK5Az3R1rkqJyk+RcRjTjhof3Zn5ppGra/xVGswVe8+0b+0J3ENy7sYUuQDg4ITlVN13jFjcuQp70anBSMc43Bxt37sfV45k8iedVDSdQLXWRyB5cuZbcD1b7R5np7uQFcPmLNzK9El5kqOiMw6sD1JrTTjGLaZ34qnOvTjOKb3/B6I0Di/tbSEiLo5wDC3TvMRkyYAxgVB+Vji5jNsBCKY2AG4KAeyBXupuk+0RyzVb8ntoTYMMY2uGUkgAZQA+PtZz/5xweUeA9tG5Kr9ZHnqeW7afD1DpURyRkcSwdaS+1+3uVbQeLZMFDKMEMOb3PXGRgAY6r1Prr81TiIpJFcbhuJxcFTLulVspNukzvLbWz96iq5p8AEg74646HxOD4++paeyDQOpcHDHACnxBPifWBUynGMy1o9n1auFlGyur21XR8/E1XgHiuRonQGNio3L3l7xzhsDYGI+yQf55qh+XJzdT2s5UZYi1nPXu796kns17oBm9fJhz6VweSmU5XDLkHsu9uH2h3c8veo+8LX5q1q4lnR2BG5ezQyM/wBa+4FlZkyq7NwA5dF6ZqYuMKl0VEsHUcdvY5ePuLHks1hbl2nPw8W7uCDjHZoBgjPeqj6GvN8+zz9xB548SMeH+6nE0uZ+mFUbFX3DHeBzjn1z91cumnm4PJjGcnBAYd3Dch158wM+7rXfh4KMdOOpV4hvM0+Gh1b2bvRZ/ne/91d1D18eTE4/mqT4nGMio2aLDxhuodufUMuSVZTnDKfWKkYm5N+iwAx/MYeo/wDn41mzUcllHy+77/D15qa8ntsWupW67SFB65woPLHq51ERAeHI/wB/XPif7vuqw+TaEkSuAe8TzOcFEzI362JROXPAP6uXE6xsbaW9zW9KjO0YB5rn7J6Yz0xnI8fGoHyvahst0iHJ5Dk48I0Iz/1n2j3hXqe0mJm7M7jsL7Ng8RGOec9SWjPT2uprJfKDrfb30rqe4p7KL1bIcru6/ZZ+0fPqcequelRWa5tqVHYhLg8vu6kfHp6v93vr60xMsWb83Krkjm2R2jZzz5gRg8+Scjg105XJO0HDE4B9WBl25n8xSCOXJ3i9RqQgQDCr9kAADwAGMDp6q7jlPQv0UuKFVns2UiVma4jkDd1lCwCSIoeYYLGzgjkRvyBgZsPlJBm1ZY5TiGJY5ME8pHldwCSfzV2Dl4lxXnXhbiQ2l1FcJzaJwxQct6c1lTPhvjZkz4b69T6/aw3scFzDtlgkTaTgESQTjBDD1gnBU9CGB6GvP9o0+6qqpwd/UvOzJ5048V7E7JpSiJVdY9g54l2n4buXqrJ/KPosM+5JxGkSA9m4kAG7rgKGwenxq9cH+Ti2s0kMURmikZWZHYyvBtIyIy5J7PaPsfDqagOMNLsJk2mGQFYnG0xSx98cl3EfVZwTg5wcDPTFcVJqE7xbtztr6XLCKzxakr9N188jzbq+hxxNmORAf0lz8c+4V3ODriWSU4bMADCUj7O0I5znpkMBgj148a5ONtFty22CPsYlYkbdpdgwTuk/ZB3KehbqTkZIrlu7hYLbs4uW/unHgBzYfrPX18zXpnPPTS3b5rY8+8P3NVv7YrWye75WIJ5+rZ8OX34IH9+KjUbCBfzR0A9Z61yS3ORgfZH95rirptbQ44yT1XqKUpUgUpSgFKUoBSlKAUpSgFKUoBSlKAUpSgFKUoBSlKAUpSgFKUoBSlKAUpSgFKUoBXd0HTTPcxQp9qaVIgR4dq6rn9QOf1V0qt3kjj/94K/8SjygkEgNt2ITjwDyA591Q9jKKu7Gl+WpBHAewHZs8iQ4yABHhj3VYbDlFUEd0HxzWC6jpxhnKv3dyBjjOC2d0e0Hx2hgV6gye47dU8qeu9ppzmYZIuFEb788gGBw/wCccggqxyOVff4JjvNI84U5ljVo1kbo+0hFLcuUihM5AzzXqOVcTnlWpZuDjJJ9H5GV8KzYuOWFUkd5ubHHMY8fa6VJaYy73ADH6qTG5gOZjfnjn6zVatI2SbL5BEijLEDHf6AHqQcggeKmrtp+istyO42CWXLSJFyIZeakHoD4H1VHdLNd8i1/5N9woxWzfo+m3Bl14IkCWD5XxXqxPhGPBRy5jx8KiuO58AckH5PwJ/PcnPPGfv8AVVx0TQ2NoQFTnt/PZvtLH4xtjqPVUbxvwpKUB2gHs1xiGQ5IL/xi46EePgKwUYKRwvH1Wt/2X8GMtckTfm8n9kcsMKkor4gP9nG8fmL6/wDxxU5LwjL2jdeUh/1duvR+f5wPhjmK7jcIS9/17gfydqcc/wBPrnHPl1pUjDMvnEssDjaypT1fHj/1ZU+DL3ZdlSFIMgOMYzj6wcwR/FVduILTdethR7XdBwSAqjJyeanaeY/OqDn4XkS7iO3Ks0YOUTmCXQ8oWLdG/vNX3ia0aG3ubhlTCQAp3Jhh3UqACcD8oifaJ/urOUY3Kr9ZUWjfsYJqV4POJARmMMVUZ5gR90MrAeO3PTxrsIwXoGJKkBWKEMuM8nU58PZH3ioaziJPu8WJ5+NWryb8Pm/1OKFOzWKP66dpSyr5vAydqndBYs+5YwB4v1AGasMypxu9kVNpVJ6atv8AdkRo9o7yEIrSxnLIFVnAJb8xlGUl54IGPHcDVqteCbvmBaXJVjiMtZ3C5ZgowWMYT7RxnI6E4Fe149UtrYBYFjWNQFRERERQuAMIqgf+ldqbiyPbnauAOecDd+vNU9TtRxdsv7ljHsybPB2r6c8EjpPGYZkDb42XGCgyfHBHjlcg5zVx8nx+oUDug7EJO7JyqggdACGlB3D1geBr1Hx09tfWEkXYKXlRkGVztZgQrbs90BjncqlgAcYODXn/AIW0WS2Yx3IKyLtyBzBI3EMjADcrZ+0Bjun1csni4VbW35GqWFnSeqdjs69xCYbOWSP7QX6vLbyss4VUIOcbUZiSo5dxx4VjEIwvLAAGMHwHrPLkAASfuNajxto810YYLaNj3+1nlxlIY1zGhkfHJWeViB49m55BWI59L0jT40aFts132ZZL65Yi1+yp2NEWVOyYc1kchWDDG/kD10n9N0v9LqcOIqxhK0n/ALMo0c7stzJYYQHqsYPd5eBZiXI9bY8KlUtHP2Uds8xtVjkDrgAeHjVwTiMIjQ3s8KxF9pht7ZJmt92frkdIhHgZXKZw6nlggg1ax1h45Xg7ZUDuU7ZoBGxjcdGKp2ixSjaGQN+dzON1dcaUn8e3oV0seltH+To32hzlAxiaNGJVXnKQhyv2gvaMpYj+aD41vv0RoJUt7pJJFe135SNSx2Sg7Loxs2N8eDAxZAU3N9oszVk2javB2DQhA89zGoE87uqW94DtXs4442d327AZHKruDE8sA6j5B9TjTiI2dvnsLbSpLUklcTXMV1bS3UyqOgkneVsHmMYri7Ro3oTi+GvkuP4Ozs7GylXi1ZdOPHjt1N01G7MRA8JAQp8N6jmP1jnWVcZLMxPPCnI2ge7xPTOeVaprdueyIILKpDoVGWjZTlSB1OD6vDIrM+J+JYgzbpF3c+TMQAQTju4z0615TD3zaK57aEklvbqY/Pw82Wkk5JH6+WM9APeeQqg8WX2SFHh1+88zVu8o3G6sOzgOVzk48T6z8ThfDJrNokLNlvXzNexwVKds9TTkjyHa+Kg33VHXmyQU4IH8wfHc2f18xXI3LGeWemfHHXHr51GXd7lGBUFQ4w2O8CIyMB8fZyAdvjjwriunyka95iAxwxyEDEEbR+byyT6+vKu7ublVDFuKtYmKV1Fvu0fGBDGvXslDbIxgdHYMzfe/MnwrntHDuTuZIVGWbskYhfzTtMoBkY45bgOZ8Bz1ulJG5Y2HG5yUpStZ2ClT/A/Dq3ckyGdYHjtLi5iVo3lN09pG0rQIqEEOYklbd3iBE2FboOtoPDFzcrus7W4uI+f1ltbTzJkdR2kcZTOeWM5oCJpXY1GxkikKTxvDKBkxTxvE4BzgmN1Dgcj1Hga69AKUpQClKUApSlAKUpQClKUApSvzNAftKV2LWwkdXaON3SJQ0zxxu6woTgNIyqVjQnkGYgZoDr0pSgFKUoBSlKAUpSgFaD5JIgI53PVikS56HCySOM+HSOs+rTOBe5Zwg4+tmnkwfFUVYhz657rdPX91aa7ahoWPZUYSxMc+2pCeVJdli65ILMm0eDFdxc+ojv8Ah4muTyBa9izmtpBmJzvwT9nuDJBPIdP+sFHLINdDyqSd3AJAwxKsMjJb2h7l8cVW/JnqHZSvgcxAwweYJYgDunqueo/31wwvKnZl123RhHFXpvSy9vnIk7m1iklkJbmGLcgS+MlnXPRcEM2eedx5jArYdOkIZGVFQYR89CSyxuc7fHmSc+1XnPS9aMTsVJG8uVP2tpDZiIB8cqRz5EOOXKrrqOtt3SWH5ND3Y+02nswMd8gDBBHL1VtcGmkVNL6oStzX5PUugTE2zAugxjPMfmu3rPqUVCcfXKiBS02cKMhBnqR4oCepx0586z/gnXmaE7WYkoxwFVOZVXAyAcflKi/KbfnzXnvPdT7cueYKcsYHxBrWqX1mvWx2L7UUE0g3yflCR3ZAPtjPVB66+rvVE3ON0nLb7fgQTywfXWR6xcfXP3V/KN1Mnr/T9wpf3Pfk7q+Bxl+fMfzs9OVZVIK6+ci0wV1Sn8/pkabqF+u1SruGVlwWDH/WIw6rgDI8fd+vu+XvXgNIaJZl3zzx5XKg9nGUmY4Bzs37R0P2gKyDzjMTd0DBiwVaTI/0iEcsuR0JH66lOI7hLi4AkeQrEhQdW2Mzc1UgbmlZuigEfVjIGM1vhQzTXTUpq08qZQI7vYO6pfPMsVYD3YHX41uf0XNHR0urq7Jijdks43XC9nGqrNdAZ7oZn81XeenPr0rPtQ4UUr9Wrk+JLgn3g/WbT/f+qvQfkx4Sc8OW0KqY9zSySuE3MFmu5e/sH2mWIoceyn3VnjdKbSMuzUpVk3pYvk9xZSoCyq4AwO+eezljduBbGPEmqzqmmRvkwSPbnPJVJkjI8MxSEqPvjKk+uu3HoGnwWpgXcwUsxWeU7mlkOXYqNuNzEtgDGWOBUDYcMxIwMMskYPWPtZHT/qMxUfqxVFiIrn6HoaOZJ6OxPaBp8ynJkjkx7AkU/wDULHb9241z6z9auyRRkc43A70b8vsnqUboy/DnX5HpzKmUlGOo3ZXP3Z5109NuY1ctc5eNVZ5VVtoZfsjvE8mLsqhfzjgDxxxwhJzWXcnEVIQoylPaxXr/AFGS1vOzji3yGZoLYlhtuoZFRWLLk5LTN2ZlCYjViOYd2rKvKNcW6XVpMEE27dJdQLJiFJlndHt1H2u6EXc2MMHUjkcCVl4llvXlEzmO7Cyx2zoVA2Mjie2LjujMOQm0DcQreIqi8RWQjtvrkdZe1R0QnARJUmWbch5qxmtlI8cdfCvZYehlf1aPZ247/PU+Z1a2dvdpttX4fPYlvKrfxfhO5/0ZFVyrRiJ5ECK0aFCoK4OVI8MZri4rtUvJ42s9yzebwI1tLIZZZpowUZo3xsI7NEG1iGJHJa++PtZg8+tZktU7LzW23wdoSJSqlG3uADvwAM88FFJzjFRmtTQoWa3MisSAiOMtGdituE4YEtvJHNSQByI5Vvpx+mOjTt4+uphOVm7cX8sTlvrKxKIZrSM3MbwZkCvC8AjdG7IjYTvciQyswBJduuBiW8iWudlxLAWTsopmmREycItyjlQrMAzIZVTGfWKrnBWpMiO7JFNI0kSxPOA7xztInZyM3aK4iDYy7gx7lUHqQ0ZHY3EReVUfsoJIyHOSvaQyRshDjIzhQcrywx8DWutSU4Sg+Ka34tG3C1XTqxnyd9uCfge+7ibFZ35U3RoGMi7iBgDGc+r3iuzwPxct3aJIp57QT8PGutxXch059PEV4CEZQqWlumfTKSTjdapo803nDu6TkuM9AB0zVe4stOx5eJrbtYtdis+OXRfeazO8sFaUyTL2iRgHsy+0SSytiNWx3jHtSViBgns8ZAJNeuwOJlUkr7Hme18PToUnJLV8TPJWdYwhyFbvhWzg5A7wz7vzh4V+rcMGwpO5hs3LkEocArgHJB6Y8akZoGkvkVtq9rKq5G3ZGJJNhPJiERTnlnkFrs8RW6QELAzPNHKc3H2FfbyAijBLbTjcHJ5gDpV5dbHlL7He0xJEHY3MrwQGYdqF2vI5iyoCxAbhtHLLNjOOpGK7LcUNtNvGGlgafcFuezdpMttQNhe0B6nCFcE10+G9KQyI93L2SkTSsojMr7Y9nZsVPLvyS4G7+LJ8RXc0ea2hjmlCySSpFIkHbFUXt7hBBG/ZjmezMk0wHh2Yz0rVJR5X9rmCvdK/z+CJpSlch6I3vyQce+bwQXWqvb3FvbhdN061gtbWTULdsKDKH2pKlqLUurZdjISg27my/S8vvFam5vIpRqFpqEE6RWkEd6DYm2jf8sLdUjaEy22JFC78l4+8MMKpnAtss+k6jAkMb38YgvreXsg1w0FvJtv44pPtAJEySiNebBp+R5YqPaS3Nwu5nuLqZ0jVpZGlkmkcrHCpkkYsxJ2INx5DaOQFCS7cFcWG6ZLHWJGuLKZxFBczkyz6XcSnbDPBcNmXse0ZFkhdihTOAMENRdasHgmlimGJYZJIpQM4EkDsj4JGSu5Tg+IxWocOeS+581mC2FwuuWl9auhnKpbvayB+Sl/9GmEc8O92ViNkqEMwDLVR8sdwsmqXEiXUV6ZSrvd2kDW8MkjRqHEcZkkyoIxvDsHOWySTQFu13yU2tmYDqeqrbx3FvFNEI7GeeTdICZd8cchEdvGSmJmOZCXAVdhJjrzyPzrrRsFljbEPnRvjlIlscZa4ZdxZQG+r2Anv47207xzfSbvklu7MwusijRrNS0Tq4D77wlSVJAfayHb1wy+utS1LjW2i4iHaTxLb3Wgw2nnn1U8VtO7yyRGUHdF2W3G5XBXvx7htJNCDH77gS2ktbiXSNQ89azjE13BJZTWbG3yQ9xC0kjCSNDzZDhlXBJyVVonyhcHGyisnMva+e2MV5tEezse2GeyzvbfgEd/u5590VpPEUWoQWdybq+0mCGS2lixZR6YZdRSVMNBB2Fks22Qct5K7e6xxjK/PGXD41XTNMltLuzjS006OzvheXSwNaS26oGZkKlihw5HQkBCu4PkAQtr5GS2r29iLobrjTlv+383zsLib6ns+3G7vxflNy8m+zy59XTvJXHPcpb2eoxT3aCSTUmW3nS206GBV7WQXrkJchZWEY7MLuLAnYAxGuW2tW44vsnjuYmtl0JI1uDLGqkjzx1DEthZDEVfYTkBhyrGfo863DE11b3sgt4dQ06Wz87fkttLImI2kJ5LGQzgsSACEzgZIEnYk8m1vPbzvo2oi+mtYjNPavZT2byQJ+UltzI7dqo9gDPNeeWUN9Q+TKCPTrO91DUVtrW7RzsWzmuZQ6PhEjjicmRTGGd5SFCEIuHLjFm8nuh/gQ3N5qNzaM5spreztLO6W5e8mnaIgqFUEW47Ncuw5B8nbt51nypXiNoOhJHIrvHb3qyIjqzRntrUAOoOVJKNjdjO1vVQg72veSS2s5U/COrRxWtwFawmis553uYnVCZZIlfbbwKZFG9nYNzPdwcR6+Ryf8MzWLyxoltEbifUHUiKO02IwmKbs7jvC9mWHeWTvbVL1+/SKvUkg0sROshXRLZHEbq5R9rDawUna+QRtPPlWqcX8S2r69qNtJcxRw6lpMVpHfdojww3HZSdmJJFbaqMs5JJIHJB+eKAznh/yUWt4ZjpmqLOlvbyTSrLYT28u6NcxbY5JAHt3YMDIDmMhAVbeCJ204W088KqzX6oh1IM2o/gm6d0mNoN1n2Ibt2QDLdqG7M46Zrt+RrhEabcXb6jeWazPplzHDbwXkcxdD2byys2FCIOyQIGwz7pDtHZmq55P7Vb7hmSxhmgi1CPUVu1gu50t+3gNskRMbvyZgxfI8NozjcuRJC6Z5O4EsorrVr8WUFyX8xjSzmu5rmKMgduYUcGKHmrc85Dx8wWUG7+SfhmNbfXLeC9gnt5NPtmGojfHFHHIb0u0yHLxPEqszx5YgbfE4HT17Rhq+m6ctlcWyXunW5sbyzurmOE4h7NEnhfJSSFuyLb1JUh155UiuvwdYxWVjrsDXdtPI2nW+Htpg0bTFrsSQxO23tnRnjUsgxmRRyOQBBXNW8nlu2mzXelah58to0YvIXsp7J41nYKkqCVyzR5J5EDkknPKlazqtP8AJPfImh66sjojyW9mIkd1VpSJroEIpOWILoCFzjcvrrMKAUpSgFKUoBSlKAVt9pws6x2QA5C1V2VgHXdMpkPRt6HMgzgY5czjNYvptr2kqJ7bomefLewXwBPjXo2912JrxezYoE3KM4ZMIuF7ykrjkBzI6iubEytE7sBFuorc0Yp5VrMhO9le6OveUnBPdkXmevTHL11megzlZcDGXBQBuQIbkOZ6c8c/cPVXqHyo2KyQEsmWK85IjgkbRgttIz+vPSvLnE9r2d04XIAY9ev2mXn8D8DWqk1JWOvGVZKtn5M6+qhVjGMhtxAH81RyPryfVWgXkK9kp3dUx9k+Bz4kc+9Wa6iTt55wCMfr9R+799aLLfZt48bR3M8lXxCe730qqV426nf2bUotVc60ywt69GjQfJaV7F+ZwEyeQ8UQdcn2K+PKOitajAZj158s4K9O7nxzn/fXV8j94WVwWP5HPIY5iSYH831AV2+PJibYc26N6xzDL/dgGteSeYn9Thkvt/Zflsz/AFy3+sb6tsl26ljzLffivi+jy0n1Z/NHV/Ej3+6vvXrd+0+y5758GPiKjZYX7+VfmR4N4MtROnK61+XR34bG0lTlaP8Aj/a+h2rOEFHHZkcozkFuW24hOepz0zUlsVM9mPrGlfaDjlhjuY+7AH34UdM5hNH3BjkMMhR+cP8AXxe+p7biRznJDuB1/PwSffkYGfv99d+GTTa6Hm+0a0KqWVW16fhIsmjW68t5yARuz44PeJ8MdeQ5ACvSvDd0I9OhyxiPYxuApzt3qHCMD1A3beX6vCvJuoXu22m29Vt5T92Yyqn/AK7D41ufDPE8dzp0JB3P2cauOeNyIATuHPwNY455Ul4mrs1Jyb8Cc1rjxEH+ldk2ThDKqPknoACCc+4dKiY9Rt5B3oI9x57rVjA3uJ7JlJ/XmuK9miRu7GC/tlckesDlnr+qqrxGN/e5RFeYlZgrYHUJzADYzjOefLlnIoasE+Op6GMkl8/BaNXvkxhA4Hs7i2R95HWo38M28ukXK3IMTds6Q3NuA8hjtWjYtIo+1CJ3Qcu7kLnBFVfhfjOOW7EDFnUY33W3b2YGN/aKcZIXqwGd3dwTmpDQpoNSu5Y4mFncRTOEtjkQzW8UrSu6khWjmbadxGD08OQ6cFh7NzmnZWd+Xz/08929jFOMaVNpt3uufD+eJSfLXp0VvcgWcgeGdUuLmBd22OWUFgV5/kT2hK4+zj3CqRdy7zIZ2dt0WEk+32k0TRbQWP5hh3HPXJUnOTVj8qlnK9zLP2bIkcmx15MsUUruYCCAMxNJ2wDeB2g8zzhNUuVnkOGWJV2LIqA7CFQRmZV5ZYsRlR03E9M49NQ+xJu+m54+f3NpWXmfHEV3BJbWvZpIJUQRzSM4YP33ICx9RgH1jrivvV9KWSC4mgl3LDLGDHIuyRln3KrKAdpwUwQOfQ10EWPsMF33rMnPaCnZ4k3HGc7s7eXjk+qpnStP3adfNGyyERwSELkPGEuo1ZypXmv1m07Ty3A9Kyf0rS+/u0IO8vU+uENYlh0+4McjIGmtUxzwwVppGGCpB5hSRkfrzX3YCKSOWOXMckksRimh7JExICrB4twVolYg5Ru73u6eWOhpvEcqacIkYdm10ZGVlRstHFGFzuOcD1YxVx1LWLefTFM1uYbxPOYluLMKquyQo8DSwnvd1m5kcgM+8DCV09t3uvnQPfdfHqSPkT1iS1mMFx3QcPGxztljfIWSNiBuhbGVYf7xWwXMm5uXT/urAdU0e42CdUc2ymKeJ0kEiWi3jRSOowRtjMkjqVC4zgn7Oa3Lg6NmjUsc8gTXmO1qEYz71Na7+J7rsDFudJ02vt9jucQ6AZkVcgIoLSN0AVRliT0ACgknwANZNqvGFrFpjuESSeW8V7aGZnBENqNsbGFPDduYh2AHaMOpGb55ZeL/ADWWCE7uz7txd7MgvAWMccQ9oFg8jJ4rEPAmvP8A5TdHW3njt+0ErxpvmeEh133AR0CuPtYh7IfePfgdfY+F+hSnfXVeC39dPKxU9uY9Vazpx2jdPxt+NV4lbuNQMjPJJzcnd3QqruJz9kDG3HQD3VKcPBp7+ITOXZ5U3s7FmZmPMknJJyfVXxqcESwQKgdppN0spfCgKzFIlVep5KWLH2gB41ceB9eaDWZXgSOLY8pC9mG7NLaOTAQsN2/anhzY+FegnK0W4rgzzrafmR9joAVrgXEyW3ZmOLEu+Ri0uZGARPEALndnB5HoTVp8n9nZrewLua72u7YePs4pLnsmMDdmcl44vrTgjLO8XQA1VeHeGZJoo5HdI4pp5XaeeYLyjHfZh+UODnoSST+uuLVNHdAy7gkolWBcllMjzKzNzPNYVjkyWbwx6xWuSU04uXp6eP7mEW4yTS4rf5YjqUpXKeiO3o2pyQTpNbO0VxE2+KWMgMjAEZGQQQQSpVgVZWZSCCQblLxTYTtvvdPkhuSdzzaPdi2SaTOS3mc0EsULE4JMLDJJOBVCpQHoDyU+Vxu3NpZiKxtZo7plvNUvri8eO882draZ7id1gWMyxxhoFj2kuxBLHvY9xbxGLlIR5ra20kIkWSWwt47bzsyOpDSJGBHlAmF2gDvuRgEKIClCQK/AK/aUIPwLQrX7SgPzFftKUB+BfVTFftKAmtK4SuZoTLBAzw98hl2AydiN0xijLCWbYPtGJW24OcYrjXhi48184ELeahS/a938kH2NKI93amASd0zBdgOQW5Gr35O+JrSBbNpXWN4e3W5D2DXczPO9wI5ILp2KW1qsMsJZIAku6OfuyGXdUHqV/ayQxu1xOs0Wmw6ebS3jaIzNbQi3JNywMXmE0QMrxsN5Mjpt57qAhNU4OuYYw81u6RlkXorMrygmFJIlYyxSOAdqSKrNjkDUhqnk/uIrbtJ4mWU3cNnFbBFlaaW4iunIDRyNidGtkjNuV35nTO3kGvXpxZxPK8DI6m9sby3t009oZGisLwzGG5vpGeee9MTj6yV2i3ROwfMm0RfDXE1pZFDFNJd/+847twbZottv5lqdsxxI+HvVa9R2HJGKoFc94qBTbngm6EyRNbOZpFkaFE2S9qLdS04Ro2ZGeNVJZASy8gQCQDy3/Al5HG0klswiSMymTdCwMSLmSSMrIe1jRebtFuCDO7bVpHF0ESLFE8bIItRYtY6f5jEs17pctnbBYzmdpS5XtJDtRVEQG/YWqM0biaFDZ7i2LfS9QtJMITtnvPwz2IX1qfPbfLDkMtn7JoCr3WgTI8qvEyvboslwDt+pjkMSozHOMMZ4QME57RcZqOrR+NtR26Raq6PHf3cUC3ayqVL2ejvcQ6fJtbD7Z1eE7iO9+DlIJBGc4oBSlKAUpSgFKUoCf8n0eb2M+Ee6T9cakr+3spd6sRcMw5ENjchKHvNnoO7jl6vGu3wD3VuHBAKxqgLdPrWYkerpF41FtF3xlPtEuTGcYXwPLK/ZA8Kr8VVs7Hq+w+zu9pqonxf8LYsuocSsQy7s7mAIz2WTyGcjMbdANxA6VknF11vlDn85n/ORs7m3DmoHrPWrXNcBsEHoSxVsg93LHmAfCq/rmmf6LkY3LhhzHPm2cePTNTTaVjhx+Gnnk1tqzrG0TapU4YEZBHIsxA6jljn6q06w4QkFnDjn3MAqkB5bUx32ZWPh1/8AGsTj1BguAeXXHvHSvSXD+rIdNjLOykDaVXJHd3KT0xzCA/rNZVc0beJqw81PNZf0ezRN+Rzg+Tnlm5owCh1G3vk55MRnn4ev31NcRcEu0ILOwHfUgzPjBzjkFb1A9OpPrr48jetRb8Zfq4OSvRgpH53jzNWLiTWIhB+d1YZ3R+IbP+srTKUsxosjJOI+BvrGPI9882lfJ7wPhD15+v8AfUDd8E4D81+0OrvnmR/M6f8AjV61bWoN57pPfH+sh5bipH+u/XVU1fiCEGQbcjep5SJz6eqT7jSblmXziWeDS7md+v8AiyO0vg3ByCAQF+xK/XtY+mYxz5+sdOtc3H9gLeSMMW7Rkdm3lT9Ws0gUkhyc57v6hzruaLrcJ6A8yg3b1OPrF/2meoB6c60PzK2lktXnBd4pmKbo84YSSFc5jJxuw3LHNF+6tjrSpyTKpwUk0eeuILj/AEa5Ph2Kr/15oF+FVjhHjm5swRbPhSc7HBYA+sDIxWteWvh2NZJfNSNk4cNFhl2yqyyoVG0AIWUZHIA58DywaS2I8PHH3EdQR1De44NdrnGtFM5FmpS0NKsfLTd5O9YnGDklZBy8T+UIz78CurrnlHmuEUbEiOcPIjOzFT4AscJy8Rz58sVRJl2qBy3NzPuXkVB9RJ548AF9dWjgbTBLewq32ftMCVwwCk4LHugZGOeR1rV+mpXvY2PF1VFrMzUPIXpdzaO5jAjkaMKVuIwyyvMpZEALAERwGSRsNkYIxzr98ocsSXEl5p6kQzJJa3MZDgRXUyusjLuGQjKCwQ7SDuA5CpDyL8eywWt48qLNawwsVjlGRHNcyLFGqvg7dxkdip8Izjxrn4O0y1u7C6ihle1Yxg9jcyDsXuO0TzYrMc4ckSLn1TN4cxus6c3KS0VldbO+9+J52VR1NL6u7s+Hg9uhn/C+uTlewjcmNu7sYghhuVuzO77SMU/JnHNuXM1Vb4DtWMfKPJKgEnaM8hz58unOp13kspdksbRXsUySAyDkOxZXRWToyl1U5BII5VGa3seeV4F7OFmZ0h3A9mrsSqKfFVzj7hVjG17peZzxTTd35BrdNsn1oJAVlwGw+WAIBOCCN2f1GpzSeHJmsJp4sNAkOZjE+WRTNCuHjHe2bwG55Xu58Kq1lFlH7wBCg4ORuAYAgetvHH31onBEEtvpU9wgIScC1WVcMOZLSqwztHIbSHH5wIIrGrJxWm91uS1be/xFRsdbIgSNkjdA7Ph055cBTl1IbGFHLNaJA1nPYRoA1nNJPOUY5mt2fsVChuZMedyrkDI5HpWYWl2m4CSMMAOqnYft5Jz0zjI6er1Vod7pdu8FkLecxSyBiYbtSOcrGPIlVSNpZCMnlzBxjNYVUtN1ruvP5sRrd6Lz8eBz8P6ND+BJHuu3F19UbVYt5hdBuZS+0GL7aPv7QgqqKR3uTbdwbchIA7DupHuP3KuTz+4GvLuo2E9s8kUqyJsdN6Zbbgh2XODsIKsxB6YLVtkmvoLaOGYN2VzGyXEqdYICuwv7zvcAe4OfCqbtPCuo4pO9234Ky2PQdkYyNClUk9LJebbe/m7eBVtX1oXcYu5SvnEMhSOF2z52bm4cwOu5B9XGzvEg8AikgLuqkW+gRy3ZRrxZJHmESyrE7CaSRlUuvj2e5zjlzC8sVLSqJrx+ymhWG2DRxTu4jV3KuvaqoQ7ii5PdAG4gqcEVJcO6LFbQz3JvIGkggZbeOEyOxubgNDEwycdwtK+ccsA1aRtTjpdclba+y2+X6FE3KT134vmRWmm0l1c92aS1E0UNttMcW6GAbAxGQBv2B8DH2jnma5tC11Y7nU57WJUCxXBhkYmRoPOZkiTY27Zv2u3e59TjOK73kx06zjulLTzN2KPITDb8i0arswx7wyVfGRzOB1POvNqMMej3QjjYzXd3EkcsjoTHb25llOEzuDEsiluh/UKlq7sk3pFa9XqZQ1d9N3bpZaHQ0XT2aGJnjZrcMiPyHfFzOV2xqxw0jbWUYwc451JcVW0zTzySqWKzOjTMuFMqyKs7Bm5Be0Xs1wM4XHKozhrWpoZ7Z03PJEd1sj5Ze27ywlUY7SVlfcOXJgKs3lKvJHi063UsY0tULKP9dcTSu1zK/MCR2lLMXPLJPM8zW1uSmtuPl8+bGq0XF3epVaVTPSuT2U+D/PT0rk9lPg/z1xHo7FzpVM9K5PZT4P8APT0rk9lPg/z0Fi50qmelcnsp8H+enpXJ7KfB/noLFzpVM9K5PZT4P89PSuT2U+D/AD0Fi50qmelcnsp8H+enpXJ7KfB/noLFzpVM9K5PZT4P89PSuT2U+D/PQWLnSqZ6Vyeynwf56elcnsp8H+egsXOlUz0rk9lPg/z09K5PZT4P89BYudKpnpXJ7KfB/np6Vyeynwf56Cxc6VTPSuT2U+D/AD09K5PZT4P89BYujHPXmeXM8+gAHwAA+4CvyqZ6Vyeynwf56elcnsp8H+egsXOlUz0rk9lPg/z09K5PZT4P89BYudKpnpXJ7KfB/np6Vyeynwf56Cxc6VTPSuT2U+D/AD09K5PZT4P89BY1bhInsZwCBnss5zzx2/j0GAT1I61X9TuQrMVzzyqmNgRtGc4ZTjpkfrFQdp5S5UhMccFuu5VEkgW5ZpSm7azB7pogw3t9hFHPpUDc8Rs3WOLPrCyD1eqXHh++uepTzSvwLfC49UKGWL+rX5fzZaI9WwG5AkgKu8DkX+0c9cbA4/WK7V1cAxgYXJPQZ5AY8N368n2qpVvxAykFUQFSSPyvMnHX63mBgV3k41lBBCR8hjpKR0IPIy48aiVHkjT+vm92dO0st0+0fZ3c/coOT/dyrQLyXFtjap7wIJL5/P8AANjHOs5s9bdGLAKS3XcGPr6d73135eL5Cm1o4iOXeKyZOCSP9bjxx0rKpGTStzGCrU4ued2vFpacfI2TyJzHtvsr68BemQM/3ffVo4oci3PJftN0TPPY5xzU+FYHw95RZrdt0UcOf5yS+oj82YcsGpC/8rlxIhVobfBO7Ijnzkrt/wD+j1eusJQm3sZ5qH937Mt91MSVPd59mfsJ7Ef83rVX1Wc7n+zncP8AVx+JH82oL09l5fVQ8tuO5J+YAB/rfUorpXXFTsTmOIZwThH8P/iVDhNyvY7IYnDRpOOZ314PlYtOh3J58l6p+YntjpgZHTwrTortgsB2Lt7UnI3c/rHzkl+fOsHtOKXTpHF4dVf80gjpIPEVM/8AtMn7v1cPdbcDtmOTknnmfpkmspwk+BX5qS4/sy4+VOcmReRI7Ug5ZsEmMZ9WMe4moHTsEhsBSUZScbgQFJyd2ckEePTJxjJqta3xpLMwMiRght3cWQcwMeMh5YrqJxK4UAKgwRzw+eXhkydD0PuJqckstiaNalCed621S5nVmXLE/rP6+Z/fWteRPyfy38U5ijLdjEQNpVAZHVzGrOwIxhXI5HntHLmax3zw5PIc/v8A99XjgTyt3VjbtDbrGYmLswc3Qy0iqpY9lcxqSEQKCQcDOOZzW6blb6NysnHMmmXvgjVbeO0nstQjkjna43vdQgFouxTYiOucsqyF25ZHezzqU1/h7stDQ2sqzpdXPbOEysgggUrGrxE7WxJuyQOqrWFXvErvIX2qrHrtMpyTnJJeVnJOTnnXa1DjSaQqSEXZGsadmrrhE9ffySTkknOSxre3HMmm97tcL/PYqnhKr4Lay6fz/s0bjW6afSoJZjvlWd4C0gPaIIYoiq9oeZQrIO6x/NGM4OKGuMYJwQMr7z6j6uVfd95RZpLBLV44SiSNIs+yQTEyY3KzibYychyZSRjkarp1ZvUv34b5q2060UrdX7mSwdS2vv0LBp0JZiBjO1j3iF+yCTzPjgHlVy4M4kkt7VFQ7ojPK8sD96KbMUKbXTHM7C3Mc+nI45Zf+GW3ZwufuPiMe1Xc0Xil4S2EjkR1KvHKrlTkHDYWRWDqTkMCCOfgSDM60JLXUSwdV7aFjvDH2w3KUUrkiMhsZ3HkCenMcifCrfxzpChYfN7iOVUtozsb6p13NvwUI2E5fPrrKdU4jeSUuVRScd1e0IAAAwN8jP4eLGuTU+KZJGyyoO6qgAScgigD7UhPQev4VHfRundmv9DVstvXY0PyhQzwzbJe0QvBbuyszkMCjYPNm3LzYA59dWbjzU44rCCIb/wiUYXSr0IYs1qC5OQ0ZfayqOvaDkTmsok8otw0kLSbZFhWJVikMzRyJbPuRJFM2ShJIIUryJAxUdrfFks8xklC9oxyxHad5iSSxzITuJPrrWpxbjm4e5msHUSaVrP8fPlzReFOFma3di8KMZuwxNMEYGJe0lP2SNhJRc56irHd8IhbINJeWyq822PbJM+7slwzYC9PzunVqxVeKJAirtTapYjutklyCxJ3de6o+4Cu1f8AGsrxRoUjVIgwXYsg3byCzNmUjdyAyAOQrJ1bv7uPI1vAVG22l6mrcOWMCQXDSXi7iojXs4ZJCT9pj315LvIXPjk9Ko2vTIXWO2ZmjUkB5QqDvEDdtBIUYGST4YqurxhKITGAgQtuJHaZJ9/1mPD1VxaTxRJExaNU3FSu5kLFdwwSuW5N6jWSqxTbu2TDA1Ful6l30q77W9hFzKVgjCL2njFEgLDYoHXlnlzJ++tB4w1+0/BUYswwuyPNtxUGQW5ZmlZ5eiyOQq4X81yCeeBg8fFEm/cQjNtC95W5KqhVGAw6KAM1IxceyCJYzFCyq7PuZZt7M+OrrOGwMcgMe/NYTnCTT10exKwdZXso7WKjSlK5y5FKUoBSlKAUpSgFKUoBSlKAUpSgFKUoBSlKAUpSgFKUoBSlKAUpSgFKUoBSlKAUpSgFKUoBSlKAUpSgFKUoBSlKAUpSgFKUoBSlKAUpSgFKUoBSlKAUpSgFKUoBSlKAUpSgFKUoBSlKAUpSgFKUoBSlKAUpSgFKUoBSlKAUpSgFKUoBSlKAUpSgFKUoBSlKAUpSgFKUoBSlKAUpSgFKUoBSlKAUpSgFKUoBSlKAUpSgFKUoBSlKAUpSgFKUoBSlKAUpSgFKUoBSlKAUpSgFKUoBSlKAUpSgFKUoBSlKAUpSgFKUoBSlKAUpSgFKUoBSlKAUpSgFKUoBSlKAUpSgFKUoBSlKAUpSgFKUoBSlKAUpSgFKUoBSlKAUpSgFKUoBSlKA/9k=\n",
          "text/html": "\n        <iframe\n            width=\"730\"\n            height=\"410\"\n            src=\"https://www.youtube.com/embed/1qxW8CPW77U?fs=1&rel=0\"\n            frameborder=\"0\"\n            allowfullscreen\n            \n        ></iframe>\n        ",
          "text/plain": "<IPython.lib.display.YouTubeVideo at 0x7fd49fd92990>"
         },
         "metadata": {},
         "output_type": "display_data"
        }
       ],
       "tabbable": null,
       "tooltip": null
      }
     },
     "dec0a752f8224bb2aae29889134e278d": {
      "model_module": "@jupyter-widgets/controls",
      "model_module_version": "2.0.0",
      "model_name": "TabModel",
      "state": {
       "_dom_classes": [],
       "_model_module": "@jupyter-widgets/controls",
       "_model_module_version": "2.0.0",
       "_model_name": "TabModel",
       "_view_count": null,
       "_view_module": "@jupyter-widgets/controls",
       "_view_module_version": "2.0.0",
       "_view_name": "TabView",
       "box_style": "",
       "children": [
        "IPY_MODEL_12a264d1fb10487788dccf025dfff221",
        "IPY_MODEL_e07f06824b3a4f70886859995229bb98"
       ],
       "layout": "IPY_MODEL_0d415170be434220bc36f9c3a244380c",
       "selected_index": 0,
       "tabbable": null,
       "titles": [
        "Youtube",
        "Bilibili"
       ],
       "tooltip": null
      }
     },
     "e07f06824b3a4f70886859995229bb98": {
      "model_module": "@jupyter-widgets/output",
      "model_module_version": "1.0.0",
      "model_name": "OutputModel",
      "state": {
       "_dom_classes": [],
       "_model_module": "@jupyter-widgets/output",
       "_model_module_version": "1.0.0",
       "_model_name": "OutputModel",
       "_view_count": null,
       "_view_module": "@jupyter-widgets/output",
       "_view_module_version": "1.0.0",
       "_view_name": "OutputView",
       "layout": "IPY_MODEL_88a7dbaa528243118b0932a590818b91",
       "msg_id": "",
       "outputs": [
        {
         "name": "stdout",
         "output_type": "stream",
         "text": "Video available at https://www.bilibili.com/video/BV1jK4y1x7q5\n"
        },
        {
         "data": {
          "text/html": "\n        <iframe\n            width=\"730\"\n            height=\"410\"\n            src=\"https://player.bilibili.com/player.html?bvid=BV1jK4y1x7q5&page=1?fs=1\"\n            frameborder=\"0\"\n            allowfullscreen\n            \n        ></iframe>\n        ",
          "text/plain": "<__main__.BiliVideo at 0x7fd4a236cc50>"
         },
         "metadata": {},
         "output_type": "display_data"
        }
       ],
       "tabbable": null,
       "tooltip": null
      }
     },
     "e3ba3adefe534e17b5db39e556f55d40": {
      "model_module": "@jupyter-widgets/output",
      "model_module_version": "1.0.0",
      "model_name": "OutputModel",
      "state": {
       "_dom_classes": [],
       "_model_module": "@jupyter-widgets/output",
       "_model_module_version": "1.0.0",
       "_model_name": "OutputModel",
       "_view_count": null,
       "_view_module": "@jupyter-widgets/output",
       "_view_module_version": "1.0.0",
       "_view_name": "OutputView",
       "layout": "IPY_MODEL_10e2017896d0415bbbd0229dda159da6",
       "msg_id": "",
       "outputs": [
        {
         "name": "stdout",
         "output_type": "stream",
         "text": "Video available at https://www.bilibili.com/video/BV1Gt4y1X76z\n"
        },
        {
         "data": {
          "text/html": "\n        <iframe\n            width=\"730\"\n            height=\"410\"\n            src=\"https://player.bilibili.com/player.html?bvid=BV1Gt4y1X76z&page=1?fs=1\"\n            frameborder=\"0\"\n            allowfullscreen\n            \n        ></iframe>\n        ",
          "text/plain": "<__main__.BiliVideo at 0x7fd49fda33d0>"
         },
         "metadata": {},
         "output_type": "display_data"
        }
       ],
       "tabbable": null,
       "tooltip": null
      }
     },
     "f9d5c2a902e74c89a61401b21c37ae56": {
      "model_module": "@jupyter-widgets/output",
      "model_module_version": "1.0.0",
      "model_name": "OutputModel",
      "state": {
       "_dom_classes": [],
       "_model_module": "@jupyter-widgets/output",
       "_model_module_version": "1.0.0",
       "_model_name": "OutputModel",
       "_view_count": null,
       "_view_module": "@jupyter-widgets/output",
       "_view_module_version": "1.0.0",
       "_view_name": "OutputView",
       "layout": "IPY_MODEL_babf5856e4c14659b48b60ce108fdf15",
       "msg_id": "",
       "outputs": [
        {
         "name": "stdout",
         "output_type": "stream",
         "text": "Video available at https://www.bilibili.com/video/BV1Kv411q7Wx\n"
        },
        {
         "data": {
          "text/html": "\n        <iframe\n            width=\"730\"\n            height=\"410\"\n            src=\"https://player.bilibili.com/player.html?bvid=BV1Kv411q7Wx&page=1?fs=1\"\n            frameborder=\"0\"\n            allowfullscreen\n            \n        ></iframe>\n        ",
          "text/plain": "<__main__.BiliVideo at 0x7fd4a2467990>"
         },
         "metadata": {},
         "output_type": "display_data"
        }
       ],
       "tabbable": null,
       "tooltip": null
      }
     }
    },
    "version_major": 2,
    "version_minor": 0
   }
  }
 },
 "nbformat": 4,
 "nbformat_minor": 0
}
