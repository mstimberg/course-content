{
 "cells": [
  {
   "cell_type": "markdown",
   "metadata": {
    "colab_type": "text",
    "execution": {},
    "id": "view-in-github"
   },
   "source": [
    "<a href=\"https://colab.research.google.com/github/NeuromatchAcademy/course-content/blob/main/tutorials/W3D4_ReinforcementLearning/student/W3D4_Tutorial1.ipynb\" target=\"_blank\"><img alt=\"Open In Colab\" src=\"https://colab.research.google.com/assets/colab-badge.svg\"/></a>   <a href=\"https://kaggle.com/kernels/welcome?src=https://raw.githubusercontent.com/NeuromatchAcademy/course-content/main/tutorials/W3D4_ReinforcementLearning/student/W3D4_Tutorial1.ipynb\" target=\"_blank\"><img alt=\"Open in Kaggle\" src=\"https://kaggle.com/static/images/open-in-kaggle.svg\"/></a>"
   ]
  },
  {
   "cell_type": "markdown",
   "metadata": {
    "execution": {}
   },
   "source": [
    "# Tutorial 1: Learning to Predict\n",
    "\n",
    "**Week 3, Day 4: Reinforcement Learning**\n",
    "\n",
    "**By Neuromatch Academy**\n",
    "\n",
    "__Content creators:__ Marcelo G Mattar, Eric DeWitt, Matt Krause, Matthew Sargent, Anoop Kulkarni, Sowmya Parthiban, Feryal Behbahani, Jane Wang\n",
    "\n",
    "__Content reviewers:__ Ella Batty, Byron Galbraith, Michael Waskom, Ezekiel Williams, Mehul Rastogi, Lily Cheng, Roberto Guidotti, Arush Tagade, Kelson Shilling-Scrivo\n",
    "\n",
    "__Production editors:__ Gagana B, Spiros Chavlis"
   ]
  },
  {
   "cell_type": "markdown",
   "metadata": {
    "execution": {}
   },
   "source": [
    "<p align='center'><img src='https://github.com/NeuromatchAcademy/widgets/blob/master/sponsors.png?raw=True'/></p>"
   ]
  },
  {
   "cell_type": "markdown",
   "metadata": {
    "execution": {}
   },
   "source": [
    "---\n",
    "\n",
    "# Tutorial objectives\n",
    "  \n",
    "*Estimated timing of tutorial: 50 min*\n",
    "\n",
    "Reinforcement Learning (RL) is a framework for defining and solving a problem where an agent learns to take actions that maximize reward. The problem setting is as follows: an agent, biological or artificial, observes the current state of the world and selects an action based on that state. Upon executing an action, the agent receives a reward and uses this information to improve its future actions. Reinforcement learning provides formal, optimal descriptions of learning. These descriptions were first derived from studies of animal behavior and then validated when the formal quantities used in the model were observed in the brain in humans and animals. \n",
    "\n",
    "Reinforcement learning is a broad framework and it has deep connections to many topics covered in NMA. For instance, most of reinforcement learning defines the world as a Markov Decision Problem, which is built on Hidden Dynamics and Optimal Control. More broadly, reinforcement learning can be seen as a framework that allows us to bring in many ideas and formalisms from other areas like economics, psychology, computer science, artificial intelligence, etc. to define algorithms or models that can solve large, complex problems with only a simple reward signal.\n",
    "\n",
    "In this tutorial, we will model the agent as an observer that learns to predict future rewards. This agent takes no actions and thus cannot influence how much reward it receives. By predicting how much reward follows from each state, the agent can learn to identify the best states of the world -- i.e. the ones that tend to be followed by the most reward. \n",
    "\n",
    "More specifically, we will learn how to estimate state-value functions in a classical conditioning paradigm using Temporal Difference (TD) learning and examine TD-errors at the presentation of the conditioned and unconditioned stimulus (CS and US) under different CS-US contingencies. These exercises will provide you with an understanding of both how reward prediction errors (RPEs) behave in classical conditioning and what we should expect to see if Dopamine represents a \"canonical\" model-free RPE. \n",
    "\n",
    "At the end of this tutorial:    \n",
    "* You will learn to use the standard tapped delay line conditioning model\n",
    "* You will understand how RPEs move to CS\n",
    "* You will understand how variability in reward size effects RPEs\n",
    "* You will understand how differences in US-CS timing effect RPEs"
   ]
  },
  {
   "cell_type": "markdown",
   "metadata": {
    "execution": {}
   },
   "source": [
    "Tutorials 1-4 should take a 3+ hours to complete, though it could take longer if you're completely new to this material and/or if you are interested in studying all of the extra material."
   ]
  },
  {
   "cell_type": "markdown",
   "metadata": {},
   "source": [
    "##  Tutorial slides\n"
   ]
  },
  {
   "cell_type": "markdown",
   "metadata": {},
   "source": [
    " These are the slides for all videos in this tutorial.\n"
   ]
  },
  {
   "cell_type": "code",
   "execution_count": 1,
   "metadata": {
    "cellView": "form",
    "execution": {
     "iopub.execute_input": "2023-04-17T16:57:10.709659Z",
     "iopub.status.busy": "2023-04-17T16:57:10.709259Z",
     "iopub.status.idle": "2023-04-17T16:57:10.719683Z",
     "shell.execute_reply": "2023-04-17T16:57:10.719026Z"
    },
    "tags": [
     "remove-input"
    ]
   },
   "outputs": [
    {
     "data": {
      "text/html": [
       "\n",
       "        <iframe\n",
       "            width=\"854\"\n",
       "            height=\"480\"\n",
       "            src=\"https://mfr.ca-1.osf.io/render?url=https://osf.io/2jzdu/?direct%26mode=render%26action=download%26mode=render\"\n",
       "            frameborder=\"0\"\n",
       "            allowfullscreen\n",
       "            \n",
       "        ></iframe>\n",
       "        "
      ],
      "text/plain": [
       "<IPython.lib.display.IFrame at 0x7fe6fe12ea90>"
      ]
     },
     "execution_count": 1,
     "metadata": {},
     "output_type": "execute_result"
    }
   ],
   "source": [
    "# @title Tutorial slides\n",
    "\n",
    "# @markdown These are the slides for all videos in this tutorial.\n",
    "from IPython.display import IFrame\n",
    "IFrame(src=f\"https://mfr.ca-1.osf.io/render?url=https://osf.io/2jzdu/?direct%26mode=render%26action=download%26mode=render\", width=854, height=480)"
   ]
  },
  {
   "cell_type": "markdown",
   "metadata": {
    "execution": {}
   },
   "source": [
    "---\n",
    "# Setup"
   ]
  },
  {
   "cell_type": "code",
   "execution_count": 2,
   "metadata": {
    "cellView": "code",
    "execution": {
     "iopub.execute_input": "2023-04-17T16:57:10.722548Z",
     "iopub.status.busy": "2023-04-17T16:57:10.722196Z",
     "iopub.status.idle": "2023-04-17T16:57:11.164546Z",
     "shell.execute_reply": "2023-04-17T16:57:11.163812Z"
    }
   },
   "outputs": [],
   "source": [
    "# Imports\n",
    "import numpy as np\n",
    "import matplotlib.pyplot as plt"
   ]
  },
  {
   "cell_type": "markdown",
   "metadata": {},
   "source": [
    "##  Figure Settings\n"
   ]
  },
  {
   "cell_type": "code",
   "execution_count": 3,
   "metadata": {
    "cellView": "form",
    "execution": {
     "iopub.execute_input": "2023-04-17T16:57:11.168712Z",
     "iopub.status.busy": "2023-04-17T16:57:11.167954Z",
     "iopub.status.idle": "2023-04-17T16:57:11.321755Z",
     "shell.execute_reply": "2023-04-17T16:57:11.321026Z"
    },
    "tags": [
     "hide-input"
    ]
   },
   "outputs": [],
   "source": [
    "# @title Figure Settings\n",
    "import ipywidgets as widgets  # interactive display\n",
    "%config InlineBackend.figure_format = 'retina'\n",
    "plt.style.use(\"https://raw.githubusercontent.com/NeuromatchAcademy/course-content/main/nma.mplstyle\")"
   ]
  },
  {
   "cell_type": "markdown",
   "metadata": {},
   "source": [
    "##  Plotting Functions\n"
   ]
  },
  {
   "cell_type": "code",
   "execution_count": 4,
   "metadata": {
    "cellView": "form",
    "execution": {
     "iopub.execute_input": "2023-04-17T16:57:11.325281Z",
     "iopub.status.busy": "2023-04-17T16:57:11.324820Z",
     "iopub.status.idle": "2023-04-17T16:57:11.334726Z",
     "shell.execute_reply": "2023-04-17T16:57:11.333969Z"
    },
    "tags": [
     "hide-input"
    ]
   },
   "outputs": [],
   "source": [
    "# @title Plotting Functions\n",
    "from matplotlib import ticker\n",
    "\n",
    "def plot_value_function(V, ax=None, show=True):\n",
    "  \"\"\"Plot V(s), the value function\"\"\"\n",
    "  if not ax:\n",
    "    fig, ax = plt.subplots()\n",
    "\n",
    "  ax.stem(V, use_line_collection=True)\n",
    "  ax.set_ylabel('Value')\n",
    "  ax.set_xlabel('State')\n",
    "  ax.set_title(\"Value function: $V(s)$\")\n",
    "\n",
    "  if show:\n",
    "    plt.show()\n",
    "\n",
    "\n",
    "def plot_tde_trace(TDE, ax=None, show=True, skip=400):\n",
    "  \"\"\"Plot the TD Error across trials\"\"\"\n",
    "  if not ax:\n",
    "    fig, ax = plt.subplots()\n",
    "\n",
    "  indx = np.arange(0, TDE.shape[1], skip)\n",
    "  im = ax.imshow(TDE[:,indx])\n",
    "  positions = ax.get_xticks()\n",
    "  # Avoid warning when setting string tick labels\n",
    "  ax.xaxis.set_major_locator(ticker.FixedLocator(positions))\n",
    "  ax.set_xticklabels([f\"{int(skip * x)}\" for x in positions])\n",
    "  ax.set_title('TD-error over learning')\n",
    "  ax.set_ylabel('State')\n",
    "  ax.set_xlabel('Iterations')\n",
    "  ax.figure.colorbar(im)\n",
    "  if show:\n",
    "    plt.show()\n",
    "\n",
    "\n",
    "def learning_summary_plot(V, TDE):\n",
    "  \"\"\"Summary plot for Ex1\"\"\"\n",
    "  fig, (ax1, ax2) = plt.subplots(nrows = 2, gridspec_kw={'height_ratios': [1, 2]})\n",
    "\n",
    "  plot_value_function(V, ax=ax1, show=False)\n",
    "  plot_tde_trace(TDE, ax=ax2, show=False)\n",
    "  plt.tight_layout()"
   ]
  },
  {
   "cell_type": "markdown",
   "metadata": {},
   "source": [
    "##  Helper Functions and Classes\n"
   ]
  },
  {
   "cell_type": "code",
   "execution_count": 5,
   "metadata": {
    "cellView": "form",
    "execution": {
     "iopub.execute_input": "2023-04-17T16:57:11.337844Z",
     "iopub.status.busy": "2023-04-17T16:57:11.337497Z",
     "iopub.status.idle": "2023-04-17T16:57:11.350441Z",
     "shell.execute_reply": "2023-04-17T16:57:11.349791Z"
    },
    "tags": [
     "hide-input"
    ]
   },
   "outputs": [],
   "source": [
    "# @title Helper Functions and Classes\n",
    "\n",
    "def reward_guesser_title_hint(r1, r2):\n",
    "  \"\"\"\"Provide a mildly obfuscated hint for a demo.\"\"\"\n",
    "  if (r1==14 and r2==6) or (r1==6 and r2==14):\n",
    "    return \"Technically correct...(the best kind of correct)\"\n",
    "\n",
    "  if  ~(~(r1+r2) ^ 11) - 1 == (6 | 24): # Don't spoil the fun :-)\n",
    "    return \"Congratulations! You solved it!\"\n",
    "\n",
    "  return \"Keep trying....\"\n",
    "\n",
    "\n",
    "class ClassicalConditioning:\n",
    "\n",
    "    def __init__(self, n_steps, reward_magnitude, reward_time):\n",
    "\n",
    "        # Task variables\n",
    "        self.n_steps = n_steps\n",
    "        self.n_actions = 0\n",
    "        self.cs_time = int(n_steps/4) - 1\n",
    "\n",
    "        # Reward variables\n",
    "        self.reward_state = [0,0]\n",
    "        self.reward_magnitude = None\n",
    "        self.reward_probability = None\n",
    "        self.reward_time = None\n",
    "\n",
    "        # Time step at which the conditioned stimulus is presented\n",
    "        self.set_reward(reward_magnitude, reward_time)\n",
    "\n",
    "        # Create a state dictionary\n",
    "        self._create_state_dictionary()\n",
    "\n",
    "    def set_reward(self, reward_magnitude, reward_time):\n",
    "\n",
    "        \"\"\"\n",
    "        Determine reward state and magnitude of reward\n",
    "        \"\"\"\n",
    "        if reward_time >= self.n_steps - self.cs_time:\n",
    "            self.reward_magnitude = 0\n",
    "\n",
    "        else:\n",
    "            self.reward_magnitude = reward_magnitude\n",
    "            self.reward_state = [1, reward_time]\n",
    "\n",
    "    def get_outcome(self, current_state):\n",
    "\n",
    "        \"\"\"\n",
    "        Determine next state and reward\n",
    "        \"\"\"\n",
    "        # Update state\n",
    "        if current_state < self.n_steps - 1:\n",
    "            next_state = current_state + 1\n",
    "        else:\n",
    "            next_state = 0\n",
    "\n",
    "        # Check for reward\n",
    "        if self.reward_state == self.state_dict[current_state]:\n",
    "            reward = self.reward_magnitude\n",
    "        else:\n",
    "            reward = 0\n",
    "\n",
    "        return next_state, reward\n",
    "\n",
    "    def _create_state_dictionary(self):\n",
    "\n",
    "        \"\"\"\n",
    "        This dictionary maps number of time steps/ state identities\n",
    "        in each episode to some useful state attributes:\n",
    "\n",
    "        state      - 0 1 2 3 4 5 (cs) 6 7 8 9 10 11 12 ...\n",
    "        is_delay   - 0 0 0 0 0 0 (cs) 1 1 1 1  1  1  1 ...\n",
    "        t_in_delay - 0 0 0 0 0 0 (cs) 1 2 3 4  5  6  7 ...\n",
    "        \"\"\"\n",
    "        d = 0\n",
    "\n",
    "        self.state_dict = {}\n",
    "        for s in range(self.n_steps):\n",
    "            if s <= self.cs_time:\n",
    "                self.state_dict[s] = [0,0]\n",
    "            else:\n",
    "                d += 1 # Time in delay\n",
    "                self.state_dict[s] = [1,d]\n",
    "\n",
    "\n",
    "class MultiRewardCC(ClassicalConditioning):\n",
    "  \"\"\"Classical conditioning paradigm, except that one randomly selected reward,\n",
    "    magnitude, from a list, is delivered of a single fixed reward.\"\"\"\n",
    "  def __init__(self, n_steps, reward_magnitudes, reward_time=None):\n",
    "    \"\"\"\"Build a multi-reward classical conditioning environment\n",
    "      Args:\n",
    "        - nsteps: Maximum number of steps\n",
    "        - reward_magnitudes: LIST of possible reward magnitudes.\n",
    "        - reward_time: Single fixed reward time\n",
    "      Uses numpy global random state.\n",
    "      \"\"\"\n",
    "    super().__init__(n_steps, 1, reward_time)\n",
    "    self.reward_magnitudes = reward_magnitudes\n",
    "\n",
    "  def get_outcome(self, current_state):\n",
    "    next_state, reward = super().get_outcome(current_state)\n",
    "    if reward:\n",
    "      reward=np.random.choice(self.reward_magnitudes)\n",
    "    return next_state, reward\n",
    "\n",
    "\n",
    "class ProbabilisticCC(ClassicalConditioning):\n",
    "  \"\"\"Classical conditioning paradigm, except that rewards are stochastically omitted.\"\"\"\n",
    "  def __init__(self, n_steps, reward_magnitude, reward_time=None, p_reward=0.75):\n",
    "    \"\"\"\"Build a multi-reward classical conditioning environment\n",
    "      Args:\n",
    "        - nsteps: Maximum number of steps\n",
    "        - reward_magnitudes: Reward magnitudes.\n",
    "        - reward_time: Single fixed reward time.\n",
    "        - p_reward: probability that reward is actually delivered in rewarding state\n",
    "      Uses numpy global random state.\n",
    "      \"\"\"\n",
    "    super().__init__(n_steps, reward_magnitude, reward_time)\n",
    "    self.p_reward = p_reward\n",
    "\n",
    "  def get_outcome(self, current_state):\n",
    "    next_state, reward = super().get_outcome(current_state)\n",
    "    if reward:\n",
    "      reward*= int(np.random.uniform(size=1)[0] < self.p_reward)\n",
    "    return next_state, reward"
   ]
  },
  {
   "cell_type": "markdown",
   "metadata": {
    "execution": {}
   },
   "source": [
    "---\n",
    "# Section 1: Temporal difference learning"
   ]
  },
  {
   "cell_type": "markdown",
   "metadata": {},
   "source": [
    "##  Video 1: Introduction\n"
   ]
  },
  {
   "cell_type": "code",
   "execution_count": 6,
   "metadata": {
    "cellView": "form",
    "execution": {
     "iopub.execute_input": "2023-04-17T16:57:11.353024Z",
     "iopub.status.busy": "2023-04-17T16:57:11.352604Z",
     "iopub.status.idle": "2023-04-17T16:57:11.528480Z",
     "shell.execute_reply": "2023-04-17T16:57:11.527927Z"
    },
    "tags": [
     "remove-input"
    ]
   },
   "outputs": [
    {
     "data": {
      "application/vnd.jupyter.widget-view+json": {
       "model_id": "f6853d45ed8f489c885d1883086b2e66",
       "version_major": 2,
       "version_minor": 0
      },
      "text/plain": [
       "Tab(children=(Output(), Output()), selected_index=0, titles=('Youtube', 'Bilibili'))"
      ]
     },
     "metadata": {},
     "output_type": "display_data"
    }
   ],
   "source": [
    "# @title Video 1: Introduction\n",
    "from ipywidgets import widgets\n",
    "\n",
    "out2 = widgets.Output()\n",
    "with out2:\n",
    "  from IPython.display import IFrame\n",
    "  class BiliVideo(IFrame):\n",
    "      def __init__(self, id, page=1, width=400, height=300, **kwargs):\n",
    "          self.id=id\n",
    "          src = 'https://player.bilibili.com/player.html?bvid={0}&page={1}'.format(id, page)\n",
    "          super(BiliVideo, self).__init__(src, width, height, **kwargs)\n",
    "\n",
    "  video = BiliVideo(id=\"BV13f4y1d7om\", width=730, height=410, fs=1)\n",
    "  print('Video available at https://www.bilibili.com/video/{0}'.format(video.id))\n",
    "  display(video)\n",
    "\n",
    "out1 = widgets.Output()\n",
    "with out1:\n",
    "  from IPython.display import YouTubeVideo\n",
    "  video = YouTubeVideo(id=\"YoNbc9M92YY\", width=730, height=410, fs=1, rel=0)\n",
    "  print('Video available at https://youtube.com/watch?v=' + video.id)\n",
    "  display(video)\n",
    "\n",
    "out = widgets.Tab([out1, out2])\n",
    "out.titles = ['Youtube', 'Bilibili']\n",
    "\n",
    "display(out)"
   ]
  },
  {
   "cell_type": "markdown",
   "metadata": {
    "execution": {}
   },
   "source": [
    "__Environment:__\n",
    "\n",
    "- The agent experiences the environment in episodes (also known as trials). \n",
    "- Episodes terminate by transitioning to the inter-trial-interval (ITI) state and they are initiated from the ITI state as well. We clamp the value of the terminal/ITI states to zero. \n",
    "- The classical conditioning environment is composed of a sequence of states that the agent deterministically transitions through. Starting at State 0, the agent moves to State 1 in the first step, from State 1 to State 2 in the second, and so on.  These states represent time in what is called \"tapped delay line\" representation\n",
    "- Within each episode, the agent is presented with a CS (cue) and US (reward). \n",
    "- The CS (cue) is presented at the end of the first quarter the trial. The US (reward) is delivered shortly afterwards. The interval between the CS and US is specified by `reward_time`.\n",
    "- The agent's goal is to learn to predict expected rewards from each state in the trial. \n",
    "\n",
    "<br>\n",
    "\n",
    "**General concepts**\n",
    "\n",
    "Reference: McClelland, J. L., Rumelhart, D. E. (1989). Explorations in parallel distributed processing: A handbook of models, programs, and exercises. Chapter 9, MIT press. url: [web.stanford.edu/group/pdplab/pdphandbook/handbookch10.html](https://web.stanford.edu/group/pdplab/pdphandbook/handbookch10.html)\n",
    "\n",
    "<br> \n",
    "\n",
    "* Return $G_{t}$: future cumulative reward at time $t$:\n",
    "\\begin{equation}\n",
    "G_{t} = \\sum \\limits_{k = 0}^{\\infty} \\gamma^{k} r_{t+k+1}\n",
    "\\end{equation}\n",
    "where $r_{t}$ is the amount of reward received at time $t$, and $\\gamma \\in [0, 1]$ is a discount factor that specifies the relevance in the present of future rewards. \n",
    "Note that the return $G_{t}$ can be written in a recursive form:\n",
    "\\begin{equation}\n",
    "G_{t} = r_{t+1} + \\gamma G_{t+1}\n",
    "\\end{equation}\n",
    "\n",
    "* State $s$ describes the current state or situation, typically obtained from observations that the agent receives from the environment.\n",
    "\n",
    "* Policy $\\pi$ is a specification of how the agent acts. $\\pi(a|s)$ gives the probability of taking action $a$ when in state $s$.\n",
    "\n",
    "* The value function $V_{\\pi}(s_t=s)$ is defined as the expected return starting with state $s$ and successively following policy $\\pi$. Roughly speaking, the value function estimates \"how good\" it is to be in state $s$ when following policy $\\pi$.\n",
    "\\begin{align}\n",
    "V_{\\pi}(s_t=s) &= \\mathbb{E} [ G_{t}\\; | \\; s_t=s, a_{t:\\infty}\\sim\\pi] \\\\\n",
    "& = \\mathbb{E} [ r_{t+1} + \\gamma G_{t+1}\\; | \\; s_t=s, a_{t:\\infty}\\sim\\pi]\n",
    "\\end{align}\n",
    "\n",
    "* Combining the above, we have:\n",
    "\\begin{align}\n",
    "V_{\\pi}(s_t=s) &= \\mathbb{E} [ r_{t+1} + \\gamma V_{\\pi}(s_{t+1})\\; | \\; s_t=s, a_{t:\\infty}\\sim\\pi] \\\\\n",
    "&= \\sum_a \\pi(a|s) \\sum_{r, s'}p(s', r)(r + V_{\\pi}(s_{t+1}=s'))\n",
    "\\end{align}\n",
    "\n",
    "<br>\n",
    "\n",
    "**Temporal difference (TD) learning**\n",
    "\n",
    "* With a [Markovian assumption](https://en.wikipedia.org/wiki/Markov_property), we can use $V(s_{t+1})$ as a proxy for the true value of the return $G_{t+1}$. Thus, we obtain a generalized equation to calculate the TD-error:\n",
    "\\begin{align}\n",
    "\\delta_{t} = r_{t+1} + \\gamma V(s_{t+1}) - V(s_{t})\n",
    "\\end{align}\n",
    "\n",
    "* The TD-error measures the discrepancy between the values at time $t$ and $t+1$. Once the TD-error is calculated, we can perform a \"value update\" to to reduce the value discrepancy: \n",
    "\n",
    "\\begin{align}\n",
    "V(s_{t}) \\leftarrow V(s_{t}) + \\alpha \\delta_{t}\n",
    "\\end{align}\n",
    "\n",
    "* The speed by which the discrepancy is reduced is specified by a constant (aka hyperparameter) $\\alpha$, called learning rate. \n",
    "\n",
    "<br>\n",
    "\n",
    "**Definitions (tl;dr):**\n",
    "\n",
    "* Return:\n",
    "\\begin{equation}\n",
    "G_{t} = \\sum \\limits_{k = 0}^{\\infty} \\gamma^{k} r_{t+k+1} = r_{t+1} + \\gamma G_{t+1}\n",
    "\\end{equation}\n",
    "\n",
    "* TD-error:\n",
    "\\begin{equation}\n",
    "\\delta_{t} = r_{t+1} + \\gamma V(s_{t+1}) - V(s_{t})\n",
    "\\end{equation}\n",
    "\n",
    "* Value updates:\n",
    "\\begin{equation}\n",
    "V(s_{t}) \\leftarrow V(s_{t}) + \\alpha \\delta_{t}\n",
    "\\end{equation}"
   ]
  },
  {
   "cell_type": "markdown",
   "metadata": {
    "execution": {}
   },
   "source": [
    "## Coding Exercise 1: TD-learning with guaranteed rewards\n",
    "   \n",
    "In this exercise, you will implement TD-learning to estimate the state-value function in the classical conditioning paradigm. Rewards have fixed magnitude and are delivered at a fixed delay after the conditioned stimulus, CS. You should save the TD-errors over learning (i.e., over trials) so we can visualize them afterwards. \n",
    "\n",
    "In order to simulate the effect of the CS, you should update $V(s_{t})$ only during the delay period after CS. This period is indicated by the boolean variable `is_delay`. This can be implemented by multiplying the expression for updating the value function by `is_delay`.\n",
    "\n",
    "Use the provided code to estimate the value function. We will use helper class `ClassicalConditioning`."
   ]
  },
  {
   "cell_type": "code",
   "execution_count": 7,
   "metadata": {
    "execution": {
     "iopub.execute_input": "2023-04-17T16:57:11.539834Z",
     "iopub.status.busy": "2023-04-17T16:57:11.539610Z",
     "iopub.status.idle": "2023-04-17T16:57:11.765875Z",
     "shell.execute_reply": "2023-04-17T16:57:11.764796Z"
    }
   },
   "outputs": [
    {
     "ename": "NotImplementedError",
     "evalue": "Student exercise: implement TD error and value function update",
     "output_type": "error",
     "traceback": [
      "\u001b[0;31m---------------------------------------------------------------------------\u001b[0m",
      "\u001b[0;31mNotImplementedError\u001b[0m                       Traceback (most recent call last)",
      "Cell \u001b[0;32mIn[7], line 49\u001b[0m\n\u001b[1;32m     46\u001b[0m env \u001b[38;5;241m=\u001b[39m ClassicalConditioning(n_steps\u001b[38;5;241m=\u001b[39m\u001b[38;5;241m40\u001b[39m, reward_magnitude\u001b[38;5;241m=\u001b[39m\u001b[38;5;241m10\u001b[39m, reward_time\u001b[38;5;241m=\u001b[39m\u001b[38;5;241m10\u001b[39m)\n\u001b[1;32m     48\u001b[0m \u001b[38;5;66;03m# Perform temporal difference learning\u001b[39;00m\n\u001b[0;32m---> 49\u001b[0m V, TDE \u001b[38;5;241m=\u001b[39m \u001b[43mtd_learner\u001b[49m\u001b[43m(\u001b[49m\u001b[43menv\u001b[49m\u001b[43m,\u001b[49m\u001b[43m \u001b[49m\u001b[43mn_trials\u001b[49m\u001b[38;5;241;43m=\u001b[39;49m\u001b[38;5;241;43m20000\u001b[39;49m\u001b[43m)\u001b[49m\n\u001b[1;32m     51\u001b[0m \u001b[38;5;66;03m# Visualize\u001b[39;00m\n\u001b[1;32m     52\u001b[0m learning_summary_plot(V, TDE)\n",
      "Cell \u001b[0;32mIn[7], line 31\u001b[0m, in \u001b[0;36mtd_learner\u001b[0;34m(env, n_trials, gamma, alpha)\u001b[0m\n\u001b[1;32m     26\u001b[0m is_delay \u001b[38;5;241m=\u001b[39m env\u001b[38;5;241m.\u001b[39mstate_dict[state][\u001b[38;5;241m0\u001b[39m]\n\u001b[1;32m     28\u001b[0m \u001b[38;5;66;03m########################################################################\u001b[39;00m\n\u001b[1;32m     29\u001b[0m \u001b[38;5;66;03m## TODO for students: implement TD error and value function update\u001b[39;00m\n\u001b[1;32m     30\u001b[0m \u001b[38;5;66;03m# Fill out function and remove\u001b[39;00m\n\u001b[0;32m---> 31\u001b[0m \u001b[38;5;28;01mraise\u001b[39;00m \u001b[38;5;167;01mNotImplementedError\u001b[39;00m(\u001b[38;5;124m\"\u001b[39m\u001b[38;5;124mStudent exercise: implement TD error and value function update\u001b[39m\u001b[38;5;124m\"\u001b[39m)\n\u001b[1;32m     32\u001b[0m \u001b[38;5;66;03m#################################################################################\u001b[39;00m\n\u001b[1;32m     33\u001b[0m \u001b[38;5;66;03m# Write an expression to compute the TD-error\u001b[39;00m\n\u001b[1;32m     34\u001b[0m TDE[state, n] \u001b[38;5;241m=\u001b[39m \u001b[38;5;241m.\u001b[39m\u001b[38;5;241m.\u001b[39m\u001b[38;5;241m.\u001b[39m\n",
      "\u001b[0;31mNotImplementedError\u001b[0m: Student exercise: implement TD error and value function update"
     ]
    }
   ],
   "source": [
    "def td_learner(env, n_trials, gamma=0.98, alpha=0.001):\n",
    "  \"\"\" Temporal Difference learning\n",
    "\n",
    "  Args:\n",
    "    env (object): the environment to be learned\n",
    "    n_trials (int): the number of trials to run\n",
    "    gamma (float): temporal discount factor\n",
    "    alpha (float): learning rate\n",
    "\n",
    "  Returns:\n",
    "    ndarray, ndarray: the value function and temporal difference error arrays\n",
    "  \"\"\"\n",
    "  V = np.zeros(env.n_steps) # Array to store values over states (time)\n",
    "  TDE = np.zeros((env.n_steps, n_trials)) # Array to store TD errors\n",
    "\n",
    "  for n in range(n_trials):\n",
    "\n",
    "    state = 0 # Initial state\n",
    "\n",
    "    for t in range(env.n_steps):\n",
    "\n",
    "      # Get next state and next reward\n",
    "      next_state, reward = env.get_outcome(state)\n",
    "\n",
    "      # Is the current state in the delay period (after CS)?\n",
    "      is_delay = env.state_dict[state][0]\n",
    "\n",
    "      ########################################################################\n",
    "      ## TODO for students: implement TD error and value function update\n",
    "      # Fill out function and remove\n",
    "      raise NotImplementedError(\"Student exercise: implement TD error and value function update\")\n",
    "      #################################################################################\n",
    "      # Write an expression to compute the TD-error\n",
    "      TDE[state, n] = ...\n",
    "\n",
    "      # Write an expression to update the value function\n",
    "      V[state] += ...\n",
    "\n",
    "      # Update state\n",
    "      state = next_state\n",
    "\n",
    "  return V, TDE\n",
    "\n",
    "\n",
    "# Initialize classical conditioning class\n",
    "env = ClassicalConditioning(n_steps=40, reward_magnitude=10, reward_time=10)\n",
    "\n",
    "# Perform temporal difference learning\n",
    "V, TDE = td_learner(env, n_trials=20000)\n",
    "\n",
    "# Visualize\n",
    "learning_summary_plot(V, TDE)"
   ]
  },
  {
   "cell_type": "markdown",
   "metadata": {
    "colab_type": "text",
    "execution": {}
   },
   "source": [
    "[*Click for solution*](https://github.com/NeuromatchAcademy/course-content/tree/main//tutorials/W3D4_ReinforcementLearning/solutions/W3D4_Tutorial1_Solution_adeb004b.py)\n",
    "\n",
    "*Example output:*\n",
    "\n",
    "<img alt='Solution hint' align='left' width=828.0 height=539.0 src=https://raw.githubusercontent.com/NeuromatchAcademy/course-content/main/tutorials/W3D4_ReinforcementLearning/static/W3D4_Tutorial1_Solution_adeb004b_0.png>\n",
    "\n"
   ]
  },
  {
   "cell_type": "markdown",
   "metadata": {
    "execution": {}
   },
   "source": [
    "## Interactive Demo 1.1: US to CS Transfer \n",
    "\n",
    "During classical conditioning, the subject's behavioral response (e.g., salivating) transfers from the unconditioned stimulus (US; like the smell of tasty food) to the conditioned stimulus (CS; like Pavlov ringing his bell) that predicts it. Reward prediction errors play an important role in this process by adjusting the value of states according to their expected, discounted return.\n",
    "\n",
    "Recall that TD-errors are given by:\n",
    "\n",
    "\\begin{equation}\n",
    "\\delta_{t} = r_{t+1} + \\gamma V(s_{t+1}) - V(s_{t})\n",
    "\\end{equation}\n",
    "\n",
    "The delay period has zero reward, so throughout the learning phase, the TD-errors result from inconsistencies between $V(s_{t+1})$ and $V(s_{t})$ (note that the discount factor is set to zero in this example). The TD-errors for a given time point diminish once $V(s_{t})$ approaches $V(s_{t+1})$, but that causes the TD-error for the preceding time point to increase. Thus, throughout learning, the TD-errors will tend to move backwards in time.\n",
    "\n",
    "Use the widget below to examine how reward prediction errors change over time. \n",
    "\n",
    "Before training (orange line), only the reward state has high reward prediction error (blue line). As training progresses (slider), the reward prediction errors shift to the conditioned stimulus, where they end up when the trial is complete (green line). \n",
    "\n",
    "Dopamine neurons, which are thought to carry reward prediction errors _in vivo_, show exactly the same behavior!"
   ]
  },
  {
   "cell_type": "markdown",
   "metadata": {},
   "source": [
    "### \n"
   ]
  },
  {
   "cell_type": "markdown",
   "metadata": {},
   "source": [
    " Make sure you execute this cell to enable the widget!\n"
   ]
  },
  {
   "cell_type": "code",
   "execution_count": 8,
   "metadata": {
    "cellView": "form",
    "execution": {
     "iopub.execute_input": "2023-04-17T16:57:11.769835Z",
     "iopub.status.busy": "2023-04-17T16:57:11.769185Z",
     "iopub.status.idle": "2023-04-17T16:57:11.790063Z",
     "shell.execute_reply": "2023-04-17T16:57:11.789321Z"
    },
    "tags": [
     "hide-input"
    ]
   },
   "outputs": [
    {
     "data": {
      "application/vnd.jupyter.widget-view+json": {
       "model_id": "3f73449cc59d4e0eb3b1ada88c52a592",
       "version_major": 2,
       "version_minor": 0
      },
      "text/plain": [
       "interactive(children=(IntSlider(value=5000, description='Trial #', max=19999), Output()), _dom_classes=('widge…"
      ]
     },
     "metadata": {},
     "output_type": "display_data"
    }
   ],
   "source": [
    "#@title\n",
    "\n",
    "#@markdown Make sure you execute this cell to enable the widget!\n",
    "\n",
    "n_trials = 20000\n",
    "\n",
    "@widgets.interact\n",
    "def plot_tde_by_trial(trial = widgets.IntSlider(value=5000, min=0, max=n_trials-1 , step=1, description=\"Trial #\")):\n",
    "  if 'TDE' not in globals():\n",
    "    print(\"Complete Exercise 1 to enable this interactive demo!\")\n",
    "  else:\n",
    "\n",
    "    fig, ax = plt.subplots()\n",
    "    ax.axhline(0, color='k') # Use this + basefmt=' ' to keep the legend clean.\n",
    "    ax.stem(TDE[:, 0], linefmt='C1-', markerfmt='C1d', basefmt=' ',\n",
    "            label=\"Before Learning (Trial 0)\",\n",
    "            use_line_collection=True)\n",
    "    ax.stem(TDE[:, -1], linefmt='C2-', markerfmt='C2s', basefmt=' ',\n",
    "            label=\"After Learning (Trial $\\infty$)\",\n",
    "            use_line_collection=True)\n",
    "    ax.stem(TDE[:, trial], linefmt='C0-', markerfmt='C0o', basefmt=' ',\n",
    "            label=f\"Trial {trial}\",\n",
    "            use_line_collection=True)\n",
    "\n",
    "    ax.set_xlabel(\"State in trial\")\n",
    "    ax.set_ylabel(\"TD Error\")\n",
    "    ax.set_title(\"Temporal Difference Error by Trial\")\n",
    "    ax.legend()"
   ]
  },
  {
   "cell_type": "markdown",
   "metadata": {
    "execution": {}
   },
   "source": [
    "## Interactive Demo 1.2: Learning Rates and Discount Factors\n",
    "\n",
    "Our TD-learning agent has two parameters that control how it learns: $\\alpha$, the learning rate, and $\\gamma$, the discount factor. In Exercise 1, we set these parameters to $\\alpha=0.001$ and $\\gamma=0.98$ for you. Here, you'll investigate how changing these parameters alters the model that TD-learning learns.\n",
    "\n",
    "Before enabling the interactive demo below, take a moment to think about the functions of these two parameters. $\\alpha$ controls the size of the Value function updates produced by each TD-error. In our simple, deterministic world, will this affect the final model we learn? Is a larger $\\alpha$ necessarily better in more complex, realistic environments?\n",
    "\n",
    "The discount rate $\\gamma$ applies an exponentially-decaying weight to returns occuring in the future, rather than the present timestep. How does this affect the model we learn? What happens when $\\gamma=0$ or $\\gamma \\geq 1$?\n",
    "\n",
    "Use the widget to test your hypotheses.\n",
    "\n",
    "\n"
   ]
  },
  {
   "cell_type": "markdown",
   "metadata": {},
   "source": [
    "### \n"
   ]
  },
  {
   "cell_type": "markdown",
   "metadata": {},
   "source": [
    " Make sure you execute this cell to enable the widget!\n"
   ]
  },
  {
   "cell_type": "code",
   "execution_count": 9,
   "metadata": {
    "cellView": "form",
    "execution": {
     "iopub.execute_input": "2023-04-17T16:57:11.794745Z",
     "iopub.status.busy": "2023-04-17T16:57:11.794317Z",
     "iopub.status.idle": "2023-04-17T16:57:11.858621Z",
     "shell.execute_reply": "2023-04-17T16:57:11.857882Z"
    },
    "tags": [
     "hide-input"
    ]
   },
   "outputs": [
    {
     "data": {
      "application/vnd.jupyter.widget-view+json": {
       "model_id": "5ad5829d6260425abee13a5bc7c0cc3b",
       "version_major": 2,
       "version_minor": 0
      },
      "text/plain": [
       "interactive(children=(FloatSlider(value=0.0001, description='alpha', max=0.1, min=0.0001, readout_format='.4f'…"
      ]
     },
     "metadata": {},
     "output_type": "display_data"
    }
   ],
   "source": [
    "#@title\n",
    "\n",
    "#@markdown Make sure you execute this cell to enable the widget!\n",
    "\n",
    "@widgets.interact\n",
    "def plot_summary_alpha_gamma(alpha = widgets.FloatSlider(value=0.0001, min=0.0001, max=0.1, step=0.0001, readout_format='.4f', description=\"alpha\"),\n",
    "                             gamma = widgets.FloatSlider(value=0.980, min=0, max=1.1, step=0.010, description=\"gamma\")):\n",
    "  env = ClassicalConditioning(n_steps=40, reward_magnitude=10, reward_time=10)\n",
    "  try:\n",
    "    V_params, TDE_params = td_learner(env, n_trials=20000, gamma=gamma, alpha=alpha)\n",
    "  except NotImplementedError:\n",
    "    print(\"Finish Exercise 1 to enable this interactive demo\")\n",
    "\n",
    "  learning_summary_plot(V_params,TDE_params)"
   ]
  },
  {
   "cell_type": "markdown",
   "metadata": {
    "colab_type": "text",
    "execution": {}
   },
   "source": [
    "[*Click for solution*](https://github.com/NeuromatchAcademy/course-content/tree/main//tutorials/W3D4_ReinforcementLearning/solutions/W3D4_Tutorial1_Solution_80376f94.py)\n",
    "\n"
   ]
  },
  {
   "cell_type": "markdown",
   "metadata": {
    "execution": {}
   },
   "source": [
    "---\n",
    "# Section 2: TD-learning with varying reward magnitudes\n",
    "\n",
    "*Estimated timing to here from start of tutorial: 30 min*\n",
    "\n",
    "In the previous exercise, the environment was as simple as possible. On every trial, the CS predicted the same reward, at the same time, with 100% certainty. In the next few exercises, we will make the environment more progressively more complicated and examine the TD-learner's behavior. \n"
   ]
  },
  {
   "cell_type": "markdown",
   "metadata": {
    "execution": {}
   },
   "source": [
    "## Interactive Demo 2: Match the Value Functions\n",
    "\n",
    "First, will replace the environment with one that dispenses one of several rewards, chosen at random. Shown below is the final value function $V$ for a TD learner that was trained in an environment where the CS predicted a reward of 6 or 14 units; both rewards were equally likely). \n",
    "\n",
    "Can you find another pair of rewards that cause the agent to learn the same value function? Assume each reward will be dispensed 50% of the time. \n",
    "\n",
    "Hints:\n",
    "* Carefully consider the definition of the value function $V$. This can be solved analytically.\n",
    "* There is no need to change $\\alpha$ or $\\gamma$. \n",
    "* Due to the randomness, there may be a small amount of variation."
   ]
  },
  {
   "cell_type": "markdown",
   "metadata": {},
   "source": [
    " Make sure you execute this cell to enable the widget! Please allow some time for the new figure to load\n"
   ]
  },
  {
   "cell_type": "code",
   "execution_count": 10,
   "metadata": {
    "cellView": "form",
    "execution": {
     "iopub.execute_input": "2023-04-17T16:57:11.865087Z",
     "iopub.status.busy": "2023-04-17T16:57:11.864864Z",
     "iopub.status.idle": "2023-04-17T16:57:11.903624Z",
     "shell.execute_reply": "2023-04-17T16:57:11.902764Z"
    },
    "tags": [
     "hide-input"
    ]
   },
   "outputs": [
    {
     "ename": "NotImplementedError",
     "evalue": "Student exercise: implement TD error and value function update",
     "output_type": "error",
     "traceback": [
      "\u001b[0;31m---------------------------------------------------------------------------\u001b[0m",
      "\u001b[0;31mNotImplementedError\u001b[0m                       Traceback (most recent call last)",
      "Cell \u001b[0;32mIn[10], line 7\u001b[0m\n\u001b[1;32m      5\u001b[0m rng_state \u001b[38;5;241m=\u001b[39m np\u001b[38;5;241m.\u001b[39mrandom\u001b[38;5;241m.\u001b[39mget_state()\n\u001b[1;32m      6\u001b[0m env \u001b[38;5;241m=\u001b[39m MultiRewardCC(\u001b[38;5;241m40\u001b[39m, [\u001b[38;5;241m6\u001b[39m, \u001b[38;5;241m14\u001b[39m], reward_time\u001b[38;5;241m=\u001b[39m\u001b[38;5;241m10\u001b[39m)\n\u001b[0;32m----> 7\u001b[0m V_multi, TDE_multi \u001b[38;5;241m=\u001b[39m \u001b[43mtd_learner\u001b[49m\u001b[43m(\u001b[49m\u001b[43menv\u001b[49m\u001b[43m,\u001b[49m\u001b[43m \u001b[49m\u001b[43mn_trials\u001b[49m\u001b[43m,\u001b[49m\u001b[43m \u001b[49m\u001b[43mgamma\u001b[49m\u001b[38;5;241;43m=\u001b[39;49m\u001b[38;5;241;43m0.98\u001b[39;49m\u001b[43m,\u001b[49m\u001b[43m \u001b[49m\u001b[43malpha\u001b[49m\u001b[38;5;241;43m=\u001b[39;49m\u001b[38;5;241;43m0.001\u001b[39;49m\u001b[43m)\u001b[49m\n\u001b[1;32m      9\u001b[0m \u001b[38;5;129m@widgets\u001b[39m\u001b[38;5;241m.\u001b[39minteract\n\u001b[1;32m     10\u001b[0m \u001b[38;5;28;01mdef\u001b[39;00m \u001b[38;5;21mreward_guesser_interaction\u001b[39m(r1 \u001b[38;5;241m=\u001b[39m widgets\u001b[38;5;241m.\u001b[39mIntText(value\u001b[38;5;241m=\u001b[39m\u001b[38;5;241m0\u001b[39m, \u001b[38;5;28mmin\u001b[39m\u001b[38;5;241m=\u001b[39m\u001b[38;5;241m0\u001b[39m, \u001b[38;5;28mmax\u001b[39m\u001b[38;5;241m=\u001b[39m\u001b[38;5;241m50\u001b[39m, description\u001b[38;5;241m=\u001b[39m\u001b[38;5;124m\"\u001b[39m\u001b[38;5;124mReward 1\u001b[39m\u001b[38;5;124m\"\u001b[39m),\n\u001b[1;32m     11\u001b[0m                                r2 \u001b[38;5;241m=\u001b[39m widgets\u001b[38;5;241m.\u001b[39mIntText(value\u001b[38;5;241m=\u001b[39m\u001b[38;5;241m0\u001b[39m, \u001b[38;5;28mmin\u001b[39m\u001b[38;5;241m=\u001b[39m\u001b[38;5;241m0\u001b[39m, \u001b[38;5;28mmax\u001b[39m\u001b[38;5;241m=\u001b[39m\u001b[38;5;241m50\u001b[39m, description\u001b[38;5;241m=\u001b[39m\u001b[38;5;124m\"\u001b[39m\u001b[38;5;124mReward 2\u001b[39m\u001b[38;5;124m\"\u001b[39m)):\n\u001b[1;32m     12\u001b[0m   \u001b[38;5;28;01mtry\u001b[39;00m:\n",
      "Cell \u001b[0;32mIn[7], line 31\u001b[0m, in \u001b[0;36mtd_learner\u001b[0;34m(env, n_trials, gamma, alpha)\u001b[0m\n\u001b[1;32m     26\u001b[0m is_delay \u001b[38;5;241m=\u001b[39m env\u001b[38;5;241m.\u001b[39mstate_dict[state][\u001b[38;5;241m0\u001b[39m]\n\u001b[1;32m     28\u001b[0m \u001b[38;5;66;03m########################################################################\u001b[39;00m\n\u001b[1;32m     29\u001b[0m \u001b[38;5;66;03m## TODO for students: implement TD error and value function update\u001b[39;00m\n\u001b[1;32m     30\u001b[0m \u001b[38;5;66;03m# Fill out function and remove\u001b[39;00m\n\u001b[0;32m---> 31\u001b[0m \u001b[38;5;28;01mraise\u001b[39;00m \u001b[38;5;167;01mNotImplementedError\u001b[39;00m(\u001b[38;5;124m\"\u001b[39m\u001b[38;5;124mStudent exercise: implement TD error and value function update\u001b[39m\u001b[38;5;124m\"\u001b[39m)\n\u001b[1;32m     32\u001b[0m \u001b[38;5;66;03m#################################################################################\u001b[39;00m\n\u001b[1;32m     33\u001b[0m \u001b[38;5;66;03m# Write an expression to compute the TD-error\u001b[39;00m\n\u001b[1;32m     34\u001b[0m TDE[state, n] \u001b[38;5;241m=\u001b[39m \u001b[38;5;241m.\u001b[39m\u001b[38;5;241m.\u001b[39m\u001b[38;5;241m.\u001b[39m\n",
      "\u001b[0;31mNotImplementedError\u001b[0m: Student exercise: implement TD error and value function update"
     ]
    }
   ],
   "source": [
    "# @markdown Make sure you execute this cell to enable the widget! Please allow some time for the new figure to load\n",
    "\n",
    "n_trials = 20000\n",
    "np.random.seed(2020)\n",
    "rng_state = np.random.get_state()\n",
    "env = MultiRewardCC(40, [6, 14], reward_time=10)\n",
    "V_multi, TDE_multi = td_learner(env, n_trials, gamma=0.98, alpha=0.001)\n",
    "\n",
    "@widgets.interact\n",
    "def reward_guesser_interaction(r1 = widgets.IntText(value=0, min=0, max=50, description=\"Reward 1\"),\n",
    "                               r2 = widgets.IntText(value=0, min=0, max=50, description=\"Reward 2\")):\n",
    "  try:\n",
    "    env2 = MultiRewardCC(40, [r1, r2], reward_time=10)\n",
    "    V_guess, _ = td_learner(env2, n_trials, gamma=0.98, alpha=0.001)\n",
    "    fig, ax = plt.subplots()\n",
    "    m, l, _ = ax.stem(V_multi, linefmt='y-', markerfmt='yo', basefmt=' ', label=\"Target\",\n",
    "            use_line_collection=True)\n",
    "    m.set_markersize(15)\n",
    "    m.set_markerfacecolor('none')\n",
    "    l.set_linewidth(4)\n",
    "    m, _, _ = ax.stem(V_guess, linefmt='r', markerfmt='rx', basefmt=' ', label=\"Guess\",\n",
    "                      use_line_collection=True)\n",
    "    m.set_markersize(15)\n",
    "\n",
    "    ax.set_xlabel(\"State\")\n",
    "    ax.set_ylabel(\"Value\")\n",
    "    ax.set_title(\"Guess V(s)\\n\" + reward_guesser_title_hint(r1, r2))\n",
    "    ax.legend()\n",
    "  except NotImplementedError:\n",
    "    print(\"Please finish Exercise 1 first!\")"
   ]
  },
  {
   "cell_type": "markdown",
   "metadata": {
    "execution": {}
   },
   "source": [
    "## Think! 2: Examining the TD Error\n",
    "\n",
    "Run the cell below to plot the TD errors from our multi-reward environment. A new feature appears in this plot? What is it? Why does it happen?"
   ]
  },
  {
   "cell_type": "code",
   "execution_count": 11,
   "metadata": {
    "execution": {
     "iopub.execute_input": "2023-04-17T16:57:11.907098Z",
     "iopub.status.busy": "2023-04-17T16:57:11.906464Z",
     "iopub.status.idle": "2023-04-17T16:57:11.922127Z",
     "shell.execute_reply": "2023-04-17T16:57:11.921392Z"
    }
   },
   "outputs": [
    {
     "ename": "NameError",
     "evalue": "name 'TDE_multi' is not defined",
     "output_type": "error",
     "traceback": [
      "\u001b[0;31m---------------------------------------------------------------------------\u001b[0m",
      "\u001b[0;31mNameError\u001b[0m                                 Traceback (most recent call last)",
      "Cell \u001b[0;32mIn[11], line 1\u001b[0m\n\u001b[0;32m----> 1\u001b[0m plot_tde_trace(\u001b[43mTDE_multi\u001b[49m)\n",
      "\u001b[0;31mNameError\u001b[0m: name 'TDE_multi' is not defined"
     ]
    }
   ],
   "source": [
    "plot_tde_trace(TDE_multi)"
   ]
  },
  {
   "cell_type": "markdown",
   "metadata": {
    "colab_type": "text",
    "execution": {}
   },
   "source": [
    "[*Click for solution*](https://github.com/NeuromatchAcademy/course-content/tree/main//tutorials/W3D4_ReinforcementLearning/solutions/W3D4_Tutorial1_Solution_9fd42e7d.py)\n",
    "\n"
   ]
  },
  {
   "cell_type": "markdown",
   "metadata": {
    "execution": {}
   },
   "source": [
    "---\n",
    "# Section 3: TD-learning with probabilistic rewards\n",
    "*Estimated timing to here from start of tutorial: 40 min*"
   ]
  },
  {
   "cell_type": "markdown",
   "metadata": {
    "execution": {}
   },
   "source": [
    "## Think! 3: Probabilistic rewards\n",
    "\n",
    "\n",
    "In this environment, we'll return to delivering a single reward of ten units. However, it will be delivered intermittently: on 20 percent of trials, the CS will be shown but the agent will not receive the usual reward; the remaining 80% will proceed as usual.\n",
    "\n",
    "Run the cell below to simulate. Recall that earlier in the notebook, we saw that changing $\\alpha$ had little effect on learning in a deterministic environment. In the simulation below, $\\alpha$ is set to 1. What happens when the learning rate is set to such a large value in a probability reward setting? Does it seem like it will _ever_ converge? \n",
    "\n",
    "With a high learning rate, the value function tracks each observed reward, changing quickly whenever there is a reward prediction error. In a probabilistic scenario case, this behavior results in the value function changing too quickly and never stabilizing (converging). Using a low learning rate can stabilize the value function by smoothing out any variation in the reward signal, leading the value function to converge to the average reward over time. However, using a low learning rate can result in slow learning.\n",
    "\n",
    "To get the best of all worls, it is often useful to use a high learning rate early on (producing fast learning), and to reduce the learning rate gradually throughout learning (so that the value function converges to the average reward). This is sometimes called \"learning rate schedule\"."
   ]
  },
  {
   "cell_type": "markdown",
   "metadata": {},
   "source": [
    " Execute this cell to visualize the value function and TD-errors when `alpha=1`\n"
   ]
  },
  {
   "cell_type": "code",
   "execution_count": 12,
   "metadata": {
    "cellView": "form",
    "execution": {
     "iopub.execute_input": "2023-04-17T16:57:11.924914Z",
     "iopub.status.busy": "2023-04-17T16:57:11.924548Z",
     "iopub.status.idle": "2023-04-17T16:57:11.929503Z",
     "shell.execute_reply": "2023-04-17T16:57:11.928832Z"
    },
    "tags": [
     "hide-input"
    ]
   },
   "outputs": [
    {
     "name": "stdout",
     "output_type": "stream",
     "text": [
      "Please finish Exercise 1 first\n"
     ]
    }
   ],
   "source": [
    "# @markdown Execute this cell to visualize the value function and TD-errors when `alpha=1`\n",
    "np.random.set_state(rng_state)  # Resynchronize everyone's notebooks\n",
    "n_trials = 20000\n",
    "try:\n",
    "  env = ProbabilisticCC(n_steps=40, reward_magnitude=10, reward_time=10,\n",
    "                        p_reward=0.8)\n",
    "  V_stochastic, TDE_stochastic = td_learner(env, n_trials*2, alpha=1)\n",
    "  learning_summary_plot(V_stochastic, TDE_stochastic)\n",
    "except NotImplementedError:\n",
    "  print(\"Please finish Exercise 1 first\")"
   ]
  },
  {
   "cell_type": "markdown",
   "metadata": {},
   "source": [
    " Execute this cell to visualize the value function and TD-errors when `alpha=0.2`\n"
   ]
  },
  {
   "cell_type": "code",
   "execution_count": 13,
   "metadata": {
    "cellView": "form",
    "execution": {
     "iopub.execute_input": "2023-04-17T16:57:11.932737Z",
     "iopub.status.busy": "2023-04-17T16:57:11.932310Z",
     "iopub.status.idle": "2023-04-17T16:57:11.937239Z",
     "shell.execute_reply": "2023-04-17T16:57:11.936519Z"
    },
    "tags": [
     "hide-input"
    ]
   },
   "outputs": [
    {
     "name": "stdout",
     "output_type": "stream",
     "text": [
      "Please finish Exercise 1 first\n"
     ]
    }
   ],
   "source": [
    "# @markdown Execute this cell to visualize the value function and TD-errors when `alpha=0.2`\n",
    "np.random.set_state(rng_state)  # Resynchronize everyone's notebooks\n",
    "n_trials = 20000\n",
    "try:\n",
    "  env = ProbabilisticCC(n_steps=40, reward_magnitude=10, reward_time=10,\n",
    "                        p_reward=0.8)\n",
    "  V_stochastic, TDE_stochastic = td_learner(env, n_trials*2, alpha=.2)\n",
    "  learning_summary_plot(V_stochastic, TDE_stochastic)\n",
    "except NotImplementedError:\n",
    "  print(\"Please finish Exercise 1 first\")"
   ]
  },
  {
   "cell_type": "markdown",
   "metadata": {
    "colab_type": "text",
    "execution": {}
   },
   "source": [
    "[*Click for solution*](https://github.com/NeuromatchAcademy/course-content/tree/main//tutorials/W3D4_ReinforcementLearning/solutions/W3D4_Tutorial1_Solution_6e708fa1.py)\n",
    "\n"
   ]
  },
  {
   "cell_type": "markdown",
   "metadata": {
    "execution": {}
   },
   "source": [
    "---\n",
    "# Summary\n",
    "\n",
    "*Estimated timing of tutorial: 50 min*\n",
    "\n",
    "In this notebook, we have developed a simple TD Learner and examined how its state representations and reward prediction errors evolve during training. By manipulating its environment and parameters ($\\alpha$, $\\gamma$), you developed an intuition for how it behaves. \n",
    "\n",
    "This simple model closely resembles the behavior of subjects undergoing classical conditioning tasks and the dopamine neurons that may underlie that behavior. You may have implemented TD-reset or used the model to recreate a common experimental error. The update rule used here has been extensively studied for [more than 70 years](https://www.pnas.org/content/108/Supplement_3/15647) as a possible explanation for artificial and biological learning. \n",
    "\n",
    "However, you may have noticed that something is missing from this notebook. We carefully calculated the value of each state, but did not use it to actually do anything. Using values to plan _**Actions**_ is coming up next!"
   ]
  },
  {
   "cell_type": "markdown",
   "metadata": {
    "execution": {}
   },
   "source": [
    "---\n",
    "# Bonus"
   ]
  },
  {
   "cell_type": "markdown",
   "metadata": {
    "execution": {}
   },
   "source": [
    "## Bonus Think! 1: Removing the CS\n",
    "\n",
    "In Coding Exercise 1, you (should have) included a term that depends on the conditioned stimulus. Remove it and see what happens. Do you understand why?\n",
    "This phenomena often fools people attempting to train animals--beware!"
   ]
  },
  {
   "cell_type": "markdown",
   "metadata": {
    "colab_type": "text",
    "execution": {}
   },
   "source": [
    "[*Click for solution*](https://github.com/NeuromatchAcademy/course-content/tree/main//tutorials/W3D4_ReinforcementLearning/solutions/W3D4_Tutorial1_Solution_f4fa447c.py)\n",
    "\n"
   ]
  }
 ],
 "metadata": {
  "colab": {
   "collapsed_sections": [],
   "include_colab_link": true,
   "name": "W3D4_Tutorial1",
   "provenance": [],
   "toc_visible": true
  },
  "kernel": {
   "display_name": "Python 3",
   "language": "python",
   "name": "python3"
  },
  "kernelspec": {
   "display_name": "Python 3",
   "language": "python",
   "name": "python3"
  },
  "language_info": {
   "codemirror_mode": {
    "name": "ipython",
    "version": 3
   },
   "file_extension": ".py",
   "mimetype": "text/x-python",
   "name": "python",
   "nbconvert_exporter": "python",
   "pygments_lexer": "ipython3",
   "version": "3.11.3"
  },
  "widgets": {
   "application/vnd.jupyter.widget-state+json": {
    "state": {
     "01bfdfe8b8f24e188cdea2302593e5c9": {
      "model_module": "@jupyter-widgets/output",
      "model_module_version": "1.0.0",
      "model_name": "OutputModel",
      "state": {
       "_dom_classes": [],
       "_model_module": "@jupyter-widgets/output",
       "_model_module_version": "1.0.0",
       "_model_name": "OutputModel",
       "_view_count": null,
       "_view_module": "@jupyter-widgets/output",
       "_view_module_version": "1.0.0",
       "_view_name": "OutputView",
       "layout": "IPY_MODEL_6c5c26aed3444cf2a883f85574fe8b6e",
       "msg_id": "",
       "outputs": [
        {
         "name": "stdout",
         "output_type": "stream",
         "text": "Video available at https://www.bilibili.com/video/BV13f4y1d7om\n"
        },
        {
         "data": {
          "text/html": "\n        <iframe\n            width=\"730\"\n            height=\"410\"\n            src=\"https://player.bilibili.com/player.html?bvid=BV13f4y1d7om&page=1?fs=1\"\n            frameborder=\"0\"\n            allowfullscreen\n            \n        ></iframe>\n        ",
          "text/plain": "<__main__.BiliVideo at 0x7fe6d08ed410>"
         },
         "metadata": {},
         "output_type": "display_data"
        }
       ],
       "tabbable": null,
       "tooltip": null
      }
     },
     "0d00519a5c3546ba826cde189e2541a9": {
      "model_module": "@jupyter-widgets/base",
      "model_module_version": "2.0.0",
      "model_name": "LayoutModel",
      "state": {
       "_model_module": "@jupyter-widgets/base",
       "_model_module_version": "2.0.0",
       "_model_name": "LayoutModel",
       "_view_count": null,
       "_view_module": "@jupyter-widgets/base",
       "_view_module_version": "2.0.0",
       "_view_name": "LayoutView",
       "align_content": null,
       "align_items": null,
       "align_self": null,
       "border_bottom": null,
       "border_left": null,
       "border_right": null,
       "border_top": null,
       "bottom": null,
       "display": null,
       "flex": null,
       "flex_flow": null,
       "grid_area": null,
       "grid_auto_columns": null,
       "grid_auto_flow": null,
       "grid_auto_rows": null,
       "grid_column": null,
       "grid_gap": null,
       "grid_row": null,
       "grid_template_areas": null,
       "grid_template_columns": null,
       "grid_template_rows": null,
       "height": null,
       "justify_content": null,
       "justify_items": null,
       "left": null,
       "margin": null,
       "max_height": null,
       "max_width": null,
       "min_height": null,
       "min_width": null,
       "object_fit": null,
       "object_position": null,
       "order": null,
       "overflow": null,
       "padding": null,
       "right": null,
       "top": null,
       "visibility": null,
       "width": null
      }
     },
     "1769249b1cb740309979cb70ac2e06f6": {
      "model_module": "@jupyter-widgets/controls",
      "model_module_version": "2.0.0",
      "model_name": "IntSliderModel",
      "state": {
       "_dom_classes": [],
       "_model_module": "@jupyter-widgets/controls",
       "_model_module_version": "2.0.0",
       "_model_name": "IntSliderModel",
       "_view_count": null,
       "_view_module": "@jupyter-widgets/controls",
       "_view_module_version": "2.0.0",
       "_view_name": "IntSliderView",
       "behavior": "drag-tap",
       "continuous_update": true,
       "description": "Trial #",
       "description_allow_html": false,
       "disabled": false,
       "layout": "IPY_MODEL_64fceb9a351444ce8deb1c46c90c9937",
       "max": 19999,
       "min": 0,
       "orientation": "horizontal",
       "readout": true,
       "readout_format": "d",
       "step": 1,
       "style": "IPY_MODEL_bc298770458b4e0cba29d3a7ccfd10f3",
       "tabbable": null,
       "tooltip": null,
       "value": 5000
      }
     },
     "3d919b0d792741cc815e12b556ddbfc4": {
      "model_module": "@jupyter-widgets/output",
      "model_module_version": "1.0.0",
      "model_name": "OutputModel",
      "state": {
       "_dom_classes": [],
       "_model_module": "@jupyter-widgets/output",
       "_model_module_version": "1.0.0",
       "_model_name": "OutputModel",
       "_view_count": null,
       "_view_module": "@jupyter-widgets/output",
       "_view_module_version": "1.0.0",
       "_view_name": "OutputView",
       "layout": "IPY_MODEL_f33faec3c49541768f8db0ec15e66154",
       "msg_id": "",
       "outputs": [
        {
         "name": "stdout",
         "output_type": "stream",
         "text": "Complete Exercise 1 to enable this interactive demo!\n"
        }
       ],
       "tabbable": null,
       "tooltip": null
      }
     },
     "3f73449cc59d4e0eb3b1ada88c52a592": {
      "model_module": "@jupyter-widgets/controls",
      "model_module_version": "2.0.0",
      "model_name": "VBoxModel",
      "state": {
       "_dom_classes": [
        "widget-interact"
       ],
       "_model_module": "@jupyter-widgets/controls",
       "_model_module_version": "2.0.0",
       "_model_name": "VBoxModel",
       "_view_count": null,
       "_view_module": "@jupyter-widgets/controls",
       "_view_module_version": "2.0.0",
       "_view_name": "VBoxView",
       "box_style": "",
       "children": [
        "IPY_MODEL_1769249b1cb740309979cb70ac2e06f6",
        "IPY_MODEL_3d919b0d792741cc815e12b556ddbfc4"
       ],
       "layout": "IPY_MODEL_0d00519a5c3546ba826cde189e2541a9",
       "tabbable": null,
       "tooltip": null
      }
     },
     "441d8b40dc5c4b27ae38969c0dd96aae": {
      "model_module": "@jupyter-widgets/base",
      "model_module_version": "2.0.0",
      "model_name": "LayoutModel",
      "state": {
       "_model_module": "@jupyter-widgets/base",
       "_model_module_version": "2.0.0",
       "_model_name": "LayoutModel",
       "_view_count": null,
       "_view_module": "@jupyter-widgets/base",
       "_view_module_version": "2.0.0",
       "_view_name": "LayoutView",
       "align_content": null,
       "align_items": null,
       "align_self": null,
       "border_bottom": null,
       "border_left": null,
       "border_right": null,
       "border_top": null,
       "bottom": null,
       "display": null,
       "flex": null,
       "flex_flow": null,
       "grid_area": null,
       "grid_auto_columns": null,
       "grid_auto_flow": null,
       "grid_auto_rows": null,
       "grid_column": null,
       "grid_gap": null,
       "grid_row": null,
       "grid_template_areas": null,
       "grid_template_columns": null,
       "grid_template_rows": null,
       "height": null,
       "justify_content": null,
       "justify_items": null,
       "left": null,
       "margin": null,
       "max_height": null,
       "max_width": null,
       "min_height": null,
       "min_width": null,
       "object_fit": null,
       "object_position": null,
       "order": null,
       "overflow": null,
       "padding": null,
       "right": null,
       "top": null,
       "visibility": null,
       "width": null
      }
     },
     "5ad5829d6260425abee13a5bc7c0cc3b": {
      "model_module": "@jupyter-widgets/controls",
      "model_module_version": "2.0.0",
      "model_name": "VBoxModel",
      "state": {
       "_dom_classes": [
        "widget-interact"
       ],
       "_model_module": "@jupyter-widgets/controls",
       "_model_module_version": "2.0.0",
       "_model_name": "VBoxModel",
       "_view_count": null,
       "_view_module": "@jupyter-widgets/controls",
       "_view_module_version": "2.0.0",
       "_view_name": "VBoxView",
       "box_style": "",
       "children": [
        "IPY_MODEL_b27db2048a9d4ab09e4fd2f8604302cd",
        "IPY_MODEL_f3eb83efa5434ed58a14fe4e33cc8329",
        "IPY_MODEL_be629c26014b43e6a2a6b315f70e47a6"
       ],
       "layout": "IPY_MODEL_e6dc969b046a4dde93f91b2b57e6a9aa",
       "tabbable": null,
       "tooltip": null
      }
     },
     "64fceb9a351444ce8deb1c46c90c9937": {
      "model_module": "@jupyter-widgets/base",
      "model_module_version": "2.0.0",
      "model_name": "LayoutModel",
      "state": {
       "_model_module": "@jupyter-widgets/base",
       "_model_module_version": "2.0.0",
       "_model_name": "LayoutModel",
       "_view_count": null,
       "_view_module": "@jupyter-widgets/base",
       "_view_module_version": "2.0.0",
       "_view_name": "LayoutView",
       "align_content": null,
       "align_items": null,
       "align_self": null,
       "border_bottom": null,
       "border_left": null,
       "border_right": null,
       "border_top": null,
       "bottom": null,
       "display": null,
       "flex": null,
       "flex_flow": null,
       "grid_area": null,
       "grid_auto_columns": null,
       "grid_auto_flow": null,
       "grid_auto_rows": null,
       "grid_column": null,
       "grid_gap": null,
       "grid_row": null,
       "grid_template_areas": null,
       "grid_template_columns": null,
       "grid_template_rows": null,
       "height": null,
       "justify_content": null,
       "justify_items": null,
       "left": null,
       "margin": null,
       "max_height": null,
       "max_width": null,
       "min_height": null,
       "min_width": null,
       "object_fit": null,
       "object_position": null,
       "order": null,
       "overflow": null,
       "padding": null,
       "right": null,
       "top": null,
       "visibility": null,
       "width": null
      }
     },
     "6c5c26aed3444cf2a883f85574fe8b6e": {
      "model_module": "@jupyter-widgets/base",
      "model_module_version": "2.0.0",
      "model_name": "LayoutModel",
      "state": {
       "_model_module": "@jupyter-widgets/base",
       "_model_module_version": "2.0.0",
       "_model_name": "LayoutModel",
       "_view_count": null,
       "_view_module": "@jupyter-widgets/base",
       "_view_module_version": "2.0.0",
       "_view_name": "LayoutView",
       "align_content": null,
       "align_items": null,
       "align_self": null,
       "border_bottom": null,
       "border_left": null,
       "border_right": null,
       "border_top": null,
       "bottom": null,
       "display": null,
       "flex": null,
       "flex_flow": null,
       "grid_area": null,
       "grid_auto_columns": null,
       "grid_auto_flow": null,
       "grid_auto_rows": null,
       "grid_column": null,
       "grid_gap": null,
       "grid_row": null,
       "grid_template_areas": null,
       "grid_template_columns": null,
       "grid_template_rows": null,
       "height": null,
       "justify_content": null,
       "justify_items": null,
       "left": null,
       "margin": null,
       "max_height": null,
       "max_width": null,
       "min_height": null,
       "min_width": null,
       "object_fit": null,
       "object_position": null,
       "order": null,
       "overflow": null,
       "padding": null,
       "right": null,
       "top": null,
       "visibility": null,
       "width": null
      }
     },
     "6e51193f7686486697de5c7768b89441": {
      "model_module": "@jupyter-widgets/output",
      "model_module_version": "1.0.0",
      "model_name": "OutputModel",
      "state": {
       "_dom_classes": [],
       "_model_module": "@jupyter-widgets/output",
       "_model_module_version": "1.0.0",
       "_model_name": "OutputModel",
       "_view_count": null,
       "_view_module": "@jupyter-widgets/output",
       "_view_module_version": "1.0.0",
       "_view_name": "OutputView",
       "layout": "IPY_MODEL_94f6a2bf1f51459eb9b204d6a41592a1",
       "msg_id": "",
       "outputs": [
        {
         "name": "stdout",
         "output_type": "stream",
         "text": "Video available at https://youtube.com/watch?v=YoNbc9M92YY\n"
        },
        {
         "data": {
          "image/jpeg": "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\n",
          "text/html": "\n        <iframe\n            width=\"730\"\n            height=\"410\"\n            src=\"https://www.youtube.com/embed/YoNbc9M92YY?fs=1&rel=0\"\n            frameborder=\"0\"\n            allowfullscreen\n            \n        ></iframe>\n        ",
          "text/plain": "<IPython.lib.display.YouTubeVideo at 0x7fe6d08fbc90>"
         },
         "metadata": {},
         "output_type": "display_data"
        }
       ],
       "tabbable": null,
       "tooltip": null
      }
     },
     "83a2eddd8c824e918419de44817c9cb3": {
      "model_module": "@jupyter-widgets/base",
      "model_module_version": "2.0.0",
      "model_name": "LayoutModel",
      "state": {
       "_model_module": "@jupyter-widgets/base",
       "_model_module_version": "2.0.0",
       "_model_name": "LayoutModel",
       "_view_count": null,
       "_view_module": "@jupyter-widgets/base",
       "_view_module_version": "2.0.0",
       "_view_name": "LayoutView",
       "align_content": null,
       "align_items": null,
       "align_self": null,
       "border_bottom": null,
       "border_left": null,
       "border_right": null,
       "border_top": null,
       "bottom": null,
       "display": null,
       "flex": null,
       "flex_flow": null,
       "grid_area": null,
       "grid_auto_columns": null,
       "grid_auto_flow": null,
       "grid_auto_rows": null,
       "grid_column": null,
       "grid_gap": null,
       "grid_row": null,
       "grid_template_areas": null,
       "grid_template_columns": null,
       "grid_template_rows": null,
       "height": null,
       "justify_content": null,
       "justify_items": null,
       "left": null,
       "margin": null,
       "max_height": null,
       "max_width": null,
       "min_height": null,
       "min_width": null,
       "object_fit": null,
       "object_position": null,
       "order": null,
       "overflow": null,
       "padding": null,
       "right": null,
       "top": null,
       "visibility": null,
       "width": null
      }
     },
     "94f6a2bf1f51459eb9b204d6a41592a1": {
      "model_module": "@jupyter-widgets/base",
      "model_module_version": "2.0.0",
      "model_name": "LayoutModel",
      "state": {
       "_model_module": "@jupyter-widgets/base",
       "_model_module_version": "2.0.0",
       "_model_name": "LayoutModel",
       "_view_count": null,
       "_view_module": "@jupyter-widgets/base",
       "_view_module_version": "2.0.0",
       "_view_name": "LayoutView",
       "align_content": null,
       "align_items": null,
       "align_self": null,
       "border_bottom": null,
       "border_left": null,
       "border_right": null,
       "border_top": null,
       "bottom": null,
       "display": null,
       "flex": null,
       "flex_flow": null,
       "grid_area": null,
       "grid_auto_columns": null,
       "grid_auto_flow": null,
       "grid_auto_rows": null,
       "grid_column": null,
       "grid_gap": null,
       "grid_row": null,
       "grid_template_areas": null,
       "grid_template_columns": null,
       "grid_template_rows": null,
       "height": null,
       "justify_content": null,
       "justify_items": null,
       "left": null,
       "margin": null,
       "max_height": null,
       "max_width": null,
       "min_height": null,
       "min_width": null,
       "object_fit": null,
       "object_position": null,
       "order": null,
       "overflow": null,
       "padding": null,
       "right": null,
       "top": null,
       "visibility": null,
       "width": null
      }
     },
     "9db6f082333f4437bb3fcff6a7a496df": {
      "model_module": "@jupyter-widgets/base",
      "model_module_version": "2.0.0",
      "model_name": "LayoutModel",
      "state": {
       "_model_module": "@jupyter-widgets/base",
       "_model_module_version": "2.0.0",
       "_model_name": "LayoutModel",
       "_view_count": null,
       "_view_module": "@jupyter-widgets/base",
       "_view_module_version": "2.0.0",
       "_view_name": "LayoutView",
       "align_content": null,
       "align_items": null,
       "align_self": null,
       "border_bottom": null,
       "border_left": null,
       "border_right": null,
       "border_top": null,
       "bottom": null,
       "display": null,
       "flex": null,
       "flex_flow": null,
       "grid_area": null,
       "grid_auto_columns": null,
       "grid_auto_flow": null,
       "grid_auto_rows": null,
       "grid_column": null,
       "grid_gap": null,
       "grid_row": null,
       "grid_template_areas": null,
       "grid_template_columns": null,
       "grid_template_rows": null,
       "height": null,
       "justify_content": null,
       "justify_items": null,
       "left": null,
       "margin": null,
       "max_height": null,
       "max_width": null,
       "min_height": null,
       "min_width": null,
       "object_fit": null,
       "object_position": null,
       "order": null,
       "overflow": null,
       "padding": null,
       "right": null,
       "top": null,
       "visibility": null,
       "width": null
      }
     },
     "b0e17c78ceb64cb0a7e4c291522ed278": {
      "model_module": "@jupyter-widgets/base",
      "model_module_version": "2.0.0",
      "model_name": "LayoutModel",
      "state": {
       "_model_module": "@jupyter-widgets/base",
       "_model_module_version": "2.0.0",
       "_model_name": "LayoutModel",
       "_view_count": null,
       "_view_module": "@jupyter-widgets/base",
       "_view_module_version": "2.0.0",
       "_view_name": "LayoutView",
       "align_content": null,
       "align_items": null,
       "align_self": null,
       "border_bottom": null,
       "border_left": null,
       "border_right": null,
       "border_top": null,
       "bottom": null,
       "display": null,
       "flex": null,
       "flex_flow": null,
       "grid_area": null,
       "grid_auto_columns": null,
       "grid_auto_flow": null,
       "grid_auto_rows": null,
       "grid_column": null,
       "grid_gap": null,
       "grid_row": null,
       "grid_template_areas": null,
       "grid_template_columns": null,
       "grid_template_rows": null,
       "height": null,
       "justify_content": null,
       "justify_items": null,
       "left": null,
       "margin": null,
       "max_height": null,
       "max_width": null,
       "min_height": null,
       "min_width": null,
       "object_fit": null,
       "object_position": null,
       "order": null,
       "overflow": null,
       "padding": null,
       "right": null,
       "top": null,
       "visibility": null,
       "width": null
      }
     },
     "b27db2048a9d4ab09e4fd2f8604302cd": {
      "model_module": "@jupyter-widgets/controls",
      "model_module_version": "2.0.0",
      "model_name": "FloatSliderModel",
      "state": {
       "_dom_classes": [],
       "_model_module": "@jupyter-widgets/controls",
       "_model_module_version": "2.0.0",
       "_model_name": "FloatSliderModel",
       "_view_count": null,
       "_view_module": "@jupyter-widgets/controls",
       "_view_module_version": "2.0.0",
       "_view_name": "FloatSliderView",
       "behavior": "drag-tap",
       "continuous_update": true,
       "description": "alpha",
       "description_allow_html": false,
       "disabled": false,
       "layout": "IPY_MODEL_83a2eddd8c824e918419de44817c9cb3",
       "max": 0.1,
       "min": 0.0001,
       "orientation": "horizontal",
       "readout": true,
       "readout_format": ".4f",
       "step": 0.0001,
       "style": "IPY_MODEL_c6215c6750ac4afa996bc6accea64279",
       "tabbable": null,
       "tooltip": null,
       "value": 0.0001
      }
     },
     "bc298770458b4e0cba29d3a7ccfd10f3": {
      "model_module": "@jupyter-widgets/controls",
      "model_module_version": "2.0.0",
      "model_name": "SliderStyleModel",
      "state": {
       "_model_module": "@jupyter-widgets/controls",
       "_model_module_version": "2.0.0",
       "_model_name": "SliderStyleModel",
       "_view_count": null,
       "_view_module": "@jupyter-widgets/base",
       "_view_module_version": "2.0.0",
       "_view_name": "StyleView",
       "description_width": "",
       "handle_color": null
      }
     },
     "be629c26014b43e6a2a6b315f70e47a6": {
      "model_module": "@jupyter-widgets/output",
      "model_module_version": "1.0.0",
      "model_name": "OutputModel",
      "state": {
       "_dom_classes": [],
       "_model_module": "@jupyter-widgets/output",
       "_model_module_version": "1.0.0",
       "_model_name": "OutputModel",
       "_view_count": null,
       "_view_module": "@jupyter-widgets/output",
       "_view_module_version": "1.0.0",
       "_view_name": "OutputView",
       "layout": "IPY_MODEL_9db6f082333f4437bb3fcff6a7a496df",
       "msg_id": "",
       "outputs": [
        {
         "name": "stdout",
         "output_type": "stream",
         "text": "Finish Exercise 1 to enable this interactive demo\n"
        },
        {
         "ename": "UnboundLocalError",
         "evalue": "cannot access local variable 'V_params' where it is not associated with a value",
         "output_type": "error",
         "traceback": [
          "\u001b[0;31m---------------------------------------------------------------------------\u001b[0m",
          "\u001b[0;31mUnboundLocalError\u001b[0m                         Traceback (most recent call last)",
          "File \u001b[0;32m~/work/course-content/course-content/.tox/run/lib/python3.11/site-packages/ipywidgets/widgets/interaction.py:240\u001b[0m, in \u001b[0;36minteractive.update\u001b[0;34m(self, *args)\u001b[0m\n\u001b[1;32m    238\u001b[0m     value \u001b[38;5;241m=\u001b[39m widget\u001b[38;5;241m.\u001b[39mget_interact_value()\n\u001b[1;32m    239\u001b[0m     \u001b[38;5;28mself\u001b[39m\u001b[38;5;241m.\u001b[39mkwargs[widget\u001b[38;5;241m.\u001b[39m_kwarg] \u001b[38;5;241m=\u001b[39m value\n\u001b[0;32m--> 240\u001b[0m \u001b[38;5;28mself\u001b[39m\u001b[38;5;241m.\u001b[39mresult \u001b[38;5;241m=\u001b[39m \u001b[38;5;28;43mself\u001b[39;49m\u001b[38;5;241;43m.\u001b[39;49m\u001b[43mf\u001b[49m\u001b[43m(\u001b[49m\u001b[38;5;241;43m*\u001b[39;49m\u001b[38;5;241;43m*\u001b[39;49m\u001b[38;5;28;43mself\u001b[39;49m\u001b[38;5;241;43m.\u001b[39;49m\u001b[43mkwargs\u001b[49m\u001b[43m)\u001b[49m\n\u001b[1;32m    241\u001b[0m show_inline_matplotlib_plots()\n\u001b[1;32m    242\u001b[0m \u001b[38;5;28;01mif\u001b[39;00m \u001b[38;5;28mself\u001b[39m\u001b[38;5;241m.\u001b[39mauto_display \u001b[38;5;129;01mand\u001b[39;00m \u001b[38;5;28mself\u001b[39m\u001b[38;5;241m.\u001b[39mresult \u001b[38;5;129;01mis\u001b[39;00m \u001b[38;5;129;01mnot\u001b[39;00m \u001b[38;5;28;01mNone\u001b[39;00m:\n",
          "Cell \u001b[0;32mIn[9], line 14\u001b[0m, in \u001b[0;36mplot_summary_alpha_gamma\u001b[0;34m(alpha, gamma)\u001b[0m\n\u001b[1;32m     11\u001b[0m \u001b[38;5;28;01mexcept\u001b[39;00m \u001b[38;5;167;01mNotImplementedError\u001b[39;00m:\n\u001b[1;32m     12\u001b[0m   \u001b[38;5;28mprint\u001b[39m(\u001b[38;5;124m\"\u001b[39m\u001b[38;5;124mFinish Exercise 1 to enable this interactive demo\u001b[39m\u001b[38;5;124m\"\u001b[39m)\n\u001b[0;32m---> 14\u001b[0m learning_summary_plot(\u001b[43mV_params\u001b[49m,TDE_params)\n",
          "\u001b[0;31mUnboundLocalError\u001b[0m: cannot access local variable 'V_params' where it is not associated with a value"
         ]
        }
       ],
       "tabbable": null,
       "tooltip": null
      }
     },
     "c30f8f1e7e8f481ca0f7a552fb9a7183": {
      "model_module": "@jupyter-widgets/controls",
      "model_module_version": "2.0.0",
      "model_name": "SliderStyleModel",
      "state": {
       "_model_module": "@jupyter-widgets/controls",
       "_model_module_version": "2.0.0",
       "_model_name": "SliderStyleModel",
       "_view_count": null,
       "_view_module": "@jupyter-widgets/base",
       "_view_module_version": "2.0.0",
       "_view_name": "StyleView",
       "description_width": "",
       "handle_color": null
      }
     },
     "c6215c6750ac4afa996bc6accea64279": {
      "model_module": "@jupyter-widgets/controls",
      "model_module_version": "2.0.0",
      "model_name": "SliderStyleModel",
      "state": {
       "_model_module": "@jupyter-widgets/controls",
       "_model_module_version": "2.0.0",
       "_model_name": "SliderStyleModel",
       "_view_count": null,
       "_view_module": "@jupyter-widgets/base",
       "_view_module_version": "2.0.0",
       "_view_name": "StyleView",
       "description_width": "",
       "handle_color": null
      }
     },
     "e6dc969b046a4dde93f91b2b57e6a9aa": {
      "model_module": "@jupyter-widgets/base",
      "model_module_version": "2.0.0",
      "model_name": "LayoutModel",
      "state": {
       "_model_module": "@jupyter-widgets/base",
       "_model_module_version": "2.0.0",
       "_model_name": "LayoutModel",
       "_view_count": null,
       "_view_module": "@jupyter-widgets/base",
       "_view_module_version": "2.0.0",
       "_view_name": "LayoutView",
       "align_content": null,
       "align_items": null,
       "align_self": null,
       "border_bottom": null,
       "border_left": null,
       "border_right": null,
       "border_top": null,
       "bottom": null,
       "display": null,
       "flex": null,
       "flex_flow": null,
       "grid_area": null,
       "grid_auto_columns": null,
       "grid_auto_flow": null,
       "grid_auto_rows": null,
       "grid_column": null,
       "grid_gap": null,
       "grid_row": null,
       "grid_template_areas": null,
       "grid_template_columns": null,
       "grid_template_rows": null,
       "height": null,
       "justify_content": null,
       "justify_items": null,
       "left": null,
       "margin": null,
       "max_height": null,
       "max_width": null,
       "min_height": null,
       "min_width": null,
       "object_fit": null,
       "object_position": null,
       "order": null,
       "overflow": null,
       "padding": null,
       "right": null,
       "top": null,
       "visibility": null,
       "width": null
      }
     },
     "f33faec3c49541768f8db0ec15e66154": {
      "model_module": "@jupyter-widgets/base",
      "model_module_version": "2.0.0",
      "model_name": "LayoutModel",
      "state": {
       "_model_module": "@jupyter-widgets/base",
       "_model_module_version": "2.0.0",
       "_model_name": "LayoutModel",
       "_view_count": null,
       "_view_module": "@jupyter-widgets/base",
       "_view_module_version": "2.0.0",
       "_view_name": "LayoutView",
       "align_content": null,
       "align_items": null,
       "align_self": null,
       "border_bottom": null,
       "border_left": null,
       "border_right": null,
       "border_top": null,
       "bottom": null,
       "display": null,
       "flex": null,
       "flex_flow": null,
       "grid_area": null,
       "grid_auto_columns": null,
       "grid_auto_flow": null,
       "grid_auto_rows": null,
       "grid_column": null,
       "grid_gap": null,
       "grid_row": null,
       "grid_template_areas": null,
       "grid_template_columns": null,
       "grid_template_rows": null,
       "height": null,
       "justify_content": null,
       "justify_items": null,
       "left": null,
       "margin": null,
       "max_height": null,
       "max_width": null,
       "min_height": null,
       "min_width": null,
       "object_fit": null,
       "object_position": null,
       "order": null,
       "overflow": null,
       "padding": null,
       "right": null,
       "top": null,
       "visibility": null,
       "width": null
      }
     },
     "f3eb83efa5434ed58a14fe4e33cc8329": {
      "model_module": "@jupyter-widgets/controls",
      "model_module_version": "2.0.0",
      "model_name": "FloatSliderModel",
      "state": {
       "_dom_classes": [],
       "_model_module": "@jupyter-widgets/controls",
       "_model_module_version": "2.0.0",
       "_model_name": "FloatSliderModel",
       "_view_count": null,
       "_view_module": "@jupyter-widgets/controls",
       "_view_module_version": "2.0.0",
       "_view_name": "FloatSliderView",
       "behavior": "drag-tap",
       "continuous_update": true,
       "description": "gamma",
       "description_allow_html": false,
       "disabled": false,
       "layout": "IPY_MODEL_b0e17c78ceb64cb0a7e4c291522ed278",
       "max": 1.1,
       "min": 0.0,
       "orientation": "horizontal",
       "readout": true,
       "readout_format": ".2f",
       "step": 0.01,
       "style": "IPY_MODEL_c30f8f1e7e8f481ca0f7a552fb9a7183",
       "tabbable": null,
       "tooltip": null,
       "value": 0.98
      }
     },
     "f6853d45ed8f489c885d1883086b2e66": {
      "model_module": "@jupyter-widgets/controls",
      "model_module_version": "2.0.0",
      "model_name": "TabModel",
      "state": {
       "_dom_classes": [],
       "_model_module": "@jupyter-widgets/controls",
       "_model_module_version": "2.0.0",
       "_model_name": "TabModel",
       "_view_count": null,
       "_view_module": "@jupyter-widgets/controls",
       "_view_module_version": "2.0.0",
       "_view_name": "TabView",
       "box_style": "",
       "children": [
        "IPY_MODEL_6e51193f7686486697de5c7768b89441",
        "IPY_MODEL_01bfdfe8b8f24e188cdea2302593e5c9"
       ],
       "layout": "IPY_MODEL_441d8b40dc5c4b27ae38969c0dd96aae",
       "selected_index": 0,
       "tabbable": null,
       "titles": [
        "Youtube",
        "Bilibili"
       ],
       "tooltip": null
      }
     }
    },
    "version_major": 2,
    "version_minor": 0
   }
  }
 },
 "nbformat": 4,
 "nbformat_minor": 0
}
